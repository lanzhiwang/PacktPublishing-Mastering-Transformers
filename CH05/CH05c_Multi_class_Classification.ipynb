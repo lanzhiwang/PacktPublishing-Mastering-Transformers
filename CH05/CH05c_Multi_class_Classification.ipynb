{
  "cells": [
    {
      "cell_type": "markdown",
      "metadata": {
        "id": "K8rPS5-aTUys"
      },
      "source": [
        "# Fine-Tuning Language Models for Text Classification\n",
        "用于文本分类的微调语言模型\n",
        "\n",
        "##### FineTuning BERT for Multi-Class Classification with custom datasets\n",
        "\n",
        "## Preparation for Google Colab"
      ]
    },
    {
      "cell_type": "code",
      "execution_count": null,
      "metadata": {
        "id": "EN4_w-K1SQBl"
      },
      "outputs": [],
      "source": [
        "import os\n",
        "from google.colab import drive\n",
        "\n",
        "#  挂载 google 云盘\n",
        "drive.mount(\"/content/drive\")\n",
        "\n",
        "print(os.getcwd())  # /content\n",
        "\n",
        "# print(os.listdir(\"/content/drive/MyDrive/\"))\n",
        "\n",
        "# print(os.listdir(\"/content/drive/MyDrive/Colab Notebooks\"))\n",
        "\n",
        "# if os.getcwd() != \"/content/drive/MyDrive\":\n",
        "#     os.chdir(\"/content/drive/MyDrive\")\n",
        "\n",
        "# print(os.getcwd())"
      ]
    },
    {
      "cell_type": "code",
      "execution_count": null,
      "metadata": {
        "id": "FWHouDlHSQEm"
      },
      "outputs": [],
      "source": [
        "# 提前将 requirements.txt 放在 google 云盘上\n",
        "!pip install -r /content/drive/MyDrive/requirements.txt"
      ]
    },
    {
      "cell_type": "code",
      "execution_count": 3,
      "metadata": {
        "colab": {
          "base_uri": "https://localhost:8080/"
        },
        "id": "O-uhqZ6lSQH4",
        "outputId": "2ab01ec6-0485-434e-adf1-bbd8d7318f76"
      },
      "outputs": [
        {
          "name": "stdout",
          "output_type": "stream",
          "text": [
            "/content/drive/MyDrive/ch05c\n"
          ]
        }
      ],
      "source": [
        "subdir = \"ch05c\"\n",
        "work_path = \"/content/drive/MyDrive/\" + subdir\n",
        "if not os.path.exists(work_path):\n",
        "    os.mkdir(work_path)\n",
        "os.chdir(work_path)\n",
        "print(os.getcwd())"
      ]
    },
    {
      "cell_type": "code",
      "execution_count": 4,
      "metadata": {
        "colab": {
          "base_uri": "https://localhost:8080/"
        },
        "id": "g7ktMp9bSQKx",
        "outputId": "34cc6931-7c57-4781-b54c-fde062c5d4a0"
      },
      "outputs": [
        {
          "name": "stdout",
          "output_type": "stream",
          "text": [
            "Reading package lists... Done\n",
            "Building dependency tree... Done\n",
            "Reading state information... Done\n",
            "tree is already the newest version (2.0.2-1).\n",
            "0 upgraded, 0 newly installed, 0 to remove and 29 not upgraded.\n",
            "\u001b[01;34m./\u001b[0m\n",
            "\n",
            "0 directories, 0 files\n"
          ]
        }
      ],
      "source": [
        "!apt-get install tree && tree -a \"./\""
      ]
    },
    {
      "cell_type": "markdown",
      "metadata": {
        "id": "4p8rHzYVBUJU"
      },
      "source": [
        "## Obtaining and Preparing downstream task data"
      ]
    },
    {
      "cell_type": "code",
      "execution_count": 5,
      "metadata": {
        "colab": {
          "base_uri": "https://localhost:8080/"
        },
        "id": "jeUi2zttmYBO",
        "outputId": "8a2894ca-8671-4ed3-84ab-5fe623536368"
      },
      "outputs": [
        {
          "name": "stdout",
          "output_type": "stream",
          "text": [
            "--2025-02-28 07:14:30--  https://raw.githubusercontent.com/savasy/TurkishTextClassification/master/TTC4900.csv\n",
            "Resolving raw.githubusercontent.com (raw.githubusercontent.com)... 185.199.108.133, 185.199.111.133, 185.199.110.133, ...\n",
            "Connecting to raw.githubusercontent.com (raw.githubusercontent.com)|185.199.108.133|:443... connected.\n",
            "HTTP request sent, awaiting response... 200 OK\n",
            "Length: 10627541 (10M) [text/plain]\n",
            "Saving to: ‘TTC4900.csv’\n",
            "\n",
            "TTC4900.csv         100%[===================>]  10.13M  19.4MB/s    in 0.5s    \n",
            "\n",
            "2025-02-28 07:14:31 (19.4 MB/s) - ‘TTC4900.csv’ saved [10627541/10627541]\n",
            "\n"
          ]
        }
      ],
      "source": [
        "if \"TTC4900.csv\" not in os.listdir():\n",
        "    !wget  https://raw.githubusercontent.com/savasy/TurkishTextClassification/master/TTC4900.csv\n",
        "else:\n",
        "    print(\"Already there!\")"
      ]
    },
    {
      "cell_type": "code",
      "execution_count": 6,
      "metadata": {
        "colab": {
          "base_uri": "https://localhost:8080/"
        },
        "id": "kymeo1LbTCDb",
        "outputId": "233240e1-d6ca-4ed7-b2fa-4a53133f745e"
      },
      "outputs": [
        {
          "name": "stdout",
          "output_type": "stream",
          "text": [
            "\u001b[01;34m./\u001b[0m\n",
            "└── \u001b[00mTTC4900.csv\u001b[0m\n",
            "\n",
            "0 directories, 1 file\n"
          ]
        }
      ],
      "source": [
        "!tree -a ./"
      ]
    },
    {
      "cell_type": "code",
      "execution_count": 7,
      "metadata": {
        "colab": {
          "base_uri": "https://localhost:8080/"
        },
        "id": "0Ceb0sPkTJd1",
        "outputId": "9c34edcc-12b1-489b-b358-ffba92f3c926"
      },
      "outputs": [
        {
          "name": "stdout",
          "output_type": "stream",
          "text": [
            "category,text\n",
            "siyaset , 3 milyon ile ön seçim vaadi mhp nin 10 olağan büyük kurultayı nda konuşan genel başkan adayı koray_aydın seçimlerden önce partinin üye sayısının 3 milyona ulaştırılması hedefini koyarak ön seçim uygulaması vaadinde bulundu mhp nin 10 olağan büyük kurultayı nda konuşan genel başkan adayı koray_aydın seçimlerden önce partinin üye sayısının 3 milyona ulaştırılması hedefini koyarak ön seçim uygulaması vaadinde bulundu genel_başkan adayı koray_aydın kürsüye beklenirken yapılan tezahüratlar ve ıslıklamalar üzerine divan başkanı tuğrul_türkeş mhp nin genel başkanlığı da genel başkan adaylığı da saygıdeğer işlerdir bu salondaki herkes ciddiye almak zorundadır dedi ve taşkınlıklara izin verilmeyeceğini salonda sükunet sağlanmadan konuşmaların başlamayacağını vurguladı türkeş devlet_bahçeli nin kurultay açılışında konuştuğu için adaylık nedeniyle ikinci bir konuşma yapmayacağını açıkladı konuşmasında kurultayın mhp nin tek başına iktidarına vesile olmasını dileyen aydın ak_parti nin mhp yi eleştirirken kaleleri bir bir fethederek yollarına devam ettiklerini söylediğini hatırlatarak iktidarın basın ve sivil toplumu susturduğunu ifade etti ak_parti nin bürokraside taş üstüne taş bırakmadığını ileri süren aydın ülkücüleri düşman kabule ederek onları kıyma makinelerinden geçirecek bir zihniyetle sürgün ederek oraya buraya saldırarak bürokrasideki ülkücü kadrolara savaş açtılar dedi yaşanan bütün skandalların ardından devleti çete mantığıyla yöneten siyasi iktidarın olduğunu savunan aydın iktidarın belediyelere sahte raporlarla ve dinlemelerle saldırdığını savunan aydın arkasından habur dan içeri soktukları vatan hainlerine karşılama törenleri yetmez gibi oslo da teröristlerle kurdukları pazarlık masalarında suçüstü yakalanınca da ben görmedim diyerek bunu ispat edecek biri varsa şerefle ispat etsin diyerek ses kayıtları çıkınca da kıvırarak sahiplenemeyerek yaptığı işin üzerine şal örtmeye çalışarak siyasi riyakarlıkta sınır tanımayan siyasi iktidarla karşı karşıyayız diye konuştu mintika temizliği yapiyorlar ak_parti nin ne yaptığını iyi bildiğini türkiye de ihtilal teşebbüsü var diyerek ordunun subaylarını yargılama adı altında cezaevine koyduğunu savunan aydın önce milletin bu darbeciler ortadan kalksın diyerek desteklediği sonra plan gereği sürek avına çevirerek türk ordusunun neredeyse yarısını içeri atan bu zihniyet mıntıka temizliği yapıyor kuracakları yeni türkiye modeline engel olmasın diye bunları kaldırıyorlar bu işi haince yapanlar ne zaman ki şehit cenazeleri türkiye yi ağlatmaya başlarken acılarımızla yaşarken türkiye nin başbakanı gerekirse öcalan la yeniden görüşebilirim diyor sayın_başbakan ne görüşeceksin öcalan la ne söyleyeceksin oraya bir masa koymuşsun masanın üstünde türkiye karşında öcalan ne kadar istiyorsun şu kadar versem yeter mi diyeceksin öcalan yüzsüzlük eder de türkiye nin tamamını isterse ne yapacaksın diye konuştu o zaman ne yapacağiz yeni anayasa kapsamında türk milletinin adının anayasadan çıkarılarak bir alt kimlik haline getirileceğini türk milletine etnisite temelli yaklaşılacağını savunan aydın bu_türk milletinin varlığını ötüken de söğüt te türk olan türk milletinin varlığını ortadan kaldırma çabasıdır bu işin sonudur çünkü şu anda kendisiyle benzeşen anamuhalefetle anlaşıp anayasadan türk milletinin adını çıkarırlarsa yapılacak bir şey kalmaz meclis sayısal çoğunlukla yönetiliyor bunlar sinsi her işi alttan alttan götürüyorlar böyle bir adım atar bu büyük milletin adını çıkararak türk milletini bir alt kimlik haline dönüştürürlerse ne yapacağız bunu yaparlarsa 5 yıl 10 yıl sonra bu ülkenin adının türkiye olmasına gerek yoktur derlerse ne yapacağız bu sinsi planı iyi görelim bunu için bir şeyler yapmamız harekete geçmemiz lazım dedi şubat ta 1 milyon olarak toplanirsak … kimsenin türkiye de olanlara arkasını dönemeyeceğini ifade eden aydın özetle şunları söyledi meydanlara ineceğiz türk milletine gideceğiz milletle bütünleşeceğiz onu bekleyen bu tehlikeler hakkında uyaracağız anlatacağız onu yanımıza almaya çalışacağız o büyük gücü harekete geçirir meydanlara iner onların dikkatini çekip yanımıza alırsak şubat ayında 1 milyon olarak toplanırsak hangi vatan hainleri bunu yapmaya cesaret edebilir türk milletinin bunu anlamasını sağlamamız lazım bunun için güçlü bir mhp ye ihtiyaç var 43 yıllık fikri birikimi üzerinden türk milletini bütün problemlerine getireceği çözüm önerilerini bir iktidar projesine dönüştürerek türk milletini karşısına çıkıp iktidar istersek bu coşku ve heyecanı ona aksettirirsek bu millet bu şaşkınlıkla etrafına bakınırken ben nereye bakacağım sorusunu sorarken bu millet elimizi tutacak ve mhp ile yeniden ayağa kalkacaktır hedef 3 milyon üye bu mücadelede ilk doğru adımın ülkücü hareketin birliğini ve dirliğini sağlamak olduğunu kaydeden aydın harekete bir gün bile hizmet etmiş her ülküdaşlarıyla kucaklaşmak ve bir araya gelmek mecburiyetinde olduklarını ifade etti ülkücüleri ülküdaşlık hukuku temelinde kaynaştırmadan büyük hedeflere yürüyemeyeceklerini anlatan aydın bunu temel hareket noktası kabul ediyoruz birey temelli bir hareketin başlaması için önce partide üyelik sistemini bir kampanyaya çevireceğiz seçime kadar 3 milyon üye yaparak ailelerimizin fertlerini genişleteceğiz bunu iller arası yarışa çevireceğiz mhp nin 3 milyon üyeli geniş aile haline gelmesini sağlayacağız dedi önseçim vaadi genel_başkan seçilmesi halinde mhp ailesini genişleteceğini kaydeden aydın bunu yapınca bu 3 milyon kişi kurulan sandıklarla yapacağı bir ön seçimi size vaat ediyorum bunu taban güvenmek demektir böyle bir ön seçim yapıldı mı ankara da kimse genel merkez katlarında dolaşmayacak tabana size gidecek hasta olanın düğünü olanın yanında olacak yere düşeni ayağa kaldıracak böylece bu büyük aile fertleri bir birini anlayacak bu güzel sözün olduğu ortamın inşası demektir bu kötü söz olanın tasfiye edileceği liyakatın esas alınacağı yeni bir sistemin gelmesin demektir bu adımı atar aile fertleri arasında huzuru sağlarsak örgütlenme modelini buna paralel değiştirirsek mhp nin içinde huzur sağlanır diye konuştu bu bir kişiyi korumak için kelle avcısı rolü üstlenip ülküdaşlarını yok farz ederek küskünler ordusu yarattığın bir sitemin anlaşılması demektir diyen aydın mhp her yerde sloganıyla parti içinde hareketlilik sağlayacaklarını halka dokunacaklarını ifade etti ve tabanla bütünleşmiş mhp ye ihtiyaç var bunun içi bir iktidar projesi koyarak aday olduk biz iktidar olmak istiyoruz dedi aydın türk milletinin yalnızlığı yaşadığı bir durumda etrafına bakındığı kendini kaldıracak birini bekleyen türkiye nin mhp nin kendisine ulaşmasıyla yarın elbet bizimdir diye haykıracağını ifade etti haber anka foto emre senoglu murat oztek\n",
            "siyaset , mesut_yılmaz yüce_divan da ceza alabilirdi prof dr sacit adalı isviçre deki banka eski başbakan mesut_yılmaz ın bankada 14 milyon doları var iddiasına cevap verseydi yüce_divan da hakkında verilen karar daha farklı olabilirdi dedi anayasa_mahkemesi eski üyesi turgut_özal üniversitesi hukuk_fakültesi dekanı prof dr sacit adalı isviçre deki banka eski başbakan mesut_yılmaz ın bankada 14 milyon doları var iddiasına cevap verseydi yüce_divan da hakkında verilen karar daha farklı olabilirdi dedi adalı yüce_divan ın rüşvet aldığı iddia edilen eski yargıtay 6 hukuk_dairesi başkanı hasan erdoğan ile rüşvet vermekle suçlanan istanbul_ticaret_odası başkanı murat_yalçıntaş ın da aralarında bulunduğu 15 sanık hakkında soruşturma evresinde elde edilen delillerden bir kısmının hukuka uygun olmaması nedeniyle verdiği beraat kararını değerlendirdi bu bir takdir meselesidir diyen adalı anayasa_mahkemesi üyelerinin görüşlerine saygı duyduğunu söyledi adalı kanun dışı delillerin davanın seyrini değiştirebilecek durumda ise kabul edilebileceğini belirtti rüşvet alınıp verilirken kameralar çalışmamış tam çekemeyince ortada bir şey yok sadece polislerin gördük dediği olaylar var diyen adalı anayasa_mahkemesi üyelerinin çoğunluğunun bunu kabul etmediğini kaydetti adalı bu üyelerin takip etmenin hakim kararıyla olması gerekirken adalet müfettişinin emriyle yapıldığını söylediklerini karara muhalif olan üyelerin ise müfettişlerin resmi makam oluşları ve güvenlik güçlerinin onların emriyle takip etmesini makul karşıladıklarını belirterek bunu delil saydıklarını bildirdi mesut_yılmaz hakkındaki iddia adalı size göre yasa dışı elde edilen deliller kabul edilebilir mi sorusuna mesut_yılmaz ın 2006 da yüce_divan da yargılandığı davayla ilgili görüşünü açıklayarak şu yanıtı verdi anayasa_mahkemesi yılmaz ın yüce_divan da yargılanmasında böyle bir durumu kaale almıştı yasa dışı elde edilen delillerin araştırılmasını kabul etmişti mahkemeye yurt dışından imzası olmayan sahte isimle bir mektup gelmişti mektupta mesut_yılmaz ın isviçre nin şu bankasındaki şu numaralı hesabında 14 milyon doları var deniliyordu mahkeme bunu çok tartıştı imzasız mektup asla kabul edilemez denildi ama ortada 14 milyon dolar gibi yüksek bir rakam vardı ya doğruysa hiç değilse soralım denildi ve isviçre deki bankaya soruldu banka ticari sırdır mudilerimizin hesabının sırrını veremeyiz dedi mahkeme ısrar etti ikinci kez devlet adına istedi gene vermediler mahkeme mesut_yılmaz hakkında devlet eski bakanı güneş taner le birlikte türkbank ihalesine fesat karıştırdıkları iddiasıyla yargılandıkları davada davanın kesin hükme bağlanmasını şartla salıverilme yasası uyarınca erteledi daha farklı karar çıkabilecekti adalı o belge delil olsaydı belki ceza alabilirdi sözlerine evet yanıtını verdi adalı eğer hakikaten isviçre den evet doğru bu kadar para var cevabı gelseydi herhalde mahkeme imzasız ve isimsiz diye onu reddetmeyecek ve kaale alacaktı mesut_yılmaz hakkında daha farklı bir karar çıkabilecekti dedi bu durumda yasa dışı elde edilen delillerin kabul edilebileceğini belirten adalı prensipte kabul edilmemesi lazım ama önemli bir bulguya ulaştıracaksa davanın seyrine tesir edecek bir belge şahitlik gibi bir şey ortaya koyacaksa diğer başka deliller de onu destekliyorsa kabul edilebilir diye konuştu coşkun ergül aa\n",
            "siyaset , disko lar kaldırılıyor başbakan_yardımcısı arınç disko diye tabir edilen disiplin koğuşlarının kaldırılacağını söyledi bakanlar_kurulu toplantısı sona erdi başbakan_recep_tayyip_erdoğan başkanlığında başbakanlık_merkez_bina daki toplantı yaklaşık 6 saat sürdü toplantının ardından başbakan_yardımcısı ve hükümet sözcüsü bülent_arınç açıklama yaptı tsk disiplin kanunu nda değişiklik milli_savunma_bakanı_ismet_yılmaz ın da türk_silahlı_kuvvetleri tsk disiplin kanunu tasarısı adıyla bir sunum yaptığını ifade eden arınç 49 maddeden oluşan tasarıyla tsk personeline uygulanacak disiplin hükümlerinin yeniden düzenlendiğini kaydetti bu tasarı ile tsk disiplin kanunu nda kamuoyunda zaman zaman tartışılan şikayetlere yol açan bazı konuların düzenlendiğine işaret eden arınç tasarı ile oda ve göz hapsi cezalarının kaldırıldığını disko diye tabir edilen disiplin koğuşları ve disiplin ceza ve tutukevlerinin kaldırılacağını anlattı disiplin mahkemeleri yerine disiplin kurullarının teşkil edilmesinin öngörüldüğünü daha önce yargı yolu kapalı bazı disiplin cezalarına yargı yolunun açıldığını belirten arınç tsk da görev yapan sivil memurların kapsam dışına çıkarılarak bunların 657 sayılı devlet memurları kanuna tabi hale getirileceğini bildirdi arınç şahin ve yılmaz ın sunumlarını yaptığı tasarıların bakanlar_kurulu nda benimsenerek tbmm ye gönderilmesine karar verildiğini söyledi 4 yargı paketi arınç adalet_bakanı_sadullah_ergin in de kamuoyunda 4 yargı paketi olarak bilinen bazı_kanunlarda değişiklik yapan kanun tasarısı hakkında bilgi sunduğunu ifade etti tasarıyla ilgili genelde olumlu görüşler bildirildiğini ancak bazı maddelerinin tekrar ele alınması bu maddelerdeki düzenlemelerin kanunlardaki düzenlemelere paralel hale getirilmesinin uygun görüldüğünü kaydetti adalet_bakanlığı nın hazırladığı kanun tasarısının daha önce de bir kez bakanlar_kurulu nda görüşüldüğünü anımsatan arınç 8 kanunda 20 den fazla maddede değişiklik yapılmaktadır bunların bir kısmı avrupa_insan_hakları_mahkemesi nde bulunan davalarımız ve bu davaların nitelikleriyle ilgili gelişmeler üzerine yapılmıştır bir kısım maddeler tamamen teknik maddelerdir bir kısmı ise suçun unsurlarında ve ceza hadlerinde değişiklik yapılması amaçlanmaktadır henüz tasarı haline gelmemiştir önümüzdeki bakanlar_kurulu nda tekrar görüşülecektir dedi turgut_özal ın otopsisi arınç turgut_özal ın otopsisinde 4 çeşit zehir bulunduğu iddiasına ilişkin bunların otopsi raporu sonucunda elde edilen bilgiler ve bulgular olduğu söylendi doğru da olabilir yanlış da olabilir henüz otopsi raporunun bizim tarafımızdan da sizler tarafından da bilinmesinin bilinmesinin mümkün olmadığını düşünüyorum ama doğru olan şudur otopsi raporunun verilmesinden sonra adli_tıp ın 1 ihtisas dairesi nin bu rapora göre kesin kendi düşüncesini bildirmesi ve raporunu yazması gerekiyor bizim de sizin de mahkemelerin de yargının da dikkate alacağı tek şey 1 ihtisas kurulu nun bu konu hakkındaki raporunu veya sonucunu hepimizin bildikten sonra olabileceğini söyleyebilirim hepimiz adli_tıp ın raporunu bekleyeceğiz kendi düşüncesinin sorulması üzerine arınç şahsi düşüncem zaten bu konuda söz konusu olamaz bu bir teknik konudur diye konuştu her olay arkasından gerekirse otopsinin yapıldığını ifade eden arınç şöyle konuştu ben zamanında da yapılmış olmasını doğrusu arzu ederdim bir cumhurbaşkanı vefat ediyor şu veya bu sebeple en azından bir klasik otopsi yapılmasında fayda olurdu bu düşüncemi daha önce de ifade etmiştim diye konuştu savcının lüzum gördüğü her adli vakada otopsi yaptığını belirten arınç eğer klasik otopsinin ötesinde de bazı şüpheler evhamlar iddialar olursa o zaman tam otopsi yapılabilir bir ceza avukatı olarak bunu bilgime dayanarak söylüyorum ama yıllar sonra iddialar ortaya atıldıkça ve devlet_denetleme_kurulu da bu konuda ciddi bir rapor verdikten sonra sayın_cumhurbaşkanımızın talimatıyla başlamıştı yargı harekete geçti fethi kabir yapıldı orada varlığı bilinen vücuda ait bir takım birikimler üzerinde otopsi yapıldı ve bunun raporu adli_tıp a sunulmak üzere hazırlandı diye biliyorum hepimiz adli_tıp ın raporunu bekleyeceğiz dedi patriot füzeleri arınç nato dan talep edilen patriot füzelerine ilişkin olarak yarın itibarıyla bu konuda türkiye ye teknik bir heyet gelecektir ve nerelere konuşlanabileceği adetlerinin ne olabileceği konusunda nato ya rapor vereceklerdir umarız kısa zamanda türkiye nin bu savunmasına katkı sağlamak amacıyla patriot füzelerinin nereye konuşlanacağı ve ne miktarda olacağı kesinlikle bizim de karar sürecinde olacağımız bir şekilde kabul edilmiş olacak dedi arınç türkiye nin nato dan talep ettiği patriot hava ve füze savunma sistemlerine ilişkin biz nato üyesi bir ülkeyiz nato nun bütünlüğü içerisinde yer alıyoruz sadece savunma amaçlı olarak bu füzelerin türkiye de konuşlanmasına ihtiyaç olduğunu düşünüyoruz dedi arınç bağdat merkezi hükümetiyle irak ın kuzeyindeki bölgesel yönetim arasında ihtilaf konuları var biz_türkiye olarak irak ın bütünlüğünü kabul etmiş bağdat hükümetiyle ilişkileri bulunan bir hükümet olarak bu sorunların kendi içlerinde diplomasi ve barış yoluyla çözülmesinden yanayız bu tartışmaların bu silahlı çatışmaların hiçbir zaman tarafı da olmayacağız ama kerkük teki yurttaşlarımızın soydaşlarımızın güvenliklerini hayat varlıklarını tehdit eden bir gelişme olursa türkiye irak hükümeti nezdinde de diğer otonom yönetim nezdinde de gerekli çabaları gösteriyor ve gösterecek dedi\n",
            "siyaset , sarıgül anayasa_mahkemesi ne gidiyor mustafa_sarıgül ilçedeki sınır değişikliğine itiraz için anayasa_mahkemesi ne başvuracak şişli_belediye_başkanı_mustafa_sarıgül büyükşehir_yasası ile birlikte ilçedeki sınır değişikliliğine itiraz için cuma günü anayasa_mahkemesi ne başvuruda bulunacak büyükşehir_yasası ile birlikte şişli den alınarak sarıyer e bağlanan maslak ayazağa ve huzur mahalleleri ile karar anayasa_mahkemesi ne taşınıyor şişli_belediye_başkanı_mustafa_sarıgül ün bölgeyi temsil eden belediye meclis üyeleri ve mahalle muhtarlarından oluşan bir heyetle yarın ankara ya giderek kararın iptali için anayasa_mahkemesi ne başvuracağı öğrenildi dha\n",
            "siyaset , erdoğan idamın bir haklılık sebebi var demek ki yeri geldiği zaman idamın bir haklılık sebebi de var kendimizi check etmemiz lazım endonezya nın bali kentinde düzenlenen 5 bali_demokrasi_forumu nun demokratik küresel yönetişimin uluslararası barış ve güvenliğe katkısı konulu paneline konuşmacı olarak katılan başbakan_erdoğan açıklamalarının ardından katılımcı ülke temsilcilerinin sorularını yanıtlad başbakan_erdoğan birkaç yıl önce norveç te silahlı saldırıda 77 kişiyi öldüren kişiye verilen 21 yıllık hapis cezasını eleştirerek şu anda avrupa da idam kalktı ama amerika da kalktı mı japonya da kalktı mı çin de kalktı mı demek ki yeri geldiği zaman idamın bir haklılık sebebi de var dedi norveç teki saldırıyı gerçekleştiren ve 21 yıl hapis cezasına çarptırılan kişinin 21 yıl sonra hapisten çıkacak olmasına anlam veremediğini ifade eden başbakan_erdoğan şu değerlendirmelerde bulundu ben sordum merak ettim nasıl oluyor da 77 insanı öldüren bir insan 21 yıla mahkum oluyor bana verilen cevap şu hayır çıkmaz 21 yıl sonra bir şey uydurulur tekrar 21 yıl verilir ben buna nereden inanacağım bunu çözmemiz lazım şu anda avrupa da idam kalktı ama amerika da kalktı mı japonya da kalktı mı çin de kalktı mı demek ki yeri geldiği zaman idamın bir haklılık sebebi de var çünkü 77 kişiyi öldüren bir insan eğer elini kolunu sallaya sallaya dolaşabiliyorsa o 77 insanın ailesinin vicdanının gönlünün rahat olduğuna ben inanmıyorum kendimizi check etmemiz lazım kendimizi tekrar adalet terazisine iyice yatırmamız lazım yatırmamız lazım ki bu insanlık barışı huzuru bulabilsin\n",
            "siyaset , hüseyin_çelik bunu kim yaparsa pahalıya ödetiriz ak_parti genel_başkan_yardımcısı hüseyin_çelik chp lilerin gizlice ak_parti ye üye yapıldığı iddiaları konusunda kasten ve bilerek birisi bir başka partiden üye olan birisini bizim partiye sayı artsın diye üye yaptıysa biz o kişiye bu yaptığının hesabını sorarız ve ödetiriz dedi ak_parti genel_başkan_yardımcısı hüseyin_çelik parti genel merkezinde basın toplantısı düzenledi çelik türkiye ye nato tarafından yerleştirilecek patriot füzelerinde tetiğin türk tarafında olacağını söyledi patriot larda yetki ve iradenin nato da olacağını yerinin de türkiye ye gelecek uzmanlar tarafından belirleneceğini söyleyen çelik ama bunun tetiği bizde olacak bizim genelkurmayımızda askerimizde olacak dedi bu tür savunma sistemlerinde 10 15 saniye gibi kısa süre içerisinde karar verilmesi gerektiğinin altını çizen çelik dolayısıyla tetik bizde olacak nerede olması gerektiği ile ilgili de bu bir uzmanlık işidir stratejik açıdan hassasiyet gereken yerlerdir uzmanlar belirleyecektir tabii ki tsk siyasi iradenin emrindedir ama işin teknik boyutu onlar tarafından kararlaştırılacaktır diye ekledi çelik patriot larla ilgili bir soru üzerine verdiği cevapta bu nato nun türkiye ye ve nato nun kendisine sağlayacağı bir imkandır türkiye nin kendi savunmasının da güçlenmesi bu manada daha büyük bir özgüven içinde olması açısından son derece önemlidir burada garipsenecek bir şey yok diye konuştu balistik füzelerin ve balistik füzelere karşı savunma sistemlerinin pahalı olduğunu kaydeden hüseyin_çelik nato üzerinden türkiye ye bir imkan sağlanmış olmasını da çok önemli bulduklarını ifade etti kürecik in israil le ilgisi yok chp_genel_başkanı_kemal_kılıçdaroğlu nun kürecik teki radar üssü ile ilgili eleştirileri de sorulan ak_parti genel_başkan_yardımcısı çelik orada yine nato ya bağlı olarak erken uyarı radar sistemi kurulmuştur türkiye ye yönelik nato ya yönelik bir ülke nato ülkesi ise o ülkenin sınırları nato nun sınırlarıdır şeklinde konuştu hüseyin_çelik kürecik in israil le israil hükümetiyle yapılan bir anlaşmayla doğrudan veya dolaylı bir ilgisinin bulunmadığını da kaydetti çelik eğer bir nato ülkesiyseniz alınan kararların külfeti varsa katlanacaksınız nimeti varsa bu nimetten de faydalanmak durumundasınız diye ekledi chp nin ekseni iran ve suriye ye kilitlendi muhalefetin dış politikaya hakkında yönelttiği eksen kayması eleştirilerine de değinen ak_parti genel_başkan_yardımcısı çelik başbakan_erdoğan ın son zamanlarda yaptığı farklı ziyaretlerden örnekler verdi çelik chp nin kendi ekseni iran ve suriye ye kilitlendi bu nasıl bir eksendir ifadelerini kullandı erdoğan ın mısır ziyaretini de örnek vererek kahire üniversitesi nde kendisine yapılan tezahüratları anlatan çelik mısırlı gençlerin başbakan_erdoğan a gösterdikleri sevgi ve coşkunun türkiye deki ak_parti mitinglerinde bile yaşanmadığını dile getirdi çelik islam dünyasının önemli bir bölümünü diktatörler idare ediyor islam ülkeleri diktatörlerinden kurtulmaya çalışıyor arap_baharı bundan kurtulmak için bir fırsattır türkiye arap_baharı nın sonbahara dönüşmemesi için elinden geleni yapıyor bizim muhalefetten beklediğimiz yanlışlar varsa yanlışlara dikkat çekmeleri ama her meselede iktidarı zor duruma düşürmek isterken kendi ülkenizin elini zayıflatacak hamlelerde bulunmayın değerlendirmesinde bulundu başkanlik olmazsa olmazimiz değil çelik e yöneltilen bir başka soru ise başkanlık sistemi hakkında oldu çelik anayasa_komisyonu na sunulan teklifin kendileri için olmazsa olmaz bir madde olmadığını belirterek başkanlık olmazsa olmazımız değil diğer partiler kabul etmezse masadan kalkarız iddiamız yok kabul edilmediği zaman uzlaşma komisyonundan çekileceğiz şeklinde tavrımız olmadı olmayacak dedi yeni sistemle kontrol ve karşı kontrol mekanizmalarının olması önerildiğini söyleyen çelik şu an sayın cumhurbaşkanı yaptıklarından sorumlu değil bizim getirdiğimiz sistemde böyle olmayacak dedi üyelik sahtekarliği yapana bedelini ödetiriz chp ye üye çok sayıda kişinin ak_parti ye üye yapıldığına ilişkin iddialar da sorulan çelik doğruysa üzüntü vericidir ifadelerini kullandı geçmişte bunun çok istismar edildiğini aynı kişinin aynı anda birden çok partiye üye olarak bunu anahtar gibi kullandığı örneğini veren çelik üye kayıtları kimlik numarasıyla yapılıyor birisi 10 kişinin toplu olarak kaydını yaptırırsa güvenlik soruşturması yapılamıyor bu siyasi ahlaksızlıktır geçmişte bu yaygındı bilgisayar devri olduğu için bugün böyle bir şey yapamazlar bir partiye üye olan diğer partiye üye olamaz silinir kasten ve bilerek birisi bir başka partiden üye olan birisini bizim partiye sayı artsın diye üye yaptıysa biz o kişiye bu yaptığının hesabını sorarız ve ödetiriz üye sahtekarlıkları bizi göre değil şeklinde konuştu hüseyin_çelik pkk ile ilgili görüşmelere ilişkin bir soru üzerine de dağlarda eli silahlı ölüm makinesi haline getirilen pkk lı gençlere sürekli çağrıda bulunduk yol doğru yol değil diye insan öldürmeyi bırakın siz de ölmeyin diye araştırmalar dağdakilerin ömürlerinin 3 yıl olduğunu gösteriyor bu insanlar silahı bıraksınlar terörle değil medeni yollarla taleplerini dile getirsin diye konuştu bizim bağcıyla ilgimiz yok diye devam eden hüseyin_çelik habur iyi niyetli adımdı farklı noktaya çekildi yol kazasına dönüştürüldü türkiye de demokratik yollar açıktır şiddet kaba kuvvet terör artık çözüm aracı kendini ifade etme biçimi olamaz geçmişte birileri başka yolum kalmadı diyebilir ama bugün diyemez kan dursun gözyaşı dinsin kaynaklarımız heba olmasın kim etkili olacaksa olsun türkiye_cumhuriyeti hükümeti terörist başı ile oturup bunun üzerinden hesap yapmaz memurlar oturup görüşebilir birileri bunu pazarlık olarak değerlendirirse yanlış olur pazarlık içinde değiliz ifadelerini kullandı\n",
            "siyaset , yılmaz_özdil e bira cevabı ak_parti milletvekili şamil_tayyar yılmaz_özdil in açıklamasına cevap verdi yılmaz_özdil in başbakan_recep_tayyip_erdoğan için bir bira içse türkiye düzelirdi sözlerine ak_parti gaziantep milletvekili şamil_tayyar tepki gösterdi yılmaz_özdil katıldığı bir televizyon programında türkiye yi yönetenlerin gençliğini yaşamadığını o yüzden gençliğin yaşadıklarını anlayamadıklarını söyledi özdil eleştirmeden üzülerek söylüyorum tayyip_erdoğan bir bira içseydi bugün türkiye çok daha iyi bir durumdaydı dedi yılmaz_özdil in bu sözlerine ise sert tepki tayyar dan geldi tayyar yılmaz_özdil sayın_başbakan_recep_tayyip_erdoğan için bir bira içse türkiye düzelirdi diyor ya hatırlatmak lazım meyhaneden iktidar çıksa chp nin sırtı yere gelmezdi demek meyhaneden ülkem böyle gözüküyor onların da derdi iktidar olmak değil zaten herhalde ufak ufak alıştırıp seçmene yaptıramadıklarını birayla yaptıracaklar diye cevap yazdı\n",
            "siyaset , bakanlıklar lale_devri nde mhp ankara milletvekili özcan_yeniçeri bakanlıkların lale_devri ni aratmayan büyük bir şatafat içinde olduğunu savundu mhp ankara milletvekili özcan_yeniçeri meclis te düzenlediği basın toplantısında bakanlıkların lale devrini aratmayan bir şaşaa içinde olduklarını kiralanan binalar için büyük meblağlar ödendiğini belirtti soru önergelerine verilen cevaplara göre çevre ve şehircilik_bakanlığı nın 2012 yılı için balgat ta bulunan hizmet binasına 1 milyon 416 bin tl aynı bakanlığın söğütözü ndeki hizmet binası için yıllık 2 milyon 714 bin tl kira ödendiğini kaydeden yeniçeri dışişleri_bakanlığı sorduğumuz bir soruya verdiği cevapta ek hizmet için kiraladığı bir binaya 2003 yılından 2012 yılına kadar ödediği kira bedeli toplam 4 milyon 249 bin 588 tl bülent_arınç a bağlı olan basın yayın enformasyon genel_müdürlüğü hizmet ve ek bina için 2008 yılından 2012 yılına kadar toplam 10 milyon 857 bin 134 tl ödeme yapılmıştır arınç çok duygulu bir insan eminim bu rakamı duyduğunda gözleri yaşaracaktır dedi cumhurbaşkanı_abdullah_gül tarafından boşaltılmadığı için dışişleri_bakanı_ahmet_davutoğlu na kiralanan resmi konuta 4 yıl içinde 1 milyon 820 bin 794 tl para ödendiğine dikkat çeken yeniçeri milletin 2 milyona yakın parası boşa gitmiş oluyor bu paralar ilgililerden görevleri ne olursa olsun faizi ile birlikte tahsil edilmeli elbette dışişleri_bakanı güzel bir binada oturacak ama bu ne şatafat siz çok özel bir yaratık mısınız 1 milyon 820 bin tl ile bir değil birden fazla konut yapılır bunu nasıl düşünemezsiniz diye konuştu yeraltindan petrol çikartmak için para harcandiği zannediliyor temsil ve tanıtım giderlerinin fazlalığına da dikkat çeken yeniçeri şunları dile getirdi enerji ve tabii_kaynaklar_bakanı_taner_yıldız sorduğumuz soruya şöyle bir cevap verdi yemekli toplantı tanıtım ve ikram malzemeleri için 2008 yılında 33 bin 221 tl 2009 yılında 44 bin 795 tl 2010 yılında 92 bin 346 tl 2011 yılında ise 81 bin 649 tl harcanmıştır bakanlığım ve ilgili kuruluşların da toplam yemekli toplantı tanıtım ve ikram malzemeleri için 2008 yılında 1 milyon 785 bin 528 tl 2009 yılında 1 milyon 750 bin 504 tl 2010 yılında 1 milyon 981 bin 696 tl 2011 yılında 2 milyon 472 bin 194 tl ve 2012 yılında 2 milyon 344 bin 41 tl harcama yapılmıştır halkımız da yer altından doğalgaz petrol çıkarmak için para harcandığını zannediyor yeniçeri maliye_bakanlığı nın 2012 yılı için tanıtım organizasyon ağırlama yemek ve davet giderleri için toplam 2 milyon 796 bin 131 tl ödendiğini söyledi bir kilo çikolata 185 tl kamuda bir kilo çikolatayı 185 tl ye alan birimler bulunduğunu belirten yeniçeri bir kilo çikolata 185 tl bu hükümetin bağırsakları ilahi bağırsak mideleri ve kalpleri maneviyat ile dolu hep moral ve ahlaki biçimde çarptığı için bunların özel yemeleri özel bakılmaları gerekiyor ifadesini kullandı yeniçeri basın toplantısında tevfik fikret in yiyin efendiler yiyin bu han ı iştiha sizin mısralarının bulunduğu han ı yağma isimli şiirini okudu cihan\n",
            "siyaset , iktidarın gerçek niyeti ortaya çıktı chp genel_başkan_yardımcısı adnan_keskin 29 ekim cumhuriyet_bayramı dolayısıyla ankara da sivil toplum örgütlerince yapılmak istenen kutlama etkinliklerinin yapay gerekçelerle yasaklandığını ileri sürerek kutlamaların yapay gerekçelerle yasaklanmasıyla iktidarın rejim için gerçek niyeti gün yüzüne çıktı dedi keskin bayram ziyaretleri için geldiği tavas ilçesinde gazetecilere yaptığı açıklamada ankara da yarın yasağa rağmen yapılacak kutlamaların türkiye nin sahipsiz olmadığını göstereceğini iddia etti türkiye_cumhuriyeti nin kuruluşundan itibaren ilk kez cumhuriyeti yok etme ve yaşatma mücadelesine sahne olduğunu öne süren keskin kutlamaların yapay gerekçelerle yasaklanmasıyla iktidarın rejim için gerçek niyeti gün yüzüne çıktı ak_parti ateşle oynamaktadır bu ateş cumhuriyet rejimini değil iktidarı yakar diye konuştu keskin cumhuriyet ile kazanılan değerleri hiç kimsenin yok sayamayacağını belirterek şunları söyledi bugün ülkemizde cumhuriyet kutlamalarını yasaklamaya kadar ileri giden zihniyete ankara_ulus ta türkiye nin dört bir yanından gelen cumhuriyet severler gerekli dersi verecektir halkımız artık türkiye_cumhuriyeti nin genleriyle oynandığını fark etmiştir iktidarın sinsice ortaya koyduğu planı anlamıştır bu yüzden cumhuriyet adına en önemli toplumsal reaksiyonu vermiş ve ayağa kalkmıştır şimdiye kadar rejim tehlikeye düştüğünde halkımız türk silahlı kuvvetleri nden beklenti içine girmişti şimdi ise halkımız türk silahsız kuvvetleri olarak devreye girmiştir bu durum halk hareketi için çok önemli bir gelişmedir türk halkı cumhuriyeti yasaklamaya kalkan anlayışa karşı sivil direniş hareketini başlattı aa\n"
          ]
        }
      ],
      "source": [
        "!head TTC4900.csv"
      ]
    },
    {
      "cell_type": "code",
      "execution_count": 8,
      "metadata": {
        "colab": {
          "base_uri": "https://localhost:8080/",
          "height": 424
        },
        "id": "XGvn9cWEtXcE",
        "outputId": "75e8d5da-8cdc-47f3-ee7b-cb8dc3dde085"
      },
      "outputs": [
        {
          "data": {
            "application/vnd.google.colaboratory.intrinsic+json": {
              "summary": "{\n  \"name\": \"data\",\n  \"rows\": 4900,\n  \"fields\": [\n    {\n      \"column\": \"category\",\n      \"properties\": {\n        \"dtype\": \"category\",\n        \"num_unique_values\": 7,\n        \"samples\": [\n          \"siyaset \",\n          \"dunya \",\n          \"spor \"\n        ],\n        \"semantic_type\": \"\",\n        \"description\": \"\"\n      }\n    },\n    {\n      \"column\": \"text\",\n      \"properties\": {\n        \"dtype\": \"string\",\n        \"num_unique_values\": 4539,\n        \"samples\": [\n          \" hollanda t\\u00fcrkiye \\u0092 nin b\\u00fcy\\u00fcmesini k\\u0131skan\\u0131yoruz hollanda_ba\\u015fbakan\\u0131_mark_rutte t\\u00fcrkiye \\u0092 nin hollanda \\u0092 n\\u0131n en \\u00f6nemli ticaret ve yat\\u0131r\\u0131m ortaklar\\u0131ndan birisi oldu\\u011funu belirterek \\u0093 son 10 y\\u0131l i\\u00e7inde t\\u00fcrkiye ekonomisi b\\u00fcy\\u00fck bir h\\u0131zla b\\u00fcy\\u00fcd\\u00fc ve bu b\\u00fcy\\u00fcme bizi k\\u0131skand\\u0131r\\u0131yor \\u0094 dedi t\\u00fcrkiye \\u0092 nin yumu\\u015fak ini\\u015fi ba\\u015fard\\u0131\\u011f\\u0131n\\u0131 aktaran rutte \\u0093 t\\u00fcrkiye halen y\\u00fczde 3 \\u0092 e yak\\u0131n bir b\\u00fcy\\u00fcme kaydedebiliyor \\u0094 dedi iki \\u00fclkenin y\\u0131ll\\u0131k toplam ticaret hacminin y\\u0131ll\\u0131k 7 milyar dolar\\u0131n \\u00fczerinde oldu\\u011funu anlatan rutte \\u0093 cumhurba\\u015fkan\\u0131_abdullah_g\\u00fcl ve ba\\u015fbakan_recep_tayyip_erdo\\u011fan ile g\\u00f6r\\u00fc\\u015fmeler yapt\\u0131k bu g\\u00f6r\\u00fc\\u015fmeler sadece politik meselelerden ibaret de\\u011fildi ayn\\u0131 zamanda iki \\u00fclke aras\\u0131ndaki ticari ve ekonomik ili\\u015fkileri nas\\u0131l art\\u0131rabilece\\u011fimizi de g\\u00f6r\\u00fc\\u015ft\\u00fck \\u0094 diye konu\\u015ftu rutte kredi derecelendirme kurulu\\u015fu fitch \\u0092 in t\\u00fcrkiye hakk\\u0131nda yapt\\u0131\\u011f\\u0131 not art\\u0131r\\u0131m\\u0131 dolay\\u0131s\\u0131yla ba\\u015fbakan_erdo\\u011fan \\u0092 \\u0131 da tebrik etti\\u011fini belirterek \\u0093 not art\\u0131r\\u0131m\\u0131 t\\u00fcrkiye i\\u00e7in \\u00e7ok g\\u00fczel bir haber t\\u00fcrkiye art\\u0131k istikrarl\\u0131 bir ortam sa\\u011fl\\u0131yor \\u0094 diye konu\\u015ftu 7 3 milyar_dolar ba\\u015fbakan_yard\\u0131mc\\u0131s\\u0131_ali_babacan ise bu y\\u0131l\\u0131n t\\u00fcrkiye ve hollanda \\u0092 n\\u0131n ikili ili\\u015fkisinin 400 y\\u0131l\\u0131 olmas\\u0131 sebebiyle \\u00f6nemli oldu\\u011funu belirterek ge\\u00e7en y\\u0131l\\u0131n sonu itibariyle toplam ticaret hacminin 7 3 milyar dolara ula\\u015ft\\u0131\\u011f\\u0131n\\u0131 kaydetti bu rakam\\u0131n potansiyelin alt\\u0131nda oldu\\u011funu vurgulayan babacan hollanda \\u0092 dan gelen do\\u011frudan yat\\u0131r\\u0131m\\u0131n y\\u0131l sonu itibariyle 16 milyar dolar\\u0131 ge\\u00e7mesinin beklendi\\u011fini ifade etti 2011 \\u0092 de toplam 1 2 milyondan fazla hollandal\\u0131 turistin t\\u00fcrkiye \\u0092 yi ziyaret etti\\u011fi bilgisini veren babacan krizin ba\\u015flad\\u0131\\u011f\\u0131 2008 2009 y\\u0131llar\\u0131 \\u00f6ncesinde kamu finansman kontrol\\u00fc sosyal g\\u00fcvenlik sa\\u011fl\\u0131k hizmetleri ve di\\u011fer t\\u00fcm alanlarda tedbirler al\\u0131nd\\u0131\\u011f\\u0131n\\u0131 an\\u0131msatt\\u0131\",\n          \" kom\\u015fu t\\u00fcrk turist \\u00e7ekmek i\\u00e7in camileri bile onaracak yunanistan turizm gelirlerinin d\\u00fc\\u015fmesinden sonra g\\u00f6z\\u00fcn\\u00fc t\\u00fcrklere \\u00e7evirdi yunanistan \\u00fclkenin kuzeyindeki cami medrese hamam ve saraylar\\u0131 yenileyerek t\\u00fcrk turistleri \\u00e7ekmeye \\u00e7al\\u0131\\u015facak yunan turizmciler kal\\u0131nt\\u0131lar\\u0131n yenilenmesi i\\u00e7in avrupa_birli\\u011fi deste\\u011fini de alarak 30 milyon euro para harcayacak kuzey yunanistan b\\u00f6lgesi \\u0092 nden kalabal\\u0131k bir heyetin kendisini sal\\u0131 g\\u00fcn\\u00fc ziyarete geldiklerini s\\u00f6yleyen t\\u00fcrkiye seyahat acentalar\\u0131 birli\\u011fi t\\u00fcrsab ba\\u015fkan\\u0131 ba\\u015faran ulusoy \\u015f\\u00f6yle konu\\u015ftu \\u0093 konitsa belediyesi pellas belediyesi ioannina belediyesi kastorias belediyesi ba\\u015fkanlar\\u0131 heyette bulunuyordu g\\u00f6r\\u00fc\\u015fmeler \\u00e7ok \\u00f6nemli i\\u00e7inde bulunduklar\\u0131 ekonomik krizden dolay\\u0131 turizm gelirleri de d\\u00fc\\u015ft\\u00fc bundan dolay\\u0131 farkl\\u0131 turizm alterntifleri yaratmaya \\u00e7al\\u0131\\u015f\\u0131yorlar bize \\u00f6nerdikleri \\u015fey t\\u00fcrk insanlar\\u0131 i\\u00e7in de g\\u00fczel neler yapacaklar bakaca\\u011f\\u0131z tarihi doku bozulmadan o b\\u00f6lgeler turizme a\\u00e7\\u0131k hale getirilecek iki \\u00fclke aras\\u0131ndaki turist ak\\u0131\\u015f\\u0131n\\u0131 art\\u0131rmak niyetindeyiz \\u0094 kom\\u015fu turlari ba\\u015flayacak ba\\u015faran ulusoy \\u0093 turizm art\\u0131k deniz kum g\\u00fcne\\u015f turizminden \\u00e7\\u0131kt\\u0131 t\\u00fcm d\\u00fcnyada k\\u00fclt\\u00fcr ve inan\\u00e7 turizminin yan\\u0131 s\\u0131ra yerel gastronomilerin \\u00f6nem kazand\\u0131\\u011f\\u0131 bir turizm anlay\\u0131\\u015f\\u0131 hakim oldu bu vesileyle kuzey yunanistan \\u0092 \\u0131n farkl\\u0131 b\\u00f6lgelerinde yer alan pek \\u00e7ok say\\u0131da osmanl\\u0131 eserinin k\\u00fclt\\u00fcr ve inan\\u00e7 turizmine kazand\\u0131r\\u0131lmas\\u0131 ad\\u0131na \\u0091 dostluk kom\\u015fu turlar\\u0131 \\u0092 ad\\u0131 alt\\u0131nda g\\u00fczergah olu\\u015fturulup kuzey yunanistan \\u0092 \\u0131n tarihi potansiyelinin de\\u011ferlendirilmesinde anla\\u015ft\\u0131k yunanl\\u0131 vatanda\\u015flar\\u0131n da t\\u00fcrkiye \\u0092 yi ziyaret rakamlar\\u0131n\\u0131 art\\u0131rmaya \\u00e7al\\u0131\\u015faca\\u011f\\u0131z \\u0094 dedi t\\u00fcrk turizmciler kontrole gidecek proje kapsam\\u0131nda t\\u00fcrk heyeti yunanistan \\u0092 \\u0131 ziyaret edecek ziyarette yunanistan \\u0092 \\u0131n yenilemeyi garanti etti\\u011fi mekanlar gezilerek tespitlerde bulunulacak t\\u00fcrsab ba\\u015fkan\\u0131 ba\\u015faran ulusoy tarihi ve k\\u00fclt\\u00fcrel de\\u011ferlerin sakl\\u0131 kalmamas\\u0131 gerekti\\u011fini belirterek \\u0093 b\\u00f6lgenin potansiyelinin en iyi \\u015fekilde su y\\u00fcz\\u00fcne \\u00e7\\u0131kart\\u0131lmas\\u0131 ve t\\u00fcrk turizmciye tan\\u0131t\\u0131lmas\\u0131 ad\\u0131na yunanistan ile i\\u015fbirli\\u011fine her zaman a\\u00e7\\u0131k \\u0094 dedi\",\n          \" \\u00fcnl\\u00fc eser sak\\u0131ncal\\u0131 bulundu izmir il milli_e\\u011fitim m\\u00fcd\\u00fcrl\\u00fc\\u011f\\u00fc kitaplar\\u0131 inceleme ve de\\u011ferlendirme_komisyonu john_steinbeck in fareler ve insanlar roman\\u0131n\\u0131 baz\\u0131 sayfalar\\u0131n\\u0131n ahlaki olmayan b\\u00f6l\\u00fcmler i\\u00e7erdi\\u011fine karar vererek sak\\u0131ncal\\u0131 buldu izmir il milli_e\\u011fitim m\\u00fcd\\u00fcrl\\u00fc\\u011f\\u00fc kitap inceleme ve de\\u011ferlendirme_komisyonu john_steinbeck in fareler ve insanlar adl\\u0131 kitab\\u0131n\\u0131n baz\\u0131 b\\u00f6l\\u00fcmlerini sak\\u0131ncal\\u0131 buldu 3 aral\\u0131k ta toplanan komisyon kitab\\u0131n baz\\u0131 sayfalar\\u0131n\\u0131n ahlaki olmayan b\\u00f6l\\u00fcmler i\\u00e7erdi\\u011fine karar verdi fareler ve insanlar milli_e\\u011fitim_bakanl\\u0131\\u011f\\u0131 n\\u0131n liselerde okutulmas\\u0131 i\\u00e7in \\u00f6nerdi\\u011fi 100 temel_eser aras\\u0131nda yer al\\u0131yor artik her eser sans\\u00fcrlenebilir kitab\\u0131n yay\\u0131nc\\u0131s\\u0131 sel_yay\\u0131nc\\u0131l\\u0131k tan yap\\u0131lan a\\u00e7\\u0131klamada ise bu art\\u0131k her eserin kitab\\u0131n filmin klasikle\\u015fmi\\u015f evrensel bir referans haline gelmi\\u015f insanlar\\u0131n zihinlerinde yer etmi\\u015f denmesine bakmadan herhangi birilerinin o tan\\u0131ms\\u0131z ve son derece \\u00f6znel ahlak kriterlerine uygunsuzluk nedeniyle yarg\\u0131lanabilece\\u011fi sans\\u00fcrlenebilece\\u011fi ya da yasaklanabilece\\u011finin son g\\u00f6stergesidir fazla s\\u00f6ze gerek yok denildi\"\n        ],\n        \"semantic_type\": \"\",\n        \"description\": \"\"\n      }\n    }\n  ]\n}",
              "type": "dataframe",
              "variable_name": "data"
            },
            "text/html": [
              "\n",
              "  <div id=\"df-13c95228-5aa8-41c8-8087-109e485677a2\" class=\"colab-df-container\">\n",
              "    <div>\n",
              "<style scoped>\n",
              "    .dataframe tbody tr th:only-of-type {\n",
              "        vertical-align: middle;\n",
              "    }\n",
              "\n",
              "    .dataframe tbody tr th {\n",
              "        vertical-align: top;\n",
              "    }\n",
              "\n",
              "    .dataframe thead th {\n",
              "        text-align: right;\n",
              "    }\n",
              "</style>\n",
              "<table border=\"1\" class=\"dataframe\">\n",
              "  <thead>\n",
              "    <tr style=\"text-align: right;\">\n",
              "      <th></th>\n",
              "      <th>category</th>\n",
              "      <th>text</th>\n",
              "    </tr>\n",
              "  </thead>\n",
              "  <tbody>\n",
              "    <tr>\n",
              "      <th>0</th>\n",
              "      <td>siyaset</td>\n",
              "      <td>3 milyon ile ön seçim vaadi mhp nin 10 olağan...</td>\n",
              "    </tr>\n",
              "    <tr>\n",
              "      <th>1</th>\n",
              "      <td>siyaset</td>\n",
              "      <td>mesut_yılmaz yüce_divan da ceza alabilirdi pr...</td>\n",
              "    </tr>\n",
              "    <tr>\n",
              "      <th>2</th>\n",
              "      <td>siyaset</td>\n",
              "      <td>disko lar kaldırılıyor başbakan_yardımcısı ar...</td>\n",
              "    </tr>\n",
              "    <tr>\n",
              "      <th>3</th>\n",
              "      <td>siyaset</td>\n",
              "      <td>sarıgül anayasa_mahkemesi ne gidiyor mustafa_...</td>\n",
              "    </tr>\n",
              "    <tr>\n",
              "      <th>4</th>\n",
              "      <td>siyaset</td>\n",
              "      <td>erdoğan idamın bir haklılık sebebi var demek ...</td>\n",
              "    </tr>\n",
              "    <tr>\n",
              "      <th>...</th>\n",
              "      <td>...</td>\n",
              "      <td>...</td>\n",
              "    </tr>\n",
              "    <tr>\n",
              "      <th>4895</th>\n",
              "      <td>teknoloji</td>\n",
              "      <td>iphone lara geri dönüyor ios 6 sürümüyle tele...</td>\n",
              "    </tr>\n",
              "    <tr>\n",
              "      <th>4896</th>\n",
              "      <td>teknoloji</td>\n",
              "      <td>muslukta devrim sadece elimizi yıkadığımız mu...</td>\n",
              "    </tr>\n",
              "    <tr>\n",
              "      <th>4897</th>\n",
              "      <td>teknoloji</td>\n",
              "      <td>halka iyi anlatılmalı bilgi_teknolojileri ile...</td>\n",
              "    </tr>\n",
              "    <tr>\n",
              "      <th>4898</th>\n",
              "      <td>teknoloji</td>\n",
              "      <td>çöpe gidiyorlar apple 775 bin uygulamayla app...</td>\n",
              "    </tr>\n",
              "    <tr>\n",
              "      <th>4899</th>\n",
              "      <td>teknoloji</td>\n",
              "      <td>google bu kez edward_gorey dedi ! google bu k...</td>\n",
              "    </tr>\n",
              "  </tbody>\n",
              "</table>\n",
              "<p>4900 rows × 2 columns</p>\n",
              "</div>\n",
              "    <div class=\"colab-df-buttons\">\n",
              "\n",
              "  <div class=\"colab-df-container\">\n",
              "    <button class=\"colab-df-convert\" onclick=\"convertToInteractive('df-13c95228-5aa8-41c8-8087-109e485677a2')\"\n",
              "            title=\"Convert this dataframe to an interactive table.\"\n",
              "            style=\"display:none;\">\n",
              "\n",
              "  <svg xmlns=\"http://www.w3.org/2000/svg\" height=\"24px\" viewBox=\"0 -960 960 960\">\n",
              "    <path d=\"M120-120v-720h720v720H120Zm60-500h600v-160H180v160Zm220 220h160v-160H400v160Zm0 220h160v-160H400v160ZM180-400h160v-160H180v160Zm440 0h160v-160H620v160ZM180-180h160v-160H180v160Zm440 0h160v-160H620v160Z\"/>\n",
              "  </svg>\n",
              "    </button>\n",
              "\n",
              "  <style>\n",
              "    .colab-df-container {\n",
              "      display:flex;\n",
              "      gap: 12px;\n",
              "    }\n",
              "\n",
              "    .colab-df-convert {\n",
              "      background-color: #E8F0FE;\n",
              "      border: none;\n",
              "      border-radius: 50%;\n",
              "      cursor: pointer;\n",
              "      display: none;\n",
              "      fill: #1967D2;\n",
              "      height: 32px;\n",
              "      padding: 0 0 0 0;\n",
              "      width: 32px;\n",
              "    }\n",
              "\n",
              "    .colab-df-convert:hover {\n",
              "      background-color: #E2EBFA;\n",
              "      box-shadow: 0px 1px 2px rgba(60, 64, 67, 0.3), 0px 1px 3px 1px rgba(60, 64, 67, 0.15);\n",
              "      fill: #174EA6;\n",
              "    }\n",
              "\n",
              "    .colab-df-buttons div {\n",
              "      margin-bottom: 4px;\n",
              "    }\n",
              "\n",
              "    [theme=dark] .colab-df-convert {\n",
              "      background-color: #3B4455;\n",
              "      fill: #D2E3FC;\n",
              "    }\n",
              "\n",
              "    [theme=dark] .colab-df-convert:hover {\n",
              "      background-color: #434B5C;\n",
              "      box-shadow: 0px 1px 3px 1px rgba(0, 0, 0, 0.15);\n",
              "      filter: drop-shadow(0px 1px 2px rgba(0, 0, 0, 0.3));\n",
              "      fill: #FFFFFF;\n",
              "    }\n",
              "  </style>\n",
              "\n",
              "    <script>\n",
              "      const buttonEl =\n",
              "        document.querySelector('#df-13c95228-5aa8-41c8-8087-109e485677a2 button.colab-df-convert');\n",
              "      buttonEl.style.display =\n",
              "        google.colab.kernel.accessAllowed ? 'block' : 'none';\n",
              "\n",
              "      async function convertToInteractive(key) {\n",
              "        const element = document.querySelector('#df-13c95228-5aa8-41c8-8087-109e485677a2');\n",
              "        const dataTable =\n",
              "          await google.colab.kernel.invokeFunction('convertToInteractive',\n",
              "                                                    [key], {});\n",
              "        if (!dataTable) return;\n",
              "\n",
              "        const docLinkHtml = 'Like what you see? Visit the ' +\n",
              "          '<a target=\"_blank\" href=https://colab.research.google.com/notebooks/data_table.ipynb>data table notebook</a>'\n",
              "          + ' to learn more about interactive tables.';\n",
              "        element.innerHTML = '';\n",
              "        dataTable['output_type'] = 'display_data';\n",
              "        await google.colab.output.renderOutput(dataTable, element);\n",
              "        const docLink = document.createElement('div');\n",
              "        docLink.innerHTML = docLinkHtml;\n",
              "        element.appendChild(docLink);\n",
              "      }\n",
              "    </script>\n",
              "  </div>\n",
              "\n",
              "\n",
              "<div id=\"df-855dbfc9-b94f-4d55-a3d0-66819621a73d\">\n",
              "  <button class=\"colab-df-quickchart\" onclick=\"quickchart('df-855dbfc9-b94f-4d55-a3d0-66819621a73d')\"\n",
              "            title=\"Suggest charts\"\n",
              "            style=\"display:none;\">\n",
              "\n",
              "<svg xmlns=\"http://www.w3.org/2000/svg\" height=\"24px\"viewBox=\"0 0 24 24\"\n",
              "     width=\"24px\">\n",
              "    <g>\n",
              "        <path d=\"M19 3H5c-1.1 0-2 .9-2 2v14c0 1.1.9 2 2 2h14c1.1 0 2-.9 2-2V5c0-1.1-.9-2-2-2zM9 17H7v-7h2v7zm4 0h-2V7h2v10zm4 0h-2v-4h2v4z\"/>\n",
              "    </g>\n",
              "</svg>\n",
              "  </button>\n",
              "\n",
              "<style>\n",
              "  .colab-df-quickchart {\n",
              "      --bg-color: #E8F0FE;\n",
              "      --fill-color: #1967D2;\n",
              "      --hover-bg-color: #E2EBFA;\n",
              "      --hover-fill-color: #174EA6;\n",
              "      --disabled-fill-color: #AAA;\n",
              "      --disabled-bg-color: #DDD;\n",
              "  }\n",
              "\n",
              "  [theme=dark] .colab-df-quickchart {\n",
              "      --bg-color: #3B4455;\n",
              "      --fill-color: #D2E3FC;\n",
              "      --hover-bg-color: #434B5C;\n",
              "      --hover-fill-color: #FFFFFF;\n",
              "      --disabled-bg-color: #3B4455;\n",
              "      --disabled-fill-color: #666;\n",
              "  }\n",
              "\n",
              "  .colab-df-quickchart {\n",
              "    background-color: var(--bg-color);\n",
              "    border: none;\n",
              "    border-radius: 50%;\n",
              "    cursor: pointer;\n",
              "    display: none;\n",
              "    fill: var(--fill-color);\n",
              "    height: 32px;\n",
              "    padding: 0;\n",
              "    width: 32px;\n",
              "  }\n",
              "\n",
              "  .colab-df-quickchart:hover {\n",
              "    background-color: var(--hover-bg-color);\n",
              "    box-shadow: 0 1px 2px rgba(60, 64, 67, 0.3), 0 1px 3px 1px rgba(60, 64, 67, 0.15);\n",
              "    fill: var(--button-hover-fill-color);\n",
              "  }\n",
              "\n",
              "  .colab-df-quickchart-complete:disabled,\n",
              "  .colab-df-quickchart-complete:disabled:hover {\n",
              "    background-color: var(--disabled-bg-color);\n",
              "    fill: var(--disabled-fill-color);\n",
              "    box-shadow: none;\n",
              "  }\n",
              "\n",
              "  .colab-df-spinner {\n",
              "    border: 2px solid var(--fill-color);\n",
              "    border-color: transparent;\n",
              "    border-bottom-color: var(--fill-color);\n",
              "    animation:\n",
              "      spin 1s steps(1) infinite;\n",
              "  }\n",
              "\n",
              "  @keyframes spin {\n",
              "    0% {\n",
              "      border-color: transparent;\n",
              "      border-bottom-color: var(--fill-color);\n",
              "      border-left-color: var(--fill-color);\n",
              "    }\n",
              "    20% {\n",
              "      border-color: transparent;\n",
              "      border-left-color: var(--fill-color);\n",
              "      border-top-color: var(--fill-color);\n",
              "    }\n",
              "    30% {\n",
              "      border-color: transparent;\n",
              "      border-left-color: var(--fill-color);\n",
              "      border-top-color: var(--fill-color);\n",
              "      border-right-color: var(--fill-color);\n",
              "    }\n",
              "    40% {\n",
              "      border-color: transparent;\n",
              "      border-right-color: var(--fill-color);\n",
              "      border-top-color: var(--fill-color);\n",
              "    }\n",
              "    60% {\n",
              "      border-color: transparent;\n",
              "      border-right-color: var(--fill-color);\n",
              "    }\n",
              "    80% {\n",
              "      border-color: transparent;\n",
              "      border-right-color: var(--fill-color);\n",
              "      border-bottom-color: var(--fill-color);\n",
              "    }\n",
              "    90% {\n",
              "      border-color: transparent;\n",
              "      border-bottom-color: var(--fill-color);\n",
              "    }\n",
              "  }\n",
              "</style>\n",
              "\n",
              "  <script>\n",
              "    async function quickchart(key) {\n",
              "      const quickchartButtonEl =\n",
              "        document.querySelector('#' + key + ' button');\n",
              "      quickchartButtonEl.disabled = true;  // To prevent multiple clicks.\n",
              "      quickchartButtonEl.classList.add('colab-df-spinner');\n",
              "      try {\n",
              "        const charts = await google.colab.kernel.invokeFunction(\n",
              "            'suggestCharts', [key], {});\n",
              "      } catch (error) {\n",
              "        console.error('Error during call to suggestCharts:', error);\n",
              "      }\n",
              "      quickchartButtonEl.classList.remove('colab-df-spinner');\n",
              "      quickchartButtonEl.classList.add('colab-df-quickchart-complete');\n",
              "    }\n",
              "    (() => {\n",
              "      let quickchartButtonEl =\n",
              "        document.querySelector('#df-855dbfc9-b94f-4d55-a3d0-66819621a73d button');\n",
              "      quickchartButtonEl.style.display =\n",
              "        google.colab.kernel.accessAllowed ? 'block' : 'none';\n",
              "    })();\n",
              "  </script>\n",
              "</div>\n",
              "\n",
              "  <div id=\"id_831e84c1-32fe-438a-bf40-d6abff97e60d\">\n",
              "    <style>\n",
              "      .colab-df-generate {\n",
              "        background-color: #E8F0FE;\n",
              "        border: none;\n",
              "        border-radius: 50%;\n",
              "        cursor: pointer;\n",
              "        display: none;\n",
              "        fill: #1967D2;\n",
              "        height: 32px;\n",
              "        padding: 0 0 0 0;\n",
              "        width: 32px;\n",
              "      }\n",
              "\n",
              "      .colab-df-generate:hover {\n",
              "        background-color: #E2EBFA;\n",
              "        box-shadow: 0px 1px 2px rgba(60, 64, 67, 0.3), 0px 1px 3px 1px rgba(60, 64, 67, 0.15);\n",
              "        fill: #174EA6;\n",
              "      }\n",
              "\n",
              "      [theme=dark] .colab-df-generate {\n",
              "        background-color: #3B4455;\n",
              "        fill: #D2E3FC;\n",
              "      }\n",
              "\n",
              "      [theme=dark] .colab-df-generate:hover {\n",
              "        background-color: #434B5C;\n",
              "        box-shadow: 0px 1px 3px 1px rgba(0, 0, 0, 0.15);\n",
              "        filter: drop-shadow(0px 1px 2px rgba(0, 0, 0, 0.3));\n",
              "        fill: #FFFFFF;\n",
              "      }\n",
              "    </style>\n",
              "    <button class=\"colab-df-generate\" onclick=\"generateWithVariable('data')\"\n",
              "            title=\"Generate code using this dataframe.\"\n",
              "            style=\"display:none;\">\n",
              "\n",
              "  <svg xmlns=\"http://www.w3.org/2000/svg\" height=\"24px\"viewBox=\"0 0 24 24\"\n",
              "       width=\"24px\">\n",
              "    <path d=\"M7,19H8.4L18.45,9,17,7.55,7,17.6ZM5,21V16.75L18.45,3.32a2,2,0,0,1,2.83,0l1.4,1.43a1.91,1.91,0,0,1,.58,1.4,1.91,1.91,0,0,1-.58,1.4L9.25,21ZM18.45,9,17,7.55Zm-12,3A5.31,5.31,0,0,0,4.9,8.1,5.31,5.31,0,0,0,1,6.5,5.31,5.31,0,0,0,4.9,4.9,5.31,5.31,0,0,0,6.5,1,5.31,5.31,0,0,0,8.1,4.9,5.31,5.31,0,0,0,12,6.5,5.46,5.46,0,0,0,6.5,12Z\"/>\n",
              "  </svg>\n",
              "    </button>\n",
              "    <script>\n",
              "      (() => {\n",
              "      const buttonEl =\n",
              "        document.querySelector('#id_831e84c1-32fe-438a-bf40-d6abff97e60d button.colab-df-generate');\n",
              "      buttonEl.style.display =\n",
              "        google.colab.kernel.accessAllowed ? 'block' : 'none';\n",
              "\n",
              "      buttonEl.onclick = () => {\n",
              "        google.colab.notebook.generateWithVariable('data');\n",
              "      }\n",
              "      })();\n",
              "    </script>\n",
              "  </div>\n",
              "\n",
              "    </div>\n",
              "  </div>\n"
            ],
            "text/plain": [
              "        category                                               text\n",
              "0       siyaset    3 milyon ile ön seçim vaadi mhp nin 10 olağan...\n",
              "1       siyaset    mesut_yılmaz yüce_divan da ceza alabilirdi pr...\n",
              "2       siyaset    disko lar kaldırılıyor başbakan_yardımcısı ar...\n",
              "3       siyaset    sarıgül anayasa_mahkemesi ne gidiyor mustafa_...\n",
              "4       siyaset    erdoğan idamın bir haklılık sebebi var demek ...\n",
              "...          ...                                                ...\n",
              "4895  teknoloji    iphone lara geri dönüyor ios 6 sürümüyle tele...\n",
              "4896  teknoloji    muslukta devrim sadece elimizi yıkadığımız mu...\n",
              "4897  teknoloji    halka iyi anlatılmalı bilgi_teknolojileri ile...\n",
              "4898  teknoloji    çöpe gidiyorlar apple 775 bin uygulamayla app...\n",
              "4899  teknoloji    google bu kez edward_gorey dedi ! google bu k...\n",
              "\n",
              "[4900 rows x 2 columns]"
            ]
          },
          "execution_count": 8,
          "metadata": {},
          "output_type": "execute_result"
        }
      ],
      "source": [
        "import pandas as pd\n",
        "\n",
        "data = pd.read_csv(\"TTC4900.csv\")\n",
        "data"
      ]
    },
    {
      "cell_type": "code",
      "execution_count": 9,
      "metadata": {
        "colab": {
          "base_uri": "https://localhost:8080/",
          "height": 424
        },
        "id": "ua5kw3MdTOP-",
        "outputId": "1291f23f-0fcb-44bc-8a8c-ae32c847187a"
      },
      "outputs": [
        {
          "data": {
            "application/vnd.google.colaboratory.intrinsic+json": {
              "summary": "{\n  \"name\": \"data\",\n  \"rows\": 4900,\n  \"fields\": [\n    {\n      \"column\": \"category\",\n      \"properties\": {\n        \"dtype\": \"category\",\n        \"num_unique_values\": 7,\n        \"samples\": [\n          \"teknoloji \",\n          \"spor \",\n          \"saglik \"\n        ],\n        \"semantic_type\": \"\",\n        \"description\": \"\"\n      }\n    },\n    {\n      \"column\": \"text\",\n      \"properties\": {\n        \"dtype\": \"string\",\n        \"num_unique_values\": 4539,\n        \"samples\": [\n          \" demirhan \\u015ferefhan yeniden aday oldu t\\u00fcrkiye bedensel engelliler spor federasyonu \\u0092 nda 2000 2008 aras\\u0131nda ba\\u015fkanl\\u0131k yapan gen\\u00e7 y\\u00f6netici se\\u00e7ime giriyor bedensel engelliler spor federasyonu \\u0092 nun eski ba\\u015fkan\\u0131 demirhan \\u015ferefhan yeni d\\u00f6nemde bir kez daha se\\u00e7ilmek i\\u00e7in adayl\\u0131\\u011f\\u0131n\\u0131 a\\u00e7\\u0131klad\\u0131 \\u015ferefhan 2000 2008 aras\\u0131nda federasyon ba\\u015fkanl\\u0131\\u011f\\u0131 yapm\\u0131\\u015ft\\u0131 ba\\u015fkanl\\u0131\\u011f\\u0131 d\\u00f6neminde bran\\u015f say\\u0131s\\u0131n\\u0131 3 \\u0092 ten 13 \\u0092 e \\u00e7\\u0131kard\\u0131klar\\u0131n\\u0131 belirten \\u015ferefhan \\u015funlar\\u0131 s\\u00f6yledi \\u0093 \\u00f6zellikle paralimpik say\\u0131s\\u0131n\\u0131n artmas\\u0131na \\u00f6nem verdik \\u00e7\\u00fcnk\\u00fc bunlar sporcular\\u0131m\\u0131z\\u0131n se\\u00e7ece\\u011fi lokomotif olacak bran\\u015flard\\u0131 2012 oyunlar\\u0131nda ne kadar isabetli karar verdi\\u011fimizi g\\u00f6rd\\u00fck londra \\u0092 ya giden oyuncu ve antren\\u00f6rlerin b\\u00fcy\\u00fck \\u00e7o\\u011funlu\\u011fu bizim projelerimizle spora kazand\\u0131r\\u0131lm\\u0131\\u015f isimler g\\u00f6rme ve bedensel engelli bran\\u015flar\\u0131nda 10 madalyayla d\\u00f6nen \\u00e7ocuklar\\u0131m\\u0131z bizleri gururland\\u0131rd\\u0131 \\u0094 sponsorlar artirilmali yeni projeler \\u00fcrettiklerini vurgulayan \\u015ferefhan \\u015f\\u00f6yle devam etti \\u0093 futbol ve basketbol federasyonlar\\u0131 gibi profesyonel sisteme ge\\u00e7meyi planl\\u0131yoruz sonras\\u0131nda sponsorlar\\u0131n art\\u0131r\\u0131lmas\\u0131 gerekiyor \\u0091 tek ta\\u015f p\\u0131rlanta \\u0092 diye tabir etti\\u011fimiz tekerlekli sandalye basketbolu ve ampute futbol ligimiz var bu liglerin isim haklar\\u0131yla ilgili \\u00e7al\\u0131\\u015fmalar\\u0131m\\u0131z devam ediyor ampute futbolunun paralimpik bran\\u015f olmas\\u0131 i\\u00e7in londra \\u0092 da baz\\u0131 g\\u00f6r\\u00fc\\u015fmelerimiz oldu yeni d\\u00f6nemde kul\\u00fcplerimize daha \\u00e7ok sahip \\u00e7\\u0131kaca\\u011f\\u0131z sponsor gelirlerinin malzeme ya da ayni olarak kul\\u00fcplere aktar\\u0131lmas\\u0131 \\u00e7al\\u0131\\u015fmalar\\u0131m\\u0131z var bizim ad\\u0131m\\u0131z federasyon soyad\\u0131m\\u0131z rehabilitasyon \\u0094\",\n          \" \\u00fcrd\\u00fcn de yeni h\\u00fck\\u00fcmet \\u00fcrd\\u00fcn_kral\\u0131 2 abdullah yeni h\\u00fck\\u00fcmeti kurmas\\u0131 i\\u00e7in abdullah en nasur u g\\u00f6revlendirdi kraliyet divan\\u0131 taraf\\u0131ndan yay\\u0131mlanan yaz\\u0131l\\u0131 a\\u00e7\\u0131klamada kral_abdullah \\u0131n dr abdullah en nasur u bug\\u00fcn istifas\\u0131n\\u0131 sunan eski ba\\u015fbakan fayiz taravne nin ard\\u0131ndan yeni h\\u00fck\\u00fcmeti kurmakla g\\u00f6revlendirdi\\u011fi bildirildi aa\",\n          \" m\\u00fczisyenden az kullan\\u0131lm\\u0131\\u015f saat \\u00fcnl\\u00fc m\\u00fczisyen eric clapton \\u0092 \\u0131n 67 patek philippe marka el yap\\u0131m\\u0131 isvi\\u00e7re saati al\\u0131c\\u0131s\\u0131n\\u0131 bekliyor hobi olarak ba\\u015flad\\u0131\\u011f\\u0131 koleksiyonculukta hat\\u0131r\\u0131 say\\u0131l\\u0131r bir klasik saat portf\\u00f6y\\u00fcne ula\\u015fan clapton baz\\u0131 par\\u00e7alar\\u0131 m\\u00fczayedelerde sat\\u0131\\u015fa \\u00e7\\u0131kar\\u0131yor cenevre \\u0092 de hafta sonu a\\u00e7\\u0131k art\\u0131rmaya \\u00e7\\u0131kacak bu patek philippe saatin 2 5 ila 4 milyon dolar 4 5 milyon tl ile 7 2 milyon tl aras\\u0131 bir fiyata sat\\u0131lmas\\u0131 bekleniyor\"\n        ],\n        \"semantic_type\": \"\",\n        \"description\": \"\"\n      }\n    }\n  ]\n}",
              "type": "dataframe",
              "variable_name": "data"
            },
            "text/html": [
              "\n",
              "  <div id=\"df-cfe6f2d7-77f3-4a9f-b87d-314b2df885d5\" class=\"colab-df-container\">\n",
              "    <div>\n",
              "<style scoped>\n",
              "    .dataframe tbody tr th:only-of-type {\n",
              "        vertical-align: middle;\n",
              "    }\n",
              "\n",
              "    .dataframe tbody tr th {\n",
              "        vertical-align: top;\n",
              "    }\n",
              "\n",
              "    .dataframe thead th {\n",
              "        text-align: right;\n",
              "    }\n",
              "</style>\n",
              "<table border=\"1\" class=\"dataframe\">\n",
              "  <thead>\n",
              "    <tr style=\"text-align: right;\">\n",
              "      <th></th>\n",
              "      <th>category</th>\n",
              "      <th>text</th>\n",
              "    </tr>\n",
              "  </thead>\n",
              "  <tbody>\n",
              "    <tr>\n",
              "      <th>4657</th>\n",
              "      <td>teknoloji</td>\n",
              "      <td>acıların kedisi sam çatık kaşlı kedi sam in i...</td>\n",
              "    </tr>\n",
              "    <tr>\n",
              "      <th>3539</th>\n",
              "      <td>spor</td>\n",
              "      <td>g saray a git santos van_persie den forma ala...</td>\n",
              "    </tr>\n",
              "    <tr>\n",
              "      <th>907</th>\n",
              "      <td>dunya</td>\n",
              "      <td>endonezya da çatışmalar 14 ölü endonezya da i...</td>\n",
              "    </tr>\n",
              "    <tr>\n",
              "      <th>4353</th>\n",
              "      <td>teknoloji</td>\n",
              "      <td>emniyetten polis logolu virüs uyarısı telefon...</td>\n",
              "    </tr>\n",
              "    <tr>\n",
              "      <th>3745</th>\n",
              "      <td>spor</td>\n",
              "      <td>beni türk yapın cristian_baroni yıldırım dan ...</td>\n",
              "    </tr>\n",
              "    <tr>\n",
              "      <th>...</th>\n",
              "      <td>...</td>\n",
              "      <td>...</td>\n",
              "    </tr>\n",
              "    <tr>\n",
              "      <th>4426</th>\n",
              "      <td>teknoloji</td>\n",
              "      <td>kuantum bilgisayarlar için dev adım amerikalı...</td>\n",
              "    </tr>\n",
              "    <tr>\n",
              "      <th>466</th>\n",
              "      <td>siyaset</td>\n",
              "      <td>koç tan kürt sorunu ile ilgili önemli açıklam...</td>\n",
              "    </tr>\n",
              "    <tr>\n",
              "      <th>3092</th>\n",
              "      <td>saglik</td>\n",
              "      <td>her yıl 125 bin bebek prematüre doğuyor türki...</td>\n",
              "    </tr>\n",
              "    <tr>\n",
              "      <th>3772</th>\n",
              "      <td>spor</td>\n",
              "      <td>g saray da borç alacak farkı büyük ! galatasa...</td>\n",
              "    </tr>\n",
              "    <tr>\n",
              "      <th>860</th>\n",
              "      <td>dunya</td>\n",
              "      <td>fas a 1 25 milyar dolar yardım suudi_arabista...</td>\n",
              "    </tr>\n",
              "  </tbody>\n",
              "</table>\n",
              "<p>4900 rows × 2 columns</p>\n",
              "</div>\n",
              "    <div class=\"colab-df-buttons\">\n",
              "\n",
              "  <div class=\"colab-df-container\">\n",
              "    <button class=\"colab-df-convert\" onclick=\"convertToInteractive('df-cfe6f2d7-77f3-4a9f-b87d-314b2df885d5')\"\n",
              "            title=\"Convert this dataframe to an interactive table.\"\n",
              "            style=\"display:none;\">\n",
              "\n",
              "  <svg xmlns=\"http://www.w3.org/2000/svg\" height=\"24px\" viewBox=\"0 -960 960 960\">\n",
              "    <path d=\"M120-120v-720h720v720H120Zm60-500h600v-160H180v160Zm220 220h160v-160H400v160Zm0 220h160v-160H400v160ZM180-400h160v-160H180v160Zm440 0h160v-160H620v160ZM180-180h160v-160H180v160Zm440 0h160v-160H620v160Z\"/>\n",
              "  </svg>\n",
              "    </button>\n",
              "\n",
              "  <style>\n",
              "    .colab-df-container {\n",
              "      display:flex;\n",
              "      gap: 12px;\n",
              "    }\n",
              "\n",
              "    .colab-df-convert {\n",
              "      background-color: #E8F0FE;\n",
              "      border: none;\n",
              "      border-radius: 50%;\n",
              "      cursor: pointer;\n",
              "      display: none;\n",
              "      fill: #1967D2;\n",
              "      height: 32px;\n",
              "      padding: 0 0 0 0;\n",
              "      width: 32px;\n",
              "    }\n",
              "\n",
              "    .colab-df-convert:hover {\n",
              "      background-color: #E2EBFA;\n",
              "      box-shadow: 0px 1px 2px rgba(60, 64, 67, 0.3), 0px 1px 3px 1px rgba(60, 64, 67, 0.15);\n",
              "      fill: #174EA6;\n",
              "    }\n",
              "\n",
              "    .colab-df-buttons div {\n",
              "      margin-bottom: 4px;\n",
              "    }\n",
              "\n",
              "    [theme=dark] .colab-df-convert {\n",
              "      background-color: #3B4455;\n",
              "      fill: #D2E3FC;\n",
              "    }\n",
              "\n",
              "    [theme=dark] .colab-df-convert:hover {\n",
              "      background-color: #434B5C;\n",
              "      box-shadow: 0px 1px 3px 1px rgba(0, 0, 0, 0.15);\n",
              "      filter: drop-shadow(0px 1px 2px rgba(0, 0, 0, 0.3));\n",
              "      fill: #FFFFFF;\n",
              "    }\n",
              "  </style>\n",
              "\n",
              "    <script>\n",
              "      const buttonEl =\n",
              "        document.querySelector('#df-cfe6f2d7-77f3-4a9f-b87d-314b2df885d5 button.colab-df-convert');\n",
              "      buttonEl.style.display =\n",
              "        google.colab.kernel.accessAllowed ? 'block' : 'none';\n",
              "\n",
              "      async function convertToInteractive(key) {\n",
              "        const element = document.querySelector('#df-cfe6f2d7-77f3-4a9f-b87d-314b2df885d5');\n",
              "        const dataTable =\n",
              "          await google.colab.kernel.invokeFunction('convertToInteractive',\n",
              "                                                    [key], {});\n",
              "        if (!dataTable) return;\n",
              "\n",
              "        const docLinkHtml = 'Like what you see? Visit the ' +\n",
              "          '<a target=\"_blank\" href=https://colab.research.google.com/notebooks/data_table.ipynb>data table notebook</a>'\n",
              "          + ' to learn more about interactive tables.';\n",
              "        element.innerHTML = '';\n",
              "        dataTable['output_type'] = 'display_data';\n",
              "        await google.colab.output.renderOutput(dataTable, element);\n",
              "        const docLink = document.createElement('div');\n",
              "        docLink.innerHTML = docLinkHtml;\n",
              "        element.appendChild(docLink);\n",
              "      }\n",
              "    </script>\n",
              "  </div>\n",
              "\n",
              "\n",
              "<div id=\"df-16d358c6-ddb5-4805-b7c6-738098f9593c\">\n",
              "  <button class=\"colab-df-quickchart\" onclick=\"quickchart('df-16d358c6-ddb5-4805-b7c6-738098f9593c')\"\n",
              "            title=\"Suggest charts\"\n",
              "            style=\"display:none;\">\n",
              "\n",
              "<svg xmlns=\"http://www.w3.org/2000/svg\" height=\"24px\"viewBox=\"0 0 24 24\"\n",
              "     width=\"24px\">\n",
              "    <g>\n",
              "        <path d=\"M19 3H5c-1.1 0-2 .9-2 2v14c0 1.1.9 2 2 2h14c1.1 0 2-.9 2-2V5c0-1.1-.9-2-2-2zM9 17H7v-7h2v7zm4 0h-2V7h2v10zm4 0h-2v-4h2v4z\"/>\n",
              "    </g>\n",
              "</svg>\n",
              "  </button>\n",
              "\n",
              "<style>\n",
              "  .colab-df-quickchart {\n",
              "      --bg-color: #E8F0FE;\n",
              "      --fill-color: #1967D2;\n",
              "      --hover-bg-color: #E2EBFA;\n",
              "      --hover-fill-color: #174EA6;\n",
              "      --disabled-fill-color: #AAA;\n",
              "      --disabled-bg-color: #DDD;\n",
              "  }\n",
              "\n",
              "  [theme=dark] .colab-df-quickchart {\n",
              "      --bg-color: #3B4455;\n",
              "      --fill-color: #D2E3FC;\n",
              "      --hover-bg-color: #434B5C;\n",
              "      --hover-fill-color: #FFFFFF;\n",
              "      --disabled-bg-color: #3B4455;\n",
              "      --disabled-fill-color: #666;\n",
              "  }\n",
              "\n",
              "  .colab-df-quickchart {\n",
              "    background-color: var(--bg-color);\n",
              "    border: none;\n",
              "    border-radius: 50%;\n",
              "    cursor: pointer;\n",
              "    display: none;\n",
              "    fill: var(--fill-color);\n",
              "    height: 32px;\n",
              "    padding: 0;\n",
              "    width: 32px;\n",
              "  }\n",
              "\n",
              "  .colab-df-quickchart:hover {\n",
              "    background-color: var(--hover-bg-color);\n",
              "    box-shadow: 0 1px 2px rgba(60, 64, 67, 0.3), 0 1px 3px 1px rgba(60, 64, 67, 0.15);\n",
              "    fill: var(--button-hover-fill-color);\n",
              "  }\n",
              "\n",
              "  .colab-df-quickchart-complete:disabled,\n",
              "  .colab-df-quickchart-complete:disabled:hover {\n",
              "    background-color: var(--disabled-bg-color);\n",
              "    fill: var(--disabled-fill-color);\n",
              "    box-shadow: none;\n",
              "  }\n",
              "\n",
              "  .colab-df-spinner {\n",
              "    border: 2px solid var(--fill-color);\n",
              "    border-color: transparent;\n",
              "    border-bottom-color: var(--fill-color);\n",
              "    animation:\n",
              "      spin 1s steps(1) infinite;\n",
              "  }\n",
              "\n",
              "  @keyframes spin {\n",
              "    0% {\n",
              "      border-color: transparent;\n",
              "      border-bottom-color: var(--fill-color);\n",
              "      border-left-color: var(--fill-color);\n",
              "    }\n",
              "    20% {\n",
              "      border-color: transparent;\n",
              "      border-left-color: var(--fill-color);\n",
              "      border-top-color: var(--fill-color);\n",
              "    }\n",
              "    30% {\n",
              "      border-color: transparent;\n",
              "      border-left-color: var(--fill-color);\n",
              "      border-top-color: var(--fill-color);\n",
              "      border-right-color: var(--fill-color);\n",
              "    }\n",
              "    40% {\n",
              "      border-color: transparent;\n",
              "      border-right-color: var(--fill-color);\n",
              "      border-top-color: var(--fill-color);\n",
              "    }\n",
              "    60% {\n",
              "      border-color: transparent;\n",
              "      border-right-color: var(--fill-color);\n",
              "    }\n",
              "    80% {\n",
              "      border-color: transparent;\n",
              "      border-right-color: var(--fill-color);\n",
              "      border-bottom-color: var(--fill-color);\n",
              "    }\n",
              "    90% {\n",
              "      border-color: transparent;\n",
              "      border-bottom-color: var(--fill-color);\n",
              "    }\n",
              "  }\n",
              "</style>\n",
              "\n",
              "  <script>\n",
              "    async function quickchart(key) {\n",
              "      const quickchartButtonEl =\n",
              "        document.querySelector('#' + key + ' button');\n",
              "      quickchartButtonEl.disabled = true;  // To prevent multiple clicks.\n",
              "      quickchartButtonEl.classList.add('colab-df-spinner');\n",
              "      try {\n",
              "        const charts = await google.colab.kernel.invokeFunction(\n",
              "            'suggestCharts', [key], {});\n",
              "      } catch (error) {\n",
              "        console.error('Error during call to suggestCharts:', error);\n",
              "      }\n",
              "      quickchartButtonEl.classList.remove('colab-df-spinner');\n",
              "      quickchartButtonEl.classList.add('colab-df-quickchart-complete');\n",
              "    }\n",
              "    (() => {\n",
              "      let quickchartButtonEl =\n",
              "        document.querySelector('#df-16d358c6-ddb5-4805-b7c6-738098f9593c button');\n",
              "      quickchartButtonEl.style.display =\n",
              "        google.colab.kernel.accessAllowed ? 'block' : 'none';\n",
              "    })();\n",
              "  </script>\n",
              "</div>\n",
              "\n",
              "  <div id=\"id_4d7e7369-95de-43ea-813b-77f400b627cb\">\n",
              "    <style>\n",
              "      .colab-df-generate {\n",
              "        background-color: #E8F0FE;\n",
              "        border: none;\n",
              "        border-radius: 50%;\n",
              "        cursor: pointer;\n",
              "        display: none;\n",
              "        fill: #1967D2;\n",
              "        height: 32px;\n",
              "        padding: 0 0 0 0;\n",
              "        width: 32px;\n",
              "      }\n",
              "\n",
              "      .colab-df-generate:hover {\n",
              "        background-color: #E2EBFA;\n",
              "        box-shadow: 0px 1px 2px rgba(60, 64, 67, 0.3), 0px 1px 3px 1px rgba(60, 64, 67, 0.15);\n",
              "        fill: #174EA6;\n",
              "      }\n",
              "\n",
              "      [theme=dark] .colab-df-generate {\n",
              "        background-color: #3B4455;\n",
              "        fill: #D2E3FC;\n",
              "      }\n",
              "\n",
              "      [theme=dark] .colab-df-generate:hover {\n",
              "        background-color: #434B5C;\n",
              "        box-shadow: 0px 1px 3px 1px rgba(0, 0, 0, 0.15);\n",
              "        filter: drop-shadow(0px 1px 2px rgba(0, 0, 0, 0.3));\n",
              "        fill: #FFFFFF;\n",
              "      }\n",
              "    </style>\n",
              "    <button class=\"colab-df-generate\" onclick=\"generateWithVariable('data')\"\n",
              "            title=\"Generate code using this dataframe.\"\n",
              "            style=\"display:none;\">\n",
              "\n",
              "  <svg xmlns=\"http://www.w3.org/2000/svg\" height=\"24px\"viewBox=\"0 0 24 24\"\n",
              "       width=\"24px\">\n",
              "    <path d=\"M7,19H8.4L18.45,9,17,7.55,7,17.6ZM5,21V16.75L18.45,3.32a2,2,0,0,1,2.83,0l1.4,1.43a1.91,1.91,0,0,1,.58,1.4,1.91,1.91,0,0,1-.58,1.4L9.25,21ZM18.45,9,17,7.55Zm-12,3A5.31,5.31,0,0,0,4.9,8.1,5.31,5.31,0,0,0,1,6.5,5.31,5.31,0,0,0,4.9,4.9,5.31,5.31,0,0,0,6.5,1,5.31,5.31,0,0,0,8.1,4.9,5.31,5.31,0,0,0,12,6.5,5.46,5.46,0,0,0,6.5,12Z\"/>\n",
              "  </svg>\n",
              "    </button>\n",
              "    <script>\n",
              "      (() => {\n",
              "      const buttonEl =\n",
              "        document.querySelector('#id_4d7e7369-95de-43ea-813b-77f400b627cb button.colab-df-generate');\n",
              "      buttonEl.style.display =\n",
              "        google.colab.kernel.accessAllowed ? 'block' : 'none';\n",
              "\n",
              "      buttonEl.onclick = () => {\n",
              "        google.colab.notebook.generateWithVariable('data');\n",
              "      }\n",
              "      })();\n",
              "    </script>\n",
              "  </div>\n",
              "\n",
              "    </div>\n",
              "  </div>\n"
            ],
            "text/plain": [
              "        category                                               text\n",
              "4657  teknoloji    acıların kedisi sam çatık kaşlı kedi sam in i...\n",
              "3539       spor    g saray a git santos van_persie den forma ala...\n",
              "907       dunya    endonezya da çatışmalar 14 ölü endonezya da i...\n",
              "4353  teknoloji    emniyetten polis logolu virüs uyarısı telefon...\n",
              "3745       spor    beni türk yapın cristian_baroni yıldırım dan ...\n",
              "...          ...                                                ...\n",
              "4426  teknoloji    kuantum bilgisayarlar için dev adım amerikalı...\n",
              "466     siyaset    koç tan kürt sorunu ile ilgili önemli açıklam...\n",
              "3092     saglik    her yıl 125 bin bebek prematüre doğuyor türki...\n",
              "3772       spor    g saray da borç alacak farkı büyük ! galatasa...\n",
              "860       dunya    fas a 1 25 milyar dolar yardım suudi_arabista...\n",
              "\n",
              "[4900 rows x 2 columns]"
            ]
          },
          "execution_count": 9,
          "metadata": {},
          "output_type": "execute_result"
        }
      ],
      "source": [
        "data = data.sample(frac=1.0, random_state=42)\n",
        "data"
      ]
    },
    {
      "cell_type": "code",
      "execution_count": 10,
      "metadata": {
        "colab": {
          "base_uri": "https://localhost:8080/",
          "height": 206
        },
        "id": "pBYF4uLKTOS_",
        "outputId": "d6961f33-df22-45e8-b73c-380189bbf8ce"
      },
      "outputs": [
        {
          "data": {
            "application/vnd.google.colaboratory.intrinsic+json": {
              "summary": "{\n  \"name\": \"data\",\n  \"rows\": 4900,\n  \"fields\": [\n    {\n      \"column\": \"category\",\n      \"properties\": {\n        \"dtype\": \"category\",\n        \"num_unique_values\": 7,\n        \"samples\": [\n          \"teknoloji \",\n          \"spor \",\n          \"saglik \"\n        ],\n        \"semantic_type\": \"\",\n        \"description\": \"\"\n      }\n    },\n    {\n      \"column\": \"text\",\n      \"properties\": {\n        \"dtype\": \"string\",\n        \"num_unique_values\": 4539,\n        \"samples\": [\n          \" demirhan \\u015ferefhan yeniden aday oldu t\\u00fcrkiye bedensel engelliler spor federasyonu \\u0092 nda 2000 2008 aras\\u0131nda ba\\u015fkanl\\u0131k yapan gen\\u00e7 y\\u00f6netici se\\u00e7ime giriyor bedensel engelliler spor federasyonu \\u0092 nun eski ba\\u015fkan\\u0131 demirhan \\u015ferefhan yeni d\\u00f6nemde bir kez daha se\\u00e7ilmek i\\u00e7in adayl\\u0131\\u011f\\u0131n\\u0131 a\\u00e7\\u0131klad\\u0131 \\u015ferefhan 2000 2008 aras\\u0131nda federasyon ba\\u015fkanl\\u0131\\u011f\\u0131 yapm\\u0131\\u015ft\\u0131 ba\\u015fkanl\\u0131\\u011f\\u0131 d\\u00f6neminde bran\\u015f say\\u0131s\\u0131n\\u0131 3 \\u0092 ten 13 \\u0092 e \\u00e7\\u0131kard\\u0131klar\\u0131n\\u0131 belirten \\u015ferefhan \\u015funlar\\u0131 s\\u00f6yledi \\u0093 \\u00f6zellikle paralimpik say\\u0131s\\u0131n\\u0131n artmas\\u0131na \\u00f6nem verdik \\u00e7\\u00fcnk\\u00fc bunlar sporcular\\u0131m\\u0131z\\u0131n se\\u00e7ece\\u011fi lokomotif olacak bran\\u015flard\\u0131 2012 oyunlar\\u0131nda ne kadar isabetli karar verdi\\u011fimizi g\\u00f6rd\\u00fck londra \\u0092 ya giden oyuncu ve antren\\u00f6rlerin b\\u00fcy\\u00fck \\u00e7o\\u011funlu\\u011fu bizim projelerimizle spora kazand\\u0131r\\u0131lm\\u0131\\u015f isimler g\\u00f6rme ve bedensel engelli bran\\u015flar\\u0131nda 10 madalyayla d\\u00f6nen \\u00e7ocuklar\\u0131m\\u0131z bizleri gururland\\u0131rd\\u0131 \\u0094 sponsorlar artirilmali yeni projeler \\u00fcrettiklerini vurgulayan \\u015ferefhan \\u015f\\u00f6yle devam etti \\u0093 futbol ve basketbol federasyonlar\\u0131 gibi profesyonel sisteme ge\\u00e7meyi planl\\u0131yoruz sonras\\u0131nda sponsorlar\\u0131n art\\u0131r\\u0131lmas\\u0131 gerekiyor \\u0091 tek ta\\u015f p\\u0131rlanta \\u0092 diye tabir etti\\u011fimiz tekerlekli sandalye basketbolu ve ampute futbol ligimiz var bu liglerin isim haklar\\u0131yla ilgili \\u00e7al\\u0131\\u015fmalar\\u0131m\\u0131z devam ediyor ampute futbolunun paralimpik bran\\u015f olmas\\u0131 i\\u00e7in londra \\u0092 da baz\\u0131 g\\u00f6r\\u00fc\\u015fmelerimiz oldu yeni d\\u00f6nemde kul\\u00fcplerimize daha \\u00e7ok sahip \\u00e7\\u0131kaca\\u011f\\u0131z sponsor gelirlerinin malzeme ya da ayni olarak kul\\u00fcplere aktar\\u0131lmas\\u0131 \\u00e7al\\u0131\\u015fmalar\\u0131m\\u0131z var bizim ad\\u0131m\\u0131z federasyon soyad\\u0131m\\u0131z rehabilitasyon \\u0094\",\n          \" \\u00fcrd\\u00fcn de yeni h\\u00fck\\u00fcmet \\u00fcrd\\u00fcn_kral\\u0131 2 abdullah yeni h\\u00fck\\u00fcmeti kurmas\\u0131 i\\u00e7in abdullah en nasur u g\\u00f6revlendirdi kraliyet divan\\u0131 taraf\\u0131ndan yay\\u0131mlanan yaz\\u0131l\\u0131 a\\u00e7\\u0131klamada kral_abdullah \\u0131n dr abdullah en nasur u bug\\u00fcn istifas\\u0131n\\u0131 sunan eski ba\\u015fbakan fayiz taravne nin ard\\u0131ndan yeni h\\u00fck\\u00fcmeti kurmakla g\\u00f6revlendirdi\\u011fi bildirildi aa\",\n          \" m\\u00fczisyenden az kullan\\u0131lm\\u0131\\u015f saat \\u00fcnl\\u00fc m\\u00fczisyen eric clapton \\u0092 \\u0131n 67 patek philippe marka el yap\\u0131m\\u0131 isvi\\u00e7re saati al\\u0131c\\u0131s\\u0131n\\u0131 bekliyor hobi olarak ba\\u015flad\\u0131\\u011f\\u0131 koleksiyonculukta hat\\u0131r\\u0131 say\\u0131l\\u0131r bir klasik saat portf\\u00f6y\\u00fcne ula\\u015fan clapton baz\\u0131 par\\u00e7alar\\u0131 m\\u00fczayedelerde sat\\u0131\\u015fa \\u00e7\\u0131kar\\u0131yor cenevre \\u0092 de hafta sonu a\\u00e7\\u0131k art\\u0131rmaya \\u00e7\\u0131kacak bu patek philippe saatin 2 5 ila 4 milyon dolar 4 5 milyon tl ile 7 2 milyon tl aras\\u0131 bir fiyata sat\\u0131lmas\\u0131 bekleniyor\"\n        ],\n        \"semantic_type\": \"\",\n        \"description\": \"\"\n      }\n    }\n  ]\n}",
              "type": "dataframe",
              "variable_name": "data"
            },
            "text/html": [
              "\n",
              "  <div id=\"df-83917d19-1f54-4da9-a5cf-6627269314eb\" class=\"colab-df-container\">\n",
              "    <div>\n",
              "<style scoped>\n",
              "    .dataframe tbody tr th:only-of-type {\n",
              "        vertical-align: middle;\n",
              "    }\n",
              "\n",
              "    .dataframe tbody tr th {\n",
              "        vertical-align: top;\n",
              "    }\n",
              "\n",
              "    .dataframe thead th {\n",
              "        text-align: right;\n",
              "    }\n",
              "</style>\n",
              "<table border=\"1\" class=\"dataframe\">\n",
              "  <thead>\n",
              "    <tr style=\"text-align: right;\">\n",
              "      <th></th>\n",
              "      <th>category</th>\n",
              "      <th>text</th>\n",
              "    </tr>\n",
              "  </thead>\n",
              "  <tbody>\n",
              "    <tr>\n",
              "      <th>4657</th>\n",
              "      <td>teknoloji</td>\n",
              "      <td>acıların kedisi sam çatık kaşlı kedi sam in i...</td>\n",
              "    </tr>\n",
              "    <tr>\n",
              "      <th>3539</th>\n",
              "      <td>spor</td>\n",
              "      <td>g saray a git santos van_persie den forma ala...</td>\n",
              "    </tr>\n",
              "    <tr>\n",
              "      <th>907</th>\n",
              "      <td>dunya</td>\n",
              "      <td>endonezya da çatışmalar 14 ölü endonezya da i...</td>\n",
              "    </tr>\n",
              "    <tr>\n",
              "      <th>4353</th>\n",
              "      <td>teknoloji</td>\n",
              "      <td>emniyetten polis logolu virüs uyarısı telefon...</td>\n",
              "    </tr>\n",
              "    <tr>\n",
              "      <th>3745</th>\n",
              "      <td>spor</td>\n",
              "      <td>beni türk yapın cristian_baroni yıldırım dan ...</td>\n",
              "    </tr>\n",
              "  </tbody>\n",
              "</table>\n",
              "</div>\n",
              "    <div class=\"colab-df-buttons\">\n",
              "\n",
              "  <div class=\"colab-df-container\">\n",
              "    <button class=\"colab-df-convert\" onclick=\"convertToInteractive('df-83917d19-1f54-4da9-a5cf-6627269314eb')\"\n",
              "            title=\"Convert this dataframe to an interactive table.\"\n",
              "            style=\"display:none;\">\n",
              "\n",
              "  <svg xmlns=\"http://www.w3.org/2000/svg\" height=\"24px\" viewBox=\"0 -960 960 960\">\n",
              "    <path d=\"M120-120v-720h720v720H120Zm60-500h600v-160H180v160Zm220 220h160v-160H400v160Zm0 220h160v-160H400v160ZM180-400h160v-160H180v160Zm440 0h160v-160H620v160ZM180-180h160v-160H180v160Zm440 0h160v-160H620v160Z\"/>\n",
              "  </svg>\n",
              "    </button>\n",
              "\n",
              "  <style>\n",
              "    .colab-df-container {\n",
              "      display:flex;\n",
              "      gap: 12px;\n",
              "    }\n",
              "\n",
              "    .colab-df-convert {\n",
              "      background-color: #E8F0FE;\n",
              "      border: none;\n",
              "      border-radius: 50%;\n",
              "      cursor: pointer;\n",
              "      display: none;\n",
              "      fill: #1967D2;\n",
              "      height: 32px;\n",
              "      padding: 0 0 0 0;\n",
              "      width: 32px;\n",
              "    }\n",
              "\n",
              "    .colab-df-convert:hover {\n",
              "      background-color: #E2EBFA;\n",
              "      box-shadow: 0px 1px 2px rgba(60, 64, 67, 0.3), 0px 1px 3px 1px rgba(60, 64, 67, 0.15);\n",
              "      fill: #174EA6;\n",
              "    }\n",
              "\n",
              "    .colab-df-buttons div {\n",
              "      margin-bottom: 4px;\n",
              "    }\n",
              "\n",
              "    [theme=dark] .colab-df-convert {\n",
              "      background-color: #3B4455;\n",
              "      fill: #D2E3FC;\n",
              "    }\n",
              "\n",
              "    [theme=dark] .colab-df-convert:hover {\n",
              "      background-color: #434B5C;\n",
              "      box-shadow: 0px 1px 3px 1px rgba(0, 0, 0, 0.15);\n",
              "      filter: drop-shadow(0px 1px 2px rgba(0, 0, 0, 0.3));\n",
              "      fill: #FFFFFF;\n",
              "    }\n",
              "  </style>\n",
              "\n",
              "    <script>\n",
              "      const buttonEl =\n",
              "        document.querySelector('#df-83917d19-1f54-4da9-a5cf-6627269314eb button.colab-df-convert');\n",
              "      buttonEl.style.display =\n",
              "        google.colab.kernel.accessAllowed ? 'block' : 'none';\n",
              "\n",
              "      async function convertToInteractive(key) {\n",
              "        const element = document.querySelector('#df-83917d19-1f54-4da9-a5cf-6627269314eb');\n",
              "        const dataTable =\n",
              "          await google.colab.kernel.invokeFunction('convertToInteractive',\n",
              "                                                    [key], {});\n",
              "        if (!dataTable) return;\n",
              "\n",
              "        const docLinkHtml = 'Like what you see? Visit the ' +\n",
              "          '<a target=\"_blank\" href=https://colab.research.google.com/notebooks/data_table.ipynb>data table notebook</a>'\n",
              "          + ' to learn more about interactive tables.';\n",
              "        element.innerHTML = '';\n",
              "        dataTable['output_type'] = 'display_data';\n",
              "        await google.colab.output.renderOutput(dataTable, element);\n",
              "        const docLink = document.createElement('div');\n",
              "        docLink.innerHTML = docLinkHtml;\n",
              "        element.appendChild(docLink);\n",
              "      }\n",
              "    </script>\n",
              "  </div>\n",
              "\n",
              "\n",
              "<div id=\"df-60bddd00-fa99-4dbe-b284-2015d181684e\">\n",
              "  <button class=\"colab-df-quickchart\" onclick=\"quickchart('df-60bddd00-fa99-4dbe-b284-2015d181684e')\"\n",
              "            title=\"Suggest charts\"\n",
              "            style=\"display:none;\">\n",
              "\n",
              "<svg xmlns=\"http://www.w3.org/2000/svg\" height=\"24px\"viewBox=\"0 0 24 24\"\n",
              "     width=\"24px\">\n",
              "    <g>\n",
              "        <path d=\"M19 3H5c-1.1 0-2 .9-2 2v14c0 1.1.9 2 2 2h14c1.1 0 2-.9 2-2V5c0-1.1-.9-2-2-2zM9 17H7v-7h2v7zm4 0h-2V7h2v10zm4 0h-2v-4h2v4z\"/>\n",
              "    </g>\n",
              "</svg>\n",
              "  </button>\n",
              "\n",
              "<style>\n",
              "  .colab-df-quickchart {\n",
              "      --bg-color: #E8F0FE;\n",
              "      --fill-color: #1967D2;\n",
              "      --hover-bg-color: #E2EBFA;\n",
              "      --hover-fill-color: #174EA6;\n",
              "      --disabled-fill-color: #AAA;\n",
              "      --disabled-bg-color: #DDD;\n",
              "  }\n",
              "\n",
              "  [theme=dark] .colab-df-quickchart {\n",
              "      --bg-color: #3B4455;\n",
              "      --fill-color: #D2E3FC;\n",
              "      --hover-bg-color: #434B5C;\n",
              "      --hover-fill-color: #FFFFFF;\n",
              "      --disabled-bg-color: #3B4455;\n",
              "      --disabled-fill-color: #666;\n",
              "  }\n",
              "\n",
              "  .colab-df-quickchart {\n",
              "    background-color: var(--bg-color);\n",
              "    border: none;\n",
              "    border-radius: 50%;\n",
              "    cursor: pointer;\n",
              "    display: none;\n",
              "    fill: var(--fill-color);\n",
              "    height: 32px;\n",
              "    padding: 0;\n",
              "    width: 32px;\n",
              "  }\n",
              "\n",
              "  .colab-df-quickchart:hover {\n",
              "    background-color: var(--hover-bg-color);\n",
              "    box-shadow: 0 1px 2px rgba(60, 64, 67, 0.3), 0 1px 3px 1px rgba(60, 64, 67, 0.15);\n",
              "    fill: var(--button-hover-fill-color);\n",
              "  }\n",
              "\n",
              "  .colab-df-quickchart-complete:disabled,\n",
              "  .colab-df-quickchart-complete:disabled:hover {\n",
              "    background-color: var(--disabled-bg-color);\n",
              "    fill: var(--disabled-fill-color);\n",
              "    box-shadow: none;\n",
              "  }\n",
              "\n",
              "  .colab-df-spinner {\n",
              "    border: 2px solid var(--fill-color);\n",
              "    border-color: transparent;\n",
              "    border-bottom-color: var(--fill-color);\n",
              "    animation:\n",
              "      spin 1s steps(1) infinite;\n",
              "  }\n",
              "\n",
              "  @keyframes spin {\n",
              "    0% {\n",
              "      border-color: transparent;\n",
              "      border-bottom-color: var(--fill-color);\n",
              "      border-left-color: var(--fill-color);\n",
              "    }\n",
              "    20% {\n",
              "      border-color: transparent;\n",
              "      border-left-color: var(--fill-color);\n",
              "      border-top-color: var(--fill-color);\n",
              "    }\n",
              "    30% {\n",
              "      border-color: transparent;\n",
              "      border-left-color: var(--fill-color);\n",
              "      border-top-color: var(--fill-color);\n",
              "      border-right-color: var(--fill-color);\n",
              "    }\n",
              "    40% {\n",
              "      border-color: transparent;\n",
              "      border-right-color: var(--fill-color);\n",
              "      border-top-color: var(--fill-color);\n",
              "    }\n",
              "    60% {\n",
              "      border-color: transparent;\n",
              "      border-right-color: var(--fill-color);\n",
              "    }\n",
              "    80% {\n",
              "      border-color: transparent;\n",
              "      border-right-color: var(--fill-color);\n",
              "      border-bottom-color: var(--fill-color);\n",
              "    }\n",
              "    90% {\n",
              "      border-color: transparent;\n",
              "      border-bottom-color: var(--fill-color);\n",
              "    }\n",
              "  }\n",
              "</style>\n",
              "\n",
              "  <script>\n",
              "    async function quickchart(key) {\n",
              "      const quickchartButtonEl =\n",
              "        document.querySelector('#' + key + ' button');\n",
              "      quickchartButtonEl.disabled = true;  // To prevent multiple clicks.\n",
              "      quickchartButtonEl.classList.add('colab-df-spinner');\n",
              "      try {\n",
              "        const charts = await google.colab.kernel.invokeFunction(\n",
              "            'suggestCharts', [key], {});\n",
              "      } catch (error) {\n",
              "        console.error('Error during call to suggestCharts:', error);\n",
              "      }\n",
              "      quickchartButtonEl.classList.remove('colab-df-spinner');\n",
              "      quickchartButtonEl.classList.add('colab-df-quickchart-complete');\n",
              "    }\n",
              "    (() => {\n",
              "      let quickchartButtonEl =\n",
              "        document.querySelector('#df-60bddd00-fa99-4dbe-b284-2015d181684e button');\n",
              "      quickchartButtonEl.style.display =\n",
              "        google.colab.kernel.accessAllowed ? 'block' : 'none';\n",
              "    })();\n",
              "  </script>\n",
              "</div>\n",
              "\n",
              "    </div>\n",
              "  </div>\n"
            ],
            "text/plain": [
              "        category                                               text\n",
              "4657  teknoloji    acıların kedisi sam çatık kaşlı kedi sam in i...\n",
              "3539       spor    g saray a git santos van_persie den forma ala...\n",
              "907       dunya    endonezya da çatışmalar 14 ölü endonezya da i...\n",
              "4353  teknoloji    emniyetten polis logolu virüs uyarısı telefon...\n",
              "3745       spor    beni türk yapın cristian_baroni yıldırım dan ..."
            ]
          },
          "execution_count": 10,
          "metadata": {},
          "output_type": "execute_result"
        }
      ],
      "source": [
        "data.head(5)"
      ]
    },
    {
      "cell_type": "code",
      "execution_count": 11,
      "metadata": {
        "id": "5jyOH3YGvyYW"
      },
      "outputs": [],
      "source": [
        "labels = [\"teknoloji\", \"ekonomi\", \"saglik\", \"siyaset\", \"kultur\", \"spor\", \"dunya\"]\n",
        "NUM_LABELS = len(labels)\n",
        "id2label = {i: l for i, l in enumerate(labels)}\n",
        "label2id = {l: i for i, l in enumerate(labels)}"
      ]
    },
    {
      "cell_type": "code",
      "execution_count": 12,
      "metadata": {
        "colab": {
          "base_uri": "https://localhost:8080/"
        },
        "id": "MQ6iJXbFn86y",
        "outputId": "e7e34039-131f-4481-b27d-1d8b97b625c8"
      },
      "outputs": [
        {
          "data": {
            "text/plain": [
              "{0: 'teknoloji',\n",
              " 1: 'ekonomi',\n",
              " 2: 'saglik',\n",
              " 3: 'siyaset',\n",
              " 4: 'kultur',\n",
              " 5: 'spor',\n",
              " 6: 'dunya'}"
            ]
          },
          "execution_count": 12,
          "metadata": {},
          "output_type": "execute_result"
        }
      ],
      "source": [
        "id2label"
      ]
    },
    {
      "cell_type": "code",
      "execution_count": 13,
      "metadata": {
        "colab": {
          "base_uri": "https://localhost:8080/"
        },
        "id": "EJYWAXVovqOQ",
        "outputId": "8d194a9b-1a82-4a1c-cdfa-c2ed65fc236e"
      },
      "outputs": [
        {
          "data": {
            "text/plain": [
              "{'teknoloji': 0,\n",
              " 'ekonomi': 1,\n",
              " 'saglik': 2,\n",
              " 'siyaset': 3,\n",
              " 'kultur': 4,\n",
              " 'spor': 5,\n",
              " 'dunya': 6}"
            ]
          },
          "execution_count": 13,
          "metadata": {},
          "output_type": "execute_result"
        }
      ],
      "source": [
        "label2id"
      ]
    },
    {
      "cell_type": "code",
      "execution_count": 14,
      "metadata": {
        "id": "HbdFN3VZoawV"
      },
      "outputs": [],
      "source": [
        "data[\"labels\"] = data.category.map(lambda x: label2id[x.strip()])"
      ]
    },
    {
      "cell_type": "code",
      "execution_count": 15,
      "metadata": {
        "colab": {
          "base_uri": "https://localhost:8080/",
          "height": 206
        },
        "id": "KGAcx7nqwJgm",
        "outputId": "5e5a593f-5a9e-4aff-d231-5c544c22ce38"
      },
      "outputs": [
        {
          "data": {
            "application/vnd.google.colaboratory.intrinsic+json": {
              "summary": "{\n  \"name\": \"data\",\n  \"rows\": 4900,\n  \"fields\": [\n    {\n      \"column\": \"category\",\n      \"properties\": {\n        \"dtype\": \"category\",\n        \"num_unique_values\": 7,\n        \"samples\": [\n          \"teknoloji \",\n          \"spor \",\n          \"saglik \"\n        ],\n        \"semantic_type\": \"\",\n        \"description\": \"\"\n      }\n    },\n    {\n      \"column\": \"text\",\n      \"properties\": {\n        \"dtype\": \"string\",\n        \"num_unique_values\": 4539,\n        \"samples\": [\n          \" demirhan \\u015ferefhan yeniden aday oldu t\\u00fcrkiye bedensel engelliler spor federasyonu \\u0092 nda 2000 2008 aras\\u0131nda ba\\u015fkanl\\u0131k yapan gen\\u00e7 y\\u00f6netici se\\u00e7ime giriyor bedensel engelliler spor federasyonu \\u0092 nun eski ba\\u015fkan\\u0131 demirhan \\u015ferefhan yeni d\\u00f6nemde bir kez daha se\\u00e7ilmek i\\u00e7in adayl\\u0131\\u011f\\u0131n\\u0131 a\\u00e7\\u0131klad\\u0131 \\u015ferefhan 2000 2008 aras\\u0131nda federasyon ba\\u015fkanl\\u0131\\u011f\\u0131 yapm\\u0131\\u015ft\\u0131 ba\\u015fkanl\\u0131\\u011f\\u0131 d\\u00f6neminde bran\\u015f say\\u0131s\\u0131n\\u0131 3 \\u0092 ten 13 \\u0092 e \\u00e7\\u0131kard\\u0131klar\\u0131n\\u0131 belirten \\u015ferefhan \\u015funlar\\u0131 s\\u00f6yledi \\u0093 \\u00f6zellikle paralimpik say\\u0131s\\u0131n\\u0131n artmas\\u0131na \\u00f6nem verdik \\u00e7\\u00fcnk\\u00fc bunlar sporcular\\u0131m\\u0131z\\u0131n se\\u00e7ece\\u011fi lokomotif olacak bran\\u015flard\\u0131 2012 oyunlar\\u0131nda ne kadar isabetli karar verdi\\u011fimizi g\\u00f6rd\\u00fck londra \\u0092 ya giden oyuncu ve antren\\u00f6rlerin b\\u00fcy\\u00fck \\u00e7o\\u011funlu\\u011fu bizim projelerimizle spora kazand\\u0131r\\u0131lm\\u0131\\u015f isimler g\\u00f6rme ve bedensel engelli bran\\u015flar\\u0131nda 10 madalyayla d\\u00f6nen \\u00e7ocuklar\\u0131m\\u0131z bizleri gururland\\u0131rd\\u0131 \\u0094 sponsorlar artirilmali yeni projeler \\u00fcrettiklerini vurgulayan \\u015ferefhan \\u015f\\u00f6yle devam etti \\u0093 futbol ve basketbol federasyonlar\\u0131 gibi profesyonel sisteme ge\\u00e7meyi planl\\u0131yoruz sonras\\u0131nda sponsorlar\\u0131n art\\u0131r\\u0131lmas\\u0131 gerekiyor \\u0091 tek ta\\u015f p\\u0131rlanta \\u0092 diye tabir etti\\u011fimiz tekerlekli sandalye basketbolu ve ampute futbol ligimiz var bu liglerin isim haklar\\u0131yla ilgili \\u00e7al\\u0131\\u015fmalar\\u0131m\\u0131z devam ediyor ampute futbolunun paralimpik bran\\u015f olmas\\u0131 i\\u00e7in londra \\u0092 da baz\\u0131 g\\u00f6r\\u00fc\\u015fmelerimiz oldu yeni d\\u00f6nemde kul\\u00fcplerimize daha \\u00e7ok sahip \\u00e7\\u0131kaca\\u011f\\u0131z sponsor gelirlerinin malzeme ya da ayni olarak kul\\u00fcplere aktar\\u0131lmas\\u0131 \\u00e7al\\u0131\\u015fmalar\\u0131m\\u0131z var bizim ad\\u0131m\\u0131z federasyon soyad\\u0131m\\u0131z rehabilitasyon \\u0094\",\n          \" \\u00fcrd\\u00fcn de yeni h\\u00fck\\u00fcmet \\u00fcrd\\u00fcn_kral\\u0131 2 abdullah yeni h\\u00fck\\u00fcmeti kurmas\\u0131 i\\u00e7in abdullah en nasur u g\\u00f6revlendirdi kraliyet divan\\u0131 taraf\\u0131ndan yay\\u0131mlanan yaz\\u0131l\\u0131 a\\u00e7\\u0131klamada kral_abdullah \\u0131n dr abdullah en nasur u bug\\u00fcn istifas\\u0131n\\u0131 sunan eski ba\\u015fbakan fayiz taravne nin ard\\u0131ndan yeni h\\u00fck\\u00fcmeti kurmakla g\\u00f6revlendirdi\\u011fi bildirildi aa\",\n          \" m\\u00fczisyenden az kullan\\u0131lm\\u0131\\u015f saat \\u00fcnl\\u00fc m\\u00fczisyen eric clapton \\u0092 \\u0131n 67 patek philippe marka el yap\\u0131m\\u0131 isvi\\u00e7re saati al\\u0131c\\u0131s\\u0131n\\u0131 bekliyor hobi olarak ba\\u015flad\\u0131\\u011f\\u0131 koleksiyonculukta hat\\u0131r\\u0131 say\\u0131l\\u0131r bir klasik saat portf\\u00f6y\\u00fcne ula\\u015fan clapton baz\\u0131 par\\u00e7alar\\u0131 m\\u00fczayedelerde sat\\u0131\\u015fa \\u00e7\\u0131kar\\u0131yor cenevre \\u0092 de hafta sonu a\\u00e7\\u0131k art\\u0131rmaya \\u00e7\\u0131kacak bu patek philippe saatin 2 5 ila 4 milyon dolar 4 5 milyon tl ile 7 2 milyon tl aras\\u0131 bir fiyata sat\\u0131lmas\\u0131 bekleniyor\"\n        ],\n        \"semantic_type\": \"\",\n        \"description\": \"\"\n      }\n    },\n    {\n      \"column\": \"labels\",\n      \"properties\": {\n        \"dtype\": \"number\",\n        \"std\": 2,\n        \"min\": 0,\n        \"max\": 6,\n        \"num_unique_values\": 7,\n        \"samples\": [\n          0,\n          5,\n          2\n        ],\n        \"semantic_type\": \"\",\n        \"description\": \"\"\n      }\n    }\n  ]\n}",
              "type": "dataframe",
              "variable_name": "data"
            },
            "text/html": [
              "\n",
              "  <div id=\"df-2e668b85-ed2b-4eb9-a718-fbb43e890462\" class=\"colab-df-container\">\n",
              "    <div>\n",
              "<style scoped>\n",
              "    .dataframe tbody tr th:only-of-type {\n",
              "        vertical-align: middle;\n",
              "    }\n",
              "\n",
              "    .dataframe tbody tr th {\n",
              "        vertical-align: top;\n",
              "    }\n",
              "\n",
              "    .dataframe thead th {\n",
              "        text-align: right;\n",
              "    }\n",
              "</style>\n",
              "<table border=\"1\" class=\"dataframe\">\n",
              "  <thead>\n",
              "    <tr style=\"text-align: right;\">\n",
              "      <th></th>\n",
              "      <th>category</th>\n",
              "      <th>text</th>\n",
              "      <th>labels</th>\n",
              "    </tr>\n",
              "  </thead>\n",
              "  <tbody>\n",
              "    <tr>\n",
              "      <th>4657</th>\n",
              "      <td>teknoloji</td>\n",
              "      <td>acıların kedisi sam çatık kaşlı kedi sam in i...</td>\n",
              "      <td>0</td>\n",
              "    </tr>\n",
              "    <tr>\n",
              "      <th>3539</th>\n",
              "      <td>spor</td>\n",
              "      <td>g saray a git santos van_persie den forma ala...</td>\n",
              "      <td>5</td>\n",
              "    </tr>\n",
              "    <tr>\n",
              "      <th>907</th>\n",
              "      <td>dunya</td>\n",
              "      <td>endonezya da çatışmalar 14 ölü endonezya da i...</td>\n",
              "      <td>6</td>\n",
              "    </tr>\n",
              "    <tr>\n",
              "      <th>4353</th>\n",
              "      <td>teknoloji</td>\n",
              "      <td>emniyetten polis logolu virüs uyarısı telefon...</td>\n",
              "      <td>0</td>\n",
              "    </tr>\n",
              "    <tr>\n",
              "      <th>3745</th>\n",
              "      <td>spor</td>\n",
              "      <td>beni türk yapın cristian_baroni yıldırım dan ...</td>\n",
              "      <td>5</td>\n",
              "    </tr>\n",
              "  </tbody>\n",
              "</table>\n",
              "</div>\n",
              "    <div class=\"colab-df-buttons\">\n",
              "\n",
              "  <div class=\"colab-df-container\">\n",
              "    <button class=\"colab-df-convert\" onclick=\"convertToInteractive('df-2e668b85-ed2b-4eb9-a718-fbb43e890462')\"\n",
              "            title=\"Convert this dataframe to an interactive table.\"\n",
              "            style=\"display:none;\">\n",
              "\n",
              "  <svg xmlns=\"http://www.w3.org/2000/svg\" height=\"24px\" viewBox=\"0 -960 960 960\">\n",
              "    <path d=\"M120-120v-720h720v720H120Zm60-500h600v-160H180v160Zm220 220h160v-160H400v160Zm0 220h160v-160H400v160ZM180-400h160v-160H180v160Zm440 0h160v-160H620v160ZM180-180h160v-160H180v160Zm440 0h160v-160H620v160Z\"/>\n",
              "  </svg>\n",
              "    </button>\n",
              "\n",
              "  <style>\n",
              "    .colab-df-container {\n",
              "      display:flex;\n",
              "      gap: 12px;\n",
              "    }\n",
              "\n",
              "    .colab-df-convert {\n",
              "      background-color: #E8F0FE;\n",
              "      border: none;\n",
              "      border-radius: 50%;\n",
              "      cursor: pointer;\n",
              "      display: none;\n",
              "      fill: #1967D2;\n",
              "      height: 32px;\n",
              "      padding: 0 0 0 0;\n",
              "      width: 32px;\n",
              "    }\n",
              "\n",
              "    .colab-df-convert:hover {\n",
              "      background-color: #E2EBFA;\n",
              "      box-shadow: 0px 1px 2px rgba(60, 64, 67, 0.3), 0px 1px 3px 1px rgba(60, 64, 67, 0.15);\n",
              "      fill: #174EA6;\n",
              "    }\n",
              "\n",
              "    .colab-df-buttons div {\n",
              "      margin-bottom: 4px;\n",
              "    }\n",
              "\n",
              "    [theme=dark] .colab-df-convert {\n",
              "      background-color: #3B4455;\n",
              "      fill: #D2E3FC;\n",
              "    }\n",
              "\n",
              "    [theme=dark] .colab-df-convert:hover {\n",
              "      background-color: #434B5C;\n",
              "      box-shadow: 0px 1px 3px 1px rgba(0, 0, 0, 0.15);\n",
              "      filter: drop-shadow(0px 1px 2px rgba(0, 0, 0, 0.3));\n",
              "      fill: #FFFFFF;\n",
              "    }\n",
              "  </style>\n",
              "\n",
              "    <script>\n",
              "      const buttonEl =\n",
              "        document.querySelector('#df-2e668b85-ed2b-4eb9-a718-fbb43e890462 button.colab-df-convert');\n",
              "      buttonEl.style.display =\n",
              "        google.colab.kernel.accessAllowed ? 'block' : 'none';\n",
              "\n",
              "      async function convertToInteractive(key) {\n",
              "        const element = document.querySelector('#df-2e668b85-ed2b-4eb9-a718-fbb43e890462');\n",
              "        const dataTable =\n",
              "          await google.colab.kernel.invokeFunction('convertToInteractive',\n",
              "                                                    [key], {});\n",
              "        if (!dataTable) return;\n",
              "\n",
              "        const docLinkHtml = 'Like what you see? Visit the ' +\n",
              "          '<a target=\"_blank\" href=https://colab.research.google.com/notebooks/data_table.ipynb>data table notebook</a>'\n",
              "          + ' to learn more about interactive tables.';\n",
              "        element.innerHTML = '';\n",
              "        dataTable['output_type'] = 'display_data';\n",
              "        await google.colab.output.renderOutput(dataTable, element);\n",
              "        const docLink = document.createElement('div');\n",
              "        docLink.innerHTML = docLinkHtml;\n",
              "        element.appendChild(docLink);\n",
              "      }\n",
              "    </script>\n",
              "  </div>\n",
              "\n",
              "\n",
              "<div id=\"df-92e3f4b6-5a54-4119-9561-061c4e25054e\">\n",
              "  <button class=\"colab-df-quickchart\" onclick=\"quickchart('df-92e3f4b6-5a54-4119-9561-061c4e25054e')\"\n",
              "            title=\"Suggest charts\"\n",
              "            style=\"display:none;\">\n",
              "\n",
              "<svg xmlns=\"http://www.w3.org/2000/svg\" height=\"24px\"viewBox=\"0 0 24 24\"\n",
              "     width=\"24px\">\n",
              "    <g>\n",
              "        <path d=\"M19 3H5c-1.1 0-2 .9-2 2v14c0 1.1.9 2 2 2h14c1.1 0 2-.9 2-2V5c0-1.1-.9-2-2-2zM9 17H7v-7h2v7zm4 0h-2V7h2v10zm4 0h-2v-4h2v4z\"/>\n",
              "    </g>\n",
              "</svg>\n",
              "  </button>\n",
              "\n",
              "<style>\n",
              "  .colab-df-quickchart {\n",
              "      --bg-color: #E8F0FE;\n",
              "      --fill-color: #1967D2;\n",
              "      --hover-bg-color: #E2EBFA;\n",
              "      --hover-fill-color: #174EA6;\n",
              "      --disabled-fill-color: #AAA;\n",
              "      --disabled-bg-color: #DDD;\n",
              "  }\n",
              "\n",
              "  [theme=dark] .colab-df-quickchart {\n",
              "      --bg-color: #3B4455;\n",
              "      --fill-color: #D2E3FC;\n",
              "      --hover-bg-color: #434B5C;\n",
              "      --hover-fill-color: #FFFFFF;\n",
              "      --disabled-bg-color: #3B4455;\n",
              "      --disabled-fill-color: #666;\n",
              "  }\n",
              "\n",
              "  .colab-df-quickchart {\n",
              "    background-color: var(--bg-color);\n",
              "    border: none;\n",
              "    border-radius: 50%;\n",
              "    cursor: pointer;\n",
              "    display: none;\n",
              "    fill: var(--fill-color);\n",
              "    height: 32px;\n",
              "    padding: 0;\n",
              "    width: 32px;\n",
              "  }\n",
              "\n",
              "  .colab-df-quickchart:hover {\n",
              "    background-color: var(--hover-bg-color);\n",
              "    box-shadow: 0 1px 2px rgba(60, 64, 67, 0.3), 0 1px 3px 1px rgba(60, 64, 67, 0.15);\n",
              "    fill: var(--button-hover-fill-color);\n",
              "  }\n",
              "\n",
              "  .colab-df-quickchart-complete:disabled,\n",
              "  .colab-df-quickchart-complete:disabled:hover {\n",
              "    background-color: var(--disabled-bg-color);\n",
              "    fill: var(--disabled-fill-color);\n",
              "    box-shadow: none;\n",
              "  }\n",
              "\n",
              "  .colab-df-spinner {\n",
              "    border: 2px solid var(--fill-color);\n",
              "    border-color: transparent;\n",
              "    border-bottom-color: var(--fill-color);\n",
              "    animation:\n",
              "      spin 1s steps(1) infinite;\n",
              "  }\n",
              "\n",
              "  @keyframes spin {\n",
              "    0% {\n",
              "      border-color: transparent;\n",
              "      border-bottom-color: var(--fill-color);\n",
              "      border-left-color: var(--fill-color);\n",
              "    }\n",
              "    20% {\n",
              "      border-color: transparent;\n",
              "      border-left-color: var(--fill-color);\n",
              "      border-top-color: var(--fill-color);\n",
              "    }\n",
              "    30% {\n",
              "      border-color: transparent;\n",
              "      border-left-color: var(--fill-color);\n",
              "      border-top-color: var(--fill-color);\n",
              "      border-right-color: var(--fill-color);\n",
              "    }\n",
              "    40% {\n",
              "      border-color: transparent;\n",
              "      border-right-color: var(--fill-color);\n",
              "      border-top-color: var(--fill-color);\n",
              "    }\n",
              "    60% {\n",
              "      border-color: transparent;\n",
              "      border-right-color: var(--fill-color);\n",
              "    }\n",
              "    80% {\n",
              "      border-color: transparent;\n",
              "      border-right-color: var(--fill-color);\n",
              "      border-bottom-color: var(--fill-color);\n",
              "    }\n",
              "    90% {\n",
              "      border-color: transparent;\n",
              "      border-bottom-color: var(--fill-color);\n",
              "    }\n",
              "  }\n",
              "</style>\n",
              "\n",
              "  <script>\n",
              "    async function quickchart(key) {\n",
              "      const quickchartButtonEl =\n",
              "        document.querySelector('#' + key + ' button');\n",
              "      quickchartButtonEl.disabled = true;  // To prevent multiple clicks.\n",
              "      quickchartButtonEl.classList.add('colab-df-spinner');\n",
              "      try {\n",
              "        const charts = await google.colab.kernel.invokeFunction(\n",
              "            'suggestCharts', [key], {});\n",
              "      } catch (error) {\n",
              "        console.error('Error during call to suggestCharts:', error);\n",
              "      }\n",
              "      quickchartButtonEl.classList.remove('colab-df-spinner');\n",
              "      quickchartButtonEl.classList.add('colab-df-quickchart-complete');\n",
              "    }\n",
              "    (() => {\n",
              "      let quickchartButtonEl =\n",
              "        document.querySelector('#df-92e3f4b6-5a54-4119-9561-061c4e25054e button');\n",
              "      quickchartButtonEl.style.display =\n",
              "        google.colab.kernel.accessAllowed ? 'block' : 'none';\n",
              "    })();\n",
              "  </script>\n",
              "</div>\n",
              "\n",
              "    </div>\n",
              "  </div>\n"
            ],
            "text/plain": [
              "        category                                               text  labels\n",
              "4657  teknoloji    acıların kedisi sam çatık kaşlı kedi sam in i...       0\n",
              "3539       spor    g saray a git santos van_persie den forma ala...       5\n",
              "907       dunya    endonezya da çatışmalar 14 ölü endonezya da i...       6\n",
              "4353  teknoloji    emniyetten polis logolu virüs uyarısı telefon...       0\n",
              "3745       spor    beni türk yapın cristian_baroni yıldırım dan ...       5"
            ]
          },
          "execution_count": 15,
          "metadata": {},
          "output_type": "execute_result"
        }
      ],
      "source": [
        "data.head()"
      ]
    },
    {
      "cell_type": "code",
      "execution_count": 16,
      "metadata": {
        "colab": {
          "base_uri": "https://localhost:8080/",
          "height": 671
        },
        "id": "zeNYOXNBGe1B",
        "outputId": "ab979848-47cc-43a2-eb93-919a88c5a0f7"
      },
      "outputs": [
        {
          "data": {
            "text/plain": [
              "<Axes: ylabel='count'>"
            ]
          },
          "execution_count": 16,
          "metadata": {},
          "output_type": "execute_result"
        },
        {
          "data": {
            "image/png": "[encoded data removed]",
            "text/plain": [
              "<Figure size 800x800 with 1 Axes>"
            ]
          },
          "metadata": {},
          "output_type": "display_data"
        }
      ],
      "source": [
        "data.category.value_counts().plot(kind=\"pie\", figsize=(8, 8))"
      ]
    },
    {
      "cell_type": "markdown",
      "metadata": {
        "id": "65KeYnRJUL-E"
      },
      "source": [
        "## Loading Pre-Trained Model"
      ]
    },
    {
      "cell_type": "code",
      "execution_count": 17,
      "metadata": {
        "colab": {
          "base_uri": "https://localhost:8080/"
        },
        "id": "r80yPEvU79rx",
        "outputId": "f97c1ac8-4c3b-489a-bc29-f15b44c67db0"
      },
      "outputs": [
        {
          "name": "stderr",
          "output_type": "stream",
          "text": [
            "/usr/local/lib/python3.11/dist-packages/huggingface_hub/utils/_auth.py:94: UserWarning: \n",
            "The secret `HF_TOKEN` does not exist in your Colab secrets.\n",
            "To authenticate with the Hugging Face Hub, create a token in your settings tab (https://huggingface.co/settings/tokens), set it as secret in your Google Colab and restart your session.\n",
            "You will be able to reuse this secret in all of your notebooks.\n",
            "Please note that authentication is recommended but still optional to access public models or datasets.\n",
            "  warnings.warn(\n"
          ]
        },
        {
          "data": {
            "text/plain": [
              "BertTokenizerFast(name_or_path='dbmdz/bert-base-turkish-uncased', vocab_size=32000, model_max_length=512, is_fast=True, padding_side='right', truncation_side='right', special_tokens={'unk_token': '[UNK]', 'sep_token': '[SEP]', 'pad_token': '[PAD]', 'cls_token': '[CLS]', 'mask_token': '[MASK]'}, clean_up_tokenization_spaces=True, added_tokens_decoder={\n",
              "\t0: AddedToken(\"[PAD]\", rstrip=False, lstrip=False, single_word=False, normalized=False, special=True),\n",
              "\t1: AddedToken(\"[UNK]\", rstrip=False, lstrip=False, single_word=False, normalized=False, special=True),\n",
              "\t2: AddedToken(\"[CLS]\", rstrip=False, lstrip=False, single_word=False, normalized=False, special=True),\n",
              "\t3: AddedToken(\"[SEP]\", rstrip=False, lstrip=False, single_word=False, normalized=False, special=True),\n",
              "\t4: AddedToken(\"[MASK]\", rstrip=False, lstrip=False, single_word=False, normalized=False, special=True),\n",
              "}\n",
              ")"
            ]
          },
          "execution_count": 17,
          "metadata": {},
          "output_type": "execute_result"
        }
      ],
      "source": [
        "from transformers import BertTokenizerFast\n",
        "\n",
        "tokenizer = BertTokenizerFast.from_pretrained(\n",
        "    \"dbmdz/bert-base-turkish-uncased\", max_length=512\n",
        ")\n",
        "tokenizer"
      ]
    },
    {
      "cell_type": "code",
      "execution_count": 18,
      "metadata": {
        "colab": {
          "base_uri": "https://localhost:8080/"
        },
        "id": "L7mT5FEU2Jyr",
        "outputId": "4cd1d183-4821-4b14-e8ab-fa6d4175aa65"
      },
      "outputs": [
        {
          "name": "stderr",
          "output_type": "stream",
          "text": [
            "Some weights of BertForSequenceClassification were not initialized from the model checkpoint at dbmdz/bert-base-turkish-uncased and are newly initialized: ['classifier.bias', 'classifier.weight']\n",
            "You should probably TRAIN this model on a down-stream task to be able to use it for predictions and inference.\n"
          ]
        },
        {
          "data": {
            "text/plain": [
              "BertForSequenceClassification(\n",
              "  (bert): BertModel(\n",
              "    (embeddings): BertEmbeddings(\n",
              "      (word_embeddings): Embedding(32000, 768, padding_idx=0)\n",
              "      (position_embeddings): Embedding(512, 768)\n",
              "      (token_type_embeddings): Embedding(2, 768)\n",
              "      (LayerNorm): LayerNorm((768,), eps=1e-12, elementwise_affine=True)\n",
              "      (dropout): Dropout(p=0.1, inplace=False)\n",
              "    )\n",
              "    (encoder): BertEncoder(\n",
              "      (layer): ModuleList(\n",
              "        (0-11): 12 x BertLayer(\n",
              "          (attention): BertAttention(\n",
              "            (self): BertSdpaSelfAttention(\n",
              "              (query): Linear(in_features=768, out_features=768, bias=True)\n",
              "              (key): Linear(in_features=768, out_features=768, bias=True)\n",
              "              (value): Linear(in_features=768, out_features=768, bias=True)\n",
              "              (dropout): Dropout(p=0.1, inplace=False)\n",
              "            )\n",
              "            (output): BertSelfOutput(\n",
              "              (dense): Linear(in_features=768, out_features=768, bias=True)\n",
              "              (LayerNorm): LayerNorm((768,), eps=1e-12, elementwise_affine=True)\n",
              "              (dropout): Dropout(p=0.1, inplace=False)\n",
              "            )\n",
              "          )\n",
              "          (intermediate): BertIntermediate(\n",
              "            (dense): Linear(in_features=768, out_features=3072, bias=True)\n",
              "            (intermediate_act_fn): GELUActivation()\n",
              "          )\n",
              "          (output): BertOutput(\n",
              "            (dense): Linear(in_features=3072, out_features=768, bias=True)\n",
              "            (LayerNorm): LayerNorm((768,), eps=1e-12, elementwise_affine=True)\n",
              "            (dropout): Dropout(p=0.1, inplace=False)\n",
              "          )\n",
              "        )\n",
              "      )\n",
              "    )\n",
              "    (pooler): BertPooler(\n",
              "      (dense): Linear(in_features=768, out_features=768, bias=True)\n",
              "      (activation): Tanh()\n",
              "    )\n",
              "  )\n",
              "  (dropout): Dropout(p=0.1, inplace=False)\n",
              "  (classifier): Linear(in_features=768, out_features=7, bias=True)\n",
              ")"
            ]
          },
          "execution_count": 18,
          "metadata": {},
          "output_type": "execute_result"
        }
      ],
      "source": [
        "from transformers import BertForSequenceClassification\n",
        "\n",
        "model = BertForSequenceClassification.from_pretrained(\n",
        "    \"dbmdz/bert-base-turkish-uncased\",\n",
        "    num_labels=NUM_LABELS,\n",
        "    id2label=id2label,\n",
        "    label2id=label2id,\n",
        ")\n",
        "model"
      ]
    },
    {
      "cell_type": "markdown",
      "metadata": {
        "id": "ZROZOxM9xi3l"
      },
      "source": [
        "## Splitting data\n"
      ]
    },
    {
      "cell_type": "code",
      "execution_count": 19,
      "metadata": {
        "colab": {
          "base_uri": "https://localhost:8080/"
        },
        "id": "jT4Z_KkoUcc_",
        "outputId": "f76dd3a6-7c25-47ff-83e5-cc4bd4420eca"
      },
      "outputs": [
        {
          "data": {
            "text/plain": [
              "(4900, 3)"
            ]
          },
          "execution_count": 19,
          "metadata": {},
          "output_type": "execute_result"
        }
      ],
      "source": [
        "data.shape"
      ]
    },
    {
      "cell_type": "code",
      "execution_count": 20,
      "metadata": {
        "id": "HM58CfgUZ0oK"
      },
      "outputs": [],
      "source": [
        "SIZE = data.shape[0]\n",
        "\n",
        "train_texts = list(data.text[: SIZE // 2])\n",
        "val_texts = list(data.text[SIZE // 2 : (3 * SIZE) // 4])\n",
        "test_texts = list(data.text[(3 * SIZE) // 4 :])\n",
        "\n",
        "train_labels = list(data.labels[: SIZE // 2])\n",
        "val_labels = list(data.labels[SIZE // 2 : (3 * SIZE) // 4])\n",
        "test_labels = list(data.labels[(3 * SIZE) // 4 :])"
      ]
    },
    {
      "cell_type": "code",
      "execution_count": 21,
      "metadata": {
        "colab": {
          "base_uri": "https://localhost:8080/"
        },
        "id": "vwe5Bt8CfhdU",
        "outputId": "04007956-f4d9-4804-f0a2-34e283836b23"
      },
      "outputs": [
        {
          "data": {
            "text/plain": [
              "(2450, 1225, 1225)"
            ]
          },
          "execution_count": 21,
          "metadata": {},
          "output_type": "execute_result"
        }
      ],
      "source": [
        "len(train_texts), len(val_texts), len(test_texts)"
      ]
    },
    {
      "cell_type": "code",
      "execution_count": 22,
      "metadata": {
        "colab": {
          "base_uri": "https://localhost:8080/"
        },
        "id": "YtaxSmW8Uo5x",
        "outputId": "50499a7f-d844-4545-cc23-075881f7618e"
      },
      "outputs": [
        {
          "data": {
            "text/plain": [
              "(2450, 1225, 1225)"
            ]
          },
          "execution_count": 22,
          "metadata": {},
          "output_type": "execute_result"
        }
      ],
      "source": [
        "len(train_labels), len(val_labels), len(test_labels)"
      ]
    },
    {
      "cell_type": "code",
      "execution_count": 23,
      "metadata": {
        "colab": {
          "base_uri": "https://localhost:8080/",
          "height": 53
        },
        "id": "rh_i2LvxUuR-",
        "outputId": "99983be7-d2a2-41a2-acf7-5541b87a8163"
      },
      "outputs": [
        {
          "data": {
            "application/vnd.google.colaboratory.intrinsic+json": {
              "type": "string"
            },
            "text/plain": [
              "' acıların kedisi sam çatık kaşlı kedi sam in internetteki yükselişi sürüyor sam in kaşlarının boya olmadığı kesinleşirken acıların kedisi görünümle hayvanın instagram hesabı da popülerliliğini artırıyor'"
            ]
          },
          "execution_count": 23,
          "metadata": {},
          "output_type": "execute_result"
        }
      ],
      "source": [
        "train_texts[0]"
      ]
    },
    {
      "cell_type": "code",
      "execution_count": 24,
      "metadata": {
        "colab": {
          "base_uri": "https://localhost:8080/"
        },
        "id": "zQd0ElEkUuUt",
        "outputId": "a65fa612-bb59-4de9-d1f2-a77d70d17e30"
      },
      "outputs": [
        {
          "data": {
            "text/plain": [
              "0"
            ]
          },
          "execution_count": 24,
          "metadata": {},
          "output_type": "execute_result"
        }
      ],
      "source": [
        "train_labels[0]"
      ]
    },
    {
      "cell_type": "code",
      "execution_count": 25,
      "metadata": {
        "id": "snOgiQe2mbpx"
      },
      "outputs": [],
      "source": [
        "train_encodings = tokenizer(train_texts, truncation=True, padding=True)\n",
        "val_encodings = tokenizer(val_texts, truncation=True, padding=True)\n",
        "test_encodings = tokenizer(test_texts, truncation=True, padding=True)"
      ]
    },
    {
      "cell_type": "code",
      "execution_count": 26,
      "metadata": {
        "id": "TvN9Siw65H9G"
      },
      "outputs": [],
      "source": [
        "from torch.utils.data import Dataset\n",
        "import torch\n",
        "\n",
        "class MyDataset(Dataset):\n",
        "    def __init__(self, encodings, labels):\n",
        "        self.encodings = encodings\n",
        "        self.labels = labels\n",
        "\n",
        "    def __getitem__(self, idx):\n",
        "        item = {key: torch.tensor(val[idx]) for key, val in self.encodings.items()}\n",
        "        item[\"labels\"] = torch.tensor(self.labels[idx])\n",
        "        return item\n",
        "\n",
        "    def __len__(self):\n",
        "        return len(self.labels)"
      ]
    },
    {
      "cell_type": "code",
      "execution_count": 27,
      "metadata": {
        "id": "Vx3u-9ljtmM_"
      },
      "outputs": [],
      "source": [
        "train_dataset = MyDataset(train_encodings, train_labels)\n",
        "val_dataset = MyDataset(val_encodings, val_labels)\n",
        "test_dataset = MyDataset(test_encodings, test_labels)"
      ]
    },
    {
      "cell_type": "code",
      "execution_count": 28,
      "metadata": {
        "colab": {
          "base_uri": "https://localhost:8080/"
        },
        "id": "earrg8TiBojU",
        "outputId": "a9f33cae-5f16-4662-af11-b5a38384da0a"
      },
      "outputs": [
        {
          "data": {
            "text/plain": [
              "(2450,\n",
              " {'input_ids': tensor([    2, 27058,  1976,  8765,  2478,  3735, 11087,  2042,  2862,  1991,\n",
              "           8765,  3735,  2092, 13362,  2170,  4108, 28932,  2478,  3304,  2464,\n",
              "           3735,  2092, 30137, 10779,  5440,  6943,  2958,  3448,  7363,  1024,\n",
              "           2207, 27058,  1976,  8765,  2478,  8273,  2124,  8983,  1028, 23103,\n",
              "           9297,  9314,  2020,  4991, 17634,  1024, 30347,  7544, 24402,     3,\n",
              "              0,     0,     0,     0,     0,     0,     0,     0,     0,     0,\n",
              "              0,     0,     0,     0,     0,     0,     0,     0,     0,     0,\n",
              "              0,     0,     0,     0,     0,     0,     0,     0,     0,     0,\n",
              "              0,     0,     0,     0,     0,     0,     0,     0,     0,     0,\n",
              "              0,     0,     0,     0,     0,     0,     0,     0,     0,     0,\n",
              "              0,     0,     0,     0,     0,     0,     0,     0,     0,     0,\n",
              "              0,     0,     0,     0,     0,     0,     0,     0,     0,     0,\n",
              "              0,     0,     0,     0,     0,     0,     0,     0,     0,     0,\n",
              "              0,     0,     0,     0,     0,     0,     0,     0,     0,     0,\n",
              "              0,     0,     0,     0,     0,     0,     0,     0,     0,     0,\n",
              "              0,     0,     0,     0,     0,     0,     0,     0,     0,     0,\n",
              "              0,     0,     0,     0,     0,     0,     0,     0,     0,     0,\n",
              "              0,     0,     0,     0,     0,     0,     0,     0,     0,     0,\n",
              "              0,     0,     0,     0,     0,     0,     0,     0,     0,     0,\n",
              "              0,     0,     0,     0,     0,     0,     0,     0,     0,     0,\n",
              "              0,     0,     0,     0,     0,     0,     0,     0,     0,     0,\n",
              "              0,     0,     0,     0,     0,     0,     0,     0,     0,     0,\n",
              "              0,     0,     0,     0,     0,     0,     0,     0,     0,     0,\n",
              "              0,     0,     0,     0,     0,     0,     0,     0,     0,     0,\n",
              "              0,     0,     0,     0,     0,     0,     0,     0,     0,     0,\n",
              "              0,     0,     0,     0,     0,     0,     0,     0,     0,     0,\n",
              "              0,     0,     0,     0,     0,     0,     0,     0,     0,     0,\n",
              "              0,     0,     0,     0,     0,     0,     0,     0,     0,     0,\n",
              "              0,     0,     0,     0,     0,     0,     0,     0,     0,     0,\n",
              "              0,     0,     0,     0,     0,     0,     0,     0,     0,     0,\n",
              "              0,     0,     0,     0,     0,     0,     0,     0,     0,     0,\n",
              "              0,     0,     0,     0,     0,     0,     0,     0,     0,     0,\n",
              "              0,     0,     0,     0,     0,     0,     0,     0,     0,     0,\n",
              "              0,     0,     0,     0,     0,     0,     0,     0,     0,     0,\n",
              "              0,     0,     0,     0,     0,     0,     0,     0,     0,     0,\n",
              "              0,     0,     0,     0,     0,     0,     0,     0,     0,     0,\n",
              "              0,     0,     0,     0,     0,     0,     0,     0,     0,     0,\n",
              "              0,     0,     0,     0,     0,     0,     0,     0,     0,     0,\n",
              "              0,     0,     0,     0,     0,     0,     0,     0,     0,     0,\n",
              "              0,     0,     0,     0,     0,     0,     0,     0,     0,     0,\n",
              "              0,     0,     0,     0,     0,     0,     0,     0,     0,     0,\n",
              "              0,     0,     0,     0,     0,     0,     0,     0,     0,     0,\n",
              "              0,     0,     0,     0,     0,     0,     0,     0,     0,     0,\n",
              "              0,     0,     0,     0,     0,     0,     0,     0,     0,     0,\n",
              "              0,     0,     0,     0,     0,     0,     0,     0,     0,     0,\n",
              "              0,     0,     0,     0,     0,     0,     0,     0,     0,     0,\n",
              "              0,     0,     0,     0,     0,     0,     0,     0,     0,     0,\n",
              "              0,     0,     0,     0,     0,     0,     0,     0,     0,     0,\n",
              "              0,     0,     0,     0,     0,     0,     0,     0,     0,     0,\n",
              "              0,     0,     0,     0,     0,     0,     0,     0,     0,     0,\n",
              "              0,     0,     0,     0,     0,     0,     0,     0,     0,     0,\n",
              "              0,     0]),\n",
              "  'token_type_ids': tensor([0, 0, 0, 0, 0, 0, 0, 0, 0, 0, 0, 0, 0, 0, 0, 0, 0, 0, 0, 0, 0, 0, 0, 0,\n",
              "          0, 0, 0, 0, 0, 0, 0, 0, 0, 0, 0, 0, 0, 0, 0, 0, 0, 0, 0, 0, 0, 0, 0, 0,\n",
              "          0, 0, 0, 0, 0, 0, 0, 0, 0, 0, 0, 0, 0, 0, 0, 0, 0, 0, 0, 0, 0, 0, 0, 0,\n",
              "          0, 0, 0, 0, 0, 0, 0, 0, 0, 0, 0, 0, 0, 0, 0, 0, 0, 0, 0, 0, 0, 0, 0, 0,\n",
              "          0, 0, 0, 0, 0, 0, 0, 0, 0, 0, 0, 0, 0, 0, 0, 0, 0, 0, 0, 0, 0, 0, 0, 0,\n",
              "          0, 0, 0, 0, 0, 0, 0, 0, 0, 0, 0, 0, 0, 0, 0, 0, 0, 0, 0, 0, 0, 0, 0, 0,\n",
              "          0, 0, 0, 0, 0, 0, 0, 0, 0, 0, 0, 0, 0, 0, 0, 0, 0, 0, 0, 0, 0, 0, 0, 0,\n",
              "          0, 0, 0, 0, 0, 0, 0, 0, 0, 0, 0, 0, 0, 0, 0, 0, 0, 0, 0, 0, 0, 0, 0, 0,\n",
              "          0, 0, 0, 0, 0, 0, 0, 0, 0, 0, 0, 0, 0, 0, 0, 0, 0, 0, 0, 0, 0, 0, 0, 0,\n",
              "          0, 0, 0, 0, 0, 0, 0, 0, 0, 0, 0, 0, 0, 0, 0, 0, 0, 0, 0, 0, 0, 0, 0, 0,\n",
              "          0, 0, 0, 0, 0, 0, 0, 0, 0, 0, 0, 0, 0, 0, 0, 0, 0, 0, 0, 0, 0, 0, 0, 0,\n",
              "          0, 0, 0, 0, 0, 0, 0, 0, 0, 0, 0, 0, 0, 0, 0, 0, 0, 0, 0, 0, 0, 0, 0, 0,\n",
              "          0, 0, 0, 0, 0, 0, 0, 0, 0, 0, 0, 0, 0, 0, 0, 0, 0, 0, 0, 0, 0, 0, 0, 0,\n",
              "          0, 0, 0, 0, 0, 0, 0, 0, 0, 0, 0, 0, 0, 0, 0, 0, 0, 0, 0, 0, 0, 0, 0, 0,\n",
              "          0, 0, 0, 0, 0, 0, 0, 0, 0, 0, 0, 0, 0, 0, 0, 0, 0, 0, 0, 0, 0, 0, 0, 0,\n",
              "          0, 0, 0, 0, 0, 0, 0, 0, 0, 0, 0, 0, 0, 0, 0, 0, 0, 0, 0, 0, 0, 0, 0, 0,\n",
              "          0, 0, 0, 0, 0, 0, 0, 0, 0, 0, 0, 0, 0, 0, 0, 0, 0, 0, 0, 0, 0, 0, 0, 0,\n",
              "          0, 0, 0, 0, 0, 0, 0, 0, 0, 0, 0, 0, 0, 0, 0, 0, 0, 0, 0, 0, 0, 0, 0, 0,\n",
              "          0, 0, 0, 0, 0, 0, 0, 0, 0, 0, 0, 0, 0, 0, 0, 0, 0, 0, 0, 0, 0, 0, 0, 0,\n",
              "          0, 0, 0, 0, 0, 0, 0, 0, 0, 0, 0, 0, 0, 0, 0, 0, 0, 0, 0, 0, 0, 0, 0, 0,\n",
              "          0, 0, 0, 0, 0, 0, 0, 0, 0, 0, 0, 0, 0, 0, 0, 0, 0, 0, 0, 0, 0, 0, 0, 0,\n",
              "          0, 0, 0, 0, 0, 0, 0, 0]),\n",
              "  'attention_mask': tensor([1, 1, 1, 1, 1, 1, 1, 1, 1, 1, 1, 1, 1, 1, 1, 1, 1, 1, 1, 1, 1, 1, 1, 1,\n",
              "          1, 1, 1, 1, 1, 1, 1, 1, 1, 1, 1, 1, 1, 1, 1, 1, 1, 1, 1, 1, 1, 1, 1, 1,\n",
              "          1, 1, 0, 0, 0, 0, 0, 0, 0, 0, 0, 0, 0, 0, 0, 0, 0, 0, 0, 0, 0, 0, 0, 0,\n",
              "          0, 0, 0, 0, 0, 0, 0, 0, 0, 0, 0, 0, 0, 0, 0, 0, 0, 0, 0, 0, 0, 0, 0, 0,\n",
              "          0, 0, 0, 0, 0, 0, 0, 0, 0, 0, 0, 0, 0, 0, 0, 0, 0, 0, 0, 0, 0, 0, 0, 0,\n",
              "          0, 0, 0, 0, 0, 0, 0, 0, 0, 0, 0, 0, 0, 0, 0, 0, 0, 0, 0, 0, 0, 0, 0, 0,\n",
              "          0, 0, 0, 0, 0, 0, 0, 0, 0, 0, 0, 0, 0, 0, 0, 0, 0, 0, 0, 0, 0, 0, 0, 0,\n",
              "          0, 0, 0, 0, 0, 0, 0, 0, 0, 0, 0, 0, 0, 0, 0, 0, 0, 0, 0, 0, 0, 0, 0, 0,\n",
              "          0, 0, 0, 0, 0, 0, 0, 0, 0, 0, 0, 0, 0, 0, 0, 0, 0, 0, 0, 0, 0, 0, 0, 0,\n",
              "          0, 0, 0, 0, 0, 0, 0, 0, 0, 0, 0, 0, 0, 0, 0, 0, 0, 0, 0, 0, 0, 0, 0, 0,\n",
              "          0, 0, 0, 0, 0, 0, 0, 0, 0, 0, 0, 0, 0, 0, 0, 0, 0, 0, 0, 0, 0, 0, 0, 0,\n",
              "          0, 0, 0, 0, 0, 0, 0, 0, 0, 0, 0, 0, 0, 0, 0, 0, 0, 0, 0, 0, 0, 0, 0, 0,\n",
              "          0, 0, 0, 0, 0, 0, 0, 0, 0, 0, 0, 0, 0, 0, 0, 0, 0, 0, 0, 0, 0, 0, 0, 0,\n",
              "          0, 0, 0, 0, 0, 0, 0, 0, 0, 0, 0, 0, 0, 0, 0, 0, 0, 0, 0, 0, 0, 0, 0, 0,\n",
              "          0, 0, 0, 0, 0, 0, 0, 0, 0, 0, 0, 0, 0, 0, 0, 0, 0, 0, 0, 0, 0, 0, 0, 0,\n",
              "          0, 0, 0, 0, 0, 0, 0, 0, 0, 0, 0, 0, 0, 0, 0, 0, 0, 0, 0, 0, 0, 0, 0, 0,\n",
              "          0, 0, 0, 0, 0, 0, 0, 0, 0, 0, 0, 0, 0, 0, 0, 0, 0, 0, 0, 0, 0, 0, 0, 0,\n",
              "          0, 0, 0, 0, 0, 0, 0, 0, 0, 0, 0, 0, 0, 0, 0, 0, 0, 0, 0, 0, 0, 0, 0, 0,\n",
              "          0, 0, 0, 0, 0, 0, 0, 0, 0, 0, 0, 0, 0, 0, 0, 0, 0, 0, 0, 0, 0, 0, 0, 0,\n",
              "          0, 0, 0, 0, 0, 0, 0, 0, 0, 0, 0, 0, 0, 0, 0, 0, 0, 0, 0, 0, 0, 0, 0, 0,\n",
              "          0, 0, 0, 0, 0, 0, 0, 0, 0, 0, 0, 0, 0, 0, 0, 0, 0, 0, 0, 0, 0, 0, 0, 0,\n",
              "          0, 0, 0, 0, 0, 0, 0, 0]),\n",
              "  'labels': tensor(0)})"
            ]
          },
          "execution_count": 28,
          "metadata": {},
          "output_type": "execute_result"
        }
      ],
      "source": [
        "len(train_dataset), train_dataset[0]"
      ]
    },
    {
      "cell_type": "markdown",
      "metadata": {
        "id": "-dXcl4LWBsJy"
      },
      "source": [
        "## Training with Trainer Class"
      ]
    },
    {
      "cell_type": "code",
      "execution_count": 29,
      "metadata": {
        "id": "PjcZ_K87l9CX"
      },
      "outputs": [],
      "source": [
        "from sklearn.metrics import accuracy_score, precision_recall_fscore_support\n",
        "\n",
        "\n",
        "def compute_metrics(pred):\n",
        "    labels = pred.label_ids\n",
        "    preds = pred.predictions.argmax(-1)\n",
        "    precision, recall, f1, _ = precision_recall_fscore_support(\n",
        "        labels, preds, average=\"macro\"\n",
        "    )\n",
        "    acc = accuracy_score(labels, preds)\n",
        "    return {\"Accuracy\": acc, \"F1\": f1, \"Precision\": precision, \"Recall\": recall}"
      ]
    },
    {
      "cell_type": "code",
      "execution_count": 30,
      "metadata": {
        "colab": {
          "base_uri": "https://localhost:8080/"
        },
        "id": "zMiPOIVAmYI2",
        "outputId": "0036e981-23b8-4128-e8ce-739d0bc7a033"
      },
      "outputs": [
        {
          "name": "stderr",
          "output_type": "stream",
          "text": [
            "/usr/local/lib/python3.11/dist-packages/transformers/training_args.py:1575: FutureWarning: `evaluation_strategy` is deprecated and will be removed in version 4.46 of 🤗 Transformers. Use `eval_strategy` instead\n",
            "  warnings.warn(\n"
          ]
        },
        {
          "data": {
            "text/plain": [
              "TrainingArguments(\n",
              "_n_gpu=1,\n",
              "accelerator_config={'split_batches': False, 'dispatch_batches': None, 'even_batches': True, 'use_seedable_sampler': True, 'non_blocking': False, 'gradient_accumulation_kwargs': None, 'use_configured_state': False},\n",
              "adafactor=False,\n",
              "adam_beta1=0.9,\n",
              "adam_beta2=0.999,\n",
              "adam_epsilon=1e-08,\n",
              "auto_find_batch_size=False,\n",
              "average_tokens_across_devices=False,\n",
              "batch_eval_metrics=False,\n",
              "bf16=False,\n",
              "bf16_full_eval=False,\n",
              "data_seed=None,\n",
              "dataloader_drop_last=False,\n",
              "dataloader_num_workers=0,\n",
              "dataloader_persistent_workers=False,\n",
              "dataloader_pin_memory=True,\n",
              "dataloader_prefetch_factor=None,\n",
              "ddp_backend=None,\n",
              "ddp_broadcast_buffers=None,\n",
              "ddp_bucket_cap_mb=None,\n",
              "ddp_find_unused_parameters=None,\n",
              "ddp_timeout=1800,\n",
              "debug=[],\n",
              "deepspeed=None,\n",
              "disable_tqdm=False,\n",
              "dispatch_batches=None,\n",
              "do_eval=True,\n",
              "do_predict=False,\n",
              "do_train=True,\n",
              "eval_accumulation_steps=None,\n",
              "eval_delay=0,\n",
              "eval_do_concat_batches=True,\n",
              "eval_on_start=False,\n",
              "eval_steps=50,\n",
              "eval_strategy=IntervalStrategy.STEPS,\n",
              "eval_use_gather_object=False,\n",
              "evaluation_strategy=steps,\n",
              "fp16=True,\n",
              "fp16_backend=auto,\n",
              "fp16_full_eval=False,\n",
              "fp16_opt_level=O1,\n",
              "fsdp=[],\n",
              "fsdp_config={'min_num_params': 0, 'xla': False, 'xla_fsdp_v2': False, 'xla_fsdp_grad_ckpt': False},\n",
              "fsdp_min_num_params=0,\n",
              "fsdp_transformer_layer_cls_to_wrap=None,\n",
              "full_determinism=False,\n",
              "gradient_accumulation_steps=1,\n",
              "gradient_checkpointing=False,\n",
              "gradient_checkpointing_kwargs=None,\n",
              "greater_is_better=None,\n",
              "group_by_length=False,\n",
              "half_precision_backend=auto,\n",
              "hub_always_push=False,\n",
              "hub_model_id=None,\n",
              "hub_private_repo=None,\n",
              "hub_strategy=HubStrategy.EVERY_SAVE,\n",
              "hub_token=<HUB_TOKEN>,\n",
              "ignore_data_skip=False,\n",
              "include_for_metrics=[],\n",
              "include_inputs_for_metrics=False,\n",
              "include_num_input_tokens_seen=False,\n",
              "include_tokens_per_second=False,\n",
              "jit_mode_eval=False,\n",
              "label_names=None,\n",
              "label_smoothing_factor=0.0,\n",
              "learning_rate=5e-05,\n",
              "length_column_name=length,\n",
              "load_best_model_at_end=False,\n",
              "local_rank=0,\n",
              "log_level=passive,\n",
              "log_level_replica=warning,\n",
              "log_on_each_node=True,\n",
              "logging_dir=./multi-class-logs,\n",
              "logging_first_step=False,\n",
              "logging_nan_inf_filter=True,\n",
              "logging_steps=50,\n",
              "logging_strategy=IntervalStrategy.STEPS,\n",
              "lr_scheduler_kwargs={},\n",
              "lr_scheduler_type=SchedulerType.LINEAR,\n",
              "max_grad_norm=1.0,\n",
              "max_steps=-1,\n",
              "metric_for_best_model=None,\n",
              "mp_parameters=,\n",
              "neftune_noise_alpha=None,\n",
              "no_cuda=False,\n",
              "num_train_epochs=3,\n",
              "optim=OptimizerNames.ADAMW_TORCH,\n",
              "optim_args=None,\n",
              "optim_target_modules=None,\n",
              "output_dir=./TTC4900Model,\n",
              "overwrite_output_dir=False,\n",
              "past_index=-1,\n",
              "per_device_eval_batch_size=32,\n",
              "per_device_train_batch_size=16,\n",
              "prediction_loss_only=False,\n",
              "push_to_hub=False,\n",
              "push_to_hub_model_id=None,\n",
              "push_to_hub_organization=None,\n",
              "push_to_hub_token=<PUSH_TO_HUB_TOKEN>,\n",
              "ray_scope=last,\n",
              "remove_unused_columns=True,\n",
              "report_to=['tensorboard'],\n",
              "restore_callback_states_from_checkpoint=False,\n",
              "resume_from_checkpoint=None,\n",
              "run_name=./TTC4900Model,\n",
              "save_on_each_node=False,\n",
              "save_only_model=False,\n",
              "save_safetensors=True,\n",
              "save_steps=500,\n",
              "save_strategy=SaveStrategy.EPOCH,\n",
              "save_total_limit=None,\n",
              "seed=42,\n",
              "skip_memory_metrics=True,\n",
              "split_batches=None,\n",
              "tf32=None,\n",
              "torch_compile=False,\n",
              "torch_compile_backend=None,\n",
              "torch_compile_mode=None,\n",
              "torch_empty_cache_steps=None,\n",
              "torchdynamo=None,\n",
              "tpu_metrics_debug=False,\n",
              "tpu_num_cores=None,\n",
              "use_cpu=False,\n",
              "use_ipex=False,\n",
              "use_legacy_prediction_loop=False,\n",
              "use_liger_kernel=False,\n",
              "use_mps_device=False,\n",
              "warmup_ratio=0.0,\n",
              "warmup_steps=100,\n",
              "weight_decay=0.01,\n",
              ")"
            ]
          },
          "execution_count": 30,
          "metadata": {},
          "output_type": "execute_result"
        }
      ],
      "source": [
        "from transformers import TrainingArguments, Trainer\n",
        "\n",
        "training_args = TrainingArguments(\n",
        "    # The output directory where the model predictions and checkpoints will be written\n",
        "    output_dir=\"./TTC4900Model\",\n",
        "    do_train=True,\n",
        "    do_eval=True,\n",
        "    #  The number of epochs, defaults to 3.0\n",
        "    num_train_epochs=3,\n",
        "    per_device_train_batch_size=16,\n",
        "    per_device_eval_batch_size=32,\n",
        "    # Number of steps used for a linear warmup\n",
        "    warmup_steps=100,\n",
        "    weight_decay=0.01,\n",
        "    logging_strategy=\"steps\",\n",
        "    # TensorBoard log directory\n",
        "    logging_dir=\"./multi-class-logs\",\n",
        "    logging_steps=50,\n",
        "    evaluation_strategy=\"steps\",\n",
        "    eval_steps=50,\n",
        "    save_strategy=\"epoch\",\n",
        "    fp16=True,\n",
        "    report_to=[\"tensorboard\"]\n",
        ")\n",
        "training_args"
      ]
    },
    {
      "cell_type": "code",
      "execution_count": 31,
      "metadata": {
        "colab": {
          "base_uri": "https://localhost:8080/"
        },
        "id": "8Ajz99mwj-OL",
        "outputId": "c76fc5ba-37d2-40d7-8497-4de18fb55344"
      },
      "outputs": [
        {
          "data": {
            "text/plain": [
              "<transformers.trainer.Trainer at 0x7e77744dcc10>"
            ]
          },
          "execution_count": 31,
          "metadata": {},
          "output_type": "execute_result"
        }
      ],
      "source": [
        "trainer = Trainer(\n",
        "    # the pre-trained model that will be fine-tuned\n",
        "    model=model,\n",
        "    # training arguments that we defined above\n",
        "    args=training_args,\n",
        "    train_dataset=train_dataset,\n",
        "    eval_dataset=val_dataset,\n",
        "    compute_metrics=compute_metrics,\n",
        ")\n",
        "trainer"
      ]
    },
    {
      "cell_type": "code",
      "execution_count": 32,
      "metadata": {
        "colab": {
          "base_uri": "https://localhost:8080/",
          "height": 411
        },
        "id": "1WRhCH-Hj-RT",
        "outputId": "b7f3844c-aebd-45d5-9fb2-cff4edecba8e"
      },
      "outputs": [
        {
          "data": {
            "text/html": [
              "\n",
              "    <div>\n",
              "      \n",
              "      <progress value='462' max='462' style='width:300px; height:20px; vertical-align: middle;'></progress>\n",
              "      [462/462 05:09, Epoch 3/3]\n",
              "    </div>\n",
              "    <table border=\"1\" class=\"dataframe\">\n",
              "  <thead>\n",
              " <tr style=\"text-align: left;\">\n",
              "      <th>Step</th>\n",
              "      <th>Training Loss</th>\n",
              "      <th>Validation Loss</th>\n",
              "      <th>Accuracy</th>\n",
              "      <th>F1</th>\n",
              "      <th>Precision</th>\n",
              "      <th>Recall</th>\n",
              "    </tr>\n",
              "  </thead>\n",
              "  <tbody>\n",
              "    <tr>\n",
              "      <td>50</td>\n",
              "      <td>1.855700</td>\n",
              "      <td>1.586529</td>\n",
              "      <td>0.595918</td>\n",
              "      <td>0.560133</td>\n",
              "      <td>0.641601</td>\n",
              "      <td>0.594563</td>\n",
              "    </tr>\n",
              "    <tr>\n",
              "      <td>100</td>\n",
              "      <td>0.730900</td>\n",
              "      <td>0.351066</td>\n",
              "      <td>0.901224</td>\n",
              "      <td>0.900496</td>\n",
              "      <td>0.902401</td>\n",
              "      <td>0.900876</td>\n",
              "    </tr>\n",
              "    <tr>\n",
              "      <td>150</td>\n",
              "      <td>0.446100</td>\n",
              "      <td>0.370966</td>\n",
              "      <td>0.887347</td>\n",
              "      <td>0.886322</td>\n",
              "      <td>0.890800</td>\n",
              "      <td>0.887483</td>\n",
              "    </tr>\n",
              "    <tr>\n",
              "      <td>200</td>\n",
              "      <td>0.259300</td>\n",
              "      <td>0.305170</td>\n",
              "      <td>0.913469</td>\n",
              "      <td>0.912641</td>\n",
              "      <td>0.914513</td>\n",
              "      <td>0.914002</td>\n",
              "    </tr>\n",
              "    <tr>\n",
              "      <td>250</td>\n",
              "      <td>0.228400</td>\n",
              "      <td>0.304840</td>\n",
              "      <td>0.920816</td>\n",
              "      <td>0.920312</td>\n",
              "      <td>0.920477</td>\n",
              "      <td>0.920495</td>\n",
              "    </tr>\n",
              "    <tr>\n",
              "      <td>300</td>\n",
              "      <td>0.197300</td>\n",
              "      <td>0.298449</td>\n",
              "      <td>0.921633</td>\n",
              "      <td>0.921482</td>\n",
              "      <td>0.923522</td>\n",
              "      <td>0.921475</td>\n",
              "    </tr>\n",
              "    <tr>\n",
              "      <td>350</td>\n",
              "      <td>0.090200</td>\n",
              "      <td>0.305518</td>\n",
              "      <td>0.926531</td>\n",
              "      <td>0.926011</td>\n",
              "      <td>0.928297</td>\n",
              "      <td>0.925586</td>\n",
              "    </tr>\n",
              "    <tr>\n",
              "      <td>400</td>\n",
              "      <td>0.092800</td>\n",
              "      <td>0.323434</td>\n",
              "      <td>0.915102</td>\n",
              "      <td>0.915009</td>\n",
              "      <td>0.916170</td>\n",
              "      <td>0.915104</td>\n",
              "    </tr>\n",
              "    <tr>\n",
              "      <td>450</td>\n",
              "      <td>0.094900</td>\n",
              "      <td>0.304280</td>\n",
              "      <td>0.926531</td>\n",
              "      <td>0.925978</td>\n",
              "      <td>0.926116</td>\n",
              "      <td>0.926295</td>\n",
              "    </tr>\n",
              "  </tbody>\n",
              "</table><p>"
            ],
            "text/plain": [
              "<IPython.core.display.HTML object>"
            ]
          },
          "metadata": {},
          "output_type": "display_data"
        },
        {
          "data": {
            "text/plain": [
              "TrainOutput(global_step=462, training_loss=0.43460648374640065, metrics={'train_runtime': 311.3188, 'train_samples_per_second': 23.609, 'train_steps_per_second': 1.484, 'total_flos': 1933953073920000.0, 'train_loss': 0.43460648374640065, 'epoch': 3.0})"
            ]
          },
          "execution_count": 32,
          "metadata": {},
          "output_type": "execute_result"
        }
      ],
      "source": [
        "trainer.train()"
      ]
    },
    {
      "cell_type": "code",
      "execution_count": 33,
      "metadata": {
        "colab": {
          "base_uri": "https://localhost:8080/"
        },
        "id": "3xm8CTbqW73y",
        "outputId": "95077162-23a6-4bb9-f3a6-4c1e7ea60fcf"
      },
      "outputs": [
        {
          "name": "stdout",
          "output_type": "stream",
          "text": [
            "\u001b[01;34m./\u001b[0m\n",
            "├── \u001b[01;34mmulti-class-logs\u001b[0m\n",
            "│   └── \u001b[00mevents.out.tfevents.1740726976.976c66625ecc.10623.0\u001b[0m\n",
            "├── \u001b[00mTTC4900.csv\u001b[0m\n",
            "└── \u001b[01;34mTTC4900Model\u001b[0m\n",
            "    ├── \u001b[01;34mcheckpoint-154\u001b[0m\n",
            "    │   ├── \u001b[00mconfig.json\u001b[0m\n",
            "    │   ├── \u001b[00mmodel.safetensors\u001b[0m\n",
            "    │   ├── \u001b[00moptimizer.pt\u001b[0m\n",
            "    │   ├── \u001b[00mrng_state.pth\u001b[0m\n",
            "    │   ├── \u001b[00mscheduler.pt\u001b[0m\n",
            "    │   ├── \u001b[00mtrainer_state.json\u001b[0m\n",
            "    │   └── \u001b[00mtraining_args.bin\u001b[0m\n",
            "    ├── \u001b[01;34mcheckpoint-308\u001b[0m\n",
            "    │   ├── \u001b[00mconfig.json\u001b[0m\n",
            "    │   ├── \u001b[00mmodel.safetensors\u001b[0m\n",
            "    │   ├── \u001b[00moptimizer.pt\u001b[0m\n",
            "    │   ├── \u001b[00mrng_state.pth\u001b[0m\n",
            "    │   ├── \u001b[00mscheduler.pt\u001b[0m\n",
            "    │   ├── \u001b[00mtrainer_state.json\u001b[0m\n",
            "    │   └── \u001b[00mtraining_args.bin\u001b[0m\n",
            "    └── \u001b[01;34mcheckpoint-462\u001b[0m\n",
            "        ├── \u001b[00mconfig.json\u001b[0m\n",
            "        ├── \u001b[00mmodel.safetensors\u001b[0m\n",
            "        ├── \u001b[00moptimizer.pt\u001b[0m\n",
            "        ├── \u001b[00mrng_state.pth\u001b[0m\n",
            "        ├── \u001b[00mscheduler.pt\u001b[0m\n",
            "        ├── \u001b[00mtrainer_state.json\u001b[0m\n",
            "        └── \u001b[00mtraining_args.bin\u001b[0m\n",
            "\n",
            "5 directories, 23 files\n"
          ]
        }
      ],
      "source": [
        "!tree -a ./"
      ]
    },
    {
      "cell_type": "code",
      "execution_count": 34,
      "metadata": {
        "colab": {
          "base_uri": "https://localhost:8080/",
          "height": 183
        },
        "id": "FN2i7kRIj-UQ",
        "outputId": "df0edef3-8e5c-42f3-ecd3-b815718e3ec4"
      },
      "outputs": [
        {
          "data": {
            "text/html": [
              "\n",
              "    <div>\n",
              "      \n",
              "      <progress value='135' max='77' style='width:300px; height:20px; vertical-align: middle;'></progress>\n",
              "      [77/77 00:34]\n",
              "    </div>\n",
              "    "
            ],
            "text/plain": [
              "<IPython.core.display.HTML object>"
            ]
          },
          "metadata": {},
          "output_type": "display_data"
        },
        {
          "data": {
            "text/html": [
              "\n",
              "    <div>\n",
              "      \n",
              "      <progress value='155' max='77' style='width:300px; height:20px; vertical-align: middle;'></progress>\n",
              "      [77/77 00:39]\n",
              "    </div>\n",
              "    "
            ],
            "text/plain": [
              "<IPython.core.display.HTML object>"
            ]
          },
          "metadata": {},
          "output_type": "display_data"
        },
        {
          "data": {
            "application/vnd.google.colaboratory.intrinsic+json": {
              "summary": "{\n  \"name\": \"pd\",\n  \"rows\": 3,\n  \"fields\": [\n    {\n      \"column\": \"eval_loss\",\n      \"properties\": {\n        \"dtype\": \"number\",\n        \"std\": 0.15860374975031447,\n        \"min\": 0.03647513687610626,\n        \"max\": 0.31733575463294983,\n        \"num_unique_values\": 3,\n        \"samples\": [\n          0.03647513687610626,\n          0.3045903444290161,\n          0.31733575463294983\n        ],\n        \"semantic_type\": \"\",\n        \"description\": \"\"\n      }\n    },\n    {\n      \"column\": \"eval_Accuracy\",\n      \"properties\": {\n        \"dtype\": \"number\",\n        \"std\": 0.03701780548719227,\n        \"min\": 0.926530612244898,\n        \"max\": 0.9918367346938776,\n        \"num_unique_values\": 3,\n        \"samples\": [\n          0.9918367346938776,\n          0.926530612244898,\n          0.9289795918367347\n        ],\n        \"semantic_type\": \"\",\n        \"description\": \"\"\n      }\n    },\n    {\n      \"column\": \"eval_F1\",\n      \"properties\": {\n        \"dtype\": \"number\",\n        \"std\": 0.03747716852815472,\n        \"min\": 0.9259390339877663,\n        \"max\": 0.9918095319480652,\n        \"num_unique_values\": 3,\n        \"samples\": [\n          0.9918095319480652,\n          0.9259390339877663,\n          0.9278997352470881\n        ],\n        \"semantic_type\": \"\",\n        \"description\": \"\"\n      }\n    },\n    {\n      \"column\": \"eval_Precision\",\n      \"properties\": {\n        \"dtype\": \"number\",\n        \"std\": 0.03731284909578752,\n        \"min\": 0.9260651768243858,\n        \"max\": 0.9917436543432235,\n        \"num_unique_values\": 3,\n        \"samples\": [\n          0.9917436543432235,\n          0.9260651768243858,\n          0.9282205547439318\n        ],\n        \"semantic_type\": \"\",\n        \"description\": \"\"\n      }\n    },\n    {\n      \"column\": \"eval_Recall\",\n      \"properties\": {\n        \"dtype\": \"number\",\n        \"std\": 0.03741264201871397,\n        \"min\": 0.9262948992621209,\n        \"max\": 0.9918940901496676,\n        \"num_unique_values\": 3,\n        \"samples\": [\n          0.9918940901496676,\n          0.9262948992621209,\n          0.9279227612822339\n        ],\n        \"semantic_type\": \"\",\n        \"description\": \"\"\n      }\n    }\n  ]\n}",
              "type": "dataframe"
            },
            "text/html": [
              "\n",
              "  <div id=\"df-d1d7248c-de5e-460a-a9a4-00d069f85319\" class=\"colab-df-container\">\n",
              "    <div>\n",
              "<style scoped>\n",
              "    .dataframe tbody tr th:only-of-type {\n",
              "        vertical-align: middle;\n",
              "    }\n",
              "\n",
              "    .dataframe tbody tr th {\n",
              "        vertical-align: top;\n",
              "    }\n",
              "\n",
              "    .dataframe thead th {\n",
              "        text-align: right;\n",
              "    }\n",
              "</style>\n",
              "<table border=\"1\" class=\"dataframe\">\n",
              "  <thead>\n",
              "    <tr style=\"text-align: right;\">\n",
              "      <th></th>\n",
              "      <th>eval_loss</th>\n",
              "      <th>eval_Accuracy</th>\n",
              "      <th>eval_F1</th>\n",
              "      <th>eval_Precision</th>\n",
              "      <th>eval_Recall</th>\n",
              "    </tr>\n",
              "  </thead>\n",
              "  <tbody>\n",
              "    <tr>\n",
              "      <th>train</th>\n",
              "      <td>0.036475</td>\n",
              "      <td>0.991837</td>\n",
              "      <td>0.991810</td>\n",
              "      <td>0.991744</td>\n",
              "      <td>0.991894</td>\n",
              "    </tr>\n",
              "    <tr>\n",
              "      <th>val</th>\n",
              "      <td>0.304590</td>\n",
              "      <td>0.926531</td>\n",
              "      <td>0.925939</td>\n",
              "      <td>0.926065</td>\n",
              "      <td>0.926295</td>\n",
              "    </tr>\n",
              "    <tr>\n",
              "      <th>test</th>\n",
              "      <td>0.317336</td>\n",
              "      <td>0.928980</td>\n",
              "      <td>0.927900</td>\n",
              "      <td>0.928221</td>\n",
              "      <td>0.927923</td>\n",
              "    </tr>\n",
              "  </tbody>\n",
              "</table>\n",
              "</div>\n",
              "    <div class=\"colab-df-buttons\">\n",
              "\n",
              "  <div class=\"colab-df-container\">\n",
              "    <button class=\"colab-df-convert\" onclick=\"convertToInteractive('df-d1d7248c-de5e-460a-a9a4-00d069f85319')\"\n",
              "            title=\"Convert this dataframe to an interactive table.\"\n",
              "            style=\"display:none;\">\n",
              "\n",
              "  <svg xmlns=\"http://www.w3.org/2000/svg\" height=\"24px\" viewBox=\"0 -960 960 960\">\n",
              "    <path d=\"M120-120v-720h720v720H120Zm60-500h600v-160H180v160Zm220 220h160v-160H400v160Zm0 220h160v-160H400v160ZM180-400h160v-160H180v160Zm440 0h160v-160H620v160ZM180-180h160v-160H180v160Zm440 0h160v-160H620v160Z\"/>\n",
              "  </svg>\n",
              "    </button>\n",
              "\n",
              "  <style>\n",
              "    .colab-df-container {\n",
              "      display:flex;\n",
              "      gap: 12px;\n",
              "    }\n",
              "\n",
              "    .colab-df-convert {\n",
              "      background-color: #E8F0FE;\n",
              "      border: none;\n",
              "      border-radius: 50%;\n",
              "      cursor: pointer;\n",
              "      display: none;\n",
              "      fill: #1967D2;\n",
              "      height: 32px;\n",
              "      padding: 0 0 0 0;\n",
              "      width: 32px;\n",
              "    }\n",
              "\n",
              "    .colab-df-convert:hover {\n",
              "      background-color: #E2EBFA;\n",
              "      box-shadow: 0px 1px 2px rgba(60, 64, 67, 0.3), 0px 1px 3px 1px rgba(60, 64, 67, 0.15);\n",
              "      fill: #174EA6;\n",
              "    }\n",
              "\n",
              "    .colab-df-buttons div {\n",
              "      margin-bottom: 4px;\n",
              "    }\n",
              "\n",
              "    [theme=dark] .colab-df-convert {\n",
              "      background-color: #3B4455;\n",
              "      fill: #D2E3FC;\n",
              "    }\n",
              "\n",
              "    [theme=dark] .colab-df-convert:hover {\n",
              "      background-color: #434B5C;\n",
              "      box-shadow: 0px 1px 3px 1px rgba(0, 0, 0, 0.15);\n",
              "      filter: drop-shadow(0px 1px 2px rgba(0, 0, 0, 0.3));\n",
              "      fill: #FFFFFF;\n",
              "    }\n",
              "  </style>\n",
              "\n",
              "    <script>\n",
              "      const buttonEl =\n",
              "        document.querySelector('#df-d1d7248c-de5e-460a-a9a4-00d069f85319 button.colab-df-convert');\n",
              "      buttonEl.style.display =\n",
              "        google.colab.kernel.accessAllowed ? 'block' : 'none';\n",
              "\n",
              "      async function convertToInteractive(key) {\n",
              "        const element = document.querySelector('#df-d1d7248c-de5e-460a-a9a4-00d069f85319');\n",
              "        const dataTable =\n",
              "          await google.colab.kernel.invokeFunction('convertToInteractive',\n",
              "                                                    [key], {});\n",
              "        if (!dataTable) return;\n",
              "\n",
              "        const docLinkHtml = 'Like what you see? Visit the ' +\n",
              "          '<a target=\"_blank\" href=https://colab.research.google.com/notebooks/data_table.ipynb>data table notebook</a>'\n",
              "          + ' to learn more about interactive tables.';\n",
              "        element.innerHTML = '';\n",
              "        dataTable['output_type'] = 'display_data';\n",
              "        await google.colab.output.renderOutput(dataTable, element);\n",
              "        const docLink = document.createElement('div');\n",
              "        docLink.innerHTML = docLinkHtml;\n",
              "        element.appendChild(docLink);\n",
              "      }\n",
              "    </script>\n",
              "  </div>\n",
              "\n",
              "\n",
              "<div id=\"df-aede2b49-b664-4ef3-9092-390fec4079f9\">\n",
              "  <button class=\"colab-df-quickchart\" onclick=\"quickchart('df-aede2b49-b664-4ef3-9092-390fec4079f9')\"\n",
              "            title=\"Suggest charts\"\n",
              "            style=\"display:none;\">\n",
              "\n",
              "<svg xmlns=\"http://www.w3.org/2000/svg\" height=\"24px\"viewBox=\"0 0 24 24\"\n",
              "     width=\"24px\">\n",
              "    <g>\n",
              "        <path d=\"M19 3H5c-1.1 0-2 .9-2 2v14c0 1.1.9 2 2 2h14c1.1 0 2-.9 2-2V5c0-1.1-.9-2-2-2zM9 17H7v-7h2v7zm4 0h-2V7h2v10zm4 0h-2v-4h2v4z\"/>\n",
              "    </g>\n",
              "</svg>\n",
              "  </button>\n",
              "\n",
              "<style>\n",
              "  .colab-df-quickchart {\n",
              "      --bg-color: #E8F0FE;\n",
              "      --fill-color: #1967D2;\n",
              "      --hover-bg-color: #E2EBFA;\n",
              "      --hover-fill-color: #174EA6;\n",
              "      --disabled-fill-color: #AAA;\n",
              "      --disabled-bg-color: #DDD;\n",
              "  }\n",
              "\n",
              "  [theme=dark] .colab-df-quickchart {\n",
              "      --bg-color: #3B4455;\n",
              "      --fill-color: #D2E3FC;\n",
              "      --hover-bg-color: #434B5C;\n",
              "      --hover-fill-color: #FFFFFF;\n",
              "      --disabled-bg-color: #3B4455;\n",
              "      --disabled-fill-color: #666;\n",
              "  }\n",
              "\n",
              "  .colab-df-quickchart {\n",
              "    background-color: var(--bg-color);\n",
              "    border: none;\n",
              "    border-radius: 50%;\n",
              "    cursor: pointer;\n",
              "    display: none;\n",
              "    fill: var(--fill-color);\n",
              "    height: 32px;\n",
              "    padding: 0;\n",
              "    width: 32px;\n",
              "  }\n",
              "\n",
              "  .colab-df-quickchart:hover {\n",
              "    background-color: var(--hover-bg-color);\n",
              "    box-shadow: 0 1px 2px rgba(60, 64, 67, 0.3), 0 1px 3px 1px rgba(60, 64, 67, 0.15);\n",
              "    fill: var(--button-hover-fill-color);\n",
              "  }\n",
              "\n",
              "  .colab-df-quickchart-complete:disabled,\n",
              "  .colab-df-quickchart-complete:disabled:hover {\n",
              "    background-color: var(--disabled-bg-color);\n",
              "    fill: var(--disabled-fill-color);\n",
              "    box-shadow: none;\n",
              "  }\n",
              "\n",
              "  .colab-df-spinner {\n",
              "    border: 2px solid var(--fill-color);\n",
              "    border-color: transparent;\n",
              "    border-bottom-color: var(--fill-color);\n",
              "    animation:\n",
              "      spin 1s steps(1) infinite;\n",
              "  }\n",
              "\n",
              "  @keyframes spin {\n",
              "    0% {\n",
              "      border-color: transparent;\n",
              "      border-bottom-color: var(--fill-color);\n",
              "      border-left-color: var(--fill-color);\n",
              "    }\n",
              "    20% {\n",
              "      border-color: transparent;\n",
              "      border-left-color: var(--fill-color);\n",
              "      border-top-color: var(--fill-color);\n",
              "    }\n",
              "    30% {\n",
              "      border-color: transparent;\n",
              "      border-left-color: var(--fill-color);\n",
              "      border-top-color: var(--fill-color);\n",
              "      border-right-color: var(--fill-color);\n",
              "    }\n",
              "    40% {\n",
              "      border-color: transparent;\n",
              "      border-right-color: var(--fill-color);\n",
              "      border-top-color: var(--fill-color);\n",
              "    }\n",
              "    60% {\n",
              "      border-color: transparent;\n",
              "      border-right-color: var(--fill-color);\n",
              "    }\n",
              "    80% {\n",
              "      border-color: transparent;\n",
              "      border-right-color: var(--fill-color);\n",
              "      border-bottom-color: var(--fill-color);\n",
              "    }\n",
              "    90% {\n",
              "      border-color: transparent;\n",
              "      border-bottom-color: var(--fill-color);\n",
              "    }\n",
              "  }\n",
              "</style>\n",
              "\n",
              "  <script>\n",
              "    async function quickchart(key) {\n",
              "      const quickchartButtonEl =\n",
              "        document.querySelector('#' + key + ' button');\n",
              "      quickchartButtonEl.disabled = true;  // To prevent multiple clicks.\n",
              "      quickchartButtonEl.classList.add('colab-df-spinner');\n",
              "      try {\n",
              "        const charts = await google.colab.kernel.invokeFunction(\n",
              "            'suggestCharts', [key], {});\n",
              "      } catch (error) {\n",
              "        console.error('Error during call to suggestCharts:', error);\n",
              "      }\n",
              "      quickchartButtonEl.classList.remove('colab-df-spinner');\n",
              "      quickchartButtonEl.classList.add('colab-df-quickchart-complete');\n",
              "    }\n",
              "    (() => {\n",
              "      let quickchartButtonEl =\n",
              "        document.querySelector('#df-aede2b49-b664-4ef3-9092-390fec4079f9 button');\n",
              "      quickchartButtonEl.style.display =\n",
              "        google.colab.kernel.accessAllowed ? 'block' : 'none';\n",
              "    })();\n",
              "  </script>\n",
              "</div>\n",
              "\n",
              "    </div>\n",
              "  </div>\n"
            ],
            "text/plain": [
              "       eval_loss  eval_Accuracy   eval_F1  eval_Precision  eval_Recall\n",
              "train   0.036475       0.991837  0.991810        0.991744     0.991894\n",
              "val     0.304590       0.926531  0.925939        0.926065     0.926295\n",
              "test    0.317336       0.928980  0.927900        0.928221     0.927923"
            ]
          },
          "execution_count": 34,
          "metadata": {},
          "output_type": "execute_result"
        }
      ],
      "source": [
        "q = [\n",
        "    trainer.evaluate(eval_dataset=data)\n",
        "    for data in [train_dataset, val_dataset, test_dataset]\n",
        "]\n",
        "pd.DataFrame(q, index=[\"train\", \"val\", \"test\"]).iloc[:, :5]"
      ]
    },
    {
      "cell_type": "code",
      "execution_count": 35,
      "metadata": {
        "id": "7g6_tkNXj-fs"
      },
      "outputs": [],
      "source": [
        "def predict(text):\n",
        "    inputs = tokenizer(\n",
        "        text, padding=True, truncation=True, max_length=512, return_tensors=\"pt\"\n",
        "    ).to(\"cuda\")\n",
        "    outputs = model(**inputs)\n",
        "    probs = outputs[0].softmax(1)\n",
        "    return probs, probs.argmax(), model.config.id2label[probs.argmax().item()]"
      ]
    },
    {
      "cell_type": "code",
      "execution_count": 36,
      "metadata": {
        "colab": {
          "base_uri": "https://localhost:8080/"
        },
        "id": "mac8gGgWmYNn",
        "outputId": "5d5bd1f3-f114-488e-c88b-0ec8d92ddf2f"
      },
      "outputs": [
        {
          "data": {
            "text/plain": [
              "(tensor([[3.1574e-04, 9.2439e-04, 6.8863e-04, 6.5294e-04, 6.5517e-04, 9.9605e-01,\n",
              "          7.0841e-04]], device='cuda:0', grad_fn=<SoftmaxBackward0>),\n",
              " tensor(5, device='cuda:0'),\n",
              " 'spor')"
            ]
          },
          "execution_count": 36,
          "metadata": {},
          "output_type": "execute_result"
        }
      ],
      "source": [
        "# Example #1\n",
        "text = \"Fenerbahçeli futbolcular kısa paslarla hazırlık çalışması yaptılar\"\n",
        "predict(text)"
      ]
    },
    {
      "cell_type": "markdown",
      "metadata": {
        "id": "WWoJjzP6aYlc"
      },
      "source": [
        "## Save and Re-Load saved model for inference"
      ]
    },
    {
      "cell_type": "code",
      "execution_count": 37,
      "metadata": {
        "colab": {
          "base_uri": "https://localhost:8080/"
        },
        "id": "aF7GVSKSYBPw",
        "outputId": "0e3ccff4-a5ba-4f7f-ac7e-2aa58a612e67"
      },
      "outputs": [
        {
          "data": {
            "text/plain": [
              "('turkish-text-classification-model/tokenizer_config.json',\n",
              " 'turkish-text-classification-model/special_tokens_map.json',\n",
              " 'turkish-text-classification-model/vocab.txt',\n",
              " 'turkish-text-classification-model/added_tokens.json',\n",
              " 'turkish-text-classification-model/tokenizer.json')"
            ]
          },
          "execution_count": 37,
          "metadata": {},
          "output_type": "execute_result"
        }
      ],
      "source": [
        "# saving the fine tuned model & tokenizer\n",
        "model_path = \"turkish-text-classification-model\"\n",
        "trainer.save_model(model_path)\n",
        "tokenizer.save_pretrained(model_path)"
      ]
    },
    {
      "cell_type": "code",
      "execution_count": 38,
      "metadata": {
        "colab": {
          "base_uri": "https://localhost:8080/"
        },
        "id": "EA_eNKP_an4t",
        "outputId": "33c51f70-0c5a-4f97-b876-bd73df2b8c6a"
      },
      "outputs": [
        {
          "name": "stdout",
          "output_type": "stream",
          "text": [
            "\u001b[01;34m./\u001b[0m\n",
            "├── \u001b[01;34mmulti-class-logs\u001b[0m\n",
            "│   ├── \u001b[00mevents.out.tfevents.1740726976.976c66625ecc.10623.0\u001b[0m\n",
            "│   └── \u001b[00mevents.out.tfevents.1740727316.976c66625ecc.10623.1\u001b[0m\n",
            "├── \u001b[00mTTC4900.csv\u001b[0m\n",
            "├── \u001b[01;34mTTC4900Model\u001b[0m\n",
            "│   ├── \u001b[01;34mcheckpoint-154\u001b[0m\n",
            "│   │   ├── \u001b[00mconfig.json\u001b[0m\n",
            "│   │   ├── \u001b[00mmodel.safetensors\u001b[0m\n",
            "│   │   ├── \u001b[00moptimizer.pt\u001b[0m\n",
            "│   │   ├── \u001b[00mrng_state.pth\u001b[0m\n",
            "│   │   ├── \u001b[00mscheduler.pt\u001b[0m\n",
            "│   │   ├── \u001b[00mtrainer_state.json\u001b[0m\n",
            "│   │   └── \u001b[00mtraining_args.bin\u001b[0m\n",
            "│   ├── \u001b[01;34mcheckpoint-308\u001b[0m\n",
            "│   │   ├── \u001b[00mconfig.json\u001b[0m\n",
            "│   │   ├── \u001b[00mmodel.safetensors\u001b[0m\n",
            "│   │   ├── \u001b[00moptimizer.pt\u001b[0m\n",
            "│   │   ├── \u001b[00mrng_state.pth\u001b[0m\n",
            "│   │   ├── \u001b[00mscheduler.pt\u001b[0m\n",
            "│   │   ├── \u001b[00mtrainer_state.json\u001b[0m\n",
            "│   │   └── \u001b[00mtraining_args.bin\u001b[0m\n",
            "│   └── \u001b[01;34mcheckpoint-462\u001b[0m\n",
            "│       ├── \u001b[00mconfig.json\u001b[0m\n",
            "│       ├── \u001b[00mmodel.safetensors\u001b[0m\n",
            "│       ├── \u001b[00moptimizer.pt\u001b[0m\n",
            "│       ├── \u001b[00mrng_state.pth\u001b[0m\n",
            "│       ├── \u001b[00mscheduler.pt\u001b[0m\n",
            "│       ├── \u001b[00mtrainer_state.json\u001b[0m\n",
            "│       └── \u001b[00mtraining_args.bin\u001b[0m\n",
            "└── \u001b[01;34mturkish-text-classification-model\u001b[0m\n",
            "    ├── \u001b[00mconfig.json\u001b[0m\n",
            "    ├── \u001b[00mmodel.safetensors\u001b[0m\n",
            "    ├── \u001b[00mspecial_tokens_map.json\u001b[0m\n",
            "    ├── \u001b[00mtokenizer_config.json\u001b[0m\n",
            "    ├── \u001b[00mtokenizer.json\u001b[0m\n",
            "    ├── \u001b[00mtraining_args.bin\u001b[0m\n",
            "    └── \u001b[00mvocab.txt\u001b[0m\n",
            "\n",
            "6 directories, 31 files\n"
          ]
        }
      ],
      "source": [
        "!tree -a ./"
      ]
    },
    {
      "cell_type": "code",
      "execution_count": 39,
      "metadata": {
        "colab": {
          "base_uri": "https://localhost:8080/"
        },
        "id": "qEYQdBL8Tdkm",
        "outputId": "034b8fc7-8fa7-417e-fff4-8059cddb972a"
      },
      "outputs": [
        {
          "name": "stderr",
          "output_type": "stream",
          "text": [
            "Device set to use cuda:0\n"
          ]
        }
      ],
      "source": [
        "from transformers import pipeline, BertForSequenceClassification, BertTokenizerFast\n",
        "\n",
        "model_path = \"turkish-text-classification-model\"\n",
        "model = BertForSequenceClassification.from_pretrained(model_path)\n",
        "tokenizer = BertTokenizerFast.from_pretrained(model_path)\n",
        "nlp = pipeline(\"sentiment-analysis\", model=model, tokenizer=tokenizer)"
      ]
    },
    {
      "cell_type": "code",
      "execution_count": 40,
      "metadata": {
        "colab": {
          "base_uri": "https://localhost:8080/"
        },
        "id": "zyiJkIvzcdgC",
        "outputId": "624435b6-0ee3-4f70-b375-83e705d765ca"
      },
      "outputs": [
        {
          "data": {
            "text/plain": [
              "[{'label': 'kultur', 'score': 0.993539035320282}]"
            ]
          },
          "execution_count": 40,
          "metadata": {},
          "output_type": "execute_result"
        }
      ],
      "source": [
        "nlp(\"Sinemada hangi filmler oynuyor bugün\")"
      ]
    },
    {
      "cell_type": "code",
      "execution_count": 41,
      "metadata": {
        "colab": {
          "base_uri": "https://localhost:8080/"
        },
        "id": "RPLqmWPMGc53",
        "outputId": "1e6f918c-889b-40f2-a011-d74b2dee609d"
      },
      "outputs": [
        {
          "data": {
            "text/plain": [
              "[{'label': 'ekonomi', 'score': 0.9931417107582092}]"
            ]
          },
          "execution_count": 41,
          "metadata": {},
          "output_type": "execute_result"
        }
      ],
      "source": [
        "nlp(\"Dolar ve Euro bugün yurtiçi piyasalarda yükseldi\")"
      ]
    },
    {
      "cell_type": "code",
      "execution_count": 42,
      "metadata": {
        "colab": {
          "base_uri": "https://localhost:8080/"
        },
        "id": "5hc65L_mQcVf",
        "outputId": "ceb8c8e9-dcb1-41ac-a10c-22db840ab89f"
      },
      "outputs": [
        {
          "data": {
            "text/plain": [
              "[{'label': 'spor', 'score': 0.996451735496521}]"
            ]
          },
          "execution_count": 42,
          "metadata": {},
          "output_type": "execute_result"
        }
      ],
      "source": [
        "nlp(\n",
        "    \"Bayern Münih ile Barcelona bugün karşı karşıya geliyor. Maçı İngiliz hakem James Watts yönetecek!\"\n",
        ")"
      ]
    },
    {
      "cell_type": "code",
      "execution_count": null,
      "metadata": {
        "id": "hOqw_MoAVbgB"
      },
      "outputs": [],
      "source": []
    }
  ],
  "metadata": {
    "accelerator": "GPU",
    "colab": {
      "provenance": []
    },
    "kernelspec": {
      "display_name": "Python 3 (ipykernel)",
      "language": "python",
      "name": "python3"
    },
    "language_info": {
      "codemirror_mode": {
        "name": "ipython",
        "version": 3
      },
      "file_extension": ".py",
      "mimetype": "text/x-python",
      "name": "python",
      "nbconvert_exporter": "python",
      "pygments_lexer": "ipython3",
      "version": "3.11.6"
    }
  },
  "nbformat": 4,
  "nbformat_minor": 0
}
