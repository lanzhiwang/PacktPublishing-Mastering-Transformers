{
  "cells": [
    {
      "cell_type": "markdown",
      "metadata": {
        "id": "TRDYJW5ljYwK",
        "outputId": "3547ca78-10f2-4790-f6a1-90669785b58b"
      },
      "source": [
        "# Tokenization"
      ]
    },
    {
      "cell_type": "code",
      "execution_count": 1,
      "metadata": {
        "colab": {
          "base_uri": "https://localhost:8080/"
        },
        "id": "wXomV31vsGue",
        "outputId": "454a20aa-931a-45b1-97a1-4c8f07e0f0a6"
      },
      "outputs": [
        {
          "output_type": "stream",
          "name": "stdout",
          "text": [
            "Requirement already satisfied: scikit-learn==1.6.1 in /usr/local/lib/python3.11/dist-packages (from -r requirements.txt (line 2)) (1.6.1)\n",
            "Requirement already satisfied: py3nvml==0.2.7 in /usr/local/lib/python3.11/dist-packages (from -r requirements.txt (line 3)) (0.2.7)\n",
            "Requirement already satisfied: datasets==3.3.2 in /usr/local/lib/python3.11/dist-packages (from -r requirements.txt (line 4)) (3.3.2)\n",
            "Requirement already satisfied: evaluate==0.4.3 in /usr/local/lib/python3.11/dist-packages (from -r requirements.txt (line 5)) (0.4.3)\n",
            "Requirement already satisfied: huggingface-hub==0.28.1 in /usr/local/lib/python3.11/dist-packages (from -r requirements.txt (line 6)) (0.28.1)\n",
            "Requirement already satisfied: black[jupyter] in /usr/local/lib/python3.11/dist-packages (from -r requirements.txt (line 1)) (25.1.0)\n",
            "Requirement already satisfied: numpy>=1.19.5 in /usr/local/lib/python3.11/dist-packages (from scikit-learn==1.6.1->-r requirements.txt (line 2)) (1.26.4)\n",
            "Requirement already satisfied: scipy>=1.6.0 in /usr/local/lib/python3.11/dist-packages (from scikit-learn==1.6.1->-r requirements.txt (line 2)) (1.13.1)\n",
            "Requirement already satisfied: joblib>=1.2.0 in /usr/local/lib/python3.11/dist-packages (from scikit-learn==1.6.1->-r requirements.txt (line 2)) (1.4.2)\n",
            "Requirement already satisfied: threadpoolctl>=3.1.0 in /usr/local/lib/python3.11/dist-packages (from scikit-learn==1.6.1->-r requirements.txt (line 2)) (3.5.0)\n",
            "Requirement already satisfied: xmltodict in /usr/local/lib/python3.11/dist-packages (from py3nvml==0.2.7->-r requirements.txt (line 3)) (0.14.2)\n",
            "Requirement already satisfied: filelock in /usr/local/lib/python3.11/dist-packages (from datasets==3.3.2->-r requirements.txt (line 4)) (3.17.0)\n",
            "Requirement already satisfied: pyarrow>=15.0.0 in /usr/local/lib/python3.11/dist-packages (from datasets==3.3.2->-r requirements.txt (line 4)) (17.0.0)\n",
            "Requirement already satisfied: dill<0.3.9,>=0.3.0 in /usr/local/lib/python3.11/dist-packages (from datasets==3.3.2->-r requirements.txt (line 4)) (0.3.8)\n",
            "Requirement already satisfied: pandas in /usr/local/lib/python3.11/dist-packages (from datasets==3.3.2->-r requirements.txt (line 4)) (2.2.2)\n",
            "Requirement already satisfied: requests>=2.32.2 in /usr/local/lib/python3.11/dist-packages (from datasets==3.3.2->-r requirements.txt (line 4)) (2.32.3)\n",
            "Requirement already satisfied: tqdm>=4.66.3 in /usr/local/lib/python3.11/dist-packages (from datasets==3.3.2->-r requirements.txt (line 4)) (4.67.1)\n",
            "Requirement already satisfied: xxhash in /usr/local/lib/python3.11/dist-packages (from datasets==3.3.2->-r requirements.txt (line 4)) (3.5.0)\n",
            "Requirement already satisfied: multiprocess<0.70.17 in /usr/local/lib/python3.11/dist-packages (from datasets==3.3.2->-r requirements.txt (line 4)) (0.70.16)\n",
            "Requirement already satisfied: fsspec<=2024.12.0,>=2023.1.0 in /usr/local/lib/python3.11/dist-packages (from fsspec[http]<=2024.12.0,>=2023.1.0->datasets==3.3.2->-r requirements.txt (line 4)) (2024.10.0)\n",
            "Requirement already satisfied: aiohttp in /usr/local/lib/python3.11/dist-packages (from datasets==3.3.2->-r requirements.txt (line 4)) (3.11.12)\n",
            "Requirement already satisfied: packaging in /usr/local/lib/python3.11/dist-packages (from datasets==3.3.2->-r requirements.txt (line 4)) (24.2)\n",
            "Requirement already satisfied: pyyaml>=5.1 in /usr/local/lib/python3.11/dist-packages (from datasets==3.3.2->-r requirements.txt (line 4)) (6.0.2)\n",
            "Requirement already satisfied: typing-extensions>=3.7.4.3 in /usr/local/lib/python3.11/dist-packages (from huggingface-hub==0.28.1->-r requirements.txt (line 6)) (4.12.2)\n",
            "Requirement already satisfied: click>=8.0.0 in /usr/local/lib/python3.11/dist-packages (from black[jupyter]->-r requirements.txt (line 1)) (8.1.8)\n",
            "Requirement already satisfied: mypy-extensions>=0.4.3 in /usr/local/lib/python3.11/dist-packages (from black[jupyter]->-r requirements.txt (line 1)) (1.0.0)\n",
            "Requirement already satisfied: pathspec>=0.9.0 in /usr/local/lib/python3.11/dist-packages (from black[jupyter]->-r requirements.txt (line 1)) (0.12.1)\n",
            "Requirement already satisfied: platformdirs>=2 in /usr/local/lib/python3.11/dist-packages (from black[jupyter]->-r requirements.txt (line 1)) (4.3.6)\n",
            "Requirement already satisfied: ipython>=7.8.0 in /usr/local/lib/python3.11/dist-packages (from black[jupyter]->-r requirements.txt (line 1)) (7.34.0)\n",
            "Requirement already satisfied: tokenize-rt>=3.2.0 in /usr/local/lib/python3.11/dist-packages (from black[jupyter]->-r requirements.txt (line 1)) (6.1.0)\n",
            "Requirement already satisfied: aiohappyeyeballs>=2.3.0 in /usr/local/lib/python3.11/dist-packages (from aiohttp->datasets==3.3.2->-r requirements.txt (line 4)) (2.4.6)\n",
            "Requirement already satisfied: aiosignal>=1.1.2 in /usr/local/lib/python3.11/dist-packages (from aiohttp->datasets==3.3.2->-r requirements.txt (line 4)) (1.3.2)\n",
            "Requirement already satisfied: attrs>=17.3.0 in /usr/local/lib/python3.11/dist-packages (from aiohttp->datasets==3.3.2->-r requirements.txt (line 4)) (25.1.0)\n",
            "Requirement already satisfied: frozenlist>=1.1.1 in /usr/local/lib/python3.11/dist-packages (from aiohttp->datasets==3.3.2->-r requirements.txt (line 4)) (1.5.0)\n",
            "Requirement already satisfied: multidict<7.0,>=4.5 in /usr/local/lib/python3.11/dist-packages (from aiohttp->datasets==3.3.2->-r requirements.txt (line 4)) (6.1.0)\n",
            "Requirement already satisfied: propcache>=0.2.0 in /usr/local/lib/python3.11/dist-packages (from aiohttp->datasets==3.3.2->-r requirements.txt (line 4)) (0.2.1)\n",
            "Requirement already satisfied: yarl<2.0,>=1.17.0 in /usr/local/lib/python3.11/dist-packages (from aiohttp->datasets==3.3.2->-r requirements.txt (line 4)) (1.18.3)\n",
            "Requirement already satisfied: setuptools>=18.5 in /usr/local/lib/python3.11/dist-packages (from ipython>=7.8.0->black[jupyter]->-r requirements.txt (line 1)) (75.1.0)\n",
            "Requirement already satisfied: jedi>=0.16 in /usr/local/lib/python3.11/dist-packages (from ipython>=7.8.0->black[jupyter]->-r requirements.txt (line 1)) (0.19.2)\n",
            "Requirement already satisfied: decorator in /usr/local/lib/python3.11/dist-packages (from ipython>=7.8.0->black[jupyter]->-r requirements.txt (line 1)) (4.4.2)\n",
            "Requirement already satisfied: pickleshare in /usr/local/lib/python3.11/dist-packages (from ipython>=7.8.0->black[jupyter]->-r requirements.txt (line 1)) (0.7.5)\n",
            "Requirement already satisfied: traitlets>=4.2 in /usr/local/lib/python3.11/dist-packages (from ipython>=7.8.0->black[jupyter]->-r requirements.txt (line 1)) (5.7.1)\n",
            "Requirement already satisfied: prompt-toolkit!=3.0.0,!=3.0.1,<3.1.0,>=2.0.0 in /usr/local/lib/python3.11/dist-packages (from ipython>=7.8.0->black[jupyter]->-r requirements.txt (line 1)) (3.0.50)\n",
            "Requirement already satisfied: pygments in /usr/local/lib/python3.11/dist-packages (from ipython>=7.8.0->black[jupyter]->-r requirements.txt (line 1)) (2.18.0)\n",
            "Requirement already satisfied: backcall in /usr/local/lib/python3.11/dist-packages (from ipython>=7.8.0->black[jupyter]->-r requirements.txt (line 1)) (0.2.0)\n",
            "Requirement already satisfied: matplotlib-inline in /usr/local/lib/python3.11/dist-packages (from ipython>=7.8.0->black[jupyter]->-r requirements.txt (line 1)) (0.1.7)\n",
            "Requirement already satisfied: pexpect>4.3 in /usr/local/lib/python3.11/dist-packages (from ipython>=7.8.0->black[jupyter]->-r requirements.txt (line 1)) (4.9.0)\n",
            "Requirement already satisfied: charset-normalizer<4,>=2 in /usr/local/lib/python3.11/dist-packages (from requests>=2.32.2->datasets==3.3.2->-r requirements.txt (line 4)) (3.4.1)\n",
            "Requirement already satisfied: idna<4,>=2.5 in /usr/local/lib/python3.11/dist-packages (from requests>=2.32.2->datasets==3.3.2->-r requirements.txt (line 4)) (3.10)\n",
            "Requirement already satisfied: urllib3<3,>=1.21.1 in /usr/local/lib/python3.11/dist-packages (from requests>=2.32.2->datasets==3.3.2->-r requirements.txt (line 4)) (2.3.0)\n",
            "Requirement already satisfied: certifi>=2017.4.17 in /usr/local/lib/python3.11/dist-packages (from requests>=2.32.2->datasets==3.3.2->-r requirements.txt (line 4)) (2025.1.31)\n",
            "Requirement already satisfied: python-dateutil>=2.8.2 in /usr/local/lib/python3.11/dist-packages (from pandas->datasets==3.3.2->-r requirements.txt (line 4)) (2.8.2)\n",
            "Requirement already satisfied: pytz>=2020.1 in /usr/local/lib/python3.11/dist-packages (from pandas->datasets==3.3.2->-r requirements.txt (line 4)) (2025.1)\n",
            "Requirement already satisfied: tzdata>=2022.7 in /usr/local/lib/python3.11/dist-packages (from pandas->datasets==3.3.2->-r requirements.txt (line 4)) (2025.1)\n",
            "Requirement already satisfied: parso<0.9.0,>=0.8.4 in /usr/local/lib/python3.11/dist-packages (from jedi>=0.16->ipython>=7.8.0->black[jupyter]->-r requirements.txt (line 1)) (0.8.4)\n",
            "Requirement already satisfied: ptyprocess>=0.5 in /usr/local/lib/python3.11/dist-packages (from pexpect>4.3->ipython>=7.8.0->black[jupyter]->-r requirements.txt (line 1)) (0.7.0)\n",
            "Requirement already satisfied: wcwidth in /usr/local/lib/python3.11/dist-packages (from prompt-toolkit!=3.0.0,!=3.0.1,<3.1.0,>=2.0.0->ipython>=7.8.0->black[jupyter]->-r requirements.txt (line 1)) (0.2.13)\n",
            "Requirement already satisfied: six>=1.5 in /usr/local/lib/python3.11/dist-packages (from python-dateutil>=2.8.2->pandas->datasets==3.3.2->-r requirements.txt (line 4)) (1.17.0)\n"
          ]
        }
      ],
      "source": [
        "!pip install -r requirements.txt"
      ]
    },
    {
      "cell_type": "markdown",
      "metadata": {
        "id": "aSOk-ouhr6VV"
      },
      "source": [
        "## Loading a Turkish Pre-trained Tokenizer"
      ]
    },
    {
      "cell_type": "code",
      "execution_count": 2,
      "metadata": {
        "colab": {
          "base_uri": "https://localhost:8080/"
        },
        "id": "K-4KLgJ5r6VW",
        "outputId": "5085ff8a-2f32-4b54-f69e-a5b1d9911fb9"
      },
      "outputs": [
        {
          "output_type": "stream",
          "name": "stderr",
          "text": [
            "/usr/local/lib/python3.11/dist-packages/huggingface_hub/utils/_auth.py:94: UserWarning: \n",
            "The secret `HF_TOKEN` does not exist in your Colab secrets.\n",
            "To authenticate with the Hugging Face Hub, create a token in your settings tab (https://huggingface.co/settings/tokens), set it as secret in your Google Colab and restart your session.\n",
            "You will be able to reuse this secret in all of your notebooks.\n",
            "Please note that authentication is recommended but still optional to access public models or datasets.\n",
            "  warnings.warn(\n"
          ]
        },
        {
          "output_type": "stream",
          "name": "stdout",
          "text": [
            "VOC size is: 32000\n",
            "The model is <class 'transformers.models.bert.tokenization_bert_fast.BertTokenizerFast'>\n"
          ]
        }
      ],
      "source": [
        "from transformers import AutoModel, AutoTokenizer\n",
        "\n",
        "tokenizerTUR = AutoTokenizer.from_pretrained(\n",
        "    \"dbmdz/bert-base-turkish-uncased\",\n",
        ")\n",
        "print(f\"VOC size is: {tokenizerTUR.vocab_size}\")\n",
        "print(f\"The model is {type(tokenizerTUR)}\")"
      ]
    },
    {
      "cell_type": "markdown",
      "metadata": {
        "id": "aHtaOWRfr6VY"
      },
      "source": [
        "## Loading an English Pre-trained Tokenizer"
      ]
    },
    {
      "cell_type": "code",
      "execution_count": 3,
      "metadata": {
        "colab": {
          "base_uri": "https://localhost:8080/"
        },
        "id": "HBUiytDGr6VY",
        "outputId": "d4869a18-d349-4dd9-9d2a-b16e0e2f75f4"
      },
      "outputs": [
        {
          "output_type": "stream",
          "name": "stdout",
          "text": [
            "VOC size is: 30522\n",
            "The model is <class 'transformers.models.bert.tokenization_bert_fast.BertTokenizerFast'>\n"
          ]
        }
      ],
      "source": [
        "from transformers import AutoModel, AutoTokenizer\n",
        "\n",
        "tokenizerEN = AutoTokenizer.from_pretrained(\"bert-base-uncased\")\n",
        "print(f\"VOC size is: {tokenizerEN.vocab_size}\")\n",
        "print(f\"The model is {type(tokenizerEN)}\")"
      ]
    },
    {
      "cell_type": "code",
      "execution_count": 4,
      "metadata": {
        "colab": {
          "base_uri": "https://localhost:8080/"
        },
        "id": "r99VtKxqr6VZ",
        "outputId": "3d753db6-4914-44df-c36c-838a51a7c191"
      },
      "outputs": [
        {
          "output_type": "stream",
          "name": "stdout",
          "text": [
            "is in Turkish Model ? False\n",
            "is in English Model ? True\n"
          ]
        }
      ],
      "source": [
        "word_en = \"telecommunications\"\n",
        "print(f\"is in Turkish Model ? {word_en in tokenizerTUR.vocab}\")\n",
        "print(f\"is in English Model ? {word_en in tokenizerEN.vocab}\")"
      ]
    },
    {
      "cell_type": "code",
      "execution_count": 5,
      "metadata": {
        "colab": {
          "base_uri": "https://localhost:8080/"
        },
        "id": "0BcZPXHIr6Va",
        "outputId": "458a915e-1ee2-40bc-c4bb-7b17298fddb6"
      },
      "outputs": [
        {
          "output_type": "execute_result",
          "data": {
            "text/plain": [
              "['tel', '##eco', '##mm', '##un', '##ica', '##tions']"
            ]
          },
          "metadata": {},
          "execution_count": 5
        }
      ],
      "source": [
        "tokens = tokenizerTUR.tokenize(word_en)\n",
        "tokens"
      ]
    },
    {
      "cell_type": "code",
      "execution_count": 6,
      "metadata": {
        "colab": {
          "base_uri": "https://localhost:8080/"
        },
        "id": "-Tjxu8vcr6Vb",
        "outputId": "c3c9ccf0-b3e6-49d5-a1f3-e2df75418b0b"
      },
      "outputs": [
        {
          "output_type": "execute_result",
          "data": {
            "text/plain": [
              "[True, True, True, True, True, True]"
            ]
          },
          "metadata": {},
          "execution_count": 6
        }
      ],
      "source": [
        "[t in tokenizerTUR.vocab for t in tokens]"
      ]
    },
    {
      "cell_type": "code",
      "execution_count": 7,
      "metadata": {
        "colab": {
          "base_uri": "https://localhost:8080/"
        },
        "id": "JDO-9FnCr6Vb",
        "outputId": "76971d74-b89b-48e9-ea52-24aec01f237d"
      },
      "outputs": [
        {
          "output_type": "execute_result",
          "data": {
            "text/plain": [
              "['telecommunications']"
            ]
          },
          "metadata": {},
          "execution_count": 7
        }
      ],
      "source": [
        "tokens = tokenizerEN.tokenize(word_en)\n",
        "tokens"
      ]
    },
    {
      "cell_type": "code",
      "execution_count": 8,
      "metadata": {
        "id": "NWcEicrrr6Vc"
      },
      "outputs": [],
      "source": [
        "long_word_tur = \"Muvaffakiyetsizleştiricileştiriveremeyebileceklerimizdenmişsinizcesine\""
      ]
    },
    {
      "cell_type": "markdown",
      "metadata": {
        "id": "mO0ewrDIr6Vc"
      },
      "source": [
        "'''\n",
        "It means that “As though you happen to have been from among those whom we will not be able to easily/quickly make a maker of unsuccessful ones”\n",
        "'''"
      ]
    },
    {
      "cell_type": "markdown",
      "metadata": {
        "id": "D5d08yswr6Vd"
      },
      "source": [
        "## Understanding Tokenization Algorithms"
      ]
    },
    {
      "cell_type": "markdown",
      "metadata": {
        "id": "TpIlpuIgr6Ve"
      },
      "source": [
        "### Train tokenizers from scratch"
      ]
    },
    {
      "cell_type": "markdown",
      "metadata": {
        "id": "zFmJoDDvr6Ve"
      },
      "source": [
        "let's load Shakespeare plays from gutenberg project"
      ]
    },
    {
      "cell_type": "code",
      "source": [
        "import nltk\n",
        "from nltk.corpus import gutenberg\n",
        "\n",
        "nltk.download(\"gutenberg\")\n",
        "nltk.download(\"punkt\")\n",
        "nltk.download('punkt_tab')"
      ],
      "metadata": {
        "colab": {
          "base_uri": "https://localhost:8080/"
        },
        "id": "gyiaJI25DDgM",
        "outputId": "a131aa57-eb59-4c1d-fb11-ac994f035693"
      },
      "execution_count": 9,
      "outputs": [
        {
          "output_type": "stream",
          "name": "stderr",
          "text": [
            "[nltk_data] Downloading package gutenberg to /root/nltk_data...\n",
            "[nltk_data]   Package gutenberg is already up-to-date!\n",
            "[nltk_data] Downloading package punkt to /root/nltk_data...\n",
            "[nltk_data]   Package punkt is already up-to-date!\n",
            "[nltk_data] Downloading package punkt_tab to /root/nltk_data...\n",
            "[nltk_data]   Package punkt_tab is already up-to-date!\n"
          ]
        },
        {
          "output_type": "execute_result",
          "data": {
            "text/plain": [
              "True"
            ]
          },
          "metadata": {},
          "execution_count": 9
        }
      ]
    },
    {
      "cell_type": "code",
      "source": [
        "# !apt-get install tree\n",
        "!tree -a /root/nltk_data"
      ],
      "metadata": {
        "colab": {
          "base_uri": "https://localhost:8080/"
        },
        "id": "GvqE6WvKDH8J",
        "outputId": "f1faac5d-b408-4156-b567-04cf5ba17f8d"
      },
      "execution_count": 10,
      "outputs": [
        {
          "output_type": "stream",
          "name": "stdout",
          "text": [
            "\u001b[01;34m/root/nltk_data\u001b[0m\n",
            "├── \u001b[01;34mcorpora\u001b[0m\n",
            "│   ├── \u001b[01;34mgutenberg\u001b[0m\n",
            "│   │   ├── \u001b[00mausten-emma.txt\u001b[0m\n",
            "│   │   ├── \u001b[00mausten-persuasion.txt\u001b[0m\n",
            "│   │   ├── \u001b[00mausten-sense.txt\u001b[0m\n",
            "│   │   ├── \u001b[00mbible-kjv.txt\u001b[0m\n",
            "│   │   ├── \u001b[00mblake-poems.txt\u001b[0m\n",
            "│   │   ├── \u001b[00mbryant-stories.txt\u001b[0m\n",
            "│   │   ├── \u001b[00mburgess-busterbrown.txt\u001b[0m\n",
            "│   │   ├── \u001b[00mcarroll-alice.txt\u001b[0m\n",
            "│   │   ├── \u001b[00mchesterton-ball.txt\u001b[0m\n",
            "│   │   ├── \u001b[00mchesterton-brown.txt\u001b[0m\n",
            "│   │   ├── \u001b[00mchesterton-thursday.txt\u001b[0m\n",
            "│   │   ├── \u001b[00medgeworth-parents.txt\u001b[0m\n",
            "│   │   ├── \u001b[00mmelville-moby_dick.txt\u001b[0m\n",
            "│   │   ├── \u001b[00mmilton-paradise.txt\u001b[0m\n",
            "│   │   ├── \u001b[00mREADME\u001b[0m\n",
            "│   │   ├── \u001b[00mshakespeare-caesar.txt\u001b[0m\n",
            "│   │   ├── \u001b[00mshakespeare-hamlet.txt\u001b[0m\n",
            "│   │   ├── \u001b[00mshakespeare-macbeth.txt\u001b[0m\n",
            "│   │   └── \u001b[00mwhitman-leaves.txt\u001b[0m\n",
            "│   └── \u001b[01;31mgutenberg.zip\u001b[0m\n",
            "└── \u001b[01;34mtokenizers\u001b[0m\n",
            "    ├── \u001b[01;34mpunkt\u001b[0m\n",
            "    │   ├── \u001b[00mczech.pickle\u001b[0m\n",
            "    │   ├── \u001b[00mdanish.pickle\u001b[0m\n",
            "    │   ├── \u001b[00m.DS_Store\u001b[0m\n",
            "    │   ├── \u001b[00mdutch.pickle\u001b[0m\n",
            "    │   ├── \u001b[00menglish.pickle\u001b[0m\n",
            "    │   ├── \u001b[00mestonian.pickle\u001b[0m\n",
            "    │   ├── \u001b[00mfinnish.pickle\u001b[0m\n",
            "    │   ├── \u001b[00mfrench.pickle\u001b[0m\n",
            "    │   ├── \u001b[00mgerman.pickle\u001b[0m\n",
            "    │   ├── \u001b[00mgreek.pickle\u001b[0m\n",
            "    │   ├── \u001b[00mitalian.pickle\u001b[0m\n",
            "    │   ├── \u001b[00mmalayalam.pickle\u001b[0m\n",
            "    │   ├── \u001b[00mnorwegian.pickle\u001b[0m\n",
            "    │   ├── \u001b[00mpolish.pickle\u001b[0m\n",
            "    │   ├── \u001b[00mportuguese.pickle\u001b[0m\n",
            "    │   ├── \u001b[01;34mPY3\u001b[0m\n",
            "    │   │   ├── \u001b[00mczech.pickle\u001b[0m\n",
            "    │   │   ├── \u001b[00mdanish.pickle\u001b[0m\n",
            "    │   │   ├── \u001b[00mdutch.pickle\u001b[0m\n",
            "    │   │   ├── \u001b[00menglish.pickle\u001b[0m\n",
            "    │   │   ├── \u001b[00mestonian.pickle\u001b[0m\n",
            "    │   │   ├── \u001b[00mfinnish.pickle\u001b[0m\n",
            "    │   │   ├── \u001b[00mfrench.pickle\u001b[0m\n",
            "    │   │   ├── \u001b[00mgerman.pickle\u001b[0m\n",
            "    │   │   ├── \u001b[00mgreek.pickle\u001b[0m\n",
            "    │   │   ├── \u001b[00mitalian.pickle\u001b[0m\n",
            "    │   │   ├── \u001b[00mmalayalam.pickle\u001b[0m\n",
            "    │   │   ├── \u001b[00mnorwegian.pickle\u001b[0m\n",
            "    │   │   ├── \u001b[00mpolish.pickle\u001b[0m\n",
            "    │   │   ├── \u001b[00mportuguese.pickle\u001b[0m\n",
            "    │   │   ├── \u001b[00mREADME\u001b[0m\n",
            "    │   │   ├── \u001b[00mrussian.pickle\u001b[0m\n",
            "    │   │   ├── \u001b[00mslovene.pickle\u001b[0m\n",
            "    │   │   ├── \u001b[00mspanish.pickle\u001b[0m\n",
            "    │   │   ├── \u001b[00mswedish.pickle\u001b[0m\n",
            "    │   │   └── \u001b[00mturkish.pickle\u001b[0m\n",
            "    │   ├── \u001b[00mREADME\u001b[0m\n",
            "    │   ├── \u001b[00mrussian.pickle\u001b[0m\n",
            "    │   ├── \u001b[00mslovene.pickle\u001b[0m\n",
            "    │   ├── \u001b[00mspanish.pickle\u001b[0m\n",
            "    │   ├── \u001b[00mswedish.pickle\u001b[0m\n",
            "    │   └── \u001b[00mturkish.pickle\u001b[0m\n",
            "    ├── \u001b[01;34mpunkt_tab\u001b[0m\n",
            "    │   ├── \u001b[01;34mczech\u001b[0m\n",
            "    │   │   ├── \u001b[00mabbrev_types.txt\u001b[0m\n",
            "    │   │   ├── \u001b[00mcollocations.tab\u001b[0m\n",
            "    │   │   ├── \u001b[00mortho_context.tab\u001b[0m\n",
            "    │   │   └── \u001b[00msent_starters.txt\u001b[0m\n",
            "    │   ├── \u001b[01;34mdanish\u001b[0m\n",
            "    │   │   ├── \u001b[00mabbrev_types.txt\u001b[0m\n",
            "    │   │   ├── \u001b[00mcollocations.tab\u001b[0m\n",
            "    │   │   ├── \u001b[00mortho_context.tab\u001b[0m\n",
            "    │   │   └── \u001b[00msent_starters.txt\u001b[0m\n",
            "    │   ├── \u001b[01;34mdutch\u001b[0m\n",
            "    │   │   ├── \u001b[00mabbrev_types.txt\u001b[0m\n",
            "    │   │   ├── \u001b[00mcollocations.tab\u001b[0m\n",
            "    │   │   ├── \u001b[00mortho_context.tab\u001b[0m\n",
            "    │   │   └── \u001b[00msent_starters.txt\u001b[0m\n",
            "    │   ├── \u001b[01;34menglish\u001b[0m\n",
            "    │   │   ├── \u001b[00mabbrev_types.txt\u001b[0m\n",
            "    │   │   ├── \u001b[00mcollocations.tab\u001b[0m\n",
            "    │   │   ├── \u001b[00mortho_context.tab\u001b[0m\n",
            "    │   │   └── \u001b[00msent_starters.txt\u001b[0m\n",
            "    │   ├── \u001b[01;34mestonian\u001b[0m\n",
            "    │   │   ├── \u001b[00mabbrev_types.txt\u001b[0m\n",
            "    │   │   ├── \u001b[00mcollocations.tab\u001b[0m\n",
            "    │   │   ├── \u001b[00mortho_context.tab\u001b[0m\n",
            "    │   │   └── \u001b[00msent_starters.txt\u001b[0m\n",
            "    │   ├── \u001b[01;34mfinnish\u001b[0m\n",
            "    │   │   ├── \u001b[00mabbrev_types.txt\u001b[0m\n",
            "    │   │   ├── \u001b[00mcollocations.tab\u001b[0m\n",
            "    │   │   ├── \u001b[00mortho_context.tab\u001b[0m\n",
            "    │   │   └── \u001b[00msent_starters.txt\u001b[0m\n",
            "    │   ├── \u001b[01;34mfrench\u001b[0m\n",
            "    │   │   ├── \u001b[00mabbrev_types.txt\u001b[0m\n",
            "    │   │   ├── \u001b[00mcollocations.tab\u001b[0m\n",
            "    │   │   ├── \u001b[00mortho_context.tab\u001b[0m\n",
            "    │   │   └── \u001b[00msent_starters.txt\u001b[0m\n",
            "    │   ├── \u001b[01;34mgerman\u001b[0m\n",
            "    │   │   ├── \u001b[00mabbrev_types.txt\u001b[0m\n",
            "    │   │   ├── \u001b[00mcollocations.tab\u001b[0m\n",
            "    │   │   ├── \u001b[00mortho_context.tab\u001b[0m\n",
            "    │   │   └── \u001b[00msent_starters.txt\u001b[0m\n",
            "    │   ├── \u001b[01;34mgreek\u001b[0m\n",
            "    │   │   ├── \u001b[00mabbrev_types.txt\u001b[0m\n",
            "    │   │   ├── \u001b[00mcollocations.tab\u001b[0m\n",
            "    │   │   ├── \u001b[00mortho_context.tab\u001b[0m\n",
            "    │   │   └── \u001b[00msent_starters.txt\u001b[0m\n",
            "    │   ├── \u001b[01;34mitalian\u001b[0m\n",
            "    │   │   ├── \u001b[00mabbrev_types.txt\u001b[0m\n",
            "    │   │   ├── \u001b[00mcollocations.tab\u001b[0m\n",
            "    │   │   ├── \u001b[00mortho_context.tab\u001b[0m\n",
            "    │   │   └── \u001b[00msent_starters.txt\u001b[0m\n",
            "    │   ├── \u001b[01;34mmalayalam\u001b[0m\n",
            "    │   │   ├── \u001b[00mabbrev_types.txt\u001b[0m\n",
            "    │   │   ├── \u001b[00mcollocations.tab\u001b[0m\n",
            "    │   │   ├── \u001b[00mortho_context.tab\u001b[0m\n",
            "    │   │   └── \u001b[00msent_starters.txt\u001b[0m\n",
            "    │   ├── \u001b[01;34mnorwegian\u001b[0m\n",
            "    │   │   ├── \u001b[00mabbrev_types.txt\u001b[0m\n",
            "    │   │   ├── \u001b[00mcollocations.tab\u001b[0m\n",
            "    │   │   ├── \u001b[00mortho_context.tab\u001b[0m\n",
            "    │   │   └── \u001b[00msent_starters.txt\u001b[0m\n",
            "    │   ├── \u001b[01;34mpolish\u001b[0m\n",
            "    │   │   ├── \u001b[00mabbrev_types.txt\u001b[0m\n",
            "    │   │   ├── \u001b[00mcollocations.tab\u001b[0m\n",
            "    │   │   ├── \u001b[00mortho_context.tab\u001b[0m\n",
            "    │   │   └── \u001b[00msent_starters.txt\u001b[0m\n",
            "    │   ├── \u001b[01;34mportuguese\u001b[0m\n",
            "    │   │   ├── \u001b[00mabbrev_types.txt\u001b[0m\n",
            "    │   │   ├── \u001b[00mcollocations.tab\u001b[0m\n",
            "    │   │   ├── \u001b[00mortho_context.tab\u001b[0m\n",
            "    │   │   └── \u001b[00msent_starters.txt\u001b[0m\n",
            "    │   ├── \u001b[00mREADME\u001b[0m\n",
            "    │   ├── \u001b[01;34mrussian\u001b[0m\n",
            "    │   │   ├── \u001b[00mabbrev_types.txt\u001b[0m\n",
            "    │   │   ├── \u001b[00mcollocations.tab\u001b[0m\n",
            "    │   │   ├── \u001b[00mortho_context.tab\u001b[0m\n",
            "    │   │   └── \u001b[00msent_starters.txt\u001b[0m\n",
            "    │   ├── \u001b[01;34mslovene\u001b[0m\n",
            "    │   │   ├── \u001b[00mabbrev_types.txt\u001b[0m\n",
            "    │   │   ├── \u001b[00mcollocations.tab\u001b[0m\n",
            "    │   │   ├── \u001b[00mortho_context.tab\u001b[0m\n",
            "    │   │   └── \u001b[00msent_starters.txt\u001b[0m\n",
            "    │   ├── \u001b[01;34mspanish\u001b[0m\n",
            "    │   │   ├── \u001b[00mabbrev_types.txt\u001b[0m\n",
            "    │   │   ├── \u001b[00mcollocations.tab\u001b[0m\n",
            "    │   │   ├── \u001b[00mortho_context.tab\u001b[0m\n",
            "    │   │   └── \u001b[00msent_starters.txt\u001b[0m\n",
            "    │   ├── \u001b[01;34mswedish\u001b[0m\n",
            "    │   │   ├── \u001b[00mabbrev_types.txt\u001b[0m\n",
            "    │   │   ├── \u001b[00mcollocations.tab\u001b[0m\n",
            "    │   │   ├── \u001b[00mortho_context.tab\u001b[0m\n",
            "    │   │   └── \u001b[00msent_starters.txt\u001b[0m\n",
            "    │   └── \u001b[01;34mturkish\u001b[0m\n",
            "    │       ├── \u001b[00mabbrev_types.txt\u001b[0m\n",
            "    │       ├── \u001b[00mcollocations.tab\u001b[0m\n",
            "    │       ├── \u001b[00mortho_context.tab\u001b[0m\n",
            "    │       └── \u001b[00msent_starters.txt\u001b[0m\n",
            "    ├── \u001b[01;31mpunkt_tab.zip\u001b[0m\n",
            "    └── \u001b[01;31mpunkt.zip\u001b[0m\n",
            "\n",
            "25 directories, 140 files\n"
          ]
        }
      ]
    },
    {
      "cell_type": "code",
      "execution_count": 11,
      "metadata": {
        "colab": {
          "base_uri": "https://localhost:8080/"
        },
        "id": "N_XZpN-cr6Ve",
        "outputId": "2c48c1bf-05fa-4b03-d820-96dfe85070b0"
      },
      "outputs": [
        {
          "output_type": "stream",
          "name": "stderr",
          "text": [
            "[nltk_data] Downloading package gutenberg to /root/nltk_data...\n",
            "[nltk_data]   Package gutenberg is already up-to-date!\n",
            "[nltk_data] Downloading package punkt to /root/nltk_data...\n",
            "[nltk_data]   Package punkt is already up-to-date!\n"
          ]
        },
        {
          "output_type": "execute_result",
          "data": {
            "text/plain": [
              "['[ The Tragedie of Macbeth by William Shakespeare 1603 ]',\n",
              " 'Actus Primus .',\n",
              " 'Scoena Prima .',\n",
              " 'Thunder and Lightning .',\n",
              " 'Enter three Witches .',\n",
              " '1 .',\n",
              " 'When shall we three meet againe ?',\n",
              " 'In Thunder , Lightning , or in Raine ?',\n",
              " '2 .',\n",
              " \"When the Hurley - burley ' s done , When the Battaile ' s lost , and wonne\",\n",
              " '3 .',\n",
              " 'That will be ere the set of Sunne',\n",
              " '1 .',\n",
              " 'Where the place ?',\n",
              " '2 .',\n",
              " 'Vpon the Heath',\n",
              " '3 .',\n",
              " 'There to meet with Macbeth',\n",
              " '1 .',\n",
              " 'I come , Gray - Malkin',\n",
              " 'All .',\n",
              " 'Padock calls anon : faire is foule , and foule is faire , Houer through the fogge and filthie ayre .',\n",
              " 'Exeunt .',\n",
              " 'Scena Secunda .',\n",
              " 'Alarum within .',\n",
              " 'Enter King Malcome , Donalbaine , Lenox , with attendants , meeting a bleeding Captaine .',\n",
              " 'King .',\n",
              " 'What bloody man is that ?',\n",
              " 'he can report , As seemeth by his plight , of the Reuolt The newest state',\n",
              " 'Mal .',\n",
              " \"This is the Serieant , Who like a good and hardie Souldier fought ' Gainst my Captiuitie : Haile braue friend ; Say to the King , the knowledge of the Broyle , As thou didst leaue it\",\n",
              " 'Cap .',\n",
              " \"Doubtfull it stood , As two spent Swimmers , that doe cling together , And choake their Art : The mercilesse Macdonwald ( Worthie to be a Rebell , for to that The multiplying Villanies of Nature Doe swarme vpon him ) from the Westerne Isles Of Kernes and Gallowgrosses is supply ' d , And Fortune on his damned Quarry smiling , Shew ' d like a Rebells Whore : but all ' s too weake : For braue Macbeth ( well hee deserues that Name ) Disdayning Fortune , with his brandisht Steele , Which smoak ' d with bloody execution ( Like Valours Minion ) caru ' d out his passage , Till hee fac ' d the Slaue : Which neu ' r shooke hands , nor bad farwell to him , Till he vnseam ' d him from the Naue toth ' Chops , And fix ' d his Head vpon our Battlements\",\n",
              " 'King .',\n",
              " 'O valiant Cousin , worthy Gentleman',\n",
              " 'Cap .',\n",
              " \"As whence the Sunne ' gins his reflection , Shipwracking Stormes , and direfull Thunders : So from that Spring , whence comfort seem ' d to come , Discomfort swells : Marke King of Scotland , marke , No sooner Iustice had , with Valour arm ' d , Compell ' d these skipping Kernes to trust their heeles , But the Norweyan Lord , surueying vantage , With furbusht Armes , and new supplyes of men , Began a fresh assault\",\n",
              " 'King .',\n",
              " \"Dismay ' d not this our Captaines , Macbeth and Banquoh ?\",\n",
              " 'Cap .',\n",
              " \"Yes , as Sparrowes , Eagles ; Or the Hare , the Lyon : If I say sooth , I must report they were As Cannons ouer - charg ' d with double Cracks , So they doubly redoubled stroakes vpon the Foe : Except they meant to bathe in reeking Wounds , Or memorize another Golgotha , I cannot tell : but I am faint , My Gashes cry for helpe\",\n",
              " 'King .',\n",
              " 'So well thy words become thee , as thy wounds , They smack of Honor both : Goe get him Surgeons .',\n",
              " 'Enter Rosse and Angus .',\n",
              " 'Who comes here ?',\n",
              " 'Mal .',\n",
              " 'The worthy Thane of Rosse',\n",
              " 'Lenox .',\n",
              " 'What a haste lookes through his eyes ?',\n",
              " 'So should he looke , that seemes to speake things strange',\n",
              " 'Rosse .',\n",
              " 'God saue the King',\n",
              " 'King .',\n",
              " \"Whence cam ' st thou , worthy Thane ?\",\n",
              " 'Rosse .',\n",
              " 'From Fiffe , great King , Where the Norweyan Banners flowt the Skie , And fanne our people cold .',\n",
              " \"Norway himselfe , with terrible numbers , Assisted by that most disloyall Traytor , The Thane of Cawdor , began a dismall Conflict , Till that Bellona ' s Bridegroome , lapt in proofe , Confronted him with selfe - comparisons , Point against Point , rebellious Arme ' gainst Arme , Curbing his lauish spirit : and to conclude , The Victorie fell on vs\",\n",
              " 'King .',\n",
              " 'Great happinesse',\n",
              " 'Rosse .',\n",
              " 'That now Sweno , the Norwayes King , Craues composition : Nor would we deigne him buriall of his men , Till he disbursed , at Saint Colmes ynch , Ten thousand Dollars , to our generall vse',\n",
              " 'King .',\n",
              " 'No more that Thane of Cawdor shall deceiue Our Bosome interest : Goe pronounce his present death , And with his former Title greet Macbeth',\n",
              " 'Rosse .',\n",
              " 'Ile see it done',\n",
              " 'King .',\n",
              " 'What he hath lost , Noble Macbeth hath wonne .',\n",
              " 'Exeunt .',\n",
              " 'Scena Tertia .',\n",
              " 'Thunder .',\n",
              " 'Enter the three Witches .',\n",
              " '1 .',\n",
              " 'Where hast thou beene , Sister ?',\n",
              " '2 .',\n",
              " 'Killing Swine',\n",
              " '3 .',\n",
              " 'Sister , where thou ?',\n",
              " '1 .',\n",
              " 'A Saylors Wife had Chestnuts in her Lappe , And mouncht , & mouncht , and mouncht : Giue me , quoth I . Aroynt thee , Witch , the rumpe - fed Ronyon cryes .',\n",
              " \"Her Husband ' s to Aleppo gone , Master o ' th ' Tiger : But in a Syue Ile thither sayle , And like a Rat without a tayle , Ile doe , Ile doe , and Ile doe\",\n",
              " '2 .',\n",
              " 'Ile giue thee a Winde',\n",
              " '1 .',\n",
              " \"Th ' art kinde\",\n",
              " '3 .',\n",
              " 'And I another',\n",
              " '1 .',\n",
              " \"I my selfe haue all the other , And the very Ports they blow , All the Quarters that they know , I ' th ' Ship - mans Card .\",\n",
              " \"Ile dreyne him drie as Hay : Sleepe shall neyther Night nor Day Hang vpon his Pent - house Lid : He shall liue a man forbid : Wearie Seu ' nights , nine times nine , Shall he dwindle , peake , and pine : Though his Barke cannot be lost , Yet it shall be Tempest - tost .\",\n",
              " 'Looke what I haue',\n",
              " '2 .',\n",
              " 'Shew me , shew me',\n",
              " '1 .',\n",
              " 'Here I haue a Pilots Thumbe , Wrackt , as homeward he did come .',\n",
              " 'Drum within .',\n",
              " '3 .',\n",
              " 'A Drumme , a Drumme : Macbeth doth come',\n",
              " 'All .',\n",
              " 'The weyward Sisters , hand in hand , Posters of the Sea and Land , Thus doe goe , about , about , Thrice to thine , and thrice to mine , And thrice againe , to make vp nine .',\n",
              " \"Peace , the Charme ' s wound vp .\",\n",
              " 'Enter Macbeth and Banquo .',\n",
              " 'Macb .',\n",
              " 'So foule and faire a day I haue not seene',\n",
              " 'Banquo .',\n",
              " \"How farre is ' t call ' d to Soris ?\",\n",
              " \"What are these , So wither ' d , and so wilde in their attyre , That looke not like th ' Inhabitants o ' th ' Earth , And yet are on ' t ?\",\n",
              " 'Liue you , or are you aught That man may question ?',\n",
              " 'you seeme to vnderstand me , By each at once her choppie finger laying Vpon her skinnie Lips : you should be Women , And yet your Beards forbid me to interprete That you are so',\n",
              " 'Mac .',\n",
              " 'Speake if you can : what are you ?',\n",
              " '1 .',\n",
              " 'All haile Macbeth , haile to thee Thane of Glamis',\n",
              " '2 .',\n",
              " 'All haile Macbeth , haile to thee Thane of Cawdor',\n",
              " '3 .',\n",
              " 'All haile Macbeth , that shalt be King hereafter',\n",
              " 'Banq .',\n",
              " 'Good Sir , why doe you start , and seeme to feare Things that doe sound so faire ?',\n",
              " \"i ' th ' name of truth Are ye fantasticall , or that indeed Which outwardly ye shew ?\",\n",
              " 'My Noble Partner You greet with present Grace , and great prediction Of Noble hauing , and of Royall hope , That he seemes wrapt withall : to me you speake not .',\n",
              " 'If you can looke into the Seedes of Time , And say , which Graine will grow , and which will not , Speake then to me , who neyther begge , nor feare Your fauors , nor your hate',\n",
              " '1 .',\n",
              " 'Hayle',\n",
              " '2 .',\n",
              " 'Hayle',\n",
              " '3 .',\n",
              " 'Hayle',\n",
              " '1 .',\n",
              " 'Lesser than Macbeth , and greater',\n",
              " '2 .',\n",
              " 'Not so happy , yet much happyer',\n",
              " '3 .',\n",
              " 'Thou shalt get Kings , though thou be none : So all haile Macbeth , and Banquo',\n",
              " '1 .',\n",
              " 'Banquo , and Macbeth , all haile',\n",
              " 'Macb .',\n",
              " 'Stay you imperfect Speakers , tell me more : By Sinells death , I know I am Thane of Glamis , But how , of Cawdor ?',\n",
              " 'the Thane of Cawdor liues A prosperous Gentleman : And to be King , Stands not within the prospect of beleefe , No more then to be Cawdor .',\n",
              " 'Say from whence You owe this strange Intelligence , or why Vpon this blasted Heath you stop our way With such Prophetique greeting ?',\n",
              " 'Speake , I charge you .',\n",
              " 'Witches vanish .',\n",
              " 'Banq .',\n",
              " \"The Earth hath bubbles , as the Water ha ' s , And these are of them : whither are they vanish ' d ?\",\n",
              " 'Macb .',\n",
              " \"Into the Ayre : and what seem ' d corporall , Melted , as breath into the Winde .\",\n",
              " \"Would they had stay ' d\",\n",
              " 'Banq .',\n",
              " 'Were such things here , as we doe speake about ?',\n",
              " 'Or haue we eaten on the insane Root , That takes the Reason Prisoner ?',\n",
              " 'Macb .',\n",
              " 'Your Children shall be Kings',\n",
              " 'Banq .',\n",
              " 'You shall be King',\n",
              " 'Macb .',\n",
              " 'And Thane of Cawdor too : went it not so ?',\n",
              " 'Banq .',\n",
              " \"Toth ' selfe - same tune and words : who ' s here ?\",\n",
              " 'Enter Rosse and Angus .',\n",
              " 'Rosse .',\n",
              " \"The King hath happily receiu ' d , Macbeth , The newes of thy successe : and when he reades Thy personall Venture in the Rebels sight , His Wonders and his Prayses doe contend , Which should be thine , or his : silenc ' d with that , In viewing o ' re the rest o ' th ' selfe - same day , He findes thee in the stout Norweyan Rankes , Nothing afeard of what thy selfe didst make Strange Images of death , as thick as Tale Can post with post , and euery one did beare Thy prayses in his Kingdomes great defence , And powr ' d them downe before him\",\n",
              " 'Ang .',\n",
              " 'Wee are sent , To giue thee from our Royall Master thanks , Onely to harrold thee into his sight , Not pay thee',\n",
              " 'Rosse .',\n",
              " 'And for an earnest of a greater Honor , He bad me , from him , call thee Thane of Cawdor : In which addition , haile most worthy Thane , For it is thine',\n",
              " 'Banq .',\n",
              " 'What , can the Deuill speake true ?',\n",
              " 'Macb .',\n",
              " 'The Thane of Cawdor liues : Why doe you dresse me in borrowed Robes ?',\n",
              " 'Ang .',\n",
              " 'Who was the Thane , liues yet , But vnder heauie Iudgement beares that Life , Which he deserues to loose .',\n",
              " \"Whether he was combin ' d with those of Norway , Or did lyne the Rebell with hidden helpe , And vantage ; or that with both he labour ' d In his Countreyes wracke , I know not : But Treasons Capitall , confess ' d , and prou ' d , Haue ouerthrowne him\",\n",
              " 'Macb .',\n",
              " 'Glamys , and Thane of Cawdor : The greatest is behinde .',\n",
              " 'Thankes for your paines .',\n",
              " \"Doe you not hope your Children shall be Kings , When those that gaue the Thane of Cawdor to me , Promis ' d no lesse to them\",\n",
              " 'Banq .',\n",
              " 'That trusted home , Might yet enkindle you vnto the Crowne , Besides the Thane of Cawdor .',\n",
              " \"But ' tis strange : And oftentimes , to winne vs to our harme , The Instruments of Darknesse tell vs Truths , Winne vs with honest Trifles , to betray ' s In deepest consequence .\",\n",
              " 'Cousins , a word , I pray you',\n",
              " 'Macb .',\n",
              " 'Two Truths are told , As happy Prologues to the swelling Act Of the Imperiall Theame .',\n",
              " 'I thanke you Gentlemen : This supernaturall solliciting Cannot be ill ; cannot be good .',\n",
              " 'If ill ?',\n",
              " 'why hath it giuen me earnest of successe , Commencing in a Truth ?',\n",
              " 'I am Thane of Cawdor .',\n",
              " 'If good ?',\n",
              " 'why doe I yeeld to that suggestion , Whose horrid Image doth vnfixe my Heire , And make my seated Heart knock at my Ribbes , Against the vse of Nature ?',\n",
              " \"Present Feares Are lesse then horrible Imaginings : My Thought , whose Murther yet is but fantasticall , Shakes so my single state of Man , That Function is smother ' d in surmise , And nothing is , but what is not\",\n",
              " 'Banq .',\n",
              " \"Looke how our Partner ' s rapt\",\n",
              " 'Macb .',\n",
              " 'If Chance will haue me King , Why Chance may Crowne me , Without my stirre',\n",
              " 'Banq .',\n",
              " 'New Honors come vpon him Like our strange Garments , cleaue not to their mould , But with the aid of vse',\n",
              " 'Macb .',\n",
              " 'Come what come may , Time , and the Houre , runs through the roughest Day',\n",
              " 'Banq .',\n",
              " 'Worthy Macbeth , wee stay vpon your leysure',\n",
              " 'Macb .',\n",
              " 'Giue me your fauour : My dull Braine was wrought with things forgotten .',\n",
              " 'Kinde Gentlemen , your paines are registred , Where euery day I turne the Leafe , To reade them .',\n",
              " \"Let vs toward the King : thinke vpon What hath chanc ' d : and at more time , The Interim hauing weigh ' d it , let vs speake Our free Hearts each to other\",\n",
              " 'Banq .',\n",
              " 'Very gladly',\n",
              " 'Macb .',\n",
              " 'Till then enough : Come friends .',\n",
              " 'Exeunt .',\n",
              " 'Scena Quarta .',\n",
              " 'Flourish .',\n",
              " 'Enter King , Lenox , Malcolme , Donalbaine , and Attendants .',\n",
              " 'King .',\n",
              " 'Is execution done on Cawdor ?',\n",
              " \"Or not those in Commission yet return ' d ?\",\n",
              " 'Mal .',\n",
              " 'My Liege , they are not yet come back .',\n",
              " \"But I haue spoke with one that saw him die : Who did report , that very frankly hee Confess ' d his Treasons , implor ' d your Highnesse Pardon , And set forth a deepe Repentance : Nothing in his Life became him , Like the leauing it .\",\n",
              " \"Hee dy ' de , As one that had beene studied in his death , To throw away the dearest thing he ow ' d , As ' twere a carelesse Trifle\",\n",
              " 'King .',\n",
              " \"There ' s no Art , To finde the Mindes construction in the Face .\",\n",
              " 'He was a Gentleman , on whom I built An absolute Trust .',\n",
              " 'Enter Macbeth , Banquo , Rosse , and Angus .',\n",
              " 'O worthyest Cousin , The sinne of my Ingratitude euen now Was heauie on me .',\n",
              " 'Thou art so farre before , That swiftest Wing of Recompence is slow , To ouertake thee .',\n",
              " \"Would thou hadst lesse deseru ' d , That the proportion both of thanks , and payment , Might haue beene mine : onely I haue left to say , More is thy due , then more then all can pay\",\n",
              " 'Macb .',\n",
              " 'The seruice , and the loyaltie I owe , In doing it , payes it selfe .',\n",
              " 'Your Highnesse part , is to receiue our Duties : And our Duties are to your Throne , and State , Children , and Seruants ; which doe but what they should , By doing euery thing safe toward your Loue And Honor',\n",
              " 'King .',\n",
              " 'Welcome hither : I haue begun to plant thee , and will labour To make thee full of growing .',\n",
              " \"Noble Banquo , That hast no lesse deseru ' d , nor must be knowne No lesse to haue done so : Let me enfold thee , And hold thee to my Heart\",\n",
              " 'Banq .',\n",
              " 'There if I grow , The Haruest is your owne',\n",
              " 'King .',\n",
              " 'My plenteous Ioyes , Wanton in fulnesse , seeke to hide themselues In drops of sorrow .',\n",
              " 'Sonnes , Kinsmen , Thanes , And you whose places are the nearest , know , We will establish our Estate vpon Our eldest , Malcolme , whom we name hereafter , The Prince of Cumberland : which Honor must Not vnaccompanied , inuest him onely , But signes of Noblenesse , like Starres , shall shine On all deseruers .',\n",
              " 'From hence to Envernes , And binde vs further to you',\n",
              " 'Macb .',\n",
              " \"The Rest is Labor , which is not vs ' d for you : Ile be my selfe the Herbenger , and make ioyfull The hearing of my Wife , with your approach : So humbly take my leaue\",\n",
              " 'King .',\n",
              " 'My worthy Cawdor',\n",
              " 'Macb .',\n",
              " \"The Prince of Cumberland : that is a step , On which I must fall downe , or else o ' re - leape , For in my way it lyes .\",\n",
              " 'Starres hide your fires , Let not Light see my black and deepe desires : The Eye winke at the Hand : yet let that bee , Which the Eye feares , when it is done to see .',\n",
              " 'Enter .',\n",
              " 'King .',\n",
              " 'True worthy Banquo : he is full so valiant , And in his commendations , I am fed : It is a Banquet to me .',\n",
              " \"Let ' s after him , Whose care is gone before , to bid vs welcome : It is a peerelesse Kinsman .\",\n",
              " 'Flourish .',\n",
              " 'Exeunt .',\n",
              " 'Scena Quinta .',\n",
              " 'Enter Macbeths Wife alone with a Letter .',\n",
              " 'Lady .',\n",
              " \"They met me in the day of successe : and I haue learn ' d by the perfect ' st report , they haue more in them , then mortall knowledge .\",\n",
              " \"When I burnt in desire to question them further , they made themselues Ayre , into which they vanish ' d .\",\n",
              " \"Whiles I stood rapt in the wonder of it , came Missiues from the King , who all - hail ' d me Thane of Cawdor , by which Title before , these weyward Sisters saluted me , and referr ' d me to the comming on of time , with haile King that shalt be .\",\n",
              " \"This haue I thought good to deliuer thee ( my dearest Partner of Greatnesse ) that thou might ' st not loose the dues of reioycing by being ignorant of what Greatnesse is promis ' d thee .\",\n",
              " 'Lay it to thy heart and farewell .',\n",
              " \"Glamys thou art , and Cawdor , and shalt be What thou art promis ' d : yet doe I feare thy Nature , It is too full o ' th ' Milke of humane kindnesse , To catch the neerest way .\",\n",
              " \"Thou would ' st be great , Art not without Ambition , but without The illnesse should attend it .\",\n",
              " \"What thou would ' st highly , That would ' st thou holily : would ' st not play false , And yet would ' st wrongly winne .\",\n",
              " \"Thould ' st haue , great Glamys , that which cryes , Thus thou must doe , if thou haue it ; And that which rather thou do ' st feare to doe , Then wishest should be vndone .\",\n",
              " \"High thee hither , That I may powre my Spirits in thine Eare , And chastise with the valour of my Tongue All that impeides thee from the Golden Round , Which Fate and Metaphysicall ayde doth seeme To haue thee crown ' d withall .\",\n",
              " 'Enter Messenger .',\n",
              " 'What is your tidings ?',\n",
              " 'Mess .',\n",
              " 'The King comes here to Night',\n",
              " 'Lady .',\n",
              " \"Thou ' rt mad to say it .\",\n",
              " 'Is not thy Master with him ?',\n",
              " \"who , wer ' t so , Would haue inform ' d for preparation\",\n",
              " 'Mess .',\n",
              " 'So please you , it is true : our Thane is comming : One of my fellowes had the speed of him ; Who almost dead for breath , had scarcely more Then would make vp his Message',\n",
              " 'Lady .',\n",
              " 'Giue him tending , He brings great newes ,',\n",
              " 'Exit Messenger .',\n",
              " 'The Rauen himselfe is hoarse , That croakes the fatall entrance of Duncan Vnder my Battlements .',\n",
              " \"Come you Spirits , That tend on mortall thoughts , vnsex me here , And fill me from the Crowne to the Toe , top - full Of direst Crueltie : make thick my blood , Stop vp th ' accesse , and passage to Remorse , That no compunctious visitings of Nature Shake my fell purpose , nor keepe peace betweene Th ' effect , and hit .\",\n",
              " \"Come to my Womans Brests , And take my Milke for Gall , you murth ' ring Ministers , Where - euer , in your sightlesse substances , You wait on Natures Mischiefe .\",\n",
              " 'Come thick Night , And pall thee in the dunnest smoake of Hell ,',\n",
              " 'That my keene Knife see not the Wound it makes , Nor Heauen peepe through the Blanket of the darke , To cry , hold , hold .',\n",
              " 'Enter Macbeth .',\n",
              " 'Great Glamys , worthy Cawdor , Greater then both , by the all - haile hereafter , Thy Letters haue transported me beyond This ignorant present , and I feele now The future in the instant',\n",
              " 'Macb .',\n",
              " 'My dearest Loue , Duncan comes here to Night',\n",
              " 'Lady .',\n",
              " 'And when goes hence ?',\n",
              " 'Macb .',\n",
              " 'To morrow , as he purposes',\n",
              " 'Lady .',\n",
              " 'O neuer , Shall Sunne that Morrow see .',\n",
              " 'Your Face , my Thane , is as a Booke , where men May reade strange matters , to beguile the time .',\n",
              " \"Looke like the time , beare welcome in your Eye , Your Hand , your Tongue : looke like th ' innocent flower , But be the Serpent vnder ' t .\",\n",
              " \"He that ' s comming , Must be prouided for : and you shall put This Nights great Businesse into my dispatch , Which shall to all our Nights , and Dayes to come , Giue solely soueraigne sway , and Masterdome\",\n",
              " 'Macb .',\n",
              " 'We will speake further , Lady .',\n",
              " 'Onely looke vp cleare : To alter fauor , euer is to feare : Leaue all the rest to me .',\n",
              " 'Exeunt .',\n",
              " 'Scena Sexta .',\n",
              " 'Hoboyes , and Torches .',\n",
              " 'Enter King , Malcolme , Donalbaine , Banquo , Lenox , Macduff , Rosse , Angus , and Attendants .',\n",
              " 'King .',\n",
              " 'This Castle hath a pleasant seat , The ayre nimbly and sweetly recommends it selfe Vnto our gentle sences',\n",
              " 'Banq .',\n",
              " \"This Guest of Summer , The Temple - haunting Barlet does approue , By his loued Mansonry , that the Heauens breath Smells wooingly here : no Iutty frieze , Buttrice , nor Coigne of Vantage , but this Bird Hath made his pendant Bed , and procreant Cradle , Where they must breed , and haunt : I haue obseru ' d The ayre is delicate .\",\n",
              " 'Enter Lady .',\n",
              " 'King .',\n",
              " \"See , see our honor ' d Hostesse : The Loue that followes vs , sometime is our trouble , Which still we thanke as Loue .\",\n",
              " 'Herein I teach you , How you shall bid God - eyld vs for your paines , And thanke vs for your trouble',\n",
              " 'Lady .',\n",
              " \"All our seruice , In euery point twice done , and then done double , Were poore , and single Businesse , to contend Against those Honors deepe , and broad , Wherewith your Maiestie loades our House : For those of old , and the late Dignities , Heap ' d vp to them , we rest your Ermites\",\n",
              " 'King .',\n",
              " \"Where ' s the Thane of Cawdor ?\",\n",
              " 'We courst him at the heeles , and had a purpose To be his Purueyor : But he rides well , And his great Loue ( sharpe as his Spurre ) hath holp him To his home before vs : Faire and Noble Hostesse We are your guest to night',\n",
              " 'La .',\n",
              " 'Your Seruants euer , Haue theirs , themselues , and what is theirs in compt , To make their Audit at your Highnesse pleasure , Still to returne your owne',\n",
              " 'King .',\n",
              " 'Giue me your hand : Conduct me to mine Host we loue him highly , And shall continue , our Graces towards him .',\n",
              " 'By your leaue Hostesse .',\n",
              " 'Exeunt .',\n",
              " 'Scena Septima .',\n",
              " 'Hoboyes .',\n",
              " 'Torches .',\n",
              " 'Enter a Sewer , and diuers Seruants with Dishes and Seruice ouer the Stage .',\n",
              " 'Then enter Macbeth',\n",
              " 'Macb .',\n",
              " \"If it were done , when ' tis done , then ' twer well , It were done quickly : If th ' Assassination Could trammell vp the Consequence , and catch With his surcease , Successe : that but this blow Might be the be all , and the end all .\",\n",
              " \"Heere , But heere , vpon this Banke and Schoole of time , Wee ' ld iumpe the life to come .\",\n",
              " \"But in these Cases , We still haue iudgement heere , that we but teach Bloody Instructions , which being taught , returne To plague th ' Inuenter , this euen - handed Iustice Commends th ' Ingredience of our poyson ' d Challice To our owne lips .\",\n",
              " \"Hee ' s heere in double trust ; First , as I am his Kinsman , and his Subiect , Strong both against the Deed : Then , as his Host , Who should against his Murtherer shut the doore , Not beare the knife my selfe .\",\n",
              " \"Besides , this Duncane Hath borne his Faculties so meeke ; hath bin So cleere in his great Office , that his Vertues Will pleade like Angels , Trumpet - tongu ' d against The deepe damnation of his taking off : And Pitty , like a naked New - borne - Babe , Striding the blast , or Heauens Cherubin , hors ' d Vpon the sightlesse Curriors of the Ayre , Shall blow the horrid deed in euery eye , That teares shall drowne the winde .\",\n",
              " \"I haue no Spurre To pricke the sides of my intent , but onely Vaulting Ambition , which ore - leapes it selfe , And falles on th ' other .\",\n",
              " 'Enter Lady .',\n",
              " 'How now ?',\n",
              " 'What Newes ?',\n",
              " 'La .',\n",
              " 'He has almost supt : why haue you left the chamber ?',\n",
              " 'Mac .',\n",
              " \"Hath he ask ' d for me ?\",\n",
              " 'La .',\n",
              " \"Know you not , he ha ' s ?\",\n",
              " 'Mac .',\n",
              " \"We will proceed no further in this Businesse : He hath Honour ' d me of late , and I haue bought Golden Opinions from all sorts of people , Which would be worne now in their newest glosse , Not cast aside so soone\",\n",
              " 'La .',\n",
              " 'Was the hope drunke , Wherein you drest your selfe ?',\n",
              " 'Hath it slept since ?',\n",
              " 'And wakes it now to looke so greene , and pale , At what it did so freely ?',\n",
              " 'From this time , Such I account thy loue .',\n",
              " \"Art thou affear ' d To be the same in thine owne Act , and Valour , As thou art in desire ?\",\n",
              " \"Would ' st thou haue that Which thou esteem ' st the Ornament of Life , And liue a Coward in thine owne Esteeme ?\",\n",
              " \"Letting I dare not , wait vpon I would , Like the poore Cat i ' th ' Addage\",\n",
              " 'Macb .',\n",
              " 'Prythee peace : I dare do all that may become a man , Who dares do more , is none',\n",
              " 'La .',\n",
              " \"What Beast was ' t then That made you breake this enterprize to me ?\",\n",
              " 'When you durst do it , then you were a man : And to be more then what you were , you would Be so much more the man .',\n",
              " \"Nor time , nor place Did then adhere , and yet you would make both : They haue made themselues , and that their fitnesse now Do ' s vnmake you .\",\n",
              " \"I haue giuen Sucke , and know How tender ' tis to loue the Babe that milkes me , I would , while it was smyling in my Face , Haue pluckt my Nipple from his Bonelesse Gummes , And dasht the Braines out , had I so sworne As you haue done to this\",\n",
              " 'Macb .',\n",
              " 'If we should faile ?',\n",
              " 'Lady .',\n",
              " 'We faile ?',\n",
              " \"But screw your courage to the sticking place , And wee ' le not fayle : when Duncan is asleepe , ( Whereto the rather shall his dayes hard Iourney Soundly inuite him ) his two Chamberlaines Will I with Wine , and Wassell , so conuince , That Memorie , the Warder of the Braine , Shall be a Fume , and the Receit of Reason A Lymbeck onely : when in Swinish sleepe , Their drenched Natures lyes as in a Death , What cannot you and I performe vpon Th ' vnguarded Duncan ?\",\n",
              " 'What not put vpon His spungie Officers ?',\n",
              " 'who shall beare the guilt Of our great quell',\n",
              " 'Macb .',\n",
              " 'Bring forth Men - Children onely : For thy vndaunted Mettle should compose Nothing but Males .',\n",
              " \"Will it not be receiu ' d , When we haue mark ' d with blood those sleepie two Of his owne Chamber , and vs ' d their very Daggers , That they haue don ' t ?\",\n",
              " 'Lady .',\n",
              " 'Who dares receiue it other , As we shall make our Griefes and Clamor rore , Vpon his Death ?',\n",
              " 'Macb .',\n",
              " 'I am settled , and bend vp Each corporall Agent to this terrible Feat .',\n",
              " 'Away , and mock the time with fairest show , False Face must hide what the false Heart doth know .',\n",
              " 'Exeunt .',\n",
              " 'Actus Secundus .',\n",
              " 'Scena Prima .',\n",
              " 'Enter Banquo , and Fleance , with a Torch before him .',\n",
              " 'Banq .',\n",
              " 'How goes the Night , Boy ?',\n",
              " 'Fleance .',\n",
              " 'The Moone is downe : I haue not heard the Clock',\n",
              " 'Banq .',\n",
              " 'And she goes downe at Twelue',\n",
              " 'Fleance .',\n",
              " \"I take ' t , ' tis later , Sir\",\n",
              " 'Banq .',\n",
              " \"Hold , take my Sword : There ' s Husbandry in Heauen , Their Candles are all out : take thee that too .\",\n",
              " 'A heauie Summons lyes like Lead vpon me , And yet I would not sleepe : Mercifull Powers , restraine in me the cursed thoughts That Nature giues way to in repose .',\n",
              " 'Enter Macbeth , and a Seruant with a Torch .',\n",
              " \"Giue me my Sword : who ' s there ?\",\n",
              " 'Macb .',\n",
              " 'A Friend',\n",
              " 'Banq .',\n",
              " 'What Sir , not yet at rest ?',\n",
              " \"the King ' s a bed .\",\n",
              " 'He hath beene in vnusuall Pleasure , And sent forth great Largesse to your Offices .',\n",
              " 'This Diamond he greetes your Wife withall , By the name of most kind Hostesse , And shut vp in measurelesse content',\n",
              " 'Mac .',\n",
              " \"Being vnprepar ' d , Our will became the seruant to defect , Which else should free haue wrought\",\n",
              " 'Banq .',\n",
              " \"All ' s well .\",\n",
              " \"I dreamt last Night of the three weyward Sisters : To you they haue shew ' d some truth\",\n",
              " 'Macb .',\n",
              " 'I thinke not of them : Yet when we can entreat an houre to serue , We would spend it in some words vpon that Businesse , If you would graunt the time',\n",
              " 'Banq .',\n",
              " \"At your kind ' st leysure\",\n",
              " 'Macb .',\n",
              " \"If you shall cleaue to my consent , When ' tis , it shall make Honor for you\",\n",
              " 'Banq .',\n",
              " \"So I lose none , In seeking to augment it , but still keepe My Bosome franchis ' d , and Allegeance cleare , I shall be counsail ' d\",\n",
              " 'Macb .',\n",
              " 'Good repose the while',\n",
              " 'Banq .',\n",
              " 'Thankes Sir : the like to you .',\n",
              " 'Exit Banquo .',\n",
              " 'Macb .',\n",
              " 'Goe bid thy Mistresse , when my drinke is ready , She strike vpon the Bell .',\n",
              " 'Get thee to bed .',\n",
              " 'Enter .',\n",
              " 'Is this a Dagger , which I see before me , The Handle toward my Hand ?',\n",
              " 'Come , let me clutch thee : I haue thee not , and yet I see thee still .',\n",
              " 'Art thou not fatall Vision , sensible To feeling , as to sight ?',\n",
              " 'or art thou but A Dagger of the Minde , a false Creation , Proceeding from the heat - oppressed Braine ?',\n",
              " 'I see thee yet , in forme as palpable , As this which now I draw .',\n",
              " \"Thou marshall ' st me the way that I was going , And such an Instrument I was to vse .\",\n",
              " \"Mine Eyes are made the fooles o ' th ' other Sences , Or else worth all the rest : I see thee still ; And on thy Blade , and Dudgeon , Gouts of Blood , Which was not so before .\",\n",
              " \"There ' s no such thing : It is the bloody Businesse , which informes Thus to mine Eyes .\",\n",
              " \"Now o ' re the one halfe World Nature seemes dead , and wicked Dreames abuse The Curtain ' d sleepe : Witchcraft celebrates Pale Heccats Offrings : and wither ' d Murther , Alarum ' d by his Centinell , the Wolfe , Whose howle ' s his Watch , thus with his stealthy pace , With Tarquins rauishing sides , towards his designe Moues like a Ghost .\",\n",
              " 'Thou sowre and firme - set Earth Heare not my steps , which they may walke , for feare Thy very stones prate of my where - about , And take the present horror from the time , Which now sutes with it .',\n",
              " 'Whiles I threat , he liues : Words to the heat of deedes too cold breath giues .',\n",
              " 'A Bell rings .',\n",
              " 'I goe , and it is done : the Bell inuites me .',\n",
              " 'Heare it not , Duncan , for it is a Knell , That summons thee to Heauen , or to Hell .',\n",
              " 'Enter .',\n",
              " 'Scena Secunda .',\n",
              " 'Enter Lady .',\n",
              " 'La .',\n",
              " \"That which hath made the [ m ] drunk , hath made me bold : What hath quench ' d them , hath giuen me fire .\",\n",
              " \"Hearke , peace : it was the Owle that shriek ' d , The fatall Bell - man , which giues the stern ' st good - night .\",\n",
              " 'He is about it , the Doores are open : And the surfeted Groomes doe mock their charge With Snores .',\n",
              " \"I haue drugg ' d their Possets , That Death and Nature doe contend about them , Whether they liue , or dye .\",\n",
              " 'Enter Macbeth .',\n",
              " 'Macb .',\n",
              " \"Who ' s there ?\",\n",
              " 'what hoa ?',\n",
              " 'Lady .',\n",
              " \"Alack , I am afraid they haue awak ' d , And ' tis not done : th ' attempt , and not the deed , Confounds vs : hearke : I lay ' d their Daggers ready , He could not misse ' em .\",\n",
              " \"Had he not resembled My Father as he slept , I had don ' t .\",\n",
              " 'My Husband ?',\n",
              " 'Macb .',\n",
              " 'I haue done the deed : Didst thou not heare a noyse ?',\n",
              " 'Lady .',\n",
              " 'I heard the Owle schreame , and the Crickets cry .',\n",
              " 'Did not you speake ?',\n",
              " 'Macb .',\n",
              " 'When ?',\n",
              " 'Lady .',\n",
              " 'Now',\n",
              " 'Macb .',\n",
              " 'As I descended ?',\n",
              " 'Lady .',\n",
              " 'I',\n",
              " 'Macb .',\n",
              " \"Hearke , who lyes i ' th ' second Chamber ?\",\n",
              " 'Lady .',\n",
              " 'Donalbaine',\n",
              " 'Mac .',\n",
              " 'This is a sorry sight',\n",
              " 'Lady .',\n",
              " 'A foolish thought , to say a sorry sight',\n",
              " 'Macb .',\n",
              " \"There ' s one did laugh in ' s sleepe , And one cry ' d Murther , that they did wake each other : I stood , and heard them : But they did say their Prayers , And addrest them againe to sleepe\",\n",
              " 'Lady .',\n",
              " \"There are two lodg ' d together\",\n",
              " 'Macb .',\n",
              " \"One cry ' d God blesse vs , and Amen the other , As they had seene me with these Hangmans hands : Listning their feare , I could not say Amen , When they did say God blesse vs\",\n",
              " 'Lady .',\n",
              " 'Consider it not so deepely',\n",
              " 'Mac .',\n",
              " 'But wherefore could not I pronounce Amen ?',\n",
              " 'I had most need of Blessing , and Amen stuck in my throat',\n",
              " 'Lady .',\n",
              " 'These deeds must not be thought After these wayes : so , it will make vs mad',\n",
              " 'Macb .',\n",
              " \"Me thought I heard a voyce cry , Sleep no more : Macbeth does murther Sleepe , the innocent Sleepe , Sleepe that knits vp the rauel ' d Sleeue of Care , The death of each dayes Life , sore Labors Bath , Balme of hurt Mindes , great Natures second Course , Chiefe nourisher in Life ' s Feast\",\n",
              " 'Lady .',\n",
              " 'What doe you meane ?',\n",
              " 'Macb .',\n",
              " \"Still it cry ' d , Sleepe no more to all the House : Glamis hath murther ' d Sleepe , and therefore Cawdor Shall sleepe no more : Macbeth shall sleepe no more\",\n",
              " 'Lady .',\n",
              " \"Who was it , that thus cry ' d ?\",\n",
              " 'why worthy Thane , You doe vnbend your Noble strength , to thinke So braine - sickly of things : Goe get some Water , And wash this filthie Witnesse from your Hand .',\n",
              " 'Why did you bring these Daggers from the place ?',\n",
              " 'They must lye there : goe carry them , and smeare The sleepie Groomes with blood',\n",
              " 'Macb .',\n",
              " \"Ile goe no more : I am afraid , to thinke what I haue done : Looke on ' t againe , I dare not\",\n",
              " 'Lady .',\n",
              " \"Infirme of purpose : Giue me the Daggers : the sleeping , and the dead , Are but as Pictures : ' tis the Eye of Childhood , That feares a painted Deuill .\",\n",
              " 'If he doe bleed , Ile guild the Faces of the Groomes withall , For it must seeme their Guilt .',\n",
              " 'Enter .',\n",
              " 'Knocke within .',\n",
              " 'Macb .',\n",
              " 'Whence is that knocking ?',\n",
              " \"How is ' t with me , when euery noyse appalls me ?\",\n",
              " 'What Hands are here ?',\n",
              " 'hah : they pluck out mine Eyes .',\n",
              " 'Will all great Neptunes Ocean wash this blood Cleane from my Hand ?',\n",
              " 'no : this my Hand will rather The multitudinous Seas incarnardine , Making the Greene one , Red .',\n",
              " 'Enter Lady .',\n",
              " 'Lady .',\n",
              " 'My Hands are of your colour : but I shame To weare a Heart so white .',\n",
              " 'Knocke .',\n",
              " 'I heare a knocking at the South entry : Retyre we to our Chamber : A little Water cleares vs of this deed .',\n",
              " 'How easie is it then ?',\n",
              " 'your Constancie Hath left you vnattended .',\n",
              " 'Knocke .',\n",
              " 'Hearke , more knocking .',\n",
              " 'Get on your Night - Gowne , least occasion call vs , And shew vs to be Watchers : be not lost So poorely in your thoughts',\n",
              " 'Macb .',\n",
              " 'To know my deed ,',\n",
              " 'Knocke .',\n",
              " \"' Twere best not know my selfe .\",\n",
              " \"Wake Duncan with thy knocking : I would thou could ' st .\",\n",
              " 'Exeunt .',\n",
              " 'Scena Tertia .',\n",
              " 'Enter a Porter .',\n",
              " 'Knocking within .',\n",
              " 'Porter .',\n",
              " \"Here ' s a knocking indeede : if a man were Porter of Hell Gate , hee should haue old turning the Key .\",\n",
              " 'Knock .',\n",
              " 'Knock , Knock , Knock .',\n",
              " \"Who ' s there i ' th ' name of Belzebub ?\",\n",
              " \"Here ' s a Farmer , that hang ' d himselfe on th ' expectation of Plentie : Come in time , haue Napkins enow about you , here you ' le sweat for ' t .\",\n",
              " 'Knock .',\n",
              " 'Knock , knock .',\n",
              " \"Who ' s there in th ' other Deuils Name ?\",\n",
              " \"Faith here ' s an Equiuocator , that could sweare in both the Scales against eyther Scale , who committed Treason enough for Gods sake , yet could not equiuocate to Heauen : oh come in , Equiuocator .\",\n",
              " 'Knock .',\n",
              " 'Knock , Knock , Knock .',\n",
              " \"Who ' s there ?\",\n",
              " \"' Faith here ' s an English Taylor come hither , for stealing out of a French Hose : Come in Taylor , here you may rost your Goose .\",\n",
              " 'Knock .',\n",
              " 'Knock , Knock .',\n",
              " 'Neuer at quiet : What are you ?',\n",
              " 'but this place is too cold for Hell .',\n",
              " \"Ile Deuill - Porter it no further : I had thought to haue let in some of all Professions , that goe the Primrose way to th ' euerlasting Bonfire .\",\n",
              " 'Knock .',\n",
              " 'Anon , anon , I pray you remember the Porter .',\n",
              " 'Enter Macduff , and Lenox .',\n",
              " 'Macd .',\n",
              " 'Was it so late , friend , ere you went to Bed , That you doe lye so late ?',\n",
              " 'Port .',\n",
              " 'Faith Sir , we were carowsing till the second Cock : And Drinke , Sir , is a great prouoker of three things',\n",
              " 'Macd .',\n",
              " 'What three things does Drinke especially prouoke ?',\n",
              " 'Port .',\n",
              " 'Marry , Sir , Nose - painting , Sleepe , and Vrine .',\n",
              " 'Lecherie , Sir , it prouokes , and vnprouokes : it prouokes the desire , but it takes away the performance .',\n",
              " 'Therefore much Drinke may be said to be an Equiuocator with Lecherie : it makes him , and it marres him ; it sets him on , and it takes him off ; it perswades him , and dis - heartens him ; makes him stand too , and not stand too : in conclusion , equiuocates him in a sleepe , and giuing him the Lye , leaues him',\n",
              " 'Macd .',\n",
              " 'I beleeue , Drinke gaue thee the Lye last Night',\n",
              " 'Port .',\n",
              " \"That it did , Sir , i ' the very Throat on me : but I requited him for his Lye , and ( I thinke ) being too strong for him , though he tooke vp my Legges sometime , yet I made a Shift to cast him .\",\n",
              " 'Enter Macbeth .',\n",
              " 'Macd .',\n",
              " 'Is thy Master stirring ?',\n",
              " \"Our knocking ha ' s awak ' d him : here he comes\",\n",
              " 'Lenox .',\n",
              " 'Good morrow , Noble Sir',\n",
              " 'Macb .',\n",
              " 'Good morrow both',\n",
              " 'Macd .',\n",
              " 'Is the King stirring , worthy Thane ?',\n",
              " 'Macb .',\n",
              " 'Not yet',\n",
              " 'Macd .',\n",
              " 'He did command me to call timely on him , I haue almost slipt the houre',\n",
              " 'Macb .',\n",
              " 'Ile bring you to him',\n",
              " 'Macd .',\n",
              " \"I know this is a ioyfull trouble to you : But yet ' tis one\",\n",
              " 'Macb .',\n",
              " 'The labour we delight in , Physicks paine : This is the Doore',\n",
              " 'Macd .',\n",
              " \"Ile make so bold to call , for ' tis my limitted seruice .\",\n",
              " 'Exit Macduffe .',\n",
              " 'Lenox .',\n",
              " 'Goes the King hence to day ?',\n",
              " 'Macb .',\n",
              " 'He does : he did appoint so',\n",
              " 'Lenox .',\n",
              " \"The Night ha ' s been vnruly : Where we lay , our Chimneys were blowne downe , And ( as they say ) lamentings heard i ' th ' Ayre ; Strange Schreemes of Death , And Prophecying , with Accents terrible , Of dyre Combustion , and confus ' d Euents , New hatch ' d toth ' wofull time .\",\n",
              " \"The obscure Bird clamor ' d the liue - long Night .\",\n",
              " 'Some say , the Earth was Feuorous , And did shake',\n",
              " 'Macb .',\n",
              " \"' Twas a rough Night\",\n",
              " 'Lenox .',\n",
              " 'My young remembrance cannot paralell A fellow to it .',\n",
              " 'Enter Macduff .',\n",
              " 'Macd .',\n",
              " 'O horror , horror , horror , Tongue nor Heart cannot conceiue , nor name thee',\n",
              " 'Macb .',\n",
              " 'and Lenox .',\n",
              " \"What ' s the matter ?\",\n",
              " 'Macd .',\n",
              " \"Confusion now hath made his Master - peece : Most sacrilegious Murther hath broke ope The Lords anoynted Temple , and stole thence The Life o ' th ' Building\",\n",
              " 'Macb .',\n",
              " \"What is ' t you say , the Life ?\",\n",
              " 'Lenox .',\n",
              " 'Meane you his Maiestie ?',\n",
              " 'Macd .',\n",
              " 'Approch the Chamber , and destroy your sight With a new Gorgon .',\n",
              " 'Doe not bid me speake : See , and then speake your selues : awake , awake ,',\n",
              " 'Exeunt .',\n",
              " 'Macbeth and Lenox .',\n",
              " 'Ring the Alarum Bell : Murther , and Treason , Banquo , and Donalbaine : Malcolme awake , Shake off this Downey sleepe , Deaths counterfeit , And looke on Death it selfe : vp , vp , and see The great Doomes Image : Malcolme , Banquo , As from your Graues rise vp , and walke like Sprights , To countenance this horror .',\n",
              " 'Ring the Bell .',\n",
              " 'Bell rings .',\n",
              " 'Enter Lady .',\n",
              " 'Lady .',\n",
              " \"What ' s the Businesse ?\",\n",
              " 'That such a hideous Trumpet calls to parley The sleepers of the House ?',\n",
              " 'speake , speake',\n",
              " 'Macd .',\n",
              " \"O gentle Lady , ' Tis not for you to heare what I can speake : The repetition in a Womans eare , Would murther as it fell .\",\n",
              " 'Enter Banquo .',\n",
              " \"O Banquo , Banquo , Our Royall Master ' s murther ' d\",\n",
              " 'Lady .',\n",
              " 'Woe , alas : What , in our House ?',\n",
              " 'Ban .',\n",
              " 'Too cruell , any where .',\n",
              " 'Deare Duff , I prythee contradict thy selfe , And say , it is not so .',\n",
              " 'Enter Macbeth , Lenox , and Rosse .',\n",
              " 'Macb .',\n",
              " \"Had I but dy ' d an houre before this chance , I had liu ' d a blessed time : for from this instant , There ' s nothing serious in Mortalitie : All is but Toyes : Renowne and Grace is dead , The Wine of Life is drawne , and the meere Lees Is left this Vault , to brag of .\",\n",
              " 'Enter Malcolme and Donalbaine .',\n",
              " 'Donal .',\n",
              " 'What is amisse ?',\n",
              " 'Macb .',\n",
              " \"You are , and doe not know ' t : The Spring , the Head , the Fountaine of your Blood Is stopt , the very Source of it is stopt\",\n",
              " 'Macd .',\n",
              " \"Your Royall Father ' s murther ' d\",\n",
              " 'Mal .',\n",
              " 'Oh , by whom ?',\n",
              " 'Lenox .',\n",
              " \"Those of his Chamber , as it seem ' d , had don ' t : Their Hands and Faces were all badg ' d with blood , So were their Daggers , which vnwip ' d , we found Vpon their Pillowes : they star ' d , and were distracted , No mans Life was to be trusted with them\",\n",
              " 'Macb .',\n",
              " 'O , yet I doe repent me of my furie , That I did kill them',\n",
              " 'Macd .',\n",
              " 'Wherefore did you so ?',\n",
              " 'Macb .',\n",
              " \"Who can be wise , amaz ' d , temp ' rate , & furious , Loyall , and Neutrall , in a moment ?\",\n",
              " \"No man : Th ' expedition of my violent Loue Out - run the pawser , Reason .\",\n",
              " \"Here lay Duncan , His Siluer skinne , lac ' d with His Golden Blood , And his gash ' d Stabs , look ' d like a Breach in Nature , For Ruines wastfull entrance : there the Murtherers , Steep ' d in the Colours of their Trade ; their Daggers Vnmannerly breech ' d with gore : who could refraine , That had a heart to loue ; and in that heart , Courage , to make ' s loue knowne ?\",\n",
              " 'Lady .',\n",
              " 'Helpe me hence , hoa',\n",
              " 'Macd .',\n",
              " 'Looke to the Lady',\n",
              " 'Mal .',\n",
              " 'Why doe we hold our tongues , That most may clayme this argument for ours ?',\n",
              " 'Donal .',\n",
              " 'What should be spoken here , Where our Fate hid in an augure hole , May rush , and seize vs ?',\n",
              " \"Let ' s away , Our Teares are not yet brew ' d\",\n",
              " 'Mal .',\n",
              " 'Nor our strong Sorrow Vpon the foot of Motion',\n",
              " 'Banq .',\n",
              " 'Looke to the Lady : And when we haue our naked Frailties hid , That suffer in exposure ; let vs meet , And question this most bloody piece of worke , To know it further .',\n",
              " \"Feares and scruples shake vs : In the great Hand of God I stand , and thence , Against the vndivulg ' d pretence , I fight Of Treasonous Mallice\",\n",
              " 'Macd .',\n",
              " 'And so doe I',\n",
              " 'All .',\n",
              " 'So all',\n",
              " 'Macb .',\n",
              " \"Let ' s briefely put on manly readinesse , And meet i ' th ' Hall together\",\n",
              " 'All .',\n",
              " 'Well contented .',\n",
              " 'Exeunt .',\n",
              " 'Malc .',\n",
              " 'What will you doe ?',\n",
              " \"Let ' s not consort with them : To shew an vnfelt Sorrow , is an Office Which the false man do ' s easie .\",\n",
              " 'Ile to England',\n",
              " 'Don .',\n",
              " \"To Ireland , I : Our seperated fortune shall keepe vs both the safer : Where we are , there ' s Daggers in mens smiles ; The neere in blood , the neerer bloody\",\n",
              " 'Malc .',\n",
              " \"This murtherous Shaft that ' s shot , Hath not yet lighted : and our safest way , Is to auoid the ayme .\",\n",
              " \"Therefore to Horse , And let vs not be daintie of leaue - taking , But shift away : there ' s warrant in that Theft , Which steales it selfe , when there ' s no mercie left .\",\n",
              " 'Exeunt .',\n",
              " 'Scena Quarta .',\n",
              " 'Enter Rosse , with an Old man .',\n",
              " 'Old man .',\n",
              " 'Threescore and ten I can remember well , Within the Volume of which Time , I haue seene Houres dreadfull , and things strange : but this sore Night Hath trifled former knowings',\n",
              " 'Rosse .',\n",
              " \"Ha , good Father , Thou seest the Heauens , as troubled with mans Act , Threatens his bloody Stage : byth ' Clock ' tis Day , And yet darke Night strangles the trauailing Lampe : Is ' t Nights predominance , or the Dayes shame , That Darknesse does the face of Earth intombe , When liuing Light should kisse it ?\",\n",
              " 'Old man .',\n",
              " \"' Tis vnnaturall , Euen like the deed that ' s done : On Tuesday last , A Faulcon towring in her pride of place , Was by a Mowsing Owle hawkt at , and kill ' d\",\n",
              " 'Rosse .',\n",
              " \"And Duncans Horses , ( A thing most strange , and certaine ) Beauteous , and swift , the Minions of their Race , Turn ' d wilde in nature , broke their stalls , flong out , Contending ' gainst Obedience , as they would Make Warre with Mankinde\",\n",
              " 'Old man .',\n",
              " \"' Tis said , they eate each other\",\n",
              " 'Rosse .',\n",
              " \"They did so : To th ' amazement of mine eyes that look ' d vpon ' t .\",\n",
              " 'Enter Macduffe .',\n",
              " 'Heere comes the good Macduffe .',\n",
              " 'How goes the world Sir , now ?',\n",
              " 'Macd .',\n",
              " 'Why see you not ?',\n",
              " 'Ross .',\n",
              " \"Is ' t known who did this more then bloody deed ?\",\n",
              " 'Macd .',\n",
              " 'Those that Macbeth hath slaine',\n",
              " 'Ross .',\n",
              " 'Alas the day , What good could they pretend ?',\n",
              " 'Macd .',\n",
              " 'They were subborned , Malcolme , and Donalbaine the Kings two Sonnes Are stolne away and fled , which puts vpon them Suspition of the deed',\n",
              " 'Rosse .',\n",
              " \"' Gainst Nature still , Thriftlesse Ambition , that will rauen vp Thine owne liues meanes : Then ' tis most like , The Soueraignty will fall vpon Macbeth\",\n",
              " 'Macd .',\n",
              " \"He is already nam ' d , and gone to Scone To be inuested\",\n",
              " 'Rosse .',\n",
              " 'Where is Duncans body ?',\n",
              " 'Macd .',\n",
              " 'Carried to Colmekill , The Sacred Store - house of his Predecessors , And Guardian of their Bones',\n",
              " 'Rosse .',\n",
              " 'Will you to Scone ?',\n",
              " 'Macd .',\n",
              " 'No Cosin , Ile to Fife',\n",
              " 'Rosse .',\n",
              " 'Well , I will thither',\n",
              " 'Macd .',\n",
              " 'Well may you see things wel done there : Adieu Least our old Robes sit easier then our new',\n",
              " 'Rosse .',\n",
              " 'Farewell , Father',\n",
              " 'Old M . Gods benyson go with you , and with those That would make good of bad , and Friends of Foes .',\n",
              " 'Exeunt .',\n",
              " 'omnes',\n",
              " 'Actus Tertius .',\n",
              " 'Scena Prima .',\n",
              " 'Enter Banquo .',\n",
              " 'Banq .',\n",
              " \"Thou hast it now , King , Cawdor , Glamis , all , As the weyard Women promis ' d , and I feare Thou playd ' st most fowly for ' t : yet it was saide It should not stand in thy Posterity , But that my selfe should be the Roote , and Father Of many Kings .\",\n",
              " 'If there come truth from them , As vpon thee Macbeth , their Speeches shine , Why by the verities on thee made good , May they not be my Oracles as well , And set me vp in hope .',\n",
              " 'But hush , no more .',\n",
              " 'Senit sounded .',\n",
              " 'Enter Macbeth as King , Lady Lenox , Rosse , Lords , and Attendants .',\n",
              " 'Macb .',\n",
              " \"Heere ' s our chiefe Guest\",\n",
              " 'La .',\n",
              " 'If he had beene forgotten , It had bene as a gap in our great Feast , And all - thing vnbecomming',\n",
              " 'Macb .',\n",
              " 'To night we hold a solemne Supper sir , And Ile request your presence',\n",
              " 'Banq .',\n",
              " 'Let your Highnesse Command vpon me , to the which my duties Are with a most indissoluble tye For euer knit',\n",
              " 'Macb .',\n",
              " 'Ride you this afternoone ?',\n",
              " 'Ban .',\n",
              " 'I , my good Lord',\n",
              " 'Macb .',\n",
              " \"We should haue else desir ' d your good aduice ( Which still hath been both graue , and prosperous ) In this dayes Councell : but wee ' le take to morrow .\",\n",
              " \"Is ' t farre you ride ?\",\n",
              " 'Ban .',\n",
              " \"As farre , my Lord , as will fill vp the time ' Twixt this , and Supper .\",\n",
              " 'Goe not my Horse the better , I must become a borrower of the Night , For a darke houre , or twaine',\n",
              " 'Macb .',\n",
              " 'Faile not our Feast',\n",
              " 'Ban .',\n",
              " 'My Lord , I will not',\n",
              " 'Macb .',\n",
              " \"We heare our bloody Cozens are bestow ' d In England , and in Ireland , not confessing Their cruell Parricide , filling their hearers With strange inuention .\",\n",
              " 'But of that to morrow , When therewithall , we shall haue cause of State , Crauing vs ioyntly .',\n",
              " 'Hye you to Horse : Adieu , till you returne at Night .',\n",
              " 'Goes Fleance with you ?',\n",
              " 'Ban .',\n",
              " \"I , my good Lord : our time does call vpon ' s\",\n",
              " 'Macb .',\n",
              " 'I wish your Horses swift , and sure of foot : And so I doe commend you to their backs .',\n",
              " 'Farwell .',\n",
              " 'Exit Banquo .',\n",
              " 'Let euery man be master of his time , Till seuen at Night , to make societie The sweeter welcome : We will keepe our selfe till Supper time alone : While then , God be with you .',\n",
              " 'Exeunt .',\n",
              " 'Lords .',\n",
              " 'Sirrha , a word with you : Attend those men Our pleasure ?',\n",
              " 'Seruant .',\n",
              " 'They are , my Lord , without the Pallace Gate',\n",
              " 'Macb .',\n",
              " 'Bring them before vs .',\n",
              " 'Exit Seruant .',\n",
              " \"To be thus , is nothing , but to be safely thus Our feares in Banquo sticke deepe , And in his Royaltie of Nature reignes that Which would be fear ' d .\",\n",
              " \"' Tis much he dares , And to that dauntlesse temper of his Minde , He hath a Wisdome , that doth guide his Valour , To act in safetie .\",\n",
              " \"There is none but he , Whose being I doe feare : and vnder him , My Genius is rebuk ' d , as it is said Mark Anthonies was by Caesar .\",\n",
              " 'He chid the Sisters , When first they put the Name of King vpon me , And bad them speake to him .',\n",
              " \"Then Prophet - like , They hayl ' d him Father to a Line of Kings .\",\n",
              " \"Vpon my Head they plac ' d a fruitlesse Crowne , And put a barren Scepter in my Gripe , Thence to be wrencht with an vnlineall Hand , No Sonne of mine succeeding : if ' t be so , For Banquo ' s Issue haue I fil ' d my Minde , For them , the gracious Duncan haue I murther ' d , Put Rancours in the Vessell of my Peace Onely for them , and mine eternall Iewell Giuen to the common Enemie of Man , To make them Kings , the Seedes of Banquo Kings .\",\n",
              " \"Rather then so , come Fate into the Lyst , And champion me to th ' vtterance .\",\n",
              " \"Who ' s there ?\",\n",
              " 'Enter Seruant , and two Murtherers .',\n",
              " 'Now goe to the Doore , and stay there till we call .',\n",
              " 'Exit Seruant .',\n",
              " 'Was it not yesterday we spoke together ?',\n",
              " 'Murth .',\n",
              " 'It was , so please your Highnesse',\n",
              " 'Macb .',\n",
              " \"Well then , Now haue you consider ' d of my speeches : Know , that it was he , in the times past , Which held you so vnder fortune , Which you thought had been our innocent selfe .\",\n",
              " \"This I made good to you , in our last conference , Past in probation with you : How you were borne in hand , how crost : The Instruments : who wrought with them : And all things else , that might To halfe a Soule , and to a Notion craz ' d , Say , Thus did Banquo\",\n",
              " '1 . Murth .',\n",
              " 'You made it knowne to vs',\n",
              " 'Macb .',\n",
              " 'I did so : And went further , which is now Our point of second meeting .',\n",
              " 'Doe you finde your patience so predominant , In your nature , that you can let this goe ?',\n",
              " \"Are you so Gospell ' d , to pray for this good man , And for his Issue , whose heauie hand Hath bow ' d you to the Graue , and begger ' d Yours for euer ?\",\n",
              " '1 . Murth .',\n",
              " 'We are men , my Liege',\n",
              " 'Macb .',\n",
              " \"I , in the Catalogue ye goe for men , As Hounds , and Greyhounds , Mungrels , Spaniels , Curres , Showghes , Water - Rugs , and Demy - Wolues are clipt All by the Name of Dogges : the valued file Distinguishes the swift , the slow , the subtle , The House - keeper , the Hunter , euery one According to the gift , which bounteous Nature Hath in him clos ' d : whereby he does receiue Particular addition , from the Bill , That writes them all alike : and so of men .\",\n",
              " \"Now , if you haue a station in the file , Not i ' th ' worst ranke of Manhood , say ' t , And I will put that Businesse in your Bosomes , Whose execution takes your Enemie off , Grapples you to the heart ; and loue of vs , Who weare our Health but sickly in his Life , Which in his Death were perfect\",\n",
              " '2 . Murth .',\n",
              " \"I am one , my Liege , Whom the vile Blowes and Buffets of the World Hath so incens ' d , that I am recklesse what I doe , To spight the World\",\n",
              " '1 . Murth .',\n",
              " \"And I another , So wearie with Disasters , tugg ' d with Fortune , That I would set my Life on any Chance , To mend it , or be rid on ' t\",\n",
              " 'Macb .',\n",
              " 'Both of you know Banquo was your Enemie',\n",
              " 'Murth .',\n",
              " 'True , my Lord',\n",
              " 'Macb .',\n",
              " \"So is he mine : and in such bloody distance , That euery minute of his being , thrusts Against my neer ' st of Life : and though I could With bare - fac ' d power sweepe him from my sight , And bid my will auouch it ; yet I must not , For certaine friends that are both his , and mine , Whose loues I may not drop , but wayle his fall , Who I my selfe struck downe : and thence it is , That I to your assistance doe make loue , Masking the Businesse from the common Eye , For sundry weightie Reasons\",\n",
              " '2 . Murth .',\n",
              " 'We shall , my Lord , Performe what you command vs',\n",
              " '1 . Murth .',\n",
              " 'Though our Liues - Macb .',\n",
              " 'Your Spirits shine through you .',\n",
              " \"Within this houre , at most , I will aduise you where to plant your selues , Acquaint you with the perfect Spy o ' th ' time , The moment on ' t , for ' t must be done to Night , And something from the Pallace : alwayes thought , That I require a clearenesse ; and with him , To leaue no Rubs nor Botches in the Worke : Fleans , his Sonne , that keepes him companie , Whose absence is no lesse materiall to me , Then is his Fathers , must embrace the fate Of that darke houre : resolue your selues apart , Ile come to you anon\",\n",
              " 'Murth .',\n",
              " \"We are resolu ' d , my Lord\",\n",
              " 'Macb .',\n",
              " 'Ile call vpon you straight : abide within , It is concluded : Banquo , thy Soules flight , If it finde Heauen , must finde it out to Night .',\n",
              " 'Exeunt .',\n",
              " 'Scena Secunda .',\n",
              " 'Enter Macbeths Lady , and a Seruant .',\n",
              " 'Lady .',\n",
              " 'Is Banquo gone from Court ?',\n",
              " 'Seruant .',\n",
              " 'I , Madame , but returnes againe to Night',\n",
              " 'Lady .',\n",
              " 'Say to the King , I would attend his leysure , For a few words',\n",
              " 'Seruant .',\n",
              " 'Madame , I will .',\n",
              " 'Enter .',\n",
              " 'Lady .',\n",
              " \"Nought ' s had , all ' s spent .\",\n",
              " \"Where our desire is got without content : ' Tis safer , to be that which we destroy , Then by destruction dwell in doubtfull ioy .\",\n",
              " 'Enter Macbeth .',\n",
              " 'How now , my Lord , why doe you keepe alone ?',\n",
              " \"Of sorryest Fancies your Companions making , Vsing those Thoughts , which should indeed haue dy ' d With them they thinke on : things without all remedie Should be without regard : what ' s done , is done\",\n",
              " 'Macb .',\n",
              " \"We haue scorch ' d the Snake , not kill ' d it : Shee ' le close , and be her selfe , whilest our poore Mallice Remaines in danger of her former Tooth .\",\n",
              " 'But let the frame of things dis - ioynt , Both the Worlds suffer , Ere we will eate our Meale in feare , and sleepe In the affliction of these terrible Dreames , That shake vs Nightly : Better be with the dead , Whom we , to gayne our peace , haue sent to peace , Then on the torture of the Minde to lye In restlesse extasie .',\n",
              " \"Duncane is in his Graue : After Lifes fitfull Feuer , he sleepes well , Treason ha ' s done his worst : nor Steele , nor Poyson , Mallice domestique , forraine Leuie , nothing , Can touch him further\",\n",
              " 'Lady .',\n",
              " \"Come on : Gentle my Lord , sleeke o ' re your rugged Lookes , Be bright and Iouiall among your Guests to Night\",\n",
              " 'Macb .',\n",
              " 'So shall I Loue , and so I pray be you : Let your remembrance apply to Banquo , Present him Eminence , both with Eye and Tongue : Vnsafe the while , that wee must laue Our Honors in these flattering streames , And make our Faces Vizards to our Hearts , Disguising what they are',\n",
              " 'Lady .',\n",
              " 'You must leaue this',\n",
              " 'Macb .',\n",
              " \"O , full of Scorpions is my Minde , deare Wife : Thou know ' st , that Banquo and his Fleans liues\",\n",
              " 'Lady .',\n",
              " \"But in them , Natures Coppie ' s not eterne\",\n",
              " 'Macb .',\n",
              " \"There ' s comfort yet , they are assaileable , Then be thou iocund : ere the Bat hath flowne His Cloyster ' d flight , ere to black Heccats summons The shard - borne Beetle , with his drowsie hums , Hath rung Nights yawning Peale , There shall be done a deed of dreadfull note\",\n",
              " 'Lady .',\n",
              " \"What ' s to be done ?\",\n",
              " 'Macb .',\n",
              " 'Be innocent of the knowledge , dearest Chuck , Till thou applaud the deed : Come , seeling Night , Skarfe vp the tender Eye of pittifull Day , And with thy bloodie and inuisible Hand Cancell and teare to pieces that great Bond , Which keepes me pale .',\n",
              " \"Light thickens , And the Crow makes Wing toth ' Rookie Wood : Good things of Day begin to droope , and drowse , Whiles Nights black Agents to their Prey ' s doe rowse .\",\n",
              " \"Thou maruell ' st at my words : but hold thee still , Things bad begun , make strong themselues by ill : So prythee goe with me .\",\n",
              " 'Exeunt .',\n",
              " 'Scena Tertia .',\n",
              " 'Enter three Murtherers .',\n",
              " '1 .',\n",
              " 'But who did bid thee ioyne with vs ?',\n",
              " '3 .',\n",
              " 'Macbeth',\n",
              " '2 .',\n",
              " 'He needes not our mistrust , since he deliuers Our Offices , and what we haue to doe , To the direction iust',\n",
              " '1 .',\n",
              " 'Then stand with vs : The West yet glimmers with some streakes of Day .',\n",
              " 'Now spurres the lated Traueller apace , To gayne the timely Inne , and neere approches The subiect of our Watch',\n",
              " '3 .',\n",
              " 'Hearke , I heare Horses',\n",
              " 'Banquo within .',\n",
              " 'Giue vs a Light there , hoa',\n",
              " '2 .',\n",
              " \"Then ' tis hee : The rest , that are within the note of expectation , Alreadie are i ' th ' Court\",\n",
              " '1 .',\n",
              " 'His Horses goe about',\n",
              " '3 .',\n",
              " \"Almost a mile : but he does vsually , So all men doe , from hence toth ' Pallace Gate Make it their Walke .\",\n",
              " 'Enter Banquo and Fleans , with a Torch .',\n",
              " '2 .',\n",
              " 'A Light , a Light',\n",
              " '3 .',\n",
              " \"' Tis hee\",\n",
              " '1 .',\n",
              " \"Stand too ' t\",\n",
              " 'Ban .',\n",
              " 'It will be Rayne to Night',\n",
              " '1 .',\n",
              " 'Let it come downe',\n",
              " 'Ban .',\n",
              " 'O , Trecherie !',\n",
              " \"Flye good Fleans , flye , flye , flye , Thou may ' st reuenge .\",\n",
              " 'O Slaue !',\n",
              " '3 . Who did strike out the Light ?',\n",
              " '1 .',\n",
              " \"Was ' t not the way ?\",\n",
              " '3 .',\n",
              " \"There ' s but one downe : the Sonne is fled\",\n",
              " '2 .',\n",
              " 'We haue lost Best halfe of our Affaire',\n",
              " '1 .',\n",
              " \"Well , let ' s away , and say how much is done .\",\n",
              " 'Exeunt .',\n",
              " 'Scaena Quarta .',\n",
              " \"Banquet prepar ' d .\",\n",
              " 'Enter Macbeth , Lady , Rosse , Lenox , Lords , and Attendants .',\n",
              " 'Macb .',\n",
              " 'You know your owne degrees , sit downe : At first and last , the hearty welcome',\n",
              " 'Lords .',\n",
              " 'Thankes to your Maiesty',\n",
              " 'Macb .',\n",
              " 'Our selfe will mingle with Society , And play the humble Host : Our Hostesse keepes her State , but in best time We will require her welcome',\n",
              " 'La .',\n",
              " 'Pronounce it for me Sir , to all our Friends , For my heart speakes , they are welcome .',\n",
              " 'Enter first Murtherer .',\n",
              " 'Macb .',\n",
              " \"See they encounter thee with their harts thanks Both sides are euen : heere Ile sit i ' th ' mid ' st , Be large in mirth , anon wee ' l drinke a Measure The Table round .\",\n",
              " \"There ' s blood vpon thy face\",\n",
              " 'Mur .',\n",
              " \"' Tis Banquo ' s then\",\n",
              " 'Macb .',\n",
              " \"' Tis better thee without , then he within .\",\n",
              " \"Is he dispatch ' d ?\",\n",
              " 'Mur .',\n",
              " 'My Lord his throat is cut , that I did for him',\n",
              " 'Mac .',\n",
              " \"Thou art the best o ' th ' Cut - throats , Yet hee ' s good that did the like for Fleans : If thou did ' st it , thou art the Non - pareill\",\n",
              " 'Mur .',\n",
              " \"Most Royall Sir Fleans is scap ' d\",\n",
              " 'Macb .',\n",
              " \"Then comes my Fit againe : I had else beene perfect ; Whole as the Marble , founded as the Rocke , As broad , and generall , as the casing Ayre : But now I am cabin ' d , crib ' d , confin ' d , bound in To sawcy doubts , and feares .\",\n",
              " \"But Banquo ' s safe ?\",\n",
              " 'Mur .',\n",
              " 'I , my good Lord : safe in a ditch he bides , With twenty trenched gashes on his head ; The least a Death to Nature',\n",
              " 'Macb .',\n",
              " \"Thankes for that : There the growne Serpent lyes , the worme that ' s fled Hath Nature that in time will Venom breed , No teeth for th ' present .\",\n",
              " \"Get thee gone , to morrow Wee ' l heare our selues againe .\",\n",
              " 'Exit Murderer .',\n",
              " 'Lady .',\n",
              " \"My Royall Lord , You do not giue the Cheere , the Feast is sold That is not often vouch ' d , while ' tis a making : ' Tis giuen , with welcome : to feede were best at home : From thence , the sawce to meate is Ceremony , Meeting were bare without it .\",\n",
              " 'Enter the Ghost of Banquo , and sits in Macbeths place .',\n",
              " 'Macb .',\n",
              " 'Sweet Remembrancer : Now good digestion waite on Appetite , And health on both',\n",
              " 'Lenox .',\n",
              " \"May ' t please your Highnesse sit\",\n",
              " 'Macb .',\n",
              " \"Here had we now our Countries Honor , roof ' d , Were the grac ' d person of our Banquo present : Who , may I rather challenge for vnkindnesse , Then pitty for Mischance\",\n",
              " 'Rosse .',\n",
              " 'His absence ( Sir ) Layes blame vpon his promise .',\n",
              " \"Pleas ' t your Highnesse To grace vs with your Royall Company ?\",\n",
              " 'Macb .',\n",
              " \"The Table ' s full\",\n",
              " 'Lenox .',\n",
              " \"Heere is a place reseru ' d Sir\",\n",
              " 'Macb .',\n",
              " 'Where ?',\n",
              " 'Lenox .',\n",
              " 'Heere my good Lord .',\n",
              " \"What is ' t that moues your Highnesse ?\",\n",
              " 'Macb .',\n",
              " 'Which of you haue done this ?',\n",
              " 'Lords .',\n",
              " 'What , my good Lord ?',\n",
              " 'Macb .',\n",
              " 'Thou canst not say I did it : neuer shake Thy goary lockes at me',\n",
              " 'Rosse .',\n",
              " 'Gentlemen rise , his Highnesse is not well',\n",
              " 'Lady .',\n",
              " 'Sit worthy Friends : my Lord is often thus , And hath beene from his youth .',\n",
              " 'Pray you keepe Seat , The fit is momentary , vpon a thought He will againe be well .',\n",
              " 'If much you note him You shall offend him , and extend his Passion , Feed , and regard him not .',\n",
              " 'Are you a man ?',\n",
              " 'Macb .',\n",
              " 'I , and a bold one , that dare looke on that Which might appall the Diuell',\n",
              " 'La .',\n",
              " 'O proper stuffe : This is the very painting of your feare : This is the Ayre - drawne - Dagger which you said Led you to Duncan .',\n",
              " \"O , these flawes and starts ( Impostors to true feare ) would well become A womans story , at a Winters fire Authoriz ' d by her Grandam : shame it selfe , Why do you make such faces ?\",\n",
              " \"When all ' s done You looke but on a stoole\",\n",
              " 'Macb .',\n",
              " 'Prythee see there : Behold , looke , loe , how say you : Why what care I , if thou canst nod , speake too .',\n",
              " 'If Charnell houses , and our Graues must send Those that we bury , backe ; our Monuments Shall be the Mawes of Kytes',\n",
              " 'La .',\n",
              " 'What ?',\n",
              " ...]"
            ]
          },
          "metadata": {},
          "execution_count": 11
        }
      ],
      "source": [
        "import nltk\n",
        "from nltk.corpus import gutenberg\n",
        "\n",
        "nltk.download(\"gutenberg\")\n",
        "nltk.download(\"punkt\")\n",
        "plays = [\"shakespeare-macbeth.txt\", \"shakespeare-hamlet.txt\", \"shakespeare-caesar.txt\"]\n",
        "# for ply in plays:\n",
        "#     print(\"ply:\", ply)\n",
        "#     print(gutenberg.sents(ply))\n",
        "#     for s in gutenberg.sents(ply):\n",
        "#         print(\" \".join(s))\n",
        "#     print(\"--------\" * 3)\n",
        "shakespeare = [\" \".join(s) for ply in plays for s in gutenberg.sents(ply)]\n",
        "shakespeare"
      ]
    },
    {
      "cell_type": "code",
      "execution_count": 12,
      "metadata": {
        "id": "xoUf31Wxr6Vf",
        "colab": {
          "base_uri": "https://localhost:8080/"
        },
        "outputId": "675e610d-e681-4c82-d5ad-83443d1a2853"
      },
      "outputs": [
        {
          "output_type": "stream",
          "name": "stdout",
          "text": [
            "special_tokens: ['[UNK]', '[CLS]', '[SEP]', '[PAD]', '[MASK]']\n",
            "temp_proc: TemplateProcessing(single=[SpecialToken(id=\"[CLS]\", type_id=0), Sequence(id=A, type_id=0), SpecialToken(id=\"[SEP]\", type_id=0)], pair=[SpecialToken(id=\"[CLS]\", type_id=0), Sequence(id=A, type_id=0), SpecialToken(id=\"[SEP]\", type_id=0), Sequence(id=B, type_id=1), SpecialToken(id=\"[SEP]\", type_id=1)], special_tokens={\"[CLS]\":SpecialToken(id=\"[CLS]\", ids=[1], tokens=[\"[CLS]\"]), \"[SEP]\":SpecialToken(id=\"[SEP]\", ids=[2], tokens=[\"[SEP]\"])})\n"
          ]
        }
      ],
      "source": [
        "from tokenizers.processors import TemplateProcessing\n",
        "\n",
        "special_tokens = [\"[UNK]\", \"[CLS]\", \"[SEP]\", \"[PAD]\", \"[MASK]\"]\n",
        "print(\"special_tokens:\", special_tokens)\n",
        "\n",
        "temp_proc = TemplateProcessing(\n",
        "    single=\"[CLS] $A [SEP]\",\n",
        "    pair=\"[CLS] $A [SEP] $B:1 [SEP]:1\",\n",
        "    special_tokens=[\n",
        "        (\"[CLS]\", special_tokens.index(\"[CLS]\")),\n",
        "        (\"[SEP]\", special_tokens.index(\"[SEP]\")),\n",
        "    ],\n",
        ")\n",
        "print(\"temp_proc:\", temp_proc)"
      ]
    },
    {
      "cell_type": "markdown",
      "metadata": {
        "id": "fIY49Bv7r6Vf"
      },
      "source": [
        "## Training BPE"
      ]
    },
    {
      "cell_type": "code",
      "execution_count": 13,
      "metadata": {
        "id": "mkfZRm2Sh0Tz"
      },
      "outputs": [],
      "source": [
        "from tokenizers import Tokenizer\n",
        "from tokenizers.normalizers import Sequence, Lowercase, NFD, StripAccents\n",
        "from tokenizers.pre_tokenizers import Whitespace\n",
        "from tokenizers.models import BPE\n",
        "from tokenizers.decoders import BPEDecoder\n",
        "\n",
        "# Instantiate BPE (Byte-Pair Encoding)\n",
        "tokenizer = Tokenizer(BPE())\n",
        "\n",
        "# a unicode normalizer, lowercasing and , replacing accents in order  :\n",
        "# * Sequence : It composes multiple PreTokenizer that will be run in the given order\n",
        "tokenizer.normalizer = Sequence([NFD(), Lowercase(), StripAccents()])\n",
        "\n",
        "# Whitespace: Splits on word boundaries using the regular expression \\w+|[^\\w\\s]+\n",
        "tokenizer.pre_tokenizer = Whitespace()\n",
        "tokenizer.decoder = BPEDecoder()\n",
        "tokenizer.post_processor = temp_proc"
      ]
    },
    {
      "cell_type": "markdown",
      "metadata": {
        "id": "1L-0PgEhr6Vg"
      },
      "source": [
        "We are ready to train the model"
      ]
    },
    {
      "cell_type": "code",
      "execution_count": 14,
      "metadata": {
        "colab": {
          "base_uri": "https://localhost:8080/"
        },
        "id": "Ikfle7-fizWI",
        "outputId": "eb408edc-cc4e-4dcd-f9d7-677fe79a3363"
      },
      "outputs": [
        {
          "output_type": "stream",
          "name": "stdout",
          "text": [
            "Trained vocab size: 5000\n"
          ]
        }
      ],
      "source": [
        "from tokenizers.trainers import BpeTrainer\n",
        "\n",
        "trainer = BpeTrainer(vocab_size=5000, special_tokens=special_tokens)\n",
        "tokenizer.train_from_iterator(shakespeare, trainer=trainer)\n",
        "print(f\"Trained vocab size: {tokenizer.get_vocab_size()}\")"
      ]
    },
    {
      "cell_type": "code",
      "execution_count": 15,
      "metadata": {
        "colab": {
          "base_uri": "https://localhost:8080/"
        },
        "id": "uBV4W4eovhr5",
        "outputId": "9cf90bc0-3ca6-462c-b889-77e0c63574d2"
      },
      "outputs": [
        {
          "output_type": "stream",
          "name": "stdout",
          "text": [
            "Output: ['[CLS]', 'is', 'this', 'a', 'dagger', 'which', 'i', 'see', 'before', 'me', ',', 'the', 'hand', 'le', 'toward', 'my', 'hand', '?', '[SEP]']\n"
          ]
        }
      ],
      "source": [
        "sen = \"Is this a dagger which I see before me, the handle toward my hand?\"\n",
        "sen_enc = tokenizer.encode(sen)\n",
        "print(f\"Output: {format(sen_enc.tokens)}\")"
      ]
    },
    {
      "cell_type": "code",
      "execution_count": 16,
      "metadata": {
        "id": "yoYfnvcKpvQJ"
      },
      "outputs": [],
      "source": [
        "sen_enc2 = tokenizer.encode(\"Macbeth and Hugging Face\")"
      ]
    },
    {
      "cell_type": "code",
      "execution_count": 17,
      "metadata": {
        "colab": {
          "base_uri": "https://localhost:8080/"
        },
        "id": "DYVdvb6_p3aa",
        "outputId": "8b0363b4-30a2-47d9-8660-9252bd6500c3"
      },
      "outputs": [
        {
          "output_type": "stream",
          "name": "stdout",
          "text": [
            "Output: ['[CLS]', 'macbeth', 'and', 'hu', 'gg', 'ing', 'face', '[SEP]']\n"
          ]
        }
      ],
      "source": [
        "print(f\"Output: {format(sen_enc2.tokens)}\")"
      ]
    },
    {
      "cell_type": "code",
      "execution_count": 18,
      "metadata": {
        "id": "ayD7kPfl-uYL"
      },
      "outputs": [],
      "source": [
        "two_enc = tokenizer.encode(\"I like Hugging Face!\", \"He likes Macbeth!\")"
      ]
    },
    {
      "cell_type": "code",
      "execution_count": 19,
      "metadata": {
        "colab": {
          "base_uri": "https://localhost:8080/"
        },
        "id": "QCp2AGet-uaq",
        "outputId": "0bdd0d27-9bba-4041-d3cf-dd9c20a44350"
      },
      "outputs": [
        {
          "output_type": "stream",
          "name": "stdout",
          "text": [
            "Output: ['[CLS]', 'i', 'like', 'hu', 'gg', 'ing', 'face', '!', '[SEP]', 'he', 'likes', 'macbeth', '!', '[SEP]']\n"
          ]
        }
      ],
      "source": [
        "print(f\"Output: {format(two_enc.tokens)}\")"
      ]
    },
    {
      "cell_type": "code",
      "execution_count": 20,
      "metadata": {
        "colab": {
          "base_uri": "https://localhost:8080/"
        },
        "id": "_s5-XzSPrdKi",
        "outputId": "85fa3a9c-b637-4485-864b-25a355f104b1"
      },
      "outputs": [
        {
          "output_type": "execute_result",
          "data": {
            "text/plain": [
              "['./vocab.json', './merges.txt']"
            ]
          },
          "metadata": {},
          "execution_count": 20
        }
      ],
      "source": [
        "tokenizer.model.save(\".\")"
      ]
    },
    {
      "cell_type": "code",
      "execution_count": 21,
      "metadata": {
        "colab": {
          "base_uri": "https://localhost:8080/"
        },
        "id": "P74JPOQsrjxi",
        "outputId": "8a1ef777-8e0b-4993-b6c1-ab29a6d12b41"
      },
      "outputs": [
        {
          "output_type": "stream",
          "name": "stdout",
          "text": [
            "4948 ./merges.txt\n"
          ]
        }
      ],
      "source": [
        "!wc -l ./merges.txt"
      ]
    },
    {
      "cell_type": "code",
      "execution_count": 22,
      "metadata": {
        "colab": {
          "base_uri": "https://localhost:8080/"
        },
        "id": "ipocLFsxsjim",
        "outputId": "71804cae-a1e3-4bef-fc6e-a26498fb5638"
      },
      "outputs": [
        {
          "output_type": "stream",
          "name": "stdout",
          "text": [
            "#version: 0.2\n",
            "t h\n",
            "o u\n",
            "a n\n",
            "th e\n",
            "r e\n"
          ]
        }
      ],
      "source": [
        "!head -6 ./merges.txt"
      ]
    },
    {
      "cell_type": "code",
      "execution_count": 23,
      "metadata": {
        "colab": {
          "base_uri": "https://localhost:8080/"
        },
        "id": "p6IDCioesHTd",
        "outputId": "f4f5b608-556c-4f11-8917-a9366d4ee03e"
      },
      "outputs": [
        {
          "output_type": "stream",
          "name": "stdout",
          "text": [
            "ch ance\n",
            "si g\n",
            "your s\n",
            "ti a\n",
            "po int\n"
          ]
        }
      ],
      "source": [
        "!head -1000 ./merges.txt | tail -5"
      ]
    },
    {
      "cell_type": "code",
      "execution_count": 24,
      "metadata": {
        "colab": {
          "base_uri": "https://localhost:8080/"
        },
        "id": "cJzzz-oTQq2E",
        "outputId": "b1492766-0358-4931-c2bb-6ef505cd58ad"
      },
      "outputs": [
        {
          "output_type": "stream",
          "name": "stdout",
          "text": [
            "Output: ['[CLS]', 'i', 'like', 'hu', 'gg', 'ing', 'face', 'and', 'macbeth', '[SEP]']\n"
          ]
        }
      ],
      "source": [
        "# Save and Load Tokenizer\n",
        "tokenizer.save(\"MyBPETokenizer.json\")\n",
        "tokenizerFromFile = Tokenizer.from_file(\"MyBPETokenizer.json\")\n",
        "sen_enc3 = tokenizerFromFile.encode(\"I like HuggingFace and Macbeth\")\n",
        "print(f\"Output: {format(sen_enc3.tokens)}\")"
      ]
    },
    {
      "cell_type": "markdown",
      "metadata": {
        "id": "7cqr6iYOr6Vm"
      },
      "source": [
        "## Training WordPiece"
      ]
    },
    {
      "cell_type": "code",
      "execution_count": 25,
      "metadata": {
        "id": "3DZVqwXd37B3"
      },
      "outputs": [],
      "source": [
        "from tokenizers.models import WordPiece\n",
        "from tokenizers.decoders import WordPiece as WordPieceDecoder\n",
        "from tokenizers.normalizers import BertNormalizer\n",
        "\n",
        "# BERT normalizer includes cleaning the text, handling accents, chinese chars and lowercasing\n",
        "\n",
        "tokenizer = Tokenizer(WordPiece())\n",
        "tokenizer.normalizer = BertNormalizer()\n",
        "tokenizer.pre_tokenizer = Whitespace()\n",
        "\n",
        "tokenizer.decoder = WordPieceDecoder()"
      ]
    },
    {
      "cell_type": "code",
      "execution_count": 26,
      "metadata": {
        "colab": {
          "base_uri": "https://localhost:8080/"
        },
        "id": "zIQrels54Jsn",
        "outputId": "50f0e6ba-05b2-4d92-c030-3b4449c9b5af"
      },
      "outputs": [
        {
          "output_type": "stream",
          "name": "stdout",
          "text": [
            "['is', 'this', 'a', 'dagger', 'which', 'i', 'see', 'before', 'me', ',', 'the', 'hand', '##le', 'toward', 'my', 'hand', '?']\n"
          ]
        }
      ],
      "source": [
        "from tokenizers.trainers import WordPieceTrainer\n",
        "\n",
        "trainer = WordPieceTrainer(\n",
        "    vocab_size=5000, special_tokens=[\"[UNK]\", \"[CLS]\", \"[SEP]\", \"[PAD]\", \"[MASK]\"]\n",
        ")\n",
        "\n",
        "tokenizer.train_from_iterator(shakespeare, trainer=trainer)\n",
        "output = tokenizer.encode(sen)\n",
        "print(output.tokens)"
      ]
    },
    {
      "cell_type": "code",
      "execution_count": 27,
      "metadata": {
        "colab": {
          "base_uri": "https://localhost:8080/",
          "height": 35
        },
        "id": "kQ4zF1nN_4MZ",
        "outputId": "73dee516-ec51-4b66-c3bb-c171b74b234d"
      },
      "outputs": [
        {
          "output_type": "execute_result",
          "data": {
            "text/plain": [
              "'is this a dagger which i see before me, the handle toward my hand?'"
            ],
            "application/vnd.google.colaboratory.intrinsic+json": {
              "type": "string"
            }
          },
          "metadata": {},
          "execution_count": 27
        }
      ],
      "source": [
        "tokenizer.decode(output.ids)"
      ]
    },
    {
      "cell_type": "code",
      "execution_count": 28,
      "metadata": {
        "colab": {
          "base_uri": "https://localhost:8080/"
        },
        "id": "sdTfTeXYAP9b",
        "outputId": "0066bb6e-ce40-4499-a45f-1118072c64f6"
      },
      "outputs": [
        {
          "output_type": "execute_result",
          "data": {
            "text/plain": [
              "['[UNK]', '[UNK]', 'macbeth', '!']"
            ]
          },
          "metadata": {},
          "execution_count": 28
        }
      ],
      "source": [
        "tokenizer.encode(\"Kralsın aslansın Macbeth!\").tokens"
      ]
    },
    {
      "cell_type": "markdown",
      "metadata": {
        "id": "5pv1elLZr6Vq"
      },
      "source": [
        "# Pre-made tokenizers\n",
        "* CharBPETokenizer: The original BPE\n",
        "* ByteLevelBPETokenizer: The byte level version of the BPE\n",
        "* SentencePieceBPETokenizer: A BPE implementation compatible with the one used by SentencePiece\n",
        "* BertWordPieceTokenizer: The famous Bert tokenizer, using WordPiece"
      ]
    },
    {
      "cell_type": "code",
      "execution_count": 29,
      "metadata": {
        "id": "HbpJJDbwr6Vq"
      },
      "outputs": [],
      "source": [
        "from tokenizers import (\n",
        "    ByteLevelBPETokenizer,\n",
        "    CharBPETokenizer,\n",
        "    SentencePieceBPETokenizer,\n",
        "    BertWordPieceTokenizer,\n",
        ")"
      ]
    },
    {
      "cell_type": "code",
      "execution_count": 30,
      "metadata": {
        "colab": {
          "base_uri": "https://localhost:8080/"
        },
        "id": "ztQLBl-ar6Vq",
        "outputId": "b4e46585-6261-440b-bd23-f18ee5a7a2c6"
      },
      "outputs": [
        {
          "output_type": "stream",
          "name": "stdout",
          "text": [
            "NFKC()\n",
            "Metaspace(replacement=\"▁\", prepend_scheme=always, split=True)\n",
            "Metaspace(replacement=\"▁\", prepend_scheme=always, split=True)\n",
            "None\n"
          ]
        }
      ],
      "source": [
        "tokenizer = SentencePieceBPETokenizer()\n",
        "print(tokenizer.normalizer)\n",
        "print(tokenizer.pre_tokenizer)\n",
        "print(tokenizer.decoder)\n",
        "print(tokenizer.post_processor)"
      ]
    },
    {
      "cell_type": "code",
      "execution_count": 31,
      "metadata": {
        "colab": {
          "base_uri": "https://localhost:8080/"
        },
        "id": "-iroWw9Gr6Vr",
        "outputId": "33dafeb9-d7bb-4a19-d0a3-c5b73804a94a"
      },
      "outputs": [
        {
          "output_type": "stream",
          "name": "stdout",
          "text": [
            "BertNormalizer(clean_text=True, handle_chinese_chars=True, strip_accents=None, lowercase=True)\n",
            "BertPreTokenizer()\n",
            "WordPiece(prefix=\"##\", cleanup=True)\n",
            "None\n"
          ]
        }
      ],
      "source": [
        "tokenizer = BertWordPieceTokenizer()\n",
        "print(tokenizer.normalizer)\n",
        "print(tokenizer.pre_tokenizer)\n",
        "print(tokenizer.decoder)\n",
        "print(tokenizer.post_processor)"
      ]
    },
    {
      "cell_type": "code",
      "execution_count": 31,
      "metadata": {
        "id": "gZppvrcpr6Vr"
      },
      "outputs": [],
      "source": []
    }
  ],
  "metadata": {
    "colab": {
      "provenance": []
    },
    "kernelspec": {
      "display_name": "Python 3",
      "name": "python3"
    },
    "language_info": {
      "codemirror_mode": {
        "name": "ipython",
        "version": 3
      },
      "file_extension": ".py",
      "mimetype": "text/x-python",
      "name": "python",
      "nbconvert_exporter": "python",
      "pygments_lexer": "ipython3",
      "version": "3.11.6"
    }
  },
  "nbformat": 4,
  "nbformat_minor": 0
}