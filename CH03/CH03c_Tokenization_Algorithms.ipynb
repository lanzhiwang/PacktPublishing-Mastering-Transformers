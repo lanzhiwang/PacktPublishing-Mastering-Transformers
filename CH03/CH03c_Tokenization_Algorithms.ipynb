{
  "cells": [
    {
      "cell_type": "markdown",
      "metadata": {
        "id": "TRDYJW5ljYwK",
        "outputId": "3547ca78-10f2-4790-f6a1-90669785b58b"
      },
      "source": [
        "# 3. Autoencoding Language Models\n",
        "自动编码语言模型\n",
        "\n",
        "##### Tokenization\n",
        "\n",
        "## Preparation for Google Colab"
      ]
    },
    {
      "cell_type": "code",
      "execution_count": null,
      "metadata": {
        "id": "f3aC-N4UcPyM"
      },
      "outputs": [],
      "source": [
        "import os\n",
        "from google.colab import drive\n",
        "\n",
        "#  挂载 google 云盘\n",
        "drive.mount(\"/content/drive\")\n",
        "\n",
        "print(os.getcwd())  # /content\n",
        "\n",
        "# print(os.listdir(\"/content/drive/MyDrive/\"))\n",
        "\n",
        "# print(os.listdir(\"/content/drive/MyDrive/Colab Notebooks\"))\n",
        "\n",
        "# if os.getcwd() != \"/content/drive/MyDrive\":\n",
        "#     os.chdir(\"/content/drive/MyDrive\")\n",
        "\n",
        "# print(os.getcwd())"
      ]
    },
    {
      "cell_type": "code",
      "execution_count": null,
      "metadata": {
        "id": "hBWVViLQcP1c"
      },
      "outputs": [],
      "source": [
        "# 提前将 requirements.txt 放在 google 云盘上\n",
        "!pip install -r /content/drive/MyDrive/requirements.txt"
      ]
    },
    {
      "cell_type": "code",
      "execution_count": 3,
      "metadata": {
        "colab": {
          "base_uri": "https://localhost:8080/"
        },
        "id": "s0lWe3VocP4v",
        "outputId": "73d26605-171a-4f95-b966-458697d25955"
      },
      "outputs": [
        {
          "name": "stdout",
          "output_type": "stream",
          "text": [
            "/content/drive/MyDrive/ch03c\n"
          ]
        }
      ],
      "source": [
        "subdir = \"ch03c\"\n",
        "work_path = \"/content/drive/MyDrive/\" + subdir\n",
        "if not os.path.exists(work_path):\n",
        "    os.mkdir(work_path)\n",
        "os.chdir(work_path)\n",
        "print(os.getcwd())"
      ]
    },
    {
      "cell_type": "code",
      "execution_count": 4,
      "metadata": {
        "colab": {
          "base_uri": "https://localhost:8080/"
        },
        "id": "jZvbJPpqcP76",
        "outputId": "45b2dd8a-ab3a-4396-a3b4-82f58094398f"
      },
      "outputs": [
        {
          "name": "stdout",
          "output_type": "stream",
          "text": [
            "Reading package lists... Done\n",
            "Building dependency tree... Done\n",
            "Reading state information... Done\n",
            "The following NEW packages will be installed:\n",
            "  tree\n",
            "0 upgraded, 1 newly installed, 0 to remove and 23 not upgraded.\n",
            "Need to get 47.9 kB of archives.\n",
            "After this operation, 116 kB of additional disk space will be used.\n",
            "Get:1 http://archive.ubuntu.com/ubuntu jammy/universe amd64 tree amd64 2.0.2-1 [47.9 kB]\n",
            "Fetched 47.9 kB in 0s (340 kB/s)\n",
            "Selecting previously unselected package tree.\n",
            "(Reading database ... 124947 files and directories currently installed.)\n",
            "Preparing to unpack .../tree_2.0.2-1_amd64.deb ...\n",
            "Unpacking tree (2.0.2-1) ...\n",
            "Setting up tree (2.0.2-1) ...\n",
            "Processing triggers for man-db (2.10.2-1) ...\n",
            "\u001b[01;34m./\u001b[0m\n",
            "\n",
            "0 directories, 0 files\n"
          ]
        }
      ],
      "source": [
        "!apt-get install tree && tree -a \"./\""
      ]
    },
    {
      "cell_type": "markdown",
      "metadata": {
        "id": "aSOk-ouhr6VV"
      },
      "source": [
        "## Loading a Turkish Pre-trained Tokenizer"
      ]
    },
    {
      "cell_type": "code",
      "execution_count": 5,
      "metadata": {
        "colab": {
          "base_uri": "https://localhost:8080/",
          "height": 256,
          "referenced_widgets": [
            "64d68901476a439490274634b360f3b7",
            "0e7754ec4be54209ad627a2da2dd663e",
            "761b2f20838c413482990b8893ddbcd6",
            "0c3a0bdc2d634d4584cf0ab29fa7aaaf",
            "38f91cd7eb1e40afaad39909fcda8c3e",
            "f6be7c26d759492db73fd49b38efc4f5",
            "5d626e1d93e34e95a8a3d197b18ba046",
            "64de6221a7054493a4c754457a43d555",
            "d7ae694dee934b39bebb371426e847f7",
            "49bb464e0d024e7caeee6c9d3b7fcce4",
            "e75052be32b84869bda27d735f6bca41",
            "c08edeb23b864bb49cdf8b0aa5913d0d",
            "04491cb34d294542a21d809c77fecfd7",
            "e7f8da40d5294c2caccba4629c59427b",
            "95d6c3fb8ecb4f1baa37c47ed051ad73",
            "9cbf3eb4459342069057b8e87f3a0b9a",
            "9c675da103e3438c94038a9d12746358",
            "a98e144ebd074555862aa9bc528ac323",
            "f1e09d703c874b91b57d15e4dae7b951",
            "af943aadf8b14237b1799ab90bce3f26",
            "22431db2a64a46f7b5067d0c8bd757a0",
            "77dfca8d729b4ea8a2d4e44ffcc6494c",
            "2d521fd7860a4408a8c8bb5344f65acb",
            "828b0329b6cc4830aa1c8a65c3f172f9",
            "1aec74410d634ee888ceb31097833f27",
            "22cafc22f3bd4142a4b4c89195b993be",
            "5ceec47752744032b69195512806d13c",
            "7ee1145b9d7a46c2ae9b47513ce67e2c",
            "03445acc29de40bc8cde93800bfed5f5",
            "603710d274e748588d9734e686f4a9b4",
            "dd6bff75ee3d4917a3a35e14ed05ae49",
            "78fc624be5634fab91cec442f372cf24",
            "defd8909ed034fa0879867b02446331e"
          ]
        },
        "id": "K-4KLgJ5r6VW",
        "outputId": "f1d4ac15-3138-47fa-8c9f-879fbaef3565"
      },
      "outputs": [
        {
          "name": "stderr",
          "output_type": "stream",
          "text": [
            "/usr/local/lib/python3.11/dist-packages/huggingface_hub/utils/_auth.py:94: UserWarning: \n",
            "The secret `HF_TOKEN` does not exist in your Colab secrets.\n",
            "To authenticate with the Hugging Face Hub, create a token in your settings tab (https://huggingface.co/settings/tokens), set it as secret in your Google Colab and restart your session.\n",
            "You will be able to reuse this secret in all of your notebooks.\n",
            "Please note that authentication is recommended but still optional to access public models or datasets.\n",
            "  warnings.warn(\n"
          ]
        },
        {
          "data": {
            "application/vnd.jupyter.widget-view+json": {
              "model_id": "64d68901476a439490274634b360f3b7",
              "version_major": 2,
              "version_minor": 0
            },
            "text/plain": [
              "tokenizer_config.json:   0%|          | 0.00/59.0 [00:00<?, ?B/s]"
            ]
          },
          "metadata": {},
          "output_type": "display_data"
        },
        {
          "data": {
            "application/vnd.jupyter.widget-view+json": {
              "model_id": "c08edeb23b864bb49cdf8b0aa5913d0d",
              "version_major": 2,
              "version_minor": 0
            },
            "text/plain": [
              "config.json:   0%|          | 0.00/385 [00:00<?, ?B/s]"
            ]
          },
          "metadata": {},
          "output_type": "display_data"
        },
        {
          "data": {
            "application/vnd.jupyter.widget-view+json": {
              "model_id": "2d521fd7860a4408a8c8bb5344f65acb",
              "version_major": 2,
              "version_minor": 0
            },
            "text/plain": [
              "vocab.txt:   0%|          | 0.00/263k [00:00<?, ?B/s]"
            ]
          },
          "metadata": {},
          "output_type": "display_data"
        },
        {
          "name": "stdout",
          "output_type": "stream",
          "text": [
            "VOC size is: 32000\n",
            "The model is <class 'transformers.models.bert.tokenization_bert_fast.BertTokenizerFast'>\n"
          ]
        }
      ],
      "source": [
        "from transformers import AutoTokenizer\n",
        "\n",
        "tokenizerTUR = AutoTokenizer.from_pretrained(\n",
        "    \"dbmdz/bert-base-turkish-uncased\",\n",
        ")\n",
        "print(f\"VOC size is: {tokenizerTUR.vocab_size}\")\n",
        "print(f\"The model is {type(tokenizerTUR)}\")"
      ]
    },
    {
      "cell_type": "markdown",
      "metadata": {
        "id": "aHtaOWRfr6VY"
      },
      "source": [
        "## Loading an English Pre-trained Tokenizer"
      ]
    },
    {
      "cell_type": "code",
      "execution_count": 6,
      "metadata": {
        "colab": {
          "base_uri": "https://localhost:8080/",
          "height": 181,
          "referenced_widgets": [
            "6863dd314ac94bc4bab3e5c27d1f79ef",
            "a635ca180fa1407cb6968218d429ae9b",
            "aa0c6d50f9134fee82dd5b336b86918d",
            "96f16f60268d42faa77ba6286e60b3eb",
            "289a00e635e2458ca428d7aed86feae5",
            "c3cafcaec0164747b11ee737914b4feb",
            "fc54311aedbf4639b0a98a303e600eef",
            "90cdb68a7b7d416cb18abec2c0c4fff8",
            "ce0bd3b5fb5d4aa5b99ff19d236ce766",
            "6427b896f0ff43baa11296578dc55b26",
            "7f9a0ccc643d43dfb40705badfc69daa",
            "cc2c94f54c1140fbb1cf5a0d1d96ff80",
            "d85646d53ab048c884d066e444d59280",
            "44082fdfc7d14c79ae55f1a892ca5c3e",
            "7796b168b5ce4df8bda057f1e506df9a",
            "bdf9628a403b41399fa3b3623b33bbf5",
            "d1bb87c31fef4096a1940c3777a7d58e",
            "86f4ec5187eb452395efba85eb13b906",
            "4857b02bc0614ec6b7037643ff5ff29c",
            "5e6aa90ca0e84db88fe920e236a6cb92",
            "7378dcaba89b4573a6f99f503a85941a",
            "250b7cb7240f46cfa439952caa26bdce",
            "48ec6d2dc51a4673bfb8dbfb0c6fa218",
            "33c0169243614579993143a437bfa1ea",
            "ff154ec59ac6486ba755713faaeae237",
            "876c1617b37b48708b1626f445c20f06",
            "a4731b6d17d040f3bd48b9e30d75a820",
            "57fecd54f6124a8abb3ee875c499f0c8",
            "07b66e61cd154bd192170d971253c680",
            "9d504692211340edbb94a0bab408a36e",
            "862156b99594464a95c71f6c0862f14f",
            "0b5982aa7aba4bdab944faf25b2f3065",
            "3860bac84dde4e84b7bf88732657f000",
            "035b7ed99b984093abb85ed02f86f4cf",
            "e53d3f72eb174287abceb966b786e5e2",
            "305a6e104cfd44c88f1db4aba4a9aef6",
            "a7dc09cb2db64581bfa8b2fa24599bf2",
            "2e70f76bad824cfbb1b0b738165a1a1e",
            "37758da6c2f849b2800da1207aee91e3",
            "fb8df9a90bd748d39d344f37ca5f2481",
            "9675b80da14e44a69e539480cd000295",
            "525638a9c6914da18abbd98924f7a674",
            "2f00bbed5723474ea1192463832e6d57",
            "dcdc3bed92734ab9a8bf7320d15b5114"
          ]
        },
        "id": "HBUiytDGr6VY",
        "outputId": "6c9f016c-514c-47b8-9ca3-5c7d7cc02f6f"
      },
      "outputs": [
        {
          "data": {
            "application/vnd.jupyter.widget-view+json": {
              "model_id": "6863dd314ac94bc4bab3e5c27d1f79ef",
              "version_major": 2,
              "version_minor": 0
            },
            "text/plain": [
              "tokenizer_config.json:   0%|          | 0.00/48.0 [00:00<?, ?B/s]"
            ]
          },
          "metadata": {},
          "output_type": "display_data"
        },
        {
          "data": {
            "application/vnd.jupyter.widget-view+json": {
              "model_id": "cc2c94f54c1140fbb1cf5a0d1d96ff80",
              "version_major": 2,
              "version_minor": 0
            },
            "text/plain": [
              "config.json:   0%|          | 0.00/570 [00:00<?, ?B/s]"
            ]
          },
          "metadata": {},
          "output_type": "display_data"
        },
        {
          "data": {
            "application/vnd.jupyter.widget-view+json": {
              "model_id": "48ec6d2dc51a4673bfb8dbfb0c6fa218",
              "version_major": 2,
              "version_minor": 0
            },
            "text/plain": [
              "vocab.txt:   0%|          | 0.00/232k [00:00<?, ?B/s]"
            ]
          },
          "metadata": {},
          "output_type": "display_data"
        },
        {
          "data": {
            "application/vnd.jupyter.widget-view+json": {
              "model_id": "035b7ed99b984093abb85ed02f86f4cf",
              "version_major": 2,
              "version_minor": 0
            },
            "text/plain": [
              "tokenizer.json:   0%|          | 0.00/466k [00:00<?, ?B/s]"
            ]
          },
          "metadata": {},
          "output_type": "display_data"
        },
        {
          "name": "stdout",
          "output_type": "stream",
          "text": [
            "VOC size is: 30522\n",
            "The model is <class 'transformers.models.bert.tokenization_bert_fast.BertTokenizerFast'>\n"
          ]
        }
      ],
      "source": [
        "from transformers import AutoTokenizer\n",
        "\n",
        "tokenizerEN = AutoTokenizer.from_pretrained(\"bert-base-uncased\")\n",
        "print(f\"VOC size is: {tokenizerEN.vocab_size}\")\n",
        "print(f\"The model is {type(tokenizerEN)}\")"
      ]
    },
    {
      "cell_type": "code",
      "execution_count": 7,
      "metadata": {
        "colab": {
          "base_uri": "https://localhost:8080/"
        },
        "id": "r99VtKxqr6VZ",
        "outputId": "99f6ae60-2b56-4f27-ccaa-047027a7266e"
      },
      "outputs": [
        {
          "name": "stdout",
          "output_type": "stream",
          "text": [
            "is in Turkish Model ? False\n",
            "is in English Model ? True\n"
          ]
        }
      ],
      "source": [
        "word_en = \"telecommunications\"\n",
        "print(f\"is in Turkish Model ? {word_en in tokenizerTUR.vocab}\")\n",
        "print(f\"is in English Model ? {word_en in tokenizerEN.vocab}\")"
      ]
    },
    {
      "cell_type": "code",
      "execution_count": 8,
      "metadata": {
        "colab": {
          "base_uri": "https://localhost:8080/"
        },
        "id": "0BcZPXHIr6Va",
        "outputId": "8e418245-f1df-489d-ca2f-bfd1e75f9caf"
      },
      "outputs": [
        {
          "data": {
            "text/plain": [
              "['tel', '##eco', '##mm', '##un', '##ica', '##tions']"
            ]
          },
          "execution_count": 8,
          "metadata": {},
          "output_type": "execute_result"
        }
      ],
      "source": [
        "tokens = tokenizerTUR.tokenize(word_en)\n",
        "tokens"
      ]
    },
    {
      "cell_type": "code",
      "execution_count": 9,
      "metadata": {
        "colab": {
          "base_uri": "https://localhost:8080/"
        },
        "id": "-Tjxu8vcr6Vb",
        "outputId": "b5d2b48a-aed4-4271-c88a-a9309358deaa"
      },
      "outputs": [
        {
          "data": {
            "text/plain": [
              "[True, True, True, True, True, True]"
            ]
          },
          "execution_count": 9,
          "metadata": {},
          "output_type": "execute_result"
        }
      ],
      "source": [
        "[t in tokenizerTUR.vocab for t in tokens]"
      ]
    },
    {
      "cell_type": "code",
      "execution_count": 10,
      "metadata": {
        "colab": {
          "base_uri": "https://localhost:8080/"
        },
        "id": "JDO-9FnCr6Vb",
        "outputId": "eeacfcae-b1cc-42ec-f6f4-bb5a17dec3e0"
      },
      "outputs": [
        {
          "data": {
            "text/plain": [
              "['telecommunications']"
            ]
          },
          "execution_count": 10,
          "metadata": {},
          "output_type": "execute_result"
        }
      ],
      "source": [
        "tokens = tokenizerEN.tokenize(word_en)\n",
        "tokens"
      ]
    },
    {
      "cell_type": "code",
      "execution_count": 11,
      "metadata": {
        "id": "NWcEicrrr6Vc"
      },
      "outputs": [],
      "source": [
        "long_word_tur = \"Muvaffakiyetsizleştiricileştiriveremeyebileceklerimizdenmişsinizcesine\""
      ]
    },
    {
      "cell_type": "markdown",
      "metadata": {
        "id": "mO0ewrDIr6Vc"
      },
      "source": [
        "'''\n",
        "It means that “As though you happen to have been from among those whom we will not be able to easily/quickly make a maker of unsuccessful ones”\n",
        "'''"
      ]
    },
    {
      "cell_type": "markdown",
      "metadata": {
        "id": "D5d08yswr6Vd"
      },
      "source": [
        "## Understanding Tokenization Algorithms"
      ]
    },
    {
      "cell_type": "markdown",
      "metadata": {
        "id": "TpIlpuIgr6Ve"
      },
      "source": [
        "### Train tokenizers from scratch"
      ]
    },
    {
      "cell_type": "markdown",
      "metadata": {
        "id": "zFmJoDDvr6Ve"
      },
      "source": [
        "let's load Shakespeare plays from gutenberg project"
      ]
    },
    {
      "cell_type": "code",
      "execution_count": 12,
      "metadata": {
        "colab": {
          "base_uri": "https://localhost:8080/"
        },
        "id": "gyiaJI25DDgM",
        "outputId": "e0b65ea9-1700-4544-e591-1f9c45916dac"
      },
      "outputs": [
        {
          "name": "stderr",
          "output_type": "stream",
          "text": [
            "[nltk_data] Downloading package gutenberg to /root/nltk_data...\n",
            "[nltk_data]   Unzipping corpora/gutenberg.zip.\n",
            "[nltk_data] Downloading package punkt to /root/nltk_data...\n",
            "[nltk_data]   Unzipping tokenizers/punkt.zip.\n",
            "[nltk_data] Downloading package punkt_tab to /root/nltk_data...\n",
            "[nltk_data]   Unzipping tokenizers/punkt_tab.zip.\n"
          ]
        },
        {
          "data": {
            "text/plain": [
              "True"
            ]
          },
          "execution_count": 12,
          "metadata": {},
          "output_type": "execute_result"
        }
      ],
      "source": [
        "import nltk\n",
        "from nltk.corpus import gutenberg\n",
        "\n",
        "nltk.download(\"gutenberg\")\n",
        "nltk.download(\"punkt\")\n",
        "nltk.download('punkt_tab')"
      ]
    },
    {
      "cell_type": "code",
      "execution_count": 13,
      "metadata": {
        "colab": {
          "base_uri": "https://localhost:8080/"
        },
        "id": "GvqE6WvKDH8J",
        "outputId": "e82c50e7-86f7-4107-8c38-b4ec7b885b79"
      },
      "outputs": [
        {
          "name": "stdout",
          "output_type": "stream",
          "text": [
            "\u001b[01;34m/root/nltk_data\u001b[0m\n",
            "├── \u001b[01;34mcorpora\u001b[0m\n",
            "│   ├── \u001b[01;34mgutenberg\u001b[0m\n",
            "│   │   ├── \u001b[00mausten-emma.txt\u001b[0m\n",
            "│   │   ├── \u001b[00mausten-persuasion.txt\u001b[0m\n",
            "│   │   ├── \u001b[00mausten-sense.txt\u001b[0m\n",
            "│   │   ├── \u001b[00mbible-kjv.txt\u001b[0m\n",
            "│   │   ├── \u001b[00mblake-poems.txt\u001b[0m\n",
            "│   │   ├── \u001b[00mbryant-stories.txt\u001b[0m\n",
            "│   │   ├── \u001b[00mburgess-busterbrown.txt\u001b[0m\n",
            "│   │   ├── \u001b[00mcarroll-alice.txt\u001b[0m\n",
            "│   │   ├── \u001b[00mchesterton-ball.txt\u001b[0m\n",
            "│   │   ├── \u001b[00mchesterton-brown.txt\u001b[0m\n",
            "│   │   ├── \u001b[00mchesterton-thursday.txt\u001b[0m\n",
            "│   │   ├── \u001b[00medgeworth-parents.txt\u001b[0m\n",
            "│   │   ├── \u001b[00mmelville-moby_dick.txt\u001b[0m\n",
            "│   │   ├── \u001b[00mmilton-paradise.txt\u001b[0m\n",
            "│   │   ├── \u001b[00mREADME\u001b[0m\n",
            "│   │   ├── \u001b[00mshakespeare-caesar.txt\u001b[0m\n",
            "│   │   ├── \u001b[00mshakespeare-hamlet.txt\u001b[0m\n",
            "│   │   ├── \u001b[00mshakespeare-macbeth.txt\u001b[0m\n",
            "│   │   └── \u001b[00mwhitman-leaves.txt\u001b[0m\n",
            "│   └── \u001b[01;31mgutenberg.zip\u001b[0m\n",
            "└── \u001b[01;34mtokenizers\u001b[0m\n",
            "    ├── \u001b[01;34mpunkt\u001b[0m\n",
            "    │   ├── \u001b[00mczech.pickle\u001b[0m\n",
            "    │   ├── \u001b[00mdanish.pickle\u001b[0m\n",
            "    │   ├── \u001b[00m.DS_Store\u001b[0m\n",
            "    │   ├── \u001b[00mdutch.pickle\u001b[0m\n",
            "    │   ├── \u001b[00menglish.pickle\u001b[0m\n",
            "    │   ├── \u001b[00mestonian.pickle\u001b[0m\n",
            "    │   ├── \u001b[00mfinnish.pickle\u001b[0m\n",
            "    │   ├── \u001b[00mfrench.pickle\u001b[0m\n",
            "    │   ├── \u001b[00mgerman.pickle\u001b[0m\n",
            "    │   ├── \u001b[00mgreek.pickle\u001b[0m\n",
            "    │   ├── \u001b[00mitalian.pickle\u001b[0m\n",
            "    │   ├── \u001b[00mmalayalam.pickle\u001b[0m\n",
            "    │   ├── \u001b[00mnorwegian.pickle\u001b[0m\n",
            "    │   ├── \u001b[00mpolish.pickle\u001b[0m\n",
            "    │   ├── \u001b[00mportuguese.pickle\u001b[0m\n",
            "    │   ├── \u001b[01;34mPY3\u001b[0m\n",
            "    │   │   ├── \u001b[00mczech.pickle\u001b[0m\n",
            "    │   │   ├── \u001b[00mdanish.pickle\u001b[0m\n",
            "    │   │   ├── \u001b[00mdutch.pickle\u001b[0m\n",
            "    │   │   ├── \u001b[00menglish.pickle\u001b[0m\n",
            "    │   │   ├── \u001b[00mestonian.pickle\u001b[0m\n",
            "    │   │   ├── \u001b[00mfinnish.pickle\u001b[0m\n",
            "    │   │   ├── \u001b[00mfrench.pickle\u001b[0m\n",
            "    │   │   ├── \u001b[00mgerman.pickle\u001b[0m\n",
            "    │   │   ├── \u001b[00mgreek.pickle\u001b[0m\n",
            "    │   │   ├── \u001b[00mitalian.pickle\u001b[0m\n",
            "    │   │   ├── \u001b[00mmalayalam.pickle\u001b[0m\n",
            "    │   │   ├── \u001b[00mnorwegian.pickle\u001b[0m\n",
            "    │   │   ├── \u001b[00mpolish.pickle\u001b[0m\n",
            "    │   │   ├── \u001b[00mportuguese.pickle\u001b[0m\n",
            "    │   │   ├── \u001b[00mREADME\u001b[0m\n",
            "    │   │   ├── \u001b[00mrussian.pickle\u001b[0m\n",
            "    │   │   ├── \u001b[00mslovene.pickle\u001b[0m\n",
            "    │   │   ├── \u001b[00mspanish.pickle\u001b[0m\n",
            "    │   │   ├── \u001b[00mswedish.pickle\u001b[0m\n",
            "    │   │   └── \u001b[00mturkish.pickle\u001b[0m\n",
            "    │   ├── \u001b[00mREADME\u001b[0m\n",
            "    │   ├── \u001b[00mrussian.pickle\u001b[0m\n",
            "    │   ├── \u001b[00mslovene.pickle\u001b[0m\n",
            "    │   ├── \u001b[00mspanish.pickle\u001b[0m\n",
            "    │   ├── \u001b[00mswedish.pickle\u001b[0m\n",
            "    │   └── \u001b[00mturkish.pickle\u001b[0m\n",
            "    ├── \u001b[01;34mpunkt_tab\u001b[0m\n",
            "    │   ├── \u001b[01;34mczech\u001b[0m\n",
            "    │   │   ├── \u001b[00mabbrev_types.txt\u001b[0m\n",
            "    │   │   ├── \u001b[00mcollocations.tab\u001b[0m\n",
            "    │   │   ├── \u001b[00mortho_context.tab\u001b[0m\n",
            "    │   │   └── \u001b[00msent_starters.txt\u001b[0m\n",
            "    │   ├── \u001b[01;34mdanish\u001b[0m\n",
            "    │   │   ├── \u001b[00mabbrev_types.txt\u001b[0m\n",
            "    │   │   ├── \u001b[00mcollocations.tab\u001b[0m\n",
            "    │   │   ├── \u001b[00mortho_context.tab\u001b[0m\n",
            "    │   │   └── \u001b[00msent_starters.txt\u001b[0m\n",
            "    │   ├── \u001b[01;34mdutch\u001b[0m\n",
            "    │   │   ├── \u001b[00mabbrev_types.txt\u001b[0m\n",
            "    │   │   ├── \u001b[00mcollocations.tab\u001b[0m\n",
            "    │   │   ├── \u001b[00mortho_context.tab\u001b[0m\n",
            "    │   │   └── \u001b[00msent_starters.txt\u001b[0m\n",
            "    │   ├── \u001b[01;34menglish\u001b[0m\n",
            "    │   │   ├── \u001b[00mabbrev_types.txt\u001b[0m\n",
            "    │   │   ├── \u001b[00mcollocations.tab\u001b[0m\n",
            "    │   │   ├── \u001b[00mortho_context.tab\u001b[0m\n",
            "    │   │   └── \u001b[00msent_starters.txt\u001b[0m\n",
            "    │   ├── \u001b[01;34mestonian\u001b[0m\n",
            "    │   │   ├── \u001b[00mabbrev_types.txt\u001b[0m\n",
            "    │   │   ├── \u001b[00mcollocations.tab\u001b[0m\n",
            "    │   │   ├── \u001b[00mortho_context.tab\u001b[0m\n",
            "    │   │   └── \u001b[00msent_starters.txt\u001b[0m\n",
            "    │   ├── \u001b[01;34mfinnish\u001b[0m\n",
            "    │   │   ├── \u001b[00mabbrev_types.txt\u001b[0m\n",
            "    │   │   ├── \u001b[00mcollocations.tab\u001b[0m\n",
            "    │   │   ├── \u001b[00mortho_context.tab\u001b[0m\n",
            "    │   │   └── \u001b[00msent_starters.txt\u001b[0m\n",
            "    │   ├── \u001b[01;34mfrench\u001b[0m\n",
            "    │   │   ├── \u001b[00mabbrev_types.txt\u001b[0m\n",
            "    │   │   ├── \u001b[00mcollocations.tab\u001b[0m\n",
            "    │   │   ├── \u001b[00mortho_context.tab\u001b[0m\n",
            "    │   │   └── \u001b[00msent_starters.txt\u001b[0m\n",
            "    │   ├── \u001b[01;34mgerman\u001b[0m\n",
            "    │   │   ├── \u001b[00mabbrev_types.txt\u001b[0m\n",
            "    │   │   ├── \u001b[00mcollocations.tab\u001b[0m\n",
            "    │   │   ├── \u001b[00mortho_context.tab\u001b[0m\n",
            "    │   │   └── \u001b[00msent_starters.txt\u001b[0m\n",
            "    │   ├── \u001b[01;34mgreek\u001b[0m\n",
            "    │   │   ├── \u001b[00mabbrev_types.txt\u001b[0m\n",
            "    │   │   ├── \u001b[00mcollocations.tab\u001b[0m\n",
            "    │   │   ├── \u001b[00mortho_context.tab\u001b[0m\n",
            "    │   │   └── \u001b[00msent_starters.txt\u001b[0m\n",
            "    │   ├── \u001b[01;34mitalian\u001b[0m\n",
            "    │   │   ├── \u001b[00mabbrev_types.txt\u001b[0m\n",
            "    │   │   ├── \u001b[00mcollocations.tab\u001b[0m\n",
            "    │   │   ├── \u001b[00mortho_context.tab\u001b[0m\n",
            "    │   │   └── \u001b[00msent_starters.txt\u001b[0m\n",
            "    │   ├── \u001b[01;34mmalayalam\u001b[0m\n",
            "    │   │   ├── \u001b[00mabbrev_types.txt\u001b[0m\n",
            "    │   │   ├── \u001b[00mcollocations.tab\u001b[0m\n",
            "    │   │   ├── \u001b[00mortho_context.tab\u001b[0m\n",
            "    │   │   └── \u001b[00msent_starters.txt\u001b[0m\n",
            "    │   ├── \u001b[01;34mnorwegian\u001b[0m\n",
            "    │   │   ├── \u001b[00mabbrev_types.txt\u001b[0m\n",
            "    │   │   ├── \u001b[00mcollocations.tab\u001b[0m\n",
            "    │   │   ├── \u001b[00mortho_context.tab\u001b[0m\n",
            "    │   │   └── \u001b[00msent_starters.txt\u001b[0m\n",
            "    │   ├── \u001b[01;34mpolish\u001b[0m\n",
            "    │   │   ├── \u001b[00mabbrev_types.txt\u001b[0m\n",
            "    │   │   ├── \u001b[00mcollocations.tab\u001b[0m\n",
            "    │   │   ├── \u001b[00mortho_context.tab\u001b[0m\n",
            "    │   │   └── \u001b[00msent_starters.txt\u001b[0m\n",
            "    │   ├── \u001b[01;34mportuguese\u001b[0m\n",
            "    │   │   ├── \u001b[00mabbrev_types.txt\u001b[0m\n",
            "    │   │   ├── \u001b[00mcollocations.tab\u001b[0m\n",
            "    │   │   ├── \u001b[00mortho_context.tab\u001b[0m\n",
            "    │   │   └── \u001b[00msent_starters.txt\u001b[0m\n",
            "    │   ├── \u001b[00mREADME\u001b[0m\n",
            "    │   ├── \u001b[01;34mrussian\u001b[0m\n",
            "    │   │   ├── \u001b[00mabbrev_types.txt\u001b[0m\n",
            "    │   │   ├── \u001b[00mcollocations.tab\u001b[0m\n",
            "    │   │   ├── \u001b[00mortho_context.tab\u001b[0m\n",
            "    │   │   └── \u001b[00msent_starters.txt\u001b[0m\n",
            "    │   ├── \u001b[01;34mslovene\u001b[0m\n",
            "    │   │   ├── \u001b[00mabbrev_types.txt\u001b[0m\n",
            "    │   │   ├── \u001b[00mcollocations.tab\u001b[0m\n",
            "    │   │   ├── \u001b[00mortho_context.tab\u001b[0m\n",
            "    │   │   └── \u001b[00msent_starters.txt\u001b[0m\n",
            "    │   ├── \u001b[01;34mspanish\u001b[0m\n",
            "    │   │   ├── \u001b[00mabbrev_types.txt\u001b[0m\n",
            "    │   │   ├── \u001b[00mcollocations.tab\u001b[0m\n",
            "    │   │   ├── \u001b[00mortho_context.tab\u001b[0m\n",
            "    │   │   └── \u001b[00msent_starters.txt\u001b[0m\n",
            "    │   ├── \u001b[01;34mswedish\u001b[0m\n",
            "    │   │   ├── \u001b[00mabbrev_types.txt\u001b[0m\n",
            "    │   │   ├── \u001b[00mcollocations.tab\u001b[0m\n",
            "    │   │   ├── \u001b[00mortho_context.tab\u001b[0m\n",
            "    │   │   └── \u001b[00msent_starters.txt\u001b[0m\n",
            "    │   └── \u001b[01;34mturkish\u001b[0m\n",
            "    │       ├── \u001b[00mabbrev_types.txt\u001b[0m\n",
            "    │       ├── \u001b[00mcollocations.tab\u001b[0m\n",
            "    │       ├── \u001b[00mortho_context.tab\u001b[0m\n",
            "    │       └── \u001b[00msent_starters.txt\u001b[0m\n",
            "    ├── \u001b[01;31mpunkt_tab.zip\u001b[0m\n",
            "    └── \u001b[01;31mpunkt.zip\u001b[0m\n",
            "\n",
            "25 directories, 140 files\n"
          ]
        }
      ],
      "source": [
        "!tree -a /root/nltk_data"
      ]
    },
    {
      "cell_type": "code",
      "execution_count": 14,
      "metadata": {
        "colab": {
          "base_uri": "https://localhost:8080/"
        },
        "id": "Vt_TFMIgdc2g",
        "outputId": "ca9a40e7-f681-40c9-8a11-5906859216d2"
      },
      "outputs": [
        {
          "name": "stdout",
          "output_type": "stream",
          "text": [
            "[The Tragedie of Macbeth by William Shakespeare 1603]\n",
            "\n",
            "\n",
            "Actus Primus. Scoena Prima.\n",
            "\n",
            "Thunder and Lightning. Enter three Witches.\n",
            "\n",
            "  1. When shall we three meet againe?\n",
            "In Thunder, Lightning, or in Raine?\n",
            "  2. When the Hurley-burley's done,\n"
          ]
        }
      ],
      "source": [
        "!head /root/nltk_data/corpora/gutenberg/shakespeare-macbeth.txt"
      ]
    },
    {
      "cell_type": "code",
      "execution_count": 15,
      "metadata": {
        "colab": {
          "base_uri": "https://localhost:8080/",
          "height": 205
        },
        "id": "N_XZpN-cr6Ve",
        "outputId": "1a9c9ffd-4af8-410b-aaec-3c053a75695e"
      },
      "outputs": [
        {
          "name": "stdout",
          "output_type": "stream",
          "text": [
            "[['[', 'The', 'Tragedie', 'of', 'Macbeth', 'by', 'William', 'Shakespeare', '1603', ']'], ['Actus', 'Primus', '.'], ...]\n"
          ]
        },
        {
          "data": {
            "text/html": [
              "<div style=\"max-width:800px; border: 1px solid var(--colab-border-color);\"><style>\n",
              "      pre.function-repr-contents {\n",
              "        overflow-x: auto;\n",
              "        padding: 8px 12px;\n",
              "        max-height: 500px;\n",
              "      }\n",
              "\n",
              "      pre.function-repr-contents.function-repr-contents-collapsed {\n",
              "        cursor: pointer;\n",
              "        max-height: 100px;\n",
              "      }\n",
              "    </style>\n",
              "    <pre style=\"white-space: initial; background:\n",
              "         var(--colab-secondary-surface-color); padding: 8px 12px;\n",
              "         border-bottom: 1px solid var(--colab-border-color);\"><b>nltk.corpus.reader.util.StreamBackedCorpusView</b><br/>def __init__(fileid, block_reader=None, startpos=0, encoding=&#x27;utf8&#x27;)</pre><pre class=\"function-repr-contents function-repr-contents-collapsed\" style=\"\"><a class=\"filepath\" style=\"display:none\" href=\"#\">/usr/local/lib/python3.11/dist-packages/nltk/corpus/reader/util.py</a>A &#x27;view&#x27; of a corpus file, which acts like a sequence of tokens:\n",
              "it can be accessed by index, iterated over, etc.  However, the\n",
              "tokens are only constructed as-needed -- the entire corpus is\n",
              "never stored in memory at once.\n",
              "\n",
              "The constructor to ``StreamBackedCorpusView`` takes two arguments:\n",
              "a corpus fileid (specified as a string or as a ``PathPointer``);\n",
              "and a block reader.  A &quot;block reader&quot; is a function that reads\n",
              "zero or more tokens from a stream, and returns them as a list.  A\n",
              "very simple example of a block reader is:\n",
              "\n",
              "    &gt;&gt;&gt; def simple_block_reader(stream):\n",
              "    ...     return stream.readline().split()\n",
              "\n",
              "This simple block reader reads a single line at a time, and\n",
              "returns a single token (consisting of a string) for each\n",
              "whitespace-separated substring on the line.\n",
              "\n",
              "When deciding how to define the block reader for a given\n",
              "corpus, careful consideration should be given to the size of\n",
              "blocks handled by the block reader.  Smaller block sizes will\n",
              "increase the memory requirements of the corpus view&#x27;s internal\n",
              "data structures (by 2 integers per block).  On the other hand,\n",
              "larger block sizes may decrease performance for random access to\n",
              "the corpus.  (But note that larger block sizes will *not*\n",
              "decrease performance for iteration.)\n",
              "\n",
              "Internally, ``CorpusView`` maintains a partial mapping from token\n",
              "index to file position, with one entry per block.  When a token\n",
              "with a given index *i* is requested, the ``CorpusView`` constructs\n",
              "it as follows:\n",
              "\n",
              "  1. First, it searches the toknum/filepos mapping for the token\n",
              "     index closest to (but less than or equal to) *i*.\n",
              "\n",
              "  2. Then, starting at the file position corresponding to that\n",
              "     index, it reads one block at a time using the block reader\n",
              "     until it reaches the requested token.\n",
              "\n",
              "The toknum/filepos mapping is created lazily: it is initially\n",
              "empty, but every time a new block is read, the block&#x27;s\n",
              "initial token is added to the mapping.  (Thus, the toknum/filepos\n",
              "map has one entry per block.)\n",
              "\n",
              "In order to increase efficiency for random access patterns that\n",
              "have high degrees of locality, the corpus view may cache one or\n",
              "more blocks.\n",
              "\n",
              ":note: Each ``CorpusView`` object internally maintains an open file\n",
              "    object for its underlying corpus file.  This file should be\n",
              "    automatically closed when the ``CorpusView`` is garbage collected,\n",
              "    but if you wish to close it manually, use the ``close()``\n",
              "    method.  If you access a ``CorpusView``&#x27;s items after it has been\n",
              "    closed, the file object will be automatically re-opened.\n",
              "\n",
              ":warning: If the contents of the file are modified during the\n",
              "    lifetime of the ``CorpusView``, then the ``CorpusView``&#x27;s behavior\n",
              "    is undefined.\n",
              "\n",
              ":warning: If a unicode encoding is specified when constructing a\n",
              "    ``CorpusView``, then the block reader may only call\n",
              "    ``stream.seek()`` with offsets that have been returned by\n",
              "    ``stream.tell()``; in particular, calling ``stream.seek()`` with\n",
              "    relative offsets, or with offsets based on string lengths, may\n",
              "    lead to incorrect behavior.\n",
              "\n",
              ":ivar _block_reader: The function used to read\n",
              "    a single block from the underlying file stream.\n",
              ":ivar _toknum: A list containing the token index of each block\n",
              "    that has been processed.  In particular, ``_toknum[i]`` is the\n",
              "    token index of the first token in block ``i``.  Together\n",
              "    with ``_filepos``, this forms a partial mapping between token\n",
              "    indices and file positions.\n",
              ":ivar _filepos: A list containing the file position of each block\n",
              "    that has been processed.  In particular, ``_toknum[i]`` is the\n",
              "    file position of the first character in block ``i``.  Together\n",
              "    with ``_toknum``, this forms a partial mapping between token\n",
              "    indices and file positions.\n",
              ":ivar _stream: The stream used to access the underlying corpus file.\n",
              ":ivar _len: The total number of tokens in the corpus, if known;\n",
              "    or None, if the number of tokens is not yet known.\n",
              ":ivar _eofpos: The character position of the last character in the\n",
              "    file.  This is calculated when the corpus view is initialized,\n",
              "    and is used to decide when the end of file has been reached.\n",
              ":ivar _cache: A cache of the most recently read block.  It\n",
              "   is encoded as a tuple (start_toknum, end_toknum, tokens), where\n",
              "   start_toknum is the token index of the first token in the block;\n",
              "   end_toknum is the token index of the first token not in the\n",
              "   block; and tokens is a list of the tokens in the block.</pre>\n",
              "      <script>\n",
              "      if (google.colab.kernel.accessAllowed && google.colab.files && google.colab.files.view) {\n",
              "        for (const element of document.querySelectorAll('.filepath')) {\n",
              "          element.style.display = 'block'\n",
              "          element.onclick = (event) => {\n",
              "            event.preventDefault();\n",
              "            event.stopPropagation();\n",
              "            google.colab.files.view(element.textContent, 32);\n",
              "          };\n",
              "        }\n",
              "      }\n",
              "      for (const element of document.querySelectorAll('.function-repr-contents')) {\n",
              "        element.onclick = (event) => {\n",
              "          event.preventDefault();\n",
              "          event.stopPropagation();\n",
              "          element.classList.toggle('function-repr-contents-collapsed');\n",
              "        };\n",
              "      }\n",
              "      </script>\n",
              "      </div>"
            ],
            "text/plain": [
              "nltk.corpus.reader.util.StreamBackedCorpusView"
            ]
          },
          "execution_count": 15,
          "metadata": {},
          "output_type": "execute_result"
        }
      ],
      "source": [
        "import nltk\n",
        "from nltk.corpus import gutenberg\n",
        "\n",
        "# /root/nltk_data/corpora/gutenberg/shakespeare-macbeth.txt\n",
        "# /root/nltk_data/corpora/gutenberg/shakespeare-hamlet.txt\n",
        "# /root/nltk_data/corpora/gutenberg/shakespeare-caesar.txt\n",
        "plays = [\"shakespeare-macbeth.txt\", \"shakespeare-hamlet.txt\", \"shakespeare-caesar.txt\"]\n",
        "# for ply in plays:\n",
        "#     print(\"ply:\", ply)\n",
        "#     print(gutenberg.sents(ply))\n",
        "#     for s in gutenberg.sents(ply):\n",
        "#         print(\" \".join(s))\n",
        "#     print(\"--------\" * 3)\n",
        "print(gutenberg.sents(\"shakespeare-macbeth.txt\"))\n",
        "type(gutenberg.sents(\"shakespeare-macbeth.txt\"))"
      ]
    },
    {
      "cell_type": "code",
      "execution_count": 16,
      "metadata": {
        "colab": {
          "base_uri": "https://localhost:8080/"
        },
        "id": "Zp_QPaoUdWhb",
        "outputId": "9ff14c5c-f0eb-49b4-d7ff-80190d9100dd"
      },
      "outputs": [
        {
          "data": {
            "text/plain": [
              "list"
            ]
          },
          "execution_count": 16,
          "metadata": {},
          "output_type": "execute_result"
        }
      ],
      "source": [
        "shakespeare = [\" \".join(s) for ply in plays for s in gutenberg.sents(ply)]\n",
        "type(shakespeare)"
      ]
    },
    {
      "cell_type": "code",
      "execution_count": 17,
      "metadata": {
        "colab": {
          "base_uri": "https://localhost:8080/",
          "height": 35
        },
        "id": "CcFjFzVxfcLx",
        "outputId": "844c7bec-4e83-4ef3-95af-eb215fb14469"
      },
      "outputs": [
        {
          "data": {
            "application/vnd.google.colaboratory.intrinsic+json": {
              "type": "string"
            },
            "text/plain": [
              "'[ The Tragedie of Macbeth by William Shakespeare 1603 ]'"
            ]
          },
          "execution_count": 17,
          "metadata": {},
          "output_type": "execute_result"
        }
      ],
      "source": [
        "shakespeare[0]"
      ]
    },
    {
      "cell_type": "code",
      "execution_count": 18,
      "metadata": {
        "colab": {
          "base_uri": "https://localhost:8080/"
        },
        "id": "cH8vSfudfoXd",
        "outputId": "e4b920ba-b251-45d6-ec0d-6003b828294d"
      },
      "outputs": [
        {
          "data": {
            "text/plain": [
              "str"
            ]
          },
          "execution_count": 18,
          "metadata": {},
          "output_type": "execute_result"
        }
      ],
      "source": [
        "type(shakespeare[0])"
      ]
    },
    {
      "cell_type": "code",
      "execution_count": 19,
      "metadata": {
        "colab": {
          "base_uri": "https://localhost:8080/"
        },
        "id": "S7InkifCfhwK",
        "outputId": "47e520e3-ab97-4b6f-f542-641236845788"
      },
      "outputs": [
        {
          "data": {
            "text/plain": [
              "['[ The Tragedie of Macbeth by William Shakespeare 1603 ]',\n",
              " 'Actus Primus .',\n",
              " 'Scoena Prima .',\n",
              " 'Thunder and Lightning .']"
            ]
          },
          "execution_count": 19,
          "metadata": {},
          "output_type": "execute_result"
        }
      ],
      "source": [
        "shakespeare[0:4]"
      ]
    },
    {
      "cell_type": "code",
      "execution_count": 20,
      "metadata": {
        "colab": {
          "base_uri": "https://localhost:8080/"
        },
        "id": "xoUf31Wxr6Vf",
        "outputId": "4aa1b3bd-e5e0-4782-d63b-7320e166cab4"
      },
      "outputs": [
        {
          "name": "stdout",
          "output_type": "stream",
          "text": [
            "special_tokens: ['[UNK]', '[CLS]', '[SEP]', '[PAD]', '[MASK]']\n",
            "temp_proc: TemplateProcessing(single=[SpecialToken(id=\"[CLS]\", type_id=0), Sequence(id=A, type_id=0), SpecialToken(id=\"[SEP]\", type_id=0)], pair=[SpecialToken(id=\"[CLS]\", type_id=0), Sequence(id=A, type_id=0), SpecialToken(id=\"[SEP]\", type_id=0), Sequence(id=B, type_id=1), SpecialToken(id=\"[SEP]\", type_id=1)], special_tokens={\"[CLS]\":SpecialToken(id=\"[CLS]\", ids=[1], tokens=[\"[CLS]\"]), \"[SEP]\":SpecialToken(id=\"[SEP]\", ids=[2], tokens=[\"[SEP]\"])})\n"
          ]
        }
      ],
      "source": [
        "from tokenizers.processors import TemplateProcessing\n",
        "\n",
        "special_tokens = [\"[UNK]\", \"[CLS]\", \"[SEP]\", \"[PAD]\", \"[MASK]\"]\n",
        "print(\"special_tokens:\", special_tokens)\n",
        "\n",
        "temp_proc = TemplateProcessing(\n",
        "    single=\"[CLS] $A [SEP]\",\n",
        "    pair=\"[CLS] $A [SEP] $B:1 [SEP]:1\",\n",
        "    special_tokens=[\n",
        "        (\"[CLS]\", special_tokens.index(\"[CLS]\")),\n",
        "        (\"[SEP]\", special_tokens.index(\"[SEP]\")),\n",
        "    ],\n",
        ")\n",
        "\n",
        "\"\"\"\n",
        "TemplateProcessing(\n",
        "    single=[\n",
        "        SpecialToken(id=\"[CLS]\", type_id=0),\n",
        "        Sequence(id=A, type_id=0),\n",
        "        SpecialToken(id=\"[SEP]\", type_id=0)\n",
        "    ],\n",
        "    pair=[\n",
        "        SpecialToken(id=\"[CLS]\", type_id=0),\n",
        "        Sequence(id=A, type_id=0),\n",
        "        SpecialToken(id=\"[SEP]\", type_id=0),\n",
        "        Sequence(id=B, type_id=1),\n",
        "        SpecialToken(id=\"[SEP]\", type_id=1)\n",
        "    ],\n",
        "    special_tokens={\n",
        "        \"[CLS]\": SpecialToken(id=\"[CLS]\", ids=[1], tokens=[\"[CLS]\"]),\n",
        "        \"[SEP]\":SpecialToken(id=\"[SEP]\", ids=[2], tokens=[\"[SEP]\"])\n",
        "    }\n",
        ")\n",
        "\"\"\"\n",
        "print(\"temp_proc:\", temp_proc)"
      ]
    },
    {
      "cell_type": "markdown",
      "metadata": {
        "id": "fIY49Bv7r6Vf"
      },
      "source": [
        "## Training BPE"
      ]
    },
    {
      "cell_type": "code",
      "execution_count": 21,
      "metadata": {
        "colab": {
          "base_uri": "https://localhost:8080/"
        },
        "id": "mkfZRm2Sh0Tz",
        "outputId": "9e4ab57f-e7bc-448a-9605-9a51c42d9c32"
      },
      "outputs": [
        {
          "data": {
            "text/plain": [
              "Tokenizer(version=\"1.0\", truncation=None, padding=None, added_tokens=[], normalizer=None, pre_tokenizer=None, post_processor=None, decoder=None, model=BPE(dropout=None, unk_token=None, continuing_subword_prefix=None, end_of_word_suffix=None, fuse_unk=False, byte_fallback=False, ignore_merges=False, vocab={}, merges=[]))"
            ]
          },
          "execution_count": 21,
          "metadata": {},
          "output_type": "execute_result"
        }
      ],
      "source": [
        "from tokenizers import Tokenizer\n",
        "from tokenizers.models import BPE\n",
        "from tokenizers.normalizers import Sequence, NFD, Lowercase, StripAccents\n",
        "from tokenizers.pre_tokenizers import Whitespace\n",
        "from tokenizers.decoders import BPEDecoder\n",
        "\n",
        "# Instantiate BPE (Byte-Pair Encoding)\n",
        "tokenizer = Tokenizer(BPE())\n",
        "\n",
        "\"\"\"\n",
        "Tokenizer(\n",
        "    version=\"1.0\",\n",
        "    truncation=None,\n",
        "    padding=None,\n",
        "    added_tokens=[],\n",
        "    normalizer=None,\n",
        "    pre_tokenizer=None,\n",
        "    post_processor=None,\n",
        "    decoder=None,\n",
        "    model=BPE(\n",
        "        dropout=None,\n",
        "        unk_token=None,\n",
        "        continuing_subword_prefix=None,\n",
        "        end_of_word_suffix=None,\n",
        "        fuse_unk=False,\n",
        "        byte_fallback=False,\n",
        "        ignore_merges=False,\n",
        "        vocab={},\n",
        "        merges=[]\n",
        "    )\n",
        ")\n",
        "\"\"\"\n",
        "tokenizer"
      ]
    },
    {
      "cell_type": "code",
      "execution_count": 22,
      "metadata": {
        "colab": {
          "base_uri": "https://localhost:8080/"
        },
        "id": "Gkc208zBhTY0",
        "outputId": "5da1d6da-e3da-492c-f2fd-afa2087a2313"
      },
      "outputs": [
        {
          "data": {
            "text/plain": [
              "Tokenizer(version=\"1.0\", truncation=None, padding=None, added_tokens=[], normalizer=Sequence(normalizers=[NFD(), Lowercase(), StripAccents()]), pre_tokenizer=Whitespace(), post_processor=TemplateProcessing(single=[SpecialToken(id=\"[CLS]\", type_id=0), Sequence(id=A, type_id=0), SpecialToken(id=\"[SEP]\", type_id=0)], pair=[SpecialToken(id=\"[CLS]\", type_id=0), Sequence(id=A, type_id=0), SpecialToken(id=\"[SEP]\", type_id=0), Sequence(id=B, type_id=1), SpecialToken(id=\"[SEP]\", type_id=1)], special_tokens={\"[CLS]\":SpecialToken(id=\"[CLS]\", ids=[1], tokens=[\"[CLS]\"]), \"[SEP]\":SpecialToken(id=\"[SEP]\", ids=[2], tokens=[\"[SEP]\"])}), decoder=BPEDecoder(suffix=\"</w>\"), model=BPE(dropout=None, unk_token=None, continuing_subword_prefix=None, end_of_word_suffix=None, fuse_unk=False, byte_fallback=False, ignore_merges=False, vocab={}, merges=[]))"
            ]
          },
          "execution_count": 22,
          "metadata": {},
          "output_type": "execute_result"
        }
      ],
      "source": [
        "# a unicode normalizer, lowercasing and , replacing accents in order  :\n",
        "# * Sequence : It composes multiple PreTokenizer that will be run in the given order\n",
        "tokenizer.normalizer = Sequence([NFD(), Lowercase(), StripAccents()])\n",
        "\n",
        "# Whitespace: Splits on word boundaries using the regular expression \\w+|[^\\w\\s]+\n",
        "tokenizer.pre_tokenizer = Whitespace()\n",
        "tokenizer.decoder = BPEDecoder()\n",
        "tokenizer.post_processor = temp_proc\n",
        "tokenizer"
      ]
    },
    {
      "cell_type": "markdown",
      "metadata": {
        "id": "1L-0PgEhr6Vg"
      },
      "source": [
        "We are ready to train the model"
      ]
    },
    {
      "cell_type": "code",
      "execution_count": 23,
      "metadata": {
        "colab": {
          "base_uri": "https://localhost:8080/"
        },
        "id": "Ikfle7-fizWI",
        "outputId": "65b5d426-167d-4e1b-e807-434a3a25e166"
      },
      "outputs": [
        {
          "name": "stdout",
          "output_type": "stream",
          "text": [
            "Trained vocab size: 5000\n"
          ]
        }
      ],
      "source": [
        "from tokenizers.trainers import BpeTrainer\n",
        "\n",
        "trainer = BpeTrainer(vocab_size=5000, special_tokens=special_tokens)\n",
        "tokenizer.train_from_iterator(shakespeare, trainer=trainer)\n",
        "print(f\"Trained vocab size: {tokenizer.get_vocab_size()}\")"
      ]
    },
    {
      "cell_type": "code",
      "execution_count": 24,
      "metadata": {
        "colab": {
          "base_uri": "https://localhost:8080/"
        },
        "id": "uBV4W4eovhr5",
        "outputId": "0657609e-8d25-4a47-d9e8-f6296ed20072"
      },
      "outputs": [
        {
          "name": "stdout",
          "output_type": "stream",
          "text": [
            "Output: ['[CLS]', 'is', 'this', 'a', 'dagger', 'which', 'i', 'see', 'before', 'me', ',', 'the', 'hand', 'le', 'toward', 'my', 'hand', '?', '[SEP]']\n"
          ]
        }
      ],
      "source": [
        "sen = \"Is this a dagger which I see before me, the handle toward my hand?\"\n",
        "sen_enc = tokenizer.encode(sen)\n",
        "print(f\"Output: {format(sen_enc.tokens)}\")"
      ]
    },
    {
      "cell_type": "code",
      "execution_count": 25,
      "metadata": {
        "colab": {
          "base_uri": "https://localhost:8080/"
        },
        "id": "yoYfnvcKpvQJ",
        "outputId": "8d169905-2ea9-4c9d-e21a-7c24d09a1e7f"
      },
      "outputs": [
        {
          "name": "stdout",
          "output_type": "stream",
          "text": [
            "Output: ['[CLS]', 'macbeth', 'and', 'hu', 'gg', 'ing', 'face', '[SEP]']\n"
          ]
        }
      ],
      "source": [
        "sen_enc2 = tokenizer.encode(\"Macbeth and Hugging Face\")\n",
        "print(f\"Output: {format(sen_enc2.tokens)}\")"
      ]
    },
    {
      "cell_type": "code",
      "execution_count": 26,
      "metadata": {
        "colab": {
          "base_uri": "https://localhost:8080/"
        },
        "id": "ayD7kPfl-uYL",
        "outputId": "8abe3a4c-4ad4-4019-f479-b59c49d4458b"
      },
      "outputs": [
        {
          "name": "stdout",
          "output_type": "stream",
          "text": [
            "Output: ['[CLS]', 'i', 'like', 'hu', 'gg', 'ing', 'face', '!', '[SEP]', 'he', 'likes', 'macbeth', '!', '[SEP]']\n"
          ]
        }
      ],
      "source": [
        "two_enc = tokenizer.encode(\"I like Hugging Face!\", \"He likes Macbeth!\")\n",
        "print(f\"Output: {format(two_enc.tokens)}\")"
      ]
    },
    {
      "cell_type": "code",
      "execution_count": 27,
      "metadata": {
        "colab": {
          "base_uri": "https://localhost:8080/"
        },
        "id": "QCp2AGet-uaq",
        "outputId": "fb9ad94c-9660-4685-d37c-181fc5de4b2f"
      },
      "outputs": [
        {
          "name": "stdout",
          "output_type": "stream",
          "text": [
            "\u001b[01;34m./\u001b[0m\n",
            "\n",
            "0 directories, 0 files\n"
          ]
        }
      ],
      "source": [
        "!tree -a ./"
      ]
    },
    {
      "cell_type": "code",
      "execution_count": 28,
      "metadata": {
        "colab": {
          "base_uri": "https://localhost:8080/"
        },
        "id": "_s5-XzSPrdKi",
        "outputId": "48dbbc05-30d7-4d22-bf18-bcdbb21774d4"
      },
      "outputs": [
        {
          "data": {
            "text/plain": [
              "['./vocab.json', './merges.txt']"
            ]
          },
          "execution_count": 28,
          "metadata": {},
          "output_type": "execute_result"
        }
      ],
      "source": [
        "tokenizer.model.save(\".\")"
      ]
    },
    {
      "cell_type": "code",
      "execution_count": 29,
      "metadata": {
        "colab": {
          "base_uri": "https://localhost:8080/"
        },
        "id": "nNO5C4awi-P_",
        "outputId": "3ec99ac2-5213-458d-c400-de6b5062116f"
      },
      "outputs": [
        {
          "name": "stdout",
          "output_type": "stream",
          "text": [
            "\u001b[01;34m./\u001b[0m\n",
            "├── \u001b[00mmerges.txt\u001b[0m\n",
            "└── \u001b[00mvocab.json\u001b[0m\n",
            "\n",
            "0 directories, 2 files\n"
          ]
        }
      ],
      "source": [
        "!tree -a ./"
      ]
    },
    {
      "cell_type": "code",
      "execution_count": 30,
      "metadata": {
        "colab": {
          "base_uri": "https://localhost:8080/"
        },
        "id": "P74JPOQsrjxi",
        "outputId": "772b116f-bee1-4c32-e1a8-b55c90d247f6"
      },
      "outputs": [
        {
          "name": "stdout",
          "output_type": "stream",
          "text": [
            "4948 ./merges.txt\n"
          ]
        }
      ],
      "source": [
        "!wc -l ./merges.txt"
      ]
    },
    {
      "cell_type": "code",
      "execution_count": 31,
      "metadata": {
        "colab": {
          "base_uri": "https://localhost:8080/"
        },
        "id": "ipocLFsxsjim",
        "outputId": "72ab4980-73c8-4d89-d083-bbd01d7c48a4"
      },
      "outputs": [
        {
          "name": "stdout",
          "output_type": "stream",
          "text": [
            "#version: 0.2\n",
            "t h\n",
            "o u\n",
            "a n\n",
            "th e\n",
            "r e\n"
          ]
        }
      ],
      "source": [
        "!head -6 ./merges.txt"
      ]
    },
    {
      "cell_type": "code",
      "execution_count": 32,
      "metadata": {
        "colab": {
          "base_uri": "https://localhost:8080/"
        },
        "id": "p6IDCioesHTd",
        "outputId": "9ee2f676-8d7b-47e2-e97b-179b3022508a"
      },
      "outputs": [
        {
          "name": "stdout",
          "output_type": "stream",
          "text": [
            "ch ance\n",
            "si g\n",
            "your s\n",
            "ti a\n",
            "po int\n"
          ]
        }
      ],
      "source": [
        "!head -1000 ./merges.txt | tail -5"
      ]
    },
    {
      "cell_type": "code",
      "execution_count": 33,
      "metadata": {
        "id": "cJzzz-oTQq2E"
      },
      "outputs": [],
      "source": [
        "# Save and Load Tokenizer\n",
        "tokenizer.save(\"MyBPETokenizer.json\")"
      ]
    },
    {
      "cell_type": "code",
      "execution_count": 34,
      "metadata": {
        "colab": {
          "base_uri": "https://localhost:8080/"
        },
        "id": "mK3GbG0zjV8d",
        "outputId": "fe055d08-d31c-41ed-ca55-d8f3950005a3"
      },
      "outputs": [
        {
          "name": "stdout",
          "output_type": "stream",
          "text": [
            "\u001b[01;34m./\u001b[0m\n",
            "├── \u001b[00mmerges.txt\u001b[0m\n",
            "├── \u001b[00mMyBPETokenizer.json\u001b[0m\n",
            "└── \u001b[00mvocab.json\u001b[0m\n",
            "\n",
            "0 directories, 3 files\n"
          ]
        }
      ],
      "source": [
        "!tree -a ./"
      ]
    },
    {
      "cell_type": "code",
      "execution_count": 35,
      "metadata": {
        "colab": {
          "base_uri": "https://localhost:8080/"
        },
        "id": "cKz3zn2wjQ8f",
        "outputId": "9fe2e4e2-1fe1-4e00-d60e-1f26cf0f2a81"
      },
      "outputs": [
        {
          "name": "stdout",
          "output_type": "stream",
          "text": [
            "Output: ['[CLS]', 'i', 'like', 'hu', 'gg', 'ing', 'face', 'and', 'macbeth', '[SEP]']\n"
          ]
        }
      ],
      "source": [
        "tokenizerFromFile = Tokenizer.from_file(\"MyBPETokenizer.json\")\n",
        "sen_enc3 = tokenizerFromFile.encode(\"I like HuggingFace and Macbeth\")\n",
        "print(f\"Output: {format(sen_enc3.tokens)}\")"
      ]
    },
    {
      "cell_type": "markdown",
      "metadata": {
        "id": "7cqr6iYOr6Vm"
      },
      "source": [
        "## Training WordPiece"
      ]
    },
    {
      "cell_type": "code",
      "execution_count": 36,
      "metadata": {
        "colab": {
          "base_uri": "https://localhost:8080/"
        },
        "id": "3DZVqwXd37B3",
        "outputId": "e776c93b-3011-44e1-c7b5-c9fe065cd150"
      },
      "outputs": [
        {
          "data": {
            "text/plain": [
              "Tokenizer(version=\"1.0\", truncation=None, padding=None, added_tokens=[], normalizer=None, pre_tokenizer=None, post_processor=None, decoder=None, model=WordPiece(unk_token=\"[UNK]\", continuing_subword_prefix=\"##\", max_input_chars_per_word=100, vocab={}))"
            ]
          },
          "execution_count": 36,
          "metadata": {},
          "output_type": "execute_result"
        }
      ],
      "source": [
        "from tokenizers.models import WordPiece\n",
        "from tokenizers.decoders import WordPiece as WordPieceDecoder\n",
        "from tokenizers.normalizers import BertNormalizer\n",
        "\n",
        "# BERT normalizer includes cleaning the text, handling accents, chinese chars and lowercasing\n",
        "tokenizer = Tokenizer(WordPiece())\n",
        "tokenizer"
      ]
    },
    {
      "cell_type": "code",
      "execution_count": 37,
      "metadata": {
        "colab": {
          "base_uri": "https://localhost:8080/"
        },
        "id": "LYNOF0Nnjf9j",
        "outputId": "76d35506-aed1-4137-fc3a-057072b4e190"
      },
      "outputs": [
        {
          "data": {
            "text/plain": [
              "Tokenizer(version=\"1.0\", truncation=None, padding=None, added_tokens=[], normalizer=BertNormalizer(clean_text=True, handle_chinese_chars=True, strip_accents=None, lowercase=True), pre_tokenizer=Whitespace(), post_processor=None, decoder=WordPiece(prefix=\"##\", cleanup=True), model=WordPiece(unk_token=\"[UNK]\", continuing_subword_prefix=\"##\", max_input_chars_per_word=100, vocab={}))"
            ]
          },
          "execution_count": 37,
          "metadata": {},
          "output_type": "execute_result"
        }
      ],
      "source": [
        "tokenizer.normalizer = BertNormalizer()\n",
        "tokenizer.pre_tokenizer = Whitespace()\n",
        "tokenizer.decoder = WordPieceDecoder()\n",
        "tokenizer"
      ]
    },
    {
      "cell_type": "code",
      "execution_count": 38,
      "metadata": {
        "colab": {
          "base_uri": "https://localhost:8080/"
        },
        "id": "zIQrels54Jsn",
        "outputId": "8678173c-6502-4eb7-c7c6-47daff7cd2ef"
      },
      "outputs": [
        {
          "name": "stdout",
          "output_type": "stream",
          "text": [
            "['is', 'this', 'a', 'dagger', 'which', 'i', 'see', 'before', 'me', ',', 'the', 'hand', '##le', 'toward', 'my', 'hand', '?']\n"
          ]
        }
      ],
      "source": [
        "from tokenizers.trainers import WordPieceTrainer\n",
        "\n",
        "trainer = WordPieceTrainer(\n",
        "    vocab_size=5000, special_tokens=[\"[UNK]\", \"[CLS]\", \"[SEP]\", \"[PAD]\", \"[MASK]\"]\n",
        ")\n",
        "\n",
        "tokenizer.train_from_iterator(shakespeare, trainer=trainer)\n",
        "output = tokenizer.encode(sen)\n",
        "print(output.tokens)"
      ]
    },
    {
      "cell_type": "code",
      "execution_count": 39,
      "metadata": {
        "colab": {
          "base_uri": "https://localhost:8080/",
          "height": 35
        },
        "id": "kQ4zF1nN_4MZ",
        "outputId": "fb3d0336-99c2-41ef-88ba-262d4406f15e"
      },
      "outputs": [
        {
          "data": {
            "application/vnd.google.colaboratory.intrinsic+json": {
              "type": "string"
            },
            "text/plain": [
              "'is this a dagger which i see before me, the handle toward my hand?'"
            ]
          },
          "execution_count": 39,
          "metadata": {},
          "output_type": "execute_result"
        }
      ],
      "source": [
        "tokenizer.decode(output.ids)"
      ]
    },
    {
      "cell_type": "code",
      "execution_count": 40,
      "metadata": {
        "colab": {
          "base_uri": "https://localhost:8080/"
        },
        "id": "sdTfTeXYAP9b",
        "outputId": "608c5d9a-8e42-42a7-922f-a2e6f1f2e6e4"
      },
      "outputs": [
        {
          "data": {
            "text/plain": [
              "['[UNK]', '[UNK]', 'macbeth', '!']"
            ]
          },
          "execution_count": 40,
          "metadata": {},
          "output_type": "execute_result"
        }
      ],
      "source": [
        "tokenizer.encode(\"Kralsın aslansın Macbeth!\").tokens"
      ]
    },
    {
      "cell_type": "markdown",
      "metadata": {
        "id": "5pv1elLZr6Vq"
      },
      "source": [
        "## Pre-made tokenizers\n",
        "\n",
        "* CharBPETokenizer: The original BPE\n",
        "* ByteLevelBPETokenizer: The byte level version of the BPE\n",
        "* SentencePieceBPETokenizer: A BPE implementation compatible with the one used by SentencePiece\n",
        "* BertWordPieceTokenizer: The famous Bert tokenizer, using WordPiece"
      ]
    },
    {
      "cell_type": "code",
      "execution_count": 41,
      "metadata": {
        "colab": {
          "base_uri": "https://localhost:8080/"
        },
        "id": "RRlxQnDXj9i9",
        "outputId": "3734f72b-b6ed-408b-890e-5d64311a42dd"
      },
      "outputs": [
        {
          "data": {
            "text/plain": [
              "['AddedToken',\n",
              " 'BertWordPieceTokenizer',\n",
              " 'ByteLevelBPETokenizer',\n",
              " 'CharBPETokenizer',\n",
              " 'EncodeInput',\n",
              " 'Encoding',\n",
              " 'Enum',\n",
              " 'InputSequence',\n",
              " 'List',\n",
              " 'NormalizedString',\n",
              " 'OffsetReferential',\n",
              " 'OffsetType',\n",
              " 'Offsets',\n",
              " 'PreTokenizedEncodeInput',\n",
              " 'PreTokenizedInputSequence',\n",
              " 'PreTokenizedString',\n",
              " 'Regex',\n",
              " 'SentencePieceBPETokenizer',\n",
              " 'SentencePieceUnigramTokenizer',\n",
              " 'SplitDelimiterBehavior',\n",
              " 'TextEncodeInput',\n",
              " 'TextInputSequence',\n",
              " 'Token',\n",
              " 'Tokenizer',\n",
              " 'Tuple',\n",
              " 'Union',\n",
              " '__builtins__',\n",
              " '__cached__',\n",
              " '__doc__',\n",
              " '__file__',\n",
              " '__loader__',\n",
              " '__name__',\n",
              " '__package__',\n",
              " '__path__',\n",
              " '__spec__',\n",
              " '__version__',\n",
              " 'decoders',\n",
              " 'implementations',\n",
              " 'models',\n",
              " 'normalizers',\n",
              " 'pre_tokenizers',\n",
              " 'processors',\n",
              " 'tokenizers',\n",
              " 'trainers']"
            ]
          },
          "execution_count": 41,
          "metadata": {},
          "output_type": "execute_result"
        }
      ],
      "source": [
        "import tokenizers\n",
        "\n",
        "\"\"\"\n",
        "from tokenizers.processors import TemplateProcessing\n",
        "\n",
        "from tokenizers import Tokenizer\n",
        "\n",
        "from tokenizers.models import BPE\n",
        "from tokenizers.normalizers import Sequence, NFD, Lowercase, StripAccents\n",
        "from tokenizers.pre_tokenizers import Whitespace\n",
        "from tokenizers.decoders import BPEDecoder\n",
        "from tokenizers.trainers import BpeTrainer\n",
        "\n",
        "from tokenizers import (\n",
        "    ByteLevelBPETokenizer,\n",
        "    CharBPETokenizer,\n",
        "    SentencePieceBPETokenizer,\n",
        "    BertWordPieceTokenizer,\n",
        "    SentencePieceUnigramTokenizer,\n",
        ")\n",
        "\"\"\"\n",
        "\n",
        "dir(tokenizers)"
      ]
    },
    {
      "cell_type": "code",
      "execution_count": 42,
      "metadata": {
        "id": "HbpJJDbwr6Vq"
      },
      "outputs": [],
      "source": [
        "from tokenizers import (\n",
        "    ByteLevelBPETokenizer,\n",
        "    CharBPETokenizer,\n",
        "    SentencePieceBPETokenizer,\n",
        "    BertWordPieceTokenizer,\n",
        "    SentencePieceUnigramTokenizer,\n",
        ")"
      ]
    },
    {
      "cell_type": "code",
      "execution_count": 43,
      "metadata": {
        "colab": {
          "base_uri": "https://localhost:8080/"
        },
        "id": "ztQLBl-ar6Vq",
        "outputId": "d6b8c81c-899d-4943-ee97-2d217c8ebc69"
      },
      "outputs": [
        {
          "name": "stdout",
          "output_type": "stream",
          "text": [
            "NFKC()\n",
            "Metaspace(replacement=\"▁\", prepend_scheme=always, split=True)\n",
            "Metaspace(replacement=\"▁\", prepend_scheme=always, split=True)\n",
            "None\n"
          ]
        }
      ],
      "source": [
        "tokenizer = SentencePieceBPETokenizer()\n",
        "print(tokenizer.normalizer)\n",
        "print(tokenizer.pre_tokenizer)\n",
        "print(tokenizer.decoder)\n",
        "print(tokenizer.post_processor)"
      ]
    },
    {
      "cell_type": "code",
      "execution_count": 44,
      "metadata": {
        "colab": {
          "base_uri": "https://localhost:8080/"
        },
        "id": "-iroWw9Gr6Vr",
        "outputId": "29f9bab8-e1c0-49a8-d5ba-4ac69df315be"
      },
      "outputs": [
        {
          "name": "stdout",
          "output_type": "stream",
          "text": [
            "BertNormalizer(clean_text=True, handle_chinese_chars=True, strip_accents=None, lowercase=True)\n",
            "BertPreTokenizer()\n",
            "WordPiece(prefix=\"##\", cleanup=True)\n",
            "None\n"
          ]
        }
      ],
      "source": [
        "tokenizer = BertWordPieceTokenizer()\n",
        "print(tokenizer.normalizer)\n",
        "print(tokenizer.pre_tokenizer)\n",
        "print(tokenizer.decoder)\n",
        "print(tokenizer.post_processor)"
      ]
    },
    {
      "cell_type": "code",
      "execution_count": 44,
      "metadata": {
        "id": "gZppvrcpr6Vr"
      },
      "outputs": [],
      "source": []
    }
  ],
  "metadata": {
    "colab": {
      "provenance": []
    },
    "kernelspec": {
      "display_name": "Python 3",
      "name": "python3"
    },
    "language_info": {
      "codemirror_mode": {
        "name": "ipython",
        "version": 3
      },
      "file_extension": ".py",
      "mimetype": "text/x-python",
      "name": "python",
      "nbconvert_exporter": "python",
      "pygments_lexer": "ipython3",
      "version": "3.11.6"
    },
    "widgets": {
      "application/vnd.jupyter.widget-state+json": {
        "03445acc29de40bc8cde93800bfed5f5": {
          "model_module": "@jupyter-widgets/controls",
          "model_module_version": "1.5.0",
          "model_name": "DescriptionStyleModel",
          "state": {
            "_model_module": "@jupyter-widgets/controls",
            "_model_module_version": "1.5.0",
            "_model_name": "DescriptionStyleModel",
            "_view_count": null,
            "_view_module": "@jupyter-widgets/base",
            "_view_module_version": "1.2.0",
            "_view_name": "StyleView",
            "description_width": ""
          }
        },
        "035b7ed99b984093abb85ed02f86f4cf": {
          "model_module": "@jupyter-widgets/controls",
          "model_module_version": "1.5.0",
          "model_name": "HBoxModel",
          "state": {
            "_dom_classes": [],
            "_model_module": "@jupyter-widgets/controls",
            "_model_module_version": "1.5.0",
            "_model_name": "HBoxModel",
            "_view_count": null,
            "_view_module": "@jupyter-widgets/controls",
            "_view_module_version": "1.5.0",
            "_view_name": "HBoxView",
            "box_style": "",
            "children": [
              "IPY_MODEL_e53d3f72eb174287abceb966b786e5e2",
              "IPY_MODEL_305a6e104cfd44c88f1db4aba4a9aef6",
              "IPY_MODEL_a7dc09cb2db64581bfa8b2fa24599bf2"
            ],
            "layout": "IPY_MODEL_2e70f76bad824cfbb1b0b738165a1a1e"
          }
        },
        "04491cb34d294542a21d809c77fecfd7": {
          "model_module": "@jupyter-widgets/controls",
          "model_module_version": "1.5.0",
          "model_name": "HTMLModel",
          "state": {
            "_dom_classes": [],
            "_model_module": "@jupyter-widgets/controls",
            "_model_module_version": "1.5.0",
            "_model_name": "HTMLModel",
            "_view_count": null,
            "_view_module": "@jupyter-widgets/controls",
            "_view_module_version": "1.5.0",
            "_view_name": "HTMLView",
            "description": "",
            "description_tooltip": null,
            "layout": "IPY_MODEL_9c675da103e3438c94038a9d12746358",
            "placeholder": "​",
            "style": "IPY_MODEL_a98e144ebd074555862aa9bc528ac323",
            "value": "config.json: 100%"
          }
        },
        "07b66e61cd154bd192170d971253c680": {
          "model_module": "@jupyter-widgets/controls",
          "model_module_version": "1.5.0",
          "model_name": "DescriptionStyleModel",
          "state": {
            "_model_module": "@jupyter-widgets/controls",
            "_model_module_version": "1.5.0",
            "_model_name": "DescriptionStyleModel",
            "_view_count": null,
            "_view_module": "@jupyter-widgets/base",
            "_view_module_version": "1.2.0",
            "_view_name": "StyleView",
            "description_width": ""
          }
        },
        "0b5982aa7aba4bdab944faf25b2f3065": {
          "model_module": "@jupyter-widgets/base",
          "model_module_version": "1.2.0",
          "model_name": "LayoutModel",
          "state": {
            "_model_module": "@jupyter-widgets/base",
            "_model_module_version": "1.2.0",
            "_model_name": "LayoutModel",
            "_view_count": null,
            "_view_module": "@jupyter-widgets/base",
            "_view_module_version": "1.2.0",
            "_view_name": "LayoutView",
            "align_content": null,
            "align_items": null,
            "align_self": null,
            "border": null,
            "bottom": null,
            "display": null,
            "flex": null,
            "flex_flow": null,
            "grid_area": null,
            "grid_auto_columns": null,
            "grid_auto_flow": null,
            "grid_auto_rows": null,
            "grid_column": null,
            "grid_gap": null,
            "grid_row": null,
            "grid_template_areas": null,
            "grid_template_columns": null,
            "grid_template_rows": null,
            "height": null,
            "justify_content": null,
            "justify_items": null,
            "left": null,
            "margin": null,
            "max_height": null,
            "max_width": null,
            "min_height": null,
            "min_width": null,
            "object_fit": null,
            "object_position": null,
            "order": null,
            "overflow": null,
            "overflow_x": null,
            "overflow_y": null,
            "padding": null,
            "right": null,
            "top": null,
            "visibility": null,
            "width": null
          }
        },
        "0c3a0bdc2d634d4584cf0ab29fa7aaaf": {
          "model_module": "@jupyter-widgets/controls",
          "model_module_version": "1.5.0",
          "model_name": "HTMLModel",
          "state": {
            "_dom_classes": [],
            "_model_module": "@jupyter-widgets/controls",
            "_model_module_version": "1.5.0",
            "_model_name": "HTMLModel",
            "_view_count": null,
            "_view_module": "@jupyter-widgets/controls",
            "_view_module_version": "1.5.0",
            "_view_name": "HTMLView",
            "description": "",
            "description_tooltip": null,
            "layout": "IPY_MODEL_49bb464e0d024e7caeee6c9d3b7fcce4",
            "placeholder": "​",
            "style": "IPY_MODEL_e75052be32b84869bda27d735f6bca41",
            "value": " 59.0/59.0 [00:00&lt;00:00, 4.98kB/s]"
          }
        },
        "0e7754ec4be54209ad627a2da2dd663e": {
          "model_module": "@jupyter-widgets/controls",
          "model_module_version": "1.5.0",
          "model_name": "HTMLModel",
          "state": {
            "_dom_classes": [],
            "_model_module": "@jupyter-widgets/controls",
            "_model_module_version": "1.5.0",
            "_model_name": "HTMLModel",
            "_view_count": null,
            "_view_module": "@jupyter-widgets/controls",
            "_view_module_version": "1.5.0",
            "_view_name": "HTMLView",
            "description": "",
            "description_tooltip": null,
            "layout": "IPY_MODEL_f6be7c26d759492db73fd49b38efc4f5",
            "placeholder": "​",
            "style": "IPY_MODEL_5d626e1d93e34e95a8a3d197b18ba046",
            "value": "tokenizer_config.json: 100%"
          }
        },
        "1aec74410d634ee888ceb31097833f27": {
          "model_module": "@jupyter-widgets/controls",
          "model_module_version": "1.5.0",
          "model_name": "FloatProgressModel",
          "state": {
            "_dom_classes": [],
            "_model_module": "@jupyter-widgets/controls",
            "_model_module_version": "1.5.0",
            "_model_name": "FloatProgressModel",
            "_view_count": null,
            "_view_module": "@jupyter-widgets/controls",
            "_view_module_version": "1.5.0",
            "_view_name": "ProgressView",
            "bar_style": "success",
            "description": "",
            "description_tooltip": null,
            "layout": "IPY_MODEL_603710d274e748588d9734e686f4a9b4",
            "max": 262620,
            "min": 0,
            "orientation": "horizontal",
            "style": "IPY_MODEL_dd6bff75ee3d4917a3a35e14ed05ae49",
            "value": 262620
          }
        },
        "22431db2a64a46f7b5067d0c8bd757a0": {
          "model_module": "@jupyter-widgets/base",
          "model_module_version": "1.2.0",
          "model_name": "LayoutModel",
          "state": {
            "_model_module": "@jupyter-widgets/base",
            "_model_module_version": "1.2.0",
            "_model_name": "LayoutModel",
            "_view_count": null,
            "_view_module": "@jupyter-widgets/base",
            "_view_module_version": "1.2.0",
            "_view_name": "LayoutView",
            "align_content": null,
            "align_items": null,
            "align_self": null,
            "border": null,
            "bottom": null,
            "display": null,
            "flex": null,
            "flex_flow": null,
            "grid_area": null,
            "grid_auto_columns": null,
            "grid_auto_flow": null,
            "grid_auto_rows": null,
            "grid_column": null,
            "grid_gap": null,
            "grid_row": null,
            "grid_template_areas": null,
            "grid_template_columns": null,
            "grid_template_rows": null,
            "height": null,
            "justify_content": null,
            "justify_items": null,
            "left": null,
            "margin": null,
            "max_height": null,
            "max_width": null,
            "min_height": null,
            "min_width": null,
            "object_fit": null,
            "object_position": null,
            "order": null,
            "overflow": null,
            "overflow_x": null,
            "overflow_y": null,
            "padding": null,
            "right": null,
            "top": null,
            "visibility": null,
            "width": null
          }
        },
        "22cafc22f3bd4142a4b4c89195b993be": {
          "model_module": "@jupyter-widgets/controls",
          "model_module_version": "1.5.0",
          "model_name": "HTMLModel",
          "state": {
            "_dom_classes": [],
            "_model_module": "@jupyter-widgets/controls",
            "_model_module_version": "1.5.0",
            "_model_name": "HTMLModel",
            "_view_count": null,
            "_view_module": "@jupyter-widgets/controls",
            "_view_module_version": "1.5.0",
            "_view_name": "HTMLView",
            "description": "",
            "description_tooltip": null,
            "layout": "IPY_MODEL_78fc624be5634fab91cec442f372cf24",
            "placeholder": "​",
            "style": "IPY_MODEL_defd8909ed034fa0879867b02446331e",
            "value": " 263k/263k [00:00&lt;00:00, 5.33MB/s]"
          }
        },
        "250b7cb7240f46cfa439952caa26bdce": {
          "model_module": "@jupyter-widgets/controls",
          "model_module_version": "1.5.0",
          "model_name": "DescriptionStyleModel",
          "state": {
            "_model_module": "@jupyter-widgets/controls",
            "_model_module_version": "1.5.0",
            "_model_name": "DescriptionStyleModel",
            "_view_count": null,
            "_view_module": "@jupyter-widgets/base",
            "_view_module_version": "1.2.0",
            "_view_name": "StyleView",
            "description_width": ""
          }
        },
        "289a00e635e2458ca428d7aed86feae5": {
          "model_module": "@jupyter-widgets/base",
          "model_module_version": "1.2.0",
          "model_name": "LayoutModel",
          "state": {
            "_model_module": "@jupyter-widgets/base",
            "_model_module_version": "1.2.0",
            "_model_name": "LayoutModel",
            "_view_count": null,
            "_view_module": "@jupyter-widgets/base",
            "_view_module_version": "1.2.0",
            "_view_name": "LayoutView",
            "align_content": null,
            "align_items": null,
            "align_self": null,
            "border": null,
            "bottom": null,
            "display": null,
            "flex": null,
            "flex_flow": null,
            "grid_area": null,
            "grid_auto_columns": null,
            "grid_auto_flow": null,
            "grid_auto_rows": null,
            "grid_column": null,
            "grid_gap": null,
            "grid_row": null,
            "grid_template_areas": null,
            "grid_template_columns": null,
            "grid_template_rows": null,
            "height": null,
            "justify_content": null,
            "justify_items": null,
            "left": null,
            "margin": null,
            "max_height": null,
            "max_width": null,
            "min_height": null,
            "min_width": null,
            "object_fit": null,
            "object_position": null,
            "order": null,
            "overflow": null,
            "overflow_x": null,
            "overflow_y": null,
            "padding": null,
            "right": null,
            "top": null,
            "visibility": null,
            "width": null
          }
        },
        "2d521fd7860a4408a8c8bb5344f65acb": {
          "model_module": "@jupyter-widgets/controls",
          "model_module_version": "1.5.0",
          "model_name": "HBoxModel",
          "state": {
            "_dom_classes": [],
            "_model_module": "@jupyter-widgets/controls",
            "_model_module_version": "1.5.0",
            "_model_name": "HBoxModel",
            "_view_count": null,
            "_view_module": "@jupyter-widgets/controls",
            "_view_module_version": "1.5.0",
            "_view_name": "HBoxView",
            "box_style": "",
            "children": [
              "IPY_MODEL_828b0329b6cc4830aa1c8a65c3f172f9",
              "IPY_MODEL_1aec74410d634ee888ceb31097833f27",
              "IPY_MODEL_22cafc22f3bd4142a4b4c89195b993be"
            ],
            "layout": "IPY_MODEL_5ceec47752744032b69195512806d13c"
          }
        },
        "2e70f76bad824cfbb1b0b738165a1a1e": {
          "model_module": "@jupyter-widgets/base",
          "model_module_version": "1.2.0",
          "model_name": "LayoutModel",
          "state": {
            "_model_module": "@jupyter-widgets/base",
            "_model_module_version": "1.2.0",
            "_model_name": "LayoutModel",
            "_view_count": null,
            "_view_module": "@jupyter-widgets/base",
            "_view_module_version": "1.2.0",
            "_view_name": "LayoutView",
            "align_content": null,
            "align_items": null,
            "align_self": null,
            "border": null,
            "bottom": null,
            "display": null,
            "flex": null,
            "flex_flow": null,
            "grid_area": null,
            "grid_auto_columns": null,
            "grid_auto_flow": null,
            "grid_auto_rows": null,
            "grid_column": null,
            "grid_gap": null,
            "grid_row": null,
            "grid_template_areas": null,
            "grid_template_columns": null,
            "grid_template_rows": null,
            "height": null,
            "justify_content": null,
            "justify_items": null,
            "left": null,
            "margin": null,
            "max_height": null,
            "max_width": null,
            "min_height": null,
            "min_width": null,
            "object_fit": null,
            "object_position": null,
            "order": null,
            "overflow": null,
            "overflow_x": null,
            "overflow_y": null,
            "padding": null,
            "right": null,
            "top": null,
            "visibility": null,
            "width": null
          }
        },
        "2f00bbed5723474ea1192463832e6d57": {
          "model_module": "@jupyter-widgets/base",
          "model_module_version": "1.2.0",
          "model_name": "LayoutModel",
          "state": {
            "_model_module": "@jupyter-widgets/base",
            "_model_module_version": "1.2.0",
            "_model_name": "LayoutModel",
            "_view_count": null,
            "_view_module": "@jupyter-widgets/base",
            "_view_module_version": "1.2.0",
            "_view_name": "LayoutView",
            "align_content": null,
            "align_items": null,
            "align_self": null,
            "border": null,
            "bottom": null,
            "display": null,
            "flex": null,
            "flex_flow": null,
            "grid_area": null,
            "grid_auto_columns": null,
            "grid_auto_flow": null,
            "grid_auto_rows": null,
            "grid_column": null,
            "grid_gap": null,
            "grid_row": null,
            "grid_template_areas": null,
            "grid_template_columns": null,
            "grid_template_rows": null,
            "height": null,
            "justify_content": null,
            "justify_items": null,
            "left": null,
            "margin": null,
            "max_height": null,
            "max_width": null,
            "min_height": null,
            "min_width": null,
            "object_fit": null,
            "object_position": null,
            "order": null,
            "overflow": null,
            "overflow_x": null,
            "overflow_y": null,
            "padding": null,
            "right": null,
            "top": null,
            "visibility": null,
            "width": null
          }
        },
        "305a6e104cfd44c88f1db4aba4a9aef6": {
          "model_module": "@jupyter-widgets/controls",
          "model_module_version": "1.5.0",
          "model_name": "FloatProgressModel",
          "state": {
            "_dom_classes": [],
            "_model_module": "@jupyter-widgets/controls",
            "_model_module_version": "1.5.0",
            "_model_name": "FloatProgressModel",
            "_view_count": null,
            "_view_module": "@jupyter-widgets/controls",
            "_view_module_version": "1.5.0",
            "_view_name": "ProgressView",
            "bar_style": "success",
            "description": "",
            "description_tooltip": null,
            "layout": "IPY_MODEL_9675b80da14e44a69e539480cd000295",
            "max": 466062,
            "min": 0,
            "orientation": "horizontal",
            "style": "IPY_MODEL_525638a9c6914da18abbd98924f7a674",
            "value": 466062
          }
        },
        "33c0169243614579993143a437bfa1ea": {
          "model_module": "@jupyter-widgets/controls",
          "model_module_version": "1.5.0",
          "model_name": "HTMLModel",
          "state": {
            "_dom_classes": [],
            "_model_module": "@jupyter-widgets/controls",
            "_model_module_version": "1.5.0",
            "_model_name": "HTMLModel",
            "_view_count": null,
            "_view_module": "@jupyter-widgets/controls",
            "_view_module_version": "1.5.0",
            "_view_name": "HTMLView",
            "description": "",
            "description_tooltip": null,
            "layout": "IPY_MODEL_57fecd54f6124a8abb3ee875c499f0c8",
            "placeholder": "​",
            "style": "IPY_MODEL_07b66e61cd154bd192170d971253c680",
            "value": "vocab.txt: 100%"
          }
        },
        "37758da6c2f849b2800da1207aee91e3": {
          "model_module": "@jupyter-widgets/base",
          "model_module_version": "1.2.0",
          "model_name": "LayoutModel",
          "state": {
            "_model_module": "@jupyter-widgets/base",
            "_model_module_version": "1.2.0",
            "_model_name": "LayoutModel",
            "_view_count": null,
            "_view_module": "@jupyter-widgets/base",
            "_view_module_version": "1.2.0",
            "_view_name": "LayoutView",
            "align_content": null,
            "align_items": null,
            "align_self": null,
            "border": null,
            "bottom": null,
            "display": null,
            "flex": null,
            "flex_flow": null,
            "grid_area": null,
            "grid_auto_columns": null,
            "grid_auto_flow": null,
            "grid_auto_rows": null,
            "grid_column": null,
            "grid_gap": null,
            "grid_row": null,
            "grid_template_areas": null,
            "grid_template_columns": null,
            "grid_template_rows": null,
            "height": null,
            "justify_content": null,
            "justify_items": null,
            "left": null,
            "margin": null,
            "max_height": null,
            "max_width": null,
            "min_height": null,
            "min_width": null,
            "object_fit": null,
            "object_position": null,
            "order": null,
            "overflow": null,
            "overflow_x": null,
            "overflow_y": null,
            "padding": null,
            "right": null,
            "top": null,
            "visibility": null,
            "width": null
          }
        },
        "3860bac84dde4e84b7bf88732657f000": {
          "model_module": "@jupyter-widgets/controls",
          "model_module_version": "1.5.0",
          "model_name": "DescriptionStyleModel",
          "state": {
            "_model_module": "@jupyter-widgets/controls",
            "_model_module_version": "1.5.0",
            "_model_name": "DescriptionStyleModel",
            "_view_count": null,
            "_view_module": "@jupyter-widgets/base",
            "_view_module_version": "1.2.0",
            "_view_name": "StyleView",
            "description_width": ""
          }
        },
        "38f91cd7eb1e40afaad39909fcda8c3e": {
          "model_module": "@jupyter-widgets/base",
          "model_module_version": "1.2.0",
          "model_name": "LayoutModel",
          "state": {
            "_model_module": "@jupyter-widgets/base",
            "_model_module_version": "1.2.0",
            "_model_name": "LayoutModel",
            "_view_count": null,
            "_view_module": "@jupyter-widgets/base",
            "_view_module_version": "1.2.0",
            "_view_name": "LayoutView",
            "align_content": null,
            "align_items": null,
            "align_self": null,
            "border": null,
            "bottom": null,
            "display": null,
            "flex": null,
            "flex_flow": null,
            "grid_area": null,
            "grid_auto_columns": null,
            "grid_auto_flow": null,
            "grid_auto_rows": null,
            "grid_column": null,
            "grid_gap": null,
            "grid_row": null,
            "grid_template_areas": null,
            "grid_template_columns": null,
            "grid_template_rows": null,
            "height": null,
            "justify_content": null,
            "justify_items": null,
            "left": null,
            "margin": null,
            "max_height": null,
            "max_width": null,
            "min_height": null,
            "min_width": null,
            "object_fit": null,
            "object_position": null,
            "order": null,
            "overflow": null,
            "overflow_x": null,
            "overflow_y": null,
            "padding": null,
            "right": null,
            "top": null,
            "visibility": null,
            "width": null
          }
        },
        "44082fdfc7d14c79ae55f1a892ca5c3e": {
          "model_module": "@jupyter-widgets/controls",
          "model_module_version": "1.5.0",
          "model_name": "FloatProgressModel",
          "state": {
            "_dom_classes": [],
            "_model_module": "@jupyter-widgets/controls",
            "_model_module_version": "1.5.0",
            "_model_name": "FloatProgressModel",
            "_view_count": null,
            "_view_module": "@jupyter-widgets/controls",
            "_view_module_version": "1.5.0",
            "_view_name": "ProgressView",
            "bar_style": "success",
            "description": "",
            "description_tooltip": null,
            "layout": "IPY_MODEL_4857b02bc0614ec6b7037643ff5ff29c",
            "max": 570,
            "min": 0,
            "orientation": "horizontal",
            "style": "IPY_MODEL_5e6aa90ca0e84db88fe920e236a6cb92",
            "value": 570
          }
        },
        "4857b02bc0614ec6b7037643ff5ff29c": {
          "model_module": "@jupyter-widgets/base",
          "model_module_version": "1.2.0",
          "model_name": "LayoutModel",
          "state": {
            "_model_module": "@jupyter-widgets/base",
            "_model_module_version": "1.2.0",
            "_model_name": "LayoutModel",
            "_view_count": null,
            "_view_module": "@jupyter-widgets/base",
            "_view_module_version": "1.2.0",
            "_view_name": "LayoutView",
            "align_content": null,
            "align_items": null,
            "align_self": null,
            "border": null,
            "bottom": null,
            "display": null,
            "flex": null,
            "flex_flow": null,
            "grid_area": null,
            "grid_auto_columns": null,
            "grid_auto_flow": null,
            "grid_auto_rows": null,
            "grid_column": null,
            "grid_gap": null,
            "grid_row": null,
            "grid_template_areas": null,
            "grid_template_columns": null,
            "grid_template_rows": null,
            "height": null,
            "justify_content": null,
            "justify_items": null,
            "left": null,
            "margin": null,
            "max_height": null,
            "max_width": null,
            "min_height": null,
            "min_width": null,
            "object_fit": null,
            "object_position": null,
            "order": null,
            "overflow": null,
            "overflow_x": null,
            "overflow_y": null,
            "padding": null,
            "right": null,
            "top": null,
            "visibility": null,
            "width": null
          }
        },
        "48ec6d2dc51a4673bfb8dbfb0c6fa218": {
          "model_module": "@jupyter-widgets/controls",
          "model_module_version": "1.5.0",
          "model_name": "HBoxModel",
          "state": {
            "_dom_classes": [],
            "_model_module": "@jupyter-widgets/controls",
            "_model_module_version": "1.5.0",
            "_model_name": "HBoxModel",
            "_view_count": null,
            "_view_module": "@jupyter-widgets/controls",
            "_view_module_version": "1.5.0",
            "_view_name": "HBoxView",
            "box_style": "",
            "children": [
              "IPY_MODEL_33c0169243614579993143a437bfa1ea",
              "IPY_MODEL_ff154ec59ac6486ba755713faaeae237",
              "IPY_MODEL_876c1617b37b48708b1626f445c20f06"
            ],
            "layout": "IPY_MODEL_a4731b6d17d040f3bd48b9e30d75a820"
          }
        },
        "49bb464e0d024e7caeee6c9d3b7fcce4": {
          "model_module": "@jupyter-widgets/base",
          "model_module_version": "1.2.0",
          "model_name": "LayoutModel",
          "state": {
            "_model_module": "@jupyter-widgets/base",
            "_model_module_version": "1.2.0",
            "_model_name": "LayoutModel",
            "_view_count": null,
            "_view_module": "@jupyter-widgets/base",
            "_view_module_version": "1.2.0",
            "_view_name": "LayoutView",
            "align_content": null,
            "align_items": null,
            "align_self": null,
            "border": null,
            "bottom": null,
            "display": null,
            "flex": null,
            "flex_flow": null,
            "grid_area": null,
            "grid_auto_columns": null,
            "grid_auto_flow": null,
            "grid_auto_rows": null,
            "grid_column": null,
            "grid_gap": null,
            "grid_row": null,
            "grid_template_areas": null,
            "grid_template_columns": null,
            "grid_template_rows": null,
            "height": null,
            "justify_content": null,
            "justify_items": null,
            "left": null,
            "margin": null,
            "max_height": null,
            "max_width": null,
            "min_height": null,
            "min_width": null,
            "object_fit": null,
            "object_position": null,
            "order": null,
            "overflow": null,
            "overflow_x": null,
            "overflow_y": null,
            "padding": null,
            "right": null,
            "top": null,
            "visibility": null,
            "width": null
          }
        },
        "525638a9c6914da18abbd98924f7a674": {
          "model_module": "@jupyter-widgets/controls",
          "model_module_version": "1.5.0",
          "model_name": "ProgressStyleModel",
          "state": {
            "_model_module": "@jupyter-widgets/controls",
            "_model_module_version": "1.5.0",
            "_model_name": "ProgressStyleModel",
            "_view_count": null,
            "_view_module": "@jupyter-widgets/base",
            "_view_module_version": "1.2.0",
            "_view_name": "StyleView",
            "bar_color": null,
            "description_width": ""
          }
        },
        "57fecd54f6124a8abb3ee875c499f0c8": {
          "model_module": "@jupyter-widgets/base",
          "model_module_version": "1.2.0",
          "model_name": "LayoutModel",
          "state": {
            "_model_module": "@jupyter-widgets/base",
            "_model_module_version": "1.2.0",
            "_model_name": "LayoutModel",
            "_view_count": null,
            "_view_module": "@jupyter-widgets/base",
            "_view_module_version": "1.2.0",
            "_view_name": "LayoutView",
            "align_content": null,
            "align_items": null,
            "align_self": null,
            "border": null,
            "bottom": null,
            "display": null,
            "flex": null,
            "flex_flow": null,
            "grid_area": null,
            "grid_auto_columns": null,
            "grid_auto_flow": null,
            "grid_auto_rows": null,
            "grid_column": null,
            "grid_gap": null,
            "grid_row": null,
            "grid_template_areas": null,
            "grid_template_columns": null,
            "grid_template_rows": null,
            "height": null,
            "justify_content": null,
            "justify_items": null,
            "left": null,
            "margin": null,
            "max_height": null,
            "max_width": null,
            "min_height": null,
            "min_width": null,
            "object_fit": null,
            "object_position": null,
            "order": null,
            "overflow": null,
            "overflow_x": null,
            "overflow_y": null,
            "padding": null,
            "right": null,
            "top": null,
            "visibility": null,
            "width": null
          }
        },
        "5ceec47752744032b69195512806d13c": {
          "model_module": "@jupyter-widgets/base",
          "model_module_version": "1.2.0",
          "model_name": "LayoutModel",
          "state": {
            "_model_module": "@jupyter-widgets/base",
            "_model_module_version": "1.2.0",
            "_model_name": "LayoutModel",
            "_view_count": null,
            "_view_module": "@jupyter-widgets/base",
            "_view_module_version": "1.2.0",
            "_view_name": "LayoutView",
            "align_content": null,
            "align_items": null,
            "align_self": null,
            "border": null,
            "bottom": null,
            "display": null,
            "flex": null,
            "flex_flow": null,
            "grid_area": null,
            "grid_auto_columns": null,
            "grid_auto_flow": null,
            "grid_auto_rows": null,
            "grid_column": null,
            "grid_gap": null,
            "grid_row": null,
            "grid_template_areas": null,
            "grid_template_columns": null,
            "grid_template_rows": null,
            "height": null,
            "justify_content": null,
            "justify_items": null,
            "left": null,
            "margin": null,
            "max_height": null,
            "max_width": null,
            "min_height": null,
            "min_width": null,
            "object_fit": null,
            "object_position": null,
            "order": null,
            "overflow": null,
            "overflow_x": null,
            "overflow_y": null,
            "padding": null,
            "right": null,
            "top": null,
            "visibility": null,
            "width": null
          }
        },
        "5d626e1d93e34e95a8a3d197b18ba046": {
          "model_module": "@jupyter-widgets/controls",
          "model_module_version": "1.5.0",
          "model_name": "DescriptionStyleModel",
          "state": {
            "_model_module": "@jupyter-widgets/controls",
            "_model_module_version": "1.5.0",
            "_model_name": "DescriptionStyleModel",
            "_view_count": null,
            "_view_module": "@jupyter-widgets/base",
            "_view_module_version": "1.2.0",
            "_view_name": "StyleView",
            "description_width": ""
          }
        },
        "5e6aa90ca0e84db88fe920e236a6cb92": {
          "model_module": "@jupyter-widgets/controls",
          "model_module_version": "1.5.0",
          "model_name": "ProgressStyleModel",
          "state": {
            "_model_module": "@jupyter-widgets/controls",
            "_model_module_version": "1.5.0",
            "_model_name": "ProgressStyleModel",
            "_view_count": null,
            "_view_module": "@jupyter-widgets/base",
            "_view_module_version": "1.2.0",
            "_view_name": "StyleView",
            "bar_color": null,
            "description_width": ""
          }
        },
        "603710d274e748588d9734e686f4a9b4": {
          "model_module": "@jupyter-widgets/base",
          "model_module_version": "1.2.0",
          "model_name": "LayoutModel",
          "state": {
            "_model_module": "@jupyter-widgets/base",
            "_model_module_version": "1.2.0",
            "_model_name": "LayoutModel",
            "_view_count": null,
            "_view_module": "@jupyter-widgets/base",
            "_view_module_version": "1.2.0",
            "_view_name": "LayoutView",
            "align_content": null,
            "align_items": null,
            "align_self": null,
            "border": null,
            "bottom": null,
            "display": null,
            "flex": null,
            "flex_flow": null,
            "grid_area": null,
            "grid_auto_columns": null,
            "grid_auto_flow": null,
            "grid_auto_rows": null,
            "grid_column": null,
            "grid_gap": null,
            "grid_row": null,
            "grid_template_areas": null,
            "grid_template_columns": null,
            "grid_template_rows": null,
            "height": null,
            "justify_content": null,
            "justify_items": null,
            "left": null,
            "margin": null,
            "max_height": null,
            "max_width": null,
            "min_height": null,
            "min_width": null,
            "object_fit": null,
            "object_position": null,
            "order": null,
            "overflow": null,
            "overflow_x": null,
            "overflow_y": null,
            "padding": null,
            "right": null,
            "top": null,
            "visibility": null,
            "width": null
          }
        },
        "6427b896f0ff43baa11296578dc55b26": {
          "model_module": "@jupyter-widgets/base",
          "model_module_version": "1.2.0",
          "model_name": "LayoutModel",
          "state": {
            "_model_module": "@jupyter-widgets/base",
            "_model_module_version": "1.2.0",
            "_model_name": "LayoutModel",
            "_view_count": null,
            "_view_module": "@jupyter-widgets/base",
            "_view_module_version": "1.2.0",
            "_view_name": "LayoutView",
            "align_content": null,
            "align_items": null,
            "align_self": null,
            "border": null,
            "bottom": null,
            "display": null,
            "flex": null,
            "flex_flow": null,
            "grid_area": null,
            "grid_auto_columns": null,
            "grid_auto_flow": null,
            "grid_auto_rows": null,
            "grid_column": null,
            "grid_gap": null,
            "grid_row": null,
            "grid_template_areas": null,
            "grid_template_columns": null,
            "grid_template_rows": null,
            "height": null,
            "justify_content": null,
            "justify_items": null,
            "left": null,
            "margin": null,
            "max_height": null,
            "max_width": null,
            "min_height": null,
            "min_width": null,
            "object_fit": null,
            "object_position": null,
            "order": null,
            "overflow": null,
            "overflow_x": null,
            "overflow_y": null,
            "padding": null,
            "right": null,
            "top": null,
            "visibility": null,
            "width": null
          }
        },
        "64d68901476a439490274634b360f3b7": {
          "model_module": "@jupyter-widgets/controls",
          "model_module_version": "1.5.0",
          "model_name": "HBoxModel",
          "state": {
            "_dom_classes": [],
            "_model_module": "@jupyter-widgets/controls",
            "_model_module_version": "1.5.0",
            "_model_name": "HBoxModel",
            "_view_count": null,
            "_view_module": "@jupyter-widgets/controls",
            "_view_module_version": "1.5.0",
            "_view_name": "HBoxView",
            "box_style": "",
            "children": [
              "IPY_MODEL_0e7754ec4be54209ad627a2da2dd663e",
              "IPY_MODEL_761b2f20838c413482990b8893ddbcd6",
              "IPY_MODEL_0c3a0bdc2d634d4584cf0ab29fa7aaaf"
            ],
            "layout": "IPY_MODEL_38f91cd7eb1e40afaad39909fcda8c3e"
          }
        },
        "64de6221a7054493a4c754457a43d555": {
          "model_module": "@jupyter-widgets/base",
          "model_module_version": "1.2.0",
          "model_name": "LayoutModel",
          "state": {
            "_model_module": "@jupyter-widgets/base",
            "_model_module_version": "1.2.0",
            "_model_name": "LayoutModel",
            "_view_count": null,
            "_view_module": "@jupyter-widgets/base",
            "_view_module_version": "1.2.0",
            "_view_name": "LayoutView",
            "align_content": null,
            "align_items": null,
            "align_self": null,
            "border": null,
            "bottom": null,
            "display": null,
            "flex": null,
            "flex_flow": null,
            "grid_area": null,
            "grid_auto_columns": null,
            "grid_auto_flow": null,
            "grid_auto_rows": null,
            "grid_column": null,
            "grid_gap": null,
            "grid_row": null,
            "grid_template_areas": null,
            "grid_template_columns": null,
            "grid_template_rows": null,
            "height": null,
            "justify_content": null,
            "justify_items": null,
            "left": null,
            "margin": null,
            "max_height": null,
            "max_width": null,
            "min_height": null,
            "min_width": null,
            "object_fit": null,
            "object_position": null,
            "order": null,
            "overflow": null,
            "overflow_x": null,
            "overflow_y": null,
            "padding": null,
            "right": null,
            "top": null,
            "visibility": null,
            "width": null
          }
        },
        "6863dd314ac94bc4bab3e5c27d1f79ef": {
          "model_module": "@jupyter-widgets/controls",
          "model_module_version": "1.5.0",
          "model_name": "HBoxModel",
          "state": {
            "_dom_classes": [],
            "_model_module": "@jupyter-widgets/controls",
            "_model_module_version": "1.5.0",
            "_model_name": "HBoxModel",
            "_view_count": null,
            "_view_module": "@jupyter-widgets/controls",
            "_view_module_version": "1.5.0",
            "_view_name": "HBoxView",
            "box_style": "",
            "children": [
              "IPY_MODEL_a635ca180fa1407cb6968218d429ae9b",
              "IPY_MODEL_aa0c6d50f9134fee82dd5b336b86918d",
              "IPY_MODEL_96f16f60268d42faa77ba6286e60b3eb"
            ],
            "layout": "IPY_MODEL_289a00e635e2458ca428d7aed86feae5"
          }
        },
        "7378dcaba89b4573a6f99f503a85941a": {
          "model_module": "@jupyter-widgets/base",
          "model_module_version": "1.2.0",
          "model_name": "LayoutModel",
          "state": {
            "_model_module": "@jupyter-widgets/base",
            "_model_module_version": "1.2.0",
            "_model_name": "LayoutModel",
            "_view_count": null,
            "_view_module": "@jupyter-widgets/base",
            "_view_module_version": "1.2.0",
            "_view_name": "LayoutView",
            "align_content": null,
            "align_items": null,
            "align_self": null,
            "border": null,
            "bottom": null,
            "display": null,
            "flex": null,
            "flex_flow": null,
            "grid_area": null,
            "grid_auto_columns": null,
            "grid_auto_flow": null,
            "grid_auto_rows": null,
            "grid_column": null,
            "grid_gap": null,
            "grid_row": null,
            "grid_template_areas": null,
            "grid_template_columns": null,
            "grid_template_rows": null,
            "height": null,
            "justify_content": null,
            "justify_items": null,
            "left": null,
            "margin": null,
            "max_height": null,
            "max_width": null,
            "min_height": null,
            "min_width": null,
            "object_fit": null,
            "object_position": null,
            "order": null,
            "overflow": null,
            "overflow_x": null,
            "overflow_y": null,
            "padding": null,
            "right": null,
            "top": null,
            "visibility": null,
            "width": null
          }
        },
        "761b2f20838c413482990b8893ddbcd6": {
          "model_module": "@jupyter-widgets/controls",
          "model_module_version": "1.5.0",
          "model_name": "FloatProgressModel",
          "state": {
            "_dom_classes": [],
            "_model_module": "@jupyter-widgets/controls",
            "_model_module_version": "1.5.0",
            "_model_name": "FloatProgressModel",
            "_view_count": null,
            "_view_module": "@jupyter-widgets/controls",
            "_view_module_version": "1.5.0",
            "_view_name": "ProgressView",
            "bar_style": "success",
            "description": "",
            "description_tooltip": null,
            "layout": "IPY_MODEL_64de6221a7054493a4c754457a43d555",
            "max": 59,
            "min": 0,
            "orientation": "horizontal",
            "style": "IPY_MODEL_d7ae694dee934b39bebb371426e847f7",
            "value": 59
          }
        },
        "7796b168b5ce4df8bda057f1e506df9a": {
          "model_module": "@jupyter-widgets/controls",
          "model_module_version": "1.5.0",
          "model_name": "HTMLModel",
          "state": {
            "_dom_classes": [],
            "_model_module": "@jupyter-widgets/controls",
            "_model_module_version": "1.5.0",
            "_model_name": "HTMLModel",
            "_view_count": null,
            "_view_module": "@jupyter-widgets/controls",
            "_view_module_version": "1.5.0",
            "_view_name": "HTMLView",
            "description": "",
            "description_tooltip": null,
            "layout": "IPY_MODEL_7378dcaba89b4573a6f99f503a85941a",
            "placeholder": "​",
            "style": "IPY_MODEL_250b7cb7240f46cfa439952caa26bdce",
            "value": " 570/570 [00:00&lt;00:00, 40.1kB/s]"
          }
        },
        "77dfca8d729b4ea8a2d4e44ffcc6494c": {
          "model_module": "@jupyter-widgets/controls",
          "model_module_version": "1.5.0",
          "model_name": "DescriptionStyleModel",
          "state": {
            "_model_module": "@jupyter-widgets/controls",
            "_model_module_version": "1.5.0",
            "_model_name": "DescriptionStyleModel",
            "_view_count": null,
            "_view_module": "@jupyter-widgets/base",
            "_view_module_version": "1.2.0",
            "_view_name": "StyleView",
            "description_width": ""
          }
        },
        "78fc624be5634fab91cec442f372cf24": {
          "model_module": "@jupyter-widgets/base",
          "model_module_version": "1.2.0",
          "model_name": "LayoutModel",
          "state": {
            "_model_module": "@jupyter-widgets/base",
            "_model_module_version": "1.2.0",
            "_model_name": "LayoutModel",
            "_view_count": null,
            "_view_module": "@jupyter-widgets/base",
            "_view_module_version": "1.2.0",
            "_view_name": "LayoutView",
            "align_content": null,
            "align_items": null,
            "align_self": null,
            "border": null,
            "bottom": null,
            "display": null,
            "flex": null,
            "flex_flow": null,
            "grid_area": null,
            "grid_auto_columns": null,
            "grid_auto_flow": null,
            "grid_auto_rows": null,
            "grid_column": null,
            "grid_gap": null,
            "grid_row": null,
            "grid_template_areas": null,
            "grid_template_columns": null,
            "grid_template_rows": null,
            "height": null,
            "justify_content": null,
            "justify_items": null,
            "left": null,
            "margin": null,
            "max_height": null,
            "max_width": null,
            "min_height": null,
            "min_width": null,
            "object_fit": null,
            "object_position": null,
            "order": null,
            "overflow": null,
            "overflow_x": null,
            "overflow_y": null,
            "padding": null,
            "right": null,
            "top": null,
            "visibility": null,
            "width": null
          }
        },
        "7ee1145b9d7a46c2ae9b47513ce67e2c": {
          "model_module": "@jupyter-widgets/base",
          "model_module_version": "1.2.0",
          "model_name": "LayoutModel",
          "state": {
            "_model_module": "@jupyter-widgets/base",
            "_model_module_version": "1.2.0",
            "_model_name": "LayoutModel",
            "_view_count": null,
            "_view_module": "@jupyter-widgets/base",
            "_view_module_version": "1.2.0",
            "_view_name": "LayoutView",
            "align_content": null,
            "align_items": null,
            "align_self": null,
            "border": null,
            "bottom": null,
            "display": null,
            "flex": null,
            "flex_flow": null,
            "grid_area": null,
            "grid_auto_columns": null,
            "grid_auto_flow": null,
            "grid_auto_rows": null,
            "grid_column": null,
            "grid_gap": null,
            "grid_row": null,
            "grid_template_areas": null,
            "grid_template_columns": null,
            "grid_template_rows": null,
            "height": null,
            "justify_content": null,
            "justify_items": null,
            "left": null,
            "margin": null,
            "max_height": null,
            "max_width": null,
            "min_height": null,
            "min_width": null,
            "object_fit": null,
            "object_position": null,
            "order": null,
            "overflow": null,
            "overflow_x": null,
            "overflow_y": null,
            "padding": null,
            "right": null,
            "top": null,
            "visibility": null,
            "width": null
          }
        },
        "7f9a0ccc643d43dfb40705badfc69daa": {
          "model_module": "@jupyter-widgets/controls",
          "model_module_version": "1.5.0",
          "model_name": "DescriptionStyleModel",
          "state": {
            "_model_module": "@jupyter-widgets/controls",
            "_model_module_version": "1.5.0",
            "_model_name": "DescriptionStyleModel",
            "_view_count": null,
            "_view_module": "@jupyter-widgets/base",
            "_view_module_version": "1.2.0",
            "_view_name": "StyleView",
            "description_width": ""
          }
        },
        "828b0329b6cc4830aa1c8a65c3f172f9": {
          "model_module": "@jupyter-widgets/controls",
          "model_module_version": "1.5.0",
          "model_name": "HTMLModel",
          "state": {
            "_dom_classes": [],
            "_model_module": "@jupyter-widgets/controls",
            "_model_module_version": "1.5.0",
            "_model_name": "HTMLModel",
            "_view_count": null,
            "_view_module": "@jupyter-widgets/controls",
            "_view_module_version": "1.5.0",
            "_view_name": "HTMLView",
            "description": "",
            "description_tooltip": null,
            "layout": "IPY_MODEL_7ee1145b9d7a46c2ae9b47513ce67e2c",
            "placeholder": "​",
            "style": "IPY_MODEL_03445acc29de40bc8cde93800bfed5f5",
            "value": "vocab.txt: 100%"
          }
        },
        "862156b99594464a95c71f6c0862f14f": {
          "model_module": "@jupyter-widgets/controls",
          "model_module_version": "1.5.0",
          "model_name": "ProgressStyleModel",
          "state": {
            "_model_module": "@jupyter-widgets/controls",
            "_model_module_version": "1.5.0",
            "_model_name": "ProgressStyleModel",
            "_view_count": null,
            "_view_module": "@jupyter-widgets/base",
            "_view_module_version": "1.2.0",
            "_view_name": "StyleView",
            "bar_color": null,
            "description_width": ""
          }
        },
        "86f4ec5187eb452395efba85eb13b906": {
          "model_module": "@jupyter-widgets/controls",
          "model_module_version": "1.5.0",
          "model_name": "DescriptionStyleModel",
          "state": {
            "_model_module": "@jupyter-widgets/controls",
            "_model_module_version": "1.5.0",
            "_model_name": "DescriptionStyleModel",
            "_view_count": null,
            "_view_module": "@jupyter-widgets/base",
            "_view_module_version": "1.2.0",
            "_view_name": "StyleView",
            "description_width": ""
          }
        },
        "876c1617b37b48708b1626f445c20f06": {
          "model_module": "@jupyter-widgets/controls",
          "model_module_version": "1.5.0",
          "model_name": "HTMLModel",
          "state": {
            "_dom_classes": [],
            "_model_module": "@jupyter-widgets/controls",
            "_model_module_version": "1.5.0",
            "_model_name": "HTMLModel",
            "_view_count": null,
            "_view_module": "@jupyter-widgets/controls",
            "_view_module_version": "1.5.0",
            "_view_name": "HTMLView",
            "description": "",
            "description_tooltip": null,
            "layout": "IPY_MODEL_0b5982aa7aba4bdab944faf25b2f3065",
            "placeholder": "​",
            "style": "IPY_MODEL_3860bac84dde4e84b7bf88732657f000",
            "value": " 232k/232k [00:00&lt;00:00, 8.94MB/s]"
          }
        },
        "90cdb68a7b7d416cb18abec2c0c4fff8": {
          "model_module": "@jupyter-widgets/base",
          "model_module_version": "1.2.0",
          "model_name": "LayoutModel",
          "state": {
            "_model_module": "@jupyter-widgets/base",
            "_model_module_version": "1.2.0",
            "_model_name": "LayoutModel",
            "_view_count": null,
            "_view_module": "@jupyter-widgets/base",
            "_view_module_version": "1.2.0",
            "_view_name": "LayoutView",
            "align_content": null,
            "align_items": null,
            "align_self": null,
            "border": null,
            "bottom": null,
            "display": null,
            "flex": null,
            "flex_flow": null,
            "grid_area": null,
            "grid_auto_columns": null,
            "grid_auto_flow": null,
            "grid_auto_rows": null,
            "grid_column": null,
            "grid_gap": null,
            "grid_row": null,
            "grid_template_areas": null,
            "grid_template_columns": null,
            "grid_template_rows": null,
            "height": null,
            "justify_content": null,
            "justify_items": null,
            "left": null,
            "margin": null,
            "max_height": null,
            "max_width": null,
            "min_height": null,
            "min_width": null,
            "object_fit": null,
            "object_position": null,
            "order": null,
            "overflow": null,
            "overflow_x": null,
            "overflow_y": null,
            "padding": null,
            "right": null,
            "top": null,
            "visibility": null,
            "width": null
          }
        },
        "95d6c3fb8ecb4f1baa37c47ed051ad73": {
          "model_module": "@jupyter-widgets/controls",
          "model_module_version": "1.5.0",
          "model_name": "HTMLModel",
          "state": {
            "_dom_classes": [],
            "_model_module": "@jupyter-widgets/controls",
            "_model_module_version": "1.5.0",
            "_model_name": "HTMLModel",
            "_view_count": null,
            "_view_module": "@jupyter-widgets/controls",
            "_view_module_version": "1.5.0",
            "_view_name": "HTMLView",
            "description": "",
            "description_tooltip": null,
            "layout": "IPY_MODEL_22431db2a64a46f7b5067d0c8bd757a0",
            "placeholder": "​",
            "style": "IPY_MODEL_77dfca8d729b4ea8a2d4e44ffcc6494c",
            "value": " 385/385 [00:00&lt;00:00, 29.5kB/s]"
          }
        },
        "9675b80da14e44a69e539480cd000295": {
          "model_module": "@jupyter-widgets/base",
          "model_module_version": "1.2.0",
          "model_name": "LayoutModel",
          "state": {
            "_model_module": "@jupyter-widgets/base",
            "_model_module_version": "1.2.0",
            "_model_name": "LayoutModel",
            "_view_count": null,
            "_view_module": "@jupyter-widgets/base",
            "_view_module_version": "1.2.0",
            "_view_name": "LayoutView",
            "align_content": null,
            "align_items": null,
            "align_self": null,
            "border": null,
            "bottom": null,
            "display": null,
            "flex": null,
            "flex_flow": null,
            "grid_area": null,
            "grid_auto_columns": null,
            "grid_auto_flow": null,
            "grid_auto_rows": null,
            "grid_column": null,
            "grid_gap": null,
            "grid_row": null,
            "grid_template_areas": null,
            "grid_template_columns": null,
            "grid_template_rows": null,
            "height": null,
            "justify_content": null,
            "justify_items": null,
            "left": null,
            "margin": null,
            "max_height": null,
            "max_width": null,
            "min_height": null,
            "min_width": null,
            "object_fit": null,
            "object_position": null,
            "order": null,
            "overflow": null,
            "overflow_x": null,
            "overflow_y": null,
            "padding": null,
            "right": null,
            "top": null,
            "visibility": null,
            "width": null
          }
        },
        "96f16f60268d42faa77ba6286e60b3eb": {
          "model_module": "@jupyter-widgets/controls",
          "model_module_version": "1.5.0",
          "model_name": "HTMLModel",
          "state": {
            "_dom_classes": [],
            "_model_module": "@jupyter-widgets/controls",
            "_model_module_version": "1.5.0",
            "_model_name": "HTMLModel",
            "_view_count": null,
            "_view_module": "@jupyter-widgets/controls",
            "_view_module_version": "1.5.0",
            "_view_name": "HTMLView",
            "description": "",
            "description_tooltip": null,
            "layout": "IPY_MODEL_6427b896f0ff43baa11296578dc55b26",
            "placeholder": "​",
            "style": "IPY_MODEL_7f9a0ccc643d43dfb40705badfc69daa",
            "value": " 48.0/48.0 [00:00&lt;00:00, 2.83kB/s]"
          }
        },
        "9c675da103e3438c94038a9d12746358": {
          "model_module": "@jupyter-widgets/base",
          "model_module_version": "1.2.0",
          "model_name": "LayoutModel",
          "state": {
            "_model_module": "@jupyter-widgets/base",
            "_model_module_version": "1.2.0",
            "_model_name": "LayoutModel",
            "_view_count": null,
            "_view_module": "@jupyter-widgets/base",
            "_view_module_version": "1.2.0",
            "_view_name": "LayoutView",
            "align_content": null,
            "align_items": null,
            "align_self": null,
            "border": null,
            "bottom": null,
            "display": null,
            "flex": null,
            "flex_flow": null,
            "grid_area": null,
            "grid_auto_columns": null,
            "grid_auto_flow": null,
            "grid_auto_rows": null,
            "grid_column": null,
            "grid_gap": null,
            "grid_row": null,
            "grid_template_areas": null,
            "grid_template_columns": null,
            "grid_template_rows": null,
            "height": null,
            "justify_content": null,
            "justify_items": null,
            "left": null,
            "margin": null,
            "max_height": null,
            "max_width": null,
            "min_height": null,
            "min_width": null,
            "object_fit": null,
            "object_position": null,
            "order": null,
            "overflow": null,
            "overflow_x": null,
            "overflow_y": null,
            "padding": null,
            "right": null,
            "top": null,
            "visibility": null,
            "width": null
          }
        },
        "9cbf3eb4459342069057b8e87f3a0b9a": {
          "model_module": "@jupyter-widgets/base",
          "model_module_version": "1.2.0",
          "model_name": "LayoutModel",
          "state": {
            "_model_module": "@jupyter-widgets/base",
            "_model_module_version": "1.2.0",
            "_model_name": "LayoutModel",
            "_view_count": null,
            "_view_module": "@jupyter-widgets/base",
            "_view_module_version": "1.2.0",
            "_view_name": "LayoutView",
            "align_content": null,
            "align_items": null,
            "align_self": null,
            "border": null,
            "bottom": null,
            "display": null,
            "flex": null,
            "flex_flow": null,
            "grid_area": null,
            "grid_auto_columns": null,
            "grid_auto_flow": null,
            "grid_auto_rows": null,
            "grid_column": null,
            "grid_gap": null,
            "grid_row": null,
            "grid_template_areas": null,
            "grid_template_columns": null,
            "grid_template_rows": null,
            "height": null,
            "justify_content": null,
            "justify_items": null,
            "left": null,
            "margin": null,
            "max_height": null,
            "max_width": null,
            "min_height": null,
            "min_width": null,
            "object_fit": null,
            "object_position": null,
            "order": null,
            "overflow": null,
            "overflow_x": null,
            "overflow_y": null,
            "padding": null,
            "right": null,
            "top": null,
            "visibility": null,
            "width": null
          }
        },
        "9d504692211340edbb94a0bab408a36e": {
          "model_module": "@jupyter-widgets/base",
          "model_module_version": "1.2.0",
          "model_name": "LayoutModel",
          "state": {
            "_model_module": "@jupyter-widgets/base",
            "_model_module_version": "1.2.0",
            "_model_name": "LayoutModel",
            "_view_count": null,
            "_view_module": "@jupyter-widgets/base",
            "_view_module_version": "1.2.0",
            "_view_name": "LayoutView",
            "align_content": null,
            "align_items": null,
            "align_self": null,
            "border": null,
            "bottom": null,
            "display": null,
            "flex": null,
            "flex_flow": null,
            "grid_area": null,
            "grid_auto_columns": null,
            "grid_auto_flow": null,
            "grid_auto_rows": null,
            "grid_column": null,
            "grid_gap": null,
            "grid_row": null,
            "grid_template_areas": null,
            "grid_template_columns": null,
            "grid_template_rows": null,
            "height": null,
            "justify_content": null,
            "justify_items": null,
            "left": null,
            "margin": null,
            "max_height": null,
            "max_width": null,
            "min_height": null,
            "min_width": null,
            "object_fit": null,
            "object_position": null,
            "order": null,
            "overflow": null,
            "overflow_x": null,
            "overflow_y": null,
            "padding": null,
            "right": null,
            "top": null,
            "visibility": null,
            "width": null
          }
        },
        "a4731b6d17d040f3bd48b9e30d75a820": {
          "model_module": "@jupyter-widgets/base",
          "model_module_version": "1.2.0",
          "model_name": "LayoutModel",
          "state": {
            "_model_module": "@jupyter-widgets/base",
            "_model_module_version": "1.2.0",
            "_model_name": "LayoutModel",
            "_view_count": null,
            "_view_module": "@jupyter-widgets/base",
            "_view_module_version": "1.2.0",
            "_view_name": "LayoutView",
            "align_content": null,
            "align_items": null,
            "align_self": null,
            "border": null,
            "bottom": null,
            "display": null,
            "flex": null,
            "flex_flow": null,
            "grid_area": null,
            "grid_auto_columns": null,
            "grid_auto_flow": null,
            "grid_auto_rows": null,
            "grid_column": null,
            "grid_gap": null,
            "grid_row": null,
            "grid_template_areas": null,
            "grid_template_columns": null,
            "grid_template_rows": null,
            "height": null,
            "justify_content": null,
            "justify_items": null,
            "left": null,
            "margin": null,
            "max_height": null,
            "max_width": null,
            "min_height": null,
            "min_width": null,
            "object_fit": null,
            "object_position": null,
            "order": null,
            "overflow": null,
            "overflow_x": null,
            "overflow_y": null,
            "padding": null,
            "right": null,
            "top": null,
            "visibility": null,
            "width": null
          }
        },
        "a635ca180fa1407cb6968218d429ae9b": {
          "model_module": "@jupyter-widgets/controls",
          "model_module_version": "1.5.0",
          "model_name": "HTMLModel",
          "state": {
            "_dom_classes": [],
            "_model_module": "@jupyter-widgets/controls",
            "_model_module_version": "1.5.0",
            "_model_name": "HTMLModel",
            "_view_count": null,
            "_view_module": "@jupyter-widgets/controls",
            "_view_module_version": "1.5.0",
            "_view_name": "HTMLView",
            "description": "",
            "description_tooltip": null,
            "layout": "IPY_MODEL_c3cafcaec0164747b11ee737914b4feb",
            "placeholder": "​",
            "style": "IPY_MODEL_fc54311aedbf4639b0a98a303e600eef",
            "value": "tokenizer_config.json: 100%"
          }
        },
        "a7dc09cb2db64581bfa8b2fa24599bf2": {
          "model_module": "@jupyter-widgets/controls",
          "model_module_version": "1.5.0",
          "model_name": "HTMLModel",
          "state": {
            "_dom_classes": [],
            "_model_module": "@jupyter-widgets/controls",
            "_model_module_version": "1.5.0",
            "_model_name": "HTMLModel",
            "_view_count": null,
            "_view_module": "@jupyter-widgets/controls",
            "_view_module_version": "1.5.0",
            "_view_name": "HTMLView",
            "description": "",
            "description_tooltip": null,
            "layout": "IPY_MODEL_2f00bbed5723474ea1192463832e6d57",
            "placeholder": "​",
            "style": "IPY_MODEL_dcdc3bed92734ab9a8bf7320d15b5114",
            "value": " 466k/466k [00:00&lt;00:00, 29.2MB/s]"
          }
        },
        "a98e144ebd074555862aa9bc528ac323": {
          "model_module": "@jupyter-widgets/controls",
          "model_module_version": "1.5.0",
          "model_name": "DescriptionStyleModel",
          "state": {
            "_model_module": "@jupyter-widgets/controls",
            "_model_module_version": "1.5.0",
            "_model_name": "DescriptionStyleModel",
            "_view_count": null,
            "_view_module": "@jupyter-widgets/base",
            "_view_module_version": "1.2.0",
            "_view_name": "StyleView",
            "description_width": ""
          }
        },
        "aa0c6d50f9134fee82dd5b336b86918d": {
          "model_module": "@jupyter-widgets/controls",
          "model_module_version": "1.5.0",
          "model_name": "FloatProgressModel",
          "state": {
            "_dom_classes": [],
            "_model_module": "@jupyter-widgets/controls",
            "_model_module_version": "1.5.0",
            "_model_name": "FloatProgressModel",
            "_view_count": null,
            "_view_module": "@jupyter-widgets/controls",
            "_view_module_version": "1.5.0",
            "_view_name": "ProgressView",
            "bar_style": "success",
            "description": "",
            "description_tooltip": null,
            "layout": "IPY_MODEL_90cdb68a7b7d416cb18abec2c0c4fff8",
            "max": 48,
            "min": 0,
            "orientation": "horizontal",
            "style": "IPY_MODEL_ce0bd3b5fb5d4aa5b99ff19d236ce766",
            "value": 48
          }
        },
        "af943aadf8b14237b1799ab90bce3f26": {
          "model_module": "@jupyter-widgets/controls",
          "model_module_version": "1.5.0",
          "model_name": "ProgressStyleModel",
          "state": {
            "_model_module": "@jupyter-widgets/controls",
            "_model_module_version": "1.5.0",
            "_model_name": "ProgressStyleModel",
            "_view_count": null,
            "_view_module": "@jupyter-widgets/base",
            "_view_module_version": "1.2.0",
            "_view_name": "StyleView",
            "bar_color": null,
            "description_width": ""
          }
        },
        "bdf9628a403b41399fa3b3623b33bbf5": {
          "model_module": "@jupyter-widgets/base",
          "model_module_version": "1.2.0",
          "model_name": "LayoutModel",
          "state": {
            "_model_module": "@jupyter-widgets/base",
            "_model_module_version": "1.2.0",
            "_model_name": "LayoutModel",
            "_view_count": null,
            "_view_module": "@jupyter-widgets/base",
            "_view_module_version": "1.2.0",
            "_view_name": "LayoutView",
            "align_content": null,
            "align_items": null,
            "align_self": null,
            "border": null,
            "bottom": null,
            "display": null,
            "flex": null,
            "flex_flow": null,
            "grid_area": null,
            "grid_auto_columns": null,
            "grid_auto_flow": null,
            "grid_auto_rows": null,
            "grid_column": null,
            "grid_gap": null,
            "grid_row": null,
            "grid_template_areas": null,
            "grid_template_columns": null,
            "grid_template_rows": null,
            "height": null,
            "justify_content": null,
            "justify_items": null,
            "left": null,
            "margin": null,
            "max_height": null,
            "max_width": null,
            "min_height": null,
            "min_width": null,
            "object_fit": null,
            "object_position": null,
            "order": null,
            "overflow": null,
            "overflow_x": null,
            "overflow_y": null,
            "padding": null,
            "right": null,
            "top": null,
            "visibility": null,
            "width": null
          }
        },
        "c08edeb23b864bb49cdf8b0aa5913d0d": {
          "model_module": "@jupyter-widgets/controls",
          "model_module_version": "1.5.0",
          "model_name": "HBoxModel",
          "state": {
            "_dom_classes": [],
            "_model_module": "@jupyter-widgets/controls",
            "_model_module_version": "1.5.0",
            "_model_name": "HBoxModel",
            "_view_count": null,
            "_view_module": "@jupyter-widgets/controls",
            "_view_module_version": "1.5.0",
            "_view_name": "HBoxView",
            "box_style": "",
            "children": [
              "IPY_MODEL_04491cb34d294542a21d809c77fecfd7",
              "IPY_MODEL_e7f8da40d5294c2caccba4629c59427b",
              "IPY_MODEL_95d6c3fb8ecb4f1baa37c47ed051ad73"
            ],
            "layout": "IPY_MODEL_9cbf3eb4459342069057b8e87f3a0b9a"
          }
        },
        "c3cafcaec0164747b11ee737914b4feb": {
          "model_module": "@jupyter-widgets/base",
          "model_module_version": "1.2.0",
          "model_name": "LayoutModel",
          "state": {
            "_model_module": "@jupyter-widgets/base",
            "_model_module_version": "1.2.0",
            "_model_name": "LayoutModel",
            "_view_count": null,
            "_view_module": "@jupyter-widgets/base",
            "_view_module_version": "1.2.0",
            "_view_name": "LayoutView",
            "align_content": null,
            "align_items": null,
            "align_self": null,
            "border": null,
            "bottom": null,
            "display": null,
            "flex": null,
            "flex_flow": null,
            "grid_area": null,
            "grid_auto_columns": null,
            "grid_auto_flow": null,
            "grid_auto_rows": null,
            "grid_column": null,
            "grid_gap": null,
            "grid_row": null,
            "grid_template_areas": null,
            "grid_template_columns": null,
            "grid_template_rows": null,
            "height": null,
            "justify_content": null,
            "justify_items": null,
            "left": null,
            "margin": null,
            "max_height": null,
            "max_width": null,
            "min_height": null,
            "min_width": null,
            "object_fit": null,
            "object_position": null,
            "order": null,
            "overflow": null,
            "overflow_x": null,
            "overflow_y": null,
            "padding": null,
            "right": null,
            "top": null,
            "visibility": null,
            "width": null
          }
        },
        "cc2c94f54c1140fbb1cf5a0d1d96ff80": {
          "model_module": "@jupyter-widgets/controls",
          "model_module_version": "1.5.0",
          "model_name": "HBoxModel",
          "state": {
            "_dom_classes": [],
            "_model_module": "@jupyter-widgets/controls",
            "_model_module_version": "1.5.0",
            "_model_name": "HBoxModel",
            "_view_count": null,
            "_view_module": "@jupyter-widgets/controls",
            "_view_module_version": "1.5.0",
            "_view_name": "HBoxView",
            "box_style": "",
            "children": [
              "IPY_MODEL_d85646d53ab048c884d066e444d59280",
              "IPY_MODEL_44082fdfc7d14c79ae55f1a892ca5c3e",
              "IPY_MODEL_7796b168b5ce4df8bda057f1e506df9a"
            ],
            "layout": "IPY_MODEL_bdf9628a403b41399fa3b3623b33bbf5"
          }
        },
        "ce0bd3b5fb5d4aa5b99ff19d236ce766": {
          "model_module": "@jupyter-widgets/controls",
          "model_module_version": "1.5.0",
          "model_name": "ProgressStyleModel",
          "state": {
            "_model_module": "@jupyter-widgets/controls",
            "_model_module_version": "1.5.0",
            "_model_name": "ProgressStyleModel",
            "_view_count": null,
            "_view_module": "@jupyter-widgets/base",
            "_view_module_version": "1.2.0",
            "_view_name": "StyleView",
            "bar_color": null,
            "description_width": ""
          }
        },
        "d1bb87c31fef4096a1940c3777a7d58e": {
          "model_module": "@jupyter-widgets/base",
          "model_module_version": "1.2.0",
          "model_name": "LayoutModel",
          "state": {
            "_model_module": "@jupyter-widgets/base",
            "_model_module_version": "1.2.0",
            "_model_name": "LayoutModel",
            "_view_count": null,
            "_view_module": "@jupyter-widgets/base",
            "_view_module_version": "1.2.0",
            "_view_name": "LayoutView",
            "align_content": null,
            "align_items": null,
            "align_self": null,
            "border": null,
            "bottom": null,
            "display": null,
            "flex": null,
            "flex_flow": null,
            "grid_area": null,
            "grid_auto_columns": null,
            "grid_auto_flow": null,
            "grid_auto_rows": null,
            "grid_column": null,
            "grid_gap": null,
            "grid_row": null,
            "grid_template_areas": null,
            "grid_template_columns": null,
            "grid_template_rows": null,
            "height": null,
            "justify_content": null,
            "justify_items": null,
            "left": null,
            "margin": null,
            "max_height": null,
            "max_width": null,
            "min_height": null,
            "min_width": null,
            "object_fit": null,
            "object_position": null,
            "order": null,
            "overflow": null,
            "overflow_x": null,
            "overflow_y": null,
            "padding": null,
            "right": null,
            "top": null,
            "visibility": null,
            "width": null
          }
        },
        "d7ae694dee934b39bebb371426e847f7": {
          "model_module": "@jupyter-widgets/controls",
          "model_module_version": "1.5.0",
          "model_name": "ProgressStyleModel",
          "state": {
            "_model_module": "@jupyter-widgets/controls",
            "_model_module_version": "1.5.0",
            "_model_name": "ProgressStyleModel",
            "_view_count": null,
            "_view_module": "@jupyter-widgets/base",
            "_view_module_version": "1.2.0",
            "_view_name": "StyleView",
            "bar_color": null,
            "description_width": ""
          }
        },
        "d85646d53ab048c884d066e444d59280": {
          "model_module": "@jupyter-widgets/controls",
          "model_module_version": "1.5.0",
          "model_name": "HTMLModel",
          "state": {
            "_dom_classes": [],
            "_model_module": "@jupyter-widgets/controls",
            "_model_module_version": "1.5.0",
            "_model_name": "HTMLModel",
            "_view_count": null,
            "_view_module": "@jupyter-widgets/controls",
            "_view_module_version": "1.5.0",
            "_view_name": "HTMLView",
            "description": "",
            "description_tooltip": null,
            "layout": "IPY_MODEL_d1bb87c31fef4096a1940c3777a7d58e",
            "placeholder": "​",
            "style": "IPY_MODEL_86f4ec5187eb452395efba85eb13b906",
            "value": "config.json: 100%"
          }
        },
        "dcdc3bed92734ab9a8bf7320d15b5114": {
          "model_module": "@jupyter-widgets/controls",
          "model_module_version": "1.5.0",
          "model_name": "DescriptionStyleModel",
          "state": {
            "_model_module": "@jupyter-widgets/controls",
            "_model_module_version": "1.5.0",
            "_model_name": "DescriptionStyleModel",
            "_view_count": null,
            "_view_module": "@jupyter-widgets/base",
            "_view_module_version": "1.2.0",
            "_view_name": "StyleView",
            "description_width": ""
          }
        },
        "dd6bff75ee3d4917a3a35e14ed05ae49": {
          "model_module": "@jupyter-widgets/controls",
          "model_module_version": "1.5.0",
          "model_name": "ProgressStyleModel",
          "state": {
            "_model_module": "@jupyter-widgets/controls",
            "_model_module_version": "1.5.0",
            "_model_name": "ProgressStyleModel",
            "_view_count": null,
            "_view_module": "@jupyter-widgets/base",
            "_view_module_version": "1.2.0",
            "_view_name": "StyleView",
            "bar_color": null,
            "description_width": ""
          }
        },
        "defd8909ed034fa0879867b02446331e": {
          "model_module": "@jupyter-widgets/controls",
          "model_module_version": "1.5.0",
          "model_name": "DescriptionStyleModel",
          "state": {
            "_model_module": "@jupyter-widgets/controls",
            "_model_module_version": "1.5.0",
            "_model_name": "DescriptionStyleModel",
            "_view_count": null,
            "_view_module": "@jupyter-widgets/base",
            "_view_module_version": "1.2.0",
            "_view_name": "StyleView",
            "description_width": ""
          }
        },
        "e53d3f72eb174287abceb966b786e5e2": {
          "model_module": "@jupyter-widgets/controls",
          "model_module_version": "1.5.0",
          "model_name": "HTMLModel",
          "state": {
            "_dom_classes": [],
            "_model_module": "@jupyter-widgets/controls",
            "_model_module_version": "1.5.0",
            "_model_name": "HTMLModel",
            "_view_count": null,
            "_view_module": "@jupyter-widgets/controls",
            "_view_module_version": "1.5.0",
            "_view_name": "HTMLView",
            "description": "",
            "description_tooltip": null,
            "layout": "IPY_MODEL_37758da6c2f849b2800da1207aee91e3",
            "placeholder": "​",
            "style": "IPY_MODEL_fb8df9a90bd748d39d344f37ca5f2481",
            "value": "tokenizer.json: 100%"
          }
        },
        "e75052be32b84869bda27d735f6bca41": {
          "model_module": "@jupyter-widgets/controls",
          "model_module_version": "1.5.0",
          "model_name": "DescriptionStyleModel",
          "state": {
            "_model_module": "@jupyter-widgets/controls",
            "_model_module_version": "1.5.0",
            "_model_name": "DescriptionStyleModel",
            "_view_count": null,
            "_view_module": "@jupyter-widgets/base",
            "_view_module_version": "1.2.0",
            "_view_name": "StyleView",
            "description_width": ""
          }
        },
        "e7f8da40d5294c2caccba4629c59427b": {
          "model_module": "@jupyter-widgets/controls",
          "model_module_version": "1.5.0",
          "model_name": "FloatProgressModel",
          "state": {
            "_dom_classes": [],
            "_model_module": "@jupyter-widgets/controls",
            "_model_module_version": "1.5.0",
            "_model_name": "FloatProgressModel",
            "_view_count": null,
            "_view_module": "@jupyter-widgets/controls",
            "_view_module_version": "1.5.0",
            "_view_name": "ProgressView",
            "bar_style": "success",
            "description": "",
            "description_tooltip": null,
            "layout": "IPY_MODEL_f1e09d703c874b91b57d15e4dae7b951",
            "max": 385,
            "min": 0,
            "orientation": "horizontal",
            "style": "IPY_MODEL_af943aadf8b14237b1799ab90bce3f26",
            "value": 385
          }
        },
        "f1e09d703c874b91b57d15e4dae7b951": {
          "model_module": "@jupyter-widgets/base",
          "model_module_version": "1.2.0",
          "model_name": "LayoutModel",
          "state": {
            "_model_module": "@jupyter-widgets/base",
            "_model_module_version": "1.2.0",
            "_model_name": "LayoutModel",
            "_view_count": null,
            "_view_module": "@jupyter-widgets/base",
            "_view_module_version": "1.2.0",
            "_view_name": "LayoutView",
            "align_content": null,
            "align_items": null,
            "align_self": null,
            "border": null,
            "bottom": null,
            "display": null,
            "flex": null,
            "flex_flow": null,
            "grid_area": null,
            "grid_auto_columns": null,
            "grid_auto_flow": null,
            "grid_auto_rows": null,
            "grid_column": null,
            "grid_gap": null,
            "grid_row": null,
            "grid_template_areas": null,
            "grid_template_columns": null,
            "grid_template_rows": null,
            "height": null,
            "justify_content": null,
            "justify_items": null,
            "left": null,
            "margin": null,
            "max_height": null,
            "max_width": null,
            "min_height": null,
            "min_width": null,
            "object_fit": null,
            "object_position": null,
            "order": null,
            "overflow": null,
            "overflow_x": null,
            "overflow_y": null,
            "padding": null,
            "right": null,
            "top": null,
            "visibility": null,
            "width": null
          }
        },
        "f6be7c26d759492db73fd49b38efc4f5": {
          "model_module": "@jupyter-widgets/base",
          "model_module_version": "1.2.0",
          "model_name": "LayoutModel",
          "state": {
            "_model_module": "@jupyter-widgets/base",
            "_model_module_version": "1.2.0",
            "_model_name": "LayoutModel",
            "_view_count": null,
            "_view_module": "@jupyter-widgets/base",
            "_view_module_version": "1.2.0",
            "_view_name": "LayoutView",
            "align_content": null,
            "align_items": null,
            "align_self": null,
            "border": null,
            "bottom": null,
            "display": null,
            "flex": null,
            "flex_flow": null,
            "grid_area": null,
            "grid_auto_columns": null,
            "grid_auto_flow": null,
            "grid_auto_rows": null,
            "grid_column": null,
            "grid_gap": null,
            "grid_row": null,
            "grid_template_areas": null,
            "grid_template_columns": null,
            "grid_template_rows": null,
            "height": null,
            "justify_content": null,
            "justify_items": null,
            "left": null,
            "margin": null,
            "max_height": null,
            "max_width": null,
            "min_height": null,
            "min_width": null,
            "object_fit": null,
            "object_position": null,
            "order": null,
            "overflow": null,
            "overflow_x": null,
            "overflow_y": null,
            "padding": null,
            "right": null,
            "top": null,
            "visibility": null,
            "width": null
          }
        },
        "fb8df9a90bd748d39d344f37ca5f2481": {
          "model_module": "@jupyter-widgets/controls",
          "model_module_version": "1.5.0",
          "model_name": "DescriptionStyleModel",
          "state": {
            "_model_module": "@jupyter-widgets/controls",
            "_model_module_version": "1.5.0",
            "_model_name": "DescriptionStyleModel",
            "_view_count": null,
            "_view_module": "@jupyter-widgets/base",
            "_view_module_version": "1.2.0",
            "_view_name": "StyleView",
            "description_width": ""
          }
        },
        "fc54311aedbf4639b0a98a303e600eef": {
          "model_module": "@jupyter-widgets/controls",
          "model_module_version": "1.5.0",
          "model_name": "DescriptionStyleModel",
          "state": {
            "_model_module": "@jupyter-widgets/controls",
            "_model_module_version": "1.5.0",
            "_model_name": "DescriptionStyleModel",
            "_view_count": null,
            "_view_module": "@jupyter-widgets/base",
            "_view_module_version": "1.2.0",
            "_view_name": "StyleView",
            "description_width": ""
          }
        },
        "ff154ec59ac6486ba755713faaeae237": {
          "model_module": "@jupyter-widgets/controls",
          "model_module_version": "1.5.0",
          "model_name": "FloatProgressModel",
          "state": {
            "_dom_classes": [],
            "_model_module": "@jupyter-widgets/controls",
            "_model_module_version": "1.5.0",
            "_model_name": "FloatProgressModel",
            "_view_count": null,
            "_view_module": "@jupyter-widgets/controls",
            "_view_module_version": "1.5.0",
            "_view_name": "ProgressView",
            "bar_style": "success",
            "description": "",
            "description_tooltip": null,
            "layout": "IPY_MODEL_9d504692211340edbb94a0bab408a36e",
            "max": 231508,
            "min": 0,
            "orientation": "horizontal",
            "style": "IPY_MODEL_862156b99594464a95c71f6c0862f14f",
            "value": 231508
          }
        }
      }
    }
  },
  "nbformat": 4,
  "nbformat_minor": 0
}
