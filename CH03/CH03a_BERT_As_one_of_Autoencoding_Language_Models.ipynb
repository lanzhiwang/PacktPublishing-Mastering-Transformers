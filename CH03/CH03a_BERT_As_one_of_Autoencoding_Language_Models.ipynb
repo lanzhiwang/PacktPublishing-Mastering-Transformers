{
 "cells": [
  {
   "cell_type": "markdown",
   "metadata": {
    "id": "v61w8HXuZrLH"
   },
   "source": [
    "# BERT: As one of Autoencoding Language Models "
   ]
  },
  {
   "cell_type": "code",
   "execution_count": null,
   "metadata": {
    "colab": {
     "base_uri": "https://localhost:8080/"
    },
    "executionInfo": {
     "elapsed": 363,
     "status": "ok",
     "timestamp": 1625504058946,
     "user": {
      "displayName": "meysam asgari chenaghlu",
      "photoUrl": "https://lh3.googleusercontent.com/a-/AOh14GgN-uRJ5KciT9X_sZpZ4pOpEANlj5GCtXuY2ecq=s64",
      "userId": "13491140841572947804"
     },
     "user_tz": -180
    },
    "id": "hXoOOoBAZqHq",
    "outputId": "cee84e9b-a02f-4908-a1ac-90c219372c54"
   },
   "outputs": [],
   "source": [
    "import os\n",
    "from google.colab import drive\n",
    "\n",
    "drive.mount(\"/content/drive\")"
   ]
  },
  {
   "cell_type": "code",
   "execution_count": null,
   "metadata": {
    "colab": {
     "base_uri": "https://localhost:8080/"
    },
    "executionInfo": {
     "elapsed": 2921,
     "status": "ok",
     "timestamp": 1625504063059,
     "user": {
      "displayName": "meysam asgari chenaghlu",
      "photoUrl": "https://lh3.googleusercontent.com/a-/AOh14GgN-uRJ5KciT9X_sZpZ4pOpEANlj5GCtXuY2ecq=s64",
      "userId": "13491140841572947804"
     },
     "user_tz": -180
    },
    "id": "t3bcOfnNWJhv",
    "outputId": "42612c4a-b889-4cc1-e79c-1843478b88d0"
   },
   "outputs": [],
   "source": [
    "!pip install transformers"
   ]
  },
  {
   "cell_type": "code",
   "execution_count": null,
   "metadata": {
    "colab": {
     "base_uri": "https://localhost:8080/"
    },
    "executionInfo": {
     "elapsed": 2190,
     "status": "ok",
     "timestamp": 1625504065244,
     "user": {
      "displayName": "meysam asgari chenaghlu",
      "photoUrl": "https://lh3.googleusercontent.com/a-/AOh14GgN-uRJ5KciT9X_sZpZ4pOpEANlj5GCtXuY2ecq=s64",
      "userId": "13491140841572947804"
     },
     "user_tz": -180
    },
    "id": "MDuHvNUnbRXu",
    "outputId": "2a545f55-76da-494a-873d-b0f7419a73ad"
   },
   "outputs": [],
   "source": [
    "!pip install tokenizers"
   ]
  },
  {
   "cell_type": "code",
   "execution_count": null,
   "metadata": {
    "executionInfo": {
     "elapsed": 4,
     "status": "ok",
     "timestamp": 1625504065514,
     "user": {
      "displayName": "meysam asgari chenaghlu",
      "photoUrl": "https://lh3.googleusercontent.com/a-/AOh14GgN-uRJ5KciT9X_sZpZ4pOpEANlj5GCtXuY2ecq=s64",
      "userId": "13491140841572947804"
     },
     "user_tz": -180
    },
    "id": "YR3-I4bFUVdm"
   },
   "outputs": [],
   "source": [
    "os.chdir(\"drive/My Drive/data/\")"
   ]
  },
  {
   "cell_type": "code",
   "execution_count": null,
   "metadata": {
    "colab": {
     "base_uri": "https://localhost:8080/"
    },
    "executionInfo": {
     "elapsed": 4,
     "status": "ok",
     "timestamp": 1625504065933,
     "user": {
      "displayName": "meysam asgari chenaghlu",
      "photoUrl": "https://lh3.googleusercontent.com/a-/AOh14GgN-uRJ5KciT9X_sZpZ4pOpEANlj5GCtXuY2ecq=s64",
      "userId": "13491140841572947804"
     },
     "user_tz": -180
    },
    "id": "MVadDu1T4NZF",
    "outputId": "888a80cf-7428-43ec-b5d6-0158a961916d"
   },
   "outputs": [],
   "source": [
    "os.listdir()"
   ]
  },
  {
   "cell_type": "code",
   "execution_count": null,
   "metadata": {
    "executionInfo": {
     "elapsed": 8,
     "status": "ok",
     "timestamp": 1625504066616,
     "user": {
      "displayName": "meysam asgari chenaghlu",
      "photoUrl": "https://lh3.googleusercontent.com/a-/AOh14GgN-uRJ5KciT9X_sZpZ4pOpEANlj5GCtXuY2ecq=s64",
      "userId": "13491140841572947804"
     },
     "user_tz": -180
    },
    "id": "hGJiQ2Sx4mm7"
   },
   "outputs": [],
   "source": []
  },
  {
   "cell_type": "code",
   "execution_count": null,
   "metadata": {
    "executionInfo": {
     "elapsed": 2870,
     "status": "ok",
     "timestamp": 1625504070634,
     "user": {
      "displayName": "meysam asgari chenaghlu",
      "photoUrl": "https://lh3.googleusercontent.com/a-/AOh14GgN-uRJ5KciT9X_sZpZ4pOpEANlj5GCtXuY2ecq=s64",
      "userId": "13491140841572947804"
     },
     "user_tz": -180
    },
    "id": "sJbh3P-e3g0S"
   },
   "outputs": [],
   "source": [
    "import pandas as pd\n",
    "\n",
    "imdb_df = pd.read_csv(\"IMDB Dataset.csv\")\n",
    "reviews = imdb_df.review.to_string(index=None)\n",
    "with open(\"corpus.txt\", \"w\") as f:\n",
    "    f.writelines(reviews)"
   ]
  },
  {
   "cell_type": "code",
   "execution_count": null,
   "metadata": {
    "executionInfo": {
     "elapsed": 1783,
     "status": "ok",
     "timestamp": 1625504074342,
     "user": {
      "displayName": "meysam asgari chenaghlu",
      "photoUrl": "https://lh3.googleusercontent.com/a-/AOh14GgN-uRJ5KciT9X_sZpZ4pOpEANlj5GCtXuY2ecq=s64",
      "userId": "13491140841572947804"
     },
     "user_tz": -180
    },
    "id": "JQRzoQKS4SA2"
   },
   "outputs": [],
   "source": [
    "from tokenizers import BertWordPieceTokenizer\n",
    "\n",
    "bert_wordpiece_tokenizer = BertWordPieceTokenizer()\n",
    "bert_wordpiece_tokenizer.train(\"corpus.txt\")"
   ]
  },
  {
   "cell_type": "code",
   "execution_count": null,
   "metadata": {
    "colab": {
     "base_uri": "https://localhost:8080/"
    },
    "executionInfo": {
     "elapsed": 13,
     "status": "ok",
     "timestamp": 1625504075440,
     "user": {
      "displayName": "meysam asgari chenaghlu",
      "photoUrl": "https://lh3.googleusercontent.com/a-/AOh14GgN-uRJ5KciT9X_sZpZ4pOpEANlj5GCtXuY2ecq=s64",
      "userId": "13491140841572947804"
     },
     "user_tz": -180
    },
    "id": "datICiehV7kv",
    "outputId": "d4dce1dc-f6b9-4002-faae-c978f9c5ef62"
   },
   "outputs": [],
   "source": [
    "bert_wordpiece_tokenizer.get_vocab()"
   ]
  },
  {
   "cell_type": "code",
   "execution_count": null,
   "metadata": {
    "colab": {
     "base_uri": "https://localhost:8080/"
    },
    "executionInfo": {
     "elapsed": 284,
     "status": "ok",
     "timestamp": 1625504078846,
     "user": {
      "displayName": "meysam asgari chenaghlu",
      "photoUrl": "https://lh3.googleusercontent.com/a-/AOh14GgN-uRJ5KciT9X_sZpZ4pOpEANlj5GCtXuY2ecq=s64",
      "userId": "13491140841572947804"
     },
     "user_tz": -180
    },
    "id": "lIID_rquXa37",
    "outputId": "c07f735c-017e-4914-f4f3-87d9294274de"
   },
   "outputs": [],
   "source": [
    "!mkdir tokenizer\n",
    "bert_wordpiece_tokenizer.save_model(\"tokenizer\")"
   ]
  },
  {
   "cell_type": "code",
   "execution_count": null,
   "metadata": {
    "executionInfo": {
     "elapsed": 286,
     "status": "ok",
     "timestamp": 1625504081264,
     "user": {
      "displayName": "meysam asgari chenaghlu",
      "photoUrl": "https://lh3.googleusercontent.com/a-/AOh14GgN-uRJ5KciT9X_sZpZ4pOpEANlj5GCtXuY2ecq=s64",
      "userId": "13491140841572947804"
     },
     "user_tz": -180
    },
    "id": "JF5_gklbXeeu"
   },
   "outputs": [],
   "source": [
    "tokenizer = BertWordPieceTokenizer.from_file(\"tokenizer/vocab.txt\")"
   ]
  },
  {
   "cell_type": "code",
   "execution_count": null,
   "metadata": {
    "executionInfo": {
     "elapsed": 3,
     "status": "ok",
     "timestamp": 1625504082326,
     "user": {
      "displayName": "meysam asgari chenaghlu",
      "photoUrl": "https://lh3.googleusercontent.com/a-/AOh14GgN-uRJ5KciT9X_sZpZ4pOpEANlj5GCtXuY2ecq=s64",
      "userId": "13491140841572947804"
     },
     "user_tz": -180
    },
    "id": "yaKwOs23boQh"
   },
   "outputs": [],
   "source": []
  },
  {
   "cell_type": "code",
   "execution_count": null,
   "metadata": {
    "executionInfo": {
     "elapsed": 4,
     "status": "ok",
     "timestamp": 1625504082616,
     "user": {
      "displayName": "meysam asgari chenaghlu",
      "photoUrl": "https://lh3.googleusercontent.com/a-/AOh14GgN-uRJ5KciT9X_sZpZ4pOpEANlj5GCtXuY2ecq=s64",
      "userId": "13491140841572947804"
     },
     "user_tz": -180
    },
    "id": "R-ANSWWKXz29"
   },
   "outputs": [],
   "source": [
    "tokenized_sentence = tokenizer.encode(\"Oh it works just fine\")"
   ]
  },
  {
   "cell_type": "code",
   "execution_count": null,
   "metadata": {
    "colab": {
     "base_uri": "https://localhost:8080/"
    },
    "executionInfo": {
     "elapsed": 285,
     "status": "ok",
     "timestamp": 1625504084755,
     "user": {
      "displayName": "meysam asgari chenaghlu",
      "photoUrl": "https://lh3.googleusercontent.com/a-/AOh14GgN-uRJ5KciT9X_sZpZ4pOpEANlj5GCtXuY2ecq=s64",
      "userId": "13491140841572947804"
     },
     "user_tz": -180
    },
    "id": "hC11u5e-X35m",
    "outputId": "d91dd82c-185c-4113-84b2-80d5bc6579ac"
   },
   "outputs": [],
   "source": [
    "tokenized_sentence.tokens"
   ]
  },
  {
   "cell_type": "code",
   "execution_count": null,
   "metadata": {
    "executionInfo": {
     "elapsed": 300,
     "status": "ok",
     "timestamp": 1625504086430,
     "user": {
      "displayName": "meysam asgari chenaghlu",
      "photoUrl": "https://lh3.googleusercontent.com/a-/AOh14GgN-uRJ5KciT9X_sZpZ4pOpEANlj5GCtXuY2ecq=s64",
      "userId": "13491140841572947804"
     },
     "user_tz": -180
    },
    "id": "0f5gF5m4X5m9"
   },
   "outputs": [],
   "source": [
    "tokenized_sentence = tokenizer.encode(\"ohoh i thougt it might be workingg well\")"
   ]
  },
  {
   "cell_type": "code",
   "execution_count": null,
   "metadata": {
    "executionInfo": {
     "elapsed": 4267,
     "status": "ok",
     "timestamp": 1625504091912,
     "user": {
      "displayName": "meysam asgari chenaghlu",
      "photoUrl": "https://lh3.googleusercontent.com/a-/AOh14GgN-uRJ5KciT9X_sZpZ4pOpEANlj5GCtXuY2ecq=s64",
      "userId": "13491140841572947804"
     },
     "user_tz": -180
    },
    "id": "z7-Nt9n2YA8E"
   },
   "outputs": [],
   "source": [
    "from transformers import BertTokenizerFast\n",
    "\n",
    "tokenizer = BertTokenizerFast.from_pretrained(\"tokenizer\")"
   ]
  },
  {
   "cell_type": "code",
   "execution_count": null,
   "metadata": {
    "colab": {
     "base_uri": "https://localhost:8080/"
    },
    "executionInfo": {
     "elapsed": 4931,
     "status": "ok",
     "timestamp": 1625504097948,
     "user": {
      "displayName": "meysam asgari chenaghlu",
      "photoUrl": "https://lh3.googleusercontent.com/a-/AOh14GgN-uRJ5KciT9X_sZpZ4pOpEANlj5GCtXuY2ecq=s64",
      "userId": "13491140841572947804"
     },
     "user_tz": -180
    },
    "id": "xHwTfLvKYGKA",
    "outputId": "dbcad4ab-e74f-4894-cb15-bed974a672f3"
   },
   "outputs": [],
   "source": [
    "from transformers import LineByLineTextDataset\n",
    "\n",
    "dataset = LineByLineTextDataset(\n",
    "    tokenizer=tokenizer, file_path=\"corpus.txt\", block_size=128\n",
    ")"
   ]
  },
  {
   "cell_type": "code",
   "execution_count": null,
   "metadata": {
    "executionInfo": {
     "elapsed": 283,
     "status": "ok",
     "timestamp": 1625504101782,
     "user": {
      "displayName": "meysam asgari chenaghlu",
      "photoUrl": "https://lh3.googleusercontent.com/a-/AOh14GgN-uRJ5KciT9X_sZpZ4pOpEANlj5GCtXuY2ecq=s64",
      "userId": "13491140841572947804"
     },
     "user_tz": -180
    },
    "id": "njU0BD1UYMVE"
   },
   "outputs": [],
   "source": [
    "from transformers import DataCollatorForLanguageModeling\n",
    "\n",
    "data_collator = DataCollatorForLanguageModeling(\n",
    "    tokenizer=tokenizer, mlm=True, mlm_probability=0.15\n",
    ")"
   ]
  },
  {
   "cell_type": "code",
   "execution_count": null,
   "metadata": {
    "executionInfo": {
     "elapsed": 396,
     "status": "ok",
     "timestamp": 1625504103292,
     "user": {
      "displayName": "meysam asgari chenaghlu",
      "photoUrl": "https://lh3.googleusercontent.com/a-/AOh14GgN-uRJ5KciT9X_sZpZ4pOpEANlj5GCtXuY2ecq=s64",
      "userId": "13491140841572947804"
     },
     "user_tz": -180
    },
    "id": "OBM3SvrHYTNH"
   },
   "outputs": [],
   "source": [
    "from transformers import TrainingArguments\n",
    "\n",
    "training_args = TrainingArguments(\n",
    "    output_dir=\"BERT\",\n",
    "    overwrite_output_dir=True,\n",
    "    num_train_epochs=1,\n",
    "    per_device_train_batch_size=128,\n",
    ")"
   ]
  },
  {
   "cell_type": "code",
   "execution_count": null,
   "metadata": {
    "executionInfo": {
     "elapsed": 2967,
     "status": "ok",
     "timestamp": 1625504107377,
     "user": {
      "displayName": "meysam asgari chenaghlu",
      "photoUrl": "https://lh3.googleusercontent.com/a-/AOh14GgN-uRJ5KciT9X_sZpZ4pOpEANlj5GCtXuY2ecq=s64",
      "userId": "13491140841572947804"
     },
     "user_tz": -180
    },
    "id": "_u5_N_-9YYqw"
   },
   "outputs": [],
   "source": [
    "from transformers import BertConfig, BertForMaskedLM\n",
    "\n",
    "bert = BertForMaskedLM(BertConfig())"
   ]
  },
  {
   "cell_type": "code",
   "execution_count": null,
   "metadata": {
    "executionInfo": {
     "elapsed": 12611,
     "status": "ok",
     "timestamp": 1625504121843,
     "user": {
      "displayName": "meysam asgari chenaghlu",
      "photoUrl": "https://lh3.googleusercontent.com/a-/AOh14GgN-uRJ5KciT9X_sZpZ4pOpEANlj5GCtXuY2ecq=s64",
      "userId": "13491140841572947804"
     },
     "user_tz": -180
    },
    "id": "JQY0-ZLvYYtm"
   },
   "outputs": [],
   "source": [
    "from transformers import Trainer\n",
    "\n",
    "trainer = Trainer(\n",
    "    model=bert, args=training_args, data_collator=data_collator, train_dataset=dataset\n",
    ")"
   ]
  },
  {
   "cell_type": "code",
   "execution_count": null,
   "metadata": {
    "colab": {
     "base_uri": "https://localhost:8080/",
     "height": 334
    },
    "executionInfo": {
     "elapsed": 284148,
     "status": "ok",
     "timestamp": 1625504407077,
     "user": {
      "displayName": "meysam asgari chenaghlu",
      "photoUrl": "https://lh3.googleusercontent.com/a-/AOh14GgN-uRJ5KciT9X_sZpZ4pOpEANlj5GCtXuY2ecq=s64",
      "userId": "13491140841572947804"
     },
     "user_tz": -180
    },
    "id": "bVZDxhXBYYym",
    "outputId": "bfcb2ab4-7cbd-4e76-d6d7-673263d56d6a"
   },
   "outputs": [],
   "source": [
    "trainer.train()"
   ]
  },
  {
   "cell_type": "code",
   "execution_count": null,
   "metadata": {
    "colab": {
     "base_uri": "https://localhost:8080/"
    },
    "executionInfo": {
     "elapsed": 2154,
     "status": "ok",
     "timestamp": 1625504411937,
     "user": {
      "displayName": "meysam asgari chenaghlu",
      "photoUrl": "https://lh3.googleusercontent.com/a-/AOh14GgN-uRJ5KciT9X_sZpZ4pOpEANlj5GCtXuY2ecq=s64",
      "userId": "13491140841572947804"
     },
     "user_tz": -180
    },
    "id": "6uzttHnJYY1C",
    "outputId": "50607221-359b-4601-f3b4-04004181a2a7"
   },
   "outputs": [],
   "source": [
    "trainer.save_model(\"MyBERT\")"
   ]
  },
  {
   "cell_type": "code",
   "execution_count": null,
   "metadata": {
    "colab": {
     "base_uri": "https://localhost:8080/"
    },
    "executionInfo": {
     "elapsed": 286,
     "status": "ok",
     "timestamp": 1625504413939,
     "user": {
      "displayName": "meysam asgari chenaghlu",
      "photoUrl": "https://lh3.googleusercontent.com/a-/AOh14GgN-uRJ5KciT9X_sZpZ4pOpEANlj5GCtXuY2ecq=s64",
      "userId": "13491140841572947804"
     },
     "user_tz": -180
    },
    "id": "M-j4LqJHYs0F",
    "outputId": "6b8098f5-338c-4b27-b06a-762272a5120b"
   },
   "outputs": [],
   "source": [
    "from transformers import BertConfig\n",
    "\n",
    "BertConfig()"
   ]
  },
  {
   "cell_type": "code",
   "execution_count": null,
   "metadata": {
    "colab": {
     "base_uri": "https://localhost:8080/"
    },
    "executionInfo": {
     "elapsed": 365,
     "status": "ok",
     "timestamp": 1625504416744,
     "user": {
      "displayName": "meysam asgari chenaghlu",
      "photoUrl": "https://lh3.googleusercontent.com/a-/AOh14GgN-uRJ5KciT9X_sZpZ4pOpEANlj5GCtXuY2ecq=s64",
      "userId": "13491140841572947804"
     },
     "user_tz": -180
    },
    "id": "MyY0_v-eYs2k",
    "outputId": "df0a4444-a558-4896-d0b0-39b97c103646"
   },
   "outputs": [],
   "source": [
    "tiny_bert_config = BertConfig(\n",
    "    max_position_embeddings=512,\n",
    "    hidden_size=128,\n",
    "    num_attention_heads=2,\n",
    "    num_hidden_layers=2,\n",
    "    intermediate_size=512,\n",
    ")\n",
    "tiny_bert_config"
   ]
  },
  {
   "cell_type": "code",
   "execution_count": null,
   "metadata": {
    "colab": {
     "base_uri": "https://localhost:8080/",
     "height": 334
    },
    "executionInfo": {
     "elapsed": 21979,
     "status": "ok",
     "timestamp": 1625504442147,
     "user": {
      "displayName": "meysam asgari chenaghlu",
      "photoUrl": "https://lh3.googleusercontent.com/a-/AOh14GgN-uRJ5KciT9X_sZpZ4pOpEANlj5GCtXuY2ecq=s64",
      "userId": "13491140841572947804"
     },
     "user_tz": -180
    },
    "id": "ByC2zBtwYs44",
    "outputId": "fede53a9-694d-4fde-f256-3c98780b9b9c"
   },
   "outputs": [],
   "source": [
    "tiny_bert = BertForMaskedLM(tiny_bert_config)\n",
    "trainer = Trainer(\n",
    "    model=tiny_bert,\n",
    "    args=training_args,\n",
    "    data_collator=data_collator,\n",
    "    train_dataset=dataset,\n",
    ")\n",
    "trainer.train()"
   ]
  },
  {
   "cell_type": "code",
   "execution_count": null,
   "metadata": {
    "colab": {
     "base_uri": "https://localhost:8080/",
     "height": 1000,
     "referenced_widgets": [
      "5661f9afceac41cd81911ec61f840d1c",
      "0fe97a5a63614b35b1a58cb8d9765242",
      "6295bed1bbfc43ff8bd374152775b094",
      "91e3626b49814c7e85fc351d6cea403c",
      "cd7b13f0ba0f44a88b1d085fb5acf789",
      "24e111b1fc5746a8a69f862a0dc3bc7d",
      "e345fb951df24e0d848a051a485b4b65",
      "86b7927b6dc44fb28cf3b006163c39cf",
      "133035cbbade4827bc6764218387a54b",
      "e4efd2d54399463db446591d18cbe6fd",
      "c1e03b6d025a4dba9e37eb35c48d93ec",
      "62399066111345ec827e1912ec1d97ba",
      "73ca0820cf8a482bb3cb4bd658e7a5d3",
      "2989c05594ea4054b311517ce5339ed2",
      "ef71247bb53a4c709d59e63ab7d60c33",
      "62b92d97fdcb49b1ade6d076d0b203eb",
      "94a9c2fcf79f4ac0a8f2d712411f7d2b",
      "d8e8c28122024aadb70ff1aab5530eeb",
      "7a9083129f274149a176a0e31eb48411",
      "dac236c954ef4b0f99067b8bbeba6283",
      "96ad3e5ee6bc4398a0c6e8ea948682a4",
      "3f2e7ff1d0ad466196075aad10b8b84a",
      "9fb9172e15b3405fab9a7db14d0c560d",
      "48f55d9d4e3046d5abe21fef5b2a377c",
      "7d102900f8884e44aa4953d89ad79465",
      "6946d2105b2e4fd1bfab2b10f1256053",
      "0b351be38ce9450eb4f4a857132b0a79",
      "c41a59274c78422fa1c846a1711b2439",
      "477900896cec431f98ed705f5fbbf78b",
      "6cead6beda334e7a8db3f27ad5845705",
      "d26b4d4dbcd243cd8933f81fffad0b4d",
      "a0d2c4f1560a4a6bab0be1285c932283",
      "9dac89e1bf484a1fafaa1b5235846d93",
      "2290a421c99944a19da4fa1888204a0a",
      "3fe4f71880a5497e950d15a381614651",
      "7fc1dee184a54de987dbba3af55c597e",
      "4e9a142be38247088fe4f3a7d6ecd6f3",
      "127e05f39b2d4b0f84dd7ca57d71cc98",
      "73de1777b2f5478891fc9b8dc46c26a0",
      "476bdde5624144919c7abb27938c7221"
     ]
    },
    "executionInfo": {
     "elapsed": 22470,
     "status": "ok",
     "timestamp": 1625504468368,
     "user": {
      "displayName": "meysam asgari chenaghlu",
      "photoUrl": "https://lh3.googleusercontent.com/a-/AOh14GgN-uRJ5KciT9X_sZpZ4pOpEANlj5GCtXuY2ecq=s64",
      "userId": "13491140841572947804"
     },
     "user_tz": -180
    },
    "id": "fMCmbDfFYs_s",
    "outputId": "b8f7f093-cc44-465f-d412-5a38025c9f20"
   },
   "outputs": [],
   "source": [
    "from transformers import TFBertModel, BertTokenizerFast\n",
    "\n",
    "bert = TFBertModel.from_pretrained(\"bert-base-uncased\")\n",
    "tokenizer = BertTokenizerFast.from_pretrained(\"bert-base-uncased\")\n",
    "bert.layers"
   ]
  },
  {
   "cell_type": "code",
   "execution_count": null,
   "metadata": {
    "colab": {
     "base_uri": "https://localhost:8080/"
    },
    "executionInfo": {
     "elapsed": 325,
     "status": "ok",
     "timestamp": 1625504473380,
     "user": {
      "displayName": "meysam asgari chenaghlu",
      "photoUrl": "https://lh3.googleusercontent.com/a-/AOh14GgN-uRJ5KciT9X_sZpZ4pOpEANlj5GCtXuY2ecq=s64",
      "userId": "13491140841572947804"
     },
     "user_tz": -180
    },
    "id": "Z-tQO7EbYtCR",
    "outputId": "5390c3db-44ea-437f-e812-354840dcbfa1"
   },
   "outputs": [],
   "source": [
    "tokenized_text = tokenizer.batch_encode_plus(\n",
    "    [\"hello how is it going with you\", \"lets test it\"],\n",
    "    return_tensors=\"tf\",\n",
    "    max_length=256,\n",
    "    truncation=True,\n",
    "    pad_to_max_length=True,\n",
    ")\n",
    "bert(tokenized_text)"
   ]
  },
  {
   "cell_type": "code",
   "execution_count": null,
   "metadata": {
    "colab": {
     "base_uri": "https://localhost:8080/"
    },
    "executionInfo": {
     "elapsed": 4230,
     "status": "ok",
     "timestamp": 1625504480743,
     "user": {
      "displayName": "meysam asgari chenaghlu",
      "photoUrl": "https://lh3.googleusercontent.com/a-/AOh14GgN-uRJ5KciT9X_sZpZ4pOpEANlj5GCtXuY2ecq=s64",
      "userId": "13491140841572947804"
     },
     "user_tz": -180
    },
    "id": "DMmRg2X-Y7LF",
    "outputId": "6a4edc0c-0d1a-4033-c44a-5476e5ea0914"
   },
   "outputs": [],
   "source": [
    "from tensorflow import keras\n",
    "import tensorflow as tf\n",
    "\n",
    "max_length = 256\n",
    "tokens = keras.layers.Input(shape=(max_length,), dtype=tf.dtypes.int32)\n",
    "masks = keras.layers.Input(shape=(max_length,), dtype=tf.dtypes.int32)\n",
    "embedding_layer = bert.layers[0]([tokens, masks])[0][:, 0, :]\n",
    "dense = tf.keras.layers.Dense(units=2, activation=\"softmax\")(embedding_layer)\n",
    "model = keras.Model([tokens, masks], dense)"
   ]
  },
  {
   "cell_type": "code",
   "execution_count": null,
   "metadata": {
    "colab": {
     "base_uri": "https://localhost:8080/"
    },
    "executionInfo": {
     "elapsed": 312,
     "status": "ok",
     "timestamp": 1625504483580,
     "user": {
      "displayName": "meysam asgari chenaghlu",
      "photoUrl": "https://lh3.googleusercontent.com/a-/AOh14GgN-uRJ5KciT9X_sZpZ4pOpEANlj5GCtXuY2ecq=s64",
      "userId": "13491140841572947804"
     },
     "user_tz": -180
    },
    "id": "T8xeS5TyY7No",
    "outputId": "34427854-5ba6-41e2-ec99-88b82ec59505"
   },
   "outputs": [],
   "source": [
    "tokenized = tokenizer.batch_encode_plus(\n",
    "    [\"hello how is it going with you\", \"hello how is it going with you\"],\n",
    "    return_tensors=\"tf\",\n",
    "    max_length=max_length,\n",
    "    truncation=True,\n",
    "    pad_to_max_length=True,\n",
    ")"
   ]
  },
  {
   "cell_type": "code",
   "execution_count": null,
   "metadata": {
    "colab": {
     "base_uri": "https://localhost:8080/"
    },
    "executionInfo": {
     "elapsed": 299,
     "status": "ok",
     "timestamp": 1625504485127,
     "user": {
      "displayName": "meysam asgari chenaghlu",
      "photoUrl": "https://lh3.googleusercontent.com/a-/AOh14GgN-uRJ5KciT9X_sZpZ4pOpEANlj5GCtXuY2ecq=s64",
      "userId": "13491140841572947804"
     },
     "user_tz": -180
    },
    "id": "AGMwpG8OY7P_",
    "outputId": "fd5fdad8-8545-418e-9a4b-378c3a79e934"
   },
   "outputs": [],
   "source": [
    "model([tokenized[\"input_ids\"], tokenized[\"attention_mask\"]])"
   ]
  },
  {
   "cell_type": "code",
   "execution_count": null,
   "metadata": {
    "colab": {
     "base_uri": "https://localhost:8080/"
    },
    "executionInfo": {
     "elapsed": 339,
     "status": "ok",
     "timestamp": 1625504487398,
     "user": {
      "displayName": "meysam asgari chenaghlu",
      "photoUrl": "https://lh3.googleusercontent.com/a-/AOh14GgN-uRJ5KciT9X_sZpZ4pOpEANlj5GCtXuY2ecq=s64",
      "userId": "13491140841572947804"
     },
     "user_tz": -180
    },
    "id": "b24ahO1UY7SR",
    "outputId": "41ea32ad-1ad7-4a2b-d525-446ca88f4cbb"
   },
   "outputs": [],
   "source": [
    "model.compile(optimizer=\"Adam\", loss=\"categorical_crossentropy\", metrics=[\"accuracy\"])\n",
    "model.summary()"
   ]
  },
  {
   "cell_type": "code",
   "execution_count": null,
   "metadata": {
    "executionInfo": {
     "elapsed": 291,
     "status": "ok",
     "timestamp": 1625504491806,
     "user": {
      "displayName": "meysam asgari chenaghlu",
      "photoUrl": "https://lh3.googleusercontent.com/a-/AOh14GgN-uRJ5KciT9X_sZpZ4pOpEANlj5GCtXuY2ecq=s64",
      "userId": "13491140841572947804"
     },
     "user_tz": -180
    },
    "id": "XSCi31iUZL1Y"
   },
   "outputs": [],
   "source": [
    "model.layers[2].trainable = False"
   ]
  },
  {
   "cell_type": "code",
   "execution_count": null,
   "metadata": {
    "colab": {
     "base_uri": "https://localhost:8080/"
    },
    "executionInfo": {
     "elapsed": 30123,
     "status": "ok",
     "timestamp": 1625504525810,
     "user": {
      "displayName": "meysam asgari chenaghlu",
      "photoUrl": "https://lh3.googleusercontent.com/a-/AOh14GgN-uRJ5KciT9X_sZpZ4pOpEANlj5GCtXuY2ecq=s64",
      "userId": "13491140841572947804"
     },
     "user_tz": -180
    },
    "id": "wcfBTBw8ZL6V",
    "outputId": "08436178-6e86-4151-f483-2c2671ef7cb0"
   },
   "outputs": [],
   "source": [
    "import pandas as pd\n",
    "\n",
    "imdb_df = pd.read_csv(\"IMDB Dataset.csv\")\n",
    "reviews = list(imdb_df.review)\n",
    "tokenized_reviews = tokenizer.batch_encode_plus(\n",
    "    reviews,\n",
    "    return_tensors=\"tf\",\n",
    "    max_length=max_length,\n",
    "    truncation=True,\n",
    "    pad_to_max_length=True,\n",
    ")\n",
    "\n",
    "import numpy as np\n",
    "\n",
    "train_split = int(0.8 * len(tokenized_reviews[\"attention_mask\"]))\n",
    "train_tokens = tokenized_reviews[\"input_ids\"][:train_split]\n",
    "test_tokens = tokenized_reviews[\"input_ids\"][train_split:]\n",
    "train_masks = tokenized_reviews[\"attention_mask\"][:train_split]\n",
    "test_masks = tokenized_reviews[\"attention_mask\"][train_split:]\n",
    "sentiments = list(imdb_df.sentiment)\n",
    "labels = np.array(\n",
    "    [[0, 1] if sentiment == \"positive\" else [1, 0] for sentiment in sentiments]\n",
    ")\n",
    "train_labels = labels[:train_split]\n",
    "test_labels = labels[train_split:]"
   ]
  },
  {
   "cell_type": "code",
   "execution_count": null,
   "metadata": {
    "colab": {
     "base_uri": "https://localhost:8080/"
    },
    "id": "YaQlIkdZZL8c",
    "outputId": "faaa116b-6cc2-4263-876c-bebf162eafe6"
   },
   "outputs": [],
   "source": [
    "model.fit([train_tokens, train_masks], train_labels, epochs=5)"
   ]
  },
  {
   "cell_type": "code",
   "execution_count": null,
   "metadata": {
    "id": "3RTyDkLzZL-8"
   },
   "outputs": [],
   "source": []
  }
 ],
 "metadata": {
  "accelerator": "GPU",
  "colab": {
   "name": "CH03.1 As one of Autoencoding Language Models.ipynb",
   "provenance": []
  },
  "kernelspec": {
   "display_name": "Python 3 (ipykernel)",
   "language": "python",
   "name": "python3"
  },
  "language_info": {
   "codemirror_mode": {
    "name": "ipython",
    "version": 3
   },
   "file_extension": ".py",
   "mimetype": "text/x-python",
   "name": "python",
   "nbconvert_exporter": "python",
   "pygments_lexer": "ipython3",
   "version": "3.11.6"
  },
  "widgets": {
   "application/vnd.jupyter.widget-state+json": {
    "0b351be38ce9450eb4f4a857132b0a79": {
     "model_module": "@jupyter-widgets/controls",
     "model_name": "FloatProgressModel",
     "state": {
      "_dom_classes": [],
      "_model_module": "@jupyter-widgets/controls",
      "_model_module_version": "1.5.0",
      "_model_name": "FloatProgressModel",
      "_view_count": null,
      "_view_module": "@jupyter-widgets/controls",
      "_view_module_version": "1.5.0",
      "_view_name": "ProgressView",
      "bar_style": "success",
      "description": "Downloading: 100%",
      "description_tooltip": null,
      "layout": "IPY_MODEL_6cead6beda334e7a8db3f27ad5845705",
      "max": 466062,
      "min": 0,
      "orientation": "horizontal",
      "style": "IPY_MODEL_477900896cec431f98ed705f5fbbf78b",
      "value": 466062
     }
    },
    "0fe97a5a63614b35b1a58cb8d9765242": {
     "model_module": "@jupyter-widgets/base",
     "model_name": "LayoutModel",
     "state": {
      "_model_module": "@jupyter-widgets/base",
      "_model_module_version": "1.2.0",
      "_model_name": "LayoutModel",
      "_view_count": null,
      "_view_module": "@jupyter-widgets/base",
      "_view_module_version": "1.2.0",
      "_view_name": "LayoutView",
      "align_content": null,
      "align_items": null,
      "align_self": null,
      "border": null,
      "bottom": null,
      "display": null,
      "flex": null,
      "flex_flow": null,
      "grid_area": null,
      "grid_auto_columns": null,
      "grid_auto_flow": null,
      "grid_auto_rows": null,
      "grid_column": null,
      "grid_gap": null,
      "grid_row": null,
      "grid_template_areas": null,
      "grid_template_columns": null,
      "grid_template_rows": null,
      "height": null,
      "justify_content": null,
      "justify_items": null,
      "left": null,
      "margin": null,
      "max_height": null,
      "max_width": null,
      "min_height": null,
      "min_width": null,
      "object_fit": null,
      "object_position": null,
      "order": null,
      "overflow": null,
      "overflow_x": null,
      "overflow_y": null,
      "padding": null,
      "right": null,
      "top": null,
      "visibility": null,
      "width": null
     }
    },
    "127e05f39b2d4b0f84dd7ca57d71cc98": {
     "model_module": "@jupyter-widgets/base",
     "model_name": "LayoutModel",
     "state": {
      "_model_module": "@jupyter-widgets/base",
      "_model_module_version": "1.2.0",
      "_model_name": "LayoutModel",
      "_view_count": null,
      "_view_module": "@jupyter-widgets/base",
      "_view_module_version": "1.2.0",
      "_view_name": "LayoutView",
      "align_content": null,
      "align_items": null,
      "align_self": null,
      "border": null,
      "bottom": null,
      "display": null,
      "flex": null,
      "flex_flow": null,
      "grid_area": null,
      "grid_auto_columns": null,
      "grid_auto_flow": null,
      "grid_auto_rows": null,
      "grid_column": null,
      "grid_gap": null,
      "grid_row": null,
      "grid_template_areas": null,
      "grid_template_columns": null,
      "grid_template_rows": null,
      "height": null,
      "justify_content": null,
      "justify_items": null,
      "left": null,
      "margin": null,
      "max_height": null,
      "max_width": null,
      "min_height": null,
      "min_width": null,
      "object_fit": null,
      "object_position": null,
      "order": null,
      "overflow": null,
      "overflow_x": null,
      "overflow_y": null,
      "padding": null,
      "right": null,
      "top": null,
      "visibility": null,
      "width": null
     }
    },
    "133035cbbade4827bc6764218387a54b": {
     "model_module": "@jupyter-widgets/controls",
     "model_name": "HBoxModel",
     "state": {
      "_dom_classes": [],
      "_model_module": "@jupyter-widgets/controls",
      "_model_module_version": "1.5.0",
      "_model_name": "HBoxModel",
      "_view_count": null,
      "_view_module": "@jupyter-widgets/controls",
      "_view_module_version": "1.5.0",
      "_view_name": "HBoxView",
      "box_style": "",
      "children": [
       "IPY_MODEL_c1e03b6d025a4dba9e37eb35c48d93ec",
       "IPY_MODEL_62399066111345ec827e1912ec1d97ba"
      ],
      "layout": "IPY_MODEL_e4efd2d54399463db446591d18cbe6fd"
     }
    },
    "2290a421c99944a19da4fa1888204a0a": {
     "model_module": "@jupyter-widgets/base",
     "model_name": "LayoutModel",
     "state": {
      "_model_module": "@jupyter-widgets/base",
      "_model_module_version": "1.2.0",
      "_model_name": "LayoutModel",
      "_view_count": null,
      "_view_module": "@jupyter-widgets/base",
      "_view_module_version": "1.2.0",
      "_view_name": "LayoutView",
      "align_content": null,
      "align_items": null,
      "align_self": null,
      "border": null,
      "bottom": null,
      "display": null,
      "flex": null,
      "flex_flow": null,
      "grid_area": null,
      "grid_auto_columns": null,
      "grid_auto_flow": null,
      "grid_auto_rows": null,
      "grid_column": null,
      "grid_gap": null,
      "grid_row": null,
      "grid_template_areas": null,
      "grid_template_columns": null,
      "grid_template_rows": null,
      "height": null,
      "justify_content": null,
      "justify_items": null,
      "left": null,
      "margin": null,
      "max_height": null,
      "max_width": null,
      "min_height": null,
      "min_width": null,
      "object_fit": null,
      "object_position": null,
      "order": null,
      "overflow": null,
      "overflow_x": null,
      "overflow_y": null,
      "padding": null,
      "right": null,
      "top": null,
      "visibility": null,
      "width": null
     }
    },
    "24e111b1fc5746a8a69f862a0dc3bc7d": {
     "model_module": "@jupyter-widgets/base",
     "model_name": "LayoutModel",
     "state": {
      "_model_module": "@jupyter-widgets/base",
      "_model_module_version": "1.2.0",
      "_model_name": "LayoutModel",
      "_view_count": null,
      "_view_module": "@jupyter-widgets/base",
      "_view_module_version": "1.2.0",
      "_view_name": "LayoutView",
      "align_content": null,
      "align_items": null,
      "align_self": null,
      "border": null,
      "bottom": null,
      "display": null,
      "flex": null,
      "flex_flow": null,
      "grid_area": null,
      "grid_auto_columns": null,
      "grid_auto_flow": null,
      "grid_auto_rows": null,
      "grid_column": null,
      "grid_gap": null,
      "grid_row": null,
      "grid_template_areas": null,
      "grid_template_columns": null,
      "grid_template_rows": null,
      "height": null,
      "justify_content": null,
      "justify_items": null,
      "left": null,
      "margin": null,
      "max_height": null,
      "max_width": null,
      "min_height": null,
      "min_width": null,
      "object_fit": null,
      "object_position": null,
      "order": null,
      "overflow": null,
      "overflow_x": null,
      "overflow_y": null,
      "padding": null,
      "right": null,
      "top": null,
      "visibility": null,
      "width": null
     }
    },
    "2989c05594ea4054b311517ce5339ed2": {
     "model_module": "@jupyter-widgets/base",
     "model_name": "LayoutModel",
     "state": {
      "_model_module": "@jupyter-widgets/base",
      "_model_module_version": "1.2.0",
      "_model_name": "LayoutModel",
      "_view_count": null,
      "_view_module": "@jupyter-widgets/base",
      "_view_module_version": "1.2.0",
      "_view_name": "LayoutView",
      "align_content": null,
      "align_items": null,
      "align_self": null,
      "border": null,
      "bottom": null,
      "display": null,
      "flex": null,
      "flex_flow": null,
      "grid_area": null,
      "grid_auto_columns": null,
      "grid_auto_flow": null,
      "grid_auto_rows": null,
      "grid_column": null,
      "grid_gap": null,
      "grid_row": null,
      "grid_template_areas": null,
      "grid_template_columns": null,
      "grid_template_rows": null,
      "height": null,
      "justify_content": null,
      "justify_items": null,
      "left": null,
      "margin": null,
      "max_height": null,
      "max_width": null,
      "min_height": null,
      "min_width": null,
      "object_fit": null,
      "object_position": null,
      "order": null,
      "overflow": null,
      "overflow_x": null,
      "overflow_y": null,
      "padding": null,
      "right": null,
      "top": null,
      "visibility": null,
      "width": null
     }
    },
    "3f2e7ff1d0ad466196075aad10b8b84a": {
     "model_module": "@jupyter-widgets/base",
     "model_name": "LayoutModel",
     "state": {
      "_model_module": "@jupyter-widgets/base",
      "_model_module_version": "1.2.0",
      "_model_name": "LayoutModel",
      "_view_count": null,
      "_view_module": "@jupyter-widgets/base",
      "_view_module_version": "1.2.0",
      "_view_name": "LayoutView",
      "align_content": null,
      "align_items": null,
      "align_self": null,
      "border": null,
      "bottom": null,
      "display": null,
      "flex": null,
      "flex_flow": null,
      "grid_area": null,
      "grid_auto_columns": null,
      "grid_auto_flow": null,
      "grid_auto_rows": null,
      "grid_column": null,
      "grid_gap": null,
      "grid_row": null,
      "grid_template_areas": null,
      "grid_template_columns": null,
      "grid_template_rows": null,
      "height": null,
      "justify_content": null,
      "justify_items": null,
      "left": null,
      "margin": null,
      "max_height": null,
      "max_width": null,
      "min_height": null,
      "min_width": null,
      "object_fit": null,
      "object_position": null,
      "order": null,
      "overflow": null,
      "overflow_x": null,
      "overflow_y": null,
      "padding": null,
      "right": null,
      "top": null,
      "visibility": null,
      "width": null
     }
    },
    "3fe4f71880a5497e950d15a381614651": {
     "model_module": "@jupyter-widgets/controls",
     "model_name": "FloatProgressModel",
     "state": {
      "_dom_classes": [],
      "_model_module": "@jupyter-widgets/controls",
      "_model_module_version": "1.5.0",
      "_model_name": "FloatProgressModel",
      "_view_count": null,
      "_view_module": "@jupyter-widgets/controls",
      "_view_module_version": "1.5.0",
      "_view_name": "ProgressView",
      "bar_style": "success",
      "description": "Downloading: 100%",
      "description_tooltip": null,
      "layout": "IPY_MODEL_127e05f39b2d4b0f84dd7ca57d71cc98",
      "max": 28,
      "min": 0,
      "orientation": "horizontal",
      "style": "IPY_MODEL_4e9a142be38247088fe4f3a7d6ecd6f3",
      "value": 28
     }
    },
    "476bdde5624144919c7abb27938c7221": {
     "model_module": "@jupyter-widgets/base",
     "model_name": "LayoutModel",
     "state": {
      "_model_module": "@jupyter-widgets/base",
      "_model_module_version": "1.2.0",
      "_model_name": "LayoutModel",
      "_view_count": null,
      "_view_module": "@jupyter-widgets/base",
      "_view_module_version": "1.2.0",
      "_view_name": "LayoutView",
      "align_content": null,
      "align_items": null,
      "align_self": null,
      "border": null,
      "bottom": null,
      "display": null,
      "flex": null,
      "flex_flow": null,
      "grid_area": null,
      "grid_auto_columns": null,
      "grid_auto_flow": null,
      "grid_auto_rows": null,
      "grid_column": null,
      "grid_gap": null,
      "grid_row": null,
      "grid_template_areas": null,
      "grid_template_columns": null,
      "grid_template_rows": null,
      "height": null,
      "justify_content": null,
      "justify_items": null,
      "left": null,
      "margin": null,
      "max_height": null,
      "max_width": null,
      "min_height": null,
      "min_width": null,
      "object_fit": null,
      "object_position": null,
      "order": null,
      "overflow": null,
      "overflow_x": null,
      "overflow_y": null,
      "padding": null,
      "right": null,
      "top": null,
      "visibility": null,
      "width": null
     }
    },
    "477900896cec431f98ed705f5fbbf78b": {
     "model_module": "@jupyter-widgets/controls",
     "model_name": "ProgressStyleModel",
     "state": {
      "_model_module": "@jupyter-widgets/controls",
      "_model_module_version": "1.5.0",
      "_model_name": "ProgressStyleModel",
      "_view_count": null,
      "_view_module": "@jupyter-widgets/base",
      "_view_module_version": "1.2.0",
      "_view_name": "StyleView",
      "bar_color": null,
      "description_width": "initial"
     }
    },
    "48f55d9d4e3046d5abe21fef5b2a377c": {
     "model_module": "@jupyter-widgets/base",
     "model_name": "LayoutModel",
     "state": {
      "_model_module": "@jupyter-widgets/base",
      "_model_module_version": "1.2.0",
      "_model_name": "LayoutModel",
      "_view_count": null,
      "_view_module": "@jupyter-widgets/base",
      "_view_module_version": "1.2.0",
      "_view_name": "LayoutView",
      "align_content": null,
      "align_items": null,
      "align_self": null,
      "border": null,
      "bottom": null,
      "display": null,
      "flex": null,
      "flex_flow": null,
      "grid_area": null,
      "grid_auto_columns": null,
      "grid_auto_flow": null,
      "grid_auto_rows": null,
      "grid_column": null,
      "grid_gap": null,
      "grid_row": null,
      "grid_template_areas": null,
      "grid_template_columns": null,
      "grid_template_rows": null,
      "height": null,
      "justify_content": null,
      "justify_items": null,
      "left": null,
      "margin": null,
      "max_height": null,
      "max_width": null,
      "min_height": null,
      "min_width": null,
      "object_fit": null,
      "object_position": null,
      "order": null,
      "overflow": null,
      "overflow_x": null,
      "overflow_y": null,
      "padding": null,
      "right": null,
      "top": null,
      "visibility": null,
      "width": null
     }
    },
    "4e9a142be38247088fe4f3a7d6ecd6f3": {
     "model_module": "@jupyter-widgets/controls",
     "model_name": "ProgressStyleModel",
     "state": {
      "_model_module": "@jupyter-widgets/controls",
      "_model_module_version": "1.5.0",
      "_model_name": "ProgressStyleModel",
      "_view_count": null,
      "_view_module": "@jupyter-widgets/base",
      "_view_module_version": "1.2.0",
      "_view_name": "StyleView",
      "bar_color": null,
      "description_width": "initial"
     }
    },
    "5661f9afceac41cd81911ec61f840d1c": {
     "model_module": "@jupyter-widgets/controls",
     "model_name": "HBoxModel",
     "state": {
      "_dom_classes": [],
      "_model_module": "@jupyter-widgets/controls",
      "_model_module_version": "1.5.0",
      "_model_name": "HBoxModel",
      "_view_count": null,
      "_view_module": "@jupyter-widgets/controls",
      "_view_module_version": "1.5.0",
      "_view_name": "HBoxView",
      "box_style": "",
      "children": [
       "IPY_MODEL_6295bed1bbfc43ff8bd374152775b094",
       "IPY_MODEL_91e3626b49814c7e85fc351d6cea403c"
      ],
      "layout": "IPY_MODEL_0fe97a5a63614b35b1a58cb8d9765242"
     }
    },
    "62399066111345ec827e1912ec1d97ba": {
     "model_module": "@jupyter-widgets/controls",
     "model_name": "HTMLModel",
     "state": {
      "_dom_classes": [],
      "_model_module": "@jupyter-widgets/controls",
      "_model_module_version": "1.5.0",
      "_model_name": "HTMLModel",
      "_view_count": null,
      "_view_module": "@jupyter-widgets/controls",
      "_view_module_version": "1.5.0",
      "_view_name": "HTMLView",
      "description": "",
      "description_tooltip": null,
      "layout": "IPY_MODEL_62b92d97fdcb49b1ade6d076d0b203eb",
      "placeholder": "​",
      "style": "IPY_MODEL_ef71247bb53a4c709d59e63ab7d60c33",
      "value": " 536M/536M [00:30&lt;00:00, 17.3MB/s]"
     }
    },
    "6295bed1bbfc43ff8bd374152775b094": {
     "model_module": "@jupyter-widgets/controls",
     "model_name": "FloatProgressModel",
     "state": {
      "_dom_classes": [],
      "_model_module": "@jupyter-widgets/controls",
      "_model_module_version": "1.5.0",
      "_model_name": "FloatProgressModel",
      "_view_count": null,
      "_view_module": "@jupyter-widgets/controls",
      "_view_module_version": "1.5.0",
      "_view_name": "ProgressView",
      "bar_style": "success",
      "description": "Downloading: 100%",
      "description_tooltip": null,
      "layout": "IPY_MODEL_24e111b1fc5746a8a69f862a0dc3bc7d",
      "max": 570,
      "min": 0,
      "orientation": "horizontal",
      "style": "IPY_MODEL_cd7b13f0ba0f44a88b1d085fb5acf789",
      "value": 570
     }
    },
    "62b92d97fdcb49b1ade6d076d0b203eb": {
     "model_module": "@jupyter-widgets/base",
     "model_name": "LayoutModel",
     "state": {
      "_model_module": "@jupyter-widgets/base",
      "_model_module_version": "1.2.0",
      "_model_name": "LayoutModel",
      "_view_count": null,
      "_view_module": "@jupyter-widgets/base",
      "_view_module_version": "1.2.0",
      "_view_name": "LayoutView",
      "align_content": null,
      "align_items": null,
      "align_self": null,
      "border": null,
      "bottom": null,
      "display": null,
      "flex": null,
      "flex_flow": null,
      "grid_area": null,
      "grid_auto_columns": null,
      "grid_auto_flow": null,
      "grid_auto_rows": null,
      "grid_column": null,
      "grid_gap": null,
      "grid_row": null,
      "grid_template_areas": null,
      "grid_template_columns": null,
      "grid_template_rows": null,
      "height": null,
      "justify_content": null,
      "justify_items": null,
      "left": null,
      "margin": null,
      "max_height": null,
      "max_width": null,
      "min_height": null,
      "min_width": null,
      "object_fit": null,
      "object_position": null,
      "order": null,
      "overflow": null,
      "overflow_x": null,
      "overflow_y": null,
      "padding": null,
      "right": null,
      "top": null,
      "visibility": null,
      "width": null
     }
    },
    "6946d2105b2e4fd1bfab2b10f1256053": {
     "model_module": "@jupyter-widgets/base",
     "model_name": "LayoutModel",
     "state": {
      "_model_module": "@jupyter-widgets/base",
      "_model_module_version": "1.2.0",
      "_model_name": "LayoutModel",
      "_view_count": null,
      "_view_module": "@jupyter-widgets/base",
      "_view_module_version": "1.2.0",
      "_view_name": "LayoutView",
      "align_content": null,
      "align_items": null,
      "align_self": null,
      "border": null,
      "bottom": null,
      "display": null,
      "flex": null,
      "flex_flow": null,
      "grid_area": null,
      "grid_auto_columns": null,
      "grid_auto_flow": null,
      "grid_auto_rows": null,
      "grid_column": null,
      "grid_gap": null,
      "grid_row": null,
      "grid_template_areas": null,
      "grid_template_columns": null,
      "grid_template_rows": null,
      "height": null,
      "justify_content": null,
      "justify_items": null,
      "left": null,
      "margin": null,
      "max_height": null,
      "max_width": null,
      "min_height": null,
      "min_width": null,
      "object_fit": null,
      "object_position": null,
      "order": null,
      "overflow": null,
      "overflow_x": null,
      "overflow_y": null,
      "padding": null,
      "right": null,
      "top": null,
      "visibility": null,
      "width": null
     }
    },
    "6cead6beda334e7a8db3f27ad5845705": {
     "model_module": "@jupyter-widgets/base",
     "model_name": "LayoutModel",
     "state": {
      "_model_module": "@jupyter-widgets/base",
      "_model_module_version": "1.2.0",
      "_model_name": "LayoutModel",
      "_view_count": null,
      "_view_module": "@jupyter-widgets/base",
      "_view_module_version": "1.2.0",
      "_view_name": "LayoutView",
      "align_content": null,
      "align_items": null,
      "align_self": null,
      "border": null,
      "bottom": null,
      "display": null,
      "flex": null,
      "flex_flow": null,
      "grid_area": null,
      "grid_auto_columns": null,
      "grid_auto_flow": null,
      "grid_auto_rows": null,
      "grid_column": null,
      "grid_gap": null,
      "grid_row": null,
      "grid_template_areas": null,
      "grid_template_columns": null,
      "grid_template_rows": null,
      "height": null,
      "justify_content": null,
      "justify_items": null,
      "left": null,
      "margin": null,
      "max_height": null,
      "max_width": null,
      "min_height": null,
      "min_width": null,
      "object_fit": null,
      "object_position": null,
      "order": null,
      "overflow": null,
      "overflow_x": null,
      "overflow_y": null,
      "padding": null,
      "right": null,
      "top": null,
      "visibility": null,
      "width": null
     }
    },
    "73ca0820cf8a482bb3cb4bd658e7a5d3": {
     "model_module": "@jupyter-widgets/controls",
     "model_name": "ProgressStyleModel",
     "state": {
      "_model_module": "@jupyter-widgets/controls",
      "_model_module_version": "1.5.0",
      "_model_name": "ProgressStyleModel",
      "_view_count": null,
      "_view_module": "@jupyter-widgets/base",
      "_view_module_version": "1.2.0",
      "_view_name": "StyleView",
      "bar_color": null,
      "description_width": "initial"
     }
    },
    "73de1777b2f5478891fc9b8dc46c26a0": {
     "model_module": "@jupyter-widgets/controls",
     "model_name": "DescriptionStyleModel",
     "state": {
      "_model_module": "@jupyter-widgets/controls",
      "_model_module_version": "1.5.0",
      "_model_name": "DescriptionStyleModel",
      "_view_count": null,
      "_view_module": "@jupyter-widgets/base",
      "_view_module_version": "1.2.0",
      "_view_name": "StyleView",
      "description_width": ""
     }
    },
    "7a9083129f274149a176a0e31eb48411": {
     "model_module": "@jupyter-widgets/controls",
     "model_name": "FloatProgressModel",
     "state": {
      "_dom_classes": [],
      "_model_module": "@jupyter-widgets/controls",
      "_model_module_version": "1.5.0",
      "_model_name": "FloatProgressModel",
      "_view_count": null,
      "_view_module": "@jupyter-widgets/controls",
      "_view_module_version": "1.5.0",
      "_view_name": "ProgressView",
      "bar_style": "success",
      "description": "Downloading: 100%",
      "description_tooltip": null,
      "layout": "IPY_MODEL_3f2e7ff1d0ad466196075aad10b8b84a",
      "max": 231508,
      "min": 0,
      "orientation": "horizontal",
      "style": "IPY_MODEL_96ad3e5ee6bc4398a0c6e8ea948682a4",
      "value": 231508
     }
    },
    "7d102900f8884e44aa4953d89ad79465": {
     "model_module": "@jupyter-widgets/controls",
     "model_name": "HBoxModel",
     "state": {
      "_dom_classes": [],
      "_model_module": "@jupyter-widgets/controls",
      "_model_module_version": "1.5.0",
      "_model_name": "HBoxModel",
      "_view_count": null,
      "_view_module": "@jupyter-widgets/controls",
      "_view_module_version": "1.5.0",
      "_view_name": "HBoxView",
      "box_style": "",
      "children": [
       "IPY_MODEL_0b351be38ce9450eb4f4a857132b0a79",
       "IPY_MODEL_c41a59274c78422fa1c846a1711b2439"
      ],
      "layout": "IPY_MODEL_6946d2105b2e4fd1bfab2b10f1256053"
     }
    },
    "7fc1dee184a54de987dbba3af55c597e": {
     "model_module": "@jupyter-widgets/controls",
     "model_name": "HTMLModel",
     "state": {
      "_dom_classes": [],
      "_model_module": "@jupyter-widgets/controls",
      "_model_module_version": "1.5.0",
      "_model_name": "HTMLModel",
      "_view_count": null,
      "_view_module": "@jupyter-widgets/controls",
      "_view_module_version": "1.5.0",
      "_view_name": "HTMLView",
      "description": "",
      "description_tooltip": null,
      "layout": "IPY_MODEL_476bdde5624144919c7abb27938c7221",
      "placeholder": "​",
      "style": "IPY_MODEL_73de1777b2f5478891fc9b8dc46c26a0",
      "value": " 28.0/28.0 [00:08&lt;00:00, 3.33B/s]"
     }
    },
    "86b7927b6dc44fb28cf3b006163c39cf": {
     "model_module": "@jupyter-widgets/base",
     "model_name": "LayoutModel",
     "state": {
      "_model_module": "@jupyter-widgets/base",
      "_model_module_version": "1.2.0",
      "_model_name": "LayoutModel",
      "_view_count": null,
      "_view_module": "@jupyter-widgets/base",
      "_view_module_version": "1.2.0",
      "_view_name": "LayoutView",
      "align_content": null,
      "align_items": null,
      "align_self": null,
      "border": null,
      "bottom": null,
      "display": null,
      "flex": null,
      "flex_flow": null,
      "grid_area": null,
      "grid_auto_columns": null,
      "grid_auto_flow": null,
      "grid_auto_rows": null,
      "grid_column": null,
      "grid_gap": null,
      "grid_row": null,
      "grid_template_areas": null,
      "grid_template_columns": null,
      "grid_template_rows": null,
      "height": null,
      "justify_content": null,
      "justify_items": null,
      "left": null,
      "margin": null,
      "max_height": null,
      "max_width": null,
      "min_height": null,
      "min_width": null,
      "object_fit": null,
      "object_position": null,
      "order": null,
      "overflow": null,
      "overflow_x": null,
      "overflow_y": null,
      "padding": null,
      "right": null,
      "top": null,
      "visibility": null,
      "width": null
     }
    },
    "91e3626b49814c7e85fc351d6cea403c": {
     "model_module": "@jupyter-widgets/controls",
     "model_name": "HTMLModel",
     "state": {
      "_dom_classes": [],
      "_model_module": "@jupyter-widgets/controls",
      "_model_module_version": "1.5.0",
      "_model_name": "HTMLModel",
      "_view_count": null,
      "_view_module": "@jupyter-widgets/controls",
      "_view_module_version": "1.5.0",
      "_view_name": "HTMLView",
      "description": "",
      "description_tooltip": null,
      "layout": "IPY_MODEL_86b7927b6dc44fb28cf3b006163c39cf",
      "placeholder": "​",
      "style": "IPY_MODEL_e345fb951df24e0d848a051a485b4b65",
      "value": " 570/570 [00:01&lt;00:00, 327B/s]"
     }
    },
    "94a9c2fcf79f4ac0a8f2d712411f7d2b": {
     "model_module": "@jupyter-widgets/controls",
     "model_name": "HBoxModel",
     "state": {
      "_dom_classes": [],
      "_model_module": "@jupyter-widgets/controls",
      "_model_module_version": "1.5.0",
      "_model_name": "HBoxModel",
      "_view_count": null,
      "_view_module": "@jupyter-widgets/controls",
      "_view_module_version": "1.5.0",
      "_view_name": "HBoxView",
      "box_style": "",
      "children": [
       "IPY_MODEL_7a9083129f274149a176a0e31eb48411",
       "IPY_MODEL_dac236c954ef4b0f99067b8bbeba6283"
      ],
      "layout": "IPY_MODEL_d8e8c28122024aadb70ff1aab5530eeb"
     }
    },
    "96ad3e5ee6bc4398a0c6e8ea948682a4": {
     "model_module": "@jupyter-widgets/controls",
     "model_name": "ProgressStyleModel",
     "state": {
      "_model_module": "@jupyter-widgets/controls",
      "_model_module_version": "1.5.0",
      "_model_name": "ProgressStyleModel",
      "_view_count": null,
      "_view_module": "@jupyter-widgets/base",
      "_view_module_version": "1.2.0",
      "_view_name": "StyleView",
      "bar_color": null,
      "description_width": "initial"
     }
    },
    "9dac89e1bf484a1fafaa1b5235846d93": {
     "model_module": "@jupyter-widgets/controls",
     "model_name": "HBoxModel",
     "state": {
      "_dom_classes": [],
      "_model_module": "@jupyter-widgets/controls",
      "_model_module_version": "1.5.0",
      "_model_name": "HBoxModel",
      "_view_count": null,
      "_view_module": "@jupyter-widgets/controls",
      "_view_module_version": "1.5.0",
      "_view_name": "HBoxView",
      "box_style": "",
      "children": [
       "IPY_MODEL_3fe4f71880a5497e950d15a381614651",
       "IPY_MODEL_7fc1dee184a54de987dbba3af55c597e"
      ],
      "layout": "IPY_MODEL_2290a421c99944a19da4fa1888204a0a"
     }
    },
    "9fb9172e15b3405fab9a7db14d0c560d": {
     "model_module": "@jupyter-widgets/controls",
     "model_name": "DescriptionStyleModel",
     "state": {
      "_model_module": "@jupyter-widgets/controls",
      "_model_module_version": "1.5.0",
      "_model_name": "DescriptionStyleModel",
      "_view_count": null,
      "_view_module": "@jupyter-widgets/base",
      "_view_module_version": "1.2.0",
      "_view_name": "StyleView",
      "description_width": ""
     }
    },
    "a0d2c4f1560a4a6bab0be1285c932283": {
     "model_module": "@jupyter-widgets/base",
     "model_name": "LayoutModel",
     "state": {
      "_model_module": "@jupyter-widgets/base",
      "_model_module_version": "1.2.0",
      "_model_name": "LayoutModel",
      "_view_count": null,
      "_view_module": "@jupyter-widgets/base",
      "_view_module_version": "1.2.0",
      "_view_name": "LayoutView",
      "align_content": null,
      "align_items": null,
      "align_self": null,
      "border": null,
      "bottom": null,
      "display": null,
      "flex": null,
      "flex_flow": null,
      "grid_area": null,
      "grid_auto_columns": null,
      "grid_auto_flow": null,
      "grid_auto_rows": null,
      "grid_column": null,
      "grid_gap": null,
      "grid_row": null,
      "grid_template_areas": null,
      "grid_template_columns": null,
      "grid_template_rows": null,
      "height": null,
      "justify_content": null,
      "justify_items": null,
      "left": null,
      "margin": null,
      "max_height": null,
      "max_width": null,
      "min_height": null,
      "min_width": null,
      "object_fit": null,
      "object_position": null,
      "order": null,
      "overflow": null,
      "overflow_x": null,
      "overflow_y": null,
      "padding": null,
      "right": null,
      "top": null,
      "visibility": null,
      "width": null
     }
    },
    "c1e03b6d025a4dba9e37eb35c48d93ec": {
     "model_module": "@jupyter-widgets/controls",
     "model_name": "FloatProgressModel",
     "state": {
      "_dom_classes": [],
      "_model_module": "@jupyter-widgets/controls",
      "_model_module_version": "1.5.0",
      "_model_name": "FloatProgressModel",
      "_view_count": null,
      "_view_module": "@jupyter-widgets/controls",
      "_view_module_version": "1.5.0",
      "_view_name": "ProgressView",
      "bar_style": "success",
      "description": "Downloading: 100%",
      "description_tooltip": null,
      "layout": "IPY_MODEL_2989c05594ea4054b311517ce5339ed2",
      "max": 536063208,
      "min": 0,
      "orientation": "horizontal",
      "style": "IPY_MODEL_73ca0820cf8a482bb3cb4bd658e7a5d3",
      "value": 536063208
     }
    },
    "c41a59274c78422fa1c846a1711b2439": {
     "model_module": "@jupyter-widgets/controls",
     "model_name": "HTMLModel",
     "state": {
      "_dom_classes": [],
      "_model_module": "@jupyter-widgets/controls",
      "_model_module_version": "1.5.0",
      "_model_name": "HTMLModel",
      "_view_count": null,
      "_view_module": "@jupyter-widgets/controls",
      "_view_module_version": "1.5.0",
      "_view_name": "HTMLView",
      "description": "",
      "description_tooltip": null,
      "layout": "IPY_MODEL_a0d2c4f1560a4a6bab0be1285c932283",
      "placeholder": "​",
      "style": "IPY_MODEL_d26b4d4dbcd243cd8933f81fffad0b4d",
      "value": " 466k/466k [00:00&lt;00:00, 2.94MB/s]"
     }
    },
    "cd7b13f0ba0f44a88b1d085fb5acf789": {
     "model_module": "@jupyter-widgets/controls",
     "model_name": "ProgressStyleModel",
     "state": {
      "_model_module": "@jupyter-widgets/controls",
      "_model_module_version": "1.5.0",
      "_model_name": "ProgressStyleModel",
      "_view_count": null,
      "_view_module": "@jupyter-widgets/base",
      "_view_module_version": "1.2.0",
      "_view_name": "StyleView",
      "bar_color": null,
      "description_width": "initial"
     }
    },
    "d26b4d4dbcd243cd8933f81fffad0b4d": {
     "model_module": "@jupyter-widgets/controls",
     "model_name": "DescriptionStyleModel",
     "state": {
      "_model_module": "@jupyter-widgets/controls",
      "_model_module_version": "1.5.0",
      "_model_name": "DescriptionStyleModel",
      "_view_count": null,
      "_view_module": "@jupyter-widgets/base",
      "_view_module_version": "1.2.0",
      "_view_name": "StyleView",
      "description_width": ""
     }
    },
    "d8e8c28122024aadb70ff1aab5530eeb": {
     "model_module": "@jupyter-widgets/base",
     "model_name": "LayoutModel",
     "state": {
      "_model_module": "@jupyter-widgets/base",
      "_model_module_version": "1.2.0",
      "_model_name": "LayoutModel",
      "_view_count": null,
      "_view_module": "@jupyter-widgets/base",
      "_view_module_version": "1.2.0",
      "_view_name": "LayoutView",
      "align_content": null,
      "align_items": null,
      "align_self": null,
      "border": null,
      "bottom": null,
      "display": null,
      "flex": null,
      "flex_flow": null,
      "grid_area": null,
      "grid_auto_columns": null,
      "grid_auto_flow": null,
      "grid_auto_rows": null,
      "grid_column": null,
      "grid_gap": null,
      "grid_row": null,
      "grid_template_areas": null,
      "grid_template_columns": null,
      "grid_template_rows": null,
      "height": null,
      "justify_content": null,
      "justify_items": null,
      "left": null,
      "margin": null,
      "max_height": null,
      "max_width": null,
      "min_height": null,
      "min_width": null,
      "object_fit": null,
      "object_position": null,
      "order": null,
      "overflow": null,
      "overflow_x": null,
      "overflow_y": null,
      "padding": null,
      "right": null,
      "top": null,
      "visibility": null,
      "width": null
     }
    },
    "dac236c954ef4b0f99067b8bbeba6283": {
     "model_module": "@jupyter-widgets/controls",
     "model_name": "HTMLModel",
     "state": {
      "_dom_classes": [],
      "_model_module": "@jupyter-widgets/controls",
      "_model_module_version": "1.5.0",
      "_model_name": "HTMLModel",
      "_view_count": null,
      "_view_module": "@jupyter-widgets/controls",
      "_view_module_version": "1.5.0",
      "_view_name": "HTMLView",
      "description": "",
      "description_tooltip": null,
      "layout": "IPY_MODEL_48f55d9d4e3046d5abe21fef5b2a377c",
      "placeholder": "​",
      "style": "IPY_MODEL_9fb9172e15b3405fab9a7db14d0c560d",
      "value": " 232k/232k [00:00&lt;00:00, 798kB/s]"
     }
    },
    "e345fb951df24e0d848a051a485b4b65": {
     "model_module": "@jupyter-widgets/controls",
     "model_name": "DescriptionStyleModel",
     "state": {
      "_model_module": "@jupyter-widgets/controls",
      "_model_module_version": "1.5.0",
      "_model_name": "DescriptionStyleModel",
      "_view_count": null,
      "_view_module": "@jupyter-widgets/base",
      "_view_module_version": "1.2.0",
      "_view_name": "StyleView",
      "description_width": ""
     }
    },
    "e4efd2d54399463db446591d18cbe6fd": {
     "model_module": "@jupyter-widgets/base",
     "model_name": "LayoutModel",
     "state": {
      "_model_module": "@jupyter-widgets/base",
      "_model_module_version": "1.2.0",
      "_model_name": "LayoutModel",
      "_view_count": null,
      "_view_module": "@jupyter-widgets/base",
      "_view_module_version": "1.2.0",
      "_view_name": "LayoutView",
      "align_content": null,
      "align_items": null,
      "align_self": null,
      "border": null,
      "bottom": null,
      "display": null,
      "flex": null,
      "flex_flow": null,
      "grid_area": null,
      "grid_auto_columns": null,
      "grid_auto_flow": null,
      "grid_auto_rows": null,
      "grid_column": null,
      "grid_gap": null,
      "grid_row": null,
      "grid_template_areas": null,
      "grid_template_columns": null,
      "grid_template_rows": null,
      "height": null,
      "justify_content": null,
      "justify_items": null,
      "left": null,
      "margin": null,
      "max_height": null,
      "max_width": null,
      "min_height": null,
      "min_width": null,
      "object_fit": null,
      "object_position": null,
      "order": null,
      "overflow": null,
      "overflow_x": null,
      "overflow_y": null,
      "padding": null,
      "right": null,
      "top": null,
      "visibility": null,
      "width": null
     }
    },
    "ef71247bb53a4c709d59e63ab7d60c33": {
     "model_module": "@jupyter-widgets/controls",
     "model_name": "DescriptionStyleModel",
     "state": {
      "_model_module": "@jupyter-widgets/controls",
      "_model_module_version": "1.5.0",
      "_model_name": "DescriptionStyleModel",
      "_view_count": null,
      "_view_module": "@jupyter-widgets/base",
      "_view_module_version": "1.2.0",
      "_view_name": "StyleView",
      "description_width": ""
     }
    }
   }
  }
 },
 "nbformat": 4,
 "nbformat_minor": 4
}
