{
 "cells": [
  {
   "cell_type": "code",
   "execution_count": null,
   "metadata": {
    "colab": {
     "base_uri": "https://localhost:8080/"
    },
    "executionInfo": {
     "elapsed": 2828,
     "status": "ok",
     "timestamp": 1625345757202,
     "user": {
      "displayName": "meysam asgari chenaghlu",
      "photoUrl": "https://lh3.googleusercontent.com/a-/AOh14GgN-uRJ5KciT9X_sZpZ4pOpEANlj5GCtXuY2ecq=s64",
      "userId": "13491140841572947804"
     },
     "user_tz": -180
    },
    "id": "PdIoF7TKIpJW",
    "outputId": "488d1e86-190c-4da1-d8c6-1ecc294f2d8e"
   },
   "outputs": [],
   "source": [
    "!pip install transformers[sentencepiece]"
   ]
  },
  {
   "cell_type": "markdown",
   "metadata": {
    "id": "G-YNZD9II5G-"
   },
   "source": [
    "## multilingual BERT"
   ]
  },
  {
   "cell_type": "code",
   "execution_count": null,
   "metadata": {
    "colab": {
     "base_uri": "https://localhost:8080/"
    },
    "executionInfo": {
     "elapsed": 8517,
     "status": "ok",
     "timestamp": 1625345769219,
     "user": {
      "displayName": "meysam asgari chenaghlu",
      "photoUrl": "https://lh3.googleusercontent.com/a-/AOh14GgN-uRJ5KciT9X_sZpZ4pOpEANlj5GCtXuY2ecq=s64",
      "userId": "13491140841572947804"
     },
     "user_tz": -180
    },
    "id": "_ryKYBNMJLy8",
    "outputId": "f117144b-15a5-453f-de10-72c7eeec4edc"
   },
   "outputs": [],
   "source": [
    "from transformers import pipeline\n",
    "\n",
    "unmasker = pipeline(\"fill-mask\", model=\"bert-base-multilingual-uncased\")"
   ]
  },
  {
   "cell_type": "code",
   "execution_count": null,
   "metadata": {
    "colab": {
     "base_uri": "https://localhost:8080/"
    },
    "executionInfo": {
     "elapsed": 768,
     "status": "ok",
     "timestamp": 1625345772090,
     "user": {
      "displayName": "meysam asgari chenaghlu",
      "photoUrl": "https://lh3.googleusercontent.com/a-/AOh14GgN-uRJ5KciT9X_sZpZ4pOpEANlj5GCtXuY2ecq=s64",
      "userId": "13491140841572947804"
     },
     "user_tz": -180
    },
    "id": "DCE-chAlJbx2",
    "outputId": "3e820c2c-ddc9-4ad5-9eaa-a44551871eb4"
   },
   "outputs": [],
   "source": [
    "sentences = [\n",
    "    \"Transformers changed the [MASK] language processing\",\n",
    "    \"Transformerlar [MASK] dil işlemeyi değiştirdiler\",\n",
    "    \"ترنسفرمرها پردازش زبان [MASK] را تغییر دادند\",\n",
    "]\n",
    "for sentence in sentences:\n",
    "    print(sentence)\n",
    "    print(unmasker(sentence)[0][\"sequence\"])\n",
    "    print(\"=\" * 50)"
   ]
  },
  {
   "cell_type": "markdown",
   "metadata": {
    "id": "a5C5IMAdJQzU"
   },
   "source": [
    "## XLM"
   ]
  },
  {
   "cell_type": "code",
   "execution_count": null,
   "metadata": {
    "executionInfo": {
     "elapsed": 7919,
     "status": "ok",
     "timestamp": 1625345784474,
     "user": {
      "displayName": "meysam asgari chenaghlu",
      "photoUrl": "https://lh3.googleusercontent.com/a-/AOh14GgN-uRJ5KciT9X_sZpZ4pOpEANlj5GCtXuY2ecq=s64",
      "userId": "13491140841572947804"
     },
     "user_tz": -180
    },
    "id": "-aUgA59EJWsN"
   },
   "outputs": [],
   "source": [
    "unmasker = pipeline(\"fill-mask\", model=\"xlm-roberta-base\")"
   ]
  },
  {
   "cell_type": "code",
   "execution_count": null,
   "metadata": {
    "executionInfo": {
     "elapsed": 340,
     "status": "ok",
     "timestamp": 1625345785918,
     "user": {
      "displayName": "meysam asgari chenaghlu",
      "photoUrl": "https://lh3.googleusercontent.com/a-/AOh14GgN-uRJ5KciT9X_sZpZ4pOpEANlj5GCtXuY2ecq=s64",
      "userId": "13491140841572947804"
     },
     "user_tz": -180
    },
    "id": "mEgyVHirJllN"
   },
   "outputs": [],
   "source": [
    "sentences = [\n",
    "    \"Transformers changed the <mask> language processing\",\n",
    "    \"Transformerlar <mask> dil işlemeyi değiştirdiler\",\n",
    "    \"ترنسفرمرها پردازش زبان <mask> را تغییر دادند\",\n",
    "]"
   ]
  },
  {
   "cell_type": "code",
   "execution_count": null,
   "metadata": {
    "colab": {
     "base_uri": "https://localhost:8080/"
    },
    "executionInfo": {
     "elapsed": 786,
     "status": "ok",
     "timestamp": 1625345787854,
     "user": {
      "displayName": "meysam asgari chenaghlu",
      "photoUrl": "https://lh3.googleusercontent.com/a-/AOh14GgN-uRJ5KciT9X_sZpZ4pOpEANlj5GCtXuY2ecq=s64",
      "userId": "13491140841572947804"
     },
     "user_tz": -180
    },
    "id": "fXNgWdr-JqY3",
    "outputId": "5bb99724-494d-47f8-95dd-c82a3ad51401"
   },
   "outputs": [],
   "source": [
    "for sentence in sentences:\n",
    "    print(sentence)\n",
    "    print(unmasker(sentence)[0][\"sequence\"])\n",
    "    print(\"=\" * 50)"
   ]
  },
  {
   "cell_type": "code",
   "execution_count": null,
   "metadata": {
    "colab": {
     "base_uri": "https://localhost:8080/"
    },
    "executionInfo": {
     "elapsed": 284,
     "status": "ok",
     "timestamp": 1625345792952,
     "user": {
      "displayName": "meysam asgari chenaghlu",
      "photoUrl": "https://lh3.googleusercontent.com/a-/AOh14GgN-uRJ5KciT9X_sZpZ4pOpEANlj5GCtXuY2ecq=s64",
      "userId": "13491140841572947804"
     },
     "user_tz": -180
    },
    "id": "A7tNGZsqJrik",
    "outputId": "e072d537-9e2a-4a48-8360-27a322205a34"
   },
   "outputs": [],
   "source": [
    "print(\n",
    "    unmasker(\n",
    "        \"Transformers changed the natural language processing. </s> Transformerlar <mask> dil işlemeyi değiştirdiler.\"\n",
    "    )[0][\"sequence\"]\n",
    ")"
   ]
  },
  {
   "cell_type": "code",
   "execution_count": null,
   "metadata": {
    "colab": {
     "base_uri": "https://localhost:8080/"
    },
    "executionInfo": {
     "elapsed": 741,
     "status": "ok",
     "timestamp": 1625345795856,
     "user": {
      "displayName": "meysam asgari chenaghlu",
      "photoUrl": "https://lh3.googleusercontent.com/a-/AOh14GgN-uRJ5KciT9X_sZpZ4pOpEANlj5GCtXuY2ecq=s64",
      "userId": "13491140841572947804"
     },
     "user_tz": -180
    },
    "id": "wjEP0xQ3Jz3p",
    "outputId": "7e947d99-2e1b-42d4-9276-c74981c4e6ff"
   },
   "outputs": [],
   "source": [
    "print(\n",
    "    unmasker(\n",
    "        \"Earth is a great place to live in. </s> زمین جای خوبی برای <mask> کردن است.\"\n",
    "    )[0][\"sequence\"]\n",
    ")"
   ]
  },
  {
   "cell_type": "code",
   "execution_count": null,
   "metadata": {
    "id": "HpUTAlOxJ2ER"
   },
   "outputs": [],
   "source": []
  }
 ],
 "metadata": {
  "accelerator": "GPU",
  "colab": {
   "authorship_tag": "ABX9TyMY54LGHqp/0JHSPJcyYuTZ",
   "name": "CH09a_XLM_and_multilingual_BERT.ipynb",
   "provenance": []
  },
  "kernelspec": {
   "display_name": "Python 3 (ipykernel)",
   "language": "python",
   "name": "python3"
  },
  "language_info": {
   "codemirror_mode": {
    "name": "ipython",
    "version": 3
   },
   "file_extension": ".py",
   "mimetype": "text/x-python",
   "name": "python",
   "nbconvert_exporter": "python",
   "pygments_lexer": "ipython3",
   "version": "3.11.6"
  }
 },
 "nbformat": 4,
 "nbformat_minor": 4
}
