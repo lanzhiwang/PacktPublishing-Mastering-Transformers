{
 "cells": [
  {
   "cell_type": "code",
   "execution_count": null,
   "metadata": {
    "colab": {
     "base_uri": "https://localhost:8080/"
    },
    "executionInfo": {
     "elapsed": 3634,
     "status": "ok",
     "timestamp": 1625405856850,
     "user": {
      "displayName": "meysam asgari chenaghlu",
      "photoUrl": "https://lh3.googleusercontent.com/a-/AOh14GgN-uRJ5KciT9X_sZpZ4pOpEANlj5GCtXuY2ecq=s64",
      "userId": "13491140841572947804"
     },
     "user_tz": -180
    },
    "id": "UCthB_lEtf7S",
    "outputId": "4d33c447-0eae-4a96-b728-5dee71d8d088"
   },
   "outputs": [],
   "source": [
    "!pip install transformers[sentencepiece]"
   ]
  },
  {
   "cell_type": "code",
   "execution_count": null,
   "metadata": {
    "executionInfo": {
     "elapsed": 154843,
     "status": "ok",
     "timestamp": 1625406013787,
     "user": {
      "displayName": "meysam asgari chenaghlu",
      "photoUrl": "https://lh3.googleusercontent.com/a-/AOh14GgN-uRJ5KciT9X_sZpZ4pOpEANlj5GCtXuY2ecq=s64",
      "userId": "13491140841572947804"
     },
     "user_tz": -180
    },
    "id": "rhUTN5MxtqhQ"
   },
   "outputs": [],
   "source": [
    "from torch.nn.functional import softmax\n",
    "from transformers import MT5ForConditionalGeneration, MT5Tokenizer\n",
    "\n",
    "model_name = \"alan-turing-institute/mt5-large-finetuned-mnli-xtreme-xnli\"\n",
    "tokenizer = MT5Tokenizer.from_pretrained(model_name)\n",
    "model = MT5ForConditionalGeneration.from_pretrained(model_name)"
   ]
  },
  {
   "cell_type": "code",
   "execution_count": null,
   "metadata": {
    "executionInfo": {
     "elapsed": 366,
     "status": "ok",
     "timestamp": 1625406018900,
     "user": {
      "displayName": "meysam asgari chenaghlu",
      "photoUrl": "https://lh3.googleusercontent.com/a-/AOh14GgN-uRJ5KciT9X_sZpZ4pOpEANlj5GCtXuY2ecq=s64",
      "userId": "13491140841572947804"
     },
     "user_tz": -180
    },
    "id": "I-OW8Q1ZttoZ"
   },
   "outputs": [],
   "source": [
    "sequence_to_classify = \"Wen werden Sie bei der nächsten Wahl wählen? \"\n",
    "candidate_labels = [\"spor\", \"ekonomi\", \"politika\"]\n",
    "hypothesis_template = \"Dieses Beispiel ist {}.\""
   ]
  },
  {
   "cell_type": "code",
   "execution_count": null,
   "metadata": {
    "executionInfo": {
     "elapsed": 315,
     "status": "ok",
     "timestamp": 1625406021259,
     "user": {
      "displayName": "meysam asgari chenaghlu",
      "photoUrl": "https://lh3.googleusercontent.com/a-/AOh14GgN-uRJ5KciT9X_sZpZ4pOpEANlj5GCtXuY2ecq=s64",
      "userId": "13491140841572947804"
     },
     "user_tz": -180
    },
    "id": "9fNYHp1Jtugh"
   },
   "outputs": [],
   "source": [
    "ENTAILS_LABEL = \"▁0\"\n",
    "NEUTRAL_LABEL = \"▁1\"\n",
    "CONTRADICTS_LABEL = \"▁2\"\n",
    "label_inds = tokenizer.convert_tokens_to_ids(\n",
    "    [ENTAILS_LABEL, NEUTRAL_LABEL, CONTRADICTS_LABEL]\n",
    ")"
   ]
  },
  {
   "cell_type": "code",
   "execution_count": null,
   "metadata": {
    "executionInfo": {
     "elapsed": 324,
     "status": "ok",
     "timestamp": 1625406023719,
     "user": {
      "displayName": "meysam asgari chenaghlu",
      "photoUrl": "https://lh3.googleusercontent.com/a-/AOh14GgN-uRJ5KciT9X_sZpZ4pOpEANlj5GCtXuY2ecq=s64",
      "userId": "13491140841572947804"
     },
     "user_tz": -180
    },
    "id": "v5GgejAItulC"
   },
   "outputs": [],
   "source": [
    "def process_nli(premise, hypothesis):\n",
    "    return f\"xnli: premise: {premise} hypothesis: {hypothesis}\""
   ]
  },
  {
   "cell_type": "code",
   "execution_count": null,
   "metadata": {
    "executionInfo": {
     "elapsed": 294,
     "status": "ok",
     "timestamp": 1625406025406,
     "user": {
      "displayName": "meysam asgari chenaghlu",
      "photoUrl": "https://lh3.googleusercontent.com/a-/AOh14GgN-uRJ5KciT9X_sZpZ4pOpEANlj5GCtXuY2ecq=s64",
      "userId": "13491140841572947804"
     },
     "user_tz": -180
    },
    "id": "BFdWG5tBtzvO"
   },
   "outputs": [],
   "source": [
    "pairs = [\n",
    "    (sequence_to_classify, hypothesis_template.format(label))\n",
    "    for label in candidate_labels\n",
    "]\n",
    "seqs = [\n",
    "    process_nli(premise=premise, hypothesis=hypothesis) for premise, hypothesis in pairs\n",
    "]"
   ]
  },
  {
   "cell_type": "code",
   "execution_count": null,
   "metadata": {
    "colab": {
     "base_uri": "https://localhost:8080/"
    },
    "executionInfo": {
     "elapsed": 15,
     "status": "ok",
     "timestamp": 1625406027557,
     "user": {
      "displayName": "meysam asgari chenaghlu",
      "photoUrl": "https://lh3.googleusercontent.com/a-/AOh14GgN-uRJ5KciT9X_sZpZ4pOpEANlj5GCtXuY2ecq=s64",
      "userId": "13491140841572947804"
     },
     "user_tz": -180
    },
    "id": "lfPcT2i7t1tU",
    "outputId": "ed5fa148-5d3a-4833-e495-95d2b46cc0cb"
   },
   "outputs": [],
   "source": [
    "print(seqs)"
   ]
  },
  {
   "cell_type": "code",
   "execution_count": null,
   "metadata": {
    "executionInfo": {
     "elapsed": 3215,
     "status": "ok",
     "timestamp": 1625406037740,
     "user": {
      "displayName": "meysam asgari chenaghlu",
      "photoUrl": "https://lh3.googleusercontent.com/a-/AOh14GgN-uRJ5KciT9X_sZpZ4pOpEANlj5GCtXuY2ecq=s64",
      "userId": "13491140841572947804"
     },
     "user_tz": -180
    },
    "id": "eYnzpXLzt3jc"
   },
   "outputs": [],
   "source": [
    "inputs = tokenizer.batch_encode_plus(seqs, return_tensors=\"pt\", padding=True)\n",
    "out = model.generate(\n",
    "    **inputs, output_scores=True, return_dict_in_generate=True, num_beams=1\n",
    ")"
   ]
  },
  {
   "cell_type": "code",
   "execution_count": null,
   "metadata": {
    "executionInfo": {
     "elapsed": 429,
     "status": "ok",
     "timestamp": 1625406039693,
     "user": {
      "displayName": "meysam asgari chenaghlu",
      "photoUrl": "https://lh3.googleusercontent.com/a-/AOh14GgN-uRJ5KciT9X_sZpZ4pOpEANlj5GCtXuY2ecq=s64",
      "userId": "13491140841572947804"
     },
     "user_tz": -180
    },
    "id": "nXFNUT9It5jS"
   },
   "outputs": [],
   "source": [
    "scores = out.scores[0]\n",
    "scores = scores[:, label_inds]"
   ]
  },
  {
   "cell_type": "code",
   "execution_count": null,
   "metadata": {
    "colab": {
     "base_uri": "https://localhost:8080/"
    },
    "executionInfo": {
     "elapsed": 8,
     "status": "ok",
     "timestamp": 1625406040709,
     "user": {
      "displayName": "meysam asgari chenaghlu",
      "photoUrl": "https://lh3.googleusercontent.com/a-/AOh14GgN-uRJ5KciT9X_sZpZ4pOpEANlj5GCtXuY2ecq=s64",
      "userId": "13491140841572947804"
     },
     "user_tz": -180
    },
    "id": "1pYywKNgt7qL",
    "outputId": "27499535-7c3e-4e91-c370-f1d3e09bfb18"
   },
   "outputs": [],
   "source": [
    "print(scores)"
   ]
  },
  {
   "cell_type": "code",
   "execution_count": null,
   "metadata": {
    "executionInfo": {
     "elapsed": 305,
     "status": "ok",
     "timestamp": 1625406043481,
     "user": {
      "displayName": "meysam asgari chenaghlu",
      "photoUrl": "https://lh3.googleusercontent.com/a-/AOh14GgN-uRJ5KciT9X_sZpZ4pOpEANlj5GCtXuY2ecq=s64",
      "userId": "13491140841572947804"
     },
     "user_tz": -180
    },
    "id": "71OFMi-4t9tp"
   },
   "outputs": [],
   "source": [
    "entailment_ind = 0\n",
    "contradiction_ind = 2\n",
    "entail_vs_contra_scores = scores[:, [entailment_ind, contradiction_ind]]"
   ]
  },
  {
   "cell_type": "code",
   "execution_count": null,
   "metadata": {
    "executionInfo": {
     "elapsed": 304,
     "status": "ok",
     "timestamp": 1625406045864,
     "user": {
      "displayName": "meysam asgari chenaghlu",
      "photoUrl": "https://lh3.googleusercontent.com/a-/AOh14GgN-uRJ5KciT9X_sZpZ4pOpEANlj5GCtXuY2ecq=s64",
      "userId": "13491140841572947804"
     },
     "user_tz": -180
    },
    "id": "hd4Xx9SDt_wO"
   },
   "outputs": [],
   "source": [
    "entail_vs_contra_probas = softmax(entail_vs_contra_scores, dim=1)"
   ]
  },
  {
   "cell_type": "code",
   "execution_count": null,
   "metadata": {
    "colab": {
     "base_uri": "https://localhost:8080/"
    },
    "executionInfo": {
     "elapsed": 6,
     "status": "ok",
     "timestamp": 1625406046894,
     "user": {
      "displayName": "meysam asgari chenaghlu",
      "photoUrl": "https://lh3.googleusercontent.com/a-/AOh14GgN-uRJ5KciT9X_sZpZ4pOpEANlj5GCtXuY2ecq=s64",
      "userId": "13491140841572947804"
     },
     "user_tz": -180
    },
    "id": "EtDjbgswuBYx",
    "outputId": "00a4417f-f360-4193-b950-ffaf693a9a50"
   },
   "outputs": [],
   "source": [
    "print(entail_vs_contra_probas)"
   ]
  },
  {
   "cell_type": "code",
   "execution_count": null,
   "metadata": {
    "executionInfo": {
     "elapsed": 276,
     "status": "ok",
     "timestamp": 1625406050725,
     "user": {
      "displayName": "meysam asgari chenaghlu",
      "photoUrl": "https://lh3.googleusercontent.com/a-/AOh14GgN-uRJ5KciT9X_sZpZ4pOpEANlj5GCtXuY2ecq=s64",
      "userId": "13491140841572947804"
     },
     "user_tz": -180
    },
    "id": "o0adm4HuuDYM"
   },
   "outputs": [],
   "source": [
    "entail_scores = scores[:, entailment_ind]\n",
    "entail_probas = softmax(entail_scores, dim=0)"
   ]
  },
  {
   "cell_type": "code",
   "execution_count": null,
   "metadata": {
    "colab": {
     "base_uri": "https://localhost:8080/"
    },
    "executionInfo": {
     "elapsed": 10,
     "status": "ok",
     "timestamp": 1625406051735,
     "user": {
      "displayName": "meysam asgari chenaghlu",
      "photoUrl": "https://lh3.googleusercontent.com/a-/AOh14GgN-uRJ5KciT9X_sZpZ4pOpEANlj5GCtXuY2ecq=s64",
      "userId": "13491140841572947804"
     },
     "user_tz": -180
    },
    "id": "qefMYWs_uFFE",
    "outputId": "056d1956-44f6-4a97-fef5-7804fe7dc53e"
   },
   "outputs": [],
   "source": [
    "print(entail_probas)"
   ]
  },
  {
   "cell_type": "code",
   "execution_count": null,
   "metadata": {
    "colab": {
     "base_uri": "https://localhost:8080/"
    },
    "executionInfo": {
     "elapsed": 314,
     "status": "ok",
     "timestamp": 1625406055000,
     "user": {
      "displayName": "meysam asgari chenaghlu",
      "photoUrl": "https://lh3.googleusercontent.com/a-/AOh14GgN-uRJ5KciT9X_sZpZ4pOpEANlj5GCtXuY2ecq=s64",
      "userId": "13491140841572947804"
     },
     "user_tz": -180
    },
    "id": "Owl7ae7UuHGU",
    "outputId": "148db01d-7d8a-4d32-d636-3cc26468c946"
   },
   "outputs": [],
   "source": [
    "print(dict(zip(candidate_labels, entail_probas.tolist())))"
   ]
  },
  {
   "cell_type": "code",
   "execution_count": null,
   "metadata": {
    "id": "jh3mxc4wubA3"
   },
   "outputs": [],
   "source": []
  }
 ],
 "metadata": {
  "colab": {
   "authorship_tag": "ABX9TyP3IdVQMGzooC9X4uBA0Sp8",
   "name": "CH09d_Cross_lingual_zero_shot_learning.ipynb",
   "provenance": []
  },
  "kernelspec": {
   "display_name": "Python 3 (ipykernel)",
   "language": "python",
   "name": "python3"
  },
  "language_info": {
   "codemirror_mode": {
    "name": "ipython",
    "version": 3
   },
   "file_extension": ".py",
   "mimetype": "text/x-python",
   "name": "python",
   "nbconvert_exporter": "python",
   "pygments_lexer": "ipython3",
   "version": "3.11.6"
  }
 },
 "nbformat": 4,
 "nbformat_minor": 4
}
