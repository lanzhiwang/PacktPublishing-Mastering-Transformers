{
 "cells": [
  {
   "cell_type": "markdown",
   "id": "kVzb8JWhurLP",
   "metadata": {
    "id": "kVzb8JWhurLP"
   },
   "source": [
    "#Semantic Search\n",
    "## Case Study: Transform idle FAQ to Question Answering Model\n",
    "\n"
   ]
  },
  {
   "cell_type": "code",
   "execution_count": null,
   "id": "fzDG7HERuriy",
   "metadata": {
    "colab": {
     "base_uri": "https://localhost:8080/"
    },
    "executionInfo": {
     "elapsed": 2913,
     "status": "ok",
     "timestamp": 1625404253107,
     "user": {
      "displayName": "Savas Yıldırım",
      "photoUrl": "https://lh3.googleusercontent.com/a-/AOh14GhdhYZMfq-hvK2xI7HqkzvJuCbfgFrIs4wypQEm5w=s64",
      "userId": "10717726124681851716"
     },
     "user_tz": -180
    },
    "id": "fzDG7HERuriy",
    "outputId": "178d67b5-00cd-46c2-a0c9-480f7177927e"
   },
   "outputs": [],
   "source": [
    "!pip install sentence-transformers"
   ]
  },
  {
   "cell_type": "code",
   "execution_count": null,
   "id": "GmqJ32A9PMP7",
   "metadata": {
    "executionInfo": {
     "elapsed": 1011,
     "status": "ok",
     "timestamp": 1625404258696,
     "user": {
      "displayName": "Savas Yıldırım",
      "photoUrl": "https://lh3.googleusercontent.com/a-/AOh14GhdhYZMfq-hvK2xI7HqkzvJuCbfgFrIs4wypQEm5w=s64",
      "userId": "10717726124681851716"
     },
     "user_tz": -180
    },
    "id": "GmqJ32A9PMP7"
   },
   "outputs": [],
   "source": [
    "import pandas as pd\n",
    "import sklearn\n",
    "import numpy as np"
   ]
  },
  {
   "cell_type": "markdown",
   "id": "XhHPVbz5PMhr",
   "metadata": {
    "id": "XhHPVbz5PMhr"
   },
   "source": [
    "https://www.wwf.org.uk/\n",
    "\n",
    "World Wide Fund for Nature\n",
    "Non-governmental organization"
   ]
  },
  {
   "cell_type": "code",
   "execution_count": null,
   "id": "3-EfV5fQQh3k",
   "metadata": {
    "executionInfo": {
     "elapsed": 275,
     "status": "ok",
     "timestamp": 1625404261183,
     "user": {
      "displayName": "Savas Yıldırım",
      "photoUrl": "https://lh3.googleusercontent.com/a-/AOh14GhdhYZMfq-hvK2xI7HqkzvJuCbfgFrIs4wypQEm5w=s64",
      "userId": "10717726124681851716"
     },
     "user_tz": -180
    },
    "id": "3-EfV5fQQh3k"
   },
   "outputs": [],
   "source": [
    "wwf_faq = [\n",
    "    \"I haven’t received my adoption pack. What should I do?\",\n",
    "    \"How quickly will I receive my adoption pack?\",\n",
    "    \"How can I renew my adoption?\",\n",
    "    \"How do I change my address or other contact details?\",\n",
    "    \"Can I adopt an animal if I don’t live in the UK?\",\n",
    "    \"If I adopt an animal, will I be the only person who adopts that animal?\",\n",
    "    \"My pack doesn't contain a certicate\",\n",
    "    \"My adoption is a gift but won’t arrive on time. What can I do?\",\n",
    "    \"Can I pay for an adoption with a one-off payment?\",\n",
    "    \"Can I change the delivery address for my adoption pack after I’ve placed my order?\",\n",
    "    \"How long will my adoption last for?\",\n",
    "    \"How often will I receive updates about my adopted animal?\",\n",
    "    \"What animals do you have for adoption?\",\n",
    "    \"How can I nd out more information about my adopted animal?\",\n",
    "    \"How is my adoption money spent?\",\n",
    "    \"What is your refund policy?\",\n",
    "    \"An error has been made with my Direct Debit payment, can I receive a refund?\",\n",
    "    \"How do I change how you contact me?\",\n",
    "]"
   ]
  },
  {
   "cell_type": "code",
   "execution_count": null,
   "id": "continent-fiber",
   "metadata": {
    "executionInfo": {
     "elapsed": 837,
     "status": "ok",
     "timestamp": 1625404263272,
     "user": {
      "displayName": "Savas Yıldırım",
      "photoUrl": "https://lh3.googleusercontent.com/a-/AOh14GhdhYZMfq-hvK2xI7HqkzvJuCbfgFrIs4wypQEm5w=s64",
      "userId": "10717726124681851716"
     },
     "user_tz": -180
    },
    "id": "continent-fiber"
   },
   "outputs": [],
   "source": [
    "from sentence_transformers import SentenceTransformer\n",
    "\n",
    "model = SentenceTransformer(\"quora-distilbert-base\")"
   ]
  },
  {
   "cell_type": "code",
   "execution_count": null,
   "id": "F9OIKk5ww2IH",
   "metadata": {
    "executionInfo": {
     "elapsed": 595,
     "status": "ok",
     "timestamp": 1625404265221,
     "user": {
      "displayName": "Savas Yıldırım",
      "photoUrl": "https://lh3.googleusercontent.com/a-/AOh14GhdhYZMfq-hvK2xI7HqkzvJuCbfgFrIs4wypQEm5w=s64",
      "userId": "10717726124681851716"
     },
     "user_tz": -180
    },
    "id": "F9OIKk5ww2IH"
   },
   "outputs": [],
   "source": []
  },
  {
   "cell_type": "code",
   "execution_count": null,
   "id": "SIs2CipHRWSB",
   "metadata": {
    "executionInfo": {
     "elapsed": 329,
     "status": "ok",
     "timestamp": 1625404265893,
     "user": {
      "displayName": "Savas Yıldırım",
      "photoUrl": "https://lh3.googleusercontent.com/a-/AOh14GhdhYZMfq-hvK2xI7HqkzvJuCbfgFrIs4wypQEm5w=s64",
      "userId": "10717726124681851716"
     },
     "user_tz": -180
    },
    "id": "SIs2CipHRWSB"
   },
   "outputs": [],
   "source": [
    "faq_embeddings = model.encode(wwf_faq)"
   ]
  },
  {
   "cell_type": "code",
   "execution_count": null,
   "id": "t5gq4NAaSEZx",
   "metadata": {
    "executionInfo": {
     "elapsed": 11,
     "status": "ok",
     "timestamp": 1625404267323,
     "user": {
      "displayName": "Savas Yıldırım",
      "photoUrl": "https://lh3.googleusercontent.com/a-/AOh14GhdhYZMfq-hvK2xI7HqkzvJuCbfgFrIs4wypQEm5w=s64",
      "userId": "10717726124681851716"
     },
     "user_tz": -180
    },
    "id": "t5gq4NAaSEZx"
   },
   "outputs": [],
   "source": [
    "test_questions = [\n",
    "    \"What should be done, if the adoption pack did not reach to me?\",\n",
    "    \" How fast is my adoption pack delivered to me?\",\n",
    "    \"What should I do to renew my adoption?\",\n",
    "    \"What should be done to change adress and contact details ?\",\n",
    "    \"I live outside of the UK, Can I still adopt an animal?\",\n",
    "]\n",
    "test_q_emb = model.encode(test_questions)"
   ]
  },
  {
   "cell_type": "code",
   "execution_count": null,
   "id": "collect-andrew",
   "metadata": {
    "colab": {
     "base_uri": "https://localhost:8080/"
    },
    "executionInfo": {
     "elapsed": 3,
     "status": "ok",
     "timestamp": 1625404269030,
     "user": {
      "displayName": "Savas Yıldırım",
      "photoUrl": "https://lh3.googleusercontent.com/a-/AOh14GhdhYZMfq-hvK2xI7HqkzvJuCbfgFrIs4wypQEm5w=s64",
      "userId": "10717726124681851716"
     },
     "user_tz": -180
    },
    "id": "collect-andrew",
    "outputId": "3e32986b-a0df-4447-e7fe-0885d5658def"
   },
   "outputs": [],
   "source": [
    "from scipy.spatial.distance import cdist\n",
    "\n",
    "for q, qe in zip(test_questions, test_q_emb):\n",
    "    distances = cdist([qe], faq_embeddings, \"cosine\")[0]\n",
    "    ind = np.argsort(distances, axis=0)[:3]\n",
    "    print(\"\\n Test Question: \\n \" + q)\n",
    "    for i, (dis, text) in enumerate(zip(distances[ind], [wwf_faq[i] for i in ind])):\n",
    "        print(dis, ind[i], text, sep=\"\\t\")"
   ]
  },
  {
   "cell_type": "code",
   "execution_count": null,
   "id": "differential-survey",
   "metadata": {
    "executionInfo": {
     "elapsed": 11,
     "status": "ok",
     "timestamp": 1625404270273,
     "user": {
      "displayName": "Savas Yıldırım",
      "photoUrl": "https://lh3.googleusercontent.com/a-/AOh14GhdhYZMfq-hvK2xI7HqkzvJuCbfgFrIs4wypQEm5w=s64",
      "userId": "10717726124681851716"
     },
     "user_tz": -180
    },
    "id": "differential-survey"
   },
   "outputs": [],
   "source": [
    "def get_best(query, K=3):\n",
    "    query_embedding = model.encode([query])\n",
    "    distances = cdist(query_embedding, faq_embeddings, \"cosine\")[0]\n",
    "    ind = np.argsort(distances, axis=0)\n",
    "    print(\"\\n\" + query)\n",
    "    for c, i in list(zip(distances[ind], ind))[:K]:\n",
    "        print(c, wwf_faq[i], sep=\"\\t\")"
   ]
  },
  {
   "cell_type": "code",
   "execution_count": null,
   "id": "TSF6PGoQTR_t",
   "metadata": {
    "colab": {
     "base_uri": "https://localhost:8080/"
    },
    "executionInfo": {
     "elapsed": 451,
     "status": "ok",
     "timestamp": 1625404272235,
     "user": {
      "displayName": "Savas Yıldırım",
      "photoUrl": "https://lh3.googleusercontent.com/a-/AOh14GhdhYZMfq-hvK2xI7HqkzvJuCbfgFrIs4wypQEm5w=s64",
      "userId": "10717726124681851716"
     },
     "user_tz": -180
    },
    "id": "TSF6PGoQTR_t",
    "outputId": "7ac3e847-6204-4fbe-b10c-7ce203df304a"
   },
   "outputs": [],
   "source": [
    "get_best(\"How do I change my contact info?\", 3)"
   ]
  },
  {
   "cell_type": "code",
   "execution_count": null,
   "id": "L7STjz6BTUVs",
   "metadata": {
    "colab": {
     "base_uri": "https://localhost:8080/"
    },
    "executionInfo": {
     "elapsed": 10,
     "status": "ok",
     "timestamp": 1625404273599,
     "user": {
      "displayName": "Savas Yıldırım",
      "photoUrl": "https://lh3.googleusercontent.com/a-/AOh14GhdhYZMfq-hvK2xI7HqkzvJuCbfgFrIs4wypQEm5w=s64",
      "userId": "10717726124681851716"
     },
     "user_tz": -180
    },
    "id": "L7STjz6BTUVs",
    "outputId": "112ca8b6-5049-45dc-9999-baf22c44bdf7"
   },
   "outputs": [],
   "source": [
    "get_best(\"How do I get my plane ticket if I bought it online?\")"
   ]
  },
  {
   "cell_type": "code",
   "execution_count": null,
   "id": "K5VoBtfVl58K",
   "metadata": {
    "id": "K5VoBtfVl58K"
   },
   "outputs": [],
   "source": []
  }
 ],
 "metadata": {
  "colab": {
   "collapsed_sections": [],
   "name": "CH07e_Semantic_Search_with_Sentence_BERT.ipynb",
   "provenance": []
  },
  "kernelspec": {
   "display_name": "Python 3 (ipykernel)",
   "language": "python",
   "name": "python3"
  },
  "language_info": {
   "codemirror_mode": {
    "name": "ipython",
    "version": 3
   },
   "file_extension": ".py",
   "mimetype": "text/x-python",
   "name": "python",
   "nbconvert_exporter": "python",
   "pygments_lexer": "ipython3",
   "version": "3.11.6"
  }
 },
 "nbformat": 4,
 "nbformat_minor": 5
}
