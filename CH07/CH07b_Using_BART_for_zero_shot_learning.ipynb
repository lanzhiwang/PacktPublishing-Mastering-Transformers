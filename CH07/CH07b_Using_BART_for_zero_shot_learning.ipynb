{
 "cells": [
  {
   "cell_type": "code",
   "execution_count": null,
   "metadata": {
    "colab": {
     "base_uri": "https://localhost:8080/"
    },
    "executionInfo": {
     "elapsed": 2760,
     "status": "ok",
     "timestamp": 1625343937339,
     "user": {
      "displayName": "meysam asgari chenaghlu",
      "photoUrl": "https://lh3.googleusercontent.com/a-/AOh14GgN-uRJ5KciT9X_sZpZ4pOpEANlj5GCtXuY2ecq=s64",
      "userId": "13491140841572947804"
     },
     "user_tz": -180
    },
    "id": "nW3mGrSWBsbv",
    "outputId": "e6d25990-76e6-40e3-821c-ed966dcb285f"
   },
   "outputs": [],
   "source": [
    "!pip install transformers[sentencepiece]"
   ]
  },
  {
   "cell_type": "markdown",
   "metadata": {
    "id": "YtDAWQJnBegn"
   },
   "source": [
    "## BART zero-shot Text Classification"
   ]
  },
  {
   "cell_type": "code",
   "execution_count": null,
   "metadata": {
    "colab": {
     "base_uri": "https://localhost:8080/",
     "height": 175
    },
    "executionInfo": {
     "elapsed": 11836,
     "status": "ok",
     "timestamp": 1625343952712,
     "user": {
      "displayName": "meysam asgari chenaghlu",
      "photoUrl": "https://lh3.googleusercontent.com/a-/AOh14GgN-uRJ5KciT9X_sZpZ4pOpEANlj5GCtXuY2ecq=s64",
      "userId": "13491140841572947804"
     },
     "user_tz": -180
    },
    "id": "4HZPHyA-CEsb",
    "outputId": "673b2271-0ce4-4554-eb81-a865420890f3"
   },
   "outputs": [],
   "source": [
    "from transformers import pipeline\n",
    "import pandas as pd\n",
    "\n",
    "classifier = pipeline(\"zero-shot-classification\", model=\"facebook/bart-large-mnli\")\n",
    "sequence_to_classify = \"one day I will see the world\"\n",
    "candidate_labels = [\"travel\", \"cooking\", \"dancing\", \"exploration\"]\n",
    "result = classifier(sequence_to_classify, candidate_labels)\n",
    "pd.DataFrame(result)"
   ]
  },
  {
   "cell_type": "code",
   "execution_count": null,
   "metadata": {
    "colab": {
     "base_uri": "https://localhost:8080/",
     "height": 175
    },
    "executionInfo": {
     "elapsed": 1343,
     "status": "ok",
     "timestamp": 1625343956133,
     "user": {
      "displayName": "meysam asgari chenaghlu",
      "photoUrl": "https://lh3.googleusercontent.com/a-/AOh14GgN-uRJ5KciT9X_sZpZ4pOpEANlj5GCtXuY2ecq=s64",
      "userId": "13491140841572947804"
     },
     "user_tz": -180
    },
    "id": "GnRsPkJOCJYF",
    "outputId": "6193593c-79f2-402c-db07-613b532387e3"
   },
   "outputs": [],
   "source": [
    "result = classifier(sequence_to_classify, candidate_labels, multi_label=True)\n",
    "pd.DataFrame(result)"
   ]
  },
  {
   "cell_type": "markdown",
   "metadata": {
    "id": "VCfmUiUgCT6d"
   },
   "source": [
    "## BART no pipeline"
   ]
  },
  {
   "cell_type": "code",
   "execution_count": null,
   "metadata": {
    "executionInfo": {
     "elapsed": 7737,
     "status": "ok",
     "timestamp": 1625343968616,
     "user": {
      "displayName": "meysam asgari chenaghlu",
      "photoUrl": "https://lh3.googleusercontent.com/a-/AOh14GgN-uRJ5KciT9X_sZpZ4pOpEANlj5GCtXuY2ecq=s64",
      "userId": "13491140841572947804"
     },
     "user_tz": -180
    },
    "id": "t-JOm5DFCe3_"
   },
   "outputs": [],
   "source": [
    "from transformers import AutoModelForSequenceClassification, AutoTokenizer\n",
    "\n",
    "nli_model = AutoModelForSequenceClassification.from_pretrained(\n",
    "    \"facebook/bart-large-mnli\"\n",
    ")\n",
    "tokenizer = AutoTokenizer.from_pretrained(\"facebook/bart-large-mnli\")"
   ]
  },
  {
   "cell_type": "code",
   "execution_count": null,
   "metadata": {
    "executionInfo": {
     "elapsed": 10,
     "status": "ok",
     "timestamp": 1625343969797,
     "user": {
      "displayName": "meysam asgari chenaghlu",
      "photoUrl": "https://lh3.googleusercontent.com/a-/AOh14GgN-uRJ5KciT9X_sZpZ4pOpEANlj5GCtXuY2ecq=s64",
      "userId": "13491140841572947804"
     },
     "user_tz": -180
    },
    "id": "AK56LSGMCyB9"
   },
   "outputs": [],
   "source": [
    "premise = \"one day I will see the world\"\n",
    "label = \"travel\"\n",
    "hypothesis = f\"This example is {label}.\""
   ]
  },
  {
   "cell_type": "code",
   "execution_count": null,
   "metadata": {
    "colab": {
     "base_uri": "https://localhost:8080/"
    },
    "executionInfo": {
     "elapsed": 341,
     "status": "ok",
     "timestamp": 1625343971408,
     "user": {
      "displayName": "meysam asgari chenaghlu",
      "photoUrl": "https://lh3.googleusercontent.com/a-/AOh14GgN-uRJ5KciT9X_sZpZ4pOpEANlj5GCtXuY2ecq=s64",
      "userId": "13491140841572947804"
     },
     "user_tz": -180
    },
    "id": "CNr_tcIhC1mH",
    "outputId": "9458677c-2568-4cff-dd35-e608bd7d0adc"
   },
   "outputs": [],
   "source": [
    "x = tokenizer.encode(\n",
    "    premise, hypothesis, return_tensors=\"pt\", truncation_strategy=\"only_first\"\n",
    ")"
   ]
  },
  {
   "cell_type": "code",
   "execution_count": null,
   "metadata": {
    "colab": {
     "base_uri": "https://localhost:8080/"
    },
    "executionInfo": {
     "elapsed": 570,
     "status": "ok",
     "timestamp": 1625343973798,
     "user": {
      "displayName": "meysam asgari chenaghlu",
      "photoUrl": "https://lh3.googleusercontent.com/a-/AOh14GgN-uRJ5KciT9X_sZpZ4pOpEANlj5GCtXuY2ecq=s64",
      "userId": "13491140841572947804"
     },
     "user_tz": -180
    },
    "id": "f8-zTXeHC3H5",
    "outputId": "f61dd131-e420-4934-bb62-232937259af5"
   },
   "outputs": [],
   "source": [
    "logits = nli_model(x)[0]\n",
    "entail_contradiction_logits = logits[:, [0, 2]]\n",
    "probs = entail_contradiction_logits.softmax(dim=1)\n",
    "prob_label_is_true = probs[:, 1]\n",
    "print(prob_label_is_true)"
   ]
  },
  {
   "cell_type": "code",
   "execution_count": null,
   "metadata": {
    "id": "W2KPslP0C3iL"
   },
   "outputs": [],
   "source": []
  }
 ],
 "metadata": {
  "accelerator": "GPU",
  "colab": {
   "authorship_tag": "ABX9TyNXy3agCfVva4GmxURx9kRr",
   "name": "CH07b_Using_BART_for_zero_shot_learning.ipynb",
   "provenance": []
  },
  "kernelspec": {
   "display_name": "Python 3 (ipykernel)",
   "language": "python",
   "name": "python3"
  },
  "language_info": {
   "codemirror_mode": {
    "name": "ipython",
    "version": 3
   },
   "file_extension": ".py",
   "mimetype": "text/x-python",
   "name": "python",
   "nbconvert_exporter": "python",
   "pygments_lexer": "ipython3",
   "version": "3.11.6"
  }
 },
 "nbformat": 4,
 "nbformat_minor": 4
}
