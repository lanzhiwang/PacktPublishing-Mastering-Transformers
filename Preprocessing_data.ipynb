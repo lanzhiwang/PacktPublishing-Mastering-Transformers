{
 "cells": [
  {
   "cell_type": "markdown",
   "id": "d04f24b7-50d2-4cc5-830f-df724a949ea3",
   "metadata": {},
   "source": [
    "## 6.3. Preprocessing data\n",
    "预处理数据\n",
    "\n",
    "The `sklearn.preprocessing` package provides several common utility functions and transformer classes to change raw feature vectors into a representation that is more suitable for the downstream estimators.\n",
    "\n",
    "sklearn.preprocessing 包提供了几个常见的 Utility 函数和 transformer 类, 用于将原始特征向量转换为更适合下游估计器的表示形式.\n",
    "\n",
    "In general, many learning algorithms such as linear models benefit from standardization of the data set (see Importance of Feature Scaling). If some outliers are present in the set, robust scalers or other transformers can be more appropriate. The behaviors of the different scalers, transformers, and normalizers on a dataset containing marginal outliers is highlighted in Compare the effect of different scalers on data with outliers.\n",
    "\n",
    "一般来说, 许多学习算法(如线性模型)都受益于数据集的标准化(请参阅特征缩放的重要性). 如果集合中存在一些异常值, 则健壮的缩放器或其他转换器可以更合适. 不同缩放器、变压器和包含边缘异常值的数据集上的归一化器在比较不同标度调整器对具有异常值的数据的影响.\n",
    "\n",
    "### 6.3.1. Standardization, or mean removal and variance scaling\n",
    "标准化, 或均值去除和方差缩放\n",
    "\n",
    "Standardization of datasets is a common requirement for many machine learning estimators implemented in scikit-learn; they might behave badly if the individual features do not more or less look like standard normally distributed data: Gaussian with zero mean and unit variance.\n",
    "\n",
    "数据集的标准化是在 scikit-learn 中实现的许多机器学习估计器的常见要求; 如果单个特征或多或少看起来不像标准正态分布数据: 均值和单位方差为零的高斯数据, 则它们可能会表现不佳.\n",
    "\n",
    "In practice we often ignore the shape of the distribution and just transform the data to center it by removing the mean value of each feature, then scale it by dividing non-constant features by their standard deviation.\n",
    "\n",
    "在实践中, 我们经常忽略分布的形状, 只是通过删除每个特征的平均值来转换数据以使其居中, 然后通过将非常量特征除以标准差来缩放它.\n",
    "\n",
    "For instance, many elements used in the objective function of a learning algorithm (such as the RBF kernel of Support Vector Machines or the l1 and l2 regularizers of linear models) may assume that all features are centered around zero or have variance in the same order. If a feature has a variance that is orders of magnitude larger than others, it might dominate the objective function and make the estimator unable to learn from other features correctly as expected.\n",
    "\n",
    "例如, 学习算法的目标函数中使用的许多元素(例如支持向量机的 RBF 内核或线性模型的 l1 和 l2 正则化器)可能假设所有特征都以零为中心或具有相同顺序的方差. 如果某个特征的方差比其他特征大几个数量级, 则它可能会主导目标函数, 并使估计器无法按预期正确地从其他特征中学习.\n",
    "\n",
    "The preprocessing module provides the StandardScaler utility class, which is a quick and easy way to perform the following operation on an array-like dataset:\n",
    "\n",
    "预处理模块提供了 StandardScaler 实用程序类, 这是对类似数组的数据集执行以下作的一种快速简便的方法:"
   ]
  },
  {
   "cell_type": "code",
   "execution_count": 1,
   "id": "62b1c0c4-2bde-4e5b-8006-6b18e5bbddc9",
   "metadata": {},
   "outputs": [
    {
     "data": {
      "text/html": [
       "<style>#sk-container-id-1 {\n",
       "  /* Definition of color scheme common for light and dark mode */\n",
       "  --sklearn-color-text: #000;\n",
       "  --sklearn-color-text-muted: #666;\n",
       "  --sklearn-color-line: gray;\n",
       "  /* Definition of color scheme for unfitted estimators */\n",
       "  --sklearn-color-unfitted-level-0: #fff5e6;\n",
       "  --sklearn-color-unfitted-level-1: #f6e4d2;\n",
       "  --sklearn-color-unfitted-level-2: #ffe0b3;\n",
       "  --sklearn-color-unfitted-level-3: chocolate;\n",
       "  /* Definition of color scheme for fitted estimators */\n",
       "  --sklearn-color-fitted-level-0: #f0f8ff;\n",
       "  --sklearn-color-fitted-level-1: #d4ebff;\n",
       "  --sklearn-color-fitted-level-2: #b3dbfd;\n",
       "  --sklearn-color-fitted-level-3: cornflowerblue;\n",
       "\n",
       "  /* Specific color for light theme */\n",
       "  --sklearn-color-text-on-default-background: var(--sg-text-color, var(--theme-code-foreground, var(--jp-content-font-color1, black)));\n",
       "  --sklearn-color-background: var(--sg-background-color, var(--theme-background, var(--jp-layout-color0, white)));\n",
       "  --sklearn-color-border-box: var(--sg-text-color, var(--theme-code-foreground, var(--jp-content-font-color1, black)));\n",
       "  --sklearn-color-icon: #696969;\n",
       "\n",
       "  @media (prefers-color-scheme: dark) {\n",
       "    /* Redefinition of color scheme for dark theme */\n",
       "    --sklearn-color-text-on-default-background: var(--sg-text-color, var(--theme-code-foreground, var(--jp-content-font-color1, white)));\n",
       "    --sklearn-color-background: var(--sg-background-color, var(--theme-background, var(--jp-layout-color0, #111)));\n",
       "    --sklearn-color-border-box: var(--sg-text-color, var(--theme-code-foreground, var(--jp-content-font-color1, white)));\n",
       "    --sklearn-color-icon: #878787;\n",
       "  }\n",
       "}\n",
       "\n",
       "#sk-container-id-1 {\n",
       "  color: var(--sklearn-color-text);\n",
       "}\n",
       "\n",
       "#sk-container-id-1 pre {\n",
       "  padding: 0;\n",
       "}\n",
       "\n",
       "#sk-container-id-1 input.sk-hidden--visually {\n",
       "  border: 0;\n",
       "  clip: rect(1px 1px 1px 1px);\n",
       "  clip: rect(1px, 1px, 1px, 1px);\n",
       "  height: 1px;\n",
       "  margin: -1px;\n",
       "  overflow: hidden;\n",
       "  padding: 0;\n",
       "  position: absolute;\n",
       "  width: 1px;\n",
       "}\n",
       "\n",
       "#sk-container-id-1 div.sk-dashed-wrapped {\n",
       "  border: 1px dashed var(--sklearn-color-line);\n",
       "  margin: 0 0.4em 0.5em 0.4em;\n",
       "  box-sizing: border-box;\n",
       "  padding-bottom: 0.4em;\n",
       "  background-color: var(--sklearn-color-background);\n",
       "}\n",
       "\n",
       "#sk-container-id-1 div.sk-container {\n",
       "  /* jupyter's `normalize.less` sets `[hidden] { display: none; }`\n",
       "     but bootstrap.min.css set `[hidden] { display: none !important; }`\n",
       "     so we also need the `!important` here to be able to override the\n",
       "     default hidden behavior on the sphinx rendered scikit-learn.org.\n",
       "     See: https://github.com/scikit-learn/scikit-learn/issues/21755 */\n",
       "  display: inline-block !important;\n",
       "  position: relative;\n",
       "}\n",
       "\n",
       "#sk-container-id-1 div.sk-text-repr-fallback {\n",
       "  display: none;\n",
       "}\n",
       "\n",
       "div.sk-parallel-item,\n",
       "div.sk-serial,\n",
       "div.sk-item {\n",
       "  /* draw centered vertical line to link estimators */\n",
       "  background-image: linear-gradient(var(--sklearn-color-text-on-default-background), var(--sklearn-color-text-on-default-background));\n",
       "  background-size: 2px 100%;\n",
       "  background-repeat: no-repeat;\n",
       "  background-position: center center;\n",
       "}\n",
       "\n",
       "/* Parallel-specific style estimator block */\n",
       "\n",
       "#sk-container-id-1 div.sk-parallel-item::after {\n",
       "  content: \"\";\n",
       "  width: 100%;\n",
       "  border-bottom: 2px solid var(--sklearn-color-text-on-default-background);\n",
       "  flex-grow: 1;\n",
       "}\n",
       "\n",
       "#sk-container-id-1 div.sk-parallel {\n",
       "  display: flex;\n",
       "  align-items: stretch;\n",
       "  justify-content: center;\n",
       "  background-color: var(--sklearn-color-background);\n",
       "  position: relative;\n",
       "}\n",
       "\n",
       "#sk-container-id-1 div.sk-parallel-item {\n",
       "  display: flex;\n",
       "  flex-direction: column;\n",
       "}\n",
       "\n",
       "#sk-container-id-1 div.sk-parallel-item:first-child::after {\n",
       "  align-self: flex-end;\n",
       "  width: 50%;\n",
       "}\n",
       "\n",
       "#sk-container-id-1 div.sk-parallel-item:last-child::after {\n",
       "  align-self: flex-start;\n",
       "  width: 50%;\n",
       "}\n",
       "\n",
       "#sk-container-id-1 div.sk-parallel-item:only-child::after {\n",
       "  width: 0;\n",
       "}\n",
       "\n",
       "/* Serial-specific style estimator block */\n",
       "\n",
       "#sk-container-id-1 div.sk-serial {\n",
       "  display: flex;\n",
       "  flex-direction: column;\n",
       "  align-items: center;\n",
       "  background-color: var(--sklearn-color-background);\n",
       "  padding-right: 1em;\n",
       "  padding-left: 1em;\n",
       "}\n",
       "\n",
       "\n",
       "/* Toggleable style: style used for estimator/Pipeline/ColumnTransformer box that is\n",
       "clickable and can be expanded/collapsed.\n",
       "- Pipeline and ColumnTransformer use this feature and define the default style\n",
       "- Estimators will overwrite some part of the style using the `sk-estimator` class\n",
       "*/\n",
       "\n",
       "/* Pipeline and ColumnTransformer style (default) */\n",
       "\n",
       "#sk-container-id-1 div.sk-toggleable {\n",
       "  /* Default theme specific background. It is overwritten whether we have a\n",
       "  specific estimator or a Pipeline/ColumnTransformer */\n",
       "  background-color: var(--sklearn-color-background);\n",
       "}\n",
       "\n",
       "/* Toggleable label */\n",
       "#sk-container-id-1 label.sk-toggleable__label {\n",
       "  cursor: pointer;\n",
       "  display: flex;\n",
       "  width: 100%;\n",
       "  margin-bottom: 0;\n",
       "  padding: 0.5em;\n",
       "  box-sizing: border-box;\n",
       "  text-align: center;\n",
       "  align-items: start;\n",
       "  justify-content: space-between;\n",
       "  gap: 0.5em;\n",
       "}\n",
       "\n",
       "#sk-container-id-1 label.sk-toggleable__label .caption {\n",
       "  font-size: 0.6rem;\n",
       "  font-weight: lighter;\n",
       "  color: var(--sklearn-color-text-muted);\n",
       "}\n",
       "\n",
       "#sk-container-id-1 label.sk-toggleable__label-arrow:before {\n",
       "  /* Arrow on the left of the label */\n",
       "  content: \"▸\";\n",
       "  float: left;\n",
       "  margin-right: 0.25em;\n",
       "  color: var(--sklearn-color-icon);\n",
       "}\n",
       "\n",
       "#sk-container-id-1 label.sk-toggleable__label-arrow:hover:before {\n",
       "  color: var(--sklearn-color-text);\n",
       "}\n",
       "\n",
       "/* Toggleable content - dropdown */\n",
       "\n",
       "#sk-container-id-1 div.sk-toggleable__content {\n",
       "  max-height: 0;\n",
       "  max-width: 0;\n",
       "  overflow: hidden;\n",
       "  text-align: left;\n",
       "  /* unfitted */\n",
       "  background-color: var(--sklearn-color-unfitted-level-0);\n",
       "}\n",
       "\n",
       "#sk-container-id-1 div.sk-toggleable__content.fitted {\n",
       "  /* fitted */\n",
       "  background-color: var(--sklearn-color-fitted-level-0);\n",
       "}\n",
       "\n",
       "#sk-container-id-1 div.sk-toggleable__content pre {\n",
       "  margin: 0.2em;\n",
       "  border-radius: 0.25em;\n",
       "  color: var(--sklearn-color-text);\n",
       "  /* unfitted */\n",
       "  background-color: var(--sklearn-color-unfitted-level-0);\n",
       "}\n",
       "\n",
       "#sk-container-id-1 div.sk-toggleable__content.fitted pre {\n",
       "  /* unfitted */\n",
       "  background-color: var(--sklearn-color-fitted-level-0);\n",
       "}\n",
       "\n",
       "#sk-container-id-1 input.sk-toggleable__control:checked~div.sk-toggleable__content {\n",
       "  /* Expand drop-down */\n",
       "  max-height: 200px;\n",
       "  max-width: 100%;\n",
       "  overflow: auto;\n",
       "}\n",
       "\n",
       "#sk-container-id-1 input.sk-toggleable__control:checked~label.sk-toggleable__label-arrow:before {\n",
       "  content: \"▾\";\n",
       "}\n",
       "\n",
       "/* Pipeline/ColumnTransformer-specific style */\n",
       "\n",
       "#sk-container-id-1 div.sk-label input.sk-toggleable__control:checked~label.sk-toggleable__label {\n",
       "  color: var(--sklearn-color-text);\n",
       "  background-color: var(--sklearn-color-unfitted-level-2);\n",
       "}\n",
       "\n",
       "#sk-container-id-1 div.sk-label.fitted input.sk-toggleable__control:checked~label.sk-toggleable__label {\n",
       "  background-color: var(--sklearn-color-fitted-level-2);\n",
       "}\n",
       "\n",
       "/* Estimator-specific style */\n",
       "\n",
       "/* Colorize estimator box */\n",
       "#sk-container-id-1 div.sk-estimator input.sk-toggleable__control:checked~label.sk-toggleable__label {\n",
       "  /* unfitted */\n",
       "  background-color: var(--sklearn-color-unfitted-level-2);\n",
       "}\n",
       "\n",
       "#sk-container-id-1 div.sk-estimator.fitted input.sk-toggleable__control:checked~label.sk-toggleable__label {\n",
       "  /* fitted */\n",
       "  background-color: var(--sklearn-color-fitted-level-2);\n",
       "}\n",
       "\n",
       "#sk-container-id-1 div.sk-label label.sk-toggleable__label,\n",
       "#sk-container-id-1 div.sk-label label {\n",
       "  /* The background is the default theme color */\n",
       "  color: var(--sklearn-color-text-on-default-background);\n",
       "}\n",
       "\n",
       "/* On hover, darken the color of the background */\n",
       "#sk-container-id-1 div.sk-label:hover label.sk-toggleable__label {\n",
       "  color: var(--sklearn-color-text);\n",
       "  background-color: var(--sklearn-color-unfitted-level-2);\n",
       "}\n",
       "\n",
       "/* Label box, darken color on hover, fitted */\n",
       "#sk-container-id-1 div.sk-label.fitted:hover label.sk-toggleable__label.fitted {\n",
       "  color: var(--sklearn-color-text);\n",
       "  background-color: var(--sklearn-color-fitted-level-2);\n",
       "}\n",
       "\n",
       "/* Estimator label */\n",
       "\n",
       "#sk-container-id-1 div.sk-label label {\n",
       "  font-family: monospace;\n",
       "  font-weight: bold;\n",
       "  display: inline-block;\n",
       "  line-height: 1.2em;\n",
       "}\n",
       "\n",
       "#sk-container-id-1 div.sk-label-container {\n",
       "  text-align: center;\n",
       "}\n",
       "\n",
       "/* Estimator-specific */\n",
       "#sk-container-id-1 div.sk-estimator {\n",
       "  font-family: monospace;\n",
       "  border: 1px dotted var(--sklearn-color-border-box);\n",
       "  border-radius: 0.25em;\n",
       "  box-sizing: border-box;\n",
       "  margin-bottom: 0.5em;\n",
       "  /* unfitted */\n",
       "  background-color: var(--sklearn-color-unfitted-level-0);\n",
       "}\n",
       "\n",
       "#sk-container-id-1 div.sk-estimator.fitted {\n",
       "  /* fitted */\n",
       "  background-color: var(--sklearn-color-fitted-level-0);\n",
       "}\n",
       "\n",
       "/* on hover */\n",
       "#sk-container-id-1 div.sk-estimator:hover {\n",
       "  /* unfitted */\n",
       "  background-color: var(--sklearn-color-unfitted-level-2);\n",
       "}\n",
       "\n",
       "#sk-container-id-1 div.sk-estimator.fitted:hover {\n",
       "  /* fitted */\n",
       "  background-color: var(--sklearn-color-fitted-level-2);\n",
       "}\n",
       "\n",
       "/* Specification for estimator info (e.g. \"i\" and \"?\") */\n",
       "\n",
       "/* Common style for \"i\" and \"?\" */\n",
       "\n",
       ".sk-estimator-doc-link,\n",
       "a:link.sk-estimator-doc-link,\n",
       "a:visited.sk-estimator-doc-link {\n",
       "  float: right;\n",
       "  font-size: smaller;\n",
       "  line-height: 1em;\n",
       "  font-family: monospace;\n",
       "  background-color: var(--sklearn-color-background);\n",
       "  border-radius: 1em;\n",
       "  height: 1em;\n",
       "  width: 1em;\n",
       "  text-decoration: none !important;\n",
       "  margin-left: 0.5em;\n",
       "  text-align: center;\n",
       "  /* unfitted */\n",
       "  border: var(--sklearn-color-unfitted-level-1) 1pt solid;\n",
       "  color: var(--sklearn-color-unfitted-level-1);\n",
       "}\n",
       "\n",
       ".sk-estimator-doc-link.fitted,\n",
       "a:link.sk-estimator-doc-link.fitted,\n",
       "a:visited.sk-estimator-doc-link.fitted {\n",
       "  /* fitted */\n",
       "  border: var(--sklearn-color-fitted-level-1) 1pt solid;\n",
       "  color: var(--sklearn-color-fitted-level-1);\n",
       "}\n",
       "\n",
       "/* On hover */\n",
       "div.sk-estimator:hover .sk-estimator-doc-link:hover,\n",
       ".sk-estimator-doc-link:hover,\n",
       "div.sk-label-container:hover .sk-estimator-doc-link:hover,\n",
       ".sk-estimator-doc-link:hover {\n",
       "  /* unfitted */\n",
       "  background-color: var(--sklearn-color-unfitted-level-3);\n",
       "  color: var(--sklearn-color-background);\n",
       "  text-decoration: none;\n",
       "}\n",
       "\n",
       "div.sk-estimator.fitted:hover .sk-estimator-doc-link.fitted:hover,\n",
       ".sk-estimator-doc-link.fitted:hover,\n",
       "div.sk-label-container:hover .sk-estimator-doc-link.fitted:hover,\n",
       ".sk-estimator-doc-link.fitted:hover {\n",
       "  /* fitted */\n",
       "  background-color: var(--sklearn-color-fitted-level-3);\n",
       "  color: var(--sklearn-color-background);\n",
       "  text-decoration: none;\n",
       "}\n",
       "\n",
       "/* Span, style for the box shown on hovering the info icon */\n",
       ".sk-estimator-doc-link span {\n",
       "  display: none;\n",
       "  z-index: 9999;\n",
       "  position: relative;\n",
       "  font-weight: normal;\n",
       "  right: .2ex;\n",
       "  padding: .5ex;\n",
       "  margin: .5ex;\n",
       "  width: min-content;\n",
       "  min-width: 20ex;\n",
       "  max-width: 50ex;\n",
       "  color: var(--sklearn-color-text);\n",
       "  box-shadow: 2pt 2pt 4pt #999;\n",
       "  /* unfitted */\n",
       "  background: var(--sklearn-color-unfitted-level-0);\n",
       "  border: .5pt solid var(--sklearn-color-unfitted-level-3);\n",
       "}\n",
       "\n",
       ".sk-estimator-doc-link.fitted span {\n",
       "  /* fitted */\n",
       "  background: var(--sklearn-color-fitted-level-0);\n",
       "  border: var(--sklearn-color-fitted-level-3);\n",
       "}\n",
       "\n",
       ".sk-estimator-doc-link:hover span {\n",
       "  display: block;\n",
       "}\n",
       "\n",
       "/* \"?\"-specific style due to the `<a>` HTML tag */\n",
       "\n",
       "#sk-container-id-1 a.estimator_doc_link {\n",
       "  float: right;\n",
       "  font-size: 1rem;\n",
       "  line-height: 1em;\n",
       "  font-family: monospace;\n",
       "  background-color: var(--sklearn-color-background);\n",
       "  border-radius: 1rem;\n",
       "  height: 1rem;\n",
       "  width: 1rem;\n",
       "  text-decoration: none;\n",
       "  /* unfitted */\n",
       "  color: var(--sklearn-color-unfitted-level-1);\n",
       "  border: var(--sklearn-color-unfitted-level-1) 1pt solid;\n",
       "}\n",
       "\n",
       "#sk-container-id-1 a.estimator_doc_link.fitted {\n",
       "  /* fitted */\n",
       "  border: var(--sklearn-color-fitted-level-1) 1pt solid;\n",
       "  color: var(--sklearn-color-fitted-level-1);\n",
       "}\n",
       "\n",
       "/* On hover */\n",
       "#sk-container-id-1 a.estimator_doc_link:hover {\n",
       "  /* unfitted */\n",
       "  background-color: var(--sklearn-color-unfitted-level-3);\n",
       "  color: var(--sklearn-color-background);\n",
       "  text-decoration: none;\n",
       "}\n",
       "\n",
       "#sk-container-id-1 a.estimator_doc_link.fitted:hover {\n",
       "  /* fitted */\n",
       "  background-color: var(--sklearn-color-fitted-level-3);\n",
       "}\n",
       "</style><div id=\"sk-container-id-1\" class=\"sk-top-container\"><div class=\"sk-text-repr-fallback\"><pre>StandardScaler()</pre><b>In a Jupyter environment, please rerun this cell to show the HTML representation or trust the notebook. <br />On GitHub, the HTML representation is unable to render, please try loading this page with nbviewer.org.</b></div><div class=\"sk-container\" hidden><div class=\"sk-item\"><div class=\"sk-estimator fitted sk-toggleable\"><input class=\"sk-toggleable__control sk-hidden--visually\" id=\"sk-estimator-id-1\" type=\"checkbox\" checked><label for=\"sk-estimator-id-1\" class=\"sk-toggleable__label fitted sk-toggleable__label-arrow\"><div><div>StandardScaler</div></div><div><a class=\"sk-estimator-doc-link fitted\" rel=\"noreferrer\" target=\"_blank\" href=\"https://scikit-learn.org/1.6/modules/generated/sklearn.preprocessing.StandardScaler.html\">?<span>Documentation for StandardScaler</span></a><span class=\"sk-estimator-doc-link fitted\">i<span>Fitted</span></span></div></label><div class=\"sk-toggleable__content fitted\"><pre>StandardScaler()</pre></div> </div></div></div></div>"
      ],
      "text/plain": [
       "StandardScaler()"
      ]
     },
     "execution_count": 1,
     "metadata": {},
     "output_type": "execute_result"
    }
   ],
   "source": [
    "from sklearn import preprocessing\n",
    "import numpy as np\n",
    "\n",
    "X_train = np.array([[1.0, -1.0, 2.0], [2.0, 0.0, 0.0], [0.0, 1.0, -1.0]])\n",
    "scaler = preprocessing.StandardScaler().fit(X_train)\n",
    "scaler"
   ]
  },
  {
   "cell_type": "code",
   "execution_count": 2,
   "id": "cfe6f478-4519-4ecf-bb10-11cff8c813be",
   "metadata": {},
   "outputs": [
    {
     "data": {
      "text/plain": [
       "(array([1.        , 0.        , 0.33333333]),\n",
       " array([1.        , 0.        , 0.33333333]))"
      ]
     },
     "execution_count": 2,
     "metadata": {},
     "output_type": "execute_result"
    }
   ],
   "source": [
    "# 均值\n",
    "scaler.mean_, X_train.mean(axis=0)"
   ]
  },
  {
   "cell_type": "code",
   "execution_count": 3,
   "id": "79a537ee-c5d3-4fb5-8234-378b672f52ed",
   "metadata": {},
   "outputs": [
    {
     "data": {
      "text/plain": [
       "(array([0.81649658, 0.81649658, 1.24721913]),\n",
       " array([0.81649658, 0.81649658, 1.24721913]))"
      ]
     },
     "execution_count": 3,
     "metadata": {},
     "output_type": "execute_result"
    }
   ],
   "source": [
    "# 标准差\n",
    "scaler.scale_, X_train.std(axis=0)"
   ]
  },
  {
   "cell_type": "code",
   "execution_count": 4,
   "id": "5bb60494-3399-405c-b713-644b280d4589",
   "metadata": {},
   "outputs": [],
   "source": [
    "X_scaled = scaler.transform(X_train)"
   ]
  },
  {
   "cell_type": "code",
   "execution_count": 5,
   "id": "af7a2f27-f52a-4f82-b99e-3fd51a841a54",
   "metadata": {},
   "outputs": [
    {
     "data": {
      "text/plain": [
       "array([[ 0.        , -1.22474487,  1.33630621],\n",
       "       [ 1.22474487,  0.        , -0.26726124],\n",
       "       [-1.22474487,  1.22474487, -1.06904497]])"
      ]
     },
     "execution_count": 5,
     "metadata": {},
     "output_type": "execute_result"
    }
   ],
   "source": [
    "X_scaled"
   ]
  },
  {
   "cell_type": "markdown",
   "id": "08531290-5634-4af4-b0e9-05c8f1afac58",
   "metadata": {},
   "source": [
    "Scaled data has zero mean and unit variance:\n",
    "\n",
    "缩放数据的平均值和单位方差为零:"
   ]
  },
  {
   "cell_type": "code",
   "execution_count": 6,
   "id": "16ff8ab8-b841-45de-b50a-b24cde4a3a1b",
   "metadata": {},
   "outputs": [
    {
     "data": {
      "text/plain": [
       "array([0., 0., 0.])"
      ]
     },
     "execution_count": 6,
     "metadata": {},
     "output_type": "execute_result"
    }
   ],
   "source": [
    "X_scaled.mean(axis=0)"
   ]
  },
  {
   "cell_type": "code",
   "execution_count": 7,
   "id": "f3c92633-77ec-43eb-814d-3f01de1f48bb",
   "metadata": {},
   "outputs": [
    {
     "data": {
      "text/plain": [
       "array([1., 1., 1.])"
      ]
     },
     "execution_count": 7,
     "metadata": {},
     "output_type": "execute_result"
    }
   ],
   "source": [
    "X_scaled.std(axis=0)"
   ]
  },
  {
   "cell_type": "markdown",
   "id": "acd7a2f0-9e61-4545-8e26-615ebd826f0d",
   "metadata": {},
   "source": [
    "### numpy 计算均值和方差"
   ]
  },
  {
   "cell_type": "code",
   "execution_count": 8,
   "id": "54645d28-a294-48f6-abca-76b028951211",
   "metadata": {},
   "outputs": [
    {
     "data": {
      "text/plain": [
       "(np.float64(2.5), array([2., 3.]), array([1.5, 3.5]))"
      ]
     },
     "execution_count": 8,
     "metadata": {},
     "output_type": "execute_result"
    }
   ],
   "source": [
    "# 均值\n",
    "import numpy as np\n",
    "\n",
    "a = np.array([[1, 2], [3, 4]])\n",
    "np.mean(a), np.mean(a, axis=0), np.mean(a, axis=1)"
   ]
  },
  {
   "cell_type": "code",
   "execution_count": 9,
   "id": "a7045b41-bc6a-4a10-b45d-2df022577875",
   "metadata": {},
   "outputs": [
    {
     "data": {
      "text/plain": [
       "2.5"
      ]
     },
     "execution_count": 9,
     "metadata": {},
     "output_type": "execute_result"
    }
   ],
   "source": [
    "# np.mean(a)\n",
    "(1 + 2 + 3 + 4) / 4"
   ]
  },
  {
   "cell_type": "code",
   "execution_count": 10,
   "id": "a89f1c7b-6d02-4831-bfc8-b9d6705089f7",
   "metadata": {},
   "outputs": [
    {
     "data": {
      "text/plain": [
       "(2.0, 3.0)"
      ]
     },
     "execution_count": 10,
     "metadata": {},
     "output_type": "execute_result"
    }
   ],
   "source": [
    "# np.mean(a, axis=0)\n",
    "(1 + 3) / 2, (2 + 4) / 2"
   ]
  },
  {
   "cell_type": "code",
   "execution_count": 11,
   "id": "14a304c4-8824-4e6c-b2e6-b717be22fb26",
   "metadata": {},
   "outputs": [
    {
     "data": {
      "text/plain": [
       "(1.5, 3.5)"
      ]
     },
     "execution_count": 11,
     "metadata": {},
     "output_type": "execute_result"
    }
   ],
   "source": [
    "# np.mean(a, axis=1)\n",
    "(1 + 2) / 2, (3 + 4) / 2"
   ]
  },
  {
   "cell_type": "code",
   "execution_count": 12,
   "id": "126906d6-3c04-466e-b5d4-394befa26aab",
   "metadata": {},
   "outputs": [
    {
     "data": {
      "text/plain": [
       "(np.float64(1.118033988749895), array([1., 1.]), array([0.5, 0.5]))"
      ]
     },
     "execution_count": 12,
     "metadata": {},
     "output_type": "execute_result"
    }
   ],
   "source": [
    "# 方差\n",
    "import numpy as np\n",
    "\n",
    "a = np.array([[1, 2], [3, 4]])\n",
    "np.std(a), np.std(a, axis=0), np.std(a, axis=1)"
   ]
  },
  {
   "cell_type": "code",
   "execution_count": 13,
   "id": "247e2d19-47d2-4d77-b910-6549b17149a5",
   "metadata": {},
   "outputs": [
    {
     "name": "stdout",
     "output_type": "stream",
     "text": [
      "N: 4\n",
      "mean: 2.5\n",
      "d2: [[2.25 0.25]\n",
      " [0.25 2.25]]\n",
      "var: 1.25\n",
      "std: 1.118033988749895\n"
     ]
    }
   ],
   "source": [
    "# np.std(a)\n",
    "a = np.array([[1, 2], [3, 4]])\n",
    "\n",
    "# N = len(a)\n",
    "N = 4\n",
    "mean = np.mean(a)\n",
    "d2 = abs(a - mean) ** 2  # abs is for complex `a`\n",
    "ddof = 0\n",
    "var = d2.sum() / (N - ddof)  # note use of `ddof`\n",
    "std = var**0.5\n",
    "print(\"N:\", N)\n",
    "print(\"mean:\", mean)\n",
    "print(\"d2:\", d2)\n",
    "print(\"var:\", var)\n",
    "print(\"std:\", std)"
   ]
  },
  {
   "cell_type": "code",
   "execution_count": 14,
   "id": "57afb2bc-29a4-4db1-9872-9d7e65a4bba5",
   "metadata": {},
   "outputs": [
    {
     "name": "stdout",
     "output_type": "stream",
     "text": [
      "N: 2\n",
      "mean: 2.0\n",
      "d2: [1. 1.]\n",
      "var: 1.0\n",
      "std: 1.0\n",
      "------------------------\n",
      "N: 2\n",
      "mean: 3.0\n",
      "d2: [1. 1.]\n",
      "var: 1.0\n",
      "std: 1.0\n"
     ]
    }
   ],
   "source": [
    "# np.std(a, axis=0)\n",
    "a = np.array([[1, 2], [3, 4]])\n",
    "\n",
    "a = np.array([1, 3])\n",
    "N = len(a)\n",
    "mean = np.mean(a)\n",
    "d2 = abs(a - mean) ** 2  # abs is for complex `a`\n",
    "ddof = 0\n",
    "var = d2.sum() / (N - ddof)  # note use of `ddof`\n",
    "std = var**0.5\n",
    "print(\"N:\", N)\n",
    "print(\"mean:\", mean)\n",
    "print(\"d2:\", d2)\n",
    "print(\"var:\", var)\n",
    "print(\"std:\", std)\n",
    "print(\"--------\" * 3)\n",
    "a = np.array([2, 4])\n",
    "N = len(a)\n",
    "mean = np.mean(a)\n",
    "d2 = abs(a - mean) ** 2  # abs is for complex `a`\n",
    "ddof = 0\n",
    "var = d2.sum() / (N - ddof)  # note use of `ddof`\n",
    "std = var**0.5\n",
    "print(\"N:\", N)\n",
    "print(\"mean:\", mean)\n",
    "print(\"d2:\", d2)\n",
    "print(\"var:\", var)\n",
    "print(\"std:\", std)"
   ]
  },
  {
   "cell_type": "code",
   "execution_count": 15,
   "id": "141ec5e9-b36a-4aa4-b5ac-3314ce4810c5",
   "metadata": {},
   "outputs": [
    {
     "name": "stdout",
     "output_type": "stream",
     "text": [
      "N: 2\n",
      "mean: 1.5\n",
      "d2: [0.25 0.25]\n",
      "var: 0.25\n",
      "std: 0.5\n",
      "------------------------\n",
      "N: 2\n",
      "mean: 3.5\n",
      "d2: [0.25 0.25]\n",
      "var: 0.25\n",
      "std: 0.5\n"
     ]
    }
   ],
   "source": [
    "# np.std(a, axis=1)\n",
    "a = np.array([[1, 2], [3, 4]])\n",
    "\n",
    "a = np.array([1, 2])\n",
    "N = len(a)\n",
    "mean = np.mean(a)\n",
    "d2 = abs(a - mean) ** 2  # abs is for complex `a`\n",
    "ddof = 0\n",
    "var = d2.sum() / (N - ddof)  # note use of `ddof`\n",
    "std = var**0.5\n",
    "print(\"N:\", N)\n",
    "print(\"mean:\", mean)\n",
    "print(\"d2:\", d2)\n",
    "print(\"var:\", var)\n",
    "print(\"std:\", std)\n",
    "print(\"--------\" * 3)\n",
    "a = np.array([3, 4])\n",
    "N = len(a)\n",
    "mean = np.mean(a)\n",
    "d2 = abs(a - mean) ** 2  # abs is for complex `a`\n",
    "ddof = 0\n",
    "var = d2.sum() / (N - ddof)  # note use of `ddof`\n",
    "std = var**0.5\n",
    "print(\"N:\", N)\n",
    "print(\"mean:\", mean)\n",
    "print(\"d2:\", d2)\n",
    "print(\"var:\", var)\n",
    "print(\"std:\", std)"
   ]
  },
  {
   "cell_type": "markdown",
   "id": "41792f8b-973a-481e-82b4-bb503f658b3e",
   "metadata": {},
   "source": [
    "This class implements the Transformer API to compute the mean and standard deviation on a training set so as to be able to later re-apply the same transformation on the testing set. This class is hence suitable for use in the early steps of a Pipeline:\n",
    "\n",
    "此类实现 Transformer API 来计算训练集的平均值和标准差, 以便以后能够在测试集上重新应用相同的转换. 因此, 此类适合在 Pipeline 的早期步骤中使用:"
   ]
  },
  {
   "cell_type": "code",
   "execution_count": 16,
   "id": "747c382b-3561-4167-b2ff-8b9ef372d565",
   "metadata": {},
   "outputs": [
    {
     "name": "stdout",
     "output_type": "stream",
     "text": [
      "x: [[-2.02514259  0.0291022  -0.47494531 ... -0.33450124  0.86575519\n",
      "  -1.20029641]\n",
      " [ 1.61371127  0.65992405 -0.15005559 ...  1.37570681  0.70117274\n",
      "  -0.2975635 ]\n",
      " [ 0.16645221  0.95057302  1.42050425 ...  1.18901653 -0.55547712\n",
      "  -0.63738713]\n",
      " ...\n",
      " [-0.03955515 -1.60499282  0.22213377 ... -0.30917212 -0.46227529\n",
      "  -0.43449623]\n",
      " [ 1.08589557  1.2031659  -0.6095122  ... -0.3052247  -1.31183623\n",
      "  -1.06511366]\n",
      " [-0.00607091  1.30857636 -0.17495976 ...  0.99204235  0.32169781\n",
      "  -0.66809045]]\n",
      "x: (100, 20)\n",
      "y: [0 0 1 1 0 0 0 1 0 1 1 0 0 0 1 1 1 0 0 1 1 0 0 0 0 1 1 0 1 0 0 0 0 0 0 1 0\n",
      " 0 1 1 1 0 1 0 0 1 1 0 0 1 1 1 0 1 0 0 1 1 0 1 1 1 1 1 0 1 0 0 1 0 1 0 1 0\n",
      " 1 1 1 0 0 0 1 0 1 0 1 1 1 1 1 0 0 1 0 1 1 0 1 1 0 0]\n",
      "y: (100,)\n",
      "x_train: [[-1.06239353 -2.68317954  0.33848384 ... -0.35316629  0.32579632\n",
      "   0.1943843 ]\n",
      " [-0.79047446 -0.07873421 -1.69246463 ...  1.09419152 -0.12578692\n",
      "   0.05572491]\n",
      " [-0.22096417 -0.54561186 -0.57117899 ...  0.64084286 -0.28110029\n",
      "   1.79768653]\n",
      " ...\n",
      " [ 0.84064355  0.37531604 -0.96697614 ...  0.42545756  0.76041466\n",
      "   0.78580016]\n",
      " [ 0.49403019  0.63067073  1.1487657  ... -2.84854262 -0.37061433\n",
      "   0.77169871]\n",
      " [-0.42018682 -0.24038388  0.9843224  ... -0.99835404  0.23421473\n",
      "   1.55050049]]\n",
      "x_train: (75, 20)\n",
      "x_test: [[ 8.35692112e-01  5.88465251e-01  8.65897875e-02 -7.96895255e-01\n",
      "   5.77072127e-01 -3.75120699e-01  2.54420843e-01 -1.55677235e-01\n",
      "  -1.12970685e+00  5.29804178e-01 -5.75002146e-01  1.00629281e+00\n",
      "   1.16778206e+00  1.44156862e+00 -5.76891870e-01 -1.49518014e-01\n",
      "  -2.47164450e+00 -6.03985187e-01 -2.03045386e-01  3.71145873e-01]\n",
      " [ 7.66080278e-01 -2.65461268e+00  1.49268857e+00 -8.26880354e-01\n",
      "  -2.26478892e-01  2.25661188e+00 -7.47211679e-01 -2.71123601e-01\n",
      "   1.22693322e+00 -1.00154076e-01  2.36867367e+00 -9.98385439e-01\n",
      "  -2.13672943e-02 -2.03673750e-01  3.01791900e-01  1.17077461e+00\n",
      "  -8.77982587e-01 -8.03178951e-01  3.67365507e-01  9.13584626e-01]\n",
      " [-6.22649362e-01 -1.44723231e+00 -1.50472037e+00 -3.70367970e-02\n",
      "  -4.29302225e-01  1.25896077e+00 -1.45755150e+00  7.60055964e-01\n",
      "   1.94607455e-01 -7.42470586e-01  1.27988990e+00  4.36024464e-02\n",
      "   8.24397529e-02 -1.32002251e+00  1.69505104e+00  6.63522604e-01\n",
      "  -6.11769091e-01 -8.31055726e-02 -6.92420980e-01 -1.40631746e+00]\n",
      " [-1.32633746e-01 -1.29826331e+00  7.09451817e-01  8.47421677e-01\n",
      "  -5.35328186e-01  1.25291095e+00 -2.59546678e-01 -4.35486371e-01\n",
      "  -9.74529305e-01  1.10708067e+00  1.09885263e+00  6.72573701e-01\n",
      "   5.13105798e-01 -1.20381164e-01  1.89988193e+00  7.03851925e-01\n",
      "  -2.17266955e+00  1.90499680e-01 -9.05332823e-02  3.31980331e-01]\n",
      " [ 9.98010110e-01  2.23245441e+00 -1.90682401e-01 -1.03990593e+00\n",
      "   6.12773905e-01 -4.09257060e-01  4.95681888e-01  2.17432873e-01\n",
      "  -2.89625538e+00  2.08837470e+00 -2.58590856e+00  9.16327675e-01\n",
      "   8.70067731e-01 -1.39589628e-01  3.46488476e-01  3.24237337e-01\n",
      "   1.10818282e+00  1.91403135e+00 -1.05341556e+00 -6.23768961e-01]\n",
      " [ 8.83109777e-01 -1.76254901e+00  9.19228935e-01 -7.51791050e-01\n",
      "  -4.26357596e-01  1.49919830e+00  1.08004807e+00 -6.68144086e-01\n",
      "  -7.78371970e-02 -1.80479914e-01  1.57233676e+00 -2.91811269e-01\n",
      "   1.87329778e+00  3.19310757e+00 -1.56319081e+00  7.78139695e-01\n",
      "   2.98752908e-01 -1.43827798e+00  1.14844571e+00  1.13270411e-01]\n",
      " [ 9.96047686e-01  1.06660430e-02 -6.43518230e-01 -2.50833016e-01\n",
      "   1.32819414e+00  1.38991764e+00  2.68592279e-01  9.27840128e-01\n",
      "  -7.56795089e-01 -1.42181067e+00 -5.67724525e-01  1.18570415e+00\n",
      "   5.70131249e-02  1.50133365e+00  7.18953311e-01  1.22541983e+00\n",
      "  -3.22679839e-01  2.16500234e+00  5.56230009e-01  4.55887772e-01]\n",
      " [-1.80313968e+00 -4.62814324e-01 -2.68530648e-01  8.95038314e-01\n",
      "  -4.83061052e-01  5.73042476e-01 -7.19153319e-01 -8.91192225e-01\n",
      "  -1.58413594e+00  2.67126651e-01  3.41293945e-01 -7.08406767e-01\n",
      "  -2.15181540e+00  5.08725023e-01 -1.51371439e+00  3.62053684e-01\n",
      "  -1.58119070e+00  8.96839316e-01  1.46793012e-01  1.61222063e+00]\n",
      " [ 2.24684726e-01 -1.01695056e+00  1.54210995e+00  1.26258410e+00\n",
      "  -5.51858146e-01  5.54483984e-01  1.20836623e+00  2.00609289e+00\n",
      "   9.32590832e-01 -1.41836573e+00  1.03110238e+00  1.72696385e+00\n",
      "   2.06150358e+00 -1.76080881e+00 -3.99636186e-01  1.75930005e-01\n",
      "  -1.52565631e+00  1.84551303e-01  2.55819929e+00 -5.64247599e-01]\n",
      " [-2.02514259e+00  2.91021981e-02 -4.74945311e-01 -1.14736441e-01\n",
      "   5.04987279e-01  8.89621380e-02  4.04981711e-01 -6.53329233e-01\n",
      "   1.86454315e-01 -6.61786465e-01 -7.13352412e-02  2.14394409e+00\n",
      "   1.76545424e+00  8.52433335e-01  6.33919022e-01  8.71420582e-02\n",
      "  -7.92520738e-01 -3.34501236e-01  8.65755194e-01 -1.20029641e+00]\n",
      " [-4.40044487e-01 -2.18003951e-01  6.98020850e-02  1.02330610e-02\n",
      "  -9.81508651e-01  4.94298226e-01  6.62130675e-01 -3.85313597e-01\n",
      "   1.30740577e-01  1.44127329e+00  7.12364098e-02  1.63241130e+00\n",
      "   1.13517345e-01 -1.43586215e+00 -1.43014138e+00  3.67831850e-01\n",
      "   1.16316375e+00 -6.00216877e-01  4.62103474e-01  1.99059696e-01]\n",
      " [ 1.60573981e-01  2.68438233e-01 -1.17011303e+00 -1.48489797e+00\n",
      "  -2.55392113e+00  1.19664076e+00  7.59155160e-01 -1.80198044e+00\n",
      "   3.04602015e-03  4.36938170e-01 -8.08044635e-01 -3.88176819e-01\n",
      "   5.41462728e-01  1.19064627e+00  1.70416222e-01  1.13446163e+00\n",
      "   9.49554135e-01 -2.24765402e-01  9.34319911e-01 -1.36687870e+00]\n",
      " [ 5.76556963e-01  1.62748917e+00 -6.46572884e-01 -9.55540441e-01\n",
      "  -1.60644632e+00 -1.42695838e+00  8.81639757e-01 -1.08154800e+00\n",
      "   3.11250155e-01  3.07888081e+00 -1.43483867e+00  1.64496771e+00\n",
      "   1.68714164e+00  1.11957491e+00 -2.49036040e-01 -7.56006002e-01\n",
      "  -1.27917591e-01 -1.42225371e+00  2.03463636e-01 -7.56350745e-01]\n",
      " [ 3.26927374e-01  2.40437346e+00  6.32781866e-01  7.70865194e-01\n",
      "  -1.47858625e+00 -2.39955005e+00  2.48220586e-01  2.27069286e+00\n",
      "  -2.19100529e-01  8.29405581e-01 -2.00347738e+00  1.84183792e-02\n",
      "   1.81866255e-01 -2.21113531e+00  1.67643731e+00 -1.37314120e+00\n",
      "   2.35614558e-01 -4.15287914e-01  1.14375404e+00  3.38496407e-01]\n",
      " [ 5.22835488e-01  1.77872961e+00 -2.57376537e-01  4.36323670e-01\n",
      "   3.80034782e-02 -4.86290939e-02  6.47195940e-01 -1.66858407e+00\n",
      "  -5.73700004e-01 -2.43545923e-02 -2.17105282e+00 -3.20347308e-01\n",
      "   3.99223123e-01  2.14227036e+00  4.24165946e-01  5.02300750e-01\n",
      "   1.72754317e+00 -1.02279257e+00  1.20031327e-01  6.13517973e-01]\n",
      " [ 1.79894151e-01 -2.22100055e-01  1.05375506e-01  9.40771188e-01\n",
      "  -9.82487394e-01  1.56010259e+00  3.19781934e-01 -1.33402549e+00\n",
      "   1.39200229e+00  9.18316606e-01 -3.48984841e-01 -9.88591107e-01\n",
      "  -6.01367644e-01 -1.57050060e+00 -1.10358932e+00  1.30373602e+00\n",
      "  -9.89628137e-01 -9.68344455e-01 -2.24633150e-01  5.50052099e-01]\n",
      " [-1.04449219e-01 -1.46447269e+00 -2.70323229e+00  2.38368983e-01\n",
      "   9.75197630e-01  1.07954187e+00 -1.83063290e+00  6.77875320e-01\n",
      "  -1.68821723e-01  7.00521631e-02  1.37271070e+00  9.50307592e-01\n",
      "  -6.54075683e-01  1.16187830e+00  1.71061337e+00  5.00476965e-01\n",
      "  -9.27353134e-01  1.00104609e+00  5.01094170e-01  1.89581617e-01]\n",
      " [ 8.30335817e-01  9.46218141e-01 -4.44293260e-01  3.33662105e-01\n",
      "   1.03753994e+00 -9.31125899e-01 -9.22165324e-01  3.77300493e-01\n",
      "  -8.56083826e-01  7.15662372e-02 -7.93713869e-01 -4.59360900e-01\n",
      "   7.56988617e-01 -4.77657447e-01 -8.49844369e-01 -5.28785077e-01\n",
      "   4.78979826e-01 -9.78763716e-01 -5.10016399e-01 -2.69874935e-01]\n",
      " [ 6.44744148e-02 -2.39384676e-01  1.48667457e-01  5.99928730e-01\n",
      "   1.53075083e+00  1.56931739e+00 -3.02469686e-01 -3.37085971e-01\n",
      "  -1.97546657e+00 -9.39335394e-01 -3.31376097e-01 -7.04987781e-02\n",
      "  -6.13402664e-01 -1.44087556e-01  4.86501644e-01  1.30654200e+00\n",
      "  -1.20969474e+00  1.49072614e+00  1.21876185e+00 -2.13442871e-01]\n",
      " [ 9.63879117e-01  1.39398330e+00  5.68983079e-01  2.57970934e+00\n",
      "  -8.03674568e-01  2.59956720e-01 -2.03580360e-01  1.62839662e+00\n",
      "   2.21052300e+00 -5.57491785e-01 -1.82037691e+00  4.38114720e-02\n",
      "  -3.79127741e-01 -1.36980298e+00 -1.47002002e-01  6.55740858e-01\n",
      "  -8.82820484e-02 -5.53588242e-01  1.63911681e+00  1.67770081e+00]\n",
      " [-1.71313453e+00  1.74355119e+00 -1.06762043e+00 -5.99375023e-01\n",
      "   5.24369972e-03 -1.51042899e+00  5.14438834e-01 -1.42379485e-01\n",
      "   1.35387237e+00 -1.14539845e-01 -1.54446032e+00  1.17944012e+00\n",
      "   1.20295632e-01  1.23781631e+00 -4.69175652e-01 -7.93836362e-01\n",
      "  -1.59442766e+00  6.22849932e-01  4.69805938e-02 -4.50065471e-01]\n",
      " [-5.17611299e-01  5.06885374e-01  5.83928185e-01 -5.30868773e-01\n",
      "  -4.89439443e-01 -1.73597973e+00  1.10870358e+00 -3.59292091e-01\n",
      "   2.23787952e-01 -1.64228961e-02  6.84561582e-02 -3.31269729e-02\n",
      "   5.90654831e-01  1.18839327e+00  1.79455786e+00 -1.37111696e+00\n",
      "   2.52693243e+00  1.84670733e+00  1.04416088e+00  6.81891490e-01]\n",
      " [ 1.06667469e+00 -4.79369952e-01  2.87448229e-02  1.46713686e-01\n",
      "   1.20650897e+00 -1.08324727e+00  4.64365482e-02  1.27845186e+00\n",
      "   1.16929559e+00  1.38215899e+00  1.02255619e+00  8.20482181e-01\n",
      "   1.91099068e-01  6.48709888e-01  5.07274031e-01 -1.09939128e+00\n",
      "  -1.67118080e-01 -3.93338812e-01 -8.16935671e-01  3.68673309e-01]\n",
      " [-1.37448515e-01 -4.68094222e-01  2.17094272e+00  7.42127491e-01\n",
      "   7.54336389e-02  6.24530321e-01  5.51485376e-01 -1.75885812e-01\n",
      "   9.52874547e-01  1.61227826e+00  3.27251881e-01  5.11202600e-01\n",
      "   1.23204807e-01  1.31491445e+00  1.37365855e+00  4.05708897e-01\n",
      "   1.63996453e+00 -8.43246595e-01 -1.60196581e+00 -2.46062488e-01]\n",
      " [ 7.58045582e-02  2.48904785e+00  2.44966571e-01 -3.21385842e-01\n",
      "   4.12931454e-01 -2.52343407e+00  2.32049937e-01 -5.06943175e-01\n",
      "  -6.77161712e-01  9.75119733e-01 -2.05832072e+00 -1.22467728e-02\n",
      "  -4.71038306e-01 -1.47057382e-01 -8.97254371e-01 -1.45612516e+00\n",
      "  -8.25497197e-01  2.43687211e-01 -5.63724553e-01 -8.22220396e-01]]\n",
      "x_test: (25, 20)\n",
      "y_train: [1 1 1 1 1 0 0 1 1 1 0 0 1 1 1 1 0 1 0 0 1 0 1 1 0 0 1 0 1 0 0 0 0 0 0 1 0\n",
      " 0 0 1 0 1 1 1 1 0 0 0 0 0 1 1 0 1 1 1 1 0 0 0 0 0 1 0 1 1 1 1 1 1 1 0 1 0\n",
      " 1]\n",
      "y_train: (75,)\n",
      "y_test: [0 1 1 1 0 1 0 1 1 0 0 0 0 0 0 0 1 0 0 0 0 1 1 1 0]\n",
      "y_test: (25,)\n"
     ]
    },
    {
     "data": {
      "text/plain": [
       "0.96"
      ]
     },
     "execution_count": 16,
     "metadata": {},
     "output_type": "execute_result"
    }
   ],
   "source": [
    "from sklearn.datasets import make_classification\n",
    "from sklearn.linear_model import LogisticRegression\n",
    "from sklearn.model_selection import train_test_split\n",
    "from sklearn.pipeline import make_pipeline\n",
    "from sklearn.preprocessing import StandardScaler\n",
    "\n",
    "x, y = make_classification(random_state=42)\n",
    "print(\"x:\", x)\n",
    "print(\"x:\", x.shape)\n",
    "print(\"y:\", y)\n",
    "print(\"y:\", y.shape)\n",
    "\n",
    "x_train, x_test, y_train, y_test = train_test_split(x, y, random_state=42)\n",
    "print(\"x_train:\", x_train)\n",
    "print(\"x_train:\", x_train.shape)\n",
    "print(\"x_test:\", x_test)\n",
    "print(\"x_test:\", x_test.shape)\n",
    "print(\"y_train:\", y_train)\n",
    "print(\"y_train:\", y_train.shape)\n",
    "print(\"y_test:\", y_test)\n",
    "print(\"y_test:\", y_test.shape)\n",
    "\n",
    "pipe = make_pipeline(StandardScaler(), LogisticRegression())\n",
    "pipe.fit(x_train, y_train)  # apply scaling on training data\n",
    "pipe.score(\n",
    "    x_test, y_test\n",
    ")  # apply scaling on testing data, without leaking training data."
   ]
  },
  {
   "cell_type": "markdown",
   "id": "d13f6600-b51f-488d-9844-b3c3c9705259",
   "metadata": {},
   "source": [
    "It is possible to disable either centering or scaling by either passing with_mean=False or with_std=False to the constructor of StandardScaler.\n",
    "\n",
    "可以通过将 with_mean=False 或 with_std=False 传递给 StandardScaler 的构造函数来禁用居中或缩放."
   ]
  },
  {
   "cell_type": "markdown",
   "id": "acb6373b-179d-42e3-9cf0-efef2476cf6d",
   "metadata": {},
   "source": [
    "#### 6.3.1.1. Scaling features to a range\n",
    "将 Feature 缩放到一个范围\n",
    "\n",
    "An alternative standardization is scaling features to lie between a given minimum and maximum value, often between zero and one, or so that the maximum absolute value of each feature is scaled to unit size. This can be achieved using `MinMaxScaler` or `MaxAbsScaler`, respectively.\n",
    "\n",
    "另一种标准化方法是将特征缩放到给定的最小值和最大值之间, 通常介于 0 和 1 之间, 或者将每个特征的最大绝对值缩放为单位大小. 这可以分别使用 MinMaxScaler 或 MaxAbsScaler 来实现.\n",
    "\n",
    "The motivation to use this scaling include robustness to very small standard deviations of features and preserving zero entries in sparse data.\n",
    "\n",
    "使用这种缩放的动机包括对非常小的特征标准差的鲁棒性, 以及在稀疏数据中保留零条目.\n",
    "\n",
    "Here is an example to scale a toy data matrix to the [0, 1] range:\n",
    "\n",
    "下面是将玩具数据矩阵缩放到 [0, 1] 范围的示例:"
   ]
  },
  {
   "cell_type": "code",
   "execution_count": 17,
   "id": "e9f27221-1c52-4cc3-95fa-0ccc32bd0dac",
   "metadata": {},
   "outputs": [
    {
     "data": {
      "text/plain": [
       "array([[0.5       , 0.        , 1.        ],\n",
       "       [1.        , 0.5       , 0.33333333],\n",
       "       [0.        , 1.        , 0.        ]])"
      ]
     },
     "execution_count": 17,
     "metadata": {},
     "output_type": "execute_result"
    }
   ],
   "source": [
    "X_train = np.array([[1.0, -1.0, 2.0], [2.0, 0.0, 0.0], [0.0, 1.0, -1.0]])\n",
    "min_max_scaler = preprocessing.MinMaxScaler()\n",
    "X_train_minmax = min_max_scaler.fit_transform(X_train)\n",
    "X_train_minmax"
   ]
  },
  {
   "cell_type": "markdown",
   "id": "f46a7f73-4aac-4185-98a2-ec7082fba9af",
   "metadata": {},
   "source": [
    "The same instance of the transformer can then be applied to some new test data unseen during the fit call: the same scaling and shifting operations will be applied to be consistent with the transformation performed on the train data:\n",
    "\n",
    "然后, 可以将 transformer 的相同实例应用于 fit 调用期间看不到的一些新测试数据: 将应用相同的缩放和移位作, 以与对 train 数据执行的转换保持一致:"
   ]
  },
  {
   "cell_type": "code",
   "execution_count": 18,
   "id": "8c87e6d6-b28a-4c64-a9d1-abab1022440c",
   "metadata": {},
   "outputs": [
    {
     "data": {
      "text/plain": [
       "array([[-1.5       ,  0.        ,  1.66666667]])"
      ]
     },
     "execution_count": 18,
     "metadata": {},
     "output_type": "execute_result"
    }
   ],
   "source": [
    "X_test = np.array([[-3.0, -1.0, 4.0]])\n",
    "X_test_minmax = min_max_scaler.transform(X_test)\n",
    "X_test_minmax"
   ]
  },
  {
   "cell_type": "markdown",
   "id": "0f66daca-666e-4325-9c7e-588e00d813d2",
   "metadata": {},
   "source": [
    "It is possible to introspect the scaler attributes to find about the exact nature of the transformation learned on the training data:\n",
    "\n",
    "可以内省 scaler 属性, 以找出在训练数据上学习的转换的确切性质:"
   ]
  },
  {
   "cell_type": "code",
   "execution_count": 19,
   "id": "cb54921b-6287-4fc3-87cc-62a7c58c33e6",
   "metadata": {},
   "outputs": [
    {
     "data": {
      "text/plain": [
       "array([0.5       , 0.5       , 0.33333333])"
      ]
     },
     "execution_count": 19,
     "metadata": {},
     "output_type": "execute_result"
    }
   ],
   "source": [
    "min_max_scaler.scale_"
   ]
  },
  {
   "cell_type": "code",
   "execution_count": 20,
   "id": "098e1e8e-3851-4f37-abf2-1a3913c37e25",
   "metadata": {},
   "outputs": [
    {
     "data": {
      "text/plain": [
       "array([0.        , 0.5       , 0.33333333])"
      ]
     },
     "execution_count": 20,
     "metadata": {},
     "output_type": "execute_result"
    }
   ],
   "source": [
    "min_max_scaler.min_"
   ]
  },
  {
   "cell_type": "markdown",
   "id": "b09bc247-5935-47c6-909f-b15dd6071c22",
   "metadata": {},
   "source": [
    "If MinMaxScaler is given an explicit feature_range=(min, max) the full formula is:\n",
    "\n",
    "如果给定显式 feature_range = (min, max) 的 MinMaxScaler, 则完整公式为:\n",
    "\n",
    "```\n",
    "X_std = (X - X.min(axis=0)) / (X.max(axis=0) - X.min(axis=0))\n",
    "\n",
    "X_scaled = X_std * (max - min) + min\n",
    "```"
   ]
  },
  {
   "cell_type": "markdown",
   "id": "82a605f6-06c3-4cdd-bbb6-38bd72940fdd",
   "metadata": {},
   "source": [
    "MaxAbsScaler works in a very similar fashion, but scales in a way that the training data lies within the range [-1, 1] by dividing through the largest maximum value in each feature. It is meant for data that is already centered at zero or sparse data.\n",
    "\n",
    "MaxAbsScaler 的工作方式非常相似, 但通过除以每个特征中的最大最大值, 以训练数据位于 [-1, 1] 范围内的方式进行缩放. 它适用于已经以零数据或稀疏数据为中心的数据.\n",
    "\n",
    "Here is how to use the toy data from the previous example with this scaler:\n",
    "\n",
    "以下是如何将上一个示例中的玩具数据与此缩放器一起使用:"
   ]
  },
  {
   "cell_type": "code",
   "execution_count": 21,
   "id": "af6f2237-ba7e-43ed-9110-b71e04efca81",
   "metadata": {},
   "outputs": [
    {
     "data": {
      "text/plain": [
       "array([[ 0.5, -1. ,  1. ],\n",
       "       [ 1. ,  0. ,  0. ],\n",
       "       [ 0. ,  1. , -0.5]])"
      ]
     },
     "execution_count": 21,
     "metadata": {},
     "output_type": "execute_result"
    }
   ],
   "source": [
    "X_train = np.array([[1.0, -1.0, 2.0], [2.0, 0.0, 0.0], [0.0, 1.0, -1.0]])\n",
    "max_abs_scaler = preprocessing.MaxAbsScaler()\n",
    "X_train_maxabs = max_abs_scaler.fit_transform(X_train)\n",
    "X_train_maxabs"
   ]
  },
  {
   "cell_type": "code",
   "execution_count": 22,
   "id": "ecffd098-4092-4ffb-8e4b-a308a6e24a71",
   "metadata": {},
   "outputs": [
    {
     "data": {
      "text/plain": [
       "array([[-1.5, -1. ,  2. ]])"
      ]
     },
     "execution_count": 22,
     "metadata": {},
     "output_type": "execute_result"
    }
   ],
   "source": [
    "X_test = np.array([[-3.0, -1.0, 4.0]])\n",
    "X_test_maxabs = max_abs_scaler.transform(X_test)\n",
    "X_test_maxabs"
   ]
  },
  {
   "cell_type": "code",
   "execution_count": 23,
   "id": "ee14973a-c959-4dcf-91aa-a951ebe51e1d",
   "metadata": {},
   "outputs": [
    {
     "data": {
      "text/plain": [
       "array([2., 1., 2.])"
      ]
     },
     "execution_count": 23,
     "metadata": {},
     "output_type": "execute_result"
    }
   ],
   "source": [
    "max_abs_scaler.scale_"
   ]
  },
  {
   "cell_type": "markdown",
   "id": "70c1bfc4-a38b-4cec-9997-7f46dc153fbf",
   "metadata": {},
   "source": [
    "#### 6.3.1.2. Scaling sparse data\n",
    "缩放稀疏数据\n",
    "\n",
    "Centering sparse data would destroy the sparseness structure in the data, and thus rarely is a sensible thing to do. However, it can make sense to scale sparse inputs, especially if features are on different scales.\n",
    "\n",
    "将稀疏数据居中会破坏数据中的稀疏结构, 因此很少是明智的做法. 但是, 缩放稀疏输入是有意义的, 尤其是在要素处于不同比例时.\n",
    "\n",
    "MaxAbsScaler was specifically designed for scaling sparse data, and is the recommended way to go about this. However, StandardScaler can accept scipy.sparse matrices as input, as long as with_mean=False is explicitly passed to the constructor. Otherwise a ValueError will be raised as silently centering would break the sparsity and would often crash the execution by allocating excessive amounts of memory unintentionally. RobustScaler cannot be fitted to sparse inputs, but you can use the transform method on sparse inputs.\n",
    "\n",
    "MaxAbsScaler 专为扩展稀疏数据而设计, 是实现此目的的推荐方法. 但是, StandardScaler 可以接受 scipy.sparse 矩阵作为输入, 只要将 with_mean=False 显式传递给构造函数即可. 否则, 将引发 ValueError 为静默居中会破坏稀疏性, 并且经常会使执行. RobustScaler 不能拟合到稀疏输入, 但您可以对稀疏输入使用 transform 方法.\n",
    "\n",
    "Note that the scalers accept both Compressed Sparse Rows and Compressed Sparse Columns format (see scipy.sparse.csr_matrix and scipy.sparse.csc_matrix). Any other sparse input will be converted to the Compressed Sparse Rows representation. To avoid unnecessary memory copies, it is recommended to choose the CSR or CSC representation upstream.\n",
    "\n",
    "请注意, 缩放器接受 Compressed Sparse Rows 和 Compressed Sparse Columns 格式(参见 scipy.sparse.csr_matrix 和 scipy.sparse.csc_matrix).任何其他稀疏输入都将转换为 Compressed Sparse Rows 表示. 为避免不必要的内存副本, 建议选择上游的 CSR 或 CSC 表示形式.\n",
    "\n",
    "Finally, if the centered data is expected to be small enough, explicitly converting the input to an array using the toarray method of sparse matrices is another option.\n",
    "\n",
    "最后, 如果预期居中数据足够小, 则使用稀疏矩阵的 toarray 方法将输入显式转换为数组是另一种选择.\n"
   ]
  },
  {
   "cell_type": "markdown",
   "id": "303c51ab-3291-4f75-b5dc-95be7e77640a",
   "metadata": {},
   "source": [
    "#### 6.3.1.3. Scaling data with outliers\n",
    "使用异常值缩放数据\n",
    "\n",
    "If your data contains many outliers, scaling using the mean and variance of the data is likely to not work very well. In these cases, you can use RobustScaler as a drop-in replacement instead. It uses more robust estimates for the center and range of your data.\n",
    "\n",
    "如果您的数据包含许多异常值, 请使用均值和方差进行缩放的数据可能效果不佳. 在这些情况下, 您可以使用 RobustScaler 作为直接替代品. 它对数据的中心和范围使用更可靠的估计值."
   ]
  },
  {
   "cell_type": "markdown",
   "id": "e06e7da4-90ba-4409-ba99-c3a9b37345f2",
   "metadata": {},
   "source": [
    "#### 6.3.1.4. Centering kernel matrices\n",
    "将核矩阵居中\n",
    "\n",
    "If you have a kernel matrix of a kernel \\(K\\) that computes a dot product in a feature space (possibly implicitly) defined by a function \\(\\phi(\\cdot)\\), a KernelCenterer can transform the kernel matrix so that it contains inner products in the feature space defined by \\(\\phi\\) followed by the removal of the mean in that space. In other words, KernelCenterer computes the centered Gram matrix associated to a positive semidefinite kernel \\(K\\).\n",
    "\n",
    "如果您有一个计算点积的内核的内核 \\(K\\) 矩阵在函数定义的特征空间(可能隐式)中 \\(\\phi(\\cdot)\\), KernelCenterer 可以转换内核矩阵, 使其包含由 \\(\\phi\\) 然后删除该空间中的平均值. 换句话说, KernelCenterer 计算与正半定核 \\(K\\) 关联的居中 Gram 矩阵."
   ]
  },
  {
   "cell_type": "markdown",
   "id": "2fc6b5e4-83b6-4406-9c0b-1cf34e8b6411",
   "metadata": {},
   "source": [
    "### 6.3.2. Non-linear transformation\n",
    "非线性变换\n",
    "\n",
    "Two types of transformations are available: quantile transforms and power transforms. Both quantile and power transforms are based on monotonic transformations of the features and thus preserve the rank of the values along each feature.\n",
    "\n",
    "有两种类型的转换可用: 分位数转换和幂转换. 分位数转换和幂转换都基于特征的单调转换, 因此保留了每个特征上的值的排名.\n",
    "\n",
    "Quantile transforms put all features into the same desired distribution based on the formula \\(G^{-1}(F(X))\\) where \\(F\\) is the cumulative distribution function of the feature and \\(G^{-1}\\) the quantile function of the desired output distribution \\(G\\). This formula is using the two following facts: (i) if \\(X\\) is a random variable with a continuous cumulative distribution function \\(F\\) then \\(F(X)\\) is uniformly distributed on \\([0,1]\\); (ii) if \\(U\\) is a random variable with uniform distribution on \\([0,1]\\) then \\(G^{-1}(U)\\) has distribution \\(G\\). By performing a rank transformation, a quantile transform smooths out unusual distributions and is less influenced by outliers than scaling methods. It does, however, distort correlations and distances within and across features.\n",
    "\n",
    "分位数变换根据公式 \\(G^{-1}(F(X))\\) 将所有特征放入相同的所需分布中, 其中 \\(F\\) 是特征的累积分布函数, \\(G^{-1}\\) 而所需输出分布 \\(G\\) 的分位数函数. 该公式使用以下两个事实: (i) 如果 \\(X\\) 是一个具有连续累积分布函数 \\(F\\) 的随机变量, 则 \\(F(X)\\) 均匀分布在 \\([0, 1]\\); (ii) 如果 \\(U\\) 是均匀分布的随机变量, \\([0, 1]\\) 则 \\(G^{-1}(U)\\) 具有分布 \\(G\\). 通过执行秩变换, 分位数变换可以平滑异常分布, 并且与缩放方法相比, 受异常值的影响较小. 但是, 它确实会扭曲特征内部和特征之间的相关性和距离.\n",
    "\n",
    "Power transforms are a family of parametric transformations that aim to map data from any distribution to as close to a Gaussian distribution.\n",
    "\n",
    "幂变换是一系列参数变换, 旨在将数据从任何分布映射到尽可能接近高斯分布."
   ]
  },
  {
   "cell_type": "markdown",
   "id": "940e8406-582f-439e-aaf4-88d1a5bdaf67",
   "metadata": {},
   "source": [
    "#### 6.3.2.1. Mapping to a Uniform distribution\n",
    "映射到 Uniform\n",
    "\n",
    "QuantileTransformer provides a non-parametric transformation to map the data to a uniform distribution with values between 0 and 1:\n",
    "\n",
    "QuantileTransformer 提供了一个非参数变换, 将数据映射到值介于 0 和 1 之间的均匀分布:"
   ]
  },
  {
   "cell_type": "code",
   "execution_count": 24,
   "id": "8ababecc-df91-4ed3-a6e6-1f75930b528f",
   "metadata": {},
   "outputs": [
    {
     "name": "stdout",
     "output_type": "stream",
     "text": [
      "x: [[5.1 3.5 1.4 0.2]\n",
      " [4.9 3.  1.4 0.2]\n",
      " [4.7 3.2 1.3 0.2]\n",
      " [4.6 3.1 1.5 0.2]\n",
      " [5.  3.6 1.4 0.2]\n",
      " [5.4 3.9 1.7 0.4]\n",
      " [4.6 3.4 1.4 0.3]\n",
      " [5.  3.4 1.5 0.2]\n",
      " [4.4 2.9 1.4 0.2]\n",
      " [4.9 3.1 1.5 0.1]\n",
      " [5.4 3.7 1.5 0.2]\n",
      " [4.8 3.4 1.6 0.2]\n",
      " [4.8 3.  1.4 0.1]\n",
      " [4.3 3.  1.1 0.1]\n",
      " [5.8 4.  1.2 0.2]\n",
      " [5.7 4.4 1.5 0.4]\n",
      " [5.4 3.9 1.3 0.4]\n",
      " [5.1 3.5 1.4 0.3]\n",
      " [5.7 3.8 1.7 0.3]\n",
      " [5.1 3.8 1.5 0.3]\n",
      " [5.4 3.4 1.7 0.2]\n",
      " [5.1 3.7 1.5 0.4]\n",
      " [4.6 3.6 1.  0.2]\n",
      " [5.1 3.3 1.7 0.5]\n",
      " [4.8 3.4 1.9 0.2]\n",
      " [5.  3.  1.6 0.2]\n",
      " [5.  3.4 1.6 0.4]\n",
      " [5.2 3.5 1.5 0.2]\n",
      " [5.2 3.4 1.4 0.2]\n",
      " [4.7 3.2 1.6 0.2]\n",
      " [4.8 3.1 1.6 0.2]\n",
      " [5.4 3.4 1.5 0.4]\n",
      " [5.2 4.1 1.5 0.1]\n",
      " [5.5 4.2 1.4 0.2]\n",
      " [4.9 3.1 1.5 0.2]\n",
      " [5.  3.2 1.2 0.2]\n",
      " [5.5 3.5 1.3 0.2]\n",
      " [4.9 3.6 1.4 0.1]\n",
      " [4.4 3.  1.3 0.2]\n",
      " [5.1 3.4 1.5 0.2]\n",
      " [5.  3.5 1.3 0.3]\n",
      " [4.5 2.3 1.3 0.3]\n",
      " [4.4 3.2 1.3 0.2]\n",
      " [5.  3.5 1.6 0.6]\n",
      " [5.1 3.8 1.9 0.4]\n",
      " [4.8 3.  1.4 0.3]\n",
      " [5.1 3.8 1.6 0.2]\n",
      " [4.6 3.2 1.4 0.2]\n",
      " [5.3 3.7 1.5 0.2]\n",
      " [5.  3.3 1.4 0.2]\n",
      " [7.  3.2 4.7 1.4]\n",
      " [6.4 3.2 4.5 1.5]\n",
      " [6.9 3.1 4.9 1.5]\n",
      " [5.5 2.3 4.  1.3]\n",
      " [6.5 2.8 4.6 1.5]\n",
      " [5.7 2.8 4.5 1.3]\n",
      " [6.3 3.3 4.7 1.6]\n",
      " [4.9 2.4 3.3 1. ]\n",
      " [6.6 2.9 4.6 1.3]\n",
      " [5.2 2.7 3.9 1.4]\n",
      " [5.  2.  3.5 1. ]\n",
      " [5.9 3.  4.2 1.5]\n",
      " [6.  2.2 4.  1. ]\n",
      " [6.1 2.9 4.7 1.4]\n",
      " [5.6 2.9 3.6 1.3]\n",
      " [6.7 3.1 4.4 1.4]\n",
      " [5.6 3.  4.5 1.5]\n",
      " [5.8 2.7 4.1 1. ]\n",
      " [6.2 2.2 4.5 1.5]\n",
      " [5.6 2.5 3.9 1.1]\n",
      " [5.9 3.2 4.8 1.8]\n",
      " [6.1 2.8 4.  1.3]\n",
      " [6.3 2.5 4.9 1.5]\n",
      " [6.1 2.8 4.7 1.2]\n",
      " [6.4 2.9 4.3 1.3]\n",
      " [6.6 3.  4.4 1.4]\n",
      " [6.8 2.8 4.8 1.4]\n",
      " [6.7 3.  5.  1.7]\n",
      " [6.  2.9 4.5 1.5]\n",
      " [5.7 2.6 3.5 1. ]\n",
      " [5.5 2.4 3.8 1.1]\n",
      " [5.5 2.4 3.7 1. ]\n",
      " [5.8 2.7 3.9 1.2]\n",
      " [6.  2.7 5.1 1.6]\n",
      " [5.4 3.  4.5 1.5]\n",
      " [6.  3.4 4.5 1.6]\n",
      " [6.7 3.1 4.7 1.5]\n",
      " [6.3 2.3 4.4 1.3]\n",
      " [5.6 3.  4.1 1.3]\n",
      " [5.5 2.5 4.  1.3]\n",
      " [5.5 2.6 4.4 1.2]\n",
      " [6.1 3.  4.6 1.4]\n",
      " [5.8 2.6 4.  1.2]\n",
      " [5.  2.3 3.3 1. ]\n",
      " [5.6 2.7 4.2 1.3]\n",
      " [5.7 3.  4.2 1.2]\n",
      " [5.7 2.9 4.2 1.3]\n",
      " [6.2 2.9 4.3 1.3]\n",
      " [5.1 2.5 3.  1.1]\n",
      " [5.7 2.8 4.1 1.3]\n",
      " [6.3 3.3 6.  2.5]\n",
      " [5.8 2.7 5.1 1.9]\n",
      " [7.1 3.  5.9 2.1]\n",
      " [6.3 2.9 5.6 1.8]\n",
      " [6.5 3.  5.8 2.2]\n",
      " [7.6 3.  6.6 2.1]\n",
      " [4.9 2.5 4.5 1.7]\n",
      " [7.3 2.9 6.3 1.8]\n",
      " [6.7 2.5 5.8 1.8]\n",
      " [7.2 3.6 6.1 2.5]\n",
      " [6.5 3.2 5.1 2. ]\n",
      " [6.4 2.7 5.3 1.9]\n",
      " [6.8 3.  5.5 2.1]\n",
      " [5.7 2.5 5.  2. ]\n",
      " [5.8 2.8 5.1 2.4]\n",
      " [6.4 3.2 5.3 2.3]\n",
      " [6.5 3.  5.5 1.8]\n",
      " [7.7 3.8 6.7 2.2]\n",
      " [7.7 2.6 6.9 2.3]\n",
      " [6.  2.2 5.  1.5]\n",
      " [6.9 3.2 5.7 2.3]\n",
      " [5.6 2.8 4.9 2. ]\n",
      " [7.7 2.8 6.7 2. ]\n",
      " [6.3 2.7 4.9 1.8]\n",
      " [6.7 3.3 5.7 2.1]\n",
      " [7.2 3.2 6.  1.8]\n",
      " [6.2 2.8 4.8 1.8]\n",
      " [6.1 3.  4.9 1.8]\n",
      " [6.4 2.8 5.6 2.1]\n",
      " [7.2 3.  5.8 1.6]\n",
      " [7.4 2.8 6.1 1.9]\n",
      " [7.9 3.8 6.4 2. ]\n",
      " [6.4 2.8 5.6 2.2]\n",
      " [6.3 2.8 5.1 1.5]\n",
      " [6.1 2.6 5.6 1.4]\n",
      " [7.7 3.  6.1 2.3]\n",
      " [6.3 3.4 5.6 2.4]\n",
      " [6.4 3.1 5.5 1.8]\n",
      " [6.  3.  4.8 1.8]\n",
      " [6.9 3.1 5.4 2.1]\n",
      " [6.7 3.1 5.6 2.4]\n",
      " [6.9 3.1 5.1 2.3]\n",
      " [5.8 2.7 5.1 1.9]\n",
      " [6.8 3.2 5.9 2.3]\n",
      " [6.7 3.3 5.7 2.5]\n",
      " [6.7 3.  5.2 2.3]\n",
      " [6.3 2.5 5.  1.9]\n",
      " [6.5 3.  5.2 2. ]\n",
      " [6.2 3.4 5.4 2.3]\n",
      " [5.9 3.  5.1 1.8]]\n",
      "x: (150, 4)\n",
      "y: [0 0 0 0 0 0 0 0 0 0 0 0 0 0 0 0 0 0 0 0 0 0 0 0 0 0 0 0 0 0 0 0 0 0 0 0 0\n",
      " 0 0 0 0 0 0 0 0 0 0 0 0 0 1 1 1 1 1 1 1 1 1 1 1 1 1 1 1 1 1 1 1 1 1 1 1 1\n",
      " 1 1 1 1 1 1 1 1 1 1 1 1 1 1 1 1 1 1 1 1 1 1 1 1 1 1 2 2 2 2 2 2 2 2 2 2 2\n",
      " 2 2 2 2 2 2 2 2 2 2 2 2 2 2 2 2 2 2 2 2 2 2 2 2 2 2 2 2 2 2 2 2 2 2 2 2 2\n",
      " 2 2]\n",
      "y: (150,)\n",
      "x_train: [[5.9 3.  4.2 1.5]\n",
      " [5.8 2.6 4.  1.2]\n",
      " [6.8 3.  5.5 2.1]\n",
      " [4.7 3.2 1.3 0.2]\n",
      " [6.9 3.1 5.1 2.3]\n",
      " [5.  3.5 1.6 0.6]\n",
      " [5.4 3.7 1.5 0.2]\n",
      " [5.  2.  3.5 1. ]\n",
      " [6.5 3.  5.5 1.8]\n",
      " [6.7 3.3 5.7 2.5]\n",
      " [6.  2.2 5.  1.5]\n",
      " [6.7 2.5 5.8 1.8]\n",
      " [5.6 2.5 3.9 1.1]\n",
      " [7.7 3.  6.1 2.3]\n",
      " [6.3 3.3 4.7 1.6]\n",
      " [5.5 2.4 3.8 1.1]\n",
      " [6.3 2.7 4.9 1.8]\n",
      " [6.3 2.8 5.1 1.5]\n",
      " [4.9 2.5 4.5 1.7]\n",
      " [6.3 2.5 5.  1.9]\n",
      " [7.  3.2 4.7 1.4]\n",
      " [6.5 3.  5.2 2. ]\n",
      " [6.  3.4 4.5 1.6]\n",
      " [4.8 3.1 1.6 0.2]\n",
      " [5.8 2.7 5.1 1.9]\n",
      " [5.6 2.7 4.2 1.3]\n",
      " [5.6 2.9 3.6 1.3]\n",
      " [5.5 2.5 4.  1.3]\n",
      " [6.1 3.  4.6 1.4]\n",
      " [7.2 3.2 6.  1.8]\n",
      " [5.3 3.7 1.5 0.2]\n",
      " [4.3 3.  1.1 0.1]\n",
      " [6.4 2.7 5.3 1.9]\n",
      " [5.7 3.  4.2 1.2]\n",
      " [5.4 3.4 1.7 0.2]\n",
      " [5.7 4.4 1.5 0.4]\n",
      " [6.9 3.1 4.9 1.5]\n",
      " [4.6 3.1 1.5 0.2]\n",
      " [5.9 3.  5.1 1.8]\n",
      " [5.1 2.5 3.  1.1]\n",
      " [4.6 3.4 1.4 0.3]\n",
      " [6.2 2.2 4.5 1.5]\n",
      " [7.2 3.6 6.1 2.5]\n",
      " [5.7 2.9 4.2 1.3]\n",
      " [4.8 3.  1.4 0.1]\n",
      " [7.1 3.  5.9 2.1]\n",
      " [6.9 3.2 5.7 2.3]\n",
      " [6.5 3.  5.8 2.2]\n",
      " [6.4 2.8 5.6 2.1]\n",
      " [5.1 3.8 1.6 0.2]\n",
      " [4.8 3.4 1.6 0.2]\n",
      " [6.5 3.2 5.1 2. ]\n",
      " [6.7 3.3 5.7 2.1]\n",
      " [4.5 2.3 1.3 0.3]\n",
      " [6.2 3.4 5.4 2.3]\n",
      " [4.9 3.  1.4 0.2]\n",
      " [5.7 2.5 5.  2. ]\n",
      " [6.9 3.1 5.4 2.1]\n",
      " [4.4 3.2 1.3 0.2]\n",
      " [5.  3.6 1.4 0.2]\n",
      " [7.2 3.  5.8 1.6]\n",
      " [5.1 3.5 1.4 0.3]\n",
      " [4.4 3.  1.3 0.2]\n",
      " [5.4 3.9 1.7 0.4]\n",
      " [5.5 2.3 4.  1.3]\n",
      " [6.8 3.2 5.9 2.3]\n",
      " [7.6 3.  6.6 2.1]\n",
      " [5.1 3.5 1.4 0.2]\n",
      " [4.9 3.1 1.5 0.2]\n",
      " [5.2 3.4 1.4 0.2]\n",
      " [5.7 2.8 4.5 1.3]\n",
      " [6.6 3.  4.4 1.4]\n",
      " [5.  3.2 1.2 0.2]\n",
      " [5.1 3.3 1.7 0.5]\n",
      " [6.4 2.9 4.3 1.3]\n",
      " [5.4 3.4 1.5 0.4]\n",
      " [7.7 2.6 6.9 2.3]\n",
      " [4.9 2.4 3.3 1. ]\n",
      " [7.9 3.8 6.4 2. ]\n",
      " [6.7 3.1 4.4 1.4]\n",
      " [5.2 4.1 1.5 0.1]\n",
      " [6.  3.  4.8 1.8]\n",
      " [5.8 4.  1.2 0.2]\n",
      " [7.7 2.8 6.7 2. ]\n",
      " [5.1 3.8 1.5 0.3]\n",
      " [4.7 3.2 1.6 0.2]\n",
      " [7.4 2.8 6.1 1.9]\n",
      " [5.  3.3 1.4 0.2]\n",
      " [6.3 3.4 5.6 2.4]\n",
      " [5.7 2.8 4.1 1.3]\n",
      " [5.8 2.7 3.9 1.2]\n",
      " [5.7 2.6 3.5 1. ]\n",
      " [6.4 3.2 5.3 2.3]\n",
      " [6.7 3.  5.2 2.3]\n",
      " [6.3 2.5 4.9 1.5]\n",
      " [6.7 3.  5.  1.7]\n",
      " [5.  3.  1.6 0.2]\n",
      " [5.5 2.4 3.7 1. ]\n",
      " [6.7 3.1 5.6 2.4]\n",
      " [5.8 2.7 5.1 1.9]\n",
      " [5.1 3.4 1.5 0.2]\n",
      " [6.6 2.9 4.6 1.3]\n",
      " [5.6 3.  4.1 1.3]\n",
      " [5.9 3.2 4.8 1.8]\n",
      " [6.3 2.3 4.4 1.3]\n",
      " [5.5 3.5 1.3 0.2]\n",
      " [5.1 3.7 1.5 0.4]\n",
      " [4.9 3.1 1.5 0.1]\n",
      " [6.3 2.9 5.6 1.8]\n",
      " [5.8 2.7 4.1 1. ]\n",
      " [7.7 3.8 6.7 2.2]\n",
      " [4.6 3.2 1.4 0.2]]\n",
      "x_train: (112, 4)\n",
      "x_test: [[5.8 2.8 5.1 2.4]\n",
      " [6.  2.2 4.  1. ]\n",
      " [5.5 4.2 1.4 0.2]\n",
      " [7.3 2.9 6.3 1.8]\n",
      " [5.  3.4 1.5 0.2]\n",
      " [6.3 3.3 6.  2.5]\n",
      " [5.  3.5 1.3 0.3]\n",
      " [6.7 3.1 4.7 1.5]\n",
      " [6.8 2.8 4.8 1.4]\n",
      " [6.1 2.8 4.  1.3]\n",
      " [6.1 2.6 5.6 1.4]\n",
      " [6.4 3.2 4.5 1.5]\n",
      " [6.1 2.8 4.7 1.2]\n",
      " [6.5 2.8 4.6 1.5]\n",
      " [6.1 2.9 4.7 1.4]\n",
      " [4.9 3.6 1.4 0.1]\n",
      " [6.  2.9 4.5 1.5]\n",
      " [5.5 2.6 4.4 1.2]\n",
      " [4.8 3.  1.4 0.3]\n",
      " [5.4 3.9 1.3 0.4]\n",
      " [5.6 2.8 4.9 2. ]\n",
      " [5.6 3.  4.5 1.5]\n",
      " [4.8 3.4 1.9 0.2]\n",
      " [4.4 2.9 1.4 0.2]\n",
      " [6.2 2.8 4.8 1.8]\n",
      " [4.6 3.6 1.  0.2]\n",
      " [5.1 3.8 1.9 0.4]\n",
      " [6.2 2.9 4.3 1.3]\n",
      " [5.  2.3 3.3 1. ]\n",
      " [5.  3.4 1.6 0.4]\n",
      " [6.4 3.1 5.5 1.8]\n",
      " [5.4 3.  4.5 1.5]\n",
      " [5.2 3.5 1.5 0.2]\n",
      " [6.1 3.  4.9 1.8]\n",
      " [6.4 2.8 5.6 2.2]\n",
      " [5.2 2.7 3.9 1.4]\n",
      " [5.7 3.8 1.7 0.3]\n",
      " [6.  2.7 5.1 1.6]]\n",
      "x_test: (38, 4)\n",
      "y_train: [1 1 2 0 2 0 0 1 2 2 2 2 1 2 1 1 2 2 2 2 1 2 1 0 2 1 1 1 1 2 0 0 2 1 0 0 1\n",
      " 0 2 1 0 1 2 1 0 2 2 2 2 0 0 2 2 0 2 0 2 2 0 0 2 0 0 0 1 2 2 0 0 0 1 1 0 0\n",
      " 1 0 2 1 2 1 0 2 0 2 0 0 2 0 2 1 1 1 2 2 1 1 0 1 2 2 0 1 1 1 1 0 0 0 2 1 2\n",
      " 0]\n",
      "y_train: (112,)\n",
      "y_test: [2 1 0 2 0 2 0 1 1 1 2 1 1 1 1 0 1 1 0 0 2 1 0 0 2 0 0 1 1 0 2 1 0 2 2 1 0\n",
      " 1]\n",
      "y_test: (38,)\n"
     ]
    },
    {
     "name": "stderr",
     "output_type": "stream",
     "text": [
      "/opt/conda/lib/python3.11/site-packages/sklearn/preprocessing/_data.py:2829: UserWarning: n_quantiles (1000) is greater than the total number of samples (112). n_quantiles is set to n_samples.\n",
      "  warnings.warn(\n"
     ]
    },
    {
     "data": {
      "text/plain": [
       "array([[0.54954955, 0.43693694, 0.48198198, 0.59009009],\n",
       "       [0.50900901, 0.16216216, 0.42342342, 0.41441441],\n",
       "       [0.85135135, 0.43693694, 0.80630631, 0.85135135],\n",
       "       [0.06756757, 0.66666667, 0.04504505, 0.13513514],\n",
       "       [0.87837838, 0.57657658, 0.71621622, 0.93243243],\n",
       "       [0.17567568, 0.86936937, 0.27927928, 0.32432432],\n",
       "       [0.31981982, 0.91441441, 0.1981982 , 0.13513514],\n",
       "       [0.17567568, 0.        , 0.35135135, 0.35585586],\n",
       "       [0.74324324, 0.43693694, 0.80630631, 0.7027027 ],\n",
       "       [0.80630631, 0.74774775, 0.86486486, 1.        ],\n",
       "       [0.57657658, 0.01351351, 0.67117117, 0.59009009],\n",
       "       [0.80630631, 0.11261261, 0.89189189, 0.7027027 ],\n",
       "       [0.4009009 , 0.11261261, 0.4009009 , 0.38738739],\n",
       "       [0.97747748, 0.43693694, 0.94144144, 0.93243243],\n",
       "       [0.65315315, 0.74774775, 0.5990991 , 0.63063063],\n",
       "       [0.36036036, 0.06306306, 0.38738739, 0.38738739],\n",
       "       [0.65315315, 0.20720721, 0.63963964, 0.7027027 ],\n",
       "       [0.65315315, 0.26576577, 0.71621622, 0.59009009],\n",
       "       [0.12612613, 0.11261261, 0.55405405, 0.65315315],\n",
       "       [0.65315315, 0.11261261, 0.67117117, 0.75675676],\n",
       "       [0.9009009 , 0.66666667, 0.5990991 , 0.54504505],\n",
       "       [0.74324324, 0.43693694, 0.75225225, 0.8018018 ],\n",
       "       [0.57657658, 0.81081081, 0.55405405, 0.63063063],\n",
       "       [0.09009009, 0.57657658, 0.27927928, 0.13513514],\n",
       "       [0.50900901, 0.20720721, 0.71621622, 0.75675676],\n",
       "       [0.4009009 , 0.20720721, 0.48198198, 0.47747748],\n",
       "       [0.4009009 , 0.31531532, 0.36936937, 0.47747748],\n",
       "       [0.36036036, 0.11261261, 0.42342342, 0.47747748],\n",
       "       [0.59459459, 0.43693694, 0.58108108, 0.54504505],\n",
       "       [0.92792793, 0.66666667, 0.92792793, 0.7027027 ],\n",
       "       [0.2972973 , 0.91441441, 0.1981982 , 0.13513514],\n",
       "       [0.        , 0.43693694, 0.        , 0.        ],\n",
       "       [0.7027027 , 0.20720721, 0.77027027, 0.75675676],\n",
       "       [0.44594595, 0.43693694, 0.48198198, 0.41441441],\n",
       "       [0.31981982, 0.81081081, 0.31531532, 0.13513514],\n",
       "       [0.44594595, 1.        , 0.1981982 , 0.2972973 ],\n",
       "       [0.87837838, 0.57657658, 0.63963964, 0.59009009],\n",
       "       [0.04504505, 0.57657658, 0.1981982 , 0.13513514],\n",
       "       [0.54954955, 0.43693694, 0.71621622, 0.7027027 ],\n",
       "       [0.23873874, 0.11261261, 0.33333333, 0.38738739],\n",
       "       [0.04504505, 0.81081081, 0.10810811, 0.25675676],\n",
       "       [0.60810811, 0.01351351, 0.55405405, 0.59009009],\n",
       "       [0.92792793, 0.8963964 , 0.94144144, 1.        ],\n",
       "       [0.44594595, 0.31531532, 0.48198198, 0.47747748],\n",
       "       [0.09009009, 0.43693694, 0.10810811, 0.        ],\n",
       "       [0.90990991, 0.43693694, 0.91441441, 0.85135135],\n",
       "       [0.87837838, 0.66666667, 0.86486486, 0.93243243],\n",
       "       [0.74324324, 0.43693694, 0.89189189, 0.88738739],\n",
       "       [0.7027027 , 0.26576577, 0.83333333, 0.85135135],\n",
       "       [0.23873874, 0.95045045, 0.27927928, 0.13513514],\n",
       "       [0.09009009, 0.81081081, 0.27927928, 0.13513514],\n",
       "       [0.74324324, 0.66666667, 0.71621622, 0.8018018 ],\n",
       "       [0.80630631, 0.74774775, 0.86486486, 0.85135135],\n",
       "       [0.02702703, 0.03603604, 0.04504505, 0.25675676],\n",
       "       [0.60810811, 0.81081081, 0.78828829, 0.93243243],\n",
       "       [0.12612613, 0.43693694, 0.10810811, 0.13513514],\n",
       "       [0.44594595, 0.11261261, 0.67117117, 0.8018018 ],\n",
       "       [0.87837838, 0.57657658, 0.78828829, 0.85135135],\n",
       "       [0.01351351, 0.66666667, 0.04504505, 0.13513514],\n",
       "       [0.17567568, 0.8963964 , 0.10810811, 0.13513514],\n",
       "       [0.92792793, 0.43693694, 0.89189189, 0.63063063],\n",
       "       [0.23873874, 0.86936937, 0.10810811, 0.25675676],\n",
       "       [0.01351351, 0.43693694, 0.04504505, 0.13513514],\n",
       "       [0.31981982, 0.97297297, 0.31531532, 0.2972973 ],\n",
       "       [0.36036036, 0.03603604, 0.42342342, 0.47747748],\n",
       "       [0.85135135, 0.66666667, 0.91441441, 0.93243243],\n",
       "       [0.95495495, 0.43693694, 0.97297297, 0.85135135],\n",
       "       [0.23873874, 0.86936937, 0.10810811, 0.13513514],\n",
       "       [0.12612613, 0.57657658, 0.1981982 , 0.13513514],\n",
       "       [0.28378378, 0.81081081, 0.10810811, 0.13513514],\n",
       "       [0.44594595, 0.26576577, 0.55405405, 0.47747748],\n",
       "       [0.77027027, 0.43693694, 0.52252252, 0.54504505],\n",
       "       [0.17567568, 0.66666667, 0.01351351, 0.13513514],\n",
       "       [0.23873874, 0.74774775, 0.31531532, 0.31531532],\n",
       "       [0.7027027 , 0.31531532, 0.5045045 , 0.47747748],\n",
       "       [0.31981982, 0.81081081, 0.1981982 , 0.2972973 ],\n",
       "       [0.97747748, 0.16216216, 1.        , 0.93243243],\n",
       "       [0.12612613, 0.06306306, 0.34234234, 0.35585586],\n",
       "       [1.        , 0.95045045, 0.96396396, 0.8018018 ],\n",
       "       [0.80630631, 0.57657658, 0.52252252, 0.54504505],\n",
       "       [0.28378378, 0.99099099, 0.1981982 , 0.        ],\n",
       "       [0.57657658, 0.43693694, 0.61711712, 0.7027027 ],\n",
       "       [0.50900901, 0.98198198, 0.01351351, 0.13513514],\n",
       "       [0.97747748, 0.26576577, 0.98648649, 0.8018018 ],\n",
       "       [0.23873874, 0.95045045, 0.1981982 , 0.25675676],\n",
       "       [0.06756757, 0.66666667, 0.27927928, 0.13513514],\n",
       "       [0.94594595, 0.26576577, 0.94144144, 0.75675676],\n",
       "       [0.17567568, 0.74774775, 0.10810811, 0.13513514],\n",
       "       [0.65315315, 0.81081081, 0.83333333, 0.97747748],\n",
       "       [0.44594595, 0.26576577, 0.45045045, 0.47747748],\n",
       "       [0.50900901, 0.20720721, 0.4009009 , 0.41441441],\n",
       "       [0.44594595, 0.16216216, 0.35135135, 0.35585586],\n",
       "       [0.7027027 , 0.66666667, 0.77027027, 0.93243243],\n",
       "       [0.80630631, 0.43693694, 0.75225225, 0.93243243],\n",
       "       [0.65315315, 0.11261261, 0.63963964, 0.59009009],\n",
       "       [0.80630631, 0.43693694, 0.67117117, 0.65315315],\n",
       "       [0.17567568, 0.43693694, 0.27927928, 0.13513514],\n",
       "       [0.36036036, 0.06306306, 0.37837838, 0.35585586],\n",
       "       [0.80630631, 0.57657658, 0.83333333, 0.97747748],\n",
       "       [0.50900901, 0.20720721, 0.71621622, 0.75675676],\n",
       "       [0.23873874, 0.81081081, 0.1981982 , 0.13513514],\n",
       "       [0.77027027, 0.31531532, 0.58108108, 0.47747748],\n",
       "       [0.4009009 , 0.43693694, 0.45045045, 0.47747748],\n",
       "       [0.54954955, 0.66666667, 0.61711712, 0.7027027 ],\n",
       "       [0.65315315, 0.03603604, 0.52252252, 0.47747748],\n",
       "       [0.36036036, 0.86936937, 0.04504505, 0.13513514],\n",
       "       [0.23873874, 0.91441441, 0.1981982 , 0.2972973 ],\n",
       "       [0.12612613, 0.57657658, 0.1981982 , 0.        ],\n",
       "       [0.65315315, 0.31531532, 0.83333333, 0.7027027 ],\n",
       "       [0.50900901, 0.20720721, 0.45045045, 0.35585586],\n",
       "       [0.97747748, 0.95045045, 0.98648649, 0.88738739],\n",
       "       [0.04504505, 0.66666667, 0.10810811, 0.13513514]])"
      ]
     },
     "execution_count": 24,
     "metadata": {},
     "output_type": "execute_result"
    }
   ],
   "source": [
    "from sklearn.datasets import load_iris\n",
    "from sklearn.model_selection import train_test_split\n",
    "\n",
    "x, y = load_iris(return_X_y=True)\n",
    "print(\"x:\", x)\n",
    "print(\"x:\", x.shape)\n",
    "print(\"y:\", y)\n",
    "print(\"y:\", y.shape)\n",
    "\n",
    "x_train, x_test, y_train, y_test = train_test_split(x, y, random_state=0)\n",
    "print(\"x_train:\", x_train)\n",
    "print(\"x_train:\", x_train.shape)\n",
    "print(\"x_test:\", x_test)\n",
    "print(\"x_test:\", x_test.shape)\n",
    "print(\"y_train:\", y_train)\n",
    "print(\"y_train:\", y_train.shape)\n",
    "print(\"y_test:\", y_test)\n",
    "print(\"y_test:\", y_test.shape)\n",
    "\n",
    "quantile_transformer = preprocessing.QuantileTransformer(random_state=0)\n",
    "\n",
    "x_train_trans = quantile_transformer.fit_transform(x_train)\n",
    "x_train_trans"
   ]
  },
  {
   "cell_type": "code",
   "execution_count": 25,
   "id": "6bfa745a-417c-411a-b30a-e2bdd5962ae3",
   "metadata": {},
   "outputs": [
    {
     "data": {
      "text/plain": [
       "array([4.3, 5.1, 5.8, 6.5, 7.9])"
      ]
     },
     "execution_count": 25,
     "metadata": {},
     "output_type": "execute_result"
    }
   ],
   "source": [
    "x_test_trans = quantile_transformer.transform(x_test)\n",
    "np.percentile(x_train[:, 0], [0, 25, 50, 75, 100])"
   ]
  },
  {
   "cell_type": "markdown",
   "id": "ba12834a-5a29-4354-852f-3cc9525da29a",
   "metadata": {},
   "source": [
    "This feature corresponds to the sepal length in cm. Once the quantile transformation applied, those landmarks approach closely the percentiles previously defined:\n",
    "\n",
    "这个特征对应于以 cm 为单位的萼片长度. 应用分位数转换后, 这些地标将接近之前定义的百分位数:"
   ]
  },
  {
   "cell_type": "code",
   "execution_count": 26,
   "id": "7b08c6dd-7f5e-4f97-8eeb-13a8690605cf",
   "metadata": {},
   "outputs": [
    {
     "data": {
      "text/plain": [
       "array([0.        , 0.23873874, 0.50900901, 0.74324324, 1.        ])"
      ]
     },
     "execution_count": 26,
     "metadata": {},
     "output_type": "execute_result"
    }
   ],
   "source": [
    "np.percentile(x_train_trans[:, 0], [0, 25, 50, 75, 100])"
   ]
  },
  {
   "cell_type": "markdown",
   "id": "8afe64a9-782e-4fc5-8ed5-9fbf3ab5d763",
   "metadata": {},
   "source": [
    "This can be confirmed on a independent testing set with similar remarks:\n",
    "\n",
    "这可以通过类似的评论在独立的测试集中得到确认:"
   ]
  },
  {
   "cell_type": "code",
   "execution_count": 27,
   "id": "2db71d5e-9ad7-4eeb-a94e-9b3904d2c6b1",
   "metadata": {},
   "outputs": [
    {
     "data": {
      "text/plain": [
       "array([4.4  , 5.125, 5.75 , 6.175, 7.3  ])"
      ]
     },
     "execution_count": 27,
     "metadata": {},
     "output_type": "execute_result"
    }
   ],
   "source": [
    "np.percentile(x_test[:, 0], [0, 25, 50, 75, 100])"
   ]
  },
  {
   "cell_type": "code",
   "execution_count": 28,
   "id": "e273fb17-862f-4fc3-839c-11387fc746ce",
   "metadata": {},
   "outputs": [
    {
     "data": {
      "text/plain": [
       "array([0.01351351, 0.25      , 0.47747748, 0.60472973, 0.94144144])"
      ]
     },
     "execution_count": 28,
     "metadata": {},
     "output_type": "execute_result"
    }
   ],
   "source": [
    "np.percentile(x_test_trans[:, 0], [0, 25, 50, 75, 100])"
   ]
  },
  {
   "cell_type": "markdown",
   "id": "bdbc7260-cb85-40af-92df-e7ae3370524d",
   "metadata": {},
   "source": [
    "#### 6.3.2.2. Mapping to a Gaussian distribution\n",
    "映射到高斯分布\n",
    "\n",
    "In many modeling scenarios, normality of the features in a dataset is desirable. Power transforms are a family of parametric, monotonic transformations that aim to map data from any distribution to as close to a Gaussian distribution as possible in order to stabilize variance and minimize skewness.\n",
    "\n",
    "在许多建模场景中, 数据集中特征的正态性是可取的. 幂变换是一系列参数化的单调变换, 旨在将数据从任何分布映射到尽可能接近高斯分布, 以稳定方差并最小化偏度.\n",
    "\n",
    "PowerTransformer currently provides two such power transformations, the Yeo-Johnson transform and the Box-Cox transform.\n",
    "\n",
    "PowerTransformer 目前提供两种这样的幂转换, 即 Yeo-Johnson 转换和 Box-Cox 转换.\n",
    "\n",
    "Below are examples of Box-Cox and Yeo-Johnson applied to various probability distributions. Note that when applied to certain distributions, the power transforms achieve very Gaussian-like results, but with others, they are ineffective. This highlights the importance of visualizing the data before and after transformation.\n",
    "\n",
    "以下是应用于各种概率分布的 Box-Cox 和 Yeo-Johnson 的示例. 请注意, 当应用于某些分布时, 幂变换会获得非常类似于高斯的结果, 但对于其他分布, 它们无效. 这凸显了在转换前后可视化数据的重要性.\n",
    "\n",
    "![](./sphx_glr_plot_map_data_to_normal_001.png)\n"
   ]
  },
  {
   "cell_type": "markdown",
   "id": "67e54f67-dd8a-428e-9cdb-42eadff7a90b",
   "metadata": {},
   "source": [
    "It is also possible to map data to a normal distribution using QuantileTransformer by setting output_distribution='normal'. Using the earlier example with the iris dataset:\n",
    "\n",
    "也可以使用 QuantileTransformer 通过设置 output_distribution='normal' 来设置. 将前面的示例与 iris 数据集一起使用:"
   ]
  },
  {
   "cell_type": "code",
   "execution_count": 29,
   "id": "0ccdcbec-17b8-453a-8842-f3691983e5e9",
   "metadata": {},
   "outputs": [
    {
     "name": "stderr",
     "output_type": "stream",
     "text": [
      "/opt/conda/lib/python3.11/site-packages/sklearn/preprocessing/_data.py:2829: UserWarning: n_quantiles (1000) is greater than the total number of samples (150). n_quantiles is set to n_samples.\n",
      "  warnings.warn(\n"
     ]
    },
    {
     "data": {
      "text/plain": [
       "array([[4.3, 2. , 1. , 0.1],\n",
       "       [4.4, 2.2, 1.1, 0.1],\n",
       "       [4.4, 2.2, 1.2, 0.1],\n",
       "       [4.4, 2.2, 1.2, 0.1],\n",
       "       [4.5, 2.3, 1.3, 0.1],\n",
       "       [4.6, 2.3, 1.3, 0.2],\n",
       "       [4.6, 2.3, 1.3, 0.2],\n",
       "       [4.6, 2.3, 1.3, 0.2],\n",
       "       [4.6, 2.4, 1.3, 0.2],\n",
       "       [4.7, 2.4, 1.3, 0.2],\n",
       "       [4.7, 2.4, 1.3, 0.2],\n",
       "       [4.8, 2.5, 1.4, 0.2],\n",
       "       [4.8, 2.5, 1.4, 0.2],\n",
       "       [4.8, 2.5, 1.4, 0.2],\n",
       "       [4.8, 2.5, 1.4, 0.2],\n",
       "       [4.8, 2.5, 1.4, 0.2],\n",
       "       [4.9, 2.5, 1.4, 0.2],\n",
       "       [4.9, 2.5, 1.4, 0.2],\n",
       "       [4.9, 2.5, 1.4, 0.2],\n",
       "       [4.9, 2.6, 1.4, 0.2],\n",
       "       [4.9, 2.6, 1.4, 0.2],\n",
       "       [4.9, 2.6, 1.4, 0.2],\n",
       "       [5. , 2.6, 1.4, 0.2],\n",
       "       [5. , 2.6, 1.4, 0.2],\n",
       "       [5. , 2.7, 1.5, 0.2],\n",
       "       [5. , 2.7, 1.5, 0.2],\n",
       "       [5. , 2.7, 1.5, 0.2],\n",
       "       [5. , 2.7, 1.5, 0.2],\n",
       "       [5. , 2.7, 1.5, 0.2],\n",
       "       [5. , 2.7, 1.5, 0.2],\n",
       "       [5. , 2.7, 1.5, 0.2],\n",
       "       [5. , 2.7, 1.5, 0.2],\n",
       "       [5.1, 2.7, 1.5, 0.2],\n",
       "       [5.1, 2.8, 1.5, 0.2],\n",
       "       [5.1, 2.8, 1.5, 0.3],\n",
       "       [5.1, 2.8, 1.5, 0.3],\n",
       "       [5.1, 2.8, 1.5, 0.3],\n",
       "       [5.1, 2.8, 1.6, 0.3],\n",
       "       [5.1, 2.8, 1.6, 0.3],\n",
       "       [5.1, 2.8, 1.6, 0.3],\n",
       "       [5.1, 2.8, 1.6, 0.3],\n",
       "       [5.2, 2.8, 1.6, 0.4],\n",
       "       [5.2, 2.8, 1.6, 0.4],\n",
       "       [5.2, 2.8, 1.6, 0.4],\n",
       "       [5.2, 2.8, 1.7, 0.4],\n",
       "       [5.3, 2.8, 1.7, 0.4],\n",
       "       [5.4, 2.8, 1.7, 0.4],\n",
       "       [5.4, 2.9, 1.7, 0.4],\n",
       "       [5.4, 2.9, 1.9, 0.5],\n",
       "       [5.4, 2.9, 1.9, 0.6],\n",
       "       [5.4, 2.9, 3. , 1. ],\n",
       "       [5.4, 2.9, 3.3, 1. ],\n",
       "       [5.5, 2.9, 3.3, 1. ],\n",
       "       [5.5, 2.9, 3.5, 1. ],\n",
       "       [5.5, 2.9, 3.5, 1. ],\n",
       "       [5.5, 2.9, 3.6, 1. ],\n",
       "       [5.5, 2.9, 3.7, 1. ],\n",
       "       [5.5, 3. , 3.8, 1.1],\n",
       "       [5.5, 3. , 3.9, 1.1],\n",
       "       [5.6, 3. , 3.9, 1.1],\n",
       "       [5.6, 3. , 3.9, 1.2],\n",
       "       [5.6, 3. , 4. , 1.2],\n",
       "       [5.6, 3. , 4. , 1.2],\n",
       "       [5.6, 3. , 4. , 1.2],\n",
       "       [5.6, 3. , 4. , 1.2],\n",
       "       [5.7, 3. , 4. , 1.3],\n",
       "       [5.7, 3. , 4.1, 1.3],\n",
       "       [5.7, 3. , 4.1, 1.3],\n",
       "       [5.7, 3. , 4.1, 1.3],\n",
       "       [5.7, 3. , 4.2, 1.3],\n",
       "       [5.7, 3. , 4.2, 1.3],\n",
       "       [5.7, 3. , 4.2, 1.3],\n",
       "       [5.7, 3. , 4.2, 1.3],\n",
       "       [5.8, 3. , 4.3, 1.3],\n",
       "       [5.8, 3. , 4.3, 1.3],\n",
       "       [5.8, 3. , 4.4, 1.3],\n",
       "       [5.8, 3. , 4.4, 1.3],\n",
       "       [5.8, 3. , 4.4, 1.3],\n",
       "       [5.8, 3. , 4.4, 1.4],\n",
       "       [5.8, 3. , 4.5, 1.4],\n",
       "       [5.9, 3. , 4.5, 1.4],\n",
       "       [5.9, 3. , 4.5, 1.4],\n",
       "       [5.9, 3. , 4.5, 1.4],\n",
       "       [6. , 3.1, 4.5, 1.4],\n",
       "       [6. , 3.1, 4.5, 1.4],\n",
       "       [6. , 3.1, 4.5, 1.4],\n",
       "       [6. , 3.1, 4.5, 1.5],\n",
       "       [6. , 3.1, 4.6, 1.5],\n",
       "       [6. , 3.1, 4.6, 1.5],\n",
       "       [6.1, 3.1, 4.6, 1.5],\n",
       "       [6.1, 3.1, 4.7, 1.5],\n",
       "       [6.1, 3.1, 4.7, 1.5],\n",
       "       [6.1, 3.1, 4.7, 1.5],\n",
       "       [6.1, 3.1, 4.7, 1.5],\n",
       "       [6.1, 3.2, 4.7, 1.5],\n",
       "       [6.2, 3.2, 4.8, 1.5],\n",
       "       [6.2, 3.2, 4.8, 1.5],\n",
       "       [6.2, 3.2, 4.8, 1.5],\n",
       "       [6.2, 3.2, 4.8, 1.6],\n",
       "       [6.3, 3.2, 4.9, 1.6],\n",
       "       [6.3, 3.2, 4.9, 1.6],\n",
       "       [6.3, 3.2, 4.9, 1.6],\n",
       "       [6.3, 3.2, 4.9, 1.7],\n",
       "       [6.3, 3.2, 4.9, 1.7],\n",
       "       [6.3, 3.2, 5. , 1.8],\n",
       "       [6.3, 3.2, 5. , 1.8],\n",
       "       [6.3, 3.2, 5. , 1.8],\n",
       "       [6.3, 3.3, 5. , 1.8],\n",
       "       [6.4, 3.3, 5.1, 1.8],\n",
       "       [6.4, 3.3, 5.1, 1.8],\n",
       "       [6.4, 3.3, 5.1, 1.8],\n",
       "       [6.4, 3.3, 5.1, 1.8],\n",
       "       [6.4, 3.3, 5.1, 1.8],\n",
       "       [6.4, 3.4, 5.1, 1.8],\n",
       "       [6.4, 3.4, 5.1, 1.8],\n",
       "       [6.5, 3.4, 5.1, 1.8],\n",
       "       [6.5, 3.4, 5.2, 1.9],\n",
       "       [6.5, 3.4, 5.2, 1.9],\n",
       "       [6.5, 3.4, 5.3, 1.9],\n",
       "       [6.5, 3.4, 5.3, 1.9],\n",
       "       [6.6, 3.4, 5.4, 1.9],\n",
       "       [6.6, 3.4, 5.4, 2. ],\n",
       "       [6.7, 3.4, 5.5, 2. ],\n",
       "       [6.7, 3.4, 5.5, 2. ],\n",
       "       [6.7, 3.4, 5.5, 2. ],\n",
       "       [6.7, 3.5, 5.6, 2. ],\n",
       "       [6.7, 3.5, 5.6, 2. ],\n",
       "       [6.7, 3.5, 5.6, 2.1],\n",
       "       [6.7, 3.5, 5.6, 2.1],\n",
       "       [6.7, 3.5, 5.6, 2.1],\n",
       "       [6.8, 3.5, 5.6, 2.1],\n",
       "       [6.8, 3.6, 5.7, 2.1],\n",
       "       [6.8, 3.6, 5.7, 2.1],\n",
       "       [6.9, 3.6, 5.7, 2.2],\n",
       "       [6.9, 3.6, 5.8, 2.2],\n",
       "       [6.9, 3.7, 5.8, 2.2],\n",
       "       [6.9, 3.7, 5.8, 2.3],\n",
       "       [7. , 3.7, 5.9, 2.3],\n",
       "       [7.1, 3.8, 5.9, 2.3],\n",
       "       [7.2, 3.8, 6. , 2.3],\n",
       "       [7.2, 3.8, 6. , 2.3],\n",
       "       [7.2, 3.8, 6.1, 2.3],\n",
       "       [7.3, 3.8, 6.1, 2.3],\n",
       "       [7.4, 3.8, 6.1, 2.3],\n",
       "       [7.6, 3.9, 6.3, 2.4],\n",
       "       [7.7, 3.9, 6.4, 2.4],\n",
       "       [7.7, 4. , 6.6, 2.4],\n",
       "       [7.7, 4.1, 6.7, 2.5],\n",
       "       [7.7, 4.2, 6.7, 2.5],\n",
       "       [7.9, 4.4, 6.9, 2.5]])"
      ]
     },
     "execution_count": 29,
     "metadata": {},
     "output_type": "execute_result"
    }
   ],
   "source": [
    "quantile_transformer = preprocessing.QuantileTransformer(\n",
    "    output_distribution=\"normal\", random_state=0\n",
    ")\n",
    "x_trans = quantile_transformer.fit_transform(x)\n",
    "quantile_transformer.quantiles_"
   ]
  },
  {
   "cell_type": "markdown",
   "id": "bbf32065-d3e3-4daf-9cdc-96b46fb3eda3",
   "metadata": {},
   "source": [
    "Thus the median of the input becomes the mean of the output, centered at 0. The normal output is clipped so that the input’s minimum and maximum — corresponding to the 1e-7 and 1 - 1e-7 quantiles respectively — do not become infinite under the transformation.\n",
    "\n",
    "因此, 输入的中位数成为输出的平均值. 以 0 为中心. 正常输出被裁剪, 以便输入的最小值和最大值(分别对应于 1e-7 和 1 - 1e-7 分位数)在转换下不会变为无限."
   ]
  },
  {
   "cell_type": "markdown",
   "id": "05f82d48-18db-4b76-9214-1ba1ca5c13fb",
   "metadata": {},
   "source": [
    "### 6.3.3. Normalization\n",
    "归一化\n",
    "\n",
    "Normalization is the process of scaling individual samples to have unit norm. This process can be useful if you plan to use a quadratic form such as the dot-product or any other kernel to quantify the similarity of any pair of samples.\n",
    "\n",
    "归一化是将单个样本缩放为具有单位范数的过程. 如果您计划使用二次形式(如 dot-product 或任何其他内核)来量化任何一对样本的相似性, 则此过程可能很有用.\n",
    "\n",
    "This assumption is the base of the Vector Space Model often used in text classification and clustering contexts.\n",
    "\n",
    "此假设是文本分类和聚类上下文中经常使用的向量空间模型的基础.\n",
    "\n",
    "The function normalize provides a quick and easy way to perform this operation on a single array-like dataset, either using the l1, l2, or max norms:\n",
    "\n",
    "函数 normalize 提供了一种快速简便的方法, 可以使用 l1、l2 或最大范数:"
   ]
  },
  {
   "cell_type": "code",
   "execution_count": 30,
   "id": "e2f5742a-b128-49b8-a8d7-1584e878ace7",
   "metadata": {},
   "outputs": [
    {
     "data": {
      "text/plain": [
       "array([[ 0.40824829, -0.40824829,  0.81649658],\n",
       "       [ 1.        ,  0.        ,  0.        ],\n",
       "       [ 0.        ,  0.70710678, -0.70710678]])"
      ]
     },
     "execution_count": 30,
     "metadata": {},
     "output_type": "execute_result"
    }
   ],
   "source": [
    "X = [[1.0, -1.0, 2.0], [2.0, 0.0, 0.0], [0.0, 1.0, -1.0]]\n",
    "X_normalized = preprocessing.normalize(X, norm=\"l2\")\n",
    "X_normalized"
   ]
  },
  {
   "cell_type": "markdown",
   "id": "af41f0a7-cdf2-4838-b83c-345444f3d30d",
   "metadata": {},
   "source": [
    "The preprocessing module further provides a utility class Normalizer that implements the same operation using the Transformer API (even though the fit method is useless in this case: the class is stateless as this operation treats samples independently).\n",
    "\n",
    "预处理模块还提供了一个 utility 类 Normalizer 使用变压器 API (即使 fit 方法在这种情况下无用: 该类是无状态的, 因为此作独立处理样本).\n",
    "\n",
    "This class is hence suitable for use in the early steps of a Pipeline:\n",
    "\n",
    "因此, 此类适合在管道:"
   ]
  },
  {
   "cell_type": "code",
   "execution_count": 31,
   "id": "23793792-0dba-4a74-b76e-29d8131ab7ee",
   "metadata": {},
   "outputs": [
    {
     "data": {
      "text/html": [
       "<style>#sk-container-id-2 {\n",
       "  /* Definition of color scheme common for light and dark mode */\n",
       "  --sklearn-color-text: #000;\n",
       "  --sklearn-color-text-muted: #666;\n",
       "  --sklearn-color-line: gray;\n",
       "  /* Definition of color scheme for unfitted estimators */\n",
       "  --sklearn-color-unfitted-level-0: #fff5e6;\n",
       "  --sklearn-color-unfitted-level-1: #f6e4d2;\n",
       "  --sklearn-color-unfitted-level-2: #ffe0b3;\n",
       "  --sklearn-color-unfitted-level-3: chocolate;\n",
       "  /* Definition of color scheme for fitted estimators */\n",
       "  --sklearn-color-fitted-level-0: #f0f8ff;\n",
       "  --sklearn-color-fitted-level-1: #d4ebff;\n",
       "  --sklearn-color-fitted-level-2: #b3dbfd;\n",
       "  --sklearn-color-fitted-level-3: cornflowerblue;\n",
       "\n",
       "  /* Specific color for light theme */\n",
       "  --sklearn-color-text-on-default-background: var(--sg-text-color, var(--theme-code-foreground, var(--jp-content-font-color1, black)));\n",
       "  --sklearn-color-background: var(--sg-background-color, var(--theme-background, var(--jp-layout-color0, white)));\n",
       "  --sklearn-color-border-box: var(--sg-text-color, var(--theme-code-foreground, var(--jp-content-font-color1, black)));\n",
       "  --sklearn-color-icon: #696969;\n",
       "\n",
       "  @media (prefers-color-scheme: dark) {\n",
       "    /* Redefinition of color scheme for dark theme */\n",
       "    --sklearn-color-text-on-default-background: var(--sg-text-color, var(--theme-code-foreground, var(--jp-content-font-color1, white)));\n",
       "    --sklearn-color-background: var(--sg-background-color, var(--theme-background, var(--jp-layout-color0, #111)));\n",
       "    --sklearn-color-border-box: var(--sg-text-color, var(--theme-code-foreground, var(--jp-content-font-color1, white)));\n",
       "    --sklearn-color-icon: #878787;\n",
       "  }\n",
       "}\n",
       "\n",
       "#sk-container-id-2 {\n",
       "  color: var(--sklearn-color-text);\n",
       "}\n",
       "\n",
       "#sk-container-id-2 pre {\n",
       "  padding: 0;\n",
       "}\n",
       "\n",
       "#sk-container-id-2 input.sk-hidden--visually {\n",
       "  border: 0;\n",
       "  clip: rect(1px 1px 1px 1px);\n",
       "  clip: rect(1px, 1px, 1px, 1px);\n",
       "  height: 1px;\n",
       "  margin: -1px;\n",
       "  overflow: hidden;\n",
       "  padding: 0;\n",
       "  position: absolute;\n",
       "  width: 1px;\n",
       "}\n",
       "\n",
       "#sk-container-id-2 div.sk-dashed-wrapped {\n",
       "  border: 1px dashed var(--sklearn-color-line);\n",
       "  margin: 0 0.4em 0.5em 0.4em;\n",
       "  box-sizing: border-box;\n",
       "  padding-bottom: 0.4em;\n",
       "  background-color: var(--sklearn-color-background);\n",
       "}\n",
       "\n",
       "#sk-container-id-2 div.sk-container {\n",
       "  /* jupyter's `normalize.less` sets `[hidden] { display: none; }`\n",
       "     but bootstrap.min.css set `[hidden] { display: none !important; }`\n",
       "     so we also need the `!important` here to be able to override the\n",
       "     default hidden behavior on the sphinx rendered scikit-learn.org.\n",
       "     See: https://github.com/scikit-learn/scikit-learn/issues/21755 */\n",
       "  display: inline-block !important;\n",
       "  position: relative;\n",
       "}\n",
       "\n",
       "#sk-container-id-2 div.sk-text-repr-fallback {\n",
       "  display: none;\n",
       "}\n",
       "\n",
       "div.sk-parallel-item,\n",
       "div.sk-serial,\n",
       "div.sk-item {\n",
       "  /* draw centered vertical line to link estimators */\n",
       "  background-image: linear-gradient(var(--sklearn-color-text-on-default-background), var(--sklearn-color-text-on-default-background));\n",
       "  background-size: 2px 100%;\n",
       "  background-repeat: no-repeat;\n",
       "  background-position: center center;\n",
       "}\n",
       "\n",
       "/* Parallel-specific style estimator block */\n",
       "\n",
       "#sk-container-id-2 div.sk-parallel-item::after {\n",
       "  content: \"\";\n",
       "  width: 100%;\n",
       "  border-bottom: 2px solid var(--sklearn-color-text-on-default-background);\n",
       "  flex-grow: 1;\n",
       "}\n",
       "\n",
       "#sk-container-id-2 div.sk-parallel {\n",
       "  display: flex;\n",
       "  align-items: stretch;\n",
       "  justify-content: center;\n",
       "  background-color: var(--sklearn-color-background);\n",
       "  position: relative;\n",
       "}\n",
       "\n",
       "#sk-container-id-2 div.sk-parallel-item {\n",
       "  display: flex;\n",
       "  flex-direction: column;\n",
       "}\n",
       "\n",
       "#sk-container-id-2 div.sk-parallel-item:first-child::after {\n",
       "  align-self: flex-end;\n",
       "  width: 50%;\n",
       "}\n",
       "\n",
       "#sk-container-id-2 div.sk-parallel-item:last-child::after {\n",
       "  align-self: flex-start;\n",
       "  width: 50%;\n",
       "}\n",
       "\n",
       "#sk-container-id-2 div.sk-parallel-item:only-child::after {\n",
       "  width: 0;\n",
       "}\n",
       "\n",
       "/* Serial-specific style estimator block */\n",
       "\n",
       "#sk-container-id-2 div.sk-serial {\n",
       "  display: flex;\n",
       "  flex-direction: column;\n",
       "  align-items: center;\n",
       "  background-color: var(--sklearn-color-background);\n",
       "  padding-right: 1em;\n",
       "  padding-left: 1em;\n",
       "}\n",
       "\n",
       "\n",
       "/* Toggleable style: style used for estimator/Pipeline/ColumnTransformer box that is\n",
       "clickable and can be expanded/collapsed.\n",
       "- Pipeline and ColumnTransformer use this feature and define the default style\n",
       "- Estimators will overwrite some part of the style using the `sk-estimator` class\n",
       "*/\n",
       "\n",
       "/* Pipeline and ColumnTransformer style (default) */\n",
       "\n",
       "#sk-container-id-2 div.sk-toggleable {\n",
       "  /* Default theme specific background. It is overwritten whether we have a\n",
       "  specific estimator or a Pipeline/ColumnTransformer */\n",
       "  background-color: var(--sklearn-color-background);\n",
       "}\n",
       "\n",
       "/* Toggleable label */\n",
       "#sk-container-id-2 label.sk-toggleable__label {\n",
       "  cursor: pointer;\n",
       "  display: flex;\n",
       "  width: 100%;\n",
       "  margin-bottom: 0;\n",
       "  padding: 0.5em;\n",
       "  box-sizing: border-box;\n",
       "  text-align: center;\n",
       "  align-items: start;\n",
       "  justify-content: space-between;\n",
       "  gap: 0.5em;\n",
       "}\n",
       "\n",
       "#sk-container-id-2 label.sk-toggleable__label .caption {\n",
       "  font-size: 0.6rem;\n",
       "  font-weight: lighter;\n",
       "  color: var(--sklearn-color-text-muted);\n",
       "}\n",
       "\n",
       "#sk-container-id-2 label.sk-toggleable__label-arrow:before {\n",
       "  /* Arrow on the left of the label */\n",
       "  content: \"▸\";\n",
       "  float: left;\n",
       "  margin-right: 0.25em;\n",
       "  color: var(--sklearn-color-icon);\n",
       "}\n",
       "\n",
       "#sk-container-id-2 label.sk-toggleable__label-arrow:hover:before {\n",
       "  color: var(--sklearn-color-text);\n",
       "}\n",
       "\n",
       "/* Toggleable content - dropdown */\n",
       "\n",
       "#sk-container-id-2 div.sk-toggleable__content {\n",
       "  max-height: 0;\n",
       "  max-width: 0;\n",
       "  overflow: hidden;\n",
       "  text-align: left;\n",
       "  /* unfitted */\n",
       "  background-color: var(--sklearn-color-unfitted-level-0);\n",
       "}\n",
       "\n",
       "#sk-container-id-2 div.sk-toggleable__content.fitted {\n",
       "  /* fitted */\n",
       "  background-color: var(--sklearn-color-fitted-level-0);\n",
       "}\n",
       "\n",
       "#sk-container-id-2 div.sk-toggleable__content pre {\n",
       "  margin: 0.2em;\n",
       "  border-radius: 0.25em;\n",
       "  color: var(--sklearn-color-text);\n",
       "  /* unfitted */\n",
       "  background-color: var(--sklearn-color-unfitted-level-0);\n",
       "}\n",
       "\n",
       "#sk-container-id-2 div.sk-toggleable__content.fitted pre {\n",
       "  /* unfitted */\n",
       "  background-color: var(--sklearn-color-fitted-level-0);\n",
       "}\n",
       "\n",
       "#sk-container-id-2 input.sk-toggleable__control:checked~div.sk-toggleable__content {\n",
       "  /* Expand drop-down */\n",
       "  max-height: 200px;\n",
       "  max-width: 100%;\n",
       "  overflow: auto;\n",
       "}\n",
       "\n",
       "#sk-container-id-2 input.sk-toggleable__control:checked~label.sk-toggleable__label-arrow:before {\n",
       "  content: \"▾\";\n",
       "}\n",
       "\n",
       "/* Pipeline/ColumnTransformer-specific style */\n",
       "\n",
       "#sk-container-id-2 div.sk-label input.sk-toggleable__control:checked~label.sk-toggleable__label {\n",
       "  color: var(--sklearn-color-text);\n",
       "  background-color: var(--sklearn-color-unfitted-level-2);\n",
       "}\n",
       "\n",
       "#sk-container-id-2 div.sk-label.fitted input.sk-toggleable__control:checked~label.sk-toggleable__label {\n",
       "  background-color: var(--sklearn-color-fitted-level-2);\n",
       "}\n",
       "\n",
       "/* Estimator-specific style */\n",
       "\n",
       "/* Colorize estimator box */\n",
       "#sk-container-id-2 div.sk-estimator input.sk-toggleable__control:checked~label.sk-toggleable__label {\n",
       "  /* unfitted */\n",
       "  background-color: var(--sklearn-color-unfitted-level-2);\n",
       "}\n",
       "\n",
       "#sk-container-id-2 div.sk-estimator.fitted input.sk-toggleable__control:checked~label.sk-toggleable__label {\n",
       "  /* fitted */\n",
       "  background-color: var(--sklearn-color-fitted-level-2);\n",
       "}\n",
       "\n",
       "#sk-container-id-2 div.sk-label label.sk-toggleable__label,\n",
       "#sk-container-id-2 div.sk-label label {\n",
       "  /* The background is the default theme color */\n",
       "  color: var(--sklearn-color-text-on-default-background);\n",
       "}\n",
       "\n",
       "/* On hover, darken the color of the background */\n",
       "#sk-container-id-2 div.sk-label:hover label.sk-toggleable__label {\n",
       "  color: var(--sklearn-color-text);\n",
       "  background-color: var(--sklearn-color-unfitted-level-2);\n",
       "}\n",
       "\n",
       "/* Label box, darken color on hover, fitted */\n",
       "#sk-container-id-2 div.sk-label.fitted:hover label.sk-toggleable__label.fitted {\n",
       "  color: var(--sklearn-color-text);\n",
       "  background-color: var(--sklearn-color-fitted-level-2);\n",
       "}\n",
       "\n",
       "/* Estimator label */\n",
       "\n",
       "#sk-container-id-2 div.sk-label label {\n",
       "  font-family: monospace;\n",
       "  font-weight: bold;\n",
       "  display: inline-block;\n",
       "  line-height: 1.2em;\n",
       "}\n",
       "\n",
       "#sk-container-id-2 div.sk-label-container {\n",
       "  text-align: center;\n",
       "}\n",
       "\n",
       "/* Estimator-specific */\n",
       "#sk-container-id-2 div.sk-estimator {\n",
       "  font-family: monospace;\n",
       "  border: 1px dotted var(--sklearn-color-border-box);\n",
       "  border-radius: 0.25em;\n",
       "  box-sizing: border-box;\n",
       "  margin-bottom: 0.5em;\n",
       "  /* unfitted */\n",
       "  background-color: var(--sklearn-color-unfitted-level-0);\n",
       "}\n",
       "\n",
       "#sk-container-id-2 div.sk-estimator.fitted {\n",
       "  /* fitted */\n",
       "  background-color: var(--sklearn-color-fitted-level-0);\n",
       "}\n",
       "\n",
       "/* on hover */\n",
       "#sk-container-id-2 div.sk-estimator:hover {\n",
       "  /* unfitted */\n",
       "  background-color: var(--sklearn-color-unfitted-level-2);\n",
       "}\n",
       "\n",
       "#sk-container-id-2 div.sk-estimator.fitted:hover {\n",
       "  /* fitted */\n",
       "  background-color: var(--sklearn-color-fitted-level-2);\n",
       "}\n",
       "\n",
       "/* Specification for estimator info (e.g. \"i\" and \"?\") */\n",
       "\n",
       "/* Common style for \"i\" and \"?\" */\n",
       "\n",
       ".sk-estimator-doc-link,\n",
       "a:link.sk-estimator-doc-link,\n",
       "a:visited.sk-estimator-doc-link {\n",
       "  float: right;\n",
       "  font-size: smaller;\n",
       "  line-height: 1em;\n",
       "  font-family: monospace;\n",
       "  background-color: var(--sklearn-color-background);\n",
       "  border-radius: 1em;\n",
       "  height: 1em;\n",
       "  width: 1em;\n",
       "  text-decoration: none !important;\n",
       "  margin-left: 0.5em;\n",
       "  text-align: center;\n",
       "  /* unfitted */\n",
       "  border: var(--sklearn-color-unfitted-level-1) 1pt solid;\n",
       "  color: var(--sklearn-color-unfitted-level-1);\n",
       "}\n",
       "\n",
       ".sk-estimator-doc-link.fitted,\n",
       "a:link.sk-estimator-doc-link.fitted,\n",
       "a:visited.sk-estimator-doc-link.fitted {\n",
       "  /* fitted */\n",
       "  border: var(--sklearn-color-fitted-level-1) 1pt solid;\n",
       "  color: var(--sklearn-color-fitted-level-1);\n",
       "}\n",
       "\n",
       "/* On hover */\n",
       "div.sk-estimator:hover .sk-estimator-doc-link:hover,\n",
       ".sk-estimator-doc-link:hover,\n",
       "div.sk-label-container:hover .sk-estimator-doc-link:hover,\n",
       ".sk-estimator-doc-link:hover {\n",
       "  /* unfitted */\n",
       "  background-color: var(--sklearn-color-unfitted-level-3);\n",
       "  color: var(--sklearn-color-background);\n",
       "  text-decoration: none;\n",
       "}\n",
       "\n",
       "div.sk-estimator.fitted:hover .sk-estimator-doc-link.fitted:hover,\n",
       ".sk-estimator-doc-link.fitted:hover,\n",
       "div.sk-label-container:hover .sk-estimator-doc-link.fitted:hover,\n",
       ".sk-estimator-doc-link.fitted:hover {\n",
       "  /* fitted */\n",
       "  background-color: var(--sklearn-color-fitted-level-3);\n",
       "  color: var(--sklearn-color-background);\n",
       "  text-decoration: none;\n",
       "}\n",
       "\n",
       "/* Span, style for the box shown on hovering the info icon */\n",
       ".sk-estimator-doc-link span {\n",
       "  display: none;\n",
       "  z-index: 9999;\n",
       "  position: relative;\n",
       "  font-weight: normal;\n",
       "  right: .2ex;\n",
       "  padding: .5ex;\n",
       "  margin: .5ex;\n",
       "  width: min-content;\n",
       "  min-width: 20ex;\n",
       "  max-width: 50ex;\n",
       "  color: var(--sklearn-color-text);\n",
       "  box-shadow: 2pt 2pt 4pt #999;\n",
       "  /* unfitted */\n",
       "  background: var(--sklearn-color-unfitted-level-0);\n",
       "  border: .5pt solid var(--sklearn-color-unfitted-level-3);\n",
       "}\n",
       "\n",
       ".sk-estimator-doc-link.fitted span {\n",
       "  /* fitted */\n",
       "  background: var(--sklearn-color-fitted-level-0);\n",
       "  border: var(--sklearn-color-fitted-level-3);\n",
       "}\n",
       "\n",
       ".sk-estimator-doc-link:hover span {\n",
       "  display: block;\n",
       "}\n",
       "\n",
       "/* \"?\"-specific style due to the `<a>` HTML tag */\n",
       "\n",
       "#sk-container-id-2 a.estimator_doc_link {\n",
       "  float: right;\n",
       "  font-size: 1rem;\n",
       "  line-height: 1em;\n",
       "  font-family: monospace;\n",
       "  background-color: var(--sklearn-color-background);\n",
       "  border-radius: 1rem;\n",
       "  height: 1rem;\n",
       "  width: 1rem;\n",
       "  text-decoration: none;\n",
       "  /* unfitted */\n",
       "  color: var(--sklearn-color-unfitted-level-1);\n",
       "  border: var(--sklearn-color-unfitted-level-1) 1pt solid;\n",
       "}\n",
       "\n",
       "#sk-container-id-2 a.estimator_doc_link.fitted {\n",
       "  /* fitted */\n",
       "  border: var(--sklearn-color-fitted-level-1) 1pt solid;\n",
       "  color: var(--sklearn-color-fitted-level-1);\n",
       "}\n",
       "\n",
       "/* On hover */\n",
       "#sk-container-id-2 a.estimator_doc_link:hover {\n",
       "  /* unfitted */\n",
       "  background-color: var(--sklearn-color-unfitted-level-3);\n",
       "  color: var(--sklearn-color-background);\n",
       "  text-decoration: none;\n",
       "}\n",
       "\n",
       "#sk-container-id-2 a.estimator_doc_link.fitted:hover {\n",
       "  /* fitted */\n",
       "  background-color: var(--sklearn-color-fitted-level-3);\n",
       "}\n",
       "</style><div id=\"sk-container-id-2\" class=\"sk-top-container\"><div class=\"sk-text-repr-fallback\"><pre>Normalizer()</pre><b>In a Jupyter environment, please rerun this cell to show the HTML representation or trust the notebook. <br />On GitHub, the HTML representation is unable to render, please try loading this page with nbviewer.org.</b></div><div class=\"sk-container\" hidden><div class=\"sk-item\"><div class=\"sk-estimator fitted sk-toggleable\"><input class=\"sk-toggleable__control sk-hidden--visually\" id=\"sk-estimator-id-2\" type=\"checkbox\" checked><label for=\"sk-estimator-id-2\" class=\"sk-toggleable__label fitted sk-toggleable__label-arrow\"><div><div>Normalizer</div></div><div><a class=\"sk-estimator-doc-link fitted\" rel=\"noreferrer\" target=\"_blank\" href=\"https://scikit-learn.org/1.6/modules/generated/sklearn.preprocessing.Normalizer.html\">?<span>Documentation for Normalizer</span></a><span class=\"sk-estimator-doc-link fitted\">i<span>Fitted</span></span></div></label><div class=\"sk-toggleable__content fitted\"><pre>Normalizer()</pre></div> </div></div></div></div>"
      ],
      "text/plain": [
       "Normalizer()"
      ]
     },
     "execution_count": 31,
     "metadata": {},
     "output_type": "execute_result"
    }
   ],
   "source": [
    "normalizer = preprocessing.Normalizer().fit(X)  # fit does nothing\n",
    "normalizer"
   ]
  },
  {
   "cell_type": "markdown",
   "id": "0b13bdb8-a318-4035-a3dc-136258b44443",
   "metadata": {},
   "source": [
    "The normalizer instance can then be used on sample vectors as any transformer:\n",
    "\n",
    "然后, 标准化器实例可以像任何转换器一样在样本向量上使用:"
   ]
  },
  {
   "cell_type": "code",
   "execution_count": 32,
   "id": "887f843f-9209-49c6-a482-7f1eeaac0df7",
   "metadata": {},
   "outputs": [
    {
     "data": {
      "text/plain": [
       "array([[-0.70710678,  0.70710678,  0.        ]])"
      ]
     },
     "execution_count": 32,
     "metadata": {},
     "output_type": "execute_result"
    }
   ],
   "source": [
    "normalizer.transform(X)\n",
    "\n",
    "normalizer.transform([[-1.0, 1.0, 0.0]])"
   ]
  },
  {
   "cell_type": "markdown",
   "id": "a8b47af1-1b87-44c1-b825-61a862997fdc",
   "metadata": {},
   "source": [
    "Note: L2 normalization is also known as spatial sign preprocessing.\n",
    "\n",
    "注意: L2 归一化也称为空间符号预处理."
   ]
  },
  {
   "cell_type": "markdown",
   "id": "caca25b2-5d10-41ca-9963-20b6d3266613",
   "metadata": {},
   "source": [
    "### 6.3.4. Encoding categorical features\n",
    "对分类特征进行编码\n",
    "\n",
    "Often features are not given as continuous values but categorical. For example a person could have features [\"male\", \"female\"], [\"from Europe\", \"from US\", \"from Asia\"], [\"uses Firefox\", \"uses Chrome\", \"uses Safari\", \"uses Internet Explorer\"]. Such features can be efficiently coded as integers, for instance [\"male\", \"from US\", \"uses Internet Explorer\"] could be expressed as [0, 1, 3] while [\"female\", \"from Asia\", \"uses Chrome\"] would be [1, 2, 1].\n",
    "\n",
    "通常, 特征不是以连续值的形式给出的, 而是以分类值的形式给出的. 例如, 一个人可以具有特征 [\"male\", \"female\"], [\"from Europe\", \"from US\", \"from Asia\"], [\"uses Firefox\", \"uses Chrome\", \"uses Safari\", \"uses Internet Explorer\"]. 例如, 此类特征可以有效地编码为整数 [\"male\", \"from US\", \"uses Internet Explorer\"] 可以表示为 [0, 1, 3] 而 [\"female\", \"from Asia\", \"uses Chrome\"] [1, 2, 1].\n",
    "\n",
    "To convert categorical features to such integer codes, we can use the OrdinalEncoder. This estimator transforms each categorical feature to one new feature of integers (0 to n_categories - 1):\n",
    "\n",
    "要将分类特征转换为此类整数代码, 我们可以使用 OrdinalEncoder 的 OrdinalEncoder 中. 此估计器将每个分类特征转换为一个新的整数特征(0 到 n_categories - 1):"
   ]
  },
  {
   "cell_type": "code",
   "execution_count": 33,
   "id": "49255e08-af78-49cb-9a42-37bf9a4ba9f3",
   "metadata": {},
   "outputs": [
    {
     "data": {
      "text/plain": [
       "array([[0., 1., 1.]])"
      ]
     },
     "execution_count": 33,
     "metadata": {},
     "output_type": "execute_result"
    }
   ],
   "source": [
    "enc = preprocessing.OrdinalEncoder()\n",
    "X = [[\"male\", \"from US\", \"uses Safari\"], [\"female\", \"from Europe\", \"uses Firefox\"]]\n",
    "enc.fit(X)\n",
    "enc.transform([[\"female\", \"from US\", \"uses Safari\"]])"
   ]
  },
  {
   "cell_type": "markdown",
   "id": "cffee96e-9cd6-470a-92cf-515c91da8ae0",
   "metadata": {},
   "source": [
    "Such integer representation can, however, not be used directly with all scikit-learn estimators, as these expect continuous input, and would interpret the categories as being ordered, which is often not desired (i.e. the set of browsers was ordered arbitrarily).\n",
    "\n",
    "然而, 这种整数表示不能直接与所有 scikit-learn 估计器一起使用, 因为它们需要连续输入, 并且会将类别解释为有序, 这通常是不需要的(即浏览器集是任意排序的).\n",
    "\n",
    "By default, OrdinalEncoder will also passthrough missing values that are indicated by np.nan.\n",
    "\n",
    "默认情况下, OrdinalEncoder 还将传递由 np.nan 指示的缺失值."
   ]
  },
  {
   "cell_type": "code",
   "execution_count": 34,
   "id": "8d4d0059-ea83-42c9-bd7b-ead22d87cfbc",
   "metadata": {},
   "outputs": [
    {
     "data": {
      "text/plain": [
       "array([[ 1.],\n",
       "       [ 0.],\n",
       "       [nan],\n",
       "       [ 0.]])"
      ]
     },
     "execution_count": 34,
     "metadata": {},
     "output_type": "execute_result"
    }
   ],
   "source": [
    "enc = preprocessing.OrdinalEncoder()\n",
    "X = [[\"male\"], [\"female\"], [np.nan], [\"female\"]]\n",
    "enc.fit_transform(X)"
   ]
  },
  {
   "cell_type": "markdown",
   "id": "afd96ff7-23f3-4fa0-b6e4-59f90bfc1a2e",
   "metadata": {},
   "source": [
    "OrdinalEncoder provides a parameter encoded_missing_value to encode the missing values without the need to create a pipeline and using SimpleImputer.\n",
    "\n",
    "OrdinalEncoder 提供了一个参数 encoded_missing_value 用于编码缺失值, 而无需创建管道并使用 SimpleImputer 的 SimpleImputer 中."
   ]
  },
  {
   "cell_type": "code",
   "execution_count": 35,
   "id": "193f1be0-caf3-495f-a228-fc3a41b9fd55",
   "metadata": {},
   "outputs": [
    {
     "data": {
      "text/plain": [
       "array([[ 1.],\n",
       "       [ 0.],\n",
       "       [-1.],\n",
       "       [ 0.]])"
      ]
     },
     "execution_count": 35,
     "metadata": {},
     "output_type": "execute_result"
    }
   ],
   "source": [
    "enc = preprocessing.OrdinalEncoder(encoded_missing_value=-1)\n",
    "X = [[\"male\"], [\"female\"], [np.nan], [\"female\"]]\n",
    "enc.fit_transform(X)"
   ]
  },
  {
   "cell_type": "markdown",
   "id": "a2d5f211-24c5-4bbc-98ea-03c049dd078c",
   "metadata": {},
   "source": [
    "The above processing is equivalent to the following pipeline:\n",
    "\n",
    "上述处理相当于以下管道:"
   ]
  },
  {
   "cell_type": "code",
   "execution_count": 36,
   "id": "ce7f7a05-bfdd-4e38-bfbd-b3c83e4b9dd5",
   "metadata": {},
   "outputs": [
    {
     "data": {
      "text/plain": [
       "array([[ 1.],\n",
       "       [ 0.],\n",
       "       [-1.],\n",
       "       [ 0.]])"
      ]
     },
     "execution_count": 36,
     "metadata": {},
     "output_type": "execute_result"
    }
   ],
   "source": [
    "from sklearn.pipeline import Pipeline\n",
    "from sklearn.impute import SimpleImputer\n",
    "\n",
    "enc = Pipeline(\n",
    "    steps=[\n",
    "        (\"encoder\", preprocessing.OrdinalEncoder()),\n",
    "        (\"imputer\", SimpleImputer(strategy=\"constant\", fill_value=-1)),\n",
    "    ]\n",
    ")\n",
    "enc.fit_transform(X)"
   ]
  },
  {
   "cell_type": "markdown",
   "id": "8cdabbce-be15-4b26-8f03-1eb9b367fcd6",
   "metadata": {},
   "source": [
    "Another possibility to convert categorical features to features that can be used with scikit-learn estimators is to use a one-of-K, also known as one-hot or dummy encoding. This type of encoding can be obtained with the OneHotEncoder, which transforms each categorical feature with n_categories possible values into n_categories binary features, with one of them 1, and all others 0.\n",
    "\n",
    "将分类特征转换为可与 scikit-learn 估计器一起使用的特征的另一种可能性是使用 one-of-K, 也称为 one-hot 或虚拟编码. 这种类型的编码可以通过 OneHotEncoder 获得, 它将每个具有 n_categories 可能值的分类特征转换为 n_categories 二进制特征, 其中一个特征为 1, 所有其他特征为 0.\n",
    "\n",
    "Continuing the example above:\n",
    "\n",
    "继续上面的示例:"
   ]
  },
  {
   "cell_type": "code",
   "execution_count": 37,
   "id": "092d5ae7-beb6-4415-90aa-e81114eed2aa",
   "metadata": {},
   "outputs": [
    {
     "data": {
      "text/plain": [
       "array([[1., 0., 0., 1., 0., 1.],\n",
       "       [0., 1., 1., 0., 0., 1.]])"
      ]
     },
     "execution_count": 37,
     "metadata": {},
     "output_type": "execute_result"
    }
   ],
   "source": [
    "enc = preprocessing.OneHotEncoder()\n",
    "X = [[\"male\", \"from US\", \"uses Safari\"], [\"female\", \"from Europe\", \"uses Firefox\"]]\n",
    "enc.fit(X)\n",
    "enc.transform(\n",
    "    [[\"female\", \"from US\", \"uses Safari\"], [\"male\", \"from Europe\", \"uses Safari\"]]\n",
    ").toarray()"
   ]
  },
  {
   "cell_type": "markdown",
   "id": "40f00c74-1fa0-48fe-9144-b9d49673016c",
   "metadata": {},
   "source": [
    "By default, the values each feature can take is inferred automatically from the dataset and can be found in the categories_ attribute:\n",
    "\n",
    "默认情况下, 每个特征可以采用的值是从数据集中自动推断的, 并且可以在 categories_ 以下属性中找到:"
   ]
  },
  {
   "cell_type": "code",
   "execution_count": 38,
   "id": "d466e903-000f-4165-8694-9c1c10fc6331",
   "metadata": {},
   "outputs": [
    {
     "data": {
      "text/plain": [
       "[array(['female', 'male'], dtype=object),\n",
       " array(['from Europe', 'from US'], dtype=object),\n",
       " array(['uses Firefox', 'uses Safari'], dtype=object)]"
      ]
     },
     "execution_count": 38,
     "metadata": {},
     "output_type": "execute_result"
    }
   ],
   "source": [
    "enc.categories_"
   ]
  },
  {
   "cell_type": "markdown",
   "id": "47fcceb3-67ef-4441-96c6-81f9c4a11de3",
   "metadata": {},
   "source": [
    "It is possible to specify this explicitly using the parameter categories. There are two genders, four possible continents and four web browsers in our dataset:\n",
    "\n",
    "可以使用参数 categories 显式指定此项. 在我们的数据集中, 有两种性别、四个可能的大洲和四种 Web 浏览器:"
   ]
  },
  {
   "cell_type": "code",
   "execution_count": 39,
   "id": "05940495-4e07-4611-bcf1-aed371dc9aec",
   "metadata": {},
   "outputs": [
    {
     "data": {
      "text/plain": [
       "array([[1., 0., 0., 1., 0., 0., 1., 0., 0., 0.]])"
      ]
     },
     "execution_count": 39,
     "metadata": {},
     "output_type": "execute_result"
    }
   ],
   "source": [
    "genders = [\"female\", \"male\"]\n",
    "locations = [\"from Africa\", \"from Asia\", \"from Europe\", \"from US\"]\n",
    "browsers = [\"uses Chrome\", \"uses Firefox\", \"uses IE\", \"uses Safari\"]\n",
    "enc = preprocessing.OneHotEncoder(categories=[genders, locations, browsers])\n",
    "# Note that for there are missing categorical values for the 2nd and 3rd\n",
    "# feature\n",
    "X = [[\"male\", \"from US\", \"uses Safari\"], [\"female\", \"from Europe\", \"uses Firefox\"]]\n",
    "enc.fit(X)\n",
    "enc.transform([[\"female\", \"from Asia\", \"uses Chrome\"]]).toarray()"
   ]
  },
  {
   "cell_type": "markdown",
   "id": "d960f3b5-e14c-4355-a51b-e2ec27e309c2",
   "metadata": {},
   "source": [
    "If there is a possibility that the training data might have missing categorical features, it can often be better to specify handle_unknown='infrequent_if_exist' instead of setting the categories manually as above. When handle_unknown='infrequent_if_exist' is specified and unknown categories are encountered during transform, no error will be raised but the resulting one-hot encoded columns for this feature will be all zeros or considered as an infrequent category if enabled. (handle_unknown='infrequent_if_exist' is only supported for one-hot encoding):\n",
    "\n",
    "如果训练数据可能缺少分类特征, 则通常最好指定 handle_unknown='infrequent_if_exist' 而不是 categories 如上所述手动设置. 如果 handle_unknown='infrequent_if_exist' 指定了 API, 并且在转换期间遇到未知类别, 则不会引发错误, 但为此功能生成的 one-hot 编码列将全部为零, 或者如果启用, 则被视为不频繁的类别. handle_unknown='infrequent_if_exist' (仅支持 one-hot 编码):"
   ]
  },
  {
   "cell_type": "code",
   "execution_count": 40,
   "id": "27e0314b-9a4d-4e5a-a4ae-1313dc10892c",
   "metadata": {},
   "outputs": [
    {
     "data": {
      "text/plain": [
       "array([[1., 0., 0., 0., 0., 0.]])"
      ]
     },
     "execution_count": 40,
     "metadata": {},
     "output_type": "execute_result"
    }
   ],
   "source": [
    "enc = preprocessing.OneHotEncoder(handle_unknown=\"infrequent_if_exist\")\n",
    "X = [[\"male\", \"from US\", \"uses Safari\"], [\"female\", \"from Europe\", \"uses Firefox\"]]\n",
    "enc.fit(X)\n",
    "enc.transform([[\"female\", \"from Asia\", \"uses Chrome\"]]).toarray()"
   ]
  },
  {
   "cell_type": "markdown",
   "id": "9b5aed72-4820-4d73-8c65-6ba9757f6ce7",
   "metadata": {},
   "source": [
    "It is also possible to encode each column into n_categories - 1 columns instead of n_categories columns by using the drop parameter. This parameter allows the user to specify a category for each feature to be dropped. This is useful to avoid co-linearity in the input matrix in some classifiers. Such functionality is useful, for example, when using non-regularized regression (LinearRegression), since co-linearity would cause the covariance matrix to be non-invertible:\n",
    "\n",
    "还可以使用 drop parameter 将每列编码为 n_categories - 1 列而不是 n_categories 列. 此参数允许用户为要删除的每个功能指定类别. 这对于避免某些分类器中 input matrix 中的共线性很有用. 例如, 在使用非正则化回归(LinearRegression)时, 此功能非常有用, 因为协线性会导致协方差矩阵不可逆:"
   ]
  },
  {
   "cell_type": "code",
   "execution_count": 41,
   "id": "d6ff9df5-f901-458c-a8d6-783567f38d48",
   "metadata": {},
   "outputs": [
    {
     "data": {
      "text/plain": [
       "array([[1., 1., 1.],\n",
       "       [0., 0., 0.]])"
      ]
     },
     "execution_count": 41,
     "metadata": {},
     "output_type": "execute_result"
    }
   ],
   "source": [
    "X = [[\"male\", \"from US\", \"uses Safari\"], [\"female\", \"from Europe\", \"uses Firefox\"]]\n",
    "drop_enc = preprocessing.OneHotEncoder(drop=\"first\").fit(X)\n",
    "drop_enc.categories_\n",
    "drop_enc.transform(X).toarray()"
   ]
  },
  {
   "cell_type": "markdown",
   "id": "5cb2999d-17e2-49c7-8e9f-2fc1d2087eb0",
   "metadata": {},
   "source": [
    "One might want to drop one of the two columns only for features with 2 categories. In this case, you can set the parameter drop='if_binary'.\n",
    "\n",
    "您可能希望仅针对具有 2 个类别的特征删除两列之一. 在这种情况下, 您可以设置参数 drop='if_binary'."
   ]
  },
  {
   "cell_type": "code",
   "execution_count": 42,
   "id": "d2034b7b-0199-4aa4-8caa-d182a33135a5",
   "metadata": {},
   "outputs": [
    {
     "data": {
      "text/plain": [
       "array([[1., 0., 0., 1., 0., 0., 1.],\n",
       "       [0., 0., 1., 0., 0., 1., 0.],\n",
       "       [0., 1., 0., 0., 1., 0., 0.]])"
      ]
     },
     "execution_count": 42,
     "metadata": {},
     "output_type": "execute_result"
    }
   ],
   "source": [
    "X = [\n",
    "    [\"male\", \"US\", \"Safari\"],\n",
    "    [\"female\", \"Europe\", \"Firefox\"],\n",
    "    [\"female\", \"Asia\", \"Chrome\"],\n",
    "]\n",
    "drop_enc = preprocessing.OneHotEncoder(drop=\"if_binary\").fit(X)\n",
    "drop_enc.categories_\n",
    "drop_enc.transform(X).toarray()"
   ]
  },
  {
   "cell_type": "markdown",
   "id": "93c69468-3434-4ef7-9ba6-d8d900a94820",
   "metadata": {},
   "source": [
    "In the transformed X, the first column is the encoding of the feature with categories \"male\"/\"female\", while the remaining 6 columns is the encoding of the 2 features with respectively 3 categories each.\n",
    "\n",
    "在转换 X 后, 第一列是类别为 \"male\"/\"female\" 的特征的编码, 而其余 6 列是 2 个特征的编码, 每个特征有 3 个类别.\n",
    "\n",
    "When handle_unknown='ignore' and drop is not None, unknown categories will be encoded as all zeros:\n",
    "\n",
    "当 and drop 不是 None 时 handle_unknown='ignore', 未知类别将被编码为全零:"
   ]
  },
  {
   "cell_type": "code",
   "execution_count": 43,
   "id": "6c4031d3-9712-4a02-83b7-d4a88fef775a",
   "metadata": {},
   "outputs": [
    {
     "name": "stderr",
     "output_type": "stream",
     "text": [
      "/opt/conda/lib/python3.11/site-packages/sklearn/preprocessing/_encoders.py:246: UserWarning: Found unknown categories in columns [0, 1, 2] during transform. These unknown categories will be encoded as all zeros\n",
      "  warnings.warn(\n"
     ]
    },
    {
     "data": {
      "text/plain": [
       "array([[0., 0., 0., 0., 0.]])"
      ]
     },
     "execution_count": 43,
     "metadata": {},
     "output_type": "execute_result"
    }
   ],
   "source": [
    "drop_enc = preprocessing.OneHotEncoder(drop=\"first\", handle_unknown=\"ignore\").fit(X)\n",
    "X_test = [[\"unknown\", \"America\", \"IE\"]]\n",
    "drop_enc.transform(X_test).toarray()"
   ]
  },
  {
   "cell_type": "markdown",
   "id": "6dd75957-fc92-41fa-bd8c-57500f98d2fb",
   "metadata": {},
   "source": [
    "All the categories in X_test are unknown during transform and will be mapped to all zeros. This means that unknown categories will have the same mapping as the dropped category. OneHotEncoder.inverse_transform will map all zeros to the dropped category if a category is dropped and None if a category is not dropped:\n",
    "\n",
    "中的所有 X_test 类别在转换期间都是未知的, 并且将映射到所有零. 这意味着未知类别将与已删除的类别具有相同的映射. OneHotEncoder.inverse_transform 如果删除了类别且 None 未删除类别, 则将所有零映射到已删除的类别:"
   ]
  },
  {
   "cell_type": "code",
   "execution_count": 44,
   "id": "976eedc3-52ef-4fe0-8d64-bb62b59350aa",
   "metadata": {},
   "outputs": [
    {
     "name": "stderr",
     "output_type": "stream",
     "text": [
      "/opt/conda/lib/python3.11/site-packages/sklearn/preprocessing/_encoders.py:246: UserWarning: Found unknown categories in columns [0, 1, 2] during transform. These unknown categories will be encoded as all zeros\n",
      "  warnings.warn(\n"
     ]
    },
    {
     "data": {
      "text/plain": [
       "array([['female', None, None]], dtype=object)"
      ]
     },
     "execution_count": 44,
     "metadata": {},
     "output_type": "execute_result"
    }
   ],
   "source": [
    "drop_enc = preprocessing.OneHotEncoder(\n",
    "    drop=\"if_binary\", sparse_output=False, handle_unknown=\"ignore\"\n",
    ").fit(X)\n",
    "X_test = [[\"unknown\", \"America\", \"IE\"]]\n",
    "X_trans = drop_enc.transform(X_test)\n",
    "X_trans\n",
    "drop_enc.inverse_transform(X_trans)"
   ]
  },
  {
   "cell_type": "markdown",
   "id": "888151fe-abea-439f-b3b4-f246c91e709e",
   "metadata": {},
   "source": [
    "#### 6.3.4.1. Infrequent categories\n",
    "不常见的分类\n",
    "\n",
    "OneHotEncoder and OrdinalEncoder support aggregating infrequent categories into a single output for each feature. The parameters to enable the gathering of infrequent categories are min_frequency and max_categories.\n",
    "\n",
    "OneHotEncoder 并支持 OrdinalEncoder 将不频繁的类别聚合到每个特征的单个输出中. 用于收集不常见类别的参数是 min_frequency 和 max_categories.\n",
    "\n",
    "min_frequency is either an integer greater or equal to 1, or a float in the interval (0.0, 1.0). If min_frequency is an integer, categories with a cardinality smaller than min_frequency will be considered infrequent. If min_frequency is a float, categories with a cardinality smaller than this fraction of the total number of samples will be considered infrequent. The default value is 1, which means every category is encoded separately.\n",
    "\n",
    "min_frequency 是大于或等于 1 的整数, 或者是区间 (0.0, 1.0) 中的浮点数. 如果 min_frequency 是整数, 则基数小于的类别 min_frequency 将被视为不常见. 如果 min_frequency 是浮点数, 则基数小于样本总数的此分数的类别将被视为不常见. 默认值为 1, 这意味着每个类别都单独编码.\n",
    "\n",
    "max_categories is either None or any integer greater than 1. This parameter sets an upper limit to the number of output features for each input feature. max_categories includes the feature that combines infrequent categories.\n",
    "\n",
    "max_categories 是 or None 任何大于 1 的整数. 此参数为每个输入要素的输出要素数量设置上限. max_categories 包括组合不频繁类别的功能.\n",
    "\n",
    "In the following example with OrdinalEncoder, the categories 'dog' and 'snake' are considered infrequent:\n",
    "\n",
    "在以下示例中, 使用 OrdinalEncoder, 这些类别 'dog' and 'snake' 被视为不常见:"
   ]
  },
  {
   "cell_type": "code",
   "execution_count": 45,
   "id": "c219345f-527a-4bef-9222-a6d139908cd5",
   "metadata": {},
   "outputs": [
    {
     "data": {
      "text/plain": [
       "array([[2.],\n",
       "       [0.],\n",
       "       [1.],\n",
       "       [2.]])"
      ]
     },
     "execution_count": 45,
     "metadata": {},
     "output_type": "execute_result"
    }
   ],
   "source": [
    "X = np.array(\n",
    "    [[\"dog\"] * 5 + [\"cat\"] * 20 + [\"rabbit\"] * 10 + [\"snake\"] * 3], dtype=object\n",
    ").T\n",
    "enc = preprocessing.OrdinalEncoder(min_frequency=6).fit(X)\n",
    "enc.infrequent_categories_\n",
    "enc.transform(np.array([[\"dog\"], [\"cat\"], [\"rabbit\"], [\"snake\"]]))"
   ]
  },
  {
   "cell_type": "markdown",
   "id": "21a4a597-a32f-4fe6-99da-e653e4c258bd",
   "metadata": {},
   "source": [
    "OrdinalEncoder’s max_categories do not take into account missing or unknown categories. Setting unknown_value or encoded_missing_value to an integer will increase the number of unique integer codes by one each. This can result in up to max_categories + 2 integer codes. In the following example, “a” and “d” are considered infrequent and grouped together into a single category, \"b\" and \"c\" are their own categories, unknown values are encoded as 3 and missing values are encoded as 4.\n",
    "\n",
    "OrdinalEncoder max_categories 不考虑缺失或未知的类别. 将 or encoded_missing_value 设置为 unknown_value 整数将使唯一整数代码的数量每个增加 1. 这可能导致最多 max_categories + 2 为整数的代码. 在以下示例中, \"a\" 和 \"d\" 被视为不常见, 并一起分组到一个类别中, \"b\" 和 \"c\" 是它们自己的类别, 未知值编码为 3, 缺失值编码为 4."
   ]
  },
  {
   "cell_type": "code",
   "execution_count": 46,
   "id": "7c1af2a4-9f39-4732-ad07-60220fa5882f",
   "metadata": {},
   "outputs": [
    {
     "data": {
      "text/plain": [
       "array([[2.],\n",
       "       [0.],\n",
       "       [1.],\n",
       "       [2.],\n",
       "       [3.],\n",
       "       [4.]])"
      ]
     },
     "execution_count": 46,
     "metadata": {},
     "output_type": "execute_result"
    }
   ],
   "source": [
    "X_train = np.array(\n",
    "    [[\"a\"] * 5 + [\"b\"] * 20 + [\"c\"] * 10 + [\"d\"] * 3 + [np.nan]], dtype=object\n",
    ").T\n",
    "enc = preprocessing.OrdinalEncoder(\n",
    "    handle_unknown=\"use_encoded_value\",\n",
    "    unknown_value=3,\n",
    "    max_categories=3,\n",
    "    encoded_missing_value=4,\n",
    ")\n",
    "_ = enc.fit(X_train)\n",
    "X_test = np.array([[\"a\"], [\"b\"], [\"c\"], [\"d\"], [\"e\"], [np.nan]], dtype=object)\n",
    "enc.transform(X_test)"
   ]
  },
  {
   "cell_type": "markdown",
   "id": "5ef871cc-08c8-4c11-8815-681c74554188",
   "metadata": {},
   "source": [
    "Similarity, OneHotEncoder can be configured to group together infrequent categories:\n",
    "\n",
    "相似性, OneHotEncoder 可以配置为将不常见的类别组合在一起:"
   ]
  },
  {
   "cell_type": "code",
   "execution_count": 47,
   "id": "f0c048f5-ac07-447d-8489-e519c1705deb",
   "metadata": {},
   "outputs": [
    {
     "data": {
      "text/plain": [
       "array([[0., 0., 1.],\n",
       "       [1., 0., 0.],\n",
       "       [0., 1., 0.],\n",
       "       [0., 0., 1.]])"
      ]
     },
     "execution_count": 47,
     "metadata": {},
     "output_type": "execute_result"
    }
   ],
   "source": [
    "enc = preprocessing.OneHotEncoder(min_frequency=6, sparse_output=False).fit(X)\n",
    "enc.infrequent_categories_\n",
    "enc.transform(np.array([[\"dog\"], [\"cat\"], [\"rabbit\"], [\"snake\"]]))"
   ]
  },
  {
   "cell_type": "markdown",
   "id": "07502b2d-12c2-4ae9-afd7-6c23ace00437",
   "metadata": {},
   "source": [
    "By setting handle_unknown to 'infrequent_if_exist', unknown categories will be considered infrequent:\n",
    "\n",
    "通过将 handle_unknown 设置为 'infrequent_if_exist', 未知类别将被视为不常见:"
   ]
  },
  {
   "cell_type": "code",
   "execution_count": 48,
   "id": "fd5c5695-cb8c-40de-b783-187d11bd25f0",
   "metadata": {},
   "outputs": [
    {
     "data": {
      "text/plain": [
       "array([[0., 0., 1.]])"
      ]
     },
     "execution_count": 48,
     "metadata": {},
     "output_type": "execute_result"
    }
   ],
   "source": [
    "enc = preprocessing.OneHotEncoder(\n",
    "    handle_unknown=\"infrequent_if_exist\", sparse_output=False, min_frequency=6\n",
    ")\n",
    "enc = enc.fit(X)\n",
    "enc.transform(np.array([[\"dragon\"]]))"
   ]
  },
  {
   "cell_type": "markdown",
   "id": "dc693471-3f83-4264-97de-5f6e75bc05c1",
   "metadata": {},
   "source": [
    "OneHotEncoder.get_feature_names_out uses ‘infrequent’ as the infrequent feature name:\n",
    "\n",
    "OneHotEncoder.get_feature_names_out 使用 'infrequent' 作为 Infrequently Feature Name:"
   ]
  },
  {
   "cell_type": "code",
   "execution_count": 49,
   "id": "2e46ce35-6870-4a45-860f-e518f7b5354d",
   "metadata": {},
   "outputs": [
    {
     "data": {
      "text/plain": [
       "array(['x0_cat', 'x0_rabbit', 'x0_infrequent_sklearn'], dtype=object)"
      ]
     },
     "execution_count": 49,
     "metadata": {},
     "output_type": "execute_result"
    }
   ],
   "source": [
    "enc.get_feature_names_out()"
   ]
  },
  {
   "cell_type": "markdown",
   "id": "720eee91-a659-40a9-8277-566a2a75e028",
   "metadata": {},
   "source": [
    "When 'handle_unknown' is set to 'infrequent_if_exist' and an unknown category is encountered in transform:\n",
    "\n",
    "当设置为 'infrequent_if_exist' 且在 transform 中遇到未知类别时 'handle_unknown':\n",
    "\n",
    "If infrequent category support was not configured or there was no infrequent category during training, the resulting one-hot encoded columns for this feature will be all zeros. In the inverse transform, an unknown category will be denoted as None.\n",
    "\n",
    "如果未配置 infrequent category 支持, 或者在训练期间没有 infrequent 类别, 则此功能生成的 one-hot 编码列将全部为零. 在逆变换中, 未知类别将表示为 None.\n",
    "\n",
    "If there is an infrequent category during training, the unknown category will be considered infrequent. In the inverse transform, ‘infrequent_sklearn’ will be used to represent the infrequent category.\n",
    "\n",
    "如果在训练期间存在不频繁的类别, 则未知类别将被视为不频繁. 在逆变换中, 'infrequent_sklearn' 将用于表示不频繁的类别.\n",
    "\n",
    "Infrequent categories can also be configured using max_categories. In the following example, we set max_categories=2 to limit the number of features in the output. This will result in all but the 'cat' category to be considered infrequent, leading to two features, one for 'cat' and one for infrequent categories - which are all the others:\n",
    "\n",
    "不频繁的类别也可以使用 max_categories 进行配置. 在以下示例中, 我们设置为 max_categories=2 限制输出中的特征数. 这将导致除 'cat' category 之外的所有 cookie 都被视为不频繁, 从而导致两个功能, 一个用于 'cat' infrequent categories - 即所有其他 cookie:"
   ]
  },
  {
   "cell_type": "code",
   "execution_count": 50,
   "id": "9693f79f-af46-4f5e-be8f-8b1cd6901155",
   "metadata": {},
   "outputs": [
    {
     "data": {
      "text/plain": [
       "array([[0., 1.],\n",
       "       [1., 0.],\n",
       "       [0., 1.],\n",
       "       [0., 1.]])"
      ]
     },
     "execution_count": 50,
     "metadata": {},
     "output_type": "execute_result"
    }
   ],
   "source": [
    "enc = preprocessing.OneHotEncoder(max_categories=2, sparse_output=False)\n",
    "enc = enc.fit(X)\n",
    "enc.transform([[\"dog\"], [\"cat\"], [\"rabbit\"], [\"snake\"]])"
   ]
  },
  {
   "cell_type": "markdown",
   "id": "97f4d36b-cadc-47f4-a414-c68474f7a6c4",
   "metadata": {},
   "source": [
    "If both max_categories and min_frequency are non-default values, then categories are selected based on min_frequency first and max_categories categories are kept. In the following example, min_frequency=4 considers only snake to be infrequent, but max_categories=3, forces dog to also be infrequent:\n",
    "\n",
    "如果和 min_frequency 都是 max_categories 非默认值, 则根据 min_frequency first 选择类别并 max_categories 保留类别. 在以下示例中, min_frequency=4 仅 snake 认为不频繁, 但 max_categories=3 强制 dog 也为不频繁:"
   ]
  },
  {
   "cell_type": "code",
   "execution_count": 51,
   "id": "05f923f8-899f-499b-9322-23b2bff87bc3",
   "metadata": {},
   "outputs": [
    {
     "data": {
      "text/plain": [
       "array([[0., 0., 1.],\n",
       "       [1., 0., 0.],\n",
       "       [0., 1., 0.],\n",
       "       [0., 0., 1.]])"
      ]
     },
     "execution_count": 51,
     "metadata": {},
     "output_type": "execute_result"
    }
   ],
   "source": [
    "enc = preprocessing.OneHotEncoder(\n",
    "    min_frequency=4, max_categories=3, sparse_output=False\n",
    ")\n",
    "enc = enc.fit(X)\n",
    "enc.transform([[\"dog\"], [\"cat\"], [\"rabbit\"], [\"snake\"]])"
   ]
  },
  {
   "cell_type": "markdown",
   "id": "40b96837-aa8f-4e70-b3c5-63d2423e1b64",
   "metadata": {},
   "source": [
    "If there are infrequent categories with the same cardinality at the cutoff of max_categories, then then the first max_categories are taken based on lexicon ordering. In the following example, \"b\", \"c\", and \"d\", have the same cardinality and with max_categories=2, \"b\" and \"c\" are infrequent because they have a higher lexicon order.\n",
    "\n",
    "如果在的截止处存在具有相同基数的不常见类别 max_categories, 则根据词典排序采用第一个 max_categories 类别. 在以下示例中, \"b\"、\"c\" 和 \"d\" 具有相同的基数, 而 max_categories=2 \"b\" 和 \"c\" 很少见, 因为它们具有较高的词典顺序."
   ]
  },
  {
   "cell_type": "code",
   "execution_count": 52,
   "id": "f1da8259-7523-4820-a82a-4471ae0b511f",
   "metadata": {},
   "outputs": [
    {
     "data": {
      "text/plain": [
       "[array(['b', 'c'], dtype=object)]"
      ]
     },
     "execution_count": 52,
     "metadata": {},
     "output_type": "execute_result"
    }
   ],
   "source": [
    "X = np.asarray([[\"a\"] * 20 + [\"b\"] * 10 + [\"c\"] * 10 + [\"d\"] * 10], dtype=object).T\n",
    "enc = preprocessing.OneHotEncoder(max_categories=3).fit(X)\n",
    "enc.infrequent_categories_"
   ]
  },
  {
   "cell_type": "markdown",
   "id": "81ae65c3-2a43-40b6-9cfb-62a8fd3292fc",
   "metadata": {},
   "source": [
    "#### 6.3.4.2. Target Encoder\n",
    "目标编码器\n",
    "\n",
    "The TargetEncoder uses the target mean conditioned on the categorical feature for encoding unordered categories, i.e. nominal categories [PAR] [MIC]. This encoding scheme is useful with categorical features with high cardinality, where one-hot encoding would inflate the feature space making it more expensive for a downstream model to process. A classical example of high cardinality categories are location based such as zip code or region.\n",
    "\n",
    "它使用 TargetEncoder 以分类特征为条件的目标均值来编码无序类别, 即名义类别 [PAR][MIC]. 此编码方案对于具有高基数的分类特征非常有用, 其中 one-hot 编码会膨胀特征空间, 使下游模型的处理成本更高. 高基数类别的一个典型示例是基于位置, 例如邮政编码或区域.\n",
    "\n",
    "fit_transform internally relies on a cross fitting scheme to prevent target information from leaking into the train-time representation, especially for non-informative high-cardinality categorical variables, and help prevent the downstream model from overfitting spurious correlations. Note that as a result, fit(X, y).transform(X) does not equal fit_transform(X, y). In fit_transform, the training data is split into k folds (determined by the cv parameter) and each fold is encoded using the encodings learnt using the other k-1 folds. The following diagram shows the cross fitting scheme in fit_transform with the default cv=5:\n",
    "\n",
    "fit_transform 内部依赖于交叉拟合方案来防止目标信息泄漏到训练时间表示中, 特别是对于非信息性高基数分类变量, 并有助于防止下游模型过度拟合虚假相关性. 请注意, 因此, fit(X, y). transform(X) 不等于 fit_transform(X, y). 在 fit_transform 中, 训练数据被分成 k 个折叠(由 cv 参数确定), 每个折叠都使用使用其他 k-1 个折叠学习的编码进行编码. 下图显示了默认的 fit_transform 交叉拟合方案 cv=5:\n",
    "\n",
    "![](./target_encoder_cross_validation.svg)\n",
    "\n",
    "fit_transform also learns a ‘full data’ encoding using the whole training set. This is never used in fit_transform but is saved to the attribute encodings_, for use when transform is called. Note that the encodings learned for each fold during the cross fitting scheme are not saved to an attribute.\n",
    "\n",
    "fit_transform 此外, 还使用整个训练集学习 'full data' 编码. 这永远不会在中使用 fit_transform, 而是保存到属性 encodings_ 中, 以便在调用时使用 transform. 请注意, 在交叉拟合方案期间为每个折叠学习的编码不会保存到属性中.\n",
    "\n",
    "The fit method does not use any cross fitting schemes and learns one encoding on the entire training set, which is used to encode categories in transform. This encoding is the same as the 'full data' encoding learned in fit_transform.\n",
    "\n",
    "该方法 fit 不使用任何交叉拟合方案, 而是在整个训练集上学习一种编码, 该编码用于对 transform 中的类别进行编码. 此编码与 中 fit_transform 学习的\"完整数据\"编码相同.\n",
    "\n",
    "> Note\n",
    "> TargetEncoder considers missing values, such as np.nan or None, as another category and encodes them like any other category. Categories that are not seen during fit are encoded with the target mean, i.e. target_mean_.\n",
    "> TargetEncoder 将缺失值(如 np.nan 或 None)视为另一个类别, 并像任何其他类别一样对其进行编码. 期间 fit 未看到的类别使用目标均值进行编码, 即 target_mean_.\n",
    ">"
   ]
  },
  {
   "cell_type": "markdown",
   "id": "8923f234-d711-4918-b9ff-bf1bc2019955",
   "metadata": {},
   "source": [
    "### 6.3.5. Discretization"
   ]
  },
  {
   "cell_type": "code",
   "execution_count": null,
   "id": "5ea17940-36ad-43be-9f0b-b2de1f79fdf9",
   "metadata": {},
   "outputs": [],
   "source": []
  },
  {
   "cell_type": "code",
   "execution_count": null,
   "id": "9899c131-87f7-4cc4-abaf-80b8aa1e7cde",
   "metadata": {},
   "outputs": [],
   "source": []
  }
 ],
 "metadata": {
  "kernelspec": {
   "display_name": "Python 3 (ipykernel)",
   "language": "python",
   "name": "python3"
  },
  "language_info": {
   "codemirror_mode": {
    "name": "ipython",
    "version": 3
   },
   "file_extension": ".py",
   "mimetype": "text/x-python",
   "name": "python",
   "nbconvert_exporter": "python",
   "pygments_lexer": "ipython3",
   "version": "3.11.6"
  }
 },
 "nbformat": 4,
 "nbformat_minor": 5
}
