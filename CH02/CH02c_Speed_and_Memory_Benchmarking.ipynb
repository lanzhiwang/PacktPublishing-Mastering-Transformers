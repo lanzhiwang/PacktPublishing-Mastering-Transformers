{
  "cells": [
    {
      "cell_type": "markdown",
      "metadata": {
        "id": "1JxmBoIKCg7v"
      },
      "source": [
        "# 2. A Hands-On Introduction to the Subject\n",
        "\n",
        "##### Speed and Memory Bencmarking\n",
        "\n",
        "## Preparation for Google Collab"
      ]
    },
    {
      "cell_type": "code",
      "source": [
        "import os\n",
        "from google.colab import drive\n",
        "\n",
        "#  挂载 google 云盘\n",
        "drive.mount(\"/content/drive\")\n",
        "\n",
        "print(os.getcwd())  # /content\n",
        "\n",
        "# print(os.listdir(\"/content/drive/MyDrive/\"))\n",
        "\n",
        "# print(os.listdir(\"/content/drive/MyDrive/Colab Notebooks\"))\n",
        "\n",
        "# if os.getcwd() != \"/content/drive/MyDrive\":\n",
        "#     os.chdir(\"/content/drive/MyDrive\")\n",
        "\n",
        "# print(os.getcwd())"
      ],
      "metadata": {
        "id": "duLsJnuiQghM"
      },
      "execution_count": null,
      "outputs": []
    },
    {
      "cell_type": "code",
      "source": [
        "# 提前将 requirements.txt 放在 google 云盘上\n",
        "!pip install -r /content/drive/MyDrive/requirements.txt"
      ],
      "metadata": {
        "id": "HXr3-BY6Qgkm"
      },
      "execution_count": null,
      "outputs": []
    },
    {
      "cell_type": "code",
      "source": [
        "subdir = \"ch02c\"\n",
        "work_path = \"/content/drive/MyDrive/\" + subdir\n",
        "os.mkdir(work_path)\n",
        "os.chdir(work_path)\n",
        "print(os.getcwd())"
      ],
      "metadata": {
        "colab": {
          "base_uri": "https://localhost:8080/"
        },
        "id": "ZBLd_oIzQgoA",
        "outputId": "4226dc3d-a998-471a-d75e-b21543613d41"
      },
      "execution_count": 3,
      "outputs": [
        {
          "output_type": "stream",
          "name": "stdout",
          "text": [
            "/content/drive/MyDrive/ch02c\n"
          ]
        }
      ]
    },
    {
      "cell_type": "code",
      "source": [
        "!apt-get install tree && tree -a \"./\""
      ],
      "metadata": {
        "colab": {
          "base_uri": "https://localhost:8080/"
        },
        "id": "Ha-KgAB8QgrA",
        "outputId": "790bc3e2-d3f3-4224-9d83-5e00e1661718"
      },
      "execution_count": 4,
      "outputs": [
        {
          "output_type": "stream",
          "name": "stdout",
          "text": [
            "Reading package lists... Done\n",
            "Building dependency tree... Done\n",
            "Reading state information... Done\n",
            "The following NEW packages will be installed:\n",
            "  tree\n",
            "0 upgraded, 1 newly installed, 0 to remove and 23 not upgraded.\n",
            "Need to get 47.9 kB of archives.\n",
            "After this operation, 116 kB of additional disk space will be used.\n",
            "Get:1 http://archive.ubuntu.com/ubuntu jammy/universe amd64 tree amd64 2.0.2-1 [47.9 kB]\n",
            "Fetched 47.9 kB in 1s (40.2 kB/s)\n",
            "Selecting previously unselected package tree.\n",
            "(Reading database ... 124947 files and directories currently installed.)\n",
            "Preparing to unpack .../tree_2.0.2-1_amd64.deb ...\n",
            "Unpacking tree (2.0.2-1) ...\n",
            "Setting up tree (2.0.2-1) ...\n",
            "Processing triggers for man-db (2.10.2-1) ...\n",
            "\u001b[01;34m./\u001b[0m\n",
            "\n",
            "0 directories, 0 files\n"
          ]
        }
      ]
    },
    {
      "cell_type": "markdown",
      "metadata": {
        "id": "UKneYJDbpiHC"
      },
      "source": [
        "Just comparing language models on their performance on a specific task or a benchmark turns out to be no longer sufficient. We now must take care of the computational cost of a particular model for a given environment (RAM, CPU, GPU, TPU) in terms of memory usage and the speed. The computational cost of training and deploying to production for inference are two main values to be measured. Two classes of transformers libary, `PyTorchBenchmark` and `TensorFlowBenchmark`, make it possible to benchmark models for both TensorFlow and PyTorch.\n",
        "\n",
        "仅仅比较语言模型在特定任务或基准测试中的性能是不够的. 我们现在必须考虑特定模型在给定环境下(RAM、CPU、GPU、TPU)内存使用和速度方面的计算成本. 训练和部署到生产中进行推理的计算成本是需要测量的两个主要值. transformers 库的两个类 PyTorchBenchmark 和 TensorFlowBenchmark 使得对 TensorFlow 和 PyTorch 的模型进行基准测试成为可能."
      ]
    },
    {
      "cell_type": "code",
      "execution_count": 5,
      "metadata": {
        "colab": {
          "base_uri": "https://localhost:8080/"
        },
        "id": "KMh8r2ofLq1X",
        "outputId": "d9130531-1593-4712-d6cc-ab52d6a2edd4"
      },
      "outputs": [
        {
          "output_type": "stream",
          "name": "stdout",
          "text": [
            "Thu Feb 27 02:37:50 2025       \n",
            "+-----------------------------------------------------------------------------------------+\n",
            "| NVIDIA-SMI 550.54.15              Driver Version: 550.54.15      CUDA Version: 12.4     |\n",
            "|-----------------------------------------+------------------------+----------------------+\n",
            "| GPU  Name                 Persistence-M | Bus-Id          Disp.A | Volatile Uncorr. ECC |\n",
            "| Fan  Temp   Perf          Pwr:Usage/Cap |           Memory-Usage | GPU-Util  Compute M. |\n",
            "|                                         |                        |               MIG M. |\n",
            "|=========================================+========================+======================|\n",
            "|   0  Tesla T4                       Off |   00000000:00:04.0 Off |                    0 |\n",
            "| N/A   53C    P8             12W /   70W |       0MiB /  15360MiB |      0%      Default |\n",
            "|                                         |                        |                  N/A |\n",
            "+-----------------------------------------+------------------------+----------------------+\n",
            "                                                                                         \n",
            "+-----------------------------------------------------------------------------------------+\n",
            "| Processes:                                                                              |\n",
            "|  GPU   GI   CI        PID   Type   Process name                              GPU Memory |\n",
            "|        ID   ID                                                               Usage      |\n",
            "|=========================================================================================|\n",
            "|  No running processes found                                                             |\n",
            "+-----------------------------------------------------------------------------------------+\n"
          ]
        }
      ],
      "source": [
        "!nvidia-smi"
      ]
    },
    {
      "cell_type": "code",
      "execution_count": 6,
      "metadata": {
        "colab": {
          "base_uri": "https://localhost:8080/"
        },
        "id": "WhDEDgtofPKl",
        "outputId": "4684b7e1-9a4f-4b3d-b366-1b23af9b779c"
      },
      "outputs": [
        {
          "output_type": "stream",
          "name": "stdout",
          "text": [
            "The GPU total memory is 14.74127197265625 GB\n"
          ]
        }
      ],
      "source": [
        "import torch\n",
        "\n",
        "print(\n",
        "    f\"The GPU total memory is {torch.cuda.get_device_properties(0).total_memory /(1024**3)} GB\"\n",
        ")"
      ]
    },
    {
      "cell_type": "code",
      "execution_count": 7,
      "metadata": {
        "colab": {
          "base_uri": "https://localhost:8080/",
          "height": 437,
          "referenced_widgets": [
            "7c7713417e234c968fee4ff23b81e3db",
            "cda24510e756414b83f8a8fe06d66b0a",
            "32ee259eb23f4f1bbfb0e6d22d8c0039",
            "4ca1744d329642749c4575605f5cf352",
            "d0c1069c4274467fbbcfd3ee7779bbbf",
            "2afdae2f47cd4182931a9911731a5990",
            "3ce285df599e4447854e7e5af66c13cf",
            "2d58ad4869c9486dbdd0306a610f4a4c",
            "11fa17096b0c4d3ea68313b9fa36dbeb",
            "f88e1fca8ff14c20b41d6f6d1d0eecd0",
            "ffc0c0d53cd14b4fbe496e7b664980ac",
            "aae35d7a2ce24d51abc1e6757447ffbf",
            "da1a056ccb0e4756bedfc620bebe600b",
            "d2ed43204a204062b1c2c5605be92766",
            "9fe693ff0e7f43d6bd2f393528d1795b",
            "63ae68e0a7cf454d925ba6be4781a2c2",
            "f07b688502bc436590ef202627da2368",
            "38da6b36ae8a415aa16349bc4a81cd4b",
            "fa39e02c5daf48e38b1426e0428b8b57",
            "f995e555a2594614bee51feb0ab97acf",
            "de05f131dd5c4c4ca89b4526785d540b",
            "49b321a43aa344c7ba1277ded12febe2",
            "fcdddf30402247909f425c72832375d3",
            "251328c3279e44e8b0610e7bffb759bd",
            "494f4334acda44faabb0436a3bc3936d",
            "c57a8a8c892e43c2817e6d09648c005a",
            "16f8a227e4e84264abe87d4bc91aa57f",
            "d0239cb97adc4897a38e7ef777d63657",
            "b4f8d8ad96f54bf0a683db408e8a9e68",
            "0a033b3e7b6b4727821cdd1c8809a44a",
            "7bec786b84f94dd29ed178c68979196e",
            "d9faae671245447c9aa4ed8a767b0e77",
            "463b658f2b314117a22faabad0d0c68e"
          ]
        },
        "id": "t9RXTKUpCmCZ",
        "outputId": "c7a7f157-f573-4a81-e11f-02b6a9d87672"
      },
      "outputs": [
        {
          "output_type": "stream",
          "name": "stderr",
          "text": [
            "/usr/local/lib/python3.11/dist-packages/transformers/benchmark/benchmark_args_utils.py:136: FutureWarning: The class <class 'transformers.benchmark.benchmark_args.PyTorchBenchmarkArguments'> is deprecated. Hugging Face Benchmarking utils are deprecated in general and it is advised to use external Benchmarking libraries  to benchmark Transformer models.\n",
            "  warnings.warn(\n"
          ]
        },
        {
          "output_type": "stream",
          "name": "stdout",
          "text": [
            "args: PyTorchBenchmarkArguments(models=['distilbert-base-uncased', 'distilroberta-base', 'albert-base-v2'], batch_sizes=[16], sequence_lengths=[64, 128, 256, 512], inference=True, cuda=True, tpu=True, fp16=False, training=False, verbose=False, speed=True, memory=True, trace_memory_line_by_line=False, save_to_csv=False, log_print=False, env_print=False, multi_process=True, inference_time_csv_file='inference_time_1740623907.csv', inference_memory_csv_file='inference_memory_1740623907.csv', train_time_csv_file='train_time_1740623907.csv', train_memory_csv_file='train_memory_1740623907.csv', env_info_csv_file='env_info_1740623907.csv', log_filename='log_1740623907.csv', repeat=3, only_pretrain_model=False, torchscript=False, torch_xla_tpu_print_metrics=False, fp16_opt_level='O1')\n",
            "args: cuda\n",
            "args: 0\n",
            "args: True\n",
            "args: False\n",
            "args: 1\n"
          ]
        },
        {
          "output_type": "stream",
          "name": "stderr",
          "text": [
            "/usr/local/lib/python3.11/dist-packages/huggingface_hub/utils/_auth.py:94: UserWarning: \n",
            "The secret `HF_TOKEN` does not exist in your Colab secrets.\n",
            "To authenticate with the Hugging Face Hub, create a token in your settings tab (https://huggingface.co/settings/tokens), set it as secret in your Google Colab and restart your session.\n",
            "You will be able to reuse this secret in all of your notebooks.\n",
            "Please note that authentication is recommended but still optional to access public models or datasets.\n",
            "  warnings.warn(\n"
          ]
        },
        {
          "output_type": "display_data",
          "data": {
            "text/plain": [
              "config.json:   0%|          | 0.00/483 [00:00<?, ?B/s]"
            ],
            "application/vnd.jupyter.widget-view+json": {
              "version_major": 2,
              "version_minor": 0,
              "model_id": "7c7713417e234c968fee4ff23b81e3db"
            }
          },
          "metadata": {}
        },
        {
          "output_type": "display_data",
          "data": {
            "text/plain": [
              "config.json:   0%|          | 0.00/480 [00:00<?, ?B/s]"
            ],
            "application/vnd.jupyter.widget-view+json": {
              "version_major": 2,
              "version_minor": 0,
              "model_id": "aae35d7a2ce24d51abc1e6757447ffbf"
            }
          },
          "metadata": {}
        },
        {
          "output_type": "display_data",
          "data": {
            "text/plain": [
              "config.json:   0%|          | 0.00/684 [00:00<?, ?B/s]"
            ],
            "application/vnd.jupyter.widget-view+json": {
              "version_major": 2,
              "version_minor": 0,
              "model_id": "fcdddf30402247909f425c72832375d3"
            }
          },
          "metadata": {}
        },
        {
          "output_type": "stream",
          "name": "stdout",
          "text": [
            "benchmark: <transformers.benchmark.benchmark.PyTorchBenchmark object at 0x7c89bcdcd650>\n"
          ]
        },
        {
          "output_type": "stream",
          "name": "stderr",
          "text": [
            "/usr/local/lib/python3.11/dist-packages/transformers/benchmark/benchmark_utils.py:614: FutureWarning: The class <class 'transformers.benchmark.benchmark.PyTorchBenchmark'> is deprecated. Hugging Face Benchmarking utils are deprecated in general and it is advised to use external Benchmarking libraries  to benchmark Transformer models.\n",
            "  warnings.warn(\n"
          ]
        }
      ],
      "source": [
        "from transformers import PyTorchBenchmark, PyTorchBenchmarkArguments\n",
        "\n",
        "models = [\"distilbert-base-uncased\", \"distilroberta-base\", \"albert-base-v2\"]\n",
        "batch_sizes = [16]\n",
        "sequence_lengths = [64, 128, 256, 512]\n",
        "\n",
        "# help(PyTorchBenchmarkArguments)\n",
        "args = PyTorchBenchmarkArguments(\n",
        "    models=models, batch_sizes=batch_sizes, sequence_lengths=sequence_lengths\n",
        ")\n",
        "# args = PyTorchBenchmarkArguments(\n",
        "#     models=models, batch_sizes=batch_sizes, sequence_lengths=sequence_lengths, cuda=False, tpu=False\n",
        "# )\n",
        "print(\"args:\", args)\n",
        "print(\"args:\", args.device)\n",
        "print(\"args:\", args.device_idx)\n",
        "print(\"args:\", args.is_gpu)\n",
        "print(\"args:\", args.is_tpu)\n",
        "print(\"args:\", args.n_gpu)\n",
        "\n",
        "benchmark = PyTorchBenchmark(args)\n",
        "print(\"benchmark:\", benchmark)"
      ]
    },
    {
      "cell_type": "code",
      "execution_count": 8,
      "metadata": {
        "id": "i9EjBL2XQ-04",
        "colab": {
          "base_uri": "https://localhost:8080/",
          "height": 137,
          "referenced_widgets": [
            "f4f823b1ad9b4126aeb1168698162d68",
            "8d7c6c7843e64cd3bffc8e330962ebd7",
            "139df89287ed48208948e743fc585a93",
            "18d6d4cee1ed4a078252c180a849e28d",
            "17876d8086c44c4d9b030bebb1a55825",
            "54109db96ac8490ebafe23d21fcbbea8",
            "bc1d5b6fca404ef5a8313a771afc3bbf",
            "0b029a19fb044279aa64d6656f0ae616",
            "f7146e34e295456ca1c995dc30388fb8",
            "8e188955e7dc41cc9e923911a47f950c",
            "fc7b5dd4613b46738bf64c7322dd26d9",
            "75d0f7d8a50d4149a87334e33f18a19d",
            "c1ff9167152c41aa9147a7b227f89fea",
            "86bb480e48d040389b4136239354deb2",
            "1b69fe4cb3694108aebced297b50cc9b",
            "af44a769b90d4549bffcdc2601084c98",
            "693ae84ba95d453cbd2afdffbb69a5be",
            "8f4b8e36c11e45e195804ee95dcc9167",
            "4b3ee7ca04524db689f39a32eeec341e",
            "d0dd0cbcd1704bb58a5e80facad752bb",
            "1aa207b854de49cc9e4e5fad3d495694",
            "ee25cb516148457588b497ca1267ebed"
          ]
        },
        "outputId": "a45dad21-2fc0-47bf-a0db-2605a554e366"
      },
      "outputs": [
        {
          "output_type": "stream",
          "name": "stdout",
          "text": [
            "args: PyTorchBenchmarkArguments(models=['bert-base-uncased', 'distilbert-base-uncased', 'distilroberta-base', 'distilbert-base-german-cased'], batch_sizes=[4], sequence_lengths=[32, 64, 128, 256, 512], inference=True, cuda=True, tpu=True, fp16=False, training=False, verbose=False, speed=True, memory=True, trace_memory_line_by_line=False, save_to_csv=False, log_print=False, env_print=False, multi_process=False, inference_time_csv_file='inference_time_1740623907.csv', inference_memory_csv_file='inference_memory_1740623907.csv', train_time_csv_file='train_time_1740623907.csv', train_memory_csv_file='train_memory_1740623907.csv', env_info_csv_file='env_info_1740623907.csv', log_filename='log_1740623907.csv', repeat=3, only_pretrain_model=False, torchscript=False, torch_xla_tpu_print_metrics=False, fp16_opt_level='O1')\n"
          ]
        },
        {
          "output_type": "display_data",
          "data": {
            "text/plain": [
              "config.json:   0%|          | 0.00/570 [00:00<?, ?B/s]"
            ],
            "application/vnd.jupyter.widget-view+json": {
              "version_major": 2,
              "version_minor": 0,
              "model_id": "f4f823b1ad9b4126aeb1168698162d68"
            }
          },
          "metadata": {}
        },
        {
          "output_type": "display_data",
          "data": {
            "text/plain": [
              "config.json:   0%|          | 0.00/464 [00:00<?, ?B/s]"
            ],
            "application/vnd.jupyter.widget-view+json": {
              "version_major": 2,
              "version_minor": 0,
              "model_id": "75d0f7d8a50d4149a87334e33f18a19d"
            }
          },
          "metadata": {}
        },
        {
          "output_type": "stream",
          "name": "stdout",
          "text": [
            "benchmark: <transformers.benchmark.benchmark.PyTorchBenchmark object at 0x7c8a55b9ad50>\n"
          ]
        }
      ],
      "source": [
        "from transformers import PyTorchBenchmark, PyTorchBenchmarkArguments\n",
        "\n",
        "models = [\n",
        "    \"bert-base-uncased\",\n",
        "    \"distilbert-base-uncased\",\n",
        "    \"distilroberta-base\",\n",
        "    \"distilbert-base-german-cased\",\n",
        "]\n",
        "batch_sizes = [4]\n",
        "sequence_lengths = [32, 64, 128, 256, 512]\n",
        "args = PyTorchBenchmarkArguments(\n",
        "    models=models,\n",
        "    batch_sizes=batch_sizes,\n",
        "    sequence_lengths=sequence_lengths,\n",
        "    multi_process=False,\n",
        ")\n",
        "print(\"args:\", args)\n",
        "\n",
        "benchmark = PyTorchBenchmark(args)\n",
        "print(\"benchmark:\", benchmark)"
      ]
    },
    {
      "cell_type": "code",
      "execution_count": 9,
      "metadata": {
        "colab": {
          "base_uri": "https://localhost:8080/"
        },
        "id": "gIwPFXHBMhRy",
        "outputId": "6e1c2e01-df3e-4fb0-81f4-87b805095532"
      },
      "outputs": [
        {
          "output_type": "stream",
          "name": "stdout",
          "text": [
            "1 / 4\n"
          ]
        },
        {
          "output_type": "stream",
          "name": "stderr",
          "text": [
            "BertForMaskedLM has generative capabilities, as `prepare_inputs_for_generation` is explicitly overwritten. However, it doesn't directly inherit from `GenerationMixin`. From 👉v4.50👈 onwards, `PreTrainedModel` will NOT inherit from `GenerationMixin`, and this model will lose the ability to call `generate` and other related functions.\n",
            "  - If you're using `trust_remote_code=True`, you can get rid of this warning by loading the model with an auto class. See https://huggingface.co/docs/transformers/en/model_doc/auto#auto-classes\n",
            "  - If you are the owner of the model architecture code, please modify your model class such that it inherits from `GenerationMixin` (after `PreTrainedModel`, otherwise you'll get an exception).\n",
            "  - If you are not the owner of the model architecture class, please contact the model code owner to update it.\n"
          ]
        },
        {
          "output_type": "stream",
          "name": "stdout",
          "text": [
            "2 / 4\n",
            "3 / 4\n",
            "4 / 4\n",
            "\n",
            "====================       INFERENCE - SPEED - RESULT       ====================\n",
            "--------------------------------------------------------------------------------\n",
            "          Model Name             Batch Size     Seq Length     Time in s   \n",
            "--------------------------------------------------------------------------------\n",
            "      bert-base-uncased              4               32             0.01     \n",
            "      bert-base-uncased              4               64            0.017     \n",
            "      bert-base-uncased              4              128            0.033     \n",
            "      bert-base-uncased              4              256            0.064     \n",
            "      bert-base-uncased              4              512            0.133     \n",
            "   distilbert-base-uncased           4               32            0.006     \n",
            "   distilbert-base-uncased           4               64            0.011     \n",
            "   distilbert-base-uncased           4              128             0.02     \n",
            "   distilbert-base-uncased           4              256            0.039     \n",
            "   distilbert-base-uncased           4              512            0.078     \n",
            "      distilroberta-base             4               32            0.009     \n",
            "      distilroberta-base             4               64            0.013     \n",
            "      distilroberta-base             4              128            0.024     \n",
            "      distilroberta-base             4              256            0.047     \n",
            "      distilroberta-base             4              512            0.095     \n",
            " distilbert-base-german-cased        4               32            0.008     \n",
            " distilbert-base-german-cased        4               64            0.012     \n",
            " distilbert-base-german-cased        4              128            0.022     \n",
            " distilbert-base-german-cased        4              256             0.04     \n",
            " distilbert-base-german-cased        4              512            0.081     \n",
            "--------------------------------------------------------------------------------\n",
            "\n",
            "====================      INFERENCE - MEMORY - RESULT       ====================\n",
            "--------------------------------------------------------------------------------\n",
            "          Model Name             Batch Size     Seq Length    Memory in MB \n",
            "--------------------------------------------------------------------------------\n",
            "      bert-base-uncased              4               32             883      \n",
            "      bert-base-uncased              4               64             917      \n",
            "      bert-base-uncased              4              128             977      \n",
            "      bert-base-uncased              4              256             1097     \n",
            "      bert-base-uncased              4              512             1337     \n",
            "   distilbert-base-uncased           4               32             1337     \n",
            "   distilbert-base-uncased           4               64             1337     \n",
            "   distilbert-base-uncased           4              128             1337     \n",
            "   distilbert-base-uncased           4              256             1337     \n",
            "   distilbert-base-uncased           4              512             1337     \n",
            "      distilroberta-base             4               32             1337     \n",
            "      distilroberta-base             4               64             1337     \n",
            "      distilroberta-base             4              128             1337     \n",
            "      distilroberta-base             4              256             1535     \n",
            "      distilroberta-base             4              512             1929     \n",
            " distilbert-base-german-cased        4               32             1929     \n",
            " distilbert-base-german-cased        4               64             1929     \n",
            " distilbert-base-german-cased        4              128             1929     \n",
            " distilbert-base-german-cased        4              256             1929     \n",
            " distilbert-base-german-cased        4              512             1929     \n",
            "--------------------------------------------------------------------------------\n"
          ]
        }
      ],
      "source": [
        "# it takes time depending on your CPU/GPU capacity and selection\n",
        "results = benchmark.run()"
      ]
    },
    {
      "cell_type": "code",
      "execution_count": 10,
      "metadata": {
        "colab": {
          "base_uri": "https://localhost:8080/"
        },
        "id": "yYkq86msIjTx",
        "outputId": "e9d8c6ea-098f-45d0-97d7-40ad1416ec75"
      },
      "outputs": [
        {
          "output_type": "execute_result",
          "data": {
            "text/plain": [
              "BenchmarkOutput(time_inference_result={'bert-base-uncased': {'bs': [4], 'ss': [32, 64, 128, 256, 512], 'result': {4: {32: 0.010185504899999387, 64: 0.017108884399999625, 128: 0.03274134239999853, 256: 0.06371487600000023, 512: 0.13287219519999666}}}, 'distilbert-base-uncased': {'bs': [4], 'ss': [32, 64, 128, 256, 512], 'result': {4: {32: 0.006335363900001311, 64: 0.010726936000003207, 128: 0.01978933419999862, 256: 0.03873663960000044, 512: 0.07841959739999993}}}, 'distilroberta-base': {'bs': [4], 'ss': [32, 64, 128, 256, 512], 'result': {4: {32: 0.009075101199999835, 64: 0.012611340600000177, 128: 0.023809352700004636, 256: 0.04735603420000416, 512: 0.09524874749999981}}}, 'distilbert-base-german-cased': {'bs': [4], 'ss': [32, 64, 128, 256, 512], 'result': {4: {32: 0.007650376699996286, 64: 0.011534979200001771, 128: 0.021699008799998865, 256: 0.04018378089999715, 512: 0.08070344569999861}}}}, memory_inference_result={'bert-base-uncased': {'bs': [4], 'ss': [32, 64, 128, 256, 512], 'result': {4: {32: 883, 64: 917, 128: 977, 256: 1097, 512: 1337}}}, 'distilbert-base-uncased': {'bs': [4], 'ss': [32, 64, 128, 256, 512], 'result': {4: {32: 1337, 64: 1337, 128: 1337, 256: 1337, 512: 1337}}}, 'distilroberta-base': {'bs': [4], 'ss': [32, 64, 128, 256, 512], 'result': {4: {32: 1337, 64: 1337, 128: 1337, 256: 1535, 512: 1929}}}, 'distilbert-base-german-cased': {'bs': [4], 'ss': [32, 64, 128, 256, 512], 'result': {4: {32: 1929, 64: 1929, 128: 1929, 256: 1929, 512: 1929}}}}, time_train_result={'bert-base-uncased': {'bs': [4], 'ss': [32, 64, 128, 256, 512], 'result': {4: {}}}, 'distilbert-base-uncased': {'bs': [4], 'ss': [32, 64, 128, 256, 512], 'result': {4: {}}}, 'distilroberta-base': {'bs': [4], 'ss': [32, 64, 128, 256, 512], 'result': {4: {}}}, 'distilbert-base-german-cased': {'bs': [4], 'ss': [32, 64, 128, 256, 512], 'result': {4: {}}}}, memory_train_result={'bert-base-uncased': {'bs': [4], 'ss': [32, 64, 128, 256, 512], 'result': {4: {}}}, 'distilbert-base-uncased': {'bs': [4], 'ss': [32, 64, 128, 256, 512], 'result': {4: {}}}, 'distilroberta-base': {'bs': [4], 'ss': [32, 64, 128, 256, 512], 'result': {4: {}}}, 'distilbert-base-german-cased': {'bs': [4], 'ss': [32, 64, 128, 256, 512], 'result': {4: {}}}}, inference_summary=None, train_summary=None)"
            ]
          },
          "metadata": {},
          "execution_count": 10
        }
      ],
      "source": [
        "results"
      ]
    },
    {
      "cell_type": "code",
      "execution_count": 11,
      "metadata": {
        "colab": {
          "base_uri": "https://localhost:8080/"
        },
        "id": "1YNKktcYIjTx",
        "outputId": "e4a5b032-8021-4073-d6d4-20882cb08625"
      },
      "outputs": [
        {
          "output_type": "execute_result",
          "data": {
            "text/plain": [
              "{'bert-base-uncased': {'bs': [4],\n",
              "  'ss': [32, 64, 128, 256, 512],\n",
              "  'result': {4: {32: 0.010185504899999387,\n",
              "    64: 0.017108884399999625,\n",
              "    128: 0.03274134239999853,\n",
              "    256: 0.06371487600000023,\n",
              "    512: 0.13287219519999666}}},\n",
              " 'distilbert-base-uncased': {'bs': [4],\n",
              "  'ss': [32, 64, 128, 256, 512],\n",
              "  'result': {4: {32: 0.006335363900001311,\n",
              "    64: 0.010726936000003207,\n",
              "    128: 0.01978933419999862,\n",
              "    256: 0.03873663960000044,\n",
              "    512: 0.07841959739999993}}},\n",
              " 'distilroberta-base': {'bs': [4],\n",
              "  'ss': [32, 64, 128, 256, 512],\n",
              "  'result': {4: {32: 0.009075101199999835,\n",
              "    64: 0.012611340600000177,\n",
              "    128: 0.023809352700004636,\n",
              "    256: 0.04735603420000416,\n",
              "    512: 0.09524874749999981}}},\n",
              " 'distilbert-base-german-cased': {'bs': [4],\n",
              "  'ss': [32, 64, 128, 256, 512],\n",
              "  'result': {4: {32: 0.007650376699996286,\n",
              "    64: 0.011534979200001771,\n",
              "    128: 0.021699008799998865,\n",
              "    256: 0.04018378089999715,\n",
              "    512: 0.08070344569999861}}}}"
            ]
          },
          "metadata": {},
          "execution_count": 11
        }
      ],
      "source": [
        "results.time_inference_result"
      ]
    },
    {
      "cell_type": "code",
      "execution_count": 12,
      "metadata": {
        "colab": {
          "base_uri": "https://localhost:8080/"
        },
        "id": "QIq1b7YGIjTy",
        "outputId": "20f0400b-9a27-43da-9ac7-cd3d2f492925"
      },
      "outputs": [
        {
          "output_type": "execute_result",
          "data": {
            "text/plain": [
              "{'bs': [4],\n",
              " 'ss': [32, 64, 128, 256, 512],\n",
              " 'result': {4: {32: 0.010185504899999387,\n",
              "   64: 0.017108884399999625,\n",
              "   128: 0.03274134239999853,\n",
              "   256: 0.06371487600000023,\n",
              "   512: 0.13287219519999666}}}"
            ]
          },
          "metadata": {},
          "execution_count": 12
        }
      ],
      "source": [
        "results.time_inference_result[\"bert-base-uncased\"]"
      ]
    },
    {
      "cell_type": "code",
      "execution_count": 13,
      "metadata": {
        "colab": {
          "base_uri": "https://localhost:8080/"
        },
        "id": "MPtxZpS6IjTy",
        "outputId": "aaf3275f-d24d-4583-b608-a0a65ffe1b6d"
      },
      "outputs": [
        {
          "output_type": "execute_result",
          "data": {
            "text/plain": [
              "{4: {32: 0.010185504899999387,\n",
              "  64: 0.017108884399999625,\n",
              "  128: 0.03274134239999853,\n",
              "  256: 0.06371487600000023,\n",
              "  512: 0.13287219519999666}}"
            ]
          },
          "metadata": {},
          "execution_count": 13
        }
      ],
      "source": [
        "results.time_inference_result[\"bert-base-uncased\"][\"result\"]"
      ]
    },
    {
      "cell_type": "code",
      "execution_count": 14,
      "metadata": {
        "colab": {
          "base_uri": "https://localhost:8080/"
        },
        "id": "gj-IbgxQIjTy",
        "outputId": "46b48f4b-8e29-40bc-cd02-c90ce2787d35"
      },
      "outputs": [
        {
          "output_type": "execute_result",
          "data": {
            "text/plain": [
              "{32: 0.010185504899999387,\n",
              " 64: 0.017108884399999625,\n",
              " 128: 0.03274134239999853,\n",
              " 256: 0.06371487600000023,\n",
              " 512: 0.13287219519999666}"
            ]
          },
          "metadata": {},
          "execution_count": 14
        }
      ],
      "source": [
        "results.time_inference_result[\"bert-base-uncased\"][\"result\"][4]"
      ]
    },
    {
      "cell_type": "code",
      "execution_count": 15,
      "metadata": {
        "colab": {
          "base_uri": "https://localhost:8080/"
        },
        "id": "ABRW8LCOIjTy",
        "outputId": "9604627b-a379-4072-df44-cc950ad4ed93"
      },
      "outputs": [
        {
          "output_type": "execute_result",
          "data": {
            "text/plain": [
              "[[0.010185504899999387,\n",
              "  0.017108884399999625,\n",
              "  0.03274134239999853,\n",
              "  0.06371487600000023,\n",
              "  0.13287219519999666],\n",
              " [0.006335363900001311,\n",
              "  0.010726936000003207,\n",
              "  0.01978933419999862,\n",
              "  0.03873663960000044,\n",
              "  0.07841959739999993],\n",
              " [0.009075101199999835,\n",
              "  0.012611340600000177,\n",
              "  0.023809352700004636,\n",
              "  0.04735603420000416,\n",
              "  0.09524874749999981],\n",
              " [0.007650376699996286,\n",
              "  0.011534979200001771,\n",
              "  0.021699008799998865,\n",
              "  0.04018378089999715,\n",
              "  0.08070344569999861]]"
            ]
          },
          "metadata": {},
          "execution_count": 15
        }
      ],
      "source": [
        "# batch_sizes = [4]\n",
        "models_perf = [\n",
        "    list(results.time_inference_result[m][\"result\"][batch_sizes[0]].values())\n",
        "    for m in models\n",
        "]\n",
        "models_perf"
      ]
    },
    {
      "cell_type": "code",
      "execution_count": 16,
      "metadata": {
        "colab": {
          "base_uri": "https://localhost:8080/",
          "height": 718
        },
        "id": "H-0RZxkklSdo",
        "outputId": "5e3742ed-76f7-45e1-f762-5e62aac2c460"
      },
      "outputs": [
        {
          "output_type": "display_data",
          "data": {
            "text/plain": [
              "<Figure size 800x800 with 1 Axes>"
            ],
            "image/png": "[encoded data removed]"
          },
          "metadata": {}
        }
      ],
      "source": [
        "import matplotlib.pyplot as plt\n",
        "\n",
        "# sequence_lengths = [32, 64, 128, 256, 512]\n",
        "# batch_sizes = [4]\n",
        "t = sequence_lengths\n",
        "models_perf = [\n",
        "    list(results.time_inference_result[m][\"result\"][batch_sizes[0]].values())\n",
        "    for m in models\n",
        "]\n",
        "\n",
        "plt.figure(figsize=(8, 8))\n",
        "plt.plot(\n",
        "    t,\n",
        "    models_perf[0],\n",
        "    \"rs--\",\n",
        "    t,\n",
        "    models_perf[1],\n",
        "    \"g--.\",\n",
        "    t,\n",
        "    models_perf[2],\n",
        "    \"b--^\",\n",
        "    t,\n",
        "    models_perf[3],\n",
        "    \"c--o\",\n",
        ")\n",
        "\n",
        "plt.xlabel(\"Seq Length\")\n",
        "plt.ylabel(\"Time in Second\")\n",
        "plt.title(\"Inference Speed Result\")\n",
        "\n",
        "plt.legend(models)\n",
        "plt.show()"
      ]
    },
    {
      "cell_type": "code",
      "execution_count": null,
      "metadata": {
        "colab": {
          "background_save": true
        },
        "id": "2g-ObOQpmmS2"
      },
      "outputs": [],
      "source": []
    }
  ],
  "metadata": {
    "accelerator": "GPU",
    "colab": {
      "gpuType": "T4",
      "provenance": []
    },
    "kernelspec": {
      "display_name": "Python 3",
      "name": "python3"
    },
    "language_info": {
      "codemirror_mode": {
        "name": "ipython",
        "version": 3
      },
      "file_extension": ".py",
      "mimetype": "text/x-python",
      "name": "python",
      "nbconvert_exporter": "python",
      "pygments_lexer": "ipython3",
      "version": "3.11.6"
    },
    "widgets": {
      "application/vnd.jupyter.widget-state+json": {
        "7c7713417e234c968fee4ff23b81e3db": {
          "model_module": "@jupyter-widgets/controls",
          "model_name": "HBoxModel",
          "model_module_version": "1.5.0",
          "state": {
            "_dom_classes": [],
            "_model_module": "@jupyter-widgets/controls",
            "_model_module_version": "1.5.0",
            "_model_name": "HBoxModel",
            "_view_count": null,
            "_view_module": "@jupyter-widgets/controls",
            "_view_module_version": "1.5.0",
            "_view_name": "HBoxView",
            "box_style": "",
            "children": [
              "IPY_MODEL_cda24510e756414b83f8a8fe06d66b0a",
              "IPY_MODEL_32ee259eb23f4f1bbfb0e6d22d8c0039",
              "IPY_MODEL_4ca1744d329642749c4575605f5cf352"
            ],
            "layout": "IPY_MODEL_d0c1069c4274467fbbcfd3ee7779bbbf"
          }
        },
        "cda24510e756414b83f8a8fe06d66b0a": {
          "model_module": "@jupyter-widgets/controls",
          "model_name": "HTMLModel",
          "model_module_version": "1.5.0",
          "state": {
            "_dom_classes": [],
            "_model_module": "@jupyter-widgets/controls",
            "_model_module_version": "1.5.0",
            "_model_name": "HTMLModel",
            "_view_count": null,
            "_view_module": "@jupyter-widgets/controls",
            "_view_module_version": "1.5.0",
            "_view_name": "HTMLView",
            "description": "",
            "description_tooltip": null,
            "layout": "IPY_MODEL_2afdae2f47cd4182931a9911731a5990",
            "placeholder": "​",
            "style": "IPY_MODEL_3ce285df599e4447854e7e5af66c13cf",
            "value": "config.json: 100%"
          }
        },
        "32ee259eb23f4f1bbfb0e6d22d8c0039": {
          "model_module": "@jupyter-widgets/controls",
          "model_name": "FloatProgressModel",
          "model_module_version": "1.5.0",
          "state": {
            "_dom_classes": [],
            "_model_module": "@jupyter-widgets/controls",
            "_model_module_version": "1.5.0",
            "_model_name": "FloatProgressModel",
            "_view_count": null,
            "_view_module": "@jupyter-widgets/controls",
            "_view_module_version": "1.5.0",
            "_view_name": "ProgressView",
            "bar_style": "success",
            "description": "",
            "description_tooltip": null,
            "layout": "IPY_MODEL_2d58ad4869c9486dbdd0306a610f4a4c",
            "max": 483,
            "min": 0,
            "orientation": "horizontal",
            "style": "IPY_MODEL_11fa17096b0c4d3ea68313b9fa36dbeb",
            "value": 483
          }
        },
        "4ca1744d329642749c4575605f5cf352": {
          "model_module": "@jupyter-widgets/controls",
          "model_name": "HTMLModel",
          "model_module_version": "1.5.0",
          "state": {
            "_dom_classes": [],
            "_model_module": "@jupyter-widgets/controls",
            "_model_module_version": "1.5.0",
            "_model_name": "HTMLModel",
            "_view_count": null,
            "_view_module": "@jupyter-widgets/controls",
            "_view_module_version": "1.5.0",
            "_view_name": "HTMLView",
            "description": "",
            "description_tooltip": null,
            "layout": "IPY_MODEL_f88e1fca8ff14c20b41d6f6d1d0eecd0",
            "placeholder": "​",
            "style": "IPY_MODEL_ffc0c0d53cd14b4fbe496e7b664980ac",
            "value": " 483/483 [00:00&lt;00:00, 43.6kB/s]"
          }
        },
        "d0c1069c4274467fbbcfd3ee7779bbbf": {
          "model_module": "@jupyter-widgets/base",
          "model_name": "LayoutModel",
          "model_module_version": "1.2.0",
          "state": {
            "_model_module": "@jupyter-widgets/base",
            "_model_module_version": "1.2.0",
            "_model_name": "LayoutModel",
            "_view_count": null,
            "_view_module": "@jupyter-widgets/base",
            "_view_module_version": "1.2.0",
            "_view_name": "LayoutView",
            "align_content": null,
            "align_items": null,
            "align_self": null,
            "border": null,
            "bottom": null,
            "display": null,
            "flex": null,
            "flex_flow": null,
            "grid_area": null,
            "grid_auto_columns": null,
            "grid_auto_flow": null,
            "grid_auto_rows": null,
            "grid_column": null,
            "grid_gap": null,
            "grid_row": null,
            "grid_template_areas": null,
            "grid_template_columns": null,
            "grid_template_rows": null,
            "height": null,
            "justify_content": null,
            "justify_items": null,
            "left": null,
            "margin": null,
            "max_height": null,
            "max_width": null,
            "min_height": null,
            "min_width": null,
            "object_fit": null,
            "object_position": null,
            "order": null,
            "overflow": null,
            "overflow_x": null,
            "overflow_y": null,
            "padding": null,
            "right": null,
            "top": null,
            "visibility": null,
            "width": null
          }
        },
        "2afdae2f47cd4182931a9911731a5990": {
          "model_module": "@jupyter-widgets/base",
          "model_name": "LayoutModel",
          "model_module_version": "1.2.0",
          "state": {
            "_model_module": "@jupyter-widgets/base",
            "_model_module_version": "1.2.0",
            "_model_name": "LayoutModel",
            "_view_count": null,
            "_view_module": "@jupyter-widgets/base",
            "_view_module_version": "1.2.0",
            "_view_name": "LayoutView",
            "align_content": null,
            "align_items": null,
            "align_self": null,
            "border": null,
            "bottom": null,
            "display": null,
            "flex": null,
            "flex_flow": null,
            "grid_area": null,
            "grid_auto_columns": null,
            "grid_auto_flow": null,
            "grid_auto_rows": null,
            "grid_column": null,
            "grid_gap": null,
            "grid_row": null,
            "grid_template_areas": null,
            "grid_template_columns": null,
            "grid_template_rows": null,
            "height": null,
            "justify_content": null,
            "justify_items": null,
            "left": null,
            "margin": null,
            "max_height": null,
            "max_width": null,
            "min_height": null,
            "min_width": null,
            "object_fit": null,
            "object_position": null,
            "order": null,
            "overflow": null,
            "overflow_x": null,
            "overflow_y": null,
            "padding": null,
            "right": null,
            "top": null,
            "visibility": null,
            "width": null
          }
        },
        "3ce285df599e4447854e7e5af66c13cf": {
          "model_module": "@jupyter-widgets/controls",
          "model_name": "DescriptionStyleModel",
          "model_module_version": "1.5.0",
          "state": {
            "_model_module": "@jupyter-widgets/controls",
            "_model_module_version": "1.5.0",
            "_model_name": "DescriptionStyleModel",
            "_view_count": null,
            "_view_module": "@jupyter-widgets/base",
            "_view_module_version": "1.2.0",
            "_view_name": "StyleView",
            "description_width": ""
          }
        },
        "2d58ad4869c9486dbdd0306a610f4a4c": {
          "model_module": "@jupyter-widgets/base",
          "model_name": "LayoutModel",
          "model_module_version": "1.2.0",
          "state": {
            "_model_module": "@jupyter-widgets/base",
            "_model_module_version": "1.2.0",
            "_model_name": "LayoutModel",
            "_view_count": null,
            "_view_module": "@jupyter-widgets/base",
            "_view_module_version": "1.2.0",
            "_view_name": "LayoutView",
            "align_content": null,
            "align_items": null,
            "align_self": null,
            "border": null,
            "bottom": null,
            "display": null,
            "flex": null,
            "flex_flow": null,
            "grid_area": null,
            "grid_auto_columns": null,
            "grid_auto_flow": null,
            "grid_auto_rows": null,
            "grid_column": null,
            "grid_gap": null,
            "grid_row": null,
            "grid_template_areas": null,
            "grid_template_columns": null,
            "grid_template_rows": null,
            "height": null,
            "justify_content": null,
            "justify_items": null,
            "left": null,
            "margin": null,
            "max_height": null,
            "max_width": null,
            "min_height": null,
            "min_width": null,
            "object_fit": null,
            "object_position": null,
            "order": null,
            "overflow": null,
            "overflow_x": null,
            "overflow_y": null,
            "padding": null,
            "right": null,
            "top": null,
            "visibility": null,
            "width": null
          }
        },
        "11fa17096b0c4d3ea68313b9fa36dbeb": {
          "model_module": "@jupyter-widgets/controls",
          "model_name": "ProgressStyleModel",
          "model_module_version": "1.5.0",
          "state": {
            "_model_module": "@jupyter-widgets/controls",
            "_model_module_version": "1.5.0",
            "_model_name": "ProgressStyleModel",
            "_view_count": null,
            "_view_module": "@jupyter-widgets/base",
            "_view_module_version": "1.2.0",
            "_view_name": "StyleView",
            "bar_color": null,
            "description_width": ""
          }
        },
        "f88e1fca8ff14c20b41d6f6d1d0eecd0": {
          "model_module": "@jupyter-widgets/base",
          "model_name": "LayoutModel",
          "model_module_version": "1.2.0",
          "state": {
            "_model_module": "@jupyter-widgets/base",
            "_model_module_version": "1.2.0",
            "_model_name": "LayoutModel",
            "_view_count": null,
            "_view_module": "@jupyter-widgets/base",
            "_view_module_version": "1.2.0",
            "_view_name": "LayoutView",
            "align_content": null,
            "align_items": null,
            "align_self": null,
            "border": null,
            "bottom": null,
            "display": null,
            "flex": null,
            "flex_flow": null,
            "grid_area": null,
            "grid_auto_columns": null,
            "grid_auto_flow": null,
            "grid_auto_rows": null,
            "grid_column": null,
            "grid_gap": null,
            "grid_row": null,
            "grid_template_areas": null,
            "grid_template_columns": null,
            "grid_template_rows": null,
            "height": null,
            "justify_content": null,
            "justify_items": null,
            "left": null,
            "margin": null,
            "max_height": null,
            "max_width": null,
            "min_height": null,
            "min_width": null,
            "object_fit": null,
            "object_position": null,
            "order": null,
            "overflow": null,
            "overflow_x": null,
            "overflow_y": null,
            "padding": null,
            "right": null,
            "top": null,
            "visibility": null,
            "width": null
          }
        },
        "ffc0c0d53cd14b4fbe496e7b664980ac": {
          "model_module": "@jupyter-widgets/controls",
          "model_name": "DescriptionStyleModel",
          "model_module_version": "1.5.0",
          "state": {
            "_model_module": "@jupyter-widgets/controls",
            "_model_module_version": "1.5.0",
            "_model_name": "DescriptionStyleModel",
            "_view_count": null,
            "_view_module": "@jupyter-widgets/base",
            "_view_module_version": "1.2.0",
            "_view_name": "StyleView",
            "description_width": ""
          }
        },
        "aae35d7a2ce24d51abc1e6757447ffbf": {
          "model_module": "@jupyter-widgets/controls",
          "model_name": "HBoxModel",
          "model_module_version": "1.5.0",
          "state": {
            "_dom_classes": [],
            "_model_module": "@jupyter-widgets/controls",
            "_model_module_version": "1.5.0",
            "_model_name": "HBoxModel",
            "_view_count": null,
            "_view_module": "@jupyter-widgets/controls",
            "_view_module_version": "1.5.0",
            "_view_name": "HBoxView",
            "box_style": "",
            "children": [
              "IPY_MODEL_da1a056ccb0e4756bedfc620bebe600b",
              "IPY_MODEL_d2ed43204a204062b1c2c5605be92766",
              "IPY_MODEL_9fe693ff0e7f43d6bd2f393528d1795b"
            ],
            "layout": "IPY_MODEL_63ae68e0a7cf454d925ba6be4781a2c2"
          }
        },
        "da1a056ccb0e4756bedfc620bebe600b": {
          "model_module": "@jupyter-widgets/controls",
          "model_name": "HTMLModel",
          "model_module_version": "1.5.0",
          "state": {
            "_dom_classes": [],
            "_model_module": "@jupyter-widgets/controls",
            "_model_module_version": "1.5.0",
            "_model_name": "HTMLModel",
            "_view_count": null,
            "_view_module": "@jupyter-widgets/controls",
            "_view_module_version": "1.5.0",
            "_view_name": "HTMLView",
            "description": "",
            "description_tooltip": null,
            "layout": "IPY_MODEL_f07b688502bc436590ef202627da2368",
            "placeholder": "​",
            "style": "IPY_MODEL_38da6b36ae8a415aa16349bc4a81cd4b",
            "value": "config.json: 100%"
          }
        },
        "d2ed43204a204062b1c2c5605be92766": {
          "model_module": "@jupyter-widgets/controls",
          "model_name": "FloatProgressModel",
          "model_module_version": "1.5.0",
          "state": {
            "_dom_classes": [],
            "_model_module": "@jupyter-widgets/controls",
            "_model_module_version": "1.5.0",
            "_model_name": "FloatProgressModel",
            "_view_count": null,
            "_view_module": "@jupyter-widgets/controls",
            "_view_module_version": "1.5.0",
            "_view_name": "ProgressView",
            "bar_style": "success",
            "description": "",
            "description_tooltip": null,
            "layout": "IPY_MODEL_fa39e02c5daf48e38b1426e0428b8b57",
            "max": 480,
            "min": 0,
            "orientation": "horizontal",
            "style": "IPY_MODEL_f995e555a2594614bee51feb0ab97acf",
            "value": 480
          }
        },
        "9fe693ff0e7f43d6bd2f393528d1795b": {
          "model_module": "@jupyter-widgets/controls",
          "model_name": "HTMLModel",
          "model_module_version": "1.5.0",
          "state": {
            "_dom_classes": [],
            "_model_module": "@jupyter-widgets/controls",
            "_model_module_version": "1.5.0",
            "_model_name": "HTMLModel",
            "_view_count": null,
            "_view_module": "@jupyter-widgets/controls",
            "_view_module_version": "1.5.0",
            "_view_name": "HTMLView",
            "description": "",
            "description_tooltip": null,
            "layout": "IPY_MODEL_de05f131dd5c4c4ca89b4526785d540b",
            "placeholder": "​",
            "style": "IPY_MODEL_49b321a43aa344c7ba1277ded12febe2",
            "value": " 480/480 [00:00&lt;00:00, 46.6kB/s]"
          }
        },
        "63ae68e0a7cf454d925ba6be4781a2c2": {
          "model_module": "@jupyter-widgets/base",
          "model_name": "LayoutModel",
          "model_module_version": "1.2.0",
          "state": {
            "_model_module": "@jupyter-widgets/base",
            "_model_module_version": "1.2.0",
            "_model_name": "LayoutModel",
            "_view_count": null,
            "_view_module": "@jupyter-widgets/base",
            "_view_module_version": "1.2.0",
            "_view_name": "LayoutView",
            "align_content": null,
            "align_items": null,
            "align_self": null,
            "border": null,
            "bottom": null,
            "display": null,
            "flex": null,
            "flex_flow": null,
            "grid_area": null,
            "grid_auto_columns": null,
            "grid_auto_flow": null,
            "grid_auto_rows": null,
            "grid_column": null,
            "grid_gap": null,
            "grid_row": null,
            "grid_template_areas": null,
            "grid_template_columns": null,
            "grid_template_rows": null,
            "height": null,
            "justify_content": null,
            "justify_items": null,
            "left": null,
            "margin": null,
            "max_height": null,
            "max_width": null,
            "min_height": null,
            "min_width": null,
            "object_fit": null,
            "object_position": null,
            "order": null,
            "overflow": null,
            "overflow_x": null,
            "overflow_y": null,
            "padding": null,
            "right": null,
            "top": null,
            "visibility": null,
            "width": null
          }
        },
        "f07b688502bc436590ef202627da2368": {
          "model_module": "@jupyter-widgets/base",
          "model_name": "LayoutModel",
          "model_module_version": "1.2.0",
          "state": {
            "_model_module": "@jupyter-widgets/base",
            "_model_module_version": "1.2.0",
            "_model_name": "LayoutModel",
            "_view_count": null,
            "_view_module": "@jupyter-widgets/base",
            "_view_module_version": "1.2.0",
            "_view_name": "LayoutView",
            "align_content": null,
            "align_items": null,
            "align_self": null,
            "border": null,
            "bottom": null,
            "display": null,
            "flex": null,
            "flex_flow": null,
            "grid_area": null,
            "grid_auto_columns": null,
            "grid_auto_flow": null,
            "grid_auto_rows": null,
            "grid_column": null,
            "grid_gap": null,
            "grid_row": null,
            "grid_template_areas": null,
            "grid_template_columns": null,
            "grid_template_rows": null,
            "height": null,
            "justify_content": null,
            "justify_items": null,
            "left": null,
            "margin": null,
            "max_height": null,
            "max_width": null,
            "min_height": null,
            "min_width": null,
            "object_fit": null,
            "object_position": null,
            "order": null,
            "overflow": null,
            "overflow_x": null,
            "overflow_y": null,
            "padding": null,
            "right": null,
            "top": null,
            "visibility": null,
            "width": null
          }
        },
        "38da6b36ae8a415aa16349bc4a81cd4b": {
          "model_module": "@jupyter-widgets/controls",
          "model_name": "DescriptionStyleModel",
          "model_module_version": "1.5.0",
          "state": {
            "_model_module": "@jupyter-widgets/controls",
            "_model_module_version": "1.5.0",
            "_model_name": "DescriptionStyleModel",
            "_view_count": null,
            "_view_module": "@jupyter-widgets/base",
            "_view_module_version": "1.2.0",
            "_view_name": "StyleView",
            "description_width": ""
          }
        },
        "fa39e02c5daf48e38b1426e0428b8b57": {
          "model_module": "@jupyter-widgets/base",
          "model_name": "LayoutModel",
          "model_module_version": "1.2.0",
          "state": {
            "_model_module": "@jupyter-widgets/base",
            "_model_module_version": "1.2.0",
            "_model_name": "LayoutModel",
            "_view_count": null,
            "_view_module": "@jupyter-widgets/base",
            "_view_module_version": "1.2.0",
            "_view_name": "LayoutView",
            "align_content": null,
            "align_items": null,
            "align_self": null,
            "border": null,
            "bottom": null,
            "display": null,
            "flex": null,
            "flex_flow": null,
            "grid_area": null,
            "grid_auto_columns": null,
            "grid_auto_flow": null,
            "grid_auto_rows": null,
            "grid_column": null,
            "grid_gap": null,
            "grid_row": null,
            "grid_template_areas": null,
            "grid_template_columns": null,
            "grid_template_rows": null,
            "height": null,
            "justify_content": null,
            "justify_items": null,
            "left": null,
            "margin": null,
            "max_height": null,
            "max_width": null,
            "min_height": null,
            "min_width": null,
            "object_fit": null,
            "object_position": null,
            "order": null,
            "overflow": null,
            "overflow_x": null,
            "overflow_y": null,
            "padding": null,
            "right": null,
            "top": null,
            "visibility": null,
            "width": null
          }
        },
        "f995e555a2594614bee51feb0ab97acf": {
          "model_module": "@jupyter-widgets/controls",
          "model_name": "ProgressStyleModel",
          "model_module_version": "1.5.0",
          "state": {
            "_model_module": "@jupyter-widgets/controls",
            "_model_module_version": "1.5.0",
            "_model_name": "ProgressStyleModel",
            "_view_count": null,
            "_view_module": "@jupyter-widgets/base",
            "_view_module_version": "1.2.0",
            "_view_name": "StyleView",
            "bar_color": null,
            "description_width": ""
          }
        },
        "de05f131dd5c4c4ca89b4526785d540b": {
          "model_module": "@jupyter-widgets/base",
          "model_name": "LayoutModel",
          "model_module_version": "1.2.0",
          "state": {
            "_model_module": "@jupyter-widgets/base",
            "_model_module_version": "1.2.0",
            "_model_name": "LayoutModel",
            "_view_count": null,
            "_view_module": "@jupyter-widgets/base",
            "_view_module_version": "1.2.0",
            "_view_name": "LayoutView",
            "align_content": null,
            "align_items": null,
            "align_self": null,
            "border": null,
            "bottom": null,
            "display": null,
            "flex": null,
            "flex_flow": null,
            "grid_area": null,
            "grid_auto_columns": null,
            "grid_auto_flow": null,
            "grid_auto_rows": null,
            "grid_column": null,
            "grid_gap": null,
            "grid_row": null,
            "grid_template_areas": null,
            "grid_template_columns": null,
            "grid_template_rows": null,
            "height": null,
            "justify_content": null,
            "justify_items": null,
            "left": null,
            "margin": null,
            "max_height": null,
            "max_width": null,
            "min_height": null,
            "min_width": null,
            "object_fit": null,
            "object_position": null,
            "order": null,
            "overflow": null,
            "overflow_x": null,
            "overflow_y": null,
            "padding": null,
            "right": null,
            "top": null,
            "visibility": null,
            "width": null
          }
        },
        "49b321a43aa344c7ba1277ded12febe2": {
          "model_module": "@jupyter-widgets/controls",
          "model_name": "DescriptionStyleModel",
          "model_module_version": "1.5.0",
          "state": {
            "_model_module": "@jupyter-widgets/controls",
            "_model_module_version": "1.5.0",
            "_model_name": "DescriptionStyleModel",
            "_view_count": null,
            "_view_module": "@jupyter-widgets/base",
            "_view_module_version": "1.2.0",
            "_view_name": "StyleView",
            "description_width": ""
          }
        },
        "fcdddf30402247909f425c72832375d3": {
          "model_module": "@jupyter-widgets/controls",
          "model_name": "HBoxModel",
          "model_module_version": "1.5.0",
          "state": {
            "_dom_classes": [],
            "_model_module": "@jupyter-widgets/controls",
            "_model_module_version": "1.5.0",
            "_model_name": "HBoxModel",
            "_view_count": null,
            "_view_module": "@jupyter-widgets/controls",
            "_view_module_version": "1.5.0",
            "_view_name": "HBoxView",
            "box_style": "",
            "children": [
              "IPY_MODEL_251328c3279e44e8b0610e7bffb759bd",
              "IPY_MODEL_494f4334acda44faabb0436a3bc3936d",
              "IPY_MODEL_c57a8a8c892e43c2817e6d09648c005a"
            ],
            "layout": "IPY_MODEL_16f8a227e4e84264abe87d4bc91aa57f"
          }
        },
        "251328c3279e44e8b0610e7bffb759bd": {
          "model_module": "@jupyter-widgets/controls",
          "model_name": "HTMLModel",
          "model_module_version": "1.5.0",
          "state": {
            "_dom_classes": [],
            "_model_module": "@jupyter-widgets/controls",
            "_model_module_version": "1.5.0",
            "_model_name": "HTMLModel",
            "_view_count": null,
            "_view_module": "@jupyter-widgets/controls",
            "_view_module_version": "1.5.0",
            "_view_name": "HTMLView",
            "description": "",
            "description_tooltip": null,
            "layout": "IPY_MODEL_d0239cb97adc4897a38e7ef777d63657",
            "placeholder": "​",
            "style": "IPY_MODEL_b4f8d8ad96f54bf0a683db408e8a9e68",
            "value": "config.json: 100%"
          }
        },
        "494f4334acda44faabb0436a3bc3936d": {
          "model_module": "@jupyter-widgets/controls",
          "model_name": "FloatProgressModel",
          "model_module_version": "1.5.0",
          "state": {
            "_dom_classes": [],
            "_model_module": "@jupyter-widgets/controls",
            "_model_module_version": "1.5.0",
            "_model_name": "FloatProgressModel",
            "_view_count": null,
            "_view_module": "@jupyter-widgets/controls",
            "_view_module_version": "1.5.0",
            "_view_name": "ProgressView",
            "bar_style": "success",
            "description": "",
            "description_tooltip": null,
            "layout": "IPY_MODEL_0a033b3e7b6b4727821cdd1c8809a44a",
            "max": 684,
            "min": 0,
            "orientation": "horizontal",
            "style": "IPY_MODEL_7bec786b84f94dd29ed178c68979196e",
            "value": 684
          }
        },
        "c57a8a8c892e43c2817e6d09648c005a": {
          "model_module": "@jupyter-widgets/controls",
          "model_name": "HTMLModel",
          "model_module_version": "1.5.0",
          "state": {
            "_dom_classes": [],
            "_model_module": "@jupyter-widgets/controls",
            "_model_module_version": "1.5.0",
            "_model_name": "HTMLModel",
            "_view_count": null,
            "_view_module": "@jupyter-widgets/controls",
            "_view_module_version": "1.5.0",
            "_view_name": "HTMLView",
            "description": "",
            "description_tooltip": null,
            "layout": "IPY_MODEL_d9faae671245447c9aa4ed8a767b0e77",
            "placeholder": "​",
            "style": "IPY_MODEL_463b658f2b314117a22faabad0d0c68e",
            "value": " 684/684 [00:00&lt;00:00, 71.8kB/s]"
          }
        },
        "16f8a227e4e84264abe87d4bc91aa57f": {
          "model_module": "@jupyter-widgets/base",
          "model_name": "LayoutModel",
          "model_module_version": "1.2.0",
          "state": {
            "_model_module": "@jupyter-widgets/base",
            "_model_module_version": "1.2.0",
            "_model_name": "LayoutModel",
            "_view_count": null,
            "_view_module": "@jupyter-widgets/base",
            "_view_module_version": "1.2.0",
            "_view_name": "LayoutView",
            "align_content": null,
            "align_items": null,
            "align_self": null,
            "border": null,
            "bottom": null,
            "display": null,
            "flex": null,
            "flex_flow": null,
            "grid_area": null,
            "grid_auto_columns": null,
            "grid_auto_flow": null,
            "grid_auto_rows": null,
            "grid_column": null,
            "grid_gap": null,
            "grid_row": null,
            "grid_template_areas": null,
            "grid_template_columns": null,
            "grid_template_rows": null,
            "height": null,
            "justify_content": null,
            "justify_items": null,
            "left": null,
            "margin": null,
            "max_height": null,
            "max_width": null,
            "min_height": null,
            "min_width": null,
            "object_fit": null,
            "object_position": null,
            "order": null,
            "overflow": null,
            "overflow_x": null,
            "overflow_y": null,
            "padding": null,
            "right": null,
            "top": null,
            "visibility": null,
            "width": null
          }
        },
        "d0239cb97adc4897a38e7ef777d63657": {
          "model_module": "@jupyter-widgets/base",
          "model_name": "LayoutModel",
          "model_module_version": "1.2.0",
          "state": {
            "_model_module": "@jupyter-widgets/base",
            "_model_module_version": "1.2.0",
            "_model_name": "LayoutModel",
            "_view_count": null,
            "_view_module": "@jupyter-widgets/base",
            "_view_module_version": "1.2.0",
            "_view_name": "LayoutView",
            "align_content": null,
            "align_items": null,
            "align_self": null,
            "border": null,
            "bottom": null,
            "display": null,
            "flex": null,
            "flex_flow": null,
            "grid_area": null,
            "grid_auto_columns": null,
            "grid_auto_flow": null,
            "grid_auto_rows": null,
            "grid_column": null,
            "grid_gap": null,
            "grid_row": null,
            "grid_template_areas": null,
            "grid_template_columns": null,
            "grid_template_rows": null,
            "height": null,
            "justify_content": null,
            "justify_items": null,
            "left": null,
            "margin": null,
            "max_height": null,
            "max_width": null,
            "min_height": null,
            "min_width": null,
            "object_fit": null,
            "object_position": null,
            "order": null,
            "overflow": null,
            "overflow_x": null,
            "overflow_y": null,
            "padding": null,
            "right": null,
            "top": null,
            "visibility": null,
            "width": null
          }
        },
        "b4f8d8ad96f54bf0a683db408e8a9e68": {
          "model_module": "@jupyter-widgets/controls",
          "model_name": "DescriptionStyleModel",
          "model_module_version": "1.5.0",
          "state": {
            "_model_module": "@jupyter-widgets/controls",
            "_model_module_version": "1.5.0",
            "_model_name": "DescriptionStyleModel",
            "_view_count": null,
            "_view_module": "@jupyter-widgets/base",
            "_view_module_version": "1.2.0",
            "_view_name": "StyleView",
            "description_width": ""
          }
        },
        "0a033b3e7b6b4727821cdd1c8809a44a": {
          "model_module": "@jupyter-widgets/base",
          "model_name": "LayoutModel",
          "model_module_version": "1.2.0",
          "state": {
            "_model_module": "@jupyter-widgets/base",
            "_model_module_version": "1.2.0",
            "_model_name": "LayoutModel",
            "_view_count": null,
            "_view_module": "@jupyter-widgets/base",
            "_view_module_version": "1.2.0",
            "_view_name": "LayoutView",
            "align_content": null,
            "align_items": null,
            "align_self": null,
            "border": null,
            "bottom": null,
            "display": null,
            "flex": null,
            "flex_flow": null,
            "grid_area": null,
            "grid_auto_columns": null,
            "grid_auto_flow": null,
            "grid_auto_rows": null,
            "grid_column": null,
            "grid_gap": null,
            "grid_row": null,
            "grid_template_areas": null,
            "grid_template_columns": null,
            "grid_template_rows": null,
            "height": null,
            "justify_content": null,
            "justify_items": null,
            "left": null,
            "margin": null,
            "max_height": null,
            "max_width": null,
            "min_height": null,
            "min_width": null,
            "object_fit": null,
            "object_position": null,
            "order": null,
            "overflow": null,
            "overflow_x": null,
            "overflow_y": null,
            "padding": null,
            "right": null,
            "top": null,
            "visibility": null,
            "width": null
          }
        },
        "7bec786b84f94dd29ed178c68979196e": {
          "model_module": "@jupyter-widgets/controls",
          "model_name": "ProgressStyleModel",
          "model_module_version": "1.5.0",
          "state": {
            "_model_module": "@jupyter-widgets/controls",
            "_model_module_version": "1.5.0",
            "_model_name": "ProgressStyleModel",
            "_view_count": null,
            "_view_module": "@jupyter-widgets/base",
            "_view_module_version": "1.2.0",
            "_view_name": "StyleView",
            "bar_color": null,
            "description_width": ""
          }
        },
        "d9faae671245447c9aa4ed8a767b0e77": {
          "model_module": "@jupyter-widgets/base",
          "model_name": "LayoutModel",
          "model_module_version": "1.2.0",
          "state": {
            "_model_module": "@jupyter-widgets/base",
            "_model_module_version": "1.2.0",
            "_model_name": "LayoutModel",
            "_view_count": null,
            "_view_module": "@jupyter-widgets/base",
            "_view_module_version": "1.2.0",
            "_view_name": "LayoutView",
            "align_content": null,
            "align_items": null,
            "align_self": null,
            "border": null,
            "bottom": null,
            "display": null,
            "flex": null,
            "flex_flow": null,
            "grid_area": null,
            "grid_auto_columns": null,
            "grid_auto_flow": null,
            "grid_auto_rows": null,
            "grid_column": null,
            "grid_gap": null,
            "grid_row": null,
            "grid_template_areas": null,
            "grid_template_columns": null,
            "grid_template_rows": null,
            "height": null,
            "justify_content": null,
            "justify_items": null,
            "left": null,
            "margin": null,
            "max_height": null,
            "max_width": null,
            "min_height": null,
            "min_width": null,
            "object_fit": null,
            "object_position": null,
            "order": null,
            "overflow": null,
            "overflow_x": null,
            "overflow_y": null,
            "padding": null,
            "right": null,
            "top": null,
            "visibility": null,
            "width": null
          }
        },
        "463b658f2b314117a22faabad0d0c68e": {
          "model_module": "@jupyter-widgets/controls",
          "model_name": "DescriptionStyleModel",
          "model_module_version": "1.5.0",
          "state": {
            "_model_module": "@jupyter-widgets/controls",
            "_model_module_version": "1.5.0",
            "_model_name": "DescriptionStyleModel",
            "_view_count": null,
            "_view_module": "@jupyter-widgets/base",
            "_view_module_version": "1.2.0",
            "_view_name": "StyleView",
            "description_width": ""
          }
        },
        "f4f823b1ad9b4126aeb1168698162d68": {
          "model_module": "@jupyter-widgets/controls",
          "model_name": "HBoxModel",
          "model_module_version": "1.5.0",
          "state": {
            "_dom_classes": [],
            "_model_module": "@jupyter-widgets/controls",
            "_model_module_version": "1.5.0",
            "_model_name": "HBoxModel",
            "_view_count": null,
            "_view_module": "@jupyter-widgets/controls",
            "_view_module_version": "1.5.0",
            "_view_name": "HBoxView",
            "box_style": "",
            "children": [
              "IPY_MODEL_8d7c6c7843e64cd3bffc8e330962ebd7",
              "IPY_MODEL_139df89287ed48208948e743fc585a93",
              "IPY_MODEL_18d6d4cee1ed4a078252c180a849e28d"
            ],
            "layout": "IPY_MODEL_17876d8086c44c4d9b030bebb1a55825"
          }
        },
        "8d7c6c7843e64cd3bffc8e330962ebd7": {
          "model_module": "@jupyter-widgets/controls",
          "model_name": "HTMLModel",
          "model_module_version": "1.5.0",
          "state": {
            "_dom_classes": [],
            "_model_module": "@jupyter-widgets/controls",
            "_model_module_version": "1.5.0",
            "_model_name": "HTMLModel",
            "_view_count": null,
            "_view_module": "@jupyter-widgets/controls",
            "_view_module_version": "1.5.0",
            "_view_name": "HTMLView",
            "description": "",
            "description_tooltip": null,
            "layout": "IPY_MODEL_54109db96ac8490ebafe23d21fcbbea8",
            "placeholder": "​",
            "style": "IPY_MODEL_bc1d5b6fca404ef5a8313a771afc3bbf",
            "value": "config.json: 100%"
          }
        },
        "139df89287ed48208948e743fc585a93": {
          "model_module": "@jupyter-widgets/controls",
          "model_name": "FloatProgressModel",
          "model_module_version": "1.5.0",
          "state": {
            "_dom_classes": [],
            "_model_module": "@jupyter-widgets/controls",
            "_model_module_version": "1.5.0",
            "_model_name": "FloatProgressModel",
            "_view_count": null,
            "_view_module": "@jupyter-widgets/controls",
            "_view_module_version": "1.5.0",
            "_view_name": "ProgressView",
            "bar_style": "success",
            "description": "",
            "description_tooltip": null,
            "layout": "IPY_MODEL_0b029a19fb044279aa64d6656f0ae616",
            "max": 570,
            "min": 0,
            "orientation": "horizontal",
            "style": "IPY_MODEL_f7146e34e295456ca1c995dc30388fb8",
            "value": 570
          }
        },
        "18d6d4cee1ed4a078252c180a849e28d": {
          "model_module": "@jupyter-widgets/controls",
          "model_name": "HTMLModel",
          "model_module_version": "1.5.0",
          "state": {
            "_dom_classes": [],
            "_model_module": "@jupyter-widgets/controls",
            "_model_module_version": "1.5.0",
            "_model_name": "HTMLModel",
            "_view_count": null,
            "_view_module": "@jupyter-widgets/controls",
            "_view_module_version": "1.5.0",
            "_view_name": "HTMLView",
            "description": "",
            "description_tooltip": null,
            "layout": "IPY_MODEL_8e188955e7dc41cc9e923911a47f950c",
            "placeholder": "​",
            "style": "IPY_MODEL_fc7b5dd4613b46738bf64c7322dd26d9",
            "value": " 570/570 [00:00&lt;00:00, 58.4kB/s]"
          }
        },
        "17876d8086c44c4d9b030bebb1a55825": {
          "model_module": "@jupyter-widgets/base",
          "model_name": "LayoutModel",
          "model_module_version": "1.2.0",
          "state": {
            "_model_module": "@jupyter-widgets/base",
            "_model_module_version": "1.2.0",
            "_model_name": "LayoutModel",
            "_view_count": null,
            "_view_module": "@jupyter-widgets/base",
            "_view_module_version": "1.2.0",
            "_view_name": "LayoutView",
            "align_content": null,
            "align_items": null,
            "align_self": null,
            "border": null,
            "bottom": null,
            "display": null,
            "flex": null,
            "flex_flow": null,
            "grid_area": null,
            "grid_auto_columns": null,
            "grid_auto_flow": null,
            "grid_auto_rows": null,
            "grid_column": null,
            "grid_gap": null,
            "grid_row": null,
            "grid_template_areas": null,
            "grid_template_columns": null,
            "grid_template_rows": null,
            "height": null,
            "justify_content": null,
            "justify_items": null,
            "left": null,
            "margin": null,
            "max_height": null,
            "max_width": null,
            "min_height": null,
            "min_width": null,
            "object_fit": null,
            "object_position": null,
            "order": null,
            "overflow": null,
            "overflow_x": null,
            "overflow_y": null,
            "padding": null,
            "right": null,
            "top": null,
            "visibility": null,
            "width": null
          }
        },
        "54109db96ac8490ebafe23d21fcbbea8": {
          "model_module": "@jupyter-widgets/base",
          "model_name": "LayoutModel",
          "model_module_version": "1.2.0",
          "state": {
            "_model_module": "@jupyter-widgets/base",
            "_model_module_version": "1.2.0",
            "_model_name": "LayoutModel",
            "_view_count": null,
            "_view_module": "@jupyter-widgets/base",
            "_view_module_version": "1.2.0",
            "_view_name": "LayoutView",
            "align_content": null,
            "align_items": null,
            "align_self": null,
            "border": null,
            "bottom": null,
            "display": null,
            "flex": null,
            "flex_flow": null,
            "grid_area": null,
            "grid_auto_columns": null,
            "grid_auto_flow": null,
            "grid_auto_rows": null,
            "grid_column": null,
            "grid_gap": null,
            "grid_row": null,
            "grid_template_areas": null,
            "grid_template_columns": null,
            "grid_template_rows": null,
            "height": null,
            "justify_content": null,
            "justify_items": null,
            "left": null,
            "margin": null,
            "max_height": null,
            "max_width": null,
            "min_height": null,
            "min_width": null,
            "object_fit": null,
            "object_position": null,
            "order": null,
            "overflow": null,
            "overflow_x": null,
            "overflow_y": null,
            "padding": null,
            "right": null,
            "top": null,
            "visibility": null,
            "width": null
          }
        },
        "bc1d5b6fca404ef5a8313a771afc3bbf": {
          "model_module": "@jupyter-widgets/controls",
          "model_name": "DescriptionStyleModel",
          "model_module_version": "1.5.0",
          "state": {
            "_model_module": "@jupyter-widgets/controls",
            "_model_module_version": "1.5.0",
            "_model_name": "DescriptionStyleModel",
            "_view_count": null,
            "_view_module": "@jupyter-widgets/base",
            "_view_module_version": "1.2.0",
            "_view_name": "StyleView",
            "description_width": ""
          }
        },
        "0b029a19fb044279aa64d6656f0ae616": {
          "model_module": "@jupyter-widgets/base",
          "model_name": "LayoutModel",
          "model_module_version": "1.2.0",
          "state": {
            "_model_module": "@jupyter-widgets/base",
            "_model_module_version": "1.2.0",
            "_model_name": "LayoutModel",
            "_view_count": null,
            "_view_module": "@jupyter-widgets/base",
            "_view_module_version": "1.2.0",
            "_view_name": "LayoutView",
            "align_content": null,
            "align_items": null,
            "align_self": null,
            "border": null,
            "bottom": null,
            "display": null,
            "flex": null,
            "flex_flow": null,
            "grid_area": null,
            "grid_auto_columns": null,
            "grid_auto_flow": null,
            "grid_auto_rows": null,
            "grid_column": null,
            "grid_gap": null,
            "grid_row": null,
            "grid_template_areas": null,
            "grid_template_columns": null,
            "grid_template_rows": null,
            "height": null,
            "justify_content": null,
            "justify_items": null,
            "left": null,
            "margin": null,
            "max_height": null,
            "max_width": null,
            "min_height": null,
            "min_width": null,
            "object_fit": null,
            "object_position": null,
            "order": null,
            "overflow": null,
            "overflow_x": null,
            "overflow_y": null,
            "padding": null,
            "right": null,
            "top": null,
            "visibility": null,
            "width": null
          }
        },
        "f7146e34e295456ca1c995dc30388fb8": {
          "model_module": "@jupyter-widgets/controls",
          "model_name": "ProgressStyleModel",
          "model_module_version": "1.5.0",
          "state": {
            "_model_module": "@jupyter-widgets/controls",
            "_model_module_version": "1.5.0",
            "_model_name": "ProgressStyleModel",
            "_view_count": null,
            "_view_module": "@jupyter-widgets/base",
            "_view_module_version": "1.2.0",
            "_view_name": "StyleView",
            "bar_color": null,
            "description_width": ""
          }
        },
        "8e188955e7dc41cc9e923911a47f950c": {
          "model_module": "@jupyter-widgets/base",
          "model_name": "LayoutModel",
          "model_module_version": "1.2.0",
          "state": {
            "_model_module": "@jupyter-widgets/base",
            "_model_module_version": "1.2.0",
            "_model_name": "LayoutModel",
            "_view_count": null,
            "_view_module": "@jupyter-widgets/base",
            "_view_module_version": "1.2.0",
            "_view_name": "LayoutView",
            "align_content": null,
            "align_items": null,
            "align_self": null,
            "border": null,
            "bottom": null,
            "display": null,
            "flex": null,
            "flex_flow": null,
            "grid_area": null,
            "grid_auto_columns": null,
            "grid_auto_flow": null,
            "grid_auto_rows": null,
            "grid_column": null,
            "grid_gap": null,
            "grid_row": null,
            "grid_template_areas": null,
            "grid_template_columns": null,
            "grid_template_rows": null,
            "height": null,
            "justify_content": null,
            "justify_items": null,
            "left": null,
            "margin": null,
            "max_height": null,
            "max_width": null,
            "min_height": null,
            "min_width": null,
            "object_fit": null,
            "object_position": null,
            "order": null,
            "overflow": null,
            "overflow_x": null,
            "overflow_y": null,
            "padding": null,
            "right": null,
            "top": null,
            "visibility": null,
            "width": null
          }
        },
        "fc7b5dd4613b46738bf64c7322dd26d9": {
          "model_module": "@jupyter-widgets/controls",
          "model_name": "DescriptionStyleModel",
          "model_module_version": "1.5.0",
          "state": {
            "_model_module": "@jupyter-widgets/controls",
            "_model_module_version": "1.5.0",
            "_model_name": "DescriptionStyleModel",
            "_view_count": null,
            "_view_module": "@jupyter-widgets/base",
            "_view_module_version": "1.2.0",
            "_view_name": "StyleView",
            "description_width": ""
          }
        },
        "75d0f7d8a50d4149a87334e33f18a19d": {
          "model_module": "@jupyter-widgets/controls",
          "model_name": "HBoxModel",
          "model_module_version": "1.5.0",
          "state": {
            "_dom_classes": [],
            "_model_module": "@jupyter-widgets/controls",
            "_model_module_version": "1.5.0",
            "_model_name": "HBoxModel",
            "_view_count": null,
            "_view_module": "@jupyter-widgets/controls",
            "_view_module_version": "1.5.0",
            "_view_name": "HBoxView",
            "box_style": "",
            "children": [
              "IPY_MODEL_c1ff9167152c41aa9147a7b227f89fea",
              "IPY_MODEL_86bb480e48d040389b4136239354deb2",
              "IPY_MODEL_1b69fe4cb3694108aebced297b50cc9b"
            ],
            "layout": "IPY_MODEL_af44a769b90d4549bffcdc2601084c98"
          }
        },
        "c1ff9167152c41aa9147a7b227f89fea": {
          "model_module": "@jupyter-widgets/controls",
          "model_name": "HTMLModel",
          "model_module_version": "1.5.0",
          "state": {
            "_dom_classes": [],
            "_model_module": "@jupyter-widgets/controls",
            "_model_module_version": "1.5.0",
            "_model_name": "HTMLModel",
            "_view_count": null,
            "_view_module": "@jupyter-widgets/controls",
            "_view_module_version": "1.5.0",
            "_view_name": "HTMLView",
            "description": "",
            "description_tooltip": null,
            "layout": "IPY_MODEL_693ae84ba95d453cbd2afdffbb69a5be",
            "placeholder": "​",
            "style": "IPY_MODEL_8f4b8e36c11e45e195804ee95dcc9167",
            "value": "config.json: 100%"
          }
        },
        "86bb480e48d040389b4136239354deb2": {
          "model_module": "@jupyter-widgets/controls",
          "model_name": "FloatProgressModel",
          "model_module_version": "1.5.0",
          "state": {
            "_dom_classes": [],
            "_model_module": "@jupyter-widgets/controls",
            "_model_module_version": "1.5.0",
            "_model_name": "FloatProgressModel",
            "_view_count": null,
            "_view_module": "@jupyter-widgets/controls",
            "_view_module_version": "1.5.0",
            "_view_name": "ProgressView",
            "bar_style": "success",
            "description": "",
            "description_tooltip": null,
            "layout": "IPY_MODEL_4b3ee7ca04524db689f39a32eeec341e",
            "max": 464,
            "min": 0,
            "orientation": "horizontal",
            "style": "IPY_MODEL_d0dd0cbcd1704bb58a5e80facad752bb",
            "value": 464
          }
        },
        "1b69fe4cb3694108aebced297b50cc9b": {
          "model_module": "@jupyter-widgets/controls",
          "model_name": "HTMLModel",
          "model_module_version": "1.5.0",
          "state": {
            "_dom_classes": [],
            "_model_module": "@jupyter-widgets/controls",
            "_model_module_version": "1.5.0",
            "_model_name": "HTMLModel",
            "_view_count": null,
            "_view_module": "@jupyter-widgets/controls",
            "_view_module_version": "1.5.0",
            "_view_name": "HTMLView",
            "description": "",
            "description_tooltip": null,
            "layout": "IPY_MODEL_1aa207b854de49cc9e4e5fad3d495694",
            "placeholder": "​",
            "style": "IPY_MODEL_ee25cb516148457588b497ca1267ebed",
            "value": " 464/464 [00:00&lt;00:00, 50.6kB/s]"
          }
        },
        "af44a769b90d4549bffcdc2601084c98": {
          "model_module": "@jupyter-widgets/base",
          "model_name": "LayoutModel",
          "model_module_version": "1.2.0",
          "state": {
            "_model_module": "@jupyter-widgets/base",
            "_model_module_version": "1.2.0",
            "_model_name": "LayoutModel",
            "_view_count": null,
            "_view_module": "@jupyter-widgets/base",
            "_view_module_version": "1.2.0",
            "_view_name": "LayoutView",
            "align_content": null,
            "align_items": null,
            "align_self": null,
            "border": null,
            "bottom": null,
            "display": null,
            "flex": null,
            "flex_flow": null,
            "grid_area": null,
            "grid_auto_columns": null,
            "grid_auto_flow": null,
            "grid_auto_rows": null,
            "grid_column": null,
            "grid_gap": null,
            "grid_row": null,
            "grid_template_areas": null,
            "grid_template_columns": null,
            "grid_template_rows": null,
            "height": null,
            "justify_content": null,
            "justify_items": null,
            "left": null,
            "margin": null,
            "max_height": null,
            "max_width": null,
            "min_height": null,
            "min_width": null,
            "object_fit": null,
            "object_position": null,
            "order": null,
            "overflow": null,
            "overflow_x": null,
            "overflow_y": null,
            "padding": null,
            "right": null,
            "top": null,
            "visibility": null,
            "width": null
          }
        },
        "693ae84ba95d453cbd2afdffbb69a5be": {
          "model_module": "@jupyter-widgets/base",
          "model_name": "LayoutModel",
          "model_module_version": "1.2.0",
          "state": {
            "_model_module": "@jupyter-widgets/base",
            "_model_module_version": "1.2.0",
            "_model_name": "LayoutModel",
            "_view_count": null,
            "_view_module": "@jupyter-widgets/base",
            "_view_module_version": "1.2.0",
            "_view_name": "LayoutView",
            "align_content": null,
            "align_items": null,
            "align_self": null,
            "border": null,
            "bottom": null,
            "display": null,
            "flex": null,
            "flex_flow": null,
            "grid_area": null,
            "grid_auto_columns": null,
            "grid_auto_flow": null,
            "grid_auto_rows": null,
            "grid_column": null,
            "grid_gap": null,
            "grid_row": null,
            "grid_template_areas": null,
            "grid_template_columns": null,
            "grid_template_rows": null,
            "height": null,
            "justify_content": null,
            "justify_items": null,
            "left": null,
            "margin": null,
            "max_height": null,
            "max_width": null,
            "min_height": null,
            "min_width": null,
            "object_fit": null,
            "object_position": null,
            "order": null,
            "overflow": null,
            "overflow_x": null,
            "overflow_y": null,
            "padding": null,
            "right": null,
            "top": null,
            "visibility": null,
            "width": null
          }
        },
        "8f4b8e36c11e45e195804ee95dcc9167": {
          "model_module": "@jupyter-widgets/controls",
          "model_name": "DescriptionStyleModel",
          "model_module_version": "1.5.0",
          "state": {
            "_model_module": "@jupyter-widgets/controls",
            "_model_module_version": "1.5.0",
            "_model_name": "DescriptionStyleModel",
            "_view_count": null,
            "_view_module": "@jupyter-widgets/base",
            "_view_module_version": "1.2.0",
            "_view_name": "StyleView",
            "description_width": ""
          }
        },
        "4b3ee7ca04524db689f39a32eeec341e": {
          "model_module": "@jupyter-widgets/base",
          "model_name": "LayoutModel",
          "model_module_version": "1.2.0",
          "state": {
            "_model_module": "@jupyter-widgets/base",
            "_model_module_version": "1.2.0",
            "_model_name": "LayoutModel",
            "_view_count": null,
            "_view_module": "@jupyter-widgets/base",
            "_view_module_version": "1.2.0",
            "_view_name": "LayoutView",
            "align_content": null,
            "align_items": null,
            "align_self": null,
            "border": null,
            "bottom": null,
            "display": null,
            "flex": null,
            "flex_flow": null,
            "grid_area": null,
            "grid_auto_columns": null,
            "grid_auto_flow": null,
            "grid_auto_rows": null,
            "grid_column": null,
            "grid_gap": null,
            "grid_row": null,
            "grid_template_areas": null,
            "grid_template_columns": null,
            "grid_template_rows": null,
            "height": null,
            "justify_content": null,
            "justify_items": null,
            "left": null,
            "margin": null,
            "max_height": null,
            "max_width": null,
            "min_height": null,
            "min_width": null,
            "object_fit": null,
            "object_position": null,
            "order": null,
            "overflow": null,
            "overflow_x": null,
            "overflow_y": null,
            "padding": null,
            "right": null,
            "top": null,
            "visibility": null,
            "width": null
          }
        },
        "d0dd0cbcd1704bb58a5e80facad752bb": {
          "model_module": "@jupyter-widgets/controls",
          "model_name": "ProgressStyleModel",
          "model_module_version": "1.5.0",
          "state": {
            "_model_module": "@jupyter-widgets/controls",
            "_model_module_version": "1.5.0",
            "_model_name": "ProgressStyleModel",
            "_view_count": null,
            "_view_module": "@jupyter-widgets/base",
            "_view_module_version": "1.2.0",
            "_view_name": "StyleView",
            "bar_color": null,
            "description_width": ""
          }
        },
        "1aa207b854de49cc9e4e5fad3d495694": {
          "model_module": "@jupyter-widgets/base",
          "model_name": "LayoutModel",
          "model_module_version": "1.2.0",
          "state": {
            "_model_module": "@jupyter-widgets/base",
            "_model_module_version": "1.2.0",
            "_model_name": "LayoutModel",
            "_view_count": null,
            "_view_module": "@jupyter-widgets/base",
            "_view_module_version": "1.2.0",
            "_view_name": "LayoutView",
            "align_content": null,
            "align_items": null,
            "align_self": null,
            "border": null,
            "bottom": null,
            "display": null,
            "flex": null,
            "flex_flow": null,
            "grid_area": null,
            "grid_auto_columns": null,
            "grid_auto_flow": null,
            "grid_auto_rows": null,
            "grid_column": null,
            "grid_gap": null,
            "grid_row": null,
            "grid_template_areas": null,
            "grid_template_columns": null,
            "grid_template_rows": null,
            "height": null,
            "justify_content": null,
            "justify_items": null,
            "left": null,
            "margin": null,
            "max_height": null,
            "max_width": null,
            "min_height": null,
            "min_width": null,
            "object_fit": null,
            "object_position": null,
            "order": null,
            "overflow": null,
            "overflow_x": null,
            "overflow_y": null,
            "padding": null,
            "right": null,
            "top": null,
            "visibility": null,
            "width": null
          }
        },
        "ee25cb516148457588b497ca1267ebed": {
          "model_module": "@jupyter-widgets/controls",
          "model_name": "DescriptionStyleModel",
          "model_module_version": "1.5.0",
          "state": {
            "_model_module": "@jupyter-widgets/controls",
            "_model_module_version": "1.5.0",
            "_model_name": "DescriptionStyleModel",
            "_view_count": null,
            "_view_module": "@jupyter-widgets/base",
            "_view_module_version": "1.2.0",
            "_view_name": "StyleView",
            "description_width": ""
          }
        }
      }
    }
  },
  "nbformat": 4,
  "nbformat_minor": 0
}