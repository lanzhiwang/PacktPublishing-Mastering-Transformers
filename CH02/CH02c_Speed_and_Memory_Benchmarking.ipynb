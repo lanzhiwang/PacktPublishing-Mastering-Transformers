{
  "cells": [
    {
      "cell_type": "markdown",
      "metadata": {
        "id": "1JxmBoIKCg7v"
      },
      "source": [
        "# Speed and Memory Bencmarking"
      ]
    },
    {
      "cell_type": "markdown",
      "metadata": {
        "id": "UKneYJDbpiHC"
      },
      "source": [
        "Just comparing language models on their performance on a specific task or a benchmark turns out to be no longer sufficient. We now must take care of the computational cost of a particular model for a given environment (RAM, CPU, GPU, TPU) in terms of memory usage and the speed. The computational cost of training and deploying to production for inference are two main values to be measured. Two classes of transformers libary, `PyTorchBenchmark` and `TensorFlowBenchmark`, make it possible to benchmark models for both TensorFlow and PyTorch.\n",
        "\n",
        "仅仅比较语言模型在特定任务或基准测试中的性能是不够的. 我们现在必须考虑特定模型在给定环境下(RAM、CPU、GPU、TPU)内存使用和速度方面的计算成本. 训练和部署到生产中进行推理的计算成本是需要测量的两个主要值. transformers 库的两个类 PyTorchBenchmark 和 TensorFlowBenchmark 使得对 TensorFlow 和 PyTorch 的模型进行基准测试成为可能."
      ]
    },
    {
      "cell_type": "code",
      "execution_count": 1,
      "metadata": {
        "colab": {
          "base_uri": "https://localhost:8080/"
        },
        "id": "KMh8r2ofLq1X",
        "outputId": "fd702134-d844-45bb-c43f-0c7f0341d040"
      },
      "outputs": [
        {
          "output_type": "stream",
          "name": "stdout",
          "text": [
            "Wed Feb 26 02:42:47 2025       \n",
            "+-----------------------------------------------------------------------------------------+\n",
            "| NVIDIA-SMI 550.54.15              Driver Version: 550.54.15      CUDA Version: 12.4     |\n",
            "|-----------------------------------------+------------------------+----------------------+\n",
            "| GPU  Name                 Persistence-M | Bus-Id          Disp.A | Volatile Uncorr. ECC |\n",
            "| Fan  Temp   Perf          Pwr:Usage/Cap |           Memory-Usage | GPU-Util  Compute M. |\n",
            "|                                         |                        |               MIG M. |\n",
            "|=========================================+========================+======================|\n",
            "|   0  Tesla T4                       Off |   00000000:00:04.0 Off |                    0 |\n",
            "| N/A   50C    P8             12W /   70W |       0MiB /  15360MiB |      0%      Default |\n",
            "|                                         |                        |                  N/A |\n",
            "+-----------------------------------------+------------------------+----------------------+\n",
            "                                                                                         \n",
            "+-----------------------------------------------------------------------------------------+\n",
            "| Processes:                                                                              |\n",
            "|  GPU   GI   CI        PID   Type   Process name                              GPU Memory |\n",
            "|        ID   ID                                                               Usage      |\n",
            "|=========================================================================================|\n",
            "|  No running processes found                                                             |\n",
            "+-----------------------------------------------------------------------------------------+\n"
          ]
        }
      ],
      "source": [
        "!nvidia-smi"
      ]
    },
    {
      "cell_type": "code",
      "execution_count": 2,
      "metadata": {
        "colab": {
          "base_uri": "https://localhost:8080/"
        },
        "id": "WhDEDgtofPKl",
        "outputId": "04b9d76b-adc3-4b8c-eafe-ab5af6be2efb"
      },
      "outputs": [
        {
          "output_type": "stream",
          "name": "stdout",
          "text": [
            "The GPU total memory is 14.74127197265625 GB\n"
          ]
        }
      ],
      "source": [
        "import torch\n",
        "\n",
        "print(\n",
        "    f\"The GPU total memory is {torch.cuda.get_device_properties(0).total_memory /(1024**3)} GB\"\n",
        ")"
      ]
    },
    {
      "cell_type": "code",
      "execution_count": null,
      "metadata": {
        "id": "ezQcxnktCl_2"
      },
      "outputs": [],
      "source": [
        "!pip install -r requirements.txt"
      ]
    },
    {
      "cell_type": "code",
      "execution_count": 8,
      "metadata": {
        "colab": {
          "base_uri": "https://localhost:8080/"
        },
        "id": "t9RXTKUpCmCZ",
        "outputId": "771497c7-0e4b-476b-b685-b0e4cb116261"
      },
      "outputs": [
        {
          "output_type": "stream",
          "name": "stdout",
          "text": [
            "args: PyTorchBenchmarkArguments(models=['distilbert-base-uncased', 'distilroberta-base', 'albert-base-v2'], batch_sizes=[16], sequence_lengths=[64, 128, 256, 512], inference=True, cuda=True, tpu=True, fp16=False, training=False, verbose=False, speed=True, memory=True, trace_memory_line_by_line=False, save_to_csv=False, log_print=False, env_print=False, multi_process=True, inference_time_csv_file='inference_time_1740537837.csv', inference_memory_csv_file='inference_memory_1740537837.csv', train_time_csv_file='train_time_1740537837.csv', train_memory_csv_file='train_memory_1740537837.csv', env_info_csv_file='env_info_1740537837.csv', log_filename='log_1740537837.csv', repeat=3, only_pretrain_model=False, torchscript=False, torch_xla_tpu_print_metrics=False, fp16_opt_level='O1')\n",
            "args: cuda\n",
            "args: 0\n",
            "args: True\n",
            "args: False\n",
            "args: 1\n",
            "benchmark: <transformers.benchmark.benchmark.PyTorchBenchmark object at 0x7d5700713650>\n"
          ]
        }
      ],
      "source": [
        "from transformers import PyTorchBenchmark, PyTorchBenchmarkArguments\n",
        "\n",
        "models = [\"distilbert-base-uncased\", \"distilroberta-base\", \"albert-base-v2\"]\n",
        "batch_sizes = [16]\n",
        "sequence_lengths = [64, 128, 256, 512]\n",
        "\n",
        "# help(PyTorchBenchmarkArguments)\n",
        "args = PyTorchBenchmarkArguments(\n",
        "    models=models, batch_sizes=batch_sizes, sequence_lengths=sequence_lengths\n",
        ")\n",
        "# args = PyTorchBenchmarkArguments(\n",
        "#     models=models, batch_sizes=batch_sizes, sequence_lengths=sequence_lengths, cuda=False, tpu=False\n",
        "# )\n",
        "print(\"args:\", args)\n",
        "print(\"args:\", args.device)\n",
        "print(\"args:\", args.device_idx)\n",
        "print(\"args:\", args.is_gpu)\n",
        "print(\"args:\", args.is_tpu)\n",
        "print(\"args:\", args.n_gpu)\n",
        "\n",
        "benchmark = PyTorchBenchmark(args)\n",
        "print(\"benchmark:\", benchmark)"
      ]
    },
    {
      "cell_type": "code",
      "execution_count": 9,
      "metadata": {
        "id": "i9EjBL2XQ-04",
        "colab": {
          "base_uri": "https://localhost:8080/",
          "height": 137,
          "referenced_widgets": [
            "3a9fe2020ca643bf847963c30dfecf4f",
            "5c22812ee76d4fe7909627820ed6769d",
            "74b3ea0c9b7c4379adb5c1922253cd04",
            "d75152eb42104607b52fc6ac9af7a8ac",
            "8721eb16e769495f99b93bea9008fe1c",
            "5999cec2b1214ae6b82538e0577ef174",
            "45f8502b032145dd9d4a4d7e52c87c31",
            "07f869a8b7e4413ba8679b0a583bd589",
            "6c06e429fbc54044b718b82810eba43e",
            "a3e3f0dd4567452e8205d15281d321c2",
            "bd246574e1954dd38146fc0c896e0dab",
            "446cf4d02bb843b9aefb5eb8219df48d",
            "f64f886e0c7d486e8d615dae8d51fb2a",
            "0794dbcca8c44134b669a4c352f12ae5",
            "208cdd9a5588476fa74fd0783a4a8587",
            "df9e0f1960e04c2c834cc9fd6e0964ef",
            "d75967c7cc2d47a080d43d2e24b98da5",
            "6297eac89fd54b81b486c27317c4eb86",
            "bd53a115035a4739bd283c36611a3ac1",
            "cf4e6458b41641e483b68c07e52f7b22",
            "13d00c7cc47840c8b03af21677df015d",
            "1f791e9e59114fc895557a9e1a36ab9b"
          ]
        },
        "outputId": "43922283-aacc-4f40-ed05-1fe3ec899e29"
      },
      "outputs": [
        {
          "output_type": "stream",
          "name": "stdout",
          "text": [
            "args: PyTorchBenchmarkArguments(models=['bert-base-uncased', 'distilbert-base-uncased', 'distilroberta-base', 'distilbert-base-german-cased'], batch_sizes=[4], sequence_lengths=[32, 64, 128, 256, 512], inference=True, cuda=True, tpu=True, fp16=False, training=False, verbose=False, speed=True, memory=True, trace_memory_line_by_line=False, save_to_csv=False, log_print=False, env_print=False, multi_process=False, inference_time_csv_file='inference_time_1740537837.csv', inference_memory_csv_file='inference_memory_1740537837.csv', train_time_csv_file='train_time_1740537837.csv', train_memory_csv_file='train_memory_1740537837.csv', env_info_csv_file='env_info_1740537837.csv', log_filename='log_1740537837.csv', repeat=3, only_pretrain_model=False, torchscript=False, torch_xla_tpu_print_metrics=False, fp16_opt_level='O1')\n"
          ]
        },
        {
          "output_type": "display_data",
          "data": {
            "text/plain": [
              "config.json:   0%|          | 0.00/570 [00:00<?, ?B/s]"
            ],
            "application/vnd.jupyter.widget-view+json": {
              "version_major": 2,
              "version_minor": 0,
              "model_id": "3a9fe2020ca643bf847963c30dfecf4f"
            }
          },
          "metadata": {}
        },
        {
          "output_type": "display_data",
          "data": {
            "text/plain": [
              "config.json:   0%|          | 0.00/464 [00:00<?, ?B/s]"
            ],
            "application/vnd.jupyter.widget-view+json": {
              "version_major": 2,
              "version_minor": 0,
              "model_id": "446cf4d02bb843b9aefb5eb8219df48d"
            }
          },
          "metadata": {}
        },
        {
          "output_type": "stream",
          "name": "stdout",
          "text": [
            "benchmark: <transformers.benchmark.benchmark.PyTorchBenchmark object at 0x7d570e274090>\n"
          ]
        }
      ],
      "source": [
        "from transformers import PyTorchBenchmark, PyTorchBenchmarkArguments\n",
        "\n",
        "models = [\n",
        "    \"bert-base-uncased\",\n",
        "    \"distilbert-base-uncased\",\n",
        "    \"distilroberta-base\",\n",
        "    \"distilbert-base-german-cased\",\n",
        "]\n",
        "batch_sizes = [4]\n",
        "sequence_lengths = [32, 64, 128, 256, 512]\n",
        "args = PyTorchBenchmarkArguments(\n",
        "    models=models,\n",
        "    batch_sizes=batch_sizes,\n",
        "    sequence_lengths=sequence_lengths,\n",
        "    multi_process=False,\n",
        ")\n",
        "print(\"args:\", args)\n",
        "\n",
        "benchmark = PyTorchBenchmark(args)\n",
        "print(\"benchmark:\", benchmark)"
      ]
    },
    {
      "cell_type": "code",
      "execution_count": 11,
      "metadata": {
        "colab": {
          "base_uri": "https://localhost:8080/"
        },
        "id": "gIwPFXHBMhRy",
        "outputId": "a6ed12df-b766-463a-9a05-6e70f655b66c"
      },
      "outputs": [
        {
          "output_type": "stream",
          "name": "stdout",
          "text": [
            "1 / 4\n",
            "2 / 4\n",
            "3 / 4\n",
            "4 / 4\n",
            "\n",
            "====================       INFERENCE - SPEED - RESULT       ====================\n",
            "--------------------------------------------------------------------------------\n",
            "          Model Name             Batch Size     Seq Length     Time in s   \n",
            "--------------------------------------------------------------------------------\n",
            "      bert-base-uncased              4               32            0.011     \n",
            "      bert-base-uncased              4               64             0.02     \n",
            "      bert-base-uncased              4              128            0.038     \n",
            "      bert-base-uncased              4              256             0.07     \n",
            "      bert-base-uncased              4              512            0.148     \n",
            "   distilbert-base-uncased           4               32            0.007     \n",
            "   distilbert-base-uncased           4               64            0.012     \n",
            "   distilbert-base-uncased           4              128            0.023     \n",
            "   distilbert-base-uncased           4              256            0.044     \n",
            "   distilbert-base-uncased           4              512            0.089     \n",
            "      distilroberta-base             4               32            0.008     \n",
            "      distilroberta-base             4               64            0.015     \n",
            "      distilroberta-base             4              128            0.028     \n",
            "      distilroberta-base             4              256            0.053     \n",
            "      distilroberta-base             4              512            0.111     \n",
            " distilbert-base-german-cased        4               32            0.008     \n",
            " distilbert-base-german-cased        4               64            0.013     \n",
            " distilbert-base-german-cased        4              128            0.025     \n",
            " distilbert-base-german-cased        4              256            0.047     \n",
            " distilbert-base-german-cased        4              512            0.096     \n",
            "--------------------------------------------------------------------------------\n",
            "\n",
            "====================      INFERENCE - MEMORY - RESULT       ====================\n",
            "--------------------------------------------------------------------------------\n",
            "          Model Name             Batch Size     Seq Length    Memory in MB \n",
            "--------------------------------------------------------------------------------\n",
            "      bert-base-uncased              4               32             1929     \n",
            "      bert-base-uncased              4               64             1929     \n",
            "      bert-base-uncased              4              128             1929     \n",
            "      bert-base-uncased              4              256             1929     \n",
            "      bert-base-uncased              4              512             1929     \n",
            "   distilbert-base-uncased           4               32             1929     \n",
            "   distilbert-base-uncased           4               64             1929     \n",
            "   distilbert-base-uncased           4              128             1929     \n",
            "   distilbert-base-uncased           4              256             1929     \n",
            "   distilbert-base-uncased           4              512             1929     \n",
            "      distilroberta-base             4               32             1929     \n",
            "      distilroberta-base             4               64             1929     \n",
            "      distilroberta-base             4              128             1929     \n",
            "      distilroberta-base             4              256             1929     \n",
            "      distilroberta-base             4              512             1929     \n",
            " distilbert-base-german-cased        4               32             1929     \n",
            " distilbert-base-german-cased        4               64             1929     \n",
            " distilbert-base-german-cased        4              128             1929     \n",
            " distilbert-base-german-cased        4              256             1929     \n",
            " distilbert-base-german-cased        4              512             1929     \n",
            "--------------------------------------------------------------------------------\n"
          ]
        },
        {
          "output_type": "execute_result",
          "data": {
            "text/plain": [
              "BenchmarkOutput(time_inference_result={'bert-base-uncased': {'bs': [4], 'ss': [32, 64, 128, 256, 512], 'result': {4: {32: 0.011005842399993072, 64: 0.019692579800005206, 128: 0.037999135000006845, 256: 0.07035922530000108, 512: 0.1476018389000046}}}, 'distilbert-base-uncased': {'bs': [4], 'ss': [32, 64, 128, 256, 512], 'result': {4: {32: 0.0068811151999966565, 64: 0.011984029500001724, 128: 0.022662802899992583, 256: 0.04362075650000179, 512: 0.08917616989999715}}}, 'distilroberta-base': {'bs': [4], 'ss': [32, 64, 128, 256, 512], 'result': {4: {32: 0.007792756599997119, 64: 0.014703578700004983, 128: 0.028341755700000703, 256: 0.05273149709998961, 512: 0.11080991750000066}}}, 'distilbert-base-german-cased': {'bs': [4], 'ss': [32, 64, 128, 256, 512], 'result': {4: {32: 0.00805381689999649, 64: 0.013401127200006612, 128: 0.02526990860000069, 256: 0.046605529399994336, 512: 0.09568451379999487}}}}, memory_inference_result={'bert-base-uncased': {'bs': [4], 'ss': [32, 64, 128, 256, 512], 'result': {4: {32: 1929, 64: 1929, 128: 1929, 256: 1929, 512: 1929}}}, 'distilbert-base-uncased': {'bs': [4], 'ss': [32, 64, 128, 256, 512], 'result': {4: {32: 1929, 64: 1929, 128: 1929, 256: 1929, 512: 1929}}}, 'distilroberta-base': {'bs': [4], 'ss': [32, 64, 128, 256, 512], 'result': {4: {32: 1929, 64: 1929, 128: 1929, 256: 1929, 512: 1929}}}, 'distilbert-base-german-cased': {'bs': [4], 'ss': [32, 64, 128, 256, 512], 'result': {4: {32: 1929, 64: 1929, 128: 1929, 256: 1929, 512: 1929}}}}, time_train_result={'bert-base-uncased': {'bs': [4], 'ss': [32, 64, 128, 256, 512], 'result': {4: {}}}, 'distilbert-base-uncased': {'bs': [4], 'ss': [32, 64, 128, 256, 512], 'result': {4: {}}}, 'distilroberta-base': {'bs': [4], 'ss': [32, 64, 128, 256, 512], 'result': {4: {}}}, 'distilbert-base-german-cased': {'bs': [4], 'ss': [32, 64, 128, 256, 512], 'result': {4: {}}}}, memory_train_result={'bert-base-uncased': {'bs': [4], 'ss': [32, 64, 128, 256, 512], 'result': {4: {}}}, 'distilbert-base-uncased': {'bs': [4], 'ss': [32, 64, 128, 256, 512], 'result': {4: {}}}, 'distilroberta-base': {'bs': [4], 'ss': [32, 64, 128, 256, 512], 'result': {4: {}}}, 'distilbert-base-german-cased': {'bs': [4], 'ss': [32, 64, 128, 256, 512], 'result': {4: {}}}}, inference_summary=None, train_summary=None)"
            ]
          },
          "metadata": {},
          "execution_count": 11
        }
      ],
      "source": [
        "# it takes time depending on your  CPU/GPU capacity and selection\n",
        "results = benchmark.run()\n",
        "results"
      ]
    },
    {
      "cell_type": "code",
      "execution_count": 13,
      "metadata": {
        "colab": {
          "base_uri": "https://localhost:8080/"
        },
        "id": "yYkq86msIjTx",
        "outputId": "3bbd3a35-2a09-4892-f8e9-deaf1d0536c5"
      },
      "outputs": [
        {
          "output_type": "execute_result",
          "data": {
            "text/plain": [
              "BenchmarkOutput(time_inference_result={'bert-base-uncased': {'bs': [4], 'ss': [32, 64, 128, 256, 512], 'result': {4: {32: 0.011005842399993072, 64: 0.019692579800005206, 128: 0.037999135000006845, 256: 0.07035922530000108, 512: 0.1476018389000046}}}, 'distilbert-base-uncased': {'bs': [4], 'ss': [32, 64, 128, 256, 512], 'result': {4: {32: 0.0068811151999966565, 64: 0.011984029500001724, 128: 0.022662802899992583, 256: 0.04362075650000179, 512: 0.08917616989999715}}}, 'distilroberta-base': {'bs': [4], 'ss': [32, 64, 128, 256, 512], 'result': {4: {32: 0.007792756599997119, 64: 0.014703578700004983, 128: 0.028341755700000703, 256: 0.05273149709998961, 512: 0.11080991750000066}}}, 'distilbert-base-german-cased': {'bs': [4], 'ss': [32, 64, 128, 256, 512], 'result': {4: {32: 0.00805381689999649, 64: 0.013401127200006612, 128: 0.02526990860000069, 256: 0.046605529399994336, 512: 0.09568451379999487}}}}, memory_inference_result={'bert-base-uncased': {'bs': [4], 'ss': [32, 64, 128, 256, 512], 'result': {4: {32: 1929, 64: 1929, 128: 1929, 256: 1929, 512: 1929}}}, 'distilbert-base-uncased': {'bs': [4], 'ss': [32, 64, 128, 256, 512], 'result': {4: {32: 1929, 64: 1929, 128: 1929, 256: 1929, 512: 1929}}}, 'distilroberta-base': {'bs': [4], 'ss': [32, 64, 128, 256, 512], 'result': {4: {32: 1929, 64: 1929, 128: 1929, 256: 1929, 512: 1929}}}, 'distilbert-base-german-cased': {'bs': [4], 'ss': [32, 64, 128, 256, 512], 'result': {4: {32: 1929, 64: 1929, 128: 1929, 256: 1929, 512: 1929}}}}, time_train_result={'bert-base-uncased': {'bs': [4], 'ss': [32, 64, 128, 256, 512], 'result': {4: {}}}, 'distilbert-base-uncased': {'bs': [4], 'ss': [32, 64, 128, 256, 512], 'result': {4: {}}}, 'distilroberta-base': {'bs': [4], 'ss': [32, 64, 128, 256, 512], 'result': {4: {}}}, 'distilbert-base-german-cased': {'bs': [4], 'ss': [32, 64, 128, 256, 512], 'result': {4: {}}}}, memory_train_result={'bert-base-uncased': {'bs': [4], 'ss': [32, 64, 128, 256, 512], 'result': {4: {}}}, 'distilbert-base-uncased': {'bs': [4], 'ss': [32, 64, 128, 256, 512], 'result': {4: {}}}, 'distilroberta-base': {'bs': [4], 'ss': [32, 64, 128, 256, 512], 'result': {4: {}}}, 'distilbert-base-german-cased': {'bs': [4], 'ss': [32, 64, 128, 256, 512], 'result': {4: {}}}}, inference_summary=None, train_summary=None)"
            ]
          },
          "metadata": {},
          "execution_count": 13
        }
      ],
      "source": [
        "results"
      ]
    },
    {
      "cell_type": "code",
      "execution_count": 14,
      "metadata": {
        "colab": {
          "base_uri": "https://localhost:8080/"
        },
        "id": "1YNKktcYIjTx",
        "outputId": "de649820-f7e0-487a-a753-f57bde04d4df"
      },
      "outputs": [
        {
          "output_type": "execute_result",
          "data": {
            "text/plain": [
              "{'bert-base-uncased': {'bs': [4],\n",
              "  'ss': [32, 64, 128, 256, 512],\n",
              "  'result': {4: {32: 0.011005842399993072,\n",
              "    64: 0.019692579800005206,\n",
              "    128: 0.037999135000006845,\n",
              "    256: 0.07035922530000108,\n",
              "    512: 0.1476018389000046}}},\n",
              " 'distilbert-base-uncased': {'bs': [4],\n",
              "  'ss': [32, 64, 128, 256, 512],\n",
              "  'result': {4: {32: 0.0068811151999966565,\n",
              "    64: 0.011984029500001724,\n",
              "    128: 0.022662802899992583,\n",
              "    256: 0.04362075650000179,\n",
              "    512: 0.08917616989999715}}},\n",
              " 'distilroberta-base': {'bs': [4],\n",
              "  'ss': [32, 64, 128, 256, 512],\n",
              "  'result': {4: {32: 0.007792756599997119,\n",
              "    64: 0.014703578700004983,\n",
              "    128: 0.028341755700000703,\n",
              "    256: 0.05273149709998961,\n",
              "    512: 0.11080991750000066}}},\n",
              " 'distilbert-base-german-cased': {'bs': [4],\n",
              "  'ss': [32, 64, 128, 256, 512],\n",
              "  'result': {4: {32: 0.00805381689999649,\n",
              "    64: 0.013401127200006612,\n",
              "    128: 0.02526990860000069,\n",
              "    256: 0.046605529399994336,\n",
              "    512: 0.09568451379999487}}}}"
            ]
          },
          "metadata": {},
          "execution_count": 14
        }
      ],
      "source": [
        "results.time_inference_result"
      ]
    },
    {
      "cell_type": "code",
      "execution_count": 15,
      "metadata": {
        "colab": {
          "base_uri": "https://localhost:8080/"
        },
        "id": "QIq1b7YGIjTy",
        "outputId": "2e092877-efa3-4352-c563-499eb447847c"
      },
      "outputs": [
        {
          "output_type": "execute_result",
          "data": {
            "text/plain": [
              "{'bs': [4],\n",
              " 'ss': [32, 64, 128, 256, 512],\n",
              " 'result': {4: {32: 0.011005842399993072,\n",
              "   64: 0.019692579800005206,\n",
              "   128: 0.037999135000006845,\n",
              "   256: 0.07035922530000108,\n",
              "   512: 0.1476018389000046}}}"
            ]
          },
          "metadata": {},
          "execution_count": 15
        }
      ],
      "source": [
        "results.time_inference_result[\"bert-base-uncased\"]"
      ]
    },
    {
      "cell_type": "code",
      "execution_count": 16,
      "metadata": {
        "colab": {
          "base_uri": "https://localhost:8080/"
        },
        "id": "MPtxZpS6IjTy",
        "outputId": "aae89680-4c35-41f3-da1f-55669f07d03c"
      },
      "outputs": [
        {
          "output_type": "execute_result",
          "data": {
            "text/plain": [
              "{4: {32: 0.011005842399993072,\n",
              "  64: 0.019692579800005206,\n",
              "  128: 0.037999135000006845,\n",
              "  256: 0.07035922530000108,\n",
              "  512: 0.1476018389000046}}"
            ]
          },
          "metadata": {},
          "execution_count": 16
        }
      ],
      "source": [
        "results.time_inference_result[\"bert-base-uncased\"][\"result\"]"
      ]
    },
    {
      "cell_type": "code",
      "execution_count": 17,
      "metadata": {
        "colab": {
          "base_uri": "https://localhost:8080/"
        },
        "id": "gj-IbgxQIjTy",
        "outputId": "39015e18-823f-41f3-b02f-7a648c96edd8"
      },
      "outputs": [
        {
          "output_type": "execute_result",
          "data": {
            "text/plain": [
              "{32: 0.011005842399993072,\n",
              " 64: 0.019692579800005206,\n",
              " 128: 0.037999135000006845,\n",
              " 256: 0.07035922530000108,\n",
              " 512: 0.1476018389000046}"
            ]
          },
          "metadata": {},
          "execution_count": 17
        }
      ],
      "source": [
        "results.time_inference_result[\"bert-base-uncased\"][\"result\"][4]"
      ]
    },
    {
      "cell_type": "code",
      "execution_count": 18,
      "metadata": {
        "colab": {
          "base_uri": "https://localhost:8080/"
        },
        "id": "ABRW8LCOIjTy",
        "outputId": "a9b8368f-3447-417d-d863-bff43e105abf"
      },
      "outputs": [
        {
          "output_type": "execute_result",
          "data": {
            "text/plain": [
              "[[0.011005842399993072,\n",
              "  0.019692579800005206,\n",
              "  0.037999135000006845,\n",
              "  0.07035922530000108,\n",
              "  0.1476018389000046],\n",
              " [0.0068811151999966565,\n",
              "  0.011984029500001724,\n",
              "  0.022662802899992583,\n",
              "  0.04362075650000179,\n",
              "  0.08917616989999715],\n",
              " [0.007792756599997119,\n",
              "  0.014703578700004983,\n",
              "  0.028341755700000703,\n",
              "  0.05273149709998961,\n",
              "  0.11080991750000066],\n",
              " [0.00805381689999649,\n",
              "  0.013401127200006612,\n",
              "  0.02526990860000069,\n",
              "  0.046605529399994336,\n",
              "  0.09568451379999487]]"
            ]
          },
          "metadata": {},
          "execution_count": 18
        }
      ],
      "source": [
        "# batch_sizes = [4]\n",
        "models_perf = [\n",
        "    list(results.time_inference_result[m][\"result\"][batch_sizes[0]].values())\n",
        "    for m in models\n",
        "]\n",
        "models_perf"
      ]
    },
    {
      "cell_type": "code",
      "execution_count": 19,
      "metadata": {
        "colab": {
          "base_uri": "https://localhost:8080/",
          "height": 718
        },
        "id": "H-0RZxkklSdo",
        "outputId": "a163f309-daa2-4a0d-8bc1-2b3dfacee40c"
      },
      "outputs": [
        {
          "output_type": "display_data",
          "data": {
            "text/plain": [
              "<Figure size 800x800 with 1 Axes>"
            ],
            "image/png": "[encoded data removed]"
          },
          "metadata": {}
        }
      ],
      "source": [
        "import matplotlib.pyplot as plt\n",
        "\n",
        "# sequence_lengths = [32, 64, 128, 256, 512]\n",
        "# batch_sizes = [4]\n",
        "t = sequence_lengths\n",
        "models_perf = [\n",
        "    list(results.time_inference_result[m][\"result\"][batch_sizes[0]].values())\n",
        "    for m in models\n",
        "]\n",
        "\n",
        "plt.figure(figsize=(8, 8))\n",
        "plt.plot(\n",
        "    t,\n",
        "    models_perf[0],\n",
        "    \"rs--\",\n",
        "    t,\n",
        "    models_perf[1],\n",
        "    \"g--.\",\n",
        "    t,\n",
        "    models_perf[2],\n",
        "    \"b--^\",\n",
        "    t,\n",
        "    models_perf[3],\n",
        "    \"c--o\",\n",
        ")\n",
        "\n",
        "plt.xlabel(\"Seq Length\")\n",
        "plt.ylabel(\"Time in Second\")\n",
        "plt.title(\"Inference Speed Result\")\n",
        "\n",
        "plt.legend(models)\n",
        "plt.show()"
      ]
    },
    {
      "cell_type": "code",
      "execution_count": null,
      "metadata": {
        "colab": {
          "background_save": true
        },
        "id": "2g-ObOQpmmS2"
      },
      "outputs": [],
      "source": []
    }
  ],
  "metadata": {
    "accelerator": "GPU",
    "colab": {
      "gpuType": "T4",
      "provenance": []
    },
    "kernelspec": {
      "display_name": "Python 3",
      "name": "python3"
    },
    "language_info": {
      "codemirror_mode": {
        "name": "ipython",
        "version": 3
      },
      "file_extension": ".py",
      "mimetype": "text/x-python",
      "name": "python",
      "nbconvert_exporter": "python",
      "pygments_lexer": "ipython3",
      "version": "3.11.6"
    },
    "widgets": {
      "application/vnd.jupyter.widget-state+json": {
        "3a9fe2020ca643bf847963c30dfecf4f": {
          "model_module": "@jupyter-widgets/controls",
          "model_name": "HBoxModel",
          "model_module_version": "1.5.0",
          "state": {
            "_dom_classes": [],
            "_model_module": "@jupyter-widgets/controls",
            "_model_module_version": "1.5.0",
            "_model_name": "HBoxModel",
            "_view_count": null,
            "_view_module": "@jupyter-widgets/controls",
            "_view_module_version": "1.5.0",
            "_view_name": "HBoxView",
            "box_style": "",
            "children": [
              "IPY_MODEL_5c22812ee76d4fe7909627820ed6769d",
              "IPY_MODEL_74b3ea0c9b7c4379adb5c1922253cd04",
              "IPY_MODEL_d75152eb42104607b52fc6ac9af7a8ac"
            ],
            "layout": "IPY_MODEL_8721eb16e769495f99b93bea9008fe1c"
          }
        },
        "5c22812ee76d4fe7909627820ed6769d": {
          "model_module": "@jupyter-widgets/controls",
          "model_name": "HTMLModel",
          "model_module_version": "1.5.0",
          "state": {
            "_dom_classes": [],
            "_model_module": "@jupyter-widgets/controls",
            "_model_module_version": "1.5.0",
            "_model_name": "HTMLModel",
            "_view_count": null,
            "_view_module": "@jupyter-widgets/controls",
            "_view_module_version": "1.5.0",
            "_view_name": "HTMLView",
            "description": "",
            "description_tooltip": null,
            "layout": "IPY_MODEL_5999cec2b1214ae6b82538e0577ef174",
            "placeholder": "​",
            "style": "IPY_MODEL_45f8502b032145dd9d4a4d7e52c87c31",
            "value": "config.json: 100%"
          }
        },
        "74b3ea0c9b7c4379adb5c1922253cd04": {
          "model_module": "@jupyter-widgets/controls",
          "model_name": "FloatProgressModel",
          "model_module_version": "1.5.0",
          "state": {
            "_dom_classes": [],
            "_model_module": "@jupyter-widgets/controls",
            "_model_module_version": "1.5.0",
            "_model_name": "FloatProgressModel",
            "_view_count": null,
            "_view_module": "@jupyter-widgets/controls",
            "_view_module_version": "1.5.0",
            "_view_name": "ProgressView",
            "bar_style": "success",
            "description": "",
            "description_tooltip": null,
            "layout": "IPY_MODEL_07f869a8b7e4413ba8679b0a583bd589",
            "max": 570,
            "min": 0,
            "orientation": "horizontal",
            "style": "IPY_MODEL_6c06e429fbc54044b718b82810eba43e",
            "value": 570
          }
        },
        "d75152eb42104607b52fc6ac9af7a8ac": {
          "model_module": "@jupyter-widgets/controls",
          "model_name": "HTMLModel",
          "model_module_version": "1.5.0",
          "state": {
            "_dom_classes": [],
            "_model_module": "@jupyter-widgets/controls",
            "_model_module_version": "1.5.0",
            "_model_name": "HTMLModel",
            "_view_count": null,
            "_view_module": "@jupyter-widgets/controls",
            "_view_module_version": "1.5.0",
            "_view_name": "HTMLView",
            "description": "",
            "description_tooltip": null,
            "layout": "IPY_MODEL_a3e3f0dd4567452e8205d15281d321c2",
            "placeholder": "​",
            "style": "IPY_MODEL_bd246574e1954dd38146fc0c896e0dab",
            "value": " 570/570 [00:00&lt;00:00, 21.3kB/s]"
          }
        },
        "8721eb16e769495f99b93bea9008fe1c": {
          "model_module": "@jupyter-widgets/base",
          "model_name": "LayoutModel",
          "model_module_version": "1.2.0",
          "state": {
            "_model_module": "@jupyter-widgets/base",
            "_model_module_version": "1.2.0",
            "_model_name": "LayoutModel",
            "_view_count": null,
            "_view_module": "@jupyter-widgets/base",
            "_view_module_version": "1.2.0",
            "_view_name": "LayoutView",
            "align_content": null,
            "align_items": null,
            "align_self": null,
            "border": null,
            "bottom": null,
            "display": null,
            "flex": null,
            "flex_flow": null,
            "grid_area": null,
            "grid_auto_columns": null,
            "grid_auto_flow": null,
            "grid_auto_rows": null,
            "grid_column": null,
            "grid_gap": null,
            "grid_row": null,
            "grid_template_areas": null,
            "grid_template_columns": null,
            "grid_template_rows": null,
            "height": null,
            "justify_content": null,
            "justify_items": null,
            "left": null,
            "margin": null,
            "max_height": null,
            "max_width": null,
            "min_height": null,
            "min_width": null,
            "object_fit": null,
            "object_position": null,
            "order": null,
            "overflow": null,
            "overflow_x": null,
            "overflow_y": null,
            "padding": null,
            "right": null,
            "top": null,
            "visibility": null,
            "width": null
          }
        },
        "5999cec2b1214ae6b82538e0577ef174": {
          "model_module": "@jupyter-widgets/base",
          "model_name": "LayoutModel",
          "model_module_version": "1.2.0",
          "state": {
            "_model_module": "@jupyter-widgets/base",
            "_model_module_version": "1.2.0",
            "_model_name": "LayoutModel",
            "_view_count": null,
            "_view_module": "@jupyter-widgets/base",
            "_view_module_version": "1.2.0",
            "_view_name": "LayoutView",
            "align_content": null,
            "align_items": null,
            "align_self": null,
            "border": null,
            "bottom": null,
            "display": null,
            "flex": null,
            "flex_flow": null,
            "grid_area": null,
            "grid_auto_columns": null,
            "grid_auto_flow": null,
            "grid_auto_rows": null,
            "grid_column": null,
            "grid_gap": null,
            "grid_row": null,
            "grid_template_areas": null,
            "grid_template_columns": null,
            "grid_template_rows": null,
            "height": null,
            "justify_content": null,
            "justify_items": null,
            "left": null,
            "margin": null,
            "max_height": null,
            "max_width": null,
            "min_height": null,
            "min_width": null,
            "object_fit": null,
            "object_position": null,
            "order": null,
            "overflow": null,
            "overflow_x": null,
            "overflow_y": null,
            "padding": null,
            "right": null,
            "top": null,
            "visibility": null,
            "width": null
          }
        },
        "45f8502b032145dd9d4a4d7e52c87c31": {
          "model_module": "@jupyter-widgets/controls",
          "model_name": "DescriptionStyleModel",
          "model_module_version": "1.5.0",
          "state": {
            "_model_module": "@jupyter-widgets/controls",
            "_model_module_version": "1.5.0",
            "_model_name": "DescriptionStyleModel",
            "_view_count": null,
            "_view_module": "@jupyter-widgets/base",
            "_view_module_version": "1.2.0",
            "_view_name": "StyleView",
            "description_width": ""
          }
        },
        "07f869a8b7e4413ba8679b0a583bd589": {
          "model_module": "@jupyter-widgets/base",
          "model_name": "LayoutModel",
          "model_module_version": "1.2.0",
          "state": {
            "_model_module": "@jupyter-widgets/base",
            "_model_module_version": "1.2.0",
            "_model_name": "LayoutModel",
            "_view_count": null,
            "_view_module": "@jupyter-widgets/base",
            "_view_module_version": "1.2.0",
            "_view_name": "LayoutView",
            "align_content": null,
            "align_items": null,
            "align_self": null,
            "border": null,
            "bottom": null,
            "display": null,
            "flex": null,
            "flex_flow": null,
            "grid_area": null,
            "grid_auto_columns": null,
            "grid_auto_flow": null,
            "grid_auto_rows": null,
            "grid_column": null,
            "grid_gap": null,
            "grid_row": null,
            "grid_template_areas": null,
            "grid_template_columns": null,
            "grid_template_rows": null,
            "height": null,
            "justify_content": null,
            "justify_items": null,
            "left": null,
            "margin": null,
            "max_height": null,
            "max_width": null,
            "min_height": null,
            "min_width": null,
            "object_fit": null,
            "object_position": null,
            "order": null,
            "overflow": null,
            "overflow_x": null,
            "overflow_y": null,
            "padding": null,
            "right": null,
            "top": null,
            "visibility": null,
            "width": null
          }
        },
        "6c06e429fbc54044b718b82810eba43e": {
          "model_module": "@jupyter-widgets/controls",
          "model_name": "ProgressStyleModel",
          "model_module_version": "1.5.0",
          "state": {
            "_model_module": "@jupyter-widgets/controls",
            "_model_module_version": "1.5.0",
            "_model_name": "ProgressStyleModel",
            "_view_count": null,
            "_view_module": "@jupyter-widgets/base",
            "_view_module_version": "1.2.0",
            "_view_name": "StyleView",
            "bar_color": null,
            "description_width": ""
          }
        },
        "a3e3f0dd4567452e8205d15281d321c2": {
          "model_module": "@jupyter-widgets/base",
          "model_name": "LayoutModel",
          "model_module_version": "1.2.0",
          "state": {
            "_model_module": "@jupyter-widgets/base",
            "_model_module_version": "1.2.0",
            "_model_name": "LayoutModel",
            "_view_count": null,
            "_view_module": "@jupyter-widgets/base",
            "_view_module_version": "1.2.0",
            "_view_name": "LayoutView",
            "align_content": null,
            "align_items": null,
            "align_self": null,
            "border": null,
            "bottom": null,
            "display": null,
            "flex": null,
            "flex_flow": null,
            "grid_area": null,
            "grid_auto_columns": null,
            "grid_auto_flow": null,
            "grid_auto_rows": null,
            "grid_column": null,
            "grid_gap": null,
            "grid_row": null,
            "grid_template_areas": null,
            "grid_template_columns": null,
            "grid_template_rows": null,
            "height": null,
            "justify_content": null,
            "justify_items": null,
            "left": null,
            "margin": null,
            "max_height": null,
            "max_width": null,
            "min_height": null,
            "min_width": null,
            "object_fit": null,
            "object_position": null,
            "order": null,
            "overflow": null,
            "overflow_x": null,
            "overflow_y": null,
            "padding": null,
            "right": null,
            "top": null,
            "visibility": null,
            "width": null
          }
        },
        "bd246574e1954dd38146fc0c896e0dab": {
          "model_module": "@jupyter-widgets/controls",
          "model_name": "DescriptionStyleModel",
          "model_module_version": "1.5.0",
          "state": {
            "_model_module": "@jupyter-widgets/controls",
            "_model_module_version": "1.5.0",
            "_model_name": "DescriptionStyleModel",
            "_view_count": null,
            "_view_module": "@jupyter-widgets/base",
            "_view_module_version": "1.2.0",
            "_view_name": "StyleView",
            "description_width": ""
          }
        },
        "446cf4d02bb843b9aefb5eb8219df48d": {
          "model_module": "@jupyter-widgets/controls",
          "model_name": "HBoxModel",
          "model_module_version": "1.5.0",
          "state": {
            "_dom_classes": [],
            "_model_module": "@jupyter-widgets/controls",
            "_model_module_version": "1.5.0",
            "_model_name": "HBoxModel",
            "_view_count": null,
            "_view_module": "@jupyter-widgets/controls",
            "_view_module_version": "1.5.0",
            "_view_name": "HBoxView",
            "box_style": "",
            "children": [
              "IPY_MODEL_f64f886e0c7d486e8d615dae8d51fb2a",
              "IPY_MODEL_0794dbcca8c44134b669a4c352f12ae5",
              "IPY_MODEL_208cdd9a5588476fa74fd0783a4a8587"
            ],
            "layout": "IPY_MODEL_df9e0f1960e04c2c834cc9fd6e0964ef"
          }
        },
        "f64f886e0c7d486e8d615dae8d51fb2a": {
          "model_module": "@jupyter-widgets/controls",
          "model_name": "HTMLModel",
          "model_module_version": "1.5.0",
          "state": {
            "_dom_classes": [],
            "_model_module": "@jupyter-widgets/controls",
            "_model_module_version": "1.5.0",
            "_model_name": "HTMLModel",
            "_view_count": null,
            "_view_module": "@jupyter-widgets/controls",
            "_view_module_version": "1.5.0",
            "_view_name": "HTMLView",
            "description": "",
            "description_tooltip": null,
            "layout": "IPY_MODEL_d75967c7cc2d47a080d43d2e24b98da5",
            "placeholder": "​",
            "style": "IPY_MODEL_6297eac89fd54b81b486c27317c4eb86",
            "value": "config.json: 100%"
          }
        },
        "0794dbcca8c44134b669a4c352f12ae5": {
          "model_module": "@jupyter-widgets/controls",
          "model_name": "FloatProgressModel",
          "model_module_version": "1.5.0",
          "state": {
            "_dom_classes": [],
            "_model_module": "@jupyter-widgets/controls",
            "_model_module_version": "1.5.0",
            "_model_name": "FloatProgressModel",
            "_view_count": null,
            "_view_module": "@jupyter-widgets/controls",
            "_view_module_version": "1.5.0",
            "_view_name": "ProgressView",
            "bar_style": "success",
            "description": "",
            "description_tooltip": null,
            "layout": "IPY_MODEL_bd53a115035a4739bd283c36611a3ac1",
            "max": 464,
            "min": 0,
            "orientation": "horizontal",
            "style": "IPY_MODEL_cf4e6458b41641e483b68c07e52f7b22",
            "value": 464
          }
        },
        "208cdd9a5588476fa74fd0783a4a8587": {
          "model_module": "@jupyter-widgets/controls",
          "model_name": "HTMLModel",
          "model_module_version": "1.5.0",
          "state": {
            "_dom_classes": [],
            "_model_module": "@jupyter-widgets/controls",
            "_model_module_version": "1.5.0",
            "_model_name": "HTMLModel",
            "_view_count": null,
            "_view_module": "@jupyter-widgets/controls",
            "_view_module_version": "1.5.0",
            "_view_name": "HTMLView",
            "description": "",
            "description_tooltip": null,
            "layout": "IPY_MODEL_13d00c7cc47840c8b03af21677df015d",
            "placeholder": "​",
            "style": "IPY_MODEL_1f791e9e59114fc895557a9e1a36ab9b",
            "value": " 464/464 [00:00&lt;00:00, 17.6kB/s]"
          }
        },
        "df9e0f1960e04c2c834cc9fd6e0964ef": {
          "model_module": "@jupyter-widgets/base",
          "model_name": "LayoutModel",
          "model_module_version": "1.2.0",
          "state": {
            "_model_module": "@jupyter-widgets/base",
            "_model_module_version": "1.2.0",
            "_model_name": "LayoutModel",
            "_view_count": null,
            "_view_module": "@jupyter-widgets/base",
            "_view_module_version": "1.2.0",
            "_view_name": "LayoutView",
            "align_content": null,
            "align_items": null,
            "align_self": null,
            "border": null,
            "bottom": null,
            "display": null,
            "flex": null,
            "flex_flow": null,
            "grid_area": null,
            "grid_auto_columns": null,
            "grid_auto_flow": null,
            "grid_auto_rows": null,
            "grid_column": null,
            "grid_gap": null,
            "grid_row": null,
            "grid_template_areas": null,
            "grid_template_columns": null,
            "grid_template_rows": null,
            "height": null,
            "justify_content": null,
            "justify_items": null,
            "left": null,
            "margin": null,
            "max_height": null,
            "max_width": null,
            "min_height": null,
            "min_width": null,
            "object_fit": null,
            "object_position": null,
            "order": null,
            "overflow": null,
            "overflow_x": null,
            "overflow_y": null,
            "padding": null,
            "right": null,
            "top": null,
            "visibility": null,
            "width": null
          }
        },
        "d75967c7cc2d47a080d43d2e24b98da5": {
          "model_module": "@jupyter-widgets/base",
          "model_name": "LayoutModel",
          "model_module_version": "1.2.0",
          "state": {
            "_model_module": "@jupyter-widgets/base",
            "_model_module_version": "1.2.0",
            "_model_name": "LayoutModel",
            "_view_count": null,
            "_view_module": "@jupyter-widgets/base",
            "_view_module_version": "1.2.0",
            "_view_name": "LayoutView",
            "align_content": null,
            "align_items": null,
            "align_self": null,
            "border": null,
            "bottom": null,
            "display": null,
            "flex": null,
            "flex_flow": null,
            "grid_area": null,
            "grid_auto_columns": null,
            "grid_auto_flow": null,
            "grid_auto_rows": null,
            "grid_column": null,
            "grid_gap": null,
            "grid_row": null,
            "grid_template_areas": null,
            "grid_template_columns": null,
            "grid_template_rows": null,
            "height": null,
            "justify_content": null,
            "justify_items": null,
            "left": null,
            "margin": null,
            "max_height": null,
            "max_width": null,
            "min_height": null,
            "min_width": null,
            "object_fit": null,
            "object_position": null,
            "order": null,
            "overflow": null,
            "overflow_x": null,
            "overflow_y": null,
            "padding": null,
            "right": null,
            "top": null,
            "visibility": null,
            "width": null
          }
        },
        "6297eac89fd54b81b486c27317c4eb86": {
          "model_module": "@jupyter-widgets/controls",
          "model_name": "DescriptionStyleModel",
          "model_module_version": "1.5.0",
          "state": {
            "_model_module": "@jupyter-widgets/controls",
            "_model_module_version": "1.5.0",
            "_model_name": "DescriptionStyleModel",
            "_view_count": null,
            "_view_module": "@jupyter-widgets/base",
            "_view_module_version": "1.2.0",
            "_view_name": "StyleView",
            "description_width": ""
          }
        },
        "bd53a115035a4739bd283c36611a3ac1": {
          "model_module": "@jupyter-widgets/base",
          "model_name": "LayoutModel",
          "model_module_version": "1.2.0",
          "state": {
            "_model_module": "@jupyter-widgets/base",
            "_model_module_version": "1.2.0",
            "_model_name": "LayoutModel",
            "_view_count": null,
            "_view_module": "@jupyter-widgets/base",
            "_view_module_version": "1.2.0",
            "_view_name": "LayoutView",
            "align_content": null,
            "align_items": null,
            "align_self": null,
            "border": null,
            "bottom": null,
            "display": null,
            "flex": null,
            "flex_flow": null,
            "grid_area": null,
            "grid_auto_columns": null,
            "grid_auto_flow": null,
            "grid_auto_rows": null,
            "grid_column": null,
            "grid_gap": null,
            "grid_row": null,
            "grid_template_areas": null,
            "grid_template_columns": null,
            "grid_template_rows": null,
            "height": null,
            "justify_content": null,
            "justify_items": null,
            "left": null,
            "margin": null,
            "max_height": null,
            "max_width": null,
            "min_height": null,
            "min_width": null,
            "object_fit": null,
            "object_position": null,
            "order": null,
            "overflow": null,
            "overflow_x": null,
            "overflow_y": null,
            "padding": null,
            "right": null,
            "top": null,
            "visibility": null,
            "width": null
          }
        },
        "cf4e6458b41641e483b68c07e52f7b22": {
          "model_module": "@jupyter-widgets/controls",
          "model_name": "ProgressStyleModel",
          "model_module_version": "1.5.0",
          "state": {
            "_model_module": "@jupyter-widgets/controls",
            "_model_module_version": "1.5.0",
            "_model_name": "ProgressStyleModel",
            "_view_count": null,
            "_view_module": "@jupyter-widgets/base",
            "_view_module_version": "1.2.0",
            "_view_name": "StyleView",
            "bar_color": null,
            "description_width": ""
          }
        },
        "13d00c7cc47840c8b03af21677df015d": {
          "model_module": "@jupyter-widgets/base",
          "model_name": "LayoutModel",
          "model_module_version": "1.2.0",
          "state": {
            "_model_module": "@jupyter-widgets/base",
            "_model_module_version": "1.2.0",
            "_model_name": "LayoutModel",
            "_view_count": null,
            "_view_module": "@jupyter-widgets/base",
            "_view_module_version": "1.2.0",
            "_view_name": "LayoutView",
            "align_content": null,
            "align_items": null,
            "align_self": null,
            "border": null,
            "bottom": null,
            "display": null,
            "flex": null,
            "flex_flow": null,
            "grid_area": null,
            "grid_auto_columns": null,
            "grid_auto_flow": null,
            "grid_auto_rows": null,
            "grid_column": null,
            "grid_gap": null,
            "grid_row": null,
            "grid_template_areas": null,
            "grid_template_columns": null,
            "grid_template_rows": null,
            "height": null,
            "justify_content": null,
            "justify_items": null,
            "left": null,
            "margin": null,
            "max_height": null,
            "max_width": null,
            "min_height": null,
            "min_width": null,
            "object_fit": null,
            "object_position": null,
            "order": null,
            "overflow": null,
            "overflow_x": null,
            "overflow_y": null,
            "padding": null,
            "right": null,
            "top": null,
            "visibility": null,
            "width": null
          }
        },
        "1f791e9e59114fc895557a9e1a36ab9b": {
          "model_module": "@jupyter-widgets/controls",
          "model_name": "DescriptionStyleModel",
          "model_module_version": "1.5.0",
          "state": {
            "_model_module": "@jupyter-widgets/controls",
            "_model_module_version": "1.5.0",
            "_model_name": "DescriptionStyleModel",
            "_view_count": null,
            "_view_module": "@jupyter-widgets/base",
            "_view_module_version": "1.2.0",
            "_view_name": "StyleView",
            "description_width": ""
          }
        }
      }
    }
  },
  "nbformat": 4,
  "nbformat_minor": 0
}