{
 "cells": [
  {
   "cell_type": "markdown",
   "metadata": {
    "id": "WY77J0ZNKU81"
   },
   "source": [
    "# CH02b_Working_with_Datasets_Libary"
   ]
  },
  {
   "cell_type": "markdown",
   "metadata": {
    "id": "v642V-95KYkA"
   },
   "source": [
    "## Installing and loading a dataset"
   ]
  },
  {
   "cell_type": "code",
   "execution_count": null,
   "metadata": {
    "colab": {
     "base_uri": "https://localhost:8080/"
    },
    "id": "-kraPBYuum6-",
    "outputId": "00f8225e-d43d-43c3-e867-31351a98f488"
   },
   "outputs": [],
   "source": [
    "!pip install datasets"
   ]
  },
  {
   "cell_type": "code",
   "execution_count": null,
   "metadata": {
    "id": "hCOFA_2_1uDN"
   },
   "outputs": [],
   "source": [
    "# It loads a dataset from the HuggingFace Hub\n",
    "from datasets import load_dataset"
   ]
  },
  {
   "cell_type": "markdown",
   "metadata": {
    "id": "Or_Ys4yLRyB0"
   },
   "source": [
    "Datasets migth have several configurations. For instances, The GLUE dataset as an agregated benchmark has 10 subsets (as of writing this notebook) as: COLA, SST2, MRPC, QQP, STSB, MNLI, QNLI, RTE, WNLI and the diagnostic subset AX. \n",
    "\n",
    "To access each glue dataset, we pass two arguments where the first is **'glue'** and second is a **sub-part** of it to be chosen. Likewise, the wikipedia dataset have several configuration provided for several languages.\n",
    "\n",
    "Lets load 'cola' subset of GLUE as follows:"
   ]
  },
  {
   "cell_type": "code",
   "execution_count": null,
   "metadata": {
    "colab": {
     "base_uri": "https://localhost:8080/"
    },
    "id": "EhIhwzqgrs0D",
    "outputId": "169b419c-112b-49c5-a294-d84735dde6dc"
   },
   "outputs": [],
   "source": [
    "cola = load_dataset(\"glue\", \"cola\")\n",
    "cola[\"train\"][18:22]"
   ]
  },
  {
   "cell_type": "markdown",
   "metadata": {
    "id": "eRJGcaMc0dJU"
   },
   "source": [
    "While some dataset comes with DatasetDict object, some can be of type Dataset depending on splitting condition. The CoLA dataset come with DatasetDict where we have 3 splits: train,validation, and test. Train and validation datasets include the labels as well (1: Acceptable, 0: Unacceptable), but the label values of test split are -1, which means 'no-label'.   "
   ]
  },
  {
   "cell_type": "code",
   "execution_count": null,
   "metadata": {
    "colab": {
     "base_uri": "https://localhost:8080/"
    },
    "id": "c27Sie9lGwmj",
    "outputId": "d80f24cb-c0a3-44a1-bf03-edc722c2f406"
   },
   "outputs": [],
   "source": [
    "cola"
   ]
  },
  {
   "cell_type": "code",
   "execution_count": null,
   "metadata": {
    "colab": {
     "base_uri": "https://localhost:8080/"
    },
    "id": "O_dFvOxzsz_S",
    "outputId": "d2f071c5-9a5e-4695-82ac-9c0d5f92856c"
   },
   "outputs": [],
   "source": [
    "cola[\"train\"][12]"
   ]
  },
  {
   "cell_type": "code",
   "execution_count": null,
   "metadata": {
    "colab": {
     "base_uri": "https://localhost:8080/"
    },
    "id": "24epGtdbs48Y",
    "outputId": "c466bfec-f2cc-4735-c546-e642aa4ab493"
   },
   "outputs": [],
   "source": [
    "cola[\"validation\"][68]"
   ]
  },
  {
   "cell_type": "code",
   "execution_count": null,
   "metadata": {
    "colab": {
     "base_uri": "https://localhost:8080/"
    },
    "id": "FCVXKYML1Ipg",
    "outputId": "b43680c3-e9ed-4d6f-9ba9-8133aa34913b"
   },
   "outputs": [],
   "source": [
    "cola[\"test\"][20]"
   ]
  },
  {
   "cell_type": "code",
   "execution_count": null,
   "metadata": {
    "id": "KsirfEzWJRqb"
   },
   "outputs": [],
   "source": []
  },
  {
   "cell_type": "markdown",
   "metadata": {
    "id": "StSGBLuhJSIX"
   },
   "source": [
    "## Metadata of Datasets\n",
    "* split\n",
    "* description\n",
    "* citation\n",
    "* homepage\n",
    "* license\n",
    "* info\n"
   ]
  },
  {
   "cell_type": "code",
   "execution_count": null,
   "metadata": {
    "colab": {
     "base_uri": "https://localhost:8080/"
    },
    "id": "k4H4xeA7JTwT",
    "outputId": "8a95df66-8831-4d25-f426-2ea9e7aae191"
   },
   "outputs": [],
   "source": [
    "print(cola[\"train\"].split)\n",
    "print(cola[\"train\"].description)\n",
    "print(cola[\"train\"].citation)\n",
    "print(cola[\"train\"].homepage)\n",
    "print(cola[\"train\"].license)"
   ]
  },
  {
   "cell_type": "markdown",
   "metadata": {
    "id": "Wce0ixTa1IBW"
   },
   "source": [
    "### Loading other datasets"
   ]
  },
  {
   "cell_type": "code",
   "execution_count": null,
   "metadata": {
    "colab": {
     "base_uri": "https://localhost:8080/"
    },
    "id": "YnshcHTRs4_K",
    "outputId": "a09a5f10-4f3e-49fe-8be8-66e0e5dc1875"
   },
   "outputs": [],
   "source": [
    "sst2 = load_dataset(\"glue\", \"sst2\")"
   ]
  },
  {
   "cell_type": "code",
   "execution_count": null,
   "metadata": {
    "colab": {
     "base_uri": "https://localhost:8080/"
    },
    "id": "Kt0IsbSys5Bn",
    "outputId": "e37d70f1-1ba3-4b5a-b3a7-b36e8b4a1bc9"
   },
   "outputs": [],
   "source": [
    "mrpc = load_dataset(\"glue\", \"mrpc\")"
   ]
  },
  {
   "cell_type": "markdown",
   "metadata": {
    "id": "1X3n64WwL2Pt"
   },
   "source": [
    "To check entire subsets, run the following piece of code\n",
    "\n",
    "\n",
    "```\n",
    "glue=['cola', 'sst2', 'mrpc', 'qqp', 'stsb', 'mnli', 'mnli_mismatched', 'mnli_matched', 'qnli', 'rte', 'wnli', 'ax']\n",
    "for g in glue:\n",
    " _=load_dataset('glue', g)\n",
    "```\n",
    "\n",
    "\n"
   ]
  },
  {
   "cell_type": "code",
   "execution_count": null,
   "metadata": {
    "id": "AfUequG1r3rT"
   },
   "outputs": [],
   "source": []
  },
  {
   "cell_type": "markdown",
   "metadata": {
    "id": "YY8ytQiLMKG5"
   },
   "source": [
    "## Listing all datasets and metrics in the hub"
   ]
  },
  {
   "cell_type": "code",
   "execution_count": null,
   "metadata": {
    "colab": {
     "base_uri": "https://localhost:8080/"
    },
    "id": "KwUjI5XysDjh",
    "outputId": "3899bdca-4197-452b-f164-633f382ed892"
   },
   "outputs": [],
   "source": [
    "from pprint import pprint\n",
    "from datasets import list_datasets, list_metrics\n",
    "\n",
    "all = list_datasets()\n",
    "metrics = list_metrics()\n",
    "\n",
    "print(f\"{len(all)} datasets and {len(metrics)} metrics exists in the hub\\n\")\n",
    "pprint(all[:20], compact=True)\n",
    "pprint(metrics, compact=True)"
   ]
  },
  {
   "cell_type": "markdown",
   "metadata": {
    "id": "GGbsj2zLMOMR"
   },
   "source": [
    "## XTREME: Working with Cross-lingual dataset"
   ]
  },
  {
   "cell_type": "markdown",
   "metadata": {
    "id": "RADiPVFG4ANK"
   },
   "source": [
    "MLQA is a subset of Xtreme benchmark, which is designed for assessing performances of cross-lingual question answering models. It includes about 5K extractive Question-Answer instances in SQuAD format in seven languages which are:\n",
    "* (English, German, Arabic, Hindi, Vietnamese, Spanish and Simplified Chinese.) \n",
    "\n",
    "E.g. MLQA.en.de is English-German QA example dataset and can be loaded as follows:"
   ]
  },
  {
   "cell_type": "code",
   "execution_count": null,
   "metadata": {
    "colab": {
     "base_uri": "https://localhost:8080/"
    },
    "id": "gxo2P4yNCnlz",
    "outputId": "b66fd420-f6d9-4efc-d847-c466cad8d8cc"
   },
   "outputs": [],
   "source": [
    "en_de = load_dataset(\"xtreme\", \"MLQA.en.de\")"
   ]
  },
  {
   "cell_type": "code",
   "execution_count": null,
   "metadata": {
    "id": "K3VekHNKGtBg"
   },
   "outputs": [],
   "source": []
  },
  {
   "cell_type": "markdown",
   "metadata": {
    "id": "DUn-BxLfX1P5"
   },
   "source": [
    "Here is the dataset structure"
   ]
  },
  {
   "cell_type": "code",
   "execution_count": null,
   "metadata": {
    "colab": {
     "base_uri": "https://localhost:8080/"
    },
    "id": "h_Dqp9hR1Yfm",
    "outputId": "72654923-80c5-4f06-fc50-37d5dd86466b"
   },
   "outputs": [],
   "source": [
    "en_de"
   ]
  },
  {
   "cell_type": "markdown",
   "metadata": {
    "id": "QyKgKcdR3jVi"
   },
   "source": [
    "### Viewing the dataset as a pandas data frame"
   ]
  },
  {
   "cell_type": "code",
   "execution_count": null,
   "metadata": {
    "colab": {
     "base_uri": "https://localhost:8080/",
     "height": 173
    },
    "id": "0Ilhb2j71fiC",
    "outputId": "e85d4d6c-fafb-4dc2-fe23-6ef3322a1e46"
   },
   "outputs": [],
   "source": [
    "# View dataset as a pandas data frame\n",
    "import pandas as pd\n",
    "\n",
    "pd.DataFrame(en_de[\"test\"][0:4])"
   ]
  },
  {
   "cell_type": "markdown",
   "metadata": {
    "id": "YullrhmI5lHO"
   },
   "source": [
    "## Selecting, sorting, filtering"
   ]
  },
  {
   "cell_type": "markdown",
   "metadata": {
    "id": "azBvXH8F3uYk"
   },
   "source": [
    "### Split\n",
    "which split of the data to be loaded. If None by default, will return a `dict` with all splits (Train, Test, Validation or any other).  If split is specified, it will return a single Dataset rather than a Dictionary"
   ]
  },
  {
   "cell_type": "code",
   "execution_count": null,
   "metadata": {
    "colab": {
     "base_uri": "https://localhost:8080/"
    },
    "id": "3Gyi_LgUPVtq",
    "outputId": "17d7fae8-8807-4596-d063-dd36e0798d63"
   },
   "outputs": [],
   "source": [
    "cola = load_dataset(\"glue\", \"cola\", split=\"train[:300]+validation[-30%:]\")\n",
    "# Which means the first 300 examples of train  plus the last 30% of validation."
   ]
  },
  {
   "cell_type": "markdown",
   "metadata": {
    "id": "mnncU49m4V9q"
   },
   "source": [
    "#### Other Split Examples\n",
    "The first 100 examples from train and validation\n",
    "\n",
    "`split='train[:100]+validation[:100]'` \n",
    "\n",
    "50% of train and 30 % of validation\n",
    "\n",
    "`split='train[:50%]+validation[:30%]'`\n",
    "\n",
    "\n",
    "The first 20% of train and examples in the slice 30:50 from validation\n",
    "\n",
    "`split='train[:20%]+validation[30:50]'`"
   ]
  },
  {
   "cell_type": "markdown",
   "metadata": {
    "id": "X4x7vJIh-697"
   },
   "source": [
    "### Sorting"
   ]
  },
  {
   "cell_type": "markdown",
   "metadata": {
    "id": "57MIyMY0_PWq"
   },
   "source": []
  },
  {
   "cell_type": "code",
   "execution_count": null,
   "metadata": {
    "colab": {
     "base_uri": "https://localhost:8080/"
    },
    "id": "fZMNeQfe-7Uw",
    "outputId": "940c9d5a-4483-4e80-9f3e-d6789dfadc32"
   },
   "outputs": [],
   "source": [
    "cola.sort(\"label\")[\"label\"][:15]"
   ]
  },
  {
   "cell_type": "code",
   "execution_count": null,
   "metadata": {
    "colab": {
     "base_uri": "https://localhost:8080/"
    },
    "id": "YvUxINYb_BWH",
    "outputId": "e043ce46-b054-4d5c-8b90-7956bb2802bd"
   },
   "outputs": [],
   "source": [
    "cola.sort(\"label\")[\"label\"][-15:]"
   ]
  },
  {
   "cell_type": "code",
   "execution_count": null,
   "metadata": {
    "id": "f-VVYvtU_Qku"
   },
   "outputs": [],
   "source": []
  },
  {
   "cell_type": "markdown",
   "metadata": {
    "id": "6DZ7T9-h_R5O"
   },
   "source": [
    "###  Indexing\n",
    "You can also access several rows using slice notation or with a list of indices"
   ]
  },
  {
   "cell_type": "markdown",
   "metadata": {
    "id": "Ukx2v_b6AHW1"
   },
   "source": []
  },
  {
   "cell_type": "code",
   "execution_count": null,
   "metadata": {
    "colab": {
     "base_uri": "https://localhost:8080/"
    },
    "id": "xoqiXsjf_yBV",
    "outputId": "e6c9762b-3e9f-4adb-f197-3c3d7c2aa6b2"
   },
   "outputs": [],
   "source": [
    "cola[6, 19, 44]"
   ]
  },
  {
   "cell_type": "code",
   "execution_count": null,
   "metadata": {
    "colab": {
     "base_uri": "https://localhost:8080/"
    },
    "id": "4eAbIIMR_6CW",
    "outputId": "f7ee506a-b937-4737-892d-0d9dfd6425f3"
   },
   "outputs": [],
   "source": [
    "cola[42:46]"
   ]
  },
  {
   "cell_type": "markdown",
   "metadata": {
    "id": "kouidG0PAIg2"
   },
   "source": [
    "### Shuffling "
   ]
  },
  {
   "cell_type": "code",
   "execution_count": null,
   "metadata": {
    "colab": {
     "base_uri": "https://localhost:8080/"
    },
    "id": "5OQ8DLJcAKv4",
    "outputId": "e6047b2f-0c39-4aa4-89a8-8d42a6ad1c71"
   },
   "outputs": [],
   "source": [
    "cola.shuffle(seed=42)[:3]"
   ]
  },
  {
   "cell_type": "markdown",
   "metadata": {
    "id": "l5atyj-_59tJ"
   },
   "source": [
    "## Caching and reusability\n",
    "Using cache files allows us to load large datasets by means of memory mapping if datasets fit on the drive  to use a fast backend and do smart caching by saving and reusing the results of operations executed on the drive."
   ]
  },
  {
   "cell_type": "code",
   "execution_count": null,
   "metadata": {
    "id": "bT79Q8hz_5i3"
   },
   "outputs": [],
   "source": []
  },
  {
   "cell_type": "code",
   "execution_count": null,
   "metadata": {
    "id": "8KmKHVN4cRY3"
   },
   "outputs": [],
   "source": []
  },
  {
   "cell_type": "markdown",
   "metadata": {
    "id": "GlKPEB2RccN7"
   },
   "source": []
  },
  {
   "cell_type": "code",
   "execution_count": null,
   "metadata": {
    "colab": {
     "base_uri": "https://localhost:8080/"
    },
    "id": "5xdxVno0Pguy",
    "outputId": "cc962d64-4335-4a06-e1f6-b355263527ca"
   },
   "outputs": [],
   "source": [
    "pprint(list(dir(cola)))"
   ]
  },
  {
   "cell_type": "code",
   "execution_count": null,
   "metadata": {
    "colab": {
     "base_uri": "https://localhost:8080/"
    },
    "id": "LcKjoobg7yy4",
    "outputId": "9540b76d-eed6-496b-da59-71d2bce66b48"
   },
   "outputs": [],
   "source": [
    "cola.cache_files"
   ]
  },
  {
   "cell_type": "code",
   "execution_count": null,
   "metadata": {
    "colab": {
     "base_uri": "https://localhost:8080/"
    },
    "id": "UN7OLqp97Mdx",
    "outputId": "265bd75e-c97e-4572-a65d-51b7ecfdb6ca"
   },
   "outputs": [],
   "source": [
    "cola.info"
   ]
  },
  {
   "cell_type": "markdown",
   "metadata": {
    "id": "ZVXL4bJ1BUJ1"
   },
   "source": [
    "## Dataset Filter and Map Function\n",
    "\n"
   ]
  },
  {
   "cell_type": "markdown",
   "metadata": {
    "id": "rZkGts_39ISL"
   },
   "source": [
    "### Filter function"
   ]
  },
  {
   "cell_type": "code",
   "execution_count": null,
   "metadata": {
    "colab": {
     "base_uri": "https://localhost:8080/"
    },
    "id": "gthxqxRfG_wc",
    "outputId": "1ce5f4af-0c71-4931-e3ab-2be3bd342ec9"
   },
   "outputs": [],
   "source": [
    "# To get 3 sentences ,including the term \"kick\" with Filter\n",
    "cola = load_dataset(\"glue\", \"cola\", split=\"train[:100%]+validation[-30%:]\")\n",
    "pprint(cola.filter(lambda s: \"kick\" in s[\"sentence\"])[\"sentence\"][:3])"
   ]
  },
  {
   "cell_type": "code",
   "execution_count": null,
   "metadata": {
    "colab": {
     "base_uri": "https://localhost:8080/"
    },
    "id": "6QHMyXqVHsrt",
    "outputId": "7ddcd3bb-a4ba-4b00-c162-1cd3bbc5aa02"
   },
   "outputs": [],
   "source": [
    "# To get 3 acceptable sentences\n",
    "pprint(cola.filter(lambda s: s[\"label\"] == 1)[\"sentence\"][:3])"
   ]
  },
  {
   "cell_type": "code",
   "execution_count": null,
   "metadata": {
    "colab": {
     "base_uri": "https://localhost:8080/"
    },
    "id": "pXkjxZwnIu1o",
    "outputId": "a43edbf3-f224-4f68-fa0e-c44b2a03c413"
   },
   "outputs": [],
   "source": [
    "# To get 3 acceptable sentences - alternative version\n",
    "cola.filter(lambda s: s[\"label\"] == cola.features[\"label\"].str2int(\"acceptable\"))[\n",
    "    \"sentence\"\n",
    "][:3]"
   ]
  },
  {
   "cell_type": "markdown",
   "metadata": {
    "id": "fuxdPIGhRRp6"
   },
   "source": [
    "### Processing data with  map function\n",
    "datasets.Dataset.map() function iterates over the dataset applying a processing function to each examples in a dataset and modifies the content of the samples."
   ]
  },
  {
   "cell_type": "code",
   "execution_count": null,
   "metadata": {
    "colab": {
     "base_uri": "https://localhost:8080/"
    },
    "id": "D7hEPB9gJzcO",
    "outputId": "6917d96f-ea6e-4c5a-eeda-5389312d1c9e"
   },
   "outputs": [],
   "source": [
    "# E.g. adding new features\n",
    "cola_new = cola.map(lambda e: {\"len\": len(e[\"sentence\"])})"
   ]
  },
  {
   "cell_type": "code",
   "execution_count": null,
   "metadata": {
    "colab": {
     "base_uri": "https://localhost:8080/"
    },
    "id": "fBzIzv3SCr4F",
    "outputId": "9d1317a7-319e-465d-8d68-1f1de2a79fbc"
   },
   "outputs": [],
   "source": [
    "cola_new"
   ]
  },
  {
   "cell_type": "code",
   "execution_count": null,
   "metadata": {
    "colab": {
     "base_uri": "https://localhost:8080/"
    },
    "id": "V6yZbdB3Kiyk",
    "outputId": "87075ea6-bed1-4342-c3be-265b515dc27b"
   },
   "outputs": [],
   "source": [
    "pprint(cola_new[0:3])"
   ]
  },
  {
   "cell_type": "code",
   "execution_count": null,
   "metadata": {
    "colab": {
     "base_uri": "https://localhost:8080/"
    },
    "id": "BV8FUZqZKxu4",
    "outputId": "796afadd-abea-498a-eb18-944e05c4708d"
   },
   "outputs": [],
   "source": [
    "cola_cut = cola_new.map(lambda e: {\"sentence\": e[\"sentence\"][:20]})"
   ]
  },
  {
   "cell_type": "code",
   "execution_count": null,
   "metadata": {
    "colab": {
     "base_uri": "https://localhost:8080/"
    },
    "id": "9ZZ7N7tXLdU3",
    "outputId": "3561afc4-31d6-4206-e242-03e210ec7fcd"
   },
   "outputs": [],
   "source": [
    "pprint(cola_cut[:3])"
   ]
  },
  {
   "cell_type": "code",
   "execution_count": null,
   "metadata": {
    "id": "zYOl0pumR4Sa"
   },
   "outputs": [],
   "source": []
  },
  {
   "cell_type": "markdown",
   "metadata": {
    "id": "VO1yD63jR_oX"
   },
   "source": [
    "## Working with Local Files"
   ]
  },
  {
   "cell_type": "code",
   "execution_count": null,
   "metadata": {
    "colab": {
     "base_uri": "https://localhost:8080/"
    },
    "id": "ATU9RvvRUj3t",
    "outputId": "691082ab-f89b-400e-8b4b-c4f7a57976de"
   },
   "outputs": [],
   "source": [
    "import os\n",
    "from google.colab import drive\n",
    "\n",
    "drive.mount(\"/content/drive\")"
   ]
  },
  {
   "cell_type": "code",
   "execution_count": null,
   "metadata": {
    "colab": {
     "base_uri": "https://localhost:8080/",
     "height": 35
    },
    "id": "1-Psk5XmYiG4",
    "outputId": "e06a96e6-c72a-43ab-aad1-0d95f3a6f877"
   },
   "outputs": [],
   "source": [
    "os.getcwd()"
   ]
  },
  {
   "cell_type": "code",
   "execution_count": null,
   "metadata": {
    "colab": {
     "base_uri": "https://localhost:8080/"
    },
    "id": "13plSMLLYs4m",
    "outputId": "81d63d95-35ac-4744-e381-cc3079e3879b"
   },
   "outputs": [],
   "source": [
    "os.listdir(\"/content/drive/My Drive/akademi/Packt NLP with Transformers/CH02\")"
   ]
  },
  {
   "cell_type": "code",
   "execution_count": null,
   "metadata": {
    "id": "OsAmx8r5U5WC"
   },
   "outputs": [],
   "source": [
    "if os.getcwd() != \"/content/drive/My Drive/akademi/Packt NLP with Transformers/CH02\":\n",
    "    os.chdir(\"drive/MyDrive/akademi/Packt NLP with Transformers/CH02\")"
   ]
  },
  {
   "cell_type": "code",
   "execution_count": null,
   "metadata": {
    "colab": {
     "base_uri": "https://localhost:8080/",
     "height": 35
    },
    "id": "_lj0qbmrY6jo",
    "outputId": "3e9bbfcf-cc27-4706-ca9c-6c441fa24612"
   },
   "outputs": [],
   "source": [
    "os.getcwd()"
   ]
  },
  {
   "cell_type": "code",
   "execution_count": null,
   "metadata": {
    "colab": {
     "base_uri": "https://localhost:8080/"
    },
    "id": "KkJmZzW-ViHZ",
    "outputId": "5e706836-4543-45d3-97df-94c34b1238cb"
   },
   "outputs": [],
   "source": [
    "os.listdir()"
   ]
  },
  {
   "cell_type": "code",
   "execution_count": null,
   "metadata": {
    "id": "AoBmadKXSDSS"
   },
   "outputs": [],
   "source": [
    "# To load a dataset from local files CSV, TXT, JSON, a generic loading scripts are provided"
   ]
  },
  {
   "cell_type": "code",
   "execution_count": null,
   "metadata": {
    "colab": {
     "base_uri": "https://localhost:8080/"
    },
    "id": "bS_d1XDESVDT",
    "outputId": "0c6ee4c3-4059-4e02-8aa7-ea18822c73ca"
   },
   "outputs": [],
   "source": [
    "# under data folder there are the files[a.csv, b.csv, c.csv], some random part of SST-2 dataset\n",
    "from datasets import load_dataset\n",
    "\n",
    "data1 = load_dataset(\"csv\", data_files=\"./data/a.csv\", delimiter=\"\\t\")\n",
    "data2 = load_dataset(\n",
    "    \"csv\", data_files=[\"./data/a.csv\", \"./data/b.csv\", \"./data/c.csv\"], delimiter=\"\\t\"\n",
    ")\n",
    "data3 = load_dataset(\n",
    "    \"csv\",\n",
    "    data_files={\"train\": [\"./data/a.csv\", \"./data/b.csv\"], \"test\": [\"./data/c.csv\"]},\n",
    "    delimiter=\"\\t\",\n",
    ")"
   ]
  },
  {
   "cell_type": "code",
   "execution_count": null,
   "metadata": {
    "colab": {
     "base_uri": "https://localhost:8080/",
     "height": 142
    },
    "id": "ZeHJzioJTNt3",
    "outputId": "13187cd2-8d64-4b87-91ee-1e94e58c5a72"
   },
   "outputs": [],
   "source": [
    "import pandas as pd\n",
    "\n",
    "pd.DataFrame(data1[\"train\"][:3])"
   ]
  },
  {
   "cell_type": "code",
   "execution_count": null,
   "metadata": {
    "colab": {
     "base_uri": "https://localhost:8080/",
     "height": 142
    },
    "id": "b2utSTp7WYIj",
    "outputId": "35679bca-2640-4239-f7bd-e86cd2e476fd"
   },
   "outputs": [],
   "source": [
    "pd.DataFrame(data3[\"test\"][:3])"
   ]
  },
  {
   "cell_type": "code",
   "execution_count": null,
   "metadata": {
    "id": "BgSL1tJDZtUb"
   },
   "outputs": [],
   "source": [
    "# get the files in other format\n",
    "# data_json = load_dataset('json', data_files='a.json')\n",
    "# data_text = load_dataset('text', data_files='a.txt')"
   ]
  },
  {
   "cell_type": "code",
   "execution_count": null,
   "metadata": {
    "id": "ZrhYk5RZcw_9"
   },
   "outputs": [],
   "source": [
    "# you can also access several rows using slice notation or with a list of indices"
   ]
  },
  {
   "cell_type": "code",
   "execution_count": null,
   "metadata": {
    "id": "pNxR0MF2HCT0"
   },
   "outputs": [],
   "source": [
    "# shuffling"
   ]
  },
  {
   "cell_type": "code",
   "execution_count": null,
   "metadata": {
    "colab": {
     "base_uri": "https://localhost:8080/"
    },
    "id": "RE3xOlHagXsC",
    "outputId": "45394197-8d4a-4d36-ff2e-0663487e5a6b"
   },
   "outputs": [],
   "source": [
    "data3_shuf = data3[\"train\"].shuffle(seed=42)\n",
    "data3_shuf[\"label\"][:15]"
   ]
  },
  {
   "cell_type": "code",
   "execution_count": null,
   "metadata": {
    "id": "6GgSENedtivK"
   },
   "outputs": [],
   "source": []
  },
  {
   "cell_type": "markdown",
   "metadata": {
    "id": "hzvvWYc_tjld"
   },
   "source": [
    "## Preparing the data for model training\n",
    "Let us take an example with a tokenizer. \n",
    "To do so, we need to install transformers library"
   ]
  },
  {
   "cell_type": "code",
   "execution_count": null,
   "metadata": {
    "colab": {
     "base_uri": "https://localhost:8080/"
    },
    "id": "s2-XEKRHtvUM",
    "outputId": "61e65f3b-1153-4da5-e15a-02bb32240569"
   },
   "outputs": [],
   "source": [
    "!pip install transformers"
   ]
  },
  {
   "cell_type": "code",
   "execution_count": null,
   "metadata": {
    "id": "JD0r-dcItb3D"
   },
   "outputs": [],
   "source": [
    "from transformers import DistilBertTokenizer\n",
    "\n",
    "tokenizer = DistilBertTokenizer.from_pretrained(\"distilbert-base-uncased\")"
   ]
  },
  {
   "cell_type": "code",
   "execution_count": null,
   "metadata": {
    "id": "leJcuyuHtdmh"
   },
   "outputs": [],
   "source": []
  },
  {
   "cell_type": "markdown",
   "metadata": {
    "id": "eBfqdGSGBRKj"
   },
   "source": [
    "If batched is True, it provides batch of examples to any function.\n",
    "batch_size (default is 1000) is  number of instances per batch provided to a function. If not selected, the whole dataset is provided as a single batch to any given function."
   ]
  },
  {
   "cell_type": "code",
   "execution_count": null,
   "metadata": {
    "colab": {
     "base_uri": "https://localhost:8080/"
    },
    "id": "MckfxQQB1ljN",
    "outputId": "b5c27f2e-e0e6-44a4-bc33-7f55767a28fe"
   },
   "outputs": [],
   "source": [
    "encoded_data1 = data1.map(\n",
    "    lambda e: tokenizer(e[\"sentence\"]), batched=True, batch_size=1000\n",
    ")"
   ]
  },
  {
   "cell_type": "code",
   "execution_count": null,
   "metadata": {
    "colab": {
     "base_uri": "https://localhost:8080/"
    },
    "id": "mfUEGoo3IMpt",
    "outputId": "0f0e56a7-fd9f-4c7a-85e4-91adeec428c4"
   },
   "outputs": [],
   "source": [
    "data1"
   ]
  },
  {
   "cell_type": "code",
   "execution_count": null,
   "metadata": {
    "colab": {
     "base_uri": "https://localhost:8080/"
    },
    "id": "P5SbL4tU1qVo",
    "outputId": "6f1bfe4e-3272-4e7d-ece3-1ed5e0aa0dde"
   },
   "outputs": [],
   "source": [
    "encoded_data1"
   ]
  },
  {
   "cell_type": "code",
   "execution_count": null,
   "metadata": {
    "colab": {
     "base_uri": "https://localhost:8080/"
    },
    "id": "8XlrYuBiuPEH",
    "outputId": "414bb20b-13f1-4cd0-bdab-6d83ed1bc9d4"
   },
   "outputs": [],
   "source": [
    "pprint(encoded_data1[\"train\"][0])"
   ]
  },
  {
   "cell_type": "code",
   "execution_count": null,
   "metadata": {
    "id": "LfZI9p-yuRmQ"
   },
   "outputs": [],
   "source": []
  },
  {
   "cell_type": "code",
   "execution_count": null,
   "metadata": {
    "colab": {
     "base_uri": "https://localhost:8080/"
    },
    "id": "GdvjGHWUzZlt",
    "outputId": "17c5dbd2-7681-4858-d21e-bd32613148b0"
   },
   "outputs": [],
   "source": [
    "encoded_data3 = data3.map(\n",
    "    lambda e: tokenizer(e[\"sentence\"], padding=True, truncation=True, max_length=12),\n",
    "    batched=True,\n",
    "    batch_size=1000,\n",
    ")"
   ]
  },
  {
   "cell_type": "code",
   "execution_count": null,
   "metadata": {
    "colab": {
     "base_uri": "https://localhost:8080/"
    },
    "id": "p-OQEKTKeUmJ",
    "outputId": "15a2204e-ca64-4102-a2da-001ba36f81eb"
   },
   "outputs": [],
   "source": [
    "data3"
   ]
  },
  {
   "cell_type": "code",
   "execution_count": null,
   "metadata": {
    "colab": {
     "base_uri": "https://localhost:8080/"
    },
    "id": "eCY68Toieb69",
    "outputId": "5608c181-be6a-4247-bb44-cee557fb71d1"
   },
   "outputs": [],
   "source": [
    "encoded_data3"
   ]
  },
  {
   "cell_type": "code",
   "execution_count": null,
   "metadata": {
    "colab": {
     "base_uri": "https://localhost:8080/"
    },
    "id": "IPgYyTebeey4",
    "outputId": "ce084847-0172-48fa-ded0-9b902b80f6bf"
   },
   "outputs": [],
   "source": [
    "pprint(encoded_data3[\"test\"][12])"
   ]
  },
  {
   "cell_type": "code",
   "execution_count": null,
   "metadata": {
    "id": "AWekEQLreigN"
   },
   "outputs": [],
   "source": []
  }
 ],
 "metadata": {
  "colab": {
   "collapsed_sections": [],
   "name": "CH02b_Working_with_Datasets_Libary.ipynb",
   "provenance": []
  },
  "kernelspec": {
   "display_name": "Python 3 (ipykernel)",
   "language": "python",
   "name": "python3"
  },
  "language_info": {
   "codemirror_mode": {
    "name": "ipython",
    "version": 3
   },
   "file_extension": ".py",
   "mimetype": "text/x-python",
   "name": "python",
   "nbconvert_exporter": "python",
   "pygments_lexer": "ipython3",
   "version": "3.11.6"
  }
 },
 "nbformat": 4,
 "nbformat_minor": 4
}
