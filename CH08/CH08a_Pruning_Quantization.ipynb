{
 "cells": [
  {
   "cell_type": "code",
   "execution_count": null,
   "metadata": {
    "colab": {
     "base_uri": "https://localhost:8080/"
    },
    "executionInfo": {
     "elapsed": 3600,
     "status": "ok",
     "timestamp": 1625344990673,
     "user": {
      "displayName": "meysam asgari chenaghlu",
      "photoUrl": "https://lh3.googleusercontent.com/a-/AOh14GgN-uRJ5KciT9X_sZpZ4pOpEANlj5GCtXuY2ecq=s64",
      "userId": "13491140841572947804"
     },
     "user_tz": -180
    },
    "id": "p8C8UL3FErSt",
    "outputId": "aa1c5bb0-7ed9-4096-f833-e764914ef85d"
   },
   "outputs": [],
   "source": [
    "!pip install sentence-transformers datasets"
   ]
  },
  {
   "cell_type": "markdown",
   "metadata": {
    "id": "Wy39a1JfE5xe"
   },
   "source": [
    "## Pruning"
   ]
  },
  {
   "cell_type": "code",
   "execution_count": null,
   "metadata": {
    "executionInfo": {
     "elapsed": 5199,
     "status": "ok",
     "timestamp": 1625344999062,
     "user": {
      "displayName": "meysam asgari chenaghlu",
      "photoUrl": "https://lh3.googleusercontent.com/a-/AOh14GgN-uRJ5KciT9X_sZpZ4pOpEANlj5GCtXuY2ecq=s64",
      "userId": "13491140841572947804"
     },
     "user_tz": -180
    },
    "id": "cly-vuCNFHk9"
   },
   "outputs": [],
   "source": [
    "from sentence_transformers import SentenceTransformer\n",
    "\n",
    "distilroberta = SentenceTransformer(\"stsb-distilroberta-base-v2\")"
   ]
  },
  {
   "cell_type": "code",
   "execution_count": null,
   "metadata": {
    "colab": {
     "base_uri": "https://localhost:8080/"
    },
    "executionInfo": {
     "elapsed": 1710,
     "status": "ok",
     "timestamp": 1625345002027,
     "user": {
      "displayName": "meysam asgari chenaghlu",
      "photoUrl": "https://lh3.googleusercontent.com/a-/AOh14GgN-uRJ5KciT9X_sZpZ4pOpEANlj5GCtXuY2ecq=s64",
      "userId": "13491140841572947804"
     },
     "user_tz": -180
    },
    "id": "1DoVK2XeFKh5",
    "outputId": "0487d5a7-a610-42d8-ddaf-0a609f701a5e"
   },
   "outputs": [],
   "source": [
    "from datasets import load_metric, load_dataset\n",
    "\n",
    "stsb_metric = load_metric(\"glue\", \"stsb\")\n",
    "stsb = load_dataset(\"glue\", \"stsb\")\n",
    "\n",
    "mrpc_metric = load_metric(\"glue\", \"mrpc\")\n",
    "mrpc = load_dataset(\"glue\", \"mrpc\")"
   ]
  },
  {
   "cell_type": "code",
   "execution_count": null,
   "metadata": {
    "executionInfo": {
     "elapsed": 296,
     "status": "ok",
     "timestamp": 1625345003284,
     "user": {
      "displayName": "meysam asgari chenaghlu",
      "photoUrl": "https://lh3.googleusercontent.com/a-/AOh14GgN-uRJ5KciT9X_sZpZ4pOpEANlj5GCtXuY2ecq=s64",
      "userId": "13491140841572947804"
     },
     "user_tz": -180
    },
    "id": "ycPwEniLFODi"
   },
   "outputs": [],
   "source": [
    "import math\n",
    "import tensorflow as tf\n",
    "\n",
    "\n",
    "def roberta_sts_benchmark(batch):\n",
    "    sts_encode1 = tf.nn.l2_normalize(distilroberta.encode(batch[\"sentence1\"]), axis=1)\n",
    "    sts_encode2 = tf.nn.l2_normalize(distilroberta.encode(batch[\"sentence2\"]), axis=1)\n",
    "    cosine_similarities = tf.reduce_sum(tf.multiply(sts_encode1, sts_encode2), axis=1)\n",
    "    clip_cosine_similarities = tf.clip_by_value(cosine_similarities, -1.0, 1.0)\n",
    "    scores = 1.0 - tf.acos(clip_cosine_similarities) / math.pi\n",
    "    return scores"
   ]
  },
  {
   "cell_type": "code",
   "execution_count": null,
   "metadata": {
    "executionInfo": {
     "elapsed": 271,
     "status": "ok",
     "timestamp": 1625345005720,
     "user": {
      "displayName": "meysam asgari chenaghlu",
      "photoUrl": "https://lh3.googleusercontent.com/a-/AOh14GgN-uRJ5KciT9X_sZpZ4pOpEANlj5GCtXuY2ecq=s64",
      "userId": "13491140841572947804"
     },
     "user_tz": -180
    },
    "id": "IydYPTeCFlO2"
   },
   "outputs": [],
   "source": [
    "references = stsb[\"validation\"][:][\"label\"]"
   ]
  },
  {
   "cell_type": "code",
   "execution_count": null,
   "metadata": {
    "executionInfo": {
     "elapsed": 97877,
     "status": "ok",
     "timestamp": 1625345104927,
     "user": {
      "displayName": "meysam asgari chenaghlu",
      "photoUrl": "https://lh3.googleusercontent.com/a-/AOh14GgN-uRJ5KciT9X_sZpZ4pOpEANlj5GCtXuY2ecq=s64",
      "userId": "13491140841572947804"
     },
     "user_tz": -180
    },
    "id": "ka-HdMFpFpFW"
   },
   "outputs": [],
   "source": [
    "distilroberta_results = roberta_sts_benchmark(stsb[\"validation\"])"
   ]
  },
  {
   "cell_type": "code",
   "execution_count": null,
   "metadata": {
    "executionInfo": {
     "elapsed": 387,
     "status": "ok",
     "timestamp": 1625345109880,
     "user": {
      "displayName": "meysam asgari chenaghlu",
      "photoUrl": "https://lh3.googleusercontent.com/a-/AOh14GgN-uRJ5KciT9X_sZpZ4pOpEANlj5GCtXuY2ecq=s64",
      "userId": "13491140841572947804"
     },
     "user_tz": -180
    },
    "id": "IYlO5BeKFq50"
   },
   "outputs": [],
   "source": [
    "from torch.nn.utils import prune\n",
    "\n",
    "pruner = prune.L1Unstructured(amount=0.2)"
   ]
  },
  {
   "cell_type": "code",
   "execution_count": null,
   "metadata": {
    "executionInfo": {
     "elapsed": 4866,
     "status": "ok",
     "timestamp": 1625345117136,
     "user": {
      "displayName": "meysam asgari chenaghlu",
      "photoUrl": "https://lh3.googleusercontent.com/a-/AOh14GgN-uRJ5KciT9X_sZpZ4pOpEANlj5GCtXuY2ecq=s64",
      "userId": "13491140841572947804"
     },
     "user_tz": -180
    },
    "id": "1qXqnGznFtQ4"
   },
   "outputs": [],
   "source": [
    "state_dict = distilroberta.state_dict()\n",
    "\n",
    "for key in state_dict.keys():\n",
    "    if \"weight\" in key:\n",
    "        state_dict[key] = pruner.prune(state_dict[key])"
   ]
  },
  {
   "cell_type": "code",
   "execution_count": null,
   "metadata": {
    "colab": {
     "base_uri": "https://localhost:8080/"
    },
    "executionInfo": {
     "elapsed": 405,
     "status": "ok",
     "timestamp": 1625345119401,
     "user": {
      "displayName": "meysam asgari chenaghlu",
      "photoUrl": "https://lh3.googleusercontent.com/a-/AOh14GgN-uRJ5KciT9X_sZpZ4pOpEANlj5GCtXuY2ecq=s64",
      "userId": "13491140841572947804"
     },
     "user_tz": -180
    },
    "id": "19GJYyJ6FwLg",
    "outputId": "5e19f70f-93ef-4297-8b96-10e862ed6a83"
   },
   "outputs": [],
   "source": [
    "distilroberta.load_state_dict(state_dict)"
   ]
  },
  {
   "cell_type": "code",
   "execution_count": null,
   "metadata": {
    "executionInfo": {
     "elapsed": 98171,
     "status": "ok",
     "timestamp": 1625345222378,
     "user": {
      "displayName": "meysam asgari chenaghlu",
      "photoUrl": "https://lh3.googleusercontent.com/a-/AOh14GgN-uRJ5KciT9X_sZpZ4pOpEANlj5GCtXuY2ecq=s64",
      "userId": "13491140841572947804"
     },
     "user_tz": -180
    },
    "id": "u1r813q8Fx6l"
   },
   "outputs": [],
   "source": [
    "distilroberta_results_p = roberta_sts_benchmark(stsb[\"validation\"])"
   ]
  },
  {
   "cell_type": "code",
   "execution_count": null,
   "metadata": {
    "colab": {
     "base_uri": "https://localhost:8080/",
     "height": 112
    },
    "executionInfo": {
     "elapsed": 319,
     "status": "ok",
     "timestamp": 1625345227118,
     "user": {
      "displayName": "meysam asgari chenaghlu",
      "photoUrl": "https://lh3.googleusercontent.com/a-/AOh14GgN-uRJ5KciT9X_sZpZ4pOpEANlj5GCtXuY2ecq=s64",
      "userId": "13491140841572947804"
     },
     "user_tz": -180
    },
    "id": "VsFGNOMoFz1c",
    "outputId": "6fd3db0c-4f5a-4848-a453-3fcc35b91bff"
   },
   "outputs": [],
   "source": [
    "import pandas as pd\n",
    "\n",
    "pd.DataFrame(\n",
    "    {\n",
    "        \"DistillRoberta\": stsb_metric.compute(\n",
    "            predictions=distilroberta_results, references=references\n",
    "        ),\n",
    "        \"DistillRobertaPruned\": stsb_metric.compute(\n",
    "            predictions=distilroberta_results_p, references=references\n",
    "        ),\n",
    "    }\n",
    ")"
   ]
  },
  {
   "cell_type": "markdown",
   "metadata": {
    "id": "x0zaDCTnF4J5"
   },
   "source": [
    "## Quantization"
   ]
  },
  {
   "cell_type": "code",
   "execution_count": null,
   "metadata": {
    "executionInfo": {
     "elapsed": 1033,
     "status": "ok",
     "timestamp": 1625345235049,
     "user": {
      "displayName": "meysam asgari chenaghlu",
      "photoUrl": "https://lh3.googleusercontent.com/a-/AOh14GgN-uRJ5KciT9X_sZpZ4pOpEANlj5GCtXuY2ecq=s64",
      "userId": "13491140841572947804"
     },
     "user_tz": -180
    },
    "id": "-vfbXIK-F8ur"
   },
   "outputs": [],
   "source": [
    "import torch\n",
    "\n",
    "distilroberta = torch.quantization.quantize_dynamic(\n",
    "    model=distilroberta,\n",
    "    qconfig_spec={torch.nn.Linear: torch.quantization.default_dynamic_qconfig},\n",
    "    dtype=torch.qint8,\n",
    ")"
   ]
  },
  {
   "cell_type": "code",
   "execution_count": null,
   "metadata": {
    "executionInfo": {
     "elapsed": 72101,
     "status": "ok",
     "timestamp": 1625345308340,
     "user": {
      "displayName": "meysam asgari chenaghlu",
      "photoUrl": "https://lh3.googleusercontent.com/a-/AOh14GgN-uRJ5KciT9X_sZpZ4pOpEANlj5GCtXuY2ecq=s64",
      "userId": "13491140841572947804"
     },
     "user_tz": -180
    },
    "id": "BxGgGRv3GKEc"
   },
   "outputs": [],
   "source": [
    "distilroberta_results_pq = roberta_sts_benchmark(stsb[\"validation\"])"
   ]
  },
  {
   "cell_type": "code",
   "execution_count": null,
   "metadata": {
    "colab": {
     "base_uri": "https://localhost:8080/",
     "height": 112
    },
    "executionInfo": {
     "elapsed": 34,
     "status": "ok",
     "timestamp": 1625345308352,
     "user": {
      "displayName": "meysam asgari chenaghlu",
      "photoUrl": "https://lh3.googleusercontent.com/a-/AOh14GgN-uRJ5KciT9X_sZpZ4pOpEANlj5GCtXuY2ecq=s64",
      "userId": "13491140841572947804"
     },
     "user_tz": -180
    },
    "id": "sKtwHEB4GNsx",
    "outputId": "d96cff0f-1bac-4c62-fb5c-f33d156bd4ba"
   },
   "outputs": [],
   "source": [
    "pd.DataFrame(\n",
    "    {\n",
    "        \"DistillRoberta\": stsb_metric.compute(\n",
    "            predictions=distilroberta_results, references=references\n",
    "        ),\n",
    "        \"DistillRobertaPruned\": stsb_metric.compute(\n",
    "            predictions=distilroberta_results_p, references=references\n",
    "        ),\n",
    "        \"DistillRobertaPrunedQINT8\": stsb_metric.compute(\n",
    "            predictions=distilroberta_results_pq, references=references\n",
    "        ),\n",
    "    }\n",
    ")"
   ]
  },
  {
   "cell_type": "code",
   "execution_count": null,
   "metadata": {
    "id": "UFaamx7yGRm5"
   },
   "outputs": [],
   "source": []
  }
 ],
 "metadata": {
  "colab": {
   "authorship_tag": "ABX9TyNVKSH9xOO12Wk/2IKAg7kQ",
   "name": "CH08a_Pruning_Quantization.ipynb",
   "provenance": []
  },
  "kernelspec": {
   "display_name": "Python 3 (ipykernel)",
   "language": "python",
   "name": "python3"
  },
  "language_info": {
   "codemirror_mode": {
    "name": "ipython",
    "version": 3
   },
   "file_extension": ".py",
   "mimetype": "text/x-python",
   "name": "python",
   "nbconvert_exporter": "python",
   "pygments_lexer": "ipython3",
   "version": "3.11.6"
  }
 },
 "nbformat": 4,
 "nbformat_minor": 4
}
